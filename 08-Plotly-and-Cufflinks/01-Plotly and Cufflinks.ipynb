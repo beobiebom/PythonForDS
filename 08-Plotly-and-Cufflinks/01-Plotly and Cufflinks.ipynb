{
 "cells": [
  {
   "cell_type": "markdown",
   "metadata": {},
   "source": [
    "___\n",
    "\n",
    "<a href='http://www.pieriandata.com'> <img src='../Pierian_Data_Logo.png' /></a>\n",
    "___\n",
    "# Plotly and Cufflinks"
   ]
  },
  {
   "cell_type": "markdown",
   "metadata": {},
   "source": [
    "Plotly is a library that allows you to create interactive plots that you can use in dashboards or websites (you can save them as html files or static images).\n",
    "\n",
    "## Installation\n",
    "\n",
    "In order for this all to work, you'll need to install plotly and cufflinks to call plots directly off of a pandas dataframe. These libraries are not currently available through **conda** but are available through **pip**. Install the libraries at your command line/terminal using:\n",
    "\n",
    "    pip install plotly\n",
    "    pip install cufflinks\n",
    "\n",
    "** NOTE: Make sure you only have one installation of Python on your computer when you do this, otherwise the installation may not work. **\n",
    "\n",
    "## Imports and Set-up"
   ]
  },
  {
   "cell_type": "code",
   "execution_count": 1,
   "metadata": {},
   "outputs": [],
   "source": [
    "import pandas as pd\n",
    "import numpy as np\n",
    "%matplotlib inline"
   ]
  },
  {
   "cell_type": "code",
   "execution_count": 2,
   "metadata": {},
   "outputs": [
    {
     "name": "stdout",
     "output_type": "stream",
     "text": [
      "4.14.3\n"
     ]
    }
   ],
   "source": [
    "from plotly import __version__\n",
    "from plotly.offline import download_plotlyjs, init_notebook_mode, plot, iplot\n",
    "\n",
    "print(__version__) # requires version >= 1.9.0"
   ]
  },
  {
   "cell_type": "code",
   "execution_count": 3,
   "metadata": {},
   "outputs": [],
   "source": [
    "import cufflinks as cf"
   ]
  },
  {
   "cell_type": "code",
   "execution_count": 4,
   "metadata": {},
   "outputs": [
    {
     "data": {
      "text/html": [
       "        <script type=\"text/javascript\">\n",
       "        window.PlotlyConfig = {MathJaxConfig: 'local'};\n",
       "        if (window.MathJax) {MathJax.Hub.Config({SVG: {font: \"STIX-Web\"}});}\n",
       "        if (typeof require !== 'undefined') {\n",
       "        require.undef(\"plotly\");\n",
       "        requirejs.config({\n",
       "            paths: {\n",
       "                'plotly': ['https://cdn.plot.ly/plotly-latest.min']\n",
       "            }\n",
       "        });\n",
       "        require(['plotly'], function(Plotly) {\n",
       "            window._Plotly = Plotly;\n",
       "        });\n",
       "        }\n",
       "        </script>\n",
       "        "
      ]
     },
     "metadata": {},
     "output_type": "display_data"
    }
   ],
   "source": [
    "# For Notebooks\n",
    "init_notebook_mode(connected=True)"
   ]
  },
  {
   "cell_type": "code",
   "execution_count": 5,
   "metadata": {},
   "outputs": [
    {
     "data": {
      "text/html": [
       "        <script type=\"text/javascript\">\n",
       "        window.PlotlyConfig = {MathJaxConfig: 'local'};\n",
       "        if (window.MathJax) {MathJax.Hub.Config({SVG: {font: \"STIX-Web\"}});}\n",
       "        if (typeof require !== 'undefined') {\n",
       "        require.undef(\"plotly\");\n",
       "        requirejs.config({\n",
       "            paths: {\n",
       "                'plotly': ['https://cdn.plot.ly/plotly-latest.min']\n",
       "            }\n",
       "        });\n",
       "        require(['plotly'], function(Plotly) {\n",
       "            window._Plotly = Plotly;\n",
       "        });\n",
       "        }\n",
       "        </script>\n",
       "        "
      ]
     },
     "metadata": {},
     "output_type": "display_data"
    }
   ],
   "source": [
    "# For offline use\n",
    "cf.go_offline()"
   ]
  },
  {
   "cell_type": "markdown",
   "metadata": {},
   "source": [
    "### Fake Data"
   ]
  },
  {
   "cell_type": "code",
   "execution_count": 6,
   "metadata": {},
   "outputs": [],
   "source": [
    "df = pd.DataFrame(np.random.randn(100,4),columns='A B C D'.split())"
   ]
  },
  {
   "cell_type": "code",
   "execution_count": 7,
   "metadata": {},
   "outputs": [
    {
     "data": {
      "text/html": [
       "<div>\n",
       "<style scoped>\n",
       "    .dataframe tbody tr th:only-of-type {\n",
       "        vertical-align: middle;\n",
       "    }\n",
       "\n",
       "    .dataframe tbody tr th {\n",
       "        vertical-align: top;\n",
       "    }\n",
       "\n",
       "    .dataframe thead th {\n",
       "        text-align: right;\n",
       "    }\n",
       "</style>\n",
       "<table border=\"1\" class=\"dataframe\">\n",
       "  <thead>\n",
       "    <tr style=\"text-align: right;\">\n",
       "      <th></th>\n",
       "      <th>A</th>\n",
       "      <th>B</th>\n",
       "      <th>C</th>\n",
       "      <th>D</th>\n",
       "    </tr>\n",
       "  </thead>\n",
       "  <tbody>\n",
       "    <tr>\n",
       "      <th>0</th>\n",
       "      <td>0.024183</td>\n",
       "      <td>-0.610234</td>\n",
       "      <td>-1.482225</td>\n",
       "      <td>1.841322</td>\n",
       "    </tr>\n",
       "    <tr>\n",
       "      <th>1</th>\n",
       "      <td>1.412433</td>\n",
       "      <td>-0.971037</td>\n",
       "      <td>0.809077</td>\n",
       "      <td>0.856525</td>\n",
       "    </tr>\n",
       "    <tr>\n",
       "      <th>2</th>\n",
       "      <td>-0.135256</td>\n",
       "      <td>-0.948074</td>\n",
       "      <td>-0.166302</td>\n",
       "      <td>0.099605</td>\n",
       "    </tr>\n",
       "    <tr>\n",
       "      <th>3</th>\n",
       "      <td>0.001605</td>\n",
       "      <td>-1.676003</td>\n",
       "      <td>1.638786</td>\n",
       "      <td>-0.239745</td>\n",
       "    </tr>\n",
       "    <tr>\n",
       "      <th>4</th>\n",
       "      <td>-0.910596</td>\n",
       "      <td>-0.382032</td>\n",
       "      <td>1.656762</td>\n",
       "      <td>-0.125375</td>\n",
       "    </tr>\n",
       "  </tbody>\n",
       "</table>\n",
       "</div>"
      ],
      "text/plain": [
       "          A         B         C         D\n",
       "0  0.024183 -0.610234 -1.482225  1.841322\n",
       "1  1.412433 -0.971037  0.809077  0.856525\n",
       "2 -0.135256 -0.948074 -0.166302  0.099605\n",
       "3  0.001605 -1.676003  1.638786 -0.239745\n",
       "4 -0.910596 -0.382032  1.656762 -0.125375"
      ]
     },
     "execution_count": 7,
     "metadata": {},
     "output_type": "execute_result"
    }
   ],
   "source": [
    "df.head()"
   ]
  },
  {
   "cell_type": "code",
   "execution_count": 8,
   "metadata": {},
   "outputs": [],
   "source": [
    "df2 = pd.DataFrame({'Category':['A','B','C'],'Values':[32,43,50]})"
   ]
  },
  {
   "cell_type": "code",
   "execution_count": 9,
   "metadata": {},
   "outputs": [
    {
     "data": {
      "text/html": [
       "<div>\n",
       "<style scoped>\n",
       "    .dataframe tbody tr th:only-of-type {\n",
       "        vertical-align: middle;\n",
       "    }\n",
       "\n",
       "    .dataframe tbody tr th {\n",
       "        vertical-align: top;\n",
       "    }\n",
       "\n",
       "    .dataframe thead th {\n",
       "        text-align: right;\n",
       "    }\n",
       "</style>\n",
       "<table border=\"1\" class=\"dataframe\">\n",
       "  <thead>\n",
       "    <tr style=\"text-align: right;\">\n",
       "      <th></th>\n",
       "      <th>Category</th>\n",
       "      <th>Values</th>\n",
       "    </tr>\n",
       "  </thead>\n",
       "  <tbody>\n",
       "    <tr>\n",
       "      <th>0</th>\n",
       "      <td>A</td>\n",
       "      <td>32</td>\n",
       "    </tr>\n",
       "    <tr>\n",
       "      <th>1</th>\n",
       "      <td>B</td>\n",
       "      <td>43</td>\n",
       "    </tr>\n",
       "    <tr>\n",
       "      <th>2</th>\n",
       "      <td>C</td>\n",
       "      <td>50</td>\n",
       "    </tr>\n",
       "  </tbody>\n",
       "</table>\n",
       "</div>"
      ],
      "text/plain": [
       "  Category  Values\n",
       "0        A      32\n",
       "1        B      43\n",
       "2        C      50"
      ]
     },
     "execution_count": 9,
     "metadata": {},
     "output_type": "execute_result"
    }
   ],
   "source": [
    "df2.head()"
   ]
  },
  {
   "cell_type": "markdown",
   "metadata": {},
   "source": [
    "## Using Cufflinks and iplot()\n",
    "\n",
    "* scatter\n",
    "* bar\n",
    "* box\n",
    "* spread\n",
    "* ratio\n",
    "* heatmap\n",
    "* surface\n",
    "* histogram\n",
    "* bubble"
   ]
  },
  {
   "cell_type": "markdown",
   "metadata": {},
   "source": [
    "## Scatter"
   ]
  },
  {
   "cell_type": "code",
   "execution_count": 12,
   "metadata": {},
   "outputs": [
    {
     "data": {
      "application/vnd.plotly.v1+json": {
       "config": {
        "linkText": "Export to plot.ly",
        "plotlyServerURL": "https://plot.ly",
        "showLink": true
       },
       "data": [
        {
         "line": {
          "color": "rgba(255, 153, 51, 1.0)",
          "dash": "solid",
          "shape": "linear",
          "width": 1.3
         },
         "marker": {
          "size": 10,
          "symbol": "circle"
         },
         "mode": "markers",
         "name": "B",
         "text": "",
         "type": "scatter",
         "x": [
          0.02418255092478402,
          1.4124332686573349,
          -0.13525596911342286,
          0.001604930911478157,
          -0.9105956985942159,
          -1.4680016670962617,
          1.430476253728598,
          0.0025982330885907902,
          0.43513341996103283,
          0.2580753610917117,
          0.13993826661469347,
          1.7234572535358355,
          2.3204602879846727,
          1.2737204472952532,
          -0.08375671610624877,
          0.8367304082537872,
          0.8856500383374242,
          1.6203057277463047,
          0.974100562542249,
          2.1785110991502465,
          0.33322982293518144,
          1.0012374120729912,
          -0.22288148927199683,
          -0.24484110703315345,
          0.7631769279082232,
          -0.5116905222642862,
          1.2500553392229015,
          1.6734788123657236,
          0.027518947240214735,
          -0.7983358088554204,
          -0.49171758291318074,
          -0.27106967454582714,
          0.766183734686007,
          -1.3675070970846126,
          0.5939572485654466,
          0.8557880245841908,
          -0.8364234928119776,
          -0.6767362402087117,
          0.01396582009759249,
          0.915141586077435,
          -0.15623247886002578,
          -1.9335014479961519,
          1.4671043099545935,
          -0.6301124273367666,
          0.05860580022499844,
          -0.9133003541027503,
          0.43691841613140603,
          0.9963060371899947,
          0.6147413907410918,
          -1.365124781881899,
          -0.6027455916713371,
          3.0736744047017215,
          -1.6952632501918714,
          -0.22608522663974726,
          0.8700112458827138,
          -0.15621201928283715,
          -0.8247541113628685,
          -0.8655608065906176,
          -1.6120885416801292,
          0.0031504965402953077,
          -0.6448343775410306,
          1.0644949797114138,
          0.42552743644512264,
          0.6456236961322278,
          1.3638438624592204,
          0.09950609702610812,
          -0.7693502207479467,
          2.715560197484808,
          0.2247948496982734,
          0.28111821963032396,
          -0.18519220005543738,
          -0.5234473437246925,
          1.012101190998599,
          0.9884856272802723,
          -0.226675147824472,
          -0.9638329549131603,
          0.7088628883810655,
          -0.3263404292955781,
          -0.5125669490635824,
          0.9517259677399895,
          -0.6628998233274814,
          0.2187279737119685,
          1.1202185657938788,
          -0.14016672992536683,
          0.44082966349417685,
          -1.3245534875698688,
          -1.5823330739577055,
          0.8244531610855222,
          -1.9593031192504786,
          -1.1089292687189625,
          -1.1182447102003847,
          -0.45480982570416295,
          -0.296793564653928,
          1.5878046221167919,
          1.374332917992649,
          -0.24786230987615668,
          1.5673667662161475,
          -0.4394080578558695,
          -1.1824195861775926,
          0.03740498870195939
         ],
         "y": [
          -0.6102335170839107,
          -0.9710369318417905,
          -0.9480739393075344,
          -1.676003017413596,
          -0.3820316846994015,
          1.248187457289369,
          -0.20313237117196004,
          -0.6847999038072383,
          -0.577822331333397,
          -0.47343898185552974,
          0.7735077432040708,
          -0.3890225647449885,
          -1.5839717695777258,
          -0.18396609141418538,
          0.8441685381337801,
          -0.32121071927259437,
          -0.8333458332959722,
          0.1526080081394603,
          0.04427005875258501,
          -0.9995460511137874,
          0.5185781317951451,
          -0.37525441900014744,
          -0.35391711563001743,
          0.2958100896713398,
          -1.554631964524844,
          0.9734982928696615,
          1.156456680176443,
          -3.446972365749674,
          -1.4369233480613757,
          -0.5131972065999714,
          -0.1533060974862162,
          -0.6420671230755272,
          1.9121528650164141,
          -1.732189561513945,
          -0.568829933223316,
          -0.8289198969436872,
          0.9857338423029945,
          -0.16875002254092844,
          0.520305449559314,
          0.9692951697945432,
          -0.4700153973051017,
          -0.7469452557471943,
          0.5728679263672458,
          -0.5254254939727879,
          0.6067041255921578,
          -1.1210992465699108,
          1.0748757803146947,
          -0.2693578519128005,
          0.22803034037492176,
          0.7145190858033147,
          -0.33344888387870936,
          0.2729215287196743,
          -0.5122632100357751,
          1.5184432981845304,
          0.5654976615899828,
          -1.3108541817564887,
          0.016015469456314695,
          -0.2941555859719508,
          2.2484149968966243,
          0.7828625366306573,
          -0.49030219522657026,
          -0.3251183307967059,
          1.2259381852354712,
          -2.2739120418948136,
          -0.6037445544162928,
          -0.797339076093402,
          -0.6567538098764124,
          0.7713495050284005,
          -0.5750952796382053,
          0.6010576969761167,
          1.7550659323733178,
          0.1708433308252719,
          -0.1865103778259708,
          -0.5273597245855,
          -1.1325712454478007,
          -2.8818658262186503,
          -1.017236508220063,
          -0.23623498214018093,
          -1.2645406948234912,
          -0.27414361693433636,
          0.8007626898677763,
          0.06024487297764325,
          -1.2032849841909061,
          0.8179600966226154,
          0.1159294722628362,
          0.5953100901779639,
          -1.509306521205705,
          -0.6071347048695965,
          -1.2745460556949773,
          2.413037451329037,
          -1.4111308006706955,
          0.12932195011759348,
          -0.27333782615868074,
          0.310401427435977,
          2.110947087034131,
          3.352388449587422,
          0.7219835346354952,
          0.0027189718510191667,
          0.4745274324425321,
          -0.4418863011588058
         ]
        }
       ],
       "layout": {
        "legend": {
         "bgcolor": "#F5F6F9",
         "font": {
          "color": "#4D5663"
         }
        },
        "paper_bgcolor": "#F5F6F9",
        "plot_bgcolor": "#F5F6F9",
        "template": {
         "data": {
          "bar": [
           {
            "error_x": {
             "color": "#2a3f5f"
            },
            "error_y": {
             "color": "#2a3f5f"
            },
            "marker": {
             "line": {
              "color": "#E5ECF6",
              "width": 0.5
             }
            },
            "type": "bar"
           }
          ],
          "barpolar": [
           {
            "marker": {
             "line": {
              "color": "#E5ECF6",
              "width": 0.5
             }
            },
            "type": "barpolar"
           }
          ],
          "carpet": [
           {
            "aaxis": {
             "endlinecolor": "#2a3f5f",
             "gridcolor": "white",
             "linecolor": "white",
             "minorgridcolor": "white",
             "startlinecolor": "#2a3f5f"
            },
            "baxis": {
             "endlinecolor": "#2a3f5f",
             "gridcolor": "white",
             "linecolor": "white",
             "minorgridcolor": "white",
             "startlinecolor": "#2a3f5f"
            },
            "type": "carpet"
           }
          ],
          "choropleth": [
           {
            "colorbar": {
             "outlinewidth": 0,
             "ticks": ""
            },
            "type": "choropleth"
           }
          ],
          "contour": [
           {
            "colorbar": {
             "outlinewidth": 0,
             "ticks": ""
            },
            "colorscale": [
             [
              0,
              "#0d0887"
             ],
             [
              0.1111111111111111,
              "#46039f"
             ],
             [
              0.2222222222222222,
              "#7201a8"
             ],
             [
              0.3333333333333333,
              "#9c179e"
             ],
             [
              0.4444444444444444,
              "#bd3786"
             ],
             [
              0.5555555555555556,
              "#d8576b"
             ],
             [
              0.6666666666666666,
              "#ed7953"
             ],
             [
              0.7777777777777778,
              "#fb9f3a"
             ],
             [
              0.8888888888888888,
              "#fdca26"
             ],
             [
              1,
              "#f0f921"
             ]
            ],
            "type": "contour"
           }
          ],
          "contourcarpet": [
           {
            "colorbar": {
             "outlinewidth": 0,
             "ticks": ""
            },
            "type": "contourcarpet"
           }
          ],
          "heatmap": [
           {
            "colorbar": {
             "outlinewidth": 0,
             "ticks": ""
            },
            "colorscale": [
             [
              0,
              "#0d0887"
             ],
             [
              0.1111111111111111,
              "#46039f"
             ],
             [
              0.2222222222222222,
              "#7201a8"
             ],
             [
              0.3333333333333333,
              "#9c179e"
             ],
             [
              0.4444444444444444,
              "#bd3786"
             ],
             [
              0.5555555555555556,
              "#d8576b"
             ],
             [
              0.6666666666666666,
              "#ed7953"
             ],
             [
              0.7777777777777778,
              "#fb9f3a"
             ],
             [
              0.8888888888888888,
              "#fdca26"
             ],
             [
              1,
              "#f0f921"
             ]
            ],
            "type": "heatmap"
           }
          ],
          "heatmapgl": [
           {
            "colorbar": {
             "outlinewidth": 0,
             "ticks": ""
            },
            "colorscale": [
             [
              0,
              "#0d0887"
             ],
             [
              0.1111111111111111,
              "#46039f"
             ],
             [
              0.2222222222222222,
              "#7201a8"
             ],
             [
              0.3333333333333333,
              "#9c179e"
             ],
             [
              0.4444444444444444,
              "#bd3786"
             ],
             [
              0.5555555555555556,
              "#d8576b"
             ],
             [
              0.6666666666666666,
              "#ed7953"
             ],
             [
              0.7777777777777778,
              "#fb9f3a"
             ],
             [
              0.8888888888888888,
              "#fdca26"
             ],
             [
              1,
              "#f0f921"
             ]
            ],
            "type": "heatmapgl"
           }
          ],
          "histogram": [
           {
            "marker": {
             "colorbar": {
              "outlinewidth": 0,
              "ticks": ""
             }
            },
            "type": "histogram"
           }
          ],
          "histogram2d": [
           {
            "colorbar": {
             "outlinewidth": 0,
             "ticks": ""
            },
            "colorscale": [
             [
              0,
              "#0d0887"
             ],
             [
              0.1111111111111111,
              "#46039f"
             ],
             [
              0.2222222222222222,
              "#7201a8"
             ],
             [
              0.3333333333333333,
              "#9c179e"
             ],
             [
              0.4444444444444444,
              "#bd3786"
             ],
             [
              0.5555555555555556,
              "#d8576b"
             ],
             [
              0.6666666666666666,
              "#ed7953"
             ],
             [
              0.7777777777777778,
              "#fb9f3a"
             ],
             [
              0.8888888888888888,
              "#fdca26"
             ],
             [
              1,
              "#f0f921"
             ]
            ],
            "type": "histogram2d"
           }
          ],
          "histogram2dcontour": [
           {
            "colorbar": {
             "outlinewidth": 0,
             "ticks": ""
            },
            "colorscale": [
             [
              0,
              "#0d0887"
             ],
             [
              0.1111111111111111,
              "#46039f"
             ],
             [
              0.2222222222222222,
              "#7201a8"
             ],
             [
              0.3333333333333333,
              "#9c179e"
             ],
             [
              0.4444444444444444,
              "#bd3786"
             ],
             [
              0.5555555555555556,
              "#d8576b"
             ],
             [
              0.6666666666666666,
              "#ed7953"
             ],
             [
              0.7777777777777778,
              "#fb9f3a"
             ],
             [
              0.8888888888888888,
              "#fdca26"
             ],
             [
              1,
              "#f0f921"
             ]
            ],
            "type": "histogram2dcontour"
           }
          ],
          "mesh3d": [
           {
            "colorbar": {
             "outlinewidth": 0,
             "ticks": ""
            },
            "type": "mesh3d"
           }
          ],
          "parcoords": [
           {
            "line": {
             "colorbar": {
              "outlinewidth": 0,
              "ticks": ""
             }
            },
            "type": "parcoords"
           }
          ],
          "pie": [
           {
            "automargin": true,
            "type": "pie"
           }
          ],
          "scatter": [
           {
            "marker": {
             "colorbar": {
              "outlinewidth": 0,
              "ticks": ""
             }
            },
            "type": "scatter"
           }
          ],
          "scatter3d": [
           {
            "line": {
             "colorbar": {
              "outlinewidth": 0,
              "ticks": ""
             }
            },
            "marker": {
             "colorbar": {
              "outlinewidth": 0,
              "ticks": ""
             }
            },
            "type": "scatter3d"
           }
          ],
          "scattercarpet": [
           {
            "marker": {
             "colorbar": {
              "outlinewidth": 0,
              "ticks": ""
             }
            },
            "type": "scattercarpet"
           }
          ],
          "scattergeo": [
           {
            "marker": {
             "colorbar": {
              "outlinewidth": 0,
              "ticks": ""
             }
            },
            "type": "scattergeo"
           }
          ],
          "scattergl": [
           {
            "marker": {
             "colorbar": {
              "outlinewidth": 0,
              "ticks": ""
             }
            },
            "type": "scattergl"
           }
          ],
          "scattermapbox": [
           {
            "marker": {
             "colorbar": {
              "outlinewidth": 0,
              "ticks": ""
             }
            },
            "type": "scattermapbox"
           }
          ],
          "scatterpolar": [
           {
            "marker": {
             "colorbar": {
              "outlinewidth": 0,
              "ticks": ""
             }
            },
            "type": "scatterpolar"
           }
          ],
          "scatterpolargl": [
           {
            "marker": {
             "colorbar": {
              "outlinewidth": 0,
              "ticks": ""
             }
            },
            "type": "scatterpolargl"
           }
          ],
          "scatterternary": [
           {
            "marker": {
             "colorbar": {
              "outlinewidth": 0,
              "ticks": ""
             }
            },
            "type": "scatterternary"
           }
          ],
          "surface": [
           {
            "colorbar": {
             "outlinewidth": 0,
             "ticks": ""
            },
            "colorscale": [
             [
              0,
              "#0d0887"
             ],
             [
              0.1111111111111111,
              "#46039f"
             ],
             [
              0.2222222222222222,
              "#7201a8"
             ],
             [
              0.3333333333333333,
              "#9c179e"
             ],
             [
              0.4444444444444444,
              "#bd3786"
             ],
             [
              0.5555555555555556,
              "#d8576b"
             ],
             [
              0.6666666666666666,
              "#ed7953"
             ],
             [
              0.7777777777777778,
              "#fb9f3a"
             ],
             [
              0.8888888888888888,
              "#fdca26"
             ],
             [
              1,
              "#f0f921"
             ]
            ],
            "type": "surface"
           }
          ],
          "table": [
           {
            "cells": {
             "fill": {
              "color": "#EBF0F8"
             },
             "line": {
              "color": "white"
             }
            },
            "header": {
             "fill": {
              "color": "#C8D4E3"
             },
             "line": {
              "color": "white"
             }
            },
            "type": "table"
           }
          ]
         },
         "layout": {
          "annotationdefaults": {
           "arrowcolor": "#2a3f5f",
           "arrowhead": 0,
           "arrowwidth": 1
          },
          "autotypenumbers": "strict",
          "coloraxis": {
           "colorbar": {
            "outlinewidth": 0,
            "ticks": ""
           }
          },
          "colorscale": {
           "diverging": [
            [
             0,
             "#8e0152"
            ],
            [
             0.1,
             "#c51b7d"
            ],
            [
             0.2,
             "#de77ae"
            ],
            [
             0.3,
             "#f1b6da"
            ],
            [
             0.4,
             "#fde0ef"
            ],
            [
             0.5,
             "#f7f7f7"
            ],
            [
             0.6,
             "#e6f5d0"
            ],
            [
             0.7,
             "#b8e186"
            ],
            [
             0.8,
             "#7fbc41"
            ],
            [
             0.9,
             "#4d9221"
            ],
            [
             1,
             "#276419"
            ]
           ],
           "sequential": [
            [
             0,
             "#0d0887"
            ],
            [
             0.1111111111111111,
             "#46039f"
            ],
            [
             0.2222222222222222,
             "#7201a8"
            ],
            [
             0.3333333333333333,
             "#9c179e"
            ],
            [
             0.4444444444444444,
             "#bd3786"
            ],
            [
             0.5555555555555556,
             "#d8576b"
            ],
            [
             0.6666666666666666,
             "#ed7953"
            ],
            [
             0.7777777777777778,
             "#fb9f3a"
            ],
            [
             0.8888888888888888,
             "#fdca26"
            ],
            [
             1,
             "#f0f921"
            ]
           ],
           "sequentialminus": [
            [
             0,
             "#0d0887"
            ],
            [
             0.1111111111111111,
             "#46039f"
            ],
            [
             0.2222222222222222,
             "#7201a8"
            ],
            [
             0.3333333333333333,
             "#9c179e"
            ],
            [
             0.4444444444444444,
             "#bd3786"
            ],
            [
             0.5555555555555556,
             "#d8576b"
            ],
            [
             0.6666666666666666,
             "#ed7953"
            ],
            [
             0.7777777777777778,
             "#fb9f3a"
            ],
            [
             0.8888888888888888,
             "#fdca26"
            ],
            [
             1,
             "#f0f921"
            ]
           ]
          },
          "colorway": [
           "#636efa",
           "#EF553B",
           "#00cc96",
           "#ab63fa",
           "#FFA15A",
           "#19d3f3",
           "#FF6692",
           "#B6E880",
           "#FF97FF",
           "#FECB52"
          ],
          "font": {
           "color": "#2a3f5f"
          },
          "geo": {
           "bgcolor": "white",
           "lakecolor": "white",
           "landcolor": "#E5ECF6",
           "showlakes": true,
           "showland": true,
           "subunitcolor": "white"
          },
          "hoverlabel": {
           "align": "left"
          },
          "hovermode": "closest",
          "mapbox": {
           "style": "light"
          },
          "paper_bgcolor": "white",
          "plot_bgcolor": "#E5ECF6",
          "polar": {
           "angularaxis": {
            "gridcolor": "white",
            "linecolor": "white",
            "ticks": ""
           },
           "bgcolor": "#E5ECF6",
           "radialaxis": {
            "gridcolor": "white",
            "linecolor": "white",
            "ticks": ""
           }
          },
          "scene": {
           "xaxis": {
            "backgroundcolor": "#E5ECF6",
            "gridcolor": "white",
            "gridwidth": 2,
            "linecolor": "white",
            "showbackground": true,
            "ticks": "",
            "zerolinecolor": "white"
           },
           "yaxis": {
            "backgroundcolor": "#E5ECF6",
            "gridcolor": "white",
            "gridwidth": 2,
            "linecolor": "white",
            "showbackground": true,
            "ticks": "",
            "zerolinecolor": "white"
           },
           "zaxis": {
            "backgroundcolor": "#E5ECF6",
            "gridcolor": "white",
            "gridwidth": 2,
            "linecolor": "white",
            "showbackground": true,
            "ticks": "",
            "zerolinecolor": "white"
           }
          },
          "shapedefaults": {
           "line": {
            "color": "#2a3f5f"
           }
          },
          "ternary": {
           "aaxis": {
            "gridcolor": "white",
            "linecolor": "white",
            "ticks": ""
           },
           "baxis": {
            "gridcolor": "white",
            "linecolor": "white",
            "ticks": ""
           },
           "bgcolor": "#E5ECF6",
           "caxis": {
            "gridcolor": "white",
            "linecolor": "white",
            "ticks": ""
           }
          },
          "title": {
           "x": 0.05
          },
          "xaxis": {
           "automargin": true,
           "gridcolor": "white",
           "linecolor": "white",
           "ticks": "",
           "title": {
            "standoff": 15
           },
           "zerolinecolor": "white",
           "zerolinewidth": 2
          },
          "yaxis": {
           "automargin": true,
           "gridcolor": "white",
           "linecolor": "white",
           "ticks": "",
           "title": {
            "standoff": 15
           },
           "zerolinecolor": "white",
           "zerolinewidth": 2
          }
         }
        },
        "title": {
         "font": {
          "color": "#4D5663"
         }
        },
        "xaxis": {
         "gridcolor": "#E1E5ED",
         "showgrid": true,
         "tickfont": {
          "color": "#4D5663"
         },
         "title": {
          "font": {
           "color": "#4D5663"
          },
          "text": ""
         },
         "zerolinecolor": "#E1E5ED"
        },
        "yaxis": {
         "gridcolor": "#E1E5ED",
         "showgrid": true,
         "tickfont": {
          "color": "#4D5663"
         },
         "title": {
          "font": {
           "color": "#4D5663"
          },
          "text": ""
         },
         "zerolinecolor": "#E1E5ED"
        }
       }
      },
      "text/html": [
       "<div>                            <div id=\"3ac7dac5-a23d-472a-8944-c83720324169\" class=\"plotly-graph-div\" style=\"height:525px; width:100%;\"></div>            <script type=\"text/javascript\">                require([\"plotly\"], function(Plotly) {                    window.PLOTLYENV=window.PLOTLYENV || {};\n",
       "                    window.PLOTLYENV.BASE_URL='https://plot.ly';                                    if (document.getElementById(\"3ac7dac5-a23d-472a-8944-c83720324169\")) {                    Plotly.newPlot(                        \"3ac7dac5-a23d-472a-8944-c83720324169\",                        [{\"line\": {\"color\": \"rgba(255, 153, 51, 1.0)\", \"dash\": \"solid\", \"shape\": \"linear\", \"width\": 1.3}, \"marker\": {\"size\": 10, \"symbol\": \"circle\"}, \"mode\": \"markers\", \"name\": \"B\", \"text\": \"\", \"type\": \"scatter\", \"x\": [0.02418255092478402, 1.4124332686573349, -0.13525596911342286, 0.001604930911478157, -0.9105956985942159, -1.4680016670962617, 1.430476253728598, 0.0025982330885907902, 0.43513341996103283, 0.2580753610917117, 0.13993826661469347, 1.7234572535358355, 2.3204602879846727, 1.2737204472952532, -0.08375671610624877, 0.8367304082537872, 0.8856500383374242, 1.6203057277463047, 0.974100562542249, 2.1785110991502465, 0.33322982293518144, 1.0012374120729912, -0.22288148927199683, -0.24484110703315345, 0.7631769279082232, -0.5116905222642862, 1.2500553392229015, 1.6734788123657236, 0.027518947240214735, -0.7983358088554204, -0.49171758291318074, -0.27106967454582714, 0.766183734686007, -1.3675070970846126, 0.5939572485654466, 0.8557880245841908, -0.8364234928119776, -0.6767362402087117, 0.01396582009759249, 0.915141586077435, -0.15623247886002578, -1.9335014479961519, 1.4671043099545935, -0.6301124273367666, 0.05860580022499844, -0.9133003541027503, 0.43691841613140603, 0.9963060371899947, 0.6147413907410918, -1.365124781881899, -0.6027455916713371, 3.0736744047017215, -1.6952632501918714, -0.22608522663974726, 0.8700112458827138, -0.15621201928283715, -0.8247541113628685, -0.8655608065906176, -1.6120885416801292, 0.0031504965402953077, -0.6448343775410306, 1.0644949797114138, 0.42552743644512264, 0.6456236961322278, 1.3638438624592204, 0.09950609702610812, -0.7693502207479467, 2.715560197484808, 0.2247948496982734, 0.28111821963032396, -0.18519220005543738, -0.5234473437246925, 1.012101190998599, 0.9884856272802723, -0.226675147824472, -0.9638329549131603, 0.7088628883810655, -0.3263404292955781, -0.5125669490635824, 0.9517259677399895, -0.6628998233274814, 0.2187279737119685, 1.1202185657938788, -0.14016672992536683, 0.44082966349417685, -1.3245534875698688, -1.5823330739577055, 0.8244531610855222, -1.9593031192504786, -1.1089292687189625, -1.1182447102003847, -0.45480982570416295, -0.296793564653928, 1.5878046221167919, 1.374332917992649, -0.24786230987615668, 1.5673667662161475, -0.4394080578558695, -1.1824195861775926, 0.03740498870195939], \"y\": [-0.6102335170839107, -0.9710369318417905, -0.9480739393075344, -1.676003017413596, -0.3820316846994015, 1.248187457289369, -0.20313237117196004, -0.6847999038072383, -0.577822331333397, -0.47343898185552974, 0.7735077432040708, -0.3890225647449885, -1.5839717695777258, -0.18396609141418538, 0.8441685381337801, -0.32121071927259437, -0.8333458332959722, 0.1526080081394603, 0.04427005875258501, -0.9995460511137874, 0.5185781317951451, -0.37525441900014744, -0.35391711563001743, 0.2958100896713398, -1.554631964524844, 0.9734982928696615, 1.156456680176443, -3.446972365749674, -1.4369233480613757, -0.5131972065999714, -0.1533060974862162, -0.6420671230755272, 1.9121528650164141, -1.732189561513945, -0.568829933223316, -0.8289198969436872, 0.9857338423029945, -0.16875002254092844, 0.520305449559314, 0.9692951697945432, -0.4700153973051017, -0.7469452557471943, 0.5728679263672458, -0.5254254939727879, 0.6067041255921578, -1.1210992465699108, 1.0748757803146947, -0.2693578519128005, 0.22803034037492176, 0.7145190858033147, -0.33344888387870936, 0.2729215287196743, -0.5122632100357751, 1.5184432981845304, 0.5654976615899828, -1.3108541817564887, 0.016015469456314695, -0.2941555859719508, 2.2484149968966243, 0.7828625366306573, -0.49030219522657026, -0.3251183307967059, 1.2259381852354712, -2.2739120418948136, -0.6037445544162928, -0.797339076093402, -0.6567538098764124, 0.7713495050284005, -0.5750952796382053, 0.6010576969761167, 1.7550659323733178, 0.1708433308252719, -0.1865103778259708, -0.5273597245855, -1.1325712454478007, -2.8818658262186503, -1.017236508220063, -0.23623498214018093, -1.2645406948234912, -0.27414361693433636, 0.8007626898677763, 0.06024487297764325, -1.2032849841909061, 0.8179600966226154, 0.1159294722628362, 0.5953100901779639, -1.509306521205705, -0.6071347048695965, -1.2745460556949773, 2.413037451329037, -1.4111308006706955, 0.12932195011759348, -0.27333782615868074, 0.310401427435977, 2.110947087034131, 3.352388449587422, 0.7219835346354952, 0.0027189718510191667, 0.4745274324425321, -0.4418863011588058]}],                        {\"legend\": {\"bgcolor\": \"#F5F6F9\", \"font\": {\"color\": \"#4D5663\"}}, \"paper_bgcolor\": \"#F5F6F9\", \"plot_bgcolor\": \"#F5F6F9\", \"template\": {\"data\": {\"bar\": [{\"error_x\": {\"color\": \"#2a3f5f\"}, \"error_y\": {\"color\": \"#2a3f5f\"}, \"marker\": {\"line\": {\"color\": \"#E5ECF6\", \"width\": 0.5}}, \"type\": \"bar\"}], \"barpolar\": [{\"marker\": {\"line\": {\"color\": \"#E5ECF6\", \"width\": 0.5}}, \"type\": \"barpolar\"}], \"carpet\": [{\"aaxis\": {\"endlinecolor\": \"#2a3f5f\", \"gridcolor\": \"white\", \"linecolor\": \"white\", \"minorgridcolor\": \"white\", \"startlinecolor\": \"#2a3f5f\"}, \"baxis\": {\"endlinecolor\": \"#2a3f5f\", \"gridcolor\": \"white\", \"linecolor\": \"white\", \"minorgridcolor\": \"white\", \"startlinecolor\": \"#2a3f5f\"}, \"type\": \"carpet\"}], \"choropleth\": [{\"colorbar\": {\"outlinewidth\": 0, \"ticks\": \"\"}, \"type\": \"choropleth\"}], \"contour\": [{\"colorbar\": {\"outlinewidth\": 0, \"ticks\": \"\"}, \"colorscale\": [[0.0, \"#0d0887\"], [0.1111111111111111, \"#46039f\"], [0.2222222222222222, \"#7201a8\"], [0.3333333333333333, \"#9c179e\"], [0.4444444444444444, \"#bd3786\"], [0.5555555555555556, \"#d8576b\"], [0.6666666666666666, \"#ed7953\"], [0.7777777777777778, \"#fb9f3a\"], [0.8888888888888888, \"#fdca26\"], [1.0, \"#f0f921\"]], \"type\": \"contour\"}], \"contourcarpet\": [{\"colorbar\": {\"outlinewidth\": 0, \"ticks\": \"\"}, \"type\": \"contourcarpet\"}], \"heatmap\": [{\"colorbar\": {\"outlinewidth\": 0, \"ticks\": \"\"}, \"colorscale\": [[0.0, \"#0d0887\"], [0.1111111111111111, \"#46039f\"], [0.2222222222222222, \"#7201a8\"], [0.3333333333333333, \"#9c179e\"], [0.4444444444444444, \"#bd3786\"], [0.5555555555555556, \"#d8576b\"], [0.6666666666666666, \"#ed7953\"], [0.7777777777777778, \"#fb9f3a\"], [0.8888888888888888, \"#fdca26\"], [1.0, \"#f0f921\"]], \"type\": \"heatmap\"}], \"heatmapgl\": [{\"colorbar\": {\"outlinewidth\": 0, \"ticks\": \"\"}, \"colorscale\": [[0.0, \"#0d0887\"], [0.1111111111111111, \"#46039f\"], [0.2222222222222222, \"#7201a8\"], [0.3333333333333333, \"#9c179e\"], [0.4444444444444444, \"#bd3786\"], [0.5555555555555556, \"#d8576b\"], [0.6666666666666666, \"#ed7953\"], [0.7777777777777778, \"#fb9f3a\"], [0.8888888888888888, \"#fdca26\"], [1.0, \"#f0f921\"]], \"type\": \"heatmapgl\"}], \"histogram\": [{\"marker\": {\"colorbar\": {\"outlinewidth\": 0, \"ticks\": \"\"}}, \"type\": \"histogram\"}], \"histogram2d\": [{\"colorbar\": {\"outlinewidth\": 0, \"ticks\": \"\"}, \"colorscale\": [[0.0, \"#0d0887\"], [0.1111111111111111, \"#46039f\"], [0.2222222222222222, \"#7201a8\"], [0.3333333333333333, \"#9c179e\"], [0.4444444444444444, \"#bd3786\"], [0.5555555555555556, \"#d8576b\"], [0.6666666666666666, \"#ed7953\"], [0.7777777777777778, \"#fb9f3a\"], [0.8888888888888888, \"#fdca26\"], [1.0, \"#f0f921\"]], \"type\": \"histogram2d\"}], \"histogram2dcontour\": [{\"colorbar\": {\"outlinewidth\": 0, \"ticks\": \"\"}, \"colorscale\": [[0.0, \"#0d0887\"], [0.1111111111111111, \"#46039f\"], [0.2222222222222222, \"#7201a8\"], [0.3333333333333333, \"#9c179e\"], [0.4444444444444444, \"#bd3786\"], [0.5555555555555556, \"#d8576b\"], [0.6666666666666666, \"#ed7953\"], [0.7777777777777778, \"#fb9f3a\"], [0.8888888888888888, \"#fdca26\"], [1.0, \"#f0f921\"]], \"type\": \"histogram2dcontour\"}], \"mesh3d\": [{\"colorbar\": {\"outlinewidth\": 0, \"ticks\": \"\"}, \"type\": \"mesh3d\"}], \"parcoords\": [{\"line\": {\"colorbar\": {\"outlinewidth\": 0, \"ticks\": \"\"}}, \"type\": \"parcoords\"}], \"pie\": [{\"automargin\": true, \"type\": \"pie\"}], \"scatter\": [{\"marker\": {\"colorbar\": {\"outlinewidth\": 0, \"ticks\": \"\"}}, \"type\": \"scatter\"}], \"scatter3d\": [{\"line\": {\"colorbar\": {\"outlinewidth\": 0, \"ticks\": \"\"}}, \"marker\": {\"colorbar\": {\"outlinewidth\": 0, \"ticks\": \"\"}}, \"type\": \"scatter3d\"}], \"scattercarpet\": [{\"marker\": {\"colorbar\": {\"outlinewidth\": 0, \"ticks\": \"\"}}, \"type\": \"scattercarpet\"}], \"scattergeo\": [{\"marker\": {\"colorbar\": {\"outlinewidth\": 0, \"ticks\": \"\"}}, \"type\": \"scattergeo\"}], \"scattergl\": [{\"marker\": {\"colorbar\": {\"outlinewidth\": 0, \"ticks\": \"\"}}, \"type\": \"scattergl\"}], \"scattermapbox\": [{\"marker\": {\"colorbar\": {\"outlinewidth\": 0, \"ticks\": \"\"}}, \"type\": \"scattermapbox\"}], \"scatterpolar\": [{\"marker\": {\"colorbar\": {\"outlinewidth\": 0, \"ticks\": \"\"}}, \"type\": \"scatterpolar\"}], \"scatterpolargl\": [{\"marker\": {\"colorbar\": {\"outlinewidth\": 0, \"ticks\": \"\"}}, \"type\": \"scatterpolargl\"}], \"scatterternary\": [{\"marker\": {\"colorbar\": {\"outlinewidth\": 0, \"ticks\": \"\"}}, \"type\": \"scatterternary\"}], \"surface\": [{\"colorbar\": {\"outlinewidth\": 0, \"ticks\": \"\"}, \"colorscale\": [[0.0, \"#0d0887\"], [0.1111111111111111, \"#46039f\"], [0.2222222222222222, \"#7201a8\"], [0.3333333333333333, \"#9c179e\"], [0.4444444444444444, \"#bd3786\"], [0.5555555555555556, \"#d8576b\"], [0.6666666666666666, \"#ed7953\"], [0.7777777777777778, \"#fb9f3a\"], [0.8888888888888888, \"#fdca26\"], [1.0, \"#f0f921\"]], \"type\": \"surface\"}], \"table\": [{\"cells\": {\"fill\": {\"color\": \"#EBF0F8\"}, \"line\": {\"color\": \"white\"}}, \"header\": {\"fill\": {\"color\": \"#C8D4E3\"}, \"line\": {\"color\": \"white\"}}, \"type\": \"table\"}]}, \"layout\": {\"annotationdefaults\": {\"arrowcolor\": \"#2a3f5f\", \"arrowhead\": 0, \"arrowwidth\": 1}, \"autotypenumbers\": \"strict\", \"coloraxis\": {\"colorbar\": {\"outlinewidth\": 0, \"ticks\": \"\"}}, \"colorscale\": {\"diverging\": [[0, \"#8e0152\"], [0.1, \"#c51b7d\"], [0.2, \"#de77ae\"], [0.3, \"#f1b6da\"], [0.4, \"#fde0ef\"], [0.5, \"#f7f7f7\"], [0.6, \"#e6f5d0\"], [0.7, \"#b8e186\"], [0.8, \"#7fbc41\"], [0.9, \"#4d9221\"], [1, \"#276419\"]], \"sequential\": [[0.0, \"#0d0887\"], [0.1111111111111111, \"#46039f\"], [0.2222222222222222, \"#7201a8\"], [0.3333333333333333, \"#9c179e\"], [0.4444444444444444, \"#bd3786\"], [0.5555555555555556, \"#d8576b\"], [0.6666666666666666, \"#ed7953\"], [0.7777777777777778, \"#fb9f3a\"], [0.8888888888888888, \"#fdca26\"], [1.0, \"#f0f921\"]], \"sequentialminus\": [[0.0, \"#0d0887\"], [0.1111111111111111, \"#46039f\"], [0.2222222222222222, \"#7201a8\"], [0.3333333333333333, \"#9c179e\"], [0.4444444444444444, \"#bd3786\"], [0.5555555555555556, \"#d8576b\"], [0.6666666666666666, \"#ed7953\"], [0.7777777777777778, \"#fb9f3a\"], [0.8888888888888888, \"#fdca26\"], [1.0, \"#f0f921\"]]}, \"colorway\": [\"#636efa\", \"#EF553B\", \"#00cc96\", \"#ab63fa\", \"#FFA15A\", \"#19d3f3\", \"#FF6692\", \"#B6E880\", \"#FF97FF\", \"#FECB52\"], \"font\": {\"color\": \"#2a3f5f\"}, \"geo\": {\"bgcolor\": \"white\", \"lakecolor\": \"white\", \"landcolor\": \"#E5ECF6\", \"showlakes\": true, \"showland\": true, \"subunitcolor\": \"white\"}, \"hoverlabel\": {\"align\": \"left\"}, \"hovermode\": \"closest\", \"mapbox\": {\"style\": \"light\"}, \"paper_bgcolor\": \"white\", \"plot_bgcolor\": \"#E5ECF6\", \"polar\": {\"angularaxis\": {\"gridcolor\": \"white\", \"linecolor\": \"white\", \"ticks\": \"\"}, \"bgcolor\": \"#E5ECF6\", \"radialaxis\": {\"gridcolor\": \"white\", \"linecolor\": \"white\", \"ticks\": \"\"}}, \"scene\": {\"xaxis\": {\"backgroundcolor\": \"#E5ECF6\", \"gridcolor\": \"white\", \"gridwidth\": 2, \"linecolor\": \"white\", \"showbackground\": true, \"ticks\": \"\", \"zerolinecolor\": \"white\"}, \"yaxis\": {\"backgroundcolor\": \"#E5ECF6\", \"gridcolor\": \"white\", \"gridwidth\": 2, \"linecolor\": \"white\", \"showbackground\": true, \"ticks\": \"\", \"zerolinecolor\": \"white\"}, \"zaxis\": {\"backgroundcolor\": \"#E5ECF6\", \"gridcolor\": \"white\", \"gridwidth\": 2, \"linecolor\": \"white\", \"showbackground\": true, \"ticks\": \"\", \"zerolinecolor\": \"white\"}}, \"shapedefaults\": {\"line\": {\"color\": \"#2a3f5f\"}}, \"ternary\": {\"aaxis\": {\"gridcolor\": \"white\", \"linecolor\": \"white\", \"ticks\": \"\"}, \"baxis\": {\"gridcolor\": \"white\", \"linecolor\": \"white\", \"ticks\": \"\"}, \"bgcolor\": \"#E5ECF6\", \"caxis\": {\"gridcolor\": \"white\", \"linecolor\": \"white\", \"ticks\": \"\"}}, \"title\": {\"x\": 0.05}, \"xaxis\": {\"automargin\": true, \"gridcolor\": \"white\", \"linecolor\": \"white\", \"ticks\": \"\", \"title\": {\"standoff\": 15}, \"zerolinecolor\": \"white\", \"zerolinewidth\": 2}, \"yaxis\": {\"automargin\": true, \"gridcolor\": \"white\", \"linecolor\": \"white\", \"ticks\": \"\", \"title\": {\"standoff\": 15}, \"zerolinecolor\": \"white\", \"zerolinewidth\": 2}}}, \"title\": {\"font\": {\"color\": \"#4D5663\"}}, \"xaxis\": {\"gridcolor\": \"#E1E5ED\", \"showgrid\": true, \"tickfont\": {\"color\": \"#4D5663\"}, \"title\": {\"font\": {\"color\": \"#4D5663\"}, \"text\": \"\"}, \"zerolinecolor\": \"#E1E5ED\"}, \"yaxis\": {\"gridcolor\": \"#E1E5ED\", \"showgrid\": true, \"tickfont\": {\"color\": \"#4D5663\"}, \"title\": {\"font\": {\"color\": \"#4D5663\"}, \"text\": \"\"}, \"zerolinecolor\": \"#E1E5ED\"}},                        {\"showLink\": true, \"linkText\": \"Export to plot.ly\", \"plotlyServerURL\": \"https://plot.ly\", \"responsive\": true}                    ).then(function(){\n",
       "                            \n",
       "var gd = document.getElementById('3ac7dac5-a23d-472a-8944-c83720324169');\n",
       "var x = new MutationObserver(function (mutations, observer) {{\n",
       "        var display = window.getComputedStyle(gd).display;\n",
       "        if (!display || display === 'none') {{\n",
       "            console.log([gd, 'removed!']);\n",
       "            Plotly.purge(gd);\n",
       "            observer.disconnect();\n",
       "        }}\n",
       "}});\n",
       "\n",
       "// Listen for the removal of the full notebook cells\n",
       "var notebookContainer = gd.closest('#notebook-container');\n",
       "if (notebookContainer) {{\n",
       "    x.observe(notebookContainer, {childList: true});\n",
       "}}\n",
       "\n",
       "// Listen for the clearing of the current output cell\n",
       "var outputEl = gd.closest('.output');\n",
       "if (outputEl) {{\n",
       "    x.observe(outputEl, {childList: true});\n",
       "}}\n",
       "\n",
       "                        })                };                });            </script>        </div>"
      ]
     },
     "metadata": {},
     "output_type": "display_data"
    }
   ],
   "source": [
    "df.iplot(kind='scatter',x='A',y='B',size=10,mode=\"markers\")"
   ]
  },
  {
   "cell_type": "markdown",
   "metadata": {},
   "source": [
    "## Bar Plots"
   ]
  },
  {
   "cell_type": "code",
   "execution_count": 13,
   "metadata": {},
   "outputs": [
    {
     "data": {
      "application/vnd.plotly.v1+json": {
       "config": {
        "linkText": "Export to plot.ly",
        "plotlyServerURL": "https://plot.ly",
        "showLink": true
       },
       "data": [
        {
         "marker": {
          "color": "rgba(255, 153, 51, 0.6)",
          "line": {
           "color": "rgba(255, 153, 51, 1.0)",
           "width": 1
          }
         },
         "name": "Values",
         "orientation": "v",
         "text": "",
         "type": "bar",
         "x": [
          "A",
          "B",
          "C"
         ],
         "y": [
          32,
          43,
          50
         ]
        }
       ],
       "layout": {
        "legend": {
         "bgcolor": "#F5F6F9",
         "font": {
          "color": "#4D5663"
         }
        },
        "paper_bgcolor": "#F5F6F9",
        "plot_bgcolor": "#F5F6F9",
        "template": {
         "data": {
          "bar": [
           {
            "error_x": {
             "color": "#2a3f5f"
            },
            "error_y": {
             "color": "#2a3f5f"
            },
            "marker": {
             "line": {
              "color": "#E5ECF6",
              "width": 0.5
             }
            },
            "type": "bar"
           }
          ],
          "barpolar": [
           {
            "marker": {
             "line": {
              "color": "#E5ECF6",
              "width": 0.5
             }
            },
            "type": "barpolar"
           }
          ],
          "carpet": [
           {
            "aaxis": {
             "endlinecolor": "#2a3f5f",
             "gridcolor": "white",
             "linecolor": "white",
             "minorgridcolor": "white",
             "startlinecolor": "#2a3f5f"
            },
            "baxis": {
             "endlinecolor": "#2a3f5f",
             "gridcolor": "white",
             "linecolor": "white",
             "minorgridcolor": "white",
             "startlinecolor": "#2a3f5f"
            },
            "type": "carpet"
           }
          ],
          "choropleth": [
           {
            "colorbar": {
             "outlinewidth": 0,
             "ticks": ""
            },
            "type": "choropleth"
           }
          ],
          "contour": [
           {
            "colorbar": {
             "outlinewidth": 0,
             "ticks": ""
            },
            "colorscale": [
             [
              0,
              "#0d0887"
             ],
             [
              0.1111111111111111,
              "#46039f"
             ],
             [
              0.2222222222222222,
              "#7201a8"
             ],
             [
              0.3333333333333333,
              "#9c179e"
             ],
             [
              0.4444444444444444,
              "#bd3786"
             ],
             [
              0.5555555555555556,
              "#d8576b"
             ],
             [
              0.6666666666666666,
              "#ed7953"
             ],
             [
              0.7777777777777778,
              "#fb9f3a"
             ],
             [
              0.8888888888888888,
              "#fdca26"
             ],
             [
              1,
              "#f0f921"
             ]
            ],
            "type": "contour"
           }
          ],
          "contourcarpet": [
           {
            "colorbar": {
             "outlinewidth": 0,
             "ticks": ""
            },
            "type": "contourcarpet"
           }
          ],
          "heatmap": [
           {
            "colorbar": {
             "outlinewidth": 0,
             "ticks": ""
            },
            "colorscale": [
             [
              0,
              "#0d0887"
             ],
             [
              0.1111111111111111,
              "#46039f"
             ],
             [
              0.2222222222222222,
              "#7201a8"
             ],
             [
              0.3333333333333333,
              "#9c179e"
             ],
             [
              0.4444444444444444,
              "#bd3786"
             ],
             [
              0.5555555555555556,
              "#d8576b"
             ],
             [
              0.6666666666666666,
              "#ed7953"
             ],
             [
              0.7777777777777778,
              "#fb9f3a"
             ],
             [
              0.8888888888888888,
              "#fdca26"
             ],
             [
              1,
              "#f0f921"
             ]
            ],
            "type": "heatmap"
           }
          ],
          "heatmapgl": [
           {
            "colorbar": {
             "outlinewidth": 0,
             "ticks": ""
            },
            "colorscale": [
             [
              0,
              "#0d0887"
             ],
             [
              0.1111111111111111,
              "#46039f"
             ],
             [
              0.2222222222222222,
              "#7201a8"
             ],
             [
              0.3333333333333333,
              "#9c179e"
             ],
             [
              0.4444444444444444,
              "#bd3786"
             ],
             [
              0.5555555555555556,
              "#d8576b"
             ],
             [
              0.6666666666666666,
              "#ed7953"
             ],
             [
              0.7777777777777778,
              "#fb9f3a"
             ],
             [
              0.8888888888888888,
              "#fdca26"
             ],
             [
              1,
              "#f0f921"
             ]
            ],
            "type": "heatmapgl"
           }
          ],
          "histogram": [
           {
            "marker": {
             "colorbar": {
              "outlinewidth": 0,
              "ticks": ""
             }
            },
            "type": "histogram"
           }
          ],
          "histogram2d": [
           {
            "colorbar": {
             "outlinewidth": 0,
             "ticks": ""
            },
            "colorscale": [
             [
              0,
              "#0d0887"
             ],
             [
              0.1111111111111111,
              "#46039f"
             ],
             [
              0.2222222222222222,
              "#7201a8"
             ],
             [
              0.3333333333333333,
              "#9c179e"
             ],
             [
              0.4444444444444444,
              "#bd3786"
             ],
             [
              0.5555555555555556,
              "#d8576b"
             ],
             [
              0.6666666666666666,
              "#ed7953"
             ],
             [
              0.7777777777777778,
              "#fb9f3a"
             ],
             [
              0.8888888888888888,
              "#fdca26"
             ],
             [
              1,
              "#f0f921"
             ]
            ],
            "type": "histogram2d"
           }
          ],
          "histogram2dcontour": [
           {
            "colorbar": {
             "outlinewidth": 0,
             "ticks": ""
            },
            "colorscale": [
             [
              0,
              "#0d0887"
             ],
             [
              0.1111111111111111,
              "#46039f"
             ],
             [
              0.2222222222222222,
              "#7201a8"
             ],
             [
              0.3333333333333333,
              "#9c179e"
             ],
             [
              0.4444444444444444,
              "#bd3786"
             ],
             [
              0.5555555555555556,
              "#d8576b"
             ],
             [
              0.6666666666666666,
              "#ed7953"
             ],
             [
              0.7777777777777778,
              "#fb9f3a"
             ],
             [
              0.8888888888888888,
              "#fdca26"
             ],
             [
              1,
              "#f0f921"
             ]
            ],
            "type": "histogram2dcontour"
           }
          ],
          "mesh3d": [
           {
            "colorbar": {
             "outlinewidth": 0,
             "ticks": ""
            },
            "type": "mesh3d"
           }
          ],
          "parcoords": [
           {
            "line": {
             "colorbar": {
              "outlinewidth": 0,
              "ticks": ""
             }
            },
            "type": "parcoords"
           }
          ],
          "pie": [
           {
            "automargin": true,
            "type": "pie"
           }
          ],
          "scatter": [
           {
            "marker": {
             "colorbar": {
              "outlinewidth": 0,
              "ticks": ""
             }
            },
            "type": "scatter"
           }
          ],
          "scatter3d": [
           {
            "line": {
             "colorbar": {
              "outlinewidth": 0,
              "ticks": ""
             }
            },
            "marker": {
             "colorbar": {
              "outlinewidth": 0,
              "ticks": ""
             }
            },
            "type": "scatter3d"
           }
          ],
          "scattercarpet": [
           {
            "marker": {
             "colorbar": {
              "outlinewidth": 0,
              "ticks": ""
             }
            },
            "type": "scattercarpet"
           }
          ],
          "scattergeo": [
           {
            "marker": {
             "colorbar": {
              "outlinewidth": 0,
              "ticks": ""
             }
            },
            "type": "scattergeo"
           }
          ],
          "scattergl": [
           {
            "marker": {
             "colorbar": {
              "outlinewidth": 0,
              "ticks": ""
             }
            },
            "type": "scattergl"
           }
          ],
          "scattermapbox": [
           {
            "marker": {
             "colorbar": {
              "outlinewidth": 0,
              "ticks": ""
             }
            },
            "type": "scattermapbox"
           }
          ],
          "scatterpolar": [
           {
            "marker": {
             "colorbar": {
              "outlinewidth": 0,
              "ticks": ""
             }
            },
            "type": "scatterpolar"
           }
          ],
          "scatterpolargl": [
           {
            "marker": {
             "colorbar": {
              "outlinewidth": 0,
              "ticks": ""
             }
            },
            "type": "scatterpolargl"
           }
          ],
          "scatterternary": [
           {
            "marker": {
             "colorbar": {
              "outlinewidth": 0,
              "ticks": ""
             }
            },
            "type": "scatterternary"
           }
          ],
          "surface": [
           {
            "colorbar": {
             "outlinewidth": 0,
             "ticks": ""
            },
            "colorscale": [
             [
              0,
              "#0d0887"
             ],
             [
              0.1111111111111111,
              "#46039f"
             ],
             [
              0.2222222222222222,
              "#7201a8"
             ],
             [
              0.3333333333333333,
              "#9c179e"
             ],
             [
              0.4444444444444444,
              "#bd3786"
             ],
             [
              0.5555555555555556,
              "#d8576b"
             ],
             [
              0.6666666666666666,
              "#ed7953"
             ],
             [
              0.7777777777777778,
              "#fb9f3a"
             ],
             [
              0.8888888888888888,
              "#fdca26"
             ],
             [
              1,
              "#f0f921"
             ]
            ],
            "type": "surface"
           }
          ],
          "table": [
           {
            "cells": {
             "fill": {
              "color": "#EBF0F8"
             },
             "line": {
              "color": "white"
             }
            },
            "header": {
             "fill": {
              "color": "#C8D4E3"
             },
             "line": {
              "color": "white"
             }
            },
            "type": "table"
           }
          ]
         },
         "layout": {
          "annotationdefaults": {
           "arrowcolor": "#2a3f5f",
           "arrowhead": 0,
           "arrowwidth": 1
          },
          "autotypenumbers": "strict",
          "coloraxis": {
           "colorbar": {
            "outlinewidth": 0,
            "ticks": ""
           }
          },
          "colorscale": {
           "diverging": [
            [
             0,
             "#8e0152"
            ],
            [
             0.1,
             "#c51b7d"
            ],
            [
             0.2,
             "#de77ae"
            ],
            [
             0.3,
             "#f1b6da"
            ],
            [
             0.4,
             "#fde0ef"
            ],
            [
             0.5,
             "#f7f7f7"
            ],
            [
             0.6,
             "#e6f5d0"
            ],
            [
             0.7,
             "#b8e186"
            ],
            [
             0.8,
             "#7fbc41"
            ],
            [
             0.9,
             "#4d9221"
            ],
            [
             1,
             "#276419"
            ]
           ],
           "sequential": [
            [
             0,
             "#0d0887"
            ],
            [
             0.1111111111111111,
             "#46039f"
            ],
            [
             0.2222222222222222,
             "#7201a8"
            ],
            [
             0.3333333333333333,
             "#9c179e"
            ],
            [
             0.4444444444444444,
             "#bd3786"
            ],
            [
             0.5555555555555556,
             "#d8576b"
            ],
            [
             0.6666666666666666,
             "#ed7953"
            ],
            [
             0.7777777777777778,
             "#fb9f3a"
            ],
            [
             0.8888888888888888,
             "#fdca26"
            ],
            [
             1,
             "#f0f921"
            ]
           ],
           "sequentialminus": [
            [
             0,
             "#0d0887"
            ],
            [
             0.1111111111111111,
             "#46039f"
            ],
            [
             0.2222222222222222,
             "#7201a8"
            ],
            [
             0.3333333333333333,
             "#9c179e"
            ],
            [
             0.4444444444444444,
             "#bd3786"
            ],
            [
             0.5555555555555556,
             "#d8576b"
            ],
            [
             0.6666666666666666,
             "#ed7953"
            ],
            [
             0.7777777777777778,
             "#fb9f3a"
            ],
            [
             0.8888888888888888,
             "#fdca26"
            ],
            [
             1,
             "#f0f921"
            ]
           ]
          },
          "colorway": [
           "#636efa",
           "#EF553B",
           "#00cc96",
           "#ab63fa",
           "#FFA15A",
           "#19d3f3",
           "#FF6692",
           "#B6E880",
           "#FF97FF",
           "#FECB52"
          ],
          "font": {
           "color": "#2a3f5f"
          },
          "geo": {
           "bgcolor": "white",
           "lakecolor": "white",
           "landcolor": "#E5ECF6",
           "showlakes": true,
           "showland": true,
           "subunitcolor": "white"
          },
          "hoverlabel": {
           "align": "left"
          },
          "hovermode": "closest",
          "mapbox": {
           "style": "light"
          },
          "paper_bgcolor": "white",
          "plot_bgcolor": "#E5ECF6",
          "polar": {
           "angularaxis": {
            "gridcolor": "white",
            "linecolor": "white",
            "ticks": ""
           },
           "bgcolor": "#E5ECF6",
           "radialaxis": {
            "gridcolor": "white",
            "linecolor": "white",
            "ticks": ""
           }
          },
          "scene": {
           "xaxis": {
            "backgroundcolor": "#E5ECF6",
            "gridcolor": "white",
            "gridwidth": 2,
            "linecolor": "white",
            "showbackground": true,
            "ticks": "",
            "zerolinecolor": "white"
           },
           "yaxis": {
            "backgroundcolor": "#E5ECF6",
            "gridcolor": "white",
            "gridwidth": 2,
            "linecolor": "white",
            "showbackground": true,
            "ticks": "",
            "zerolinecolor": "white"
           },
           "zaxis": {
            "backgroundcolor": "#E5ECF6",
            "gridcolor": "white",
            "gridwidth": 2,
            "linecolor": "white",
            "showbackground": true,
            "ticks": "",
            "zerolinecolor": "white"
           }
          },
          "shapedefaults": {
           "line": {
            "color": "#2a3f5f"
           }
          },
          "ternary": {
           "aaxis": {
            "gridcolor": "white",
            "linecolor": "white",
            "ticks": ""
           },
           "baxis": {
            "gridcolor": "white",
            "linecolor": "white",
            "ticks": ""
           },
           "bgcolor": "#E5ECF6",
           "caxis": {
            "gridcolor": "white",
            "linecolor": "white",
            "ticks": ""
           }
          },
          "title": {
           "x": 0.05
          },
          "xaxis": {
           "automargin": true,
           "gridcolor": "white",
           "linecolor": "white",
           "ticks": "",
           "title": {
            "standoff": 15
           },
           "zerolinecolor": "white",
           "zerolinewidth": 2
          },
          "yaxis": {
           "automargin": true,
           "gridcolor": "white",
           "linecolor": "white",
           "ticks": "",
           "title": {
            "standoff": 15
           },
           "zerolinecolor": "white",
           "zerolinewidth": 2
          }
         }
        },
        "title": {
         "font": {
          "color": "#4D5663"
         }
        },
        "xaxis": {
         "gridcolor": "#E1E5ED",
         "showgrid": true,
         "tickfont": {
          "color": "#4D5663"
         },
         "title": {
          "font": {
           "color": "#4D5663"
          },
          "text": ""
         },
         "zerolinecolor": "#E1E5ED"
        },
        "yaxis": {
         "gridcolor": "#E1E5ED",
         "showgrid": true,
         "tickfont": {
          "color": "#4D5663"
         },
         "title": {
          "font": {
           "color": "#4D5663"
          },
          "text": ""
         },
         "zerolinecolor": "#E1E5ED"
        }
       }
      },
      "text/html": [
       "<div>                            <div id=\"84b3d78e-5cfc-406d-a175-6a426320da4f\" class=\"plotly-graph-div\" style=\"height:525px; width:100%;\"></div>            <script type=\"text/javascript\">                require([\"plotly\"], function(Plotly) {                    window.PLOTLYENV=window.PLOTLYENV || {};\n",
       "                    window.PLOTLYENV.BASE_URL='https://plot.ly';                                    if (document.getElementById(\"84b3d78e-5cfc-406d-a175-6a426320da4f\")) {                    Plotly.newPlot(                        \"84b3d78e-5cfc-406d-a175-6a426320da4f\",                        [{\"marker\": {\"color\": \"rgba(255, 153, 51, 0.6)\", \"line\": {\"color\": \"rgba(255, 153, 51, 1.0)\", \"width\": 1}}, \"name\": \"Values\", \"orientation\": \"v\", \"text\": \"\", \"type\": \"bar\", \"x\": [\"A\", \"B\", \"C\"], \"y\": [32, 43, 50]}],                        {\"legend\": {\"bgcolor\": \"#F5F6F9\", \"font\": {\"color\": \"#4D5663\"}}, \"paper_bgcolor\": \"#F5F6F9\", \"plot_bgcolor\": \"#F5F6F9\", \"template\": {\"data\": {\"bar\": [{\"error_x\": {\"color\": \"#2a3f5f\"}, \"error_y\": {\"color\": \"#2a3f5f\"}, \"marker\": {\"line\": {\"color\": \"#E5ECF6\", \"width\": 0.5}}, \"type\": \"bar\"}], \"barpolar\": [{\"marker\": {\"line\": {\"color\": \"#E5ECF6\", \"width\": 0.5}}, \"type\": \"barpolar\"}], \"carpet\": [{\"aaxis\": {\"endlinecolor\": \"#2a3f5f\", \"gridcolor\": \"white\", \"linecolor\": \"white\", \"minorgridcolor\": \"white\", \"startlinecolor\": \"#2a3f5f\"}, \"baxis\": {\"endlinecolor\": \"#2a3f5f\", \"gridcolor\": \"white\", \"linecolor\": \"white\", \"minorgridcolor\": \"white\", \"startlinecolor\": \"#2a3f5f\"}, \"type\": \"carpet\"}], \"choropleth\": [{\"colorbar\": {\"outlinewidth\": 0, \"ticks\": \"\"}, \"type\": \"choropleth\"}], \"contour\": [{\"colorbar\": {\"outlinewidth\": 0, \"ticks\": \"\"}, \"colorscale\": [[0.0, \"#0d0887\"], [0.1111111111111111, \"#46039f\"], [0.2222222222222222, \"#7201a8\"], [0.3333333333333333, \"#9c179e\"], [0.4444444444444444, \"#bd3786\"], [0.5555555555555556, \"#d8576b\"], [0.6666666666666666, \"#ed7953\"], [0.7777777777777778, \"#fb9f3a\"], [0.8888888888888888, \"#fdca26\"], [1.0, \"#f0f921\"]], \"type\": \"contour\"}], \"contourcarpet\": [{\"colorbar\": {\"outlinewidth\": 0, \"ticks\": \"\"}, \"type\": \"contourcarpet\"}], \"heatmap\": [{\"colorbar\": {\"outlinewidth\": 0, \"ticks\": \"\"}, \"colorscale\": [[0.0, \"#0d0887\"], [0.1111111111111111, \"#46039f\"], [0.2222222222222222, \"#7201a8\"], [0.3333333333333333, \"#9c179e\"], [0.4444444444444444, \"#bd3786\"], [0.5555555555555556, \"#d8576b\"], [0.6666666666666666, \"#ed7953\"], [0.7777777777777778, \"#fb9f3a\"], [0.8888888888888888, \"#fdca26\"], [1.0, \"#f0f921\"]], \"type\": \"heatmap\"}], \"heatmapgl\": [{\"colorbar\": {\"outlinewidth\": 0, \"ticks\": \"\"}, \"colorscale\": [[0.0, \"#0d0887\"], [0.1111111111111111, \"#46039f\"], [0.2222222222222222, \"#7201a8\"], [0.3333333333333333, \"#9c179e\"], [0.4444444444444444, \"#bd3786\"], [0.5555555555555556, \"#d8576b\"], [0.6666666666666666, \"#ed7953\"], [0.7777777777777778, \"#fb9f3a\"], [0.8888888888888888, \"#fdca26\"], [1.0, \"#f0f921\"]], \"type\": \"heatmapgl\"}], \"histogram\": [{\"marker\": {\"colorbar\": {\"outlinewidth\": 0, \"ticks\": \"\"}}, \"type\": \"histogram\"}], \"histogram2d\": [{\"colorbar\": {\"outlinewidth\": 0, \"ticks\": \"\"}, \"colorscale\": [[0.0, \"#0d0887\"], [0.1111111111111111, \"#46039f\"], [0.2222222222222222, \"#7201a8\"], [0.3333333333333333, \"#9c179e\"], [0.4444444444444444, \"#bd3786\"], [0.5555555555555556, \"#d8576b\"], [0.6666666666666666, \"#ed7953\"], [0.7777777777777778, \"#fb9f3a\"], [0.8888888888888888, \"#fdca26\"], [1.0, \"#f0f921\"]], \"type\": \"histogram2d\"}], \"histogram2dcontour\": [{\"colorbar\": {\"outlinewidth\": 0, \"ticks\": \"\"}, \"colorscale\": [[0.0, \"#0d0887\"], [0.1111111111111111, \"#46039f\"], [0.2222222222222222, \"#7201a8\"], [0.3333333333333333, \"#9c179e\"], [0.4444444444444444, \"#bd3786\"], [0.5555555555555556, \"#d8576b\"], [0.6666666666666666, \"#ed7953\"], [0.7777777777777778, \"#fb9f3a\"], [0.8888888888888888, \"#fdca26\"], [1.0, \"#f0f921\"]], \"type\": \"histogram2dcontour\"}], \"mesh3d\": [{\"colorbar\": {\"outlinewidth\": 0, \"ticks\": \"\"}, \"type\": \"mesh3d\"}], \"parcoords\": [{\"line\": {\"colorbar\": {\"outlinewidth\": 0, \"ticks\": \"\"}}, \"type\": \"parcoords\"}], \"pie\": [{\"automargin\": true, \"type\": \"pie\"}], \"scatter\": [{\"marker\": {\"colorbar\": {\"outlinewidth\": 0, \"ticks\": \"\"}}, \"type\": \"scatter\"}], \"scatter3d\": [{\"line\": {\"colorbar\": {\"outlinewidth\": 0, \"ticks\": \"\"}}, \"marker\": {\"colorbar\": {\"outlinewidth\": 0, \"ticks\": \"\"}}, \"type\": \"scatter3d\"}], \"scattercarpet\": [{\"marker\": {\"colorbar\": {\"outlinewidth\": 0, \"ticks\": \"\"}}, \"type\": \"scattercarpet\"}], \"scattergeo\": [{\"marker\": {\"colorbar\": {\"outlinewidth\": 0, \"ticks\": \"\"}}, \"type\": \"scattergeo\"}], \"scattergl\": [{\"marker\": {\"colorbar\": {\"outlinewidth\": 0, \"ticks\": \"\"}}, \"type\": \"scattergl\"}], \"scattermapbox\": [{\"marker\": {\"colorbar\": {\"outlinewidth\": 0, \"ticks\": \"\"}}, \"type\": \"scattermapbox\"}], \"scatterpolar\": [{\"marker\": {\"colorbar\": {\"outlinewidth\": 0, \"ticks\": \"\"}}, \"type\": \"scatterpolar\"}], \"scatterpolargl\": [{\"marker\": {\"colorbar\": {\"outlinewidth\": 0, \"ticks\": \"\"}}, \"type\": \"scatterpolargl\"}], \"scatterternary\": [{\"marker\": {\"colorbar\": {\"outlinewidth\": 0, \"ticks\": \"\"}}, \"type\": \"scatterternary\"}], \"surface\": [{\"colorbar\": {\"outlinewidth\": 0, \"ticks\": \"\"}, \"colorscale\": [[0.0, \"#0d0887\"], [0.1111111111111111, \"#46039f\"], [0.2222222222222222, \"#7201a8\"], [0.3333333333333333, \"#9c179e\"], [0.4444444444444444, \"#bd3786\"], [0.5555555555555556, \"#d8576b\"], [0.6666666666666666, \"#ed7953\"], [0.7777777777777778, \"#fb9f3a\"], [0.8888888888888888, \"#fdca26\"], [1.0, \"#f0f921\"]], \"type\": \"surface\"}], \"table\": [{\"cells\": {\"fill\": {\"color\": \"#EBF0F8\"}, \"line\": {\"color\": \"white\"}}, \"header\": {\"fill\": {\"color\": \"#C8D4E3\"}, \"line\": {\"color\": \"white\"}}, \"type\": \"table\"}]}, \"layout\": {\"annotationdefaults\": {\"arrowcolor\": \"#2a3f5f\", \"arrowhead\": 0, \"arrowwidth\": 1}, \"autotypenumbers\": \"strict\", \"coloraxis\": {\"colorbar\": {\"outlinewidth\": 0, \"ticks\": \"\"}}, \"colorscale\": {\"diverging\": [[0, \"#8e0152\"], [0.1, \"#c51b7d\"], [0.2, \"#de77ae\"], [0.3, \"#f1b6da\"], [0.4, \"#fde0ef\"], [0.5, \"#f7f7f7\"], [0.6, \"#e6f5d0\"], [0.7, \"#b8e186\"], [0.8, \"#7fbc41\"], [0.9, \"#4d9221\"], [1, \"#276419\"]], \"sequential\": [[0.0, \"#0d0887\"], [0.1111111111111111, \"#46039f\"], [0.2222222222222222, \"#7201a8\"], [0.3333333333333333, \"#9c179e\"], [0.4444444444444444, \"#bd3786\"], [0.5555555555555556, \"#d8576b\"], [0.6666666666666666, \"#ed7953\"], [0.7777777777777778, \"#fb9f3a\"], [0.8888888888888888, \"#fdca26\"], [1.0, \"#f0f921\"]], \"sequentialminus\": [[0.0, \"#0d0887\"], [0.1111111111111111, \"#46039f\"], [0.2222222222222222, \"#7201a8\"], [0.3333333333333333, \"#9c179e\"], [0.4444444444444444, \"#bd3786\"], [0.5555555555555556, \"#d8576b\"], [0.6666666666666666, \"#ed7953\"], [0.7777777777777778, \"#fb9f3a\"], [0.8888888888888888, \"#fdca26\"], [1.0, \"#f0f921\"]]}, \"colorway\": [\"#636efa\", \"#EF553B\", \"#00cc96\", \"#ab63fa\", \"#FFA15A\", \"#19d3f3\", \"#FF6692\", \"#B6E880\", \"#FF97FF\", \"#FECB52\"], \"font\": {\"color\": \"#2a3f5f\"}, \"geo\": {\"bgcolor\": \"white\", \"lakecolor\": \"white\", \"landcolor\": \"#E5ECF6\", \"showlakes\": true, \"showland\": true, \"subunitcolor\": \"white\"}, \"hoverlabel\": {\"align\": \"left\"}, \"hovermode\": \"closest\", \"mapbox\": {\"style\": \"light\"}, \"paper_bgcolor\": \"white\", \"plot_bgcolor\": \"#E5ECF6\", \"polar\": {\"angularaxis\": {\"gridcolor\": \"white\", \"linecolor\": \"white\", \"ticks\": \"\"}, \"bgcolor\": \"#E5ECF6\", \"radialaxis\": {\"gridcolor\": \"white\", \"linecolor\": \"white\", \"ticks\": \"\"}}, \"scene\": {\"xaxis\": {\"backgroundcolor\": \"#E5ECF6\", \"gridcolor\": \"white\", \"gridwidth\": 2, \"linecolor\": \"white\", \"showbackground\": true, \"ticks\": \"\", \"zerolinecolor\": \"white\"}, \"yaxis\": {\"backgroundcolor\": \"#E5ECF6\", \"gridcolor\": \"white\", \"gridwidth\": 2, \"linecolor\": \"white\", \"showbackground\": true, \"ticks\": \"\", \"zerolinecolor\": \"white\"}, \"zaxis\": {\"backgroundcolor\": \"#E5ECF6\", \"gridcolor\": \"white\", \"gridwidth\": 2, \"linecolor\": \"white\", \"showbackground\": true, \"ticks\": \"\", \"zerolinecolor\": \"white\"}}, \"shapedefaults\": {\"line\": {\"color\": \"#2a3f5f\"}}, \"ternary\": {\"aaxis\": {\"gridcolor\": \"white\", \"linecolor\": \"white\", \"ticks\": \"\"}, \"baxis\": {\"gridcolor\": \"white\", \"linecolor\": \"white\", \"ticks\": \"\"}, \"bgcolor\": \"#E5ECF6\", \"caxis\": {\"gridcolor\": \"white\", \"linecolor\": \"white\", \"ticks\": \"\"}}, \"title\": {\"x\": 0.05}, \"xaxis\": {\"automargin\": true, \"gridcolor\": \"white\", \"linecolor\": \"white\", \"ticks\": \"\", \"title\": {\"standoff\": 15}, \"zerolinecolor\": \"white\", \"zerolinewidth\": 2}, \"yaxis\": {\"automargin\": true, \"gridcolor\": \"white\", \"linecolor\": \"white\", \"ticks\": \"\", \"title\": {\"standoff\": 15}, \"zerolinecolor\": \"white\", \"zerolinewidth\": 2}}}, \"title\": {\"font\": {\"color\": \"#4D5663\"}}, \"xaxis\": {\"gridcolor\": \"#E1E5ED\", \"showgrid\": true, \"tickfont\": {\"color\": \"#4D5663\"}, \"title\": {\"font\": {\"color\": \"#4D5663\"}, \"text\": \"\"}, \"zerolinecolor\": \"#E1E5ED\"}, \"yaxis\": {\"gridcolor\": \"#E1E5ED\", \"showgrid\": true, \"tickfont\": {\"color\": \"#4D5663\"}, \"title\": {\"font\": {\"color\": \"#4D5663\"}, \"text\": \"\"}, \"zerolinecolor\": \"#E1E5ED\"}},                        {\"showLink\": true, \"linkText\": \"Export to plot.ly\", \"plotlyServerURL\": \"https://plot.ly\", \"responsive\": true}                    ).then(function(){\n",
       "                            \n",
       "var gd = document.getElementById('84b3d78e-5cfc-406d-a175-6a426320da4f');\n",
       "var x = new MutationObserver(function (mutations, observer) {{\n",
       "        var display = window.getComputedStyle(gd).display;\n",
       "        if (!display || display === 'none') {{\n",
       "            console.log([gd, 'removed!']);\n",
       "            Plotly.purge(gd);\n",
       "            observer.disconnect();\n",
       "        }}\n",
       "}});\n",
       "\n",
       "// Listen for the removal of the full notebook cells\n",
       "var notebookContainer = gd.closest('#notebook-container');\n",
       "if (notebookContainer) {{\n",
       "    x.observe(notebookContainer, {childList: true});\n",
       "}}\n",
       "\n",
       "// Listen for the clearing of the current output cell\n",
       "var outputEl = gd.closest('.output');\n",
       "if (outputEl) {{\n",
       "    x.observe(outputEl, {childList: true});\n",
       "}}\n",
       "\n",
       "                        })                };                });            </script>        </div>"
      ]
     },
     "metadata": {},
     "output_type": "display_data"
    }
   ],
   "source": [
    "df2.iplot(kind='bar',x='Category',y='Values')"
   ]
  },
  {
   "cell_type": "code",
   "execution_count": 12,
   "metadata": {},
   "outputs": [
    {
     "data": {
      "text/plain": [
       "A    100\n",
       "B    100\n",
       "C    100\n",
       "D    100\n",
       "dtype: int64"
      ]
     },
     "execution_count": 12,
     "metadata": {},
     "output_type": "execute_result"
    }
   ],
   "source": [
    "df.count()"
   ]
  },
  {
   "cell_type": "code",
   "execution_count": 13,
   "metadata": {},
   "outputs": [
    {
     "data": {
      "application/vnd.plotly.v1+json": {
       "config": {
        "linkText": "Export to plot.ly",
        "plotlyServerURL": "https://plot.ly",
        "showLink": true
       },
       "data": [
        {
         "marker": {
          "color": "rgba(255, 153, 51, 0.6)",
          "line": {
           "color": "rgba(255, 153, 51, 1.0)",
           "width": 1
          }
         },
         "name": "None",
         "orientation": "v",
         "text": "",
         "type": "bar",
         "x": [
          "A",
          "B",
          "C",
          "D"
         ],
         "y": [
          100,
          100,
          100,
          100
         ]
        }
       ],
       "layout": {
        "legend": {
         "bgcolor": "#F5F6F9",
         "font": {
          "color": "#4D5663"
         }
        },
        "paper_bgcolor": "#F5F6F9",
        "plot_bgcolor": "#F5F6F9",
        "template": {
         "data": {
          "bar": [
           {
            "error_x": {
             "color": "#2a3f5f"
            },
            "error_y": {
             "color": "#2a3f5f"
            },
            "marker": {
             "line": {
              "color": "#E5ECF6",
              "width": 0.5
             }
            },
            "type": "bar"
           }
          ],
          "barpolar": [
           {
            "marker": {
             "line": {
              "color": "#E5ECF6",
              "width": 0.5
             }
            },
            "type": "barpolar"
           }
          ],
          "carpet": [
           {
            "aaxis": {
             "endlinecolor": "#2a3f5f",
             "gridcolor": "white",
             "linecolor": "white",
             "minorgridcolor": "white",
             "startlinecolor": "#2a3f5f"
            },
            "baxis": {
             "endlinecolor": "#2a3f5f",
             "gridcolor": "white",
             "linecolor": "white",
             "minorgridcolor": "white",
             "startlinecolor": "#2a3f5f"
            },
            "type": "carpet"
           }
          ],
          "choropleth": [
           {
            "colorbar": {
             "outlinewidth": 0,
             "ticks": ""
            },
            "type": "choropleth"
           }
          ],
          "contour": [
           {
            "colorbar": {
             "outlinewidth": 0,
             "ticks": ""
            },
            "colorscale": [
             [
              0,
              "#0d0887"
             ],
             [
              0.1111111111111111,
              "#46039f"
             ],
             [
              0.2222222222222222,
              "#7201a8"
             ],
             [
              0.3333333333333333,
              "#9c179e"
             ],
             [
              0.4444444444444444,
              "#bd3786"
             ],
             [
              0.5555555555555556,
              "#d8576b"
             ],
             [
              0.6666666666666666,
              "#ed7953"
             ],
             [
              0.7777777777777778,
              "#fb9f3a"
             ],
             [
              0.8888888888888888,
              "#fdca26"
             ],
             [
              1,
              "#f0f921"
             ]
            ],
            "type": "contour"
           }
          ],
          "contourcarpet": [
           {
            "colorbar": {
             "outlinewidth": 0,
             "ticks": ""
            },
            "type": "contourcarpet"
           }
          ],
          "heatmap": [
           {
            "colorbar": {
             "outlinewidth": 0,
             "ticks": ""
            },
            "colorscale": [
             [
              0,
              "#0d0887"
             ],
             [
              0.1111111111111111,
              "#46039f"
             ],
             [
              0.2222222222222222,
              "#7201a8"
             ],
             [
              0.3333333333333333,
              "#9c179e"
             ],
             [
              0.4444444444444444,
              "#bd3786"
             ],
             [
              0.5555555555555556,
              "#d8576b"
             ],
             [
              0.6666666666666666,
              "#ed7953"
             ],
             [
              0.7777777777777778,
              "#fb9f3a"
             ],
             [
              0.8888888888888888,
              "#fdca26"
             ],
             [
              1,
              "#f0f921"
             ]
            ],
            "type": "heatmap"
           }
          ],
          "heatmapgl": [
           {
            "colorbar": {
             "outlinewidth": 0,
             "ticks": ""
            },
            "colorscale": [
             [
              0,
              "#0d0887"
             ],
             [
              0.1111111111111111,
              "#46039f"
             ],
             [
              0.2222222222222222,
              "#7201a8"
             ],
             [
              0.3333333333333333,
              "#9c179e"
             ],
             [
              0.4444444444444444,
              "#bd3786"
             ],
             [
              0.5555555555555556,
              "#d8576b"
             ],
             [
              0.6666666666666666,
              "#ed7953"
             ],
             [
              0.7777777777777778,
              "#fb9f3a"
             ],
             [
              0.8888888888888888,
              "#fdca26"
             ],
             [
              1,
              "#f0f921"
             ]
            ],
            "type": "heatmapgl"
           }
          ],
          "histogram": [
           {
            "marker": {
             "colorbar": {
              "outlinewidth": 0,
              "ticks": ""
             }
            },
            "type": "histogram"
           }
          ],
          "histogram2d": [
           {
            "colorbar": {
             "outlinewidth": 0,
             "ticks": ""
            },
            "colorscale": [
             [
              0,
              "#0d0887"
             ],
             [
              0.1111111111111111,
              "#46039f"
             ],
             [
              0.2222222222222222,
              "#7201a8"
             ],
             [
              0.3333333333333333,
              "#9c179e"
             ],
             [
              0.4444444444444444,
              "#bd3786"
             ],
             [
              0.5555555555555556,
              "#d8576b"
             ],
             [
              0.6666666666666666,
              "#ed7953"
             ],
             [
              0.7777777777777778,
              "#fb9f3a"
             ],
             [
              0.8888888888888888,
              "#fdca26"
             ],
             [
              1,
              "#f0f921"
             ]
            ],
            "type": "histogram2d"
           }
          ],
          "histogram2dcontour": [
           {
            "colorbar": {
             "outlinewidth": 0,
             "ticks": ""
            },
            "colorscale": [
             [
              0,
              "#0d0887"
             ],
             [
              0.1111111111111111,
              "#46039f"
             ],
             [
              0.2222222222222222,
              "#7201a8"
             ],
             [
              0.3333333333333333,
              "#9c179e"
             ],
             [
              0.4444444444444444,
              "#bd3786"
             ],
             [
              0.5555555555555556,
              "#d8576b"
             ],
             [
              0.6666666666666666,
              "#ed7953"
             ],
             [
              0.7777777777777778,
              "#fb9f3a"
             ],
             [
              0.8888888888888888,
              "#fdca26"
             ],
             [
              1,
              "#f0f921"
             ]
            ],
            "type": "histogram2dcontour"
           }
          ],
          "mesh3d": [
           {
            "colorbar": {
             "outlinewidth": 0,
             "ticks": ""
            },
            "type": "mesh3d"
           }
          ],
          "parcoords": [
           {
            "line": {
             "colorbar": {
              "outlinewidth": 0,
              "ticks": ""
             }
            },
            "type": "parcoords"
           }
          ],
          "pie": [
           {
            "automargin": true,
            "type": "pie"
           }
          ],
          "scatter": [
           {
            "marker": {
             "colorbar": {
              "outlinewidth": 0,
              "ticks": ""
             }
            },
            "type": "scatter"
           }
          ],
          "scatter3d": [
           {
            "line": {
             "colorbar": {
              "outlinewidth": 0,
              "ticks": ""
             }
            },
            "marker": {
             "colorbar": {
              "outlinewidth": 0,
              "ticks": ""
             }
            },
            "type": "scatter3d"
           }
          ],
          "scattercarpet": [
           {
            "marker": {
             "colorbar": {
              "outlinewidth": 0,
              "ticks": ""
             }
            },
            "type": "scattercarpet"
           }
          ],
          "scattergeo": [
           {
            "marker": {
             "colorbar": {
              "outlinewidth": 0,
              "ticks": ""
             }
            },
            "type": "scattergeo"
           }
          ],
          "scattergl": [
           {
            "marker": {
             "colorbar": {
              "outlinewidth": 0,
              "ticks": ""
             }
            },
            "type": "scattergl"
           }
          ],
          "scattermapbox": [
           {
            "marker": {
             "colorbar": {
              "outlinewidth": 0,
              "ticks": ""
             }
            },
            "type": "scattermapbox"
           }
          ],
          "scatterpolar": [
           {
            "marker": {
             "colorbar": {
              "outlinewidth": 0,
              "ticks": ""
             }
            },
            "type": "scatterpolar"
           }
          ],
          "scatterpolargl": [
           {
            "marker": {
             "colorbar": {
              "outlinewidth": 0,
              "ticks": ""
             }
            },
            "type": "scatterpolargl"
           }
          ],
          "scatterternary": [
           {
            "marker": {
             "colorbar": {
              "outlinewidth": 0,
              "ticks": ""
             }
            },
            "type": "scatterternary"
           }
          ],
          "surface": [
           {
            "colorbar": {
             "outlinewidth": 0,
             "ticks": ""
            },
            "colorscale": [
             [
              0,
              "#0d0887"
             ],
             [
              0.1111111111111111,
              "#46039f"
             ],
             [
              0.2222222222222222,
              "#7201a8"
             ],
             [
              0.3333333333333333,
              "#9c179e"
             ],
             [
              0.4444444444444444,
              "#bd3786"
             ],
             [
              0.5555555555555556,
              "#d8576b"
             ],
             [
              0.6666666666666666,
              "#ed7953"
             ],
             [
              0.7777777777777778,
              "#fb9f3a"
             ],
             [
              0.8888888888888888,
              "#fdca26"
             ],
             [
              1,
              "#f0f921"
             ]
            ],
            "type": "surface"
           }
          ],
          "table": [
           {
            "cells": {
             "fill": {
              "color": "#EBF0F8"
             },
             "line": {
              "color": "white"
             }
            },
            "header": {
             "fill": {
              "color": "#C8D4E3"
             },
             "line": {
              "color": "white"
             }
            },
            "type": "table"
           }
          ]
         },
         "layout": {
          "annotationdefaults": {
           "arrowcolor": "#2a3f5f",
           "arrowhead": 0,
           "arrowwidth": 1
          },
          "autotypenumbers": "strict",
          "coloraxis": {
           "colorbar": {
            "outlinewidth": 0,
            "ticks": ""
           }
          },
          "colorscale": {
           "diverging": [
            [
             0,
             "#8e0152"
            ],
            [
             0.1,
             "#c51b7d"
            ],
            [
             0.2,
             "#de77ae"
            ],
            [
             0.3,
             "#f1b6da"
            ],
            [
             0.4,
             "#fde0ef"
            ],
            [
             0.5,
             "#f7f7f7"
            ],
            [
             0.6,
             "#e6f5d0"
            ],
            [
             0.7,
             "#b8e186"
            ],
            [
             0.8,
             "#7fbc41"
            ],
            [
             0.9,
             "#4d9221"
            ],
            [
             1,
             "#276419"
            ]
           ],
           "sequential": [
            [
             0,
             "#0d0887"
            ],
            [
             0.1111111111111111,
             "#46039f"
            ],
            [
             0.2222222222222222,
             "#7201a8"
            ],
            [
             0.3333333333333333,
             "#9c179e"
            ],
            [
             0.4444444444444444,
             "#bd3786"
            ],
            [
             0.5555555555555556,
             "#d8576b"
            ],
            [
             0.6666666666666666,
             "#ed7953"
            ],
            [
             0.7777777777777778,
             "#fb9f3a"
            ],
            [
             0.8888888888888888,
             "#fdca26"
            ],
            [
             1,
             "#f0f921"
            ]
           ],
           "sequentialminus": [
            [
             0,
             "#0d0887"
            ],
            [
             0.1111111111111111,
             "#46039f"
            ],
            [
             0.2222222222222222,
             "#7201a8"
            ],
            [
             0.3333333333333333,
             "#9c179e"
            ],
            [
             0.4444444444444444,
             "#bd3786"
            ],
            [
             0.5555555555555556,
             "#d8576b"
            ],
            [
             0.6666666666666666,
             "#ed7953"
            ],
            [
             0.7777777777777778,
             "#fb9f3a"
            ],
            [
             0.8888888888888888,
             "#fdca26"
            ],
            [
             1,
             "#f0f921"
            ]
           ]
          },
          "colorway": [
           "#636efa",
           "#EF553B",
           "#00cc96",
           "#ab63fa",
           "#FFA15A",
           "#19d3f3",
           "#FF6692",
           "#B6E880",
           "#FF97FF",
           "#FECB52"
          ],
          "font": {
           "color": "#2a3f5f"
          },
          "geo": {
           "bgcolor": "white",
           "lakecolor": "white",
           "landcolor": "#E5ECF6",
           "showlakes": true,
           "showland": true,
           "subunitcolor": "white"
          },
          "hoverlabel": {
           "align": "left"
          },
          "hovermode": "closest",
          "mapbox": {
           "style": "light"
          },
          "paper_bgcolor": "white",
          "plot_bgcolor": "#E5ECF6",
          "polar": {
           "angularaxis": {
            "gridcolor": "white",
            "linecolor": "white",
            "ticks": ""
           },
           "bgcolor": "#E5ECF6",
           "radialaxis": {
            "gridcolor": "white",
            "linecolor": "white",
            "ticks": ""
           }
          },
          "scene": {
           "xaxis": {
            "backgroundcolor": "#E5ECF6",
            "gridcolor": "white",
            "gridwidth": 2,
            "linecolor": "white",
            "showbackground": true,
            "ticks": "",
            "zerolinecolor": "white"
           },
           "yaxis": {
            "backgroundcolor": "#E5ECF6",
            "gridcolor": "white",
            "gridwidth": 2,
            "linecolor": "white",
            "showbackground": true,
            "ticks": "",
            "zerolinecolor": "white"
           },
           "zaxis": {
            "backgroundcolor": "#E5ECF6",
            "gridcolor": "white",
            "gridwidth": 2,
            "linecolor": "white",
            "showbackground": true,
            "ticks": "",
            "zerolinecolor": "white"
           }
          },
          "shapedefaults": {
           "line": {
            "color": "#2a3f5f"
           }
          },
          "ternary": {
           "aaxis": {
            "gridcolor": "white",
            "linecolor": "white",
            "ticks": ""
           },
           "baxis": {
            "gridcolor": "white",
            "linecolor": "white",
            "ticks": ""
           },
           "bgcolor": "#E5ECF6",
           "caxis": {
            "gridcolor": "white",
            "linecolor": "white",
            "ticks": ""
           }
          },
          "title": {
           "x": 0.05
          },
          "xaxis": {
           "automargin": true,
           "gridcolor": "white",
           "linecolor": "white",
           "ticks": "",
           "title": {
            "standoff": 15
           },
           "zerolinecolor": "white",
           "zerolinewidth": 2
          },
          "yaxis": {
           "automargin": true,
           "gridcolor": "white",
           "linecolor": "white",
           "ticks": "",
           "title": {
            "standoff": 15
           },
           "zerolinecolor": "white",
           "zerolinewidth": 2
          }
         }
        },
        "title": {
         "font": {
          "color": "#4D5663"
         }
        },
        "xaxis": {
         "gridcolor": "#E1E5ED",
         "showgrid": true,
         "tickfont": {
          "color": "#4D5663"
         },
         "title": {
          "font": {
           "color": "#4D5663"
          },
          "text": ""
         },
         "zerolinecolor": "#E1E5ED"
        },
        "yaxis": {
         "gridcolor": "#E1E5ED",
         "showgrid": true,
         "tickfont": {
          "color": "#4D5663"
         },
         "title": {
          "font": {
           "color": "#4D5663"
          },
          "text": ""
         },
         "zerolinecolor": "#E1E5ED"
        }
       }
      },
      "text/html": [
       "<div>                            <div id=\"4b5c1781-fbac-4c85-909d-31c1df792978\" class=\"plotly-graph-div\" style=\"height:525px; width:100%;\"></div>            <script type=\"text/javascript\">                require([\"plotly\"], function(Plotly) {                    window.PLOTLYENV=window.PLOTLYENV || {};\n",
       "                    window.PLOTLYENV.BASE_URL='https://plot.ly';                                    if (document.getElementById(\"4b5c1781-fbac-4c85-909d-31c1df792978\")) {                    Plotly.newPlot(                        \"4b5c1781-fbac-4c85-909d-31c1df792978\",                        [{\"marker\": {\"color\": \"rgba(255, 153, 51, 0.6)\", \"line\": {\"color\": \"rgba(255, 153, 51, 1.0)\", \"width\": 1}}, \"name\": \"None\", \"orientation\": \"v\", \"text\": \"\", \"type\": \"bar\", \"x\": [\"A\", \"B\", \"C\", \"D\"], \"y\": [100, 100, 100, 100]}],                        {\"legend\": {\"bgcolor\": \"#F5F6F9\", \"font\": {\"color\": \"#4D5663\"}}, \"paper_bgcolor\": \"#F5F6F9\", \"plot_bgcolor\": \"#F5F6F9\", \"template\": {\"data\": {\"bar\": [{\"error_x\": {\"color\": \"#2a3f5f\"}, \"error_y\": {\"color\": \"#2a3f5f\"}, \"marker\": {\"line\": {\"color\": \"#E5ECF6\", \"width\": 0.5}}, \"type\": \"bar\"}], \"barpolar\": [{\"marker\": {\"line\": {\"color\": \"#E5ECF6\", \"width\": 0.5}}, \"type\": \"barpolar\"}], \"carpet\": [{\"aaxis\": {\"endlinecolor\": \"#2a3f5f\", \"gridcolor\": \"white\", \"linecolor\": \"white\", \"minorgridcolor\": \"white\", \"startlinecolor\": \"#2a3f5f\"}, \"baxis\": {\"endlinecolor\": \"#2a3f5f\", \"gridcolor\": \"white\", \"linecolor\": \"white\", \"minorgridcolor\": \"white\", \"startlinecolor\": \"#2a3f5f\"}, \"type\": \"carpet\"}], \"choropleth\": [{\"colorbar\": {\"outlinewidth\": 0, \"ticks\": \"\"}, \"type\": \"choropleth\"}], \"contour\": [{\"colorbar\": {\"outlinewidth\": 0, \"ticks\": \"\"}, \"colorscale\": [[0.0, \"#0d0887\"], [0.1111111111111111, \"#46039f\"], [0.2222222222222222, \"#7201a8\"], [0.3333333333333333, \"#9c179e\"], [0.4444444444444444, \"#bd3786\"], [0.5555555555555556, \"#d8576b\"], [0.6666666666666666, \"#ed7953\"], [0.7777777777777778, \"#fb9f3a\"], [0.8888888888888888, \"#fdca26\"], [1.0, \"#f0f921\"]], \"type\": \"contour\"}], \"contourcarpet\": [{\"colorbar\": {\"outlinewidth\": 0, \"ticks\": \"\"}, \"type\": \"contourcarpet\"}], \"heatmap\": [{\"colorbar\": {\"outlinewidth\": 0, \"ticks\": \"\"}, \"colorscale\": [[0.0, \"#0d0887\"], [0.1111111111111111, \"#46039f\"], [0.2222222222222222, \"#7201a8\"], [0.3333333333333333, \"#9c179e\"], [0.4444444444444444, \"#bd3786\"], [0.5555555555555556, \"#d8576b\"], [0.6666666666666666, \"#ed7953\"], [0.7777777777777778, \"#fb9f3a\"], [0.8888888888888888, \"#fdca26\"], [1.0, \"#f0f921\"]], \"type\": \"heatmap\"}], \"heatmapgl\": [{\"colorbar\": {\"outlinewidth\": 0, \"ticks\": \"\"}, \"colorscale\": [[0.0, \"#0d0887\"], [0.1111111111111111, \"#46039f\"], [0.2222222222222222, \"#7201a8\"], [0.3333333333333333, \"#9c179e\"], [0.4444444444444444, \"#bd3786\"], [0.5555555555555556, \"#d8576b\"], [0.6666666666666666, \"#ed7953\"], [0.7777777777777778, \"#fb9f3a\"], [0.8888888888888888, \"#fdca26\"], [1.0, \"#f0f921\"]], \"type\": \"heatmapgl\"}], \"histogram\": [{\"marker\": {\"colorbar\": {\"outlinewidth\": 0, \"ticks\": \"\"}}, \"type\": \"histogram\"}], \"histogram2d\": [{\"colorbar\": {\"outlinewidth\": 0, \"ticks\": \"\"}, \"colorscale\": [[0.0, \"#0d0887\"], [0.1111111111111111, \"#46039f\"], [0.2222222222222222, \"#7201a8\"], [0.3333333333333333, \"#9c179e\"], [0.4444444444444444, \"#bd3786\"], [0.5555555555555556, \"#d8576b\"], [0.6666666666666666, \"#ed7953\"], [0.7777777777777778, \"#fb9f3a\"], [0.8888888888888888, \"#fdca26\"], [1.0, \"#f0f921\"]], \"type\": \"histogram2d\"}], \"histogram2dcontour\": [{\"colorbar\": {\"outlinewidth\": 0, \"ticks\": \"\"}, \"colorscale\": [[0.0, \"#0d0887\"], [0.1111111111111111, \"#46039f\"], [0.2222222222222222, \"#7201a8\"], [0.3333333333333333, \"#9c179e\"], [0.4444444444444444, \"#bd3786\"], [0.5555555555555556, \"#d8576b\"], [0.6666666666666666, \"#ed7953\"], [0.7777777777777778, \"#fb9f3a\"], [0.8888888888888888, \"#fdca26\"], [1.0, \"#f0f921\"]], \"type\": \"histogram2dcontour\"}], \"mesh3d\": [{\"colorbar\": {\"outlinewidth\": 0, \"ticks\": \"\"}, \"type\": \"mesh3d\"}], \"parcoords\": [{\"line\": {\"colorbar\": {\"outlinewidth\": 0, \"ticks\": \"\"}}, \"type\": \"parcoords\"}], \"pie\": [{\"automargin\": true, \"type\": \"pie\"}], \"scatter\": [{\"marker\": {\"colorbar\": {\"outlinewidth\": 0, \"ticks\": \"\"}}, \"type\": \"scatter\"}], \"scatter3d\": [{\"line\": {\"colorbar\": {\"outlinewidth\": 0, \"ticks\": \"\"}}, \"marker\": {\"colorbar\": {\"outlinewidth\": 0, \"ticks\": \"\"}}, \"type\": \"scatter3d\"}], \"scattercarpet\": [{\"marker\": {\"colorbar\": {\"outlinewidth\": 0, \"ticks\": \"\"}}, \"type\": \"scattercarpet\"}], \"scattergeo\": [{\"marker\": {\"colorbar\": {\"outlinewidth\": 0, \"ticks\": \"\"}}, \"type\": \"scattergeo\"}], \"scattergl\": [{\"marker\": {\"colorbar\": {\"outlinewidth\": 0, \"ticks\": \"\"}}, \"type\": \"scattergl\"}], \"scattermapbox\": [{\"marker\": {\"colorbar\": {\"outlinewidth\": 0, \"ticks\": \"\"}}, \"type\": \"scattermapbox\"}], \"scatterpolar\": [{\"marker\": {\"colorbar\": {\"outlinewidth\": 0, \"ticks\": \"\"}}, \"type\": \"scatterpolar\"}], \"scatterpolargl\": [{\"marker\": {\"colorbar\": {\"outlinewidth\": 0, \"ticks\": \"\"}}, \"type\": \"scatterpolargl\"}], \"scatterternary\": [{\"marker\": {\"colorbar\": {\"outlinewidth\": 0, \"ticks\": \"\"}}, \"type\": \"scatterternary\"}], \"surface\": [{\"colorbar\": {\"outlinewidth\": 0, \"ticks\": \"\"}, \"colorscale\": [[0.0, \"#0d0887\"], [0.1111111111111111, \"#46039f\"], [0.2222222222222222, \"#7201a8\"], [0.3333333333333333, \"#9c179e\"], [0.4444444444444444, \"#bd3786\"], [0.5555555555555556, \"#d8576b\"], [0.6666666666666666, \"#ed7953\"], [0.7777777777777778, \"#fb9f3a\"], [0.8888888888888888, \"#fdca26\"], [1.0, \"#f0f921\"]], \"type\": \"surface\"}], \"table\": [{\"cells\": {\"fill\": {\"color\": \"#EBF0F8\"}, \"line\": {\"color\": \"white\"}}, \"header\": {\"fill\": {\"color\": \"#C8D4E3\"}, \"line\": {\"color\": \"white\"}}, \"type\": \"table\"}]}, \"layout\": {\"annotationdefaults\": {\"arrowcolor\": \"#2a3f5f\", \"arrowhead\": 0, \"arrowwidth\": 1}, \"autotypenumbers\": \"strict\", \"coloraxis\": {\"colorbar\": {\"outlinewidth\": 0, \"ticks\": \"\"}}, \"colorscale\": {\"diverging\": [[0, \"#8e0152\"], [0.1, \"#c51b7d\"], [0.2, \"#de77ae\"], [0.3, \"#f1b6da\"], [0.4, \"#fde0ef\"], [0.5, \"#f7f7f7\"], [0.6, \"#e6f5d0\"], [0.7, \"#b8e186\"], [0.8, \"#7fbc41\"], [0.9, \"#4d9221\"], [1, \"#276419\"]], \"sequential\": [[0.0, \"#0d0887\"], [0.1111111111111111, \"#46039f\"], [0.2222222222222222, \"#7201a8\"], [0.3333333333333333, \"#9c179e\"], [0.4444444444444444, \"#bd3786\"], [0.5555555555555556, \"#d8576b\"], [0.6666666666666666, \"#ed7953\"], [0.7777777777777778, \"#fb9f3a\"], [0.8888888888888888, \"#fdca26\"], [1.0, \"#f0f921\"]], \"sequentialminus\": [[0.0, \"#0d0887\"], [0.1111111111111111, \"#46039f\"], [0.2222222222222222, \"#7201a8\"], [0.3333333333333333, \"#9c179e\"], [0.4444444444444444, \"#bd3786\"], [0.5555555555555556, \"#d8576b\"], [0.6666666666666666, \"#ed7953\"], [0.7777777777777778, \"#fb9f3a\"], [0.8888888888888888, \"#fdca26\"], [1.0, \"#f0f921\"]]}, \"colorway\": [\"#636efa\", \"#EF553B\", \"#00cc96\", \"#ab63fa\", \"#FFA15A\", \"#19d3f3\", \"#FF6692\", \"#B6E880\", \"#FF97FF\", \"#FECB52\"], \"font\": {\"color\": \"#2a3f5f\"}, \"geo\": {\"bgcolor\": \"white\", \"lakecolor\": \"white\", \"landcolor\": \"#E5ECF6\", \"showlakes\": true, \"showland\": true, \"subunitcolor\": \"white\"}, \"hoverlabel\": {\"align\": \"left\"}, \"hovermode\": \"closest\", \"mapbox\": {\"style\": \"light\"}, \"paper_bgcolor\": \"white\", \"plot_bgcolor\": \"#E5ECF6\", \"polar\": {\"angularaxis\": {\"gridcolor\": \"white\", \"linecolor\": \"white\", \"ticks\": \"\"}, \"bgcolor\": \"#E5ECF6\", \"radialaxis\": {\"gridcolor\": \"white\", \"linecolor\": \"white\", \"ticks\": \"\"}}, \"scene\": {\"xaxis\": {\"backgroundcolor\": \"#E5ECF6\", \"gridcolor\": \"white\", \"gridwidth\": 2, \"linecolor\": \"white\", \"showbackground\": true, \"ticks\": \"\", \"zerolinecolor\": \"white\"}, \"yaxis\": {\"backgroundcolor\": \"#E5ECF6\", \"gridcolor\": \"white\", \"gridwidth\": 2, \"linecolor\": \"white\", \"showbackground\": true, \"ticks\": \"\", \"zerolinecolor\": \"white\"}, \"zaxis\": {\"backgroundcolor\": \"#E5ECF6\", \"gridcolor\": \"white\", \"gridwidth\": 2, \"linecolor\": \"white\", \"showbackground\": true, \"ticks\": \"\", \"zerolinecolor\": \"white\"}}, \"shapedefaults\": {\"line\": {\"color\": \"#2a3f5f\"}}, \"ternary\": {\"aaxis\": {\"gridcolor\": \"white\", \"linecolor\": \"white\", \"ticks\": \"\"}, \"baxis\": {\"gridcolor\": \"white\", \"linecolor\": \"white\", \"ticks\": \"\"}, \"bgcolor\": \"#E5ECF6\", \"caxis\": {\"gridcolor\": \"white\", \"linecolor\": \"white\", \"ticks\": \"\"}}, \"title\": {\"x\": 0.05}, \"xaxis\": {\"automargin\": true, \"gridcolor\": \"white\", \"linecolor\": \"white\", \"ticks\": \"\", \"title\": {\"standoff\": 15}, \"zerolinecolor\": \"white\", \"zerolinewidth\": 2}, \"yaxis\": {\"automargin\": true, \"gridcolor\": \"white\", \"linecolor\": \"white\", \"ticks\": \"\", \"title\": {\"standoff\": 15}, \"zerolinecolor\": \"white\", \"zerolinewidth\": 2}}}, \"title\": {\"font\": {\"color\": \"#4D5663\"}}, \"xaxis\": {\"gridcolor\": \"#E1E5ED\", \"showgrid\": true, \"tickfont\": {\"color\": \"#4D5663\"}, \"title\": {\"font\": {\"color\": \"#4D5663\"}, \"text\": \"\"}, \"zerolinecolor\": \"#E1E5ED\"}, \"yaxis\": {\"gridcolor\": \"#E1E5ED\", \"showgrid\": true, \"tickfont\": {\"color\": \"#4D5663\"}, \"title\": {\"font\": {\"color\": \"#4D5663\"}, \"text\": \"\"}, \"zerolinecolor\": \"#E1E5ED\"}},                        {\"showLink\": true, \"linkText\": \"Export to plot.ly\", \"plotlyServerURL\": \"https://plot.ly\", \"responsive\": true}                    ).then(function(){\n",
       "                            \n",
       "var gd = document.getElementById('4b5c1781-fbac-4c85-909d-31c1df792978');\n",
       "var x = new MutationObserver(function (mutations, observer) {{\n",
       "        var display = window.getComputedStyle(gd).display;\n",
       "        if (!display || display === 'none') {{\n",
       "            console.log([gd, 'removed!']);\n",
       "            Plotly.purge(gd);\n",
       "            observer.disconnect();\n",
       "        }}\n",
       "}});\n",
       "\n",
       "// Listen for the removal of the full notebook cells\n",
       "var notebookContainer = gd.closest('#notebook-container');\n",
       "if (notebookContainer) {{\n",
       "    x.observe(notebookContainer, {childList: true});\n",
       "}}\n",
       "\n",
       "// Listen for the clearing of the current output cell\n",
       "var outputEl = gd.closest('.output');\n",
       "if (outputEl) {{\n",
       "    x.observe(outputEl, {childList: true});\n",
       "}}\n",
       "\n",
       "                        })                };                });            </script>        </div>"
      ]
     },
     "metadata": {},
     "output_type": "display_data"
    }
   ],
   "source": [
    "df.count().iplot(kind='bar')"
   ]
  },
  {
   "cell_type": "markdown",
   "metadata": {},
   "source": [
    "## Boxplots"
   ]
  },
  {
   "cell_type": "code",
   "execution_count": 14,
   "metadata": {},
   "outputs": [
    {
     "data": {
      "application/vnd.plotly.v1+json": {
       "config": {
        "linkText": "Export to plot.ly",
        "plotlyServerURL": "https://plot.ly",
        "showLink": true
       },
       "data": [
        {
         "boxpoints": false,
         "line": {
          "width": 1.3
         },
         "marker": {
          "color": "rgba(255, 153, 51, 1.0)"
         },
         "name": "A",
         "orientation": "v",
         "type": "box",
         "y": [
          0.4445124197588715,
          0.36205035415301395,
          0.3969041084990429,
          0.2692407675647294,
          -0.5731606881463372,
          -0.6626695566494553,
          -1.1885826763594174,
          1.1797061124639112,
          -0.12435335510677673,
          0.02131024946466258,
          -0.841044462996525,
          -0.7164275059953222,
          0.17357181330712826,
          -0.8666452183680738,
          -0.3122159075440176,
          1.1051992640591732,
          1.950567433402343,
          -1.16047114413995,
          1.270472855864974,
          0.2662445207587512,
          1.3984741432546657,
          0.1574760328512065,
          0.767697269586301,
          1.420591922414267,
          -0.6907202729510498,
          -1.247031761337001,
          -0.38091327734497743,
          0.05116497342890384,
          0.9840904247169046,
          0.29858165515039153,
          -0.2727524510094896,
          -0.21048960143603254,
          0.7139673740857022,
          -0.16023385797409334,
          0.9116261929654899,
          1.4252147908541768,
          -0.8088052527987842,
          1.2167057276698943,
          0.036192051055108504,
          2.3766711632322077,
          -0.8142601028756642,
          1.32285717439343,
          0.7936294163094557,
          -0.5276244168656109,
          -1.347509840579922,
          -1.7445807289925739,
          0.8712960228407316,
          -0.06401887917664259,
          -1.5504797338463046,
          0.8540304950184063,
          -1.3421184144641287,
          0.10154010306848567,
          -0.6916852085852078,
          0.17189917595550383,
          -0.9701019835518537,
          -0.8945692078511854,
          0.5883075904339918,
          0.8506104769036922,
          1.127153818649054,
          -0.4998541777616691,
          -0.02584876008149694,
          -0.432161143303004,
          2.28206533433616,
          -0.5690629153889168,
          -0.4248077276824574,
          -0.3231749483169146,
          -1.1748112767116616,
          0.12788748462071864,
          2.278384498085381,
          -1.6168076480904043,
          1.3173421558532104,
          -1.0653696753546293,
          -0.1504040147443646,
          -1.5231003219007477,
          1.0731865248776302,
          0.3161981373329008,
          0.6179130628258113,
          -1.2322386008952155,
          0.1982437126589551,
          0.171516596799887,
          1.3244963151549742,
          0.6997770867168803,
          0.1578956838629729,
          -1.4556748030418778,
          0.14849228957824614,
          -0.25687658016777665,
          0.1990906077208847,
          -0.23739319765976388,
          1.6743456830520078,
          0.5740378449463213,
          -0.4880763235958073,
          0.4152351549788122,
          -1.4233924220357441,
          0.07106839796078257,
          -0.5458215202047584,
          -1.4029215223122031,
          -2.4160886328514204,
          -0.04674227495362861,
          -0.5797592925690125,
          -0.9780300391295116
         ]
        },
        {
         "boxpoints": false,
         "line": {
          "width": 1.3
         },
         "marker": {
          "color": "rgba(55, 128, 191, 1.0)"
         },
         "name": "B",
         "orientation": "v",
         "type": "box",
         "y": [
          -0.6974834492785861,
          0.5265707753982296,
          -0.07776827797428544,
          -0.5339451906699878,
          -0.7790302886665752,
          -0.7351560296443709,
          0.8085339624996511,
          0.6361945592305132,
          -0.6748913130970792,
          -0.6066952483827125,
          -0.6754438189189058,
          -1.0340066774333512,
          -0.24645264271902192,
          -1.1560839085862804,
          -1.025524281547767,
          -0.9497546642265557,
          -0.21541367777889847,
          0.12195429227566948,
          -1.1704344014413213,
          0.012309507826049594,
          0.13356214797549099,
          0.20033088561699652,
          -0.5825604239393043,
          0.008094169057354685,
          2.30326975138563,
          0.3812004657650732,
          0.8621386798530359,
          -1.0317997889665491,
          -2.105577763733387,
          0.604368051637883,
          1.3785024498319072,
          -1.4906738998136213,
          -0.005277792437393877,
          0.9967361976326541,
          -1.3673910718301645,
          -0.10977136949279971,
          -0.5953982842754707,
          0.1860007397860299,
          1.1924455051673681,
          0.3676128077600115,
          -0.7766586207968474,
          0.1302866455942036,
          -0.2925619978758218,
          1.1126059122521699,
          -1.4217223065757478,
          -1.1241097246955072,
          -0.8164040494133138,
          -0.7540096772936119,
          0.3791695611574733,
          0.9490520805551402,
          -0.40971062506334494,
          0.9005435826101161,
          0.46392921363095735,
          0.23102212634003594,
          1.0865785939606485,
          1.4305345221229842,
          0.34084797401263633,
          -0.030888851300284265,
          0.17486758559954058,
          -0.6711197166289434,
          2.599187965375308,
          0.6263752513742433,
          0.6180370247657457,
          1.2680638021787283,
          2.3789965030675226,
          -1.0446268450076803,
          0.47632445881230345,
          0.9501238509412528,
          -0.8537991737916394,
          0.731521735345266,
          0.6084196715193544,
          1.5534834268955304,
          0.3749500243260987,
          -0.714605928485408,
          1.29945196980955,
          -0.4609787599219854,
          -0.5317687517854143,
          -0.43900882115612183,
          -0.06104875856549778,
          -1.1404600063013492,
          0.9170010691017919,
          -0.7362534089558578,
          -0.8455212449608114,
          0.05782469041110582,
          -0.11944713690184494,
          1.7355595492838432,
          -1.7970157731577507,
          -0.3730788606644096,
          0.023009405817685354,
          -0.2315156716542146,
          0.27912540287718846,
          -1.3705966662852875,
          0.7472522733767284,
          0.9005176103378513,
          0.716327290283002,
          1.314555991394918,
          0.7221539987053497,
          1.1394467201828706,
          -0.04431566287321239,
          0.7376141042686286
         ]
        },
        {
         "boxpoints": false,
         "line": {
          "width": 1.3
         },
         "marker": {
          "color": "rgba(50, 171, 96, 1.0)"
         },
         "name": "C",
         "orientation": "v",
         "type": "box",
         "y": [
          0.9807202405967048,
          0.06495934404745805,
          -0.36682147770856943,
          -0.03597147010170788,
          2.1039528829009124,
          -1.5766739284455658,
          -1.1523546889529963,
          -1.1510872009401658,
          1.686930363727718,
          0.5265043771420701,
          -1.7187176185982018,
          -0.9877567758021711,
          -0.7327543358738599,
          0.332808644967014,
          -1.856617786700503,
          -0.45638126738036017,
          0.4460852412061715,
          -0.40996733914086586,
          0.042717201837724816,
          -0.12187741157722422,
          -0.22605524339259625,
          0.2176577099014336,
          -1.2837818839757584,
          -1.3770152656825976,
          -0.7235662131699643,
          -1.2090540160685892,
          0.39533234681095536,
          0.8228003993393653,
          0.7500775250178906,
          -1.0255554792691635,
          0.9399257491761793,
          1.079798576095632,
          0.839267967223954,
          -0.7868332199991667,
          0.21077910161394361,
          0.3743187524285486,
          -1.6546919410058585,
          0.6724483751510884,
          1.1756475225320373,
          0.41393043279159175,
          -0.0971822763322198,
          -0.7432920169061518,
          -0.18528439091173143,
          -0.39671892843418255,
          0.9750242323326788,
          -0.3156222581854717,
          1.302174739723842,
          0.4202131355178396,
          -0.18633489367649939,
          -0.12720880018978345,
          -0.8711809019783133,
          -1.4766128096061217,
          -2.9718066897234943,
          -0.3730078469092899,
          0.2571386101034309,
          -2.038430992628252,
          -0.8801763818152201,
          0.48766939523518743,
          0.6740086985274447,
          0.19698181022628747,
          0.4588520921724877,
          -0.05493837425086435,
          2.020688845273047,
          1.3837995491160617,
          1.3627531794926535,
          -0.2663999994879829,
          -0.31855408254638695,
          -0.3221482173404135,
          -1.0813733215424397,
          -0.07456682600096277,
          0.022270478528954966,
          -0.7687901778206974,
          0.20211356333211608,
          -0.3466042862672192,
          -0.29770401786177253,
          1.924068981184556,
          0.4166026305574222,
          0.7130618514834973,
          0.7549500289198516,
          0.7480435567616913,
          0.18099971650917926,
          0.055100961271098196,
          0.5338230256264612,
          -1.480283918840456,
          0.5406354071262564,
          -0.5865582807982657,
          -0.02765724334386302,
          -0.6877356155092275,
          -0.3299348292003524,
          0.5270083935750511,
          -1.4009279263124652,
          1.204185223817746,
          2.0002342727662876,
          0.8552937941245979,
          0.6689086788392139,
          -0.1780437572272499,
          1.4610352690906416,
          -0.7883153342248242,
          1.4101027377035793,
          -0.9173861802927062
         ]
        },
        {
         "boxpoints": false,
         "line": {
          "width": 1.3
         },
         "marker": {
          "color": "rgba(128, 0, 128, 1.0)"
         },
         "name": "D",
         "orientation": "v",
         "type": "box",
         "y": [
          1.9123971090410545,
          0.20731978815254576,
          0.5480827947183378,
          -0.3125002179614214,
          -0.08695658497105009,
          -0.01143451325044511,
          -0.057680403919281496,
          -0.31953374555578895,
          0.12392089659460419,
          -1.8421489172772836,
          -1.1973955447982725,
          -2.0745532732852388,
          0.3088064937003683,
          -1.88873465987546,
          1.2066647717665306,
          -0.1512762433495319,
          -0.09342382578583544,
          -0.7107802075648229,
          0.98216585539338,
          0.1116443404998465,
          -0.5360503670606694,
          2.4069270699389325,
          -0.021835613821789564,
          -0.49051914720565176,
          2.52967452460814,
          -0.9614231704468748,
          -0.8636148280761206,
          2.0885718885887754,
          0.3567419175718976,
          2.2417162616504847,
          -0.3499805216568416,
          -0.06246377941350967,
          -0.9130307249543688,
          0.21672128232587234,
          0.3039601406357903,
          -0.3704024048918782,
          -0.4397341667328155,
          0.23626815942283505,
          -1.4165159388518738,
          0.24582637557137516,
          -2.895481841382021,
          -0.2673316098678332,
          -0.25801794151144847,
          1.3785710450412867,
          0.04305953878120779,
          -1.2029740616305302,
          -0.09369581345893953,
          0.9202911146342643,
          -1.2328477698406155,
          0.05888192109937479,
          0.33780081544485774,
          -0.9034069829121224,
          -0.4332288623391349,
          -1.2997925902979068,
          -0.9074637038793495,
          0.9532595230516671,
          -1.4513336342172545,
          -0.7221190490653255,
          0.860961107203073,
          -0.05283710819885914,
          1.7303941172129738,
          1.7386693550314218,
          0.7012970466600155,
          0.08776671116031264,
          1.3522260576402978,
          0.778900077142074,
          -1.1409396494552497,
          -2.5364866220234843,
          -0.9973799889857837,
          -2.3776600537860113,
          0.4322804782784286,
          0.20605848574637545,
          0.2084998309889521,
          0.4087986192576177,
          -1.0102839482906854,
          -1.3051723098783508,
          -0.4375940788817426,
          -0.21158832117656054,
          -1.4183347586119168,
          -0.12368052903158491,
          0.8201793634509791,
          -0.24906131242964358,
          -0.21803405254034677,
          1.6263939571133907,
          -2.284314049583247,
          0.503167524977811,
          -0.08712443998053249,
          1.7862760752496967,
          0.0006600808731873957,
          0.3160566148437891,
          0.0008923865318643821,
          -0.9948516732251163,
          0.6204463199668159,
          -2.1183081564092183,
          0.7936393425462959,
          -0.07123068766319275,
          0.1409696217829003,
          1.1005028839776765,
          -1.2672538010458028,
          -1.2372320331073614
         ]
        }
       ],
       "layout": {
        "legend": {
         "bgcolor": "#F5F6F9",
         "font": {
          "color": "#4D5663"
         }
        },
        "paper_bgcolor": "#F5F6F9",
        "plot_bgcolor": "#F5F6F9",
        "template": {
         "data": {
          "bar": [
           {
            "error_x": {
             "color": "#2a3f5f"
            },
            "error_y": {
             "color": "#2a3f5f"
            },
            "marker": {
             "line": {
              "color": "#E5ECF6",
              "width": 0.5
             }
            },
            "type": "bar"
           }
          ],
          "barpolar": [
           {
            "marker": {
             "line": {
              "color": "#E5ECF6",
              "width": 0.5
             }
            },
            "type": "barpolar"
           }
          ],
          "carpet": [
           {
            "aaxis": {
             "endlinecolor": "#2a3f5f",
             "gridcolor": "white",
             "linecolor": "white",
             "minorgridcolor": "white",
             "startlinecolor": "#2a3f5f"
            },
            "baxis": {
             "endlinecolor": "#2a3f5f",
             "gridcolor": "white",
             "linecolor": "white",
             "minorgridcolor": "white",
             "startlinecolor": "#2a3f5f"
            },
            "type": "carpet"
           }
          ],
          "choropleth": [
           {
            "colorbar": {
             "outlinewidth": 0,
             "ticks": ""
            },
            "type": "choropleth"
           }
          ],
          "contour": [
           {
            "colorbar": {
             "outlinewidth": 0,
             "ticks": ""
            },
            "colorscale": [
             [
              0,
              "#0d0887"
             ],
             [
              0.1111111111111111,
              "#46039f"
             ],
             [
              0.2222222222222222,
              "#7201a8"
             ],
             [
              0.3333333333333333,
              "#9c179e"
             ],
             [
              0.4444444444444444,
              "#bd3786"
             ],
             [
              0.5555555555555556,
              "#d8576b"
             ],
             [
              0.6666666666666666,
              "#ed7953"
             ],
             [
              0.7777777777777778,
              "#fb9f3a"
             ],
             [
              0.8888888888888888,
              "#fdca26"
             ],
             [
              1,
              "#f0f921"
             ]
            ],
            "type": "contour"
           }
          ],
          "contourcarpet": [
           {
            "colorbar": {
             "outlinewidth": 0,
             "ticks": ""
            },
            "type": "contourcarpet"
           }
          ],
          "heatmap": [
           {
            "colorbar": {
             "outlinewidth": 0,
             "ticks": ""
            },
            "colorscale": [
             [
              0,
              "#0d0887"
             ],
             [
              0.1111111111111111,
              "#46039f"
             ],
             [
              0.2222222222222222,
              "#7201a8"
             ],
             [
              0.3333333333333333,
              "#9c179e"
             ],
             [
              0.4444444444444444,
              "#bd3786"
             ],
             [
              0.5555555555555556,
              "#d8576b"
             ],
             [
              0.6666666666666666,
              "#ed7953"
             ],
             [
              0.7777777777777778,
              "#fb9f3a"
             ],
             [
              0.8888888888888888,
              "#fdca26"
             ],
             [
              1,
              "#f0f921"
             ]
            ],
            "type": "heatmap"
           }
          ],
          "heatmapgl": [
           {
            "colorbar": {
             "outlinewidth": 0,
             "ticks": ""
            },
            "colorscale": [
             [
              0,
              "#0d0887"
             ],
             [
              0.1111111111111111,
              "#46039f"
             ],
             [
              0.2222222222222222,
              "#7201a8"
             ],
             [
              0.3333333333333333,
              "#9c179e"
             ],
             [
              0.4444444444444444,
              "#bd3786"
             ],
             [
              0.5555555555555556,
              "#d8576b"
             ],
             [
              0.6666666666666666,
              "#ed7953"
             ],
             [
              0.7777777777777778,
              "#fb9f3a"
             ],
             [
              0.8888888888888888,
              "#fdca26"
             ],
             [
              1,
              "#f0f921"
             ]
            ],
            "type": "heatmapgl"
           }
          ],
          "histogram": [
           {
            "marker": {
             "colorbar": {
              "outlinewidth": 0,
              "ticks": ""
             }
            },
            "type": "histogram"
           }
          ],
          "histogram2d": [
           {
            "colorbar": {
             "outlinewidth": 0,
             "ticks": ""
            },
            "colorscale": [
             [
              0,
              "#0d0887"
             ],
             [
              0.1111111111111111,
              "#46039f"
             ],
             [
              0.2222222222222222,
              "#7201a8"
             ],
             [
              0.3333333333333333,
              "#9c179e"
             ],
             [
              0.4444444444444444,
              "#bd3786"
             ],
             [
              0.5555555555555556,
              "#d8576b"
             ],
             [
              0.6666666666666666,
              "#ed7953"
             ],
             [
              0.7777777777777778,
              "#fb9f3a"
             ],
             [
              0.8888888888888888,
              "#fdca26"
             ],
             [
              1,
              "#f0f921"
             ]
            ],
            "type": "histogram2d"
           }
          ],
          "histogram2dcontour": [
           {
            "colorbar": {
             "outlinewidth": 0,
             "ticks": ""
            },
            "colorscale": [
             [
              0,
              "#0d0887"
             ],
             [
              0.1111111111111111,
              "#46039f"
             ],
             [
              0.2222222222222222,
              "#7201a8"
             ],
             [
              0.3333333333333333,
              "#9c179e"
             ],
             [
              0.4444444444444444,
              "#bd3786"
             ],
             [
              0.5555555555555556,
              "#d8576b"
             ],
             [
              0.6666666666666666,
              "#ed7953"
             ],
             [
              0.7777777777777778,
              "#fb9f3a"
             ],
             [
              0.8888888888888888,
              "#fdca26"
             ],
             [
              1,
              "#f0f921"
             ]
            ],
            "type": "histogram2dcontour"
           }
          ],
          "mesh3d": [
           {
            "colorbar": {
             "outlinewidth": 0,
             "ticks": ""
            },
            "type": "mesh3d"
           }
          ],
          "parcoords": [
           {
            "line": {
             "colorbar": {
              "outlinewidth": 0,
              "ticks": ""
             }
            },
            "type": "parcoords"
           }
          ],
          "pie": [
           {
            "automargin": true,
            "type": "pie"
           }
          ],
          "scatter": [
           {
            "marker": {
             "colorbar": {
              "outlinewidth": 0,
              "ticks": ""
             }
            },
            "type": "scatter"
           }
          ],
          "scatter3d": [
           {
            "line": {
             "colorbar": {
              "outlinewidth": 0,
              "ticks": ""
             }
            },
            "marker": {
             "colorbar": {
              "outlinewidth": 0,
              "ticks": ""
             }
            },
            "type": "scatter3d"
           }
          ],
          "scattercarpet": [
           {
            "marker": {
             "colorbar": {
              "outlinewidth": 0,
              "ticks": ""
             }
            },
            "type": "scattercarpet"
           }
          ],
          "scattergeo": [
           {
            "marker": {
             "colorbar": {
              "outlinewidth": 0,
              "ticks": ""
             }
            },
            "type": "scattergeo"
           }
          ],
          "scattergl": [
           {
            "marker": {
             "colorbar": {
              "outlinewidth": 0,
              "ticks": ""
             }
            },
            "type": "scattergl"
           }
          ],
          "scattermapbox": [
           {
            "marker": {
             "colorbar": {
              "outlinewidth": 0,
              "ticks": ""
             }
            },
            "type": "scattermapbox"
           }
          ],
          "scatterpolar": [
           {
            "marker": {
             "colorbar": {
              "outlinewidth": 0,
              "ticks": ""
             }
            },
            "type": "scatterpolar"
           }
          ],
          "scatterpolargl": [
           {
            "marker": {
             "colorbar": {
              "outlinewidth": 0,
              "ticks": ""
             }
            },
            "type": "scatterpolargl"
           }
          ],
          "scatterternary": [
           {
            "marker": {
             "colorbar": {
              "outlinewidth": 0,
              "ticks": ""
             }
            },
            "type": "scatterternary"
           }
          ],
          "surface": [
           {
            "colorbar": {
             "outlinewidth": 0,
             "ticks": ""
            },
            "colorscale": [
             [
              0,
              "#0d0887"
             ],
             [
              0.1111111111111111,
              "#46039f"
             ],
             [
              0.2222222222222222,
              "#7201a8"
             ],
             [
              0.3333333333333333,
              "#9c179e"
             ],
             [
              0.4444444444444444,
              "#bd3786"
             ],
             [
              0.5555555555555556,
              "#d8576b"
             ],
             [
              0.6666666666666666,
              "#ed7953"
             ],
             [
              0.7777777777777778,
              "#fb9f3a"
             ],
             [
              0.8888888888888888,
              "#fdca26"
             ],
             [
              1,
              "#f0f921"
             ]
            ],
            "type": "surface"
           }
          ],
          "table": [
           {
            "cells": {
             "fill": {
              "color": "#EBF0F8"
             },
             "line": {
              "color": "white"
             }
            },
            "header": {
             "fill": {
              "color": "#C8D4E3"
             },
             "line": {
              "color": "white"
             }
            },
            "type": "table"
           }
          ]
         },
         "layout": {
          "annotationdefaults": {
           "arrowcolor": "#2a3f5f",
           "arrowhead": 0,
           "arrowwidth": 1
          },
          "autotypenumbers": "strict",
          "coloraxis": {
           "colorbar": {
            "outlinewidth": 0,
            "ticks": ""
           }
          },
          "colorscale": {
           "diverging": [
            [
             0,
             "#8e0152"
            ],
            [
             0.1,
             "#c51b7d"
            ],
            [
             0.2,
             "#de77ae"
            ],
            [
             0.3,
             "#f1b6da"
            ],
            [
             0.4,
             "#fde0ef"
            ],
            [
             0.5,
             "#f7f7f7"
            ],
            [
             0.6,
             "#e6f5d0"
            ],
            [
             0.7,
             "#b8e186"
            ],
            [
             0.8,
             "#7fbc41"
            ],
            [
             0.9,
             "#4d9221"
            ],
            [
             1,
             "#276419"
            ]
           ],
           "sequential": [
            [
             0,
             "#0d0887"
            ],
            [
             0.1111111111111111,
             "#46039f"
            ],
            [
             0.2222222222222222,
             "#7201a8"
            ],
            [
             0.3333333333333333,
             "#9c179e"
            ],
            [
             0.4444444444444444,
             "#bd3786"
            ],
            [
             0.5555555555555556,
             "#d8576b"
            ],
            [
             0.6666666666666666,
             "#ed7953"
            ],
            [
             0.7777777777777778,
             "#fb9f3a"
            ],
            [
             0.8888888888888888,
             "#fdca26"
            ],
            [
             1,
             "#f0f921"
            ]
           ],
           "sequentialminus": [
            [
             0,
             "#0d0887"
            ],
            [
             0.1111111111111111,
             "#46039f"
            ],
            [
             0.2222222222222222,
             "#7201a8"
            ],
            [
             0.3333333333333333,
             "#9c179e"
            ],
            [
             0.4444444444444444,
             "#bd3786"
            ],
            [
             0.5555555555555556,
             "#d8576b"
            ],
            [
             0.6666666666666666,
             "#ed7953"
            ],
            [
             0.7777777777777778,
             "#fb9f3a"
            ],
            [
             0.8888888888888888,
             "#fdca26"
            ],
            [
             1,
             "#f0f921"
            ]
           ]
          },
          "colorway": [
           "#636efa",
           "#EF553B",
           "#00cc96",
           "#ab63fa",
           "#FFA15A",
           "#19d3f3",
           "#FF6692",
           "#B6E880",
           "#FF97FF",
           "#FECB52"
          ],
          "font": {
           "color": "#2a3f5f"
          },
          "geo": {
           "bgcolor": "white",
           "lakecolor": "white",
           "landcolor": "#E5ECF6",
           "showlakes": true,
           "showland": true,
           "subunitcolor": "white"
          },
          "hoverlabel": {
           "align": "left"
          },
          "hovermode": "closest",
          "mapbox": {
           "style": "light"
          },
          "paper_bgcolor": "white",
          "plot_bgcolor": "#E5ECF6",
          "polar": {
           "angularaxis": {
            "gridcolor": "white",
            "linecolor": "white",
            "ticks": ""
           },
           "bgcolor": "#E5ECF6",
           "radialaxis": {
            "gridcolor": "white",
            "linecolor": "white",
            "ticks": ""
           }
          },
          "scene": {
           "xaxis": {
            "backgroundcolor": "#E5ECF6",
            "gridcolor": "white",
            "gridwidth": 2,
            "linecolor": "white",
            "showbackground": true,
            "ticks": "",
            "zerolinecolor": "white"
           },
           "yaxis": {
            "backgroundcolor": "#E5ECF6",
            "gridcolor": "white",
            "gridwidth": 2,
            "linecolor": "white",
            "showbackground": true,
            "ticks": "",
            "zerolinecolor": "white"
           },
           "zaxis": {
            "backgroundcolor": "#E5ECF6",
            "gridcolor": "white",
            "gridwidth": 2,
            "linecolor": "white",
            "showbackground": true,
            "ticks": "",
            "zerolinecolor": "white"
           }
          },
          "shapedefaults": {
           "line": {
            "color": "#2a3f5f"
           }
          },
          "ternary": {
           "aaxis": {
            "gridcolor": "white",
            "linecolor": "white",
            "ticks": ""
           },
           "baxis": {
            "gridcolor": "white",
            "linecolor": "white",
            "ticks": ""
           },
           "bgcolor": "#E5ECF6",
           "caxis": {
            "gridcolor": "white",
            "linecolor": "white",
            "ticks": ""
           }
          },
          "title": {
           "x": 0.05
          },
          "xaxis": {
           "automargin": true,
           "gridcolor": "white",
           "linecolor": "white",
           "ticks": "",
           "title": {
            "standoff": 15
           },
           "zerolinecolor": "white",
           "zerolinewidth": 2
          },
          "yaxis": {
           "automargin": true,
           "gridcolor": "white",
           "linecolor": "white",
           "ticks": "",
           "title": {
            "standoff": 15
           },
           "zerolinecolor": "white",
           "zerolinewidth": 2
          }
         }
        },
        "title": {
         "font": {
          "color": "#4D5663"
         }
        },
        "xaxis": {
         "gridcolor": "#E1E5ED",
         "showgrid": true,
         "tickfont": {
          "color": "#4D5663"
         },
         "title": {
          "font": {
           "color": "#4D5663"
          },
          "text": ""
         },
         "zerolinecolor": "#E1E5ED"
        },
        "yaxis": {
         "gridcolor": "#E1E5ED",
         "showgrid": true,
         "tickfont": {
          "color": "#4D5663"
         },
         "title": {
          "font": {
           "color": "#4D5663"
          },
          "text": ""
         },
         "zerolinecolor": "#E1E5ED"
        }
       }
      },
      "text/html": [
       "<div>                            <div id=\"52724370-b648-4d20-a485-3eb2b73c9a8a\" class=\"plotly-graph-div\" style=\"height:525px; width:100%;\"></div>            <script type=\"text/javascript\">                require([\"plotly\"], function(Plotly) {                    window.PLOTLYENV=window.PLOTLYENV || {};\n",
       "                    window.PLOTLYENV.BASE_URL='https://plot.ly';                                    if (document.getElementById(\"52724370-b648-4d20-a485-3eb2b73c9a8a\")) {                    Plotly.newPlot(                        \"52724370-b648-4d20-a485-3eb2b73c9a8a\",                        [{\"boxpoints\": false, \"line\": {\"width\": 1.3}, \"marker\": {\"color\": \"rgba(255, 153, 51, 1.0)\"}, \"name\": \"A\", \"orientation\": \"v\", \"type\": \"box\", \"y\": [0.4445124197588715, 0.36205035415301395, 0.3969041084990429, 0.2692407675647294, -0.5731606881463372, -0.6626695566494553, -1.1885826763594174, 1.1797061124639112, -0.12435335510677673, 0.02131024946466258, -0.841044462996525, -0.7164275059953222, 0.17357181330712826, -0.8666452183680738, -0.3122159075440176, 1.1051992640591732, 1.950567433402343, -1.16047114413995, 1.270472855864974, 0.2662445207587512, 1.3984741432546657, 0.1574760328512065, 0.767697269586301, 1.420591922414267, -0.6907202729510498, -1.247031761337001, -0.38091327734497743, 0.05116497342890384, 0.9840904247169046, 0.29858165515039153, -0.2727524510094896, -0.21048960143603254, 0.7139673740857022, -0.16023385797409334, 0.9116261929654899, 1.4252147908541768, -0.8088052527987842, 1.2167057276698943, 0.036192051055108504, 2.3766711632322077, -0.8142601028756642, 1.32285717439343, 0.7936294163094557, -0.5276244168656109, -1.347509840579922, -1.7445807289925739, 0.8712960228407316, -0.06401887917664259, -1.5504797338463046, 0.8540304950184063, -1.3421184144641287, 0.10154010306848567, -0.6916852085852078, 0.17189917595550383, -0.9701019835518537, -0.8945692078511854, 0.5883075904339918, 0.8506104769036922, 1.127153818649054, -0.4998541777616691, -0.02584876008149694, -0.432161143303004, 2.28206533433616, -0.5690629153889168, -0.4248077276824574, -0.3231749483169146, -1.1748112767116616, 0.12788748462071864, 2.278384498085381, -1.6168076480904043, 1.3173421558532104, -1.0653696753546293, -0.1504040147443646, -1.5231003219007477, 1.0731865248776302, 0.3161981373329008, 0.6179130628258113, -1.2322386008952155, 0.1982437126589551, 0.171516596799887, 1.3244963151549742, 0.6997770867168803, 0.1578956838629729, -1.4556748030418778, 0.14849228957824614, -0.25687658016777665, 0.1990906077208847, -0.23739319765976388, 1.6743456830520078, 0.5740378449463213, -0.4880763235958073, 0.4152351549788122, -1.4233924220357441, 0.07106839796078257, -0.5458215202047584, -1.4029215223122031, -2.4160886328514204, -0.04674227495362861, -0.5797592925690125, -0.9780300391295116]}, {\"boxpoints\": false, \"line\": {\"width\": 1.3}, \"marker\": {\"color\": \"rgba(55, 128, 191, 1.0)\"}, \"name\": \"B\", \"orientation\": \"v\", \"type\": \"box\", \"y\": [-0.6974834492785861, 0.5265707753982296, -0.07776827797428544, -0.5339451906699878, -0.7790302886665752, -0.7351560296443709, 0.8085339624996511, 0.6361945592305132, -0.6748913130970792, -0.6066952483827125, -0.6754438189189058, -1.0340066774333512, -0.24645264271902192, -1.1560839085862804, -1.025524281547767, -0.9497546642265557, -0.21541367777889847, 0.12195429227566948, -1.1704344014413213, 0.012309507826049594, 0.13356214797549099, 0.20033088561699652, -0.5825604239393043, 0.008094169057354685, 2.30326975138563, 0.3812004657650732, 0.8621386798530359, -1.0317997889665491, -2.105577763733387, 0.604368051637883, 1.3785024498319072, -1.4906738998136213, -0.005277792437393877, 0.9967361976326541, -1.3673910718301645, -0.10977136949279971, -0.5953982842754707, 0.1860007397860299, 1.1924455051673681, 0.3676128077600115, -0.7766586207968474, 0.1302866455942036, -0.2925619978758218, 1.1126059122521699, -1.4217223065757478, -1.1241097246955072, -0.8164040494133138, -0.7540096772936119, 0.3791695611574733, 0.9490520805551402, -0.40971062506334494, 0.9005435826101161, 0.46392921363095735, 0.23102212634003594, 1.0865785939606485, 1.4305345221229842, 0.34084797401263633, -0.030888851300284265, 0.17486758559954058, -0.6711197166289434, 2.599187965375308, 0.6263752513742433, 0.6180370247657457, 1.2680638021787283, 2.3789965030675226, -1.0446268450076803, 0.47632445881230345, 0.9501238509412528, -0.8537991737916394, 0.731521735345266, 0.6084196715193544, 1.5534834268955304, 0.3749500243260987, -0.714605928485408, 1.29945196980955, -0.4609787599219854, -0.5317687517854143, -0.43900882115612183, -0.06104875856549778, -1.1404600063013492, 0.9170010691017919, -0.7362534089558578, -0.8455212449608114, 0.05782469041110582, -0.11944713690184494, 1.7355595492838432, -1.7970157731577507, -0.3730788606644096, 0.023009405817685354, -0.2315156716542146, 0.27912540287718846, -1.3705966662852875, 0.7472522733767284, 0.9005176103378513, 0.716327290283002, 1.314555991394918, 0.7221539987053497, 1.1394467201828706, -0.04431566287321239, 0.7376141042686286]}, {\"boxpoints\": false, \"line\": {\"width\": 1.3}, \"marker\": {\"color\": \"rgba(50, 171, 96, 1.0)\"}, \"name\": \"C\", \"orientation\": \"v\", \"type\": \"box\", \"y\": [0.9807202405967048, 0.06495934404745805, -0.36682147770856943, -0.03597147010170788, 2.1039528829009124, -1.5766739284455658, -1.1523546889529963, -1.1510872009401658, 1.686930363727718, 0.5265043771420701, -1.7187176185982018, -0.9877567758021711, -0.7327543358738599, 0.332808644967014, -1.856617786700503, -0.45638126738036017, 0.4460852412061715, -0.40996733914086586, 0.042717201837724816, -0.12187741157722422, -0.22605524339259625, 0.2176577099014336, -1.2837818839757584, -1.3770152656825976, -0.7235662131699643, -1.2090540160685892, 0.39533234681095536, 0.8228003993393653, 0.7500775250178906, -1.0255554792691635, 0.9399257491761793, 1.079798576095632, 0.839267967223954, -0.7868332199991667, 0.21077910161394361, 0.3743187524285486, -1.6546919410058585, 0.6724483751510884, 1.1756475225320373, 0.41393043279159175, -0.0971822763322198, -0.7432920169061518, -0.18528439091173143, -0.39671892843418255, 0.9750242323326788, -0.3156222581854717, 1.302174739723842, 0.4202131355178396, -0.18633489367649939, -0.12720880018978345, -0.8711809019783133, -1.4766128096061217, -2.9718066897234943, -0.3730078469092899, 0.2571386101034309, -2.038430992628252, -0.8801763818152201, 0.48766939523518743, 0.6740086985274447, 0.19698181022628747, 0.4588520921724877, -0.05493837425086435, 2.020688845273047, 1.3837995491160617, 1.3627531794926535, -0.2663999994879829, -0.31855408254638695, -0.3221482173404135, -1.0813733215424397, -0.07456682600096277, 0.022270478528954966, -0.7687901778206974, 0.20211356333211608, -0.3466042862672192, -0.29770401786177253, 1.924068981184556, 0.4166026305574222, 0.7130618514834973, 0.7549500289198516, 0.7480435567616913, 0.18099971650917926, 0.055100961271098196, 0.5338230256264612, -1.480283918840456, 0.5406354071262564, -0.5865582807982657, -0.02765724334386302, -0.6877356155092275, -0.3299348292003524, 0.5270083935750511, -1.4009279263124652, 1.204185223817746, 2.0002342727662876, 0.8552937941245979, 0.6689086788392139, -0.1780437572272499, 1.4610352690906416, -0.7883153342248242, 1.4101027377035793, -0.9173861802927062]}, {\"boxpoints\": false, \"line\": {\"width\": 1.3}, \"marker\": {\"color\": \"rgba(128, 0, 128, 1.0)\"}, \"name\": \"D\", \"orientation\": \"v\", \"type\": \"box\", \"y\": [1.9123971090410545, 0.20731978815254576, 0.5480827947183378, -0.3125002179614214, -0.08695658497105009, -0.01143451325044511, -0.057680403919281496, -0.31953374555578895, 0.12392089659460419, -1.8421489172772836, -1.1973955447982725, -2.0745532732852388, 0.3088064937003683, -1.88873465987546, 1.2066647717665306, -0.1512762433495319, -0.09342382578583544, -0.7107802075648229, 0.98216585539338, 0.1116443404998465, -0.5360503670606694, 2.4069270699389325, -0.021835613821789564, -0.49051914720565176, 2.52967452460814, -0.9614231704468748, -0.8636148280761206, 2.0885718885887754, 0.3567419175718976, 2.2417162616504847, -0.3499805216568416, -0.06246377941350967, -0.9130307249543688, 0.21672128232587234, 0.3039601406357903, -0.3704024048918782, -0.4397341667328155, 0.23626815942283505, -1.4165159388518738, 0.24582637557137516, -2.895481841382021, -0.2673316098678332, -0.25801794151144847, 1.3785710450412867, 0.04305953878120779, -1.2029740616305302, -0.09369581345893953, 0.9202911146342643, -1.2328477698406155, 0.05888192109937479, 0.33780081544485774, -0.9034069829121224, -0.4332288623391349, -1.2997925902979068, -0.9074637038793495, 0.9532595230516671, -1.4513336342172545, -0.7221190490653255, 0.860961107203073, -0.05283710819885914, 1.7303941172129738, 1.7386693550314218, 0.7012970466600155, 0.08776671116031264, 1.3522260576402978, 0.778900077142074, -1.1409396494552497, -2.5364866220234843, -0.9973799889857837, -2.3776600537860113, 0.4322804782784286, 0.20605848574637545, 0.2084998309889521, 0.4087986192576177, -1.0102839482906854, -1.3051723098783508, -0.4375940788817426, -0.21158832117656054, -1.4183347586119168, -0.12368052903158491, 0.8201793634509791, -0.24906131242964358, -0.21803405254034677, 1.6263939571133907, -2.284314049583247, 0.503167524977811, -0.08712443998053249, 1.7862760752496967, 0.0006600808731873957, 0.3160566148437891, 0.0008923865318643821, -0.9948516732251163, 0.6204463199668159, -2.1183081564092183, 0.7936393425462959, -0.07123068766319275, 0.1409696217829003, 1.1005028839776765, -1.2672538010458028, -1.2372320331073614]}],                        {\"legend\": {\"bgcolor\": \"#F5F6F9\", \"font\": {\"color\": \"#4D5663\"}}, \"paper_bgcolor\": \"#F5F6F9\", \"plot_bgcolor\": \"#F5F6F9\", \"template\": {\"data\": {\"bar\": [{\"error_x\": {\"color\": \"#2a3f5f\"}, \"error_y\": {\"color\": \"#2a3f5f\"}, \"marker\": {\"line\": {\"color\": \"#E5ECF6\", \"width\": 0.5}}, \"type\": \"bar\"}], \"barpolar\": [{\"marker\": {\"line\": {\"color\": \"#E5ECF6\", \"width\": 0.5}}, \"type\": \"barpolar\"}], \"carpet\": [{\"aaxis\": {\"endlinecolor\": \"#2a3f5f\", \"gridcolor\": \"white\", \"linecolor\": \"white\", \"minorgridcolor\": \"white\", \"startlinecolor\": \"#2a3f5f\"}, \"baxis\": {\"endlinecolor\": \"#2a3f5f\", \"gridcolor\": \"white\", \"linecolor\": \"white\", \"minorgridcolor\": \"white\", \"startlinecolor\": \"#2a3f5f\"}, \"type\": \"carpet\"}], \"choropleth\": [{\"colorbar\": {\"outlinewidth\": 0, \"ticks\": \"\"}, \"type\": \"choropleth\"}], \"contour\": [{\"colorbar\": {\"outlinewidth\": 0, \"ticks\": \"\"}, \"colorscale\": [[0.0, \"#0d0887\"], [0.1111111111111111, \"#46039f\"], [0.2222222222222222, \"#7201a8\"], [0.3333333333333333, \"#9c179e\"], [0.4444444444444444, \"#bd3786\"], [0.5555555555555556, \"#d8576b\"], [0.6666666666666666, \"#ed7953\"], [0.7777777777777778, \"#fb9f3a\"], [0.8888888888888888, \"#fdca26\"], [1.0, \"#f0f921\"]], \"type\": \"contour\"}], \"contourcarpet\": [{\"colorbar\": {\"outlinewidth\": 0, \"ticks\": \"\"}, \"type\": \"contourcarpet\"}], \"heatmap\": [{\"colorbar\": {\"outlinewidth\": 0, \"ticks\": \"\"}, \"colorscale\": [[0.0, \"#0d0887\"], [0.1111111111111111, \"#46039f\"], [0.2222222222222222, \"#7201a8\"], [0.3333333333333333, \"#9c179e\"], [0.4444444444444444, \"#bd3786\"], [0.5555555555555556, \"#d8576b\"], [0.6666666666666666, \"#ed7953\"], [0.7777777777777778, \"#fb9f3a\"], [0.8888888888888888, \"#fdca26\"], [1.0, \"#f0f921\"]], \"type\": \"heatmap\"}], \"heatmapgl\": [{\"colorbar\": {\"outlinewidth\": 0, \"ticks\": \"\"}, \"colorscale\": [[0.0, \"#0d0887\"], [0.1111111111111111, \"#46039f\"], [0.2222222222222222, \"#7201a8\"], [0.3333333333333333, \"#9c179e\"], [0.4444444444444444, \"#bd3786\"], [0.5555555555555556, \"#d8576b\"], [0.6666666666666666, \"#ed7953\"], [0.7777777777777778, \"#fb9f3a\"], [0.8888888888888888, \"#fdca26\"], [1.0, \"#f0f921\"]], \"type\": \"heatmapgl\"}], \"histogram\": [{\"marker\": {\"colorbar\": {\"outlinewidth\": 0, \"ticks\": \"\"}}, \"type\": \"histogram\"}], \"histogram2d\": [{\"colorbar\": {\"outlinewidth\": 0, \"ticks\": \"\"}, \"colorscale\": [[0.0, \"#0d0887\"], [0.1111111111111111, \"#46039f\"], [0.2222222222222222, \"#7201a8\"], [0.3333333333333333, \"#9c179e\"], [0.4444444444444444, \"#bd3786\"], [0.5555555555555556, \"#d8576b\"], [0.6666666666666666, \"#ed7953\"], [0.7777777777777778, \"#fb9f3a\"], [0.8888888888888888, \"#fdca26\"], [1.0, \"#f0f921\"]], \"type\": \"histogram2d\"}], \"histogram2dcontour\": [{\"colorbar\": {\"outlinewidth\": 0, \"ticks\": \"\"}, \"colorscale\": [[0.0, \"#0d0887\"], [0.1111111111111111, \"#46039f\"], [0.2222222222222222, \"#7201a8\"], [0.3333333333333333, \"#9c179e\"], [0.4444444444444444, \"#bd3786\"], [0.5555555555555556, \"#d8576b\"], [0.6666666666666666, \"#ed7953\"], [0.7777777777777778, \"#fb9f3a\"], [0.8888888888888888, \"#fdca26\"], [1.0, \"#f0f921\"]], \"type\": \"histogram2dcontour\"}], \"mesh3d\": [{\"colorbar\": {\"outlinewidth\": 0, \"ticks\": \"\"}, \"type\": \"mesh3d\"}], \"parcoords\": [{\"line\": {\"colorbar\": {\"outlinewidth\": 0, \"ticks\": \"\"}}, \"type\": \"parcoords\"}], \"pie\": [{\"automargin\": true, \"type\": \"pie\"}], \"scatter\": [{\"marker\": {\"colorbar\": {\"outlinewidth\": 0, \"ticks\": \"\"}}, \"type\": \"scatter\"}], \"scatter3d\": [{\"line\": {\"colorbar\": {\"outlinewidth\": 0, \"ticks\": \"\"}}, \"marker\": {\"colorbar\": {\"outlinewidth\": 0, \"ticks\": \"\"}}, \"type\": \"scatter3d\"}], \"scattercarpet\": [{\"marker\": {\"colorbar\": {\"outlinewidth\": 0, \"ticks\": \"\"}}, \"type\": \"scattercarpet\"}], \"scattergeo\": [{\"marker\": {\"colorbar\": {\"outlinewidth\": 0, \"ticks\": \"\"}}, \"type\": \"scattergeo\"}], \"scattergl\": [{\"marker\": {\"colorbar\": {\"outlinewidth\": 0, \"ticks\": \"\"}}, \"type\": \"scattergl\"}], \"scattermapbox\": [{\"marker\": {\"colorbar\": {\"outlinewidth\": 0, \"ticks\": \"\"}}, \"type\": \"scattermapbox\"}], \"scatterpolar\": [{\"marker\": {\"colorbar\": {\"outlinewidth\": 0, \"ticks\": \"\"}}, \"type\": \"scatterpolar\"}], \"scatterpolargl\": [{\"marker\": {\"colorbar\": {\"outlinewidth\": 0, \"ticks\": \"\"}}, \"type\": \"scatterpolargl\"}], \"scatterternary\": [{\"marker\": {\"colorbar\": {\"outlinewidth\": 0, \"ticks\": \"\"}}, \"type\": \"scatterternary\"}], \"surface\": [{\"colorbar\": {\"outlinewidth\": 0, \"ticks\": \"\"}, \"colorscale\": [[0.0, \"#0d0887\"], [0.1111111111111111, \"#46039f\"], [0.2222222222222222, \"#7201a8\"], [0.3333333333333333, \"#9c179e\"], [0.4444444444444444, \"#bd3786\"], [0.5555555555555556, \"#d8576b\"], [0.6666666666666666, \"#ed7953\"], [0.7777777777777778, \"#fb9f3a\"], [0.8888888888888888, \"#fdca26\"], [1.0, \"#f0f921\"]], \"type\": \"surface\"}], \"table\": [{\"cells\": {\"fill\": {\"color\": \"#EBF0F8\"}, \"line\": {\"color\": \"white\"}}, \"header\": {\"fill\": {\"color\": \"#C8D4E3\"}, \"line\": {\"color\": \"white\"}}, \"type\": \"table\"}]}, \"layout\": {\"annotationdefaults\": {\"arrowcolor\": \"#2a3f5f\", \"arrowhead\": 0, \"arrowwidth\": 1}, \"autotypenumbers\": \"strict\", \"coloraxis\": {\"colorbar\": {\"outlinewidth\": 0, \"ticks\": \"\"}}, \"colorscale\": {\"diverging\": [[0, \"#8e0152\"], [0.1, \"#c51b7d\"], [0.2, \"#de77ae\"], [0.3, \"#f1b6da\"], [0.4, \"#fde0ef\"], [0.5, \"#f7f7f7\"], [0.6, \"#e6f5d0\"], [0.7, \"#b8e186\"], [0.8, \"#7fbc41\"], [0.9, \"#4d9221\"], [1, \"#276419\"]], \"sequential\": [[0.0, \"#0d0887\"], [0.1111111111111111, \"#46039f\"], [0.2222222222222222, \"#7201a8\"], [0.3333333333333333, \"#9c179e\"], [0.4444444444444444, \"#bd3786\"], [0.5555555555555556, \"#d8576b\"], [0.6666666666666666, \"#ed7953\"], [0.7777777777777778, \"#fb9f3a\"], [0.8888888888888888, \"#fdca26\"], [1.0, \"#f0f921\"]], \"sequentialminus\": [[0.0, \"#0d0887\"], [0.1111111111111111, \"#46039f\"], [0.2222222222222222, \"#7201a8\"], [0.3333333333333333, \"#9c179e\"], [0.4444444444444444, \"#bd3786\"], [0.5555555555555556, \"#d8576b\"], [0.6666666666666666, \"#ed7953\"], [0.7777777777777778, \"#fb9f3a\"], [0.8888888888888888, \"#fdca26\"], [1.0, \"#f0f921\"]]}, \"colorway\": [\"#636efa\", \"#EF553B\", \"#00cc96\", \"#ab63fa\", \"#FFA15A\", \"#19d3f3\", \"#FF6692\", \"#B6E880\", \"#FF97FF\", \"#FECB52\"], \"font\": {\"color\": \"#2a3f5f\"}, \"geo\": {\"bgcolor\": \"white\", \"lakecolor\": \"white\", \"landcolor\": \"#E5ECF6\", \"showlakes\": true, \"showland\": true, \"subunitcolor\": \"white\"}, \"hoverlabel\": {\"align\": \"left\"}, \"hovermode\": \"closest\", \"mapbox\": {\"style\": \"light\"}, \"paper_bgcolor\": \"white\", \"plot_bgcolor\": \"#E5ECF6\", \"polar\": {\"angularaxis\": {\"gridcolor\": \"white\", \"linecolor\": \"white\", \"ticks\": \"\"}, \"bgcolor\": \"#E5ECF6\", \"radialaxis\": {\"gridcolor\": \"white\", \"linecolor\": \"white\", \"ticks\": \"\"}}, \"scene\": {\"xaxis\": {\"backgroundcolor\": \"#E5ECF6\", \"gridcolor\": \"white\", \"gridwidth\": 2, \"linecolor\": \"white\", \"showbackground\": true, \"ticks\": \"\", \"zerolinecolor\": \"white\"}, \"yaxis\": {\"backgroundcolor\": \"#E5ECF6\", \"gridcolor\": \"white\", \"gridwidth\": 2, \"linecolor\": \"white\", \"showbackground\": true, \"ticks\": \"\", \"zerolinecolor\": \"white\"}, \"zaxis\": {\"backgroundcolor\": \"#E5ECF6\", \"gridcolor\": \"white\", \"gridwidth\": 2, \"linecolor\": \"white\", \"showbackground\": true, \"ticks\": \"\", \"zerolinecolor\": \"white\"}}, \"shapedefaults\": {\"line\": {\"color\": \"#2a3f5f\"}}, \"ternary\": {\"aaxis\": {\"gridcolor\": \"white\", \"linecolor\": \"white\", \"ticks\": \"\"}, \"baxis\": {\"gridcolor\": \"white\", \"linecolor\": \"white\", \"ticks\": \"\"}, \"bgcolor\": \"#E5ECF6\", \"caxis\": {\"gridcolor\": \"white\", \"linecolor\": \"white\", \"ticks\": \"\"}}, \"title\": {\"x\": 0.05}, \"xaxis\": {\"automargin\": true, \"gridcolor\": \"white\", \"linecolor\": \"white\", \"ticks\": \"\", \"title\": {\"standoff\": 15}, \"zerolinecolor\": \"white\", \"zerolinewidth\": 2}, \"yaxis\": {\"automargin\": true, \"gridcolor\": \"white\", \"linecolor\": \"white\", \"ticks\": \"\", \"title\": {\"standoff\": 15}, \"zerolinecolor\": \"white\", \"zerolinewidth\": 2}}}, \"title\": {\"font\": {\"color\": \"#4D5663\"}}, \"xaxis\": {\"gridcolor\": \"#E1E5ED\", \"showgrid\": true, \"tickfont\": {\"color\": \"#4D5663\"}, \"title\": {\"font\": {\"color\": \"#4D5663\"}, \"text\": \"\"}, \"zerolinecolor\": \"#E1E5ED\"}, \"yaxis\": {\"gridcolor\": \"#E1E5ED\", \"showgrid\": true, \"tickfont\": {\"color\": \"#4D5663\"}, \"title\": {\"font\": {\"color\": \"#4D5663\"}, \"text\": \"\"}, \"zerolinecolor\": \"#E1E5ED\"}},                        {\"showLink\": true, \"linkText\": \"Export to plot.ly\", \"plotlyServerURL\": \"https://plot.ly\", \"responsive\": true}                    ).then(function(){\n",
       "                            \n",
       "var gd = document.getElementById('52724370-b648-4d20-a485-3eb2b73c9a8a');\n",
       "var x = new MutationObserver(function (mutations, observer) {{\n",
       "        var display = window.getComputedStyle(gd).display;\n",
       "        if (!display || display === 'none') {{\n",
       "            console.log([gd, 'removed!']);\n",
       "            Plotly.purge(gd);\n",
       "            observer.disconnect();\n",
       "        }}\n",
       "}});\n",
       "\n",
       "// Listen for the removal of the full notebook cells\n",
       "var notebookContainer = gd.closest('#notebook-container');\n",
       "if (notebookContainer) {{\n",
       "    x.observe(notebookContainer, {childList: true});\n",
       "}}\n",
       "\n",
       "// Listen for the clearing of the current output cell\n",
       "var outputEl = gd.closest('.output');\n",
       "if (outputEl) {{\n",
       "    x.observe(outputEl, {childList: true});\n",
       "}}\n",
       "\n",
       "                        })                };                });            </script>        </div>"
      ]
     },
     "metadata": {},
     "output_type": "display_data"
    }
   ],
   "source": [
    "df.iplot(kind='box')"
   ]
  },
  {
   "cell_type": "markdown",
   "metadata": {},
   "source": [
    "## 3d Surface"
   ]
  },
  {
   "cell_type": "code",
   "execution_count": 14,
   "metadata": {},
   "outputs": [
    {
     "data": {
      "application/vnd.plotly.v1+json": {
       "config": {
        "linkText": "Export to plot.ly",
        "plotlyServerURL": "https://plot.ly",
        "showLink": true
       },
       "data": [
        {
         "colorscale": [
          [
           0,
           "rgb(165,0,38)"
          ],
          [
           0.1,
           "rgb(215,48,39)"
          ],
          [
           0.2,
           "rgb(244,109,67)"
          ],
          [
           0.3,
           "rgb(253,174,97)"
          ],
          [
           0.4,
           "rgb(254,224,144)"
          ],
          [
           0.5,
           "rgb(255,255,191)"
          ],
          [
           0.6,
           "rgb(224,243,248)"
          ],
          [
           0.7,
           "rgb(171,217,233)"
          ],
          [
           0.8,
           "rgb(116,173,209)"
          ],
          [
           0.9,
           "rgb(69,117,180)"
          ],
          [
           1,
           "rgb(49,54,149)"
          ]
         ],
         "type": "surface",
         "x": [
          0,
          1,
          2,
          3,
          4
         ],
         "y": [
          "x",
          "y",
          "z"
         ],
         "z": [
          [
           1,
           2,
           3,
           4,
           5
          ],
          [
           10,
           20,
           30,
           20,
           10
          ],
          [
           5,
           4,
           3,
           2,
           1
          ]
         ]
        }
       ],
       "layout": {
        "legend": {
         "bgcolor": "#F5F6F9",
         "font": {
          "color": "#4D5663"
         }
        },
        "paper_bgcolor": "#F5F6F9",
        "plot_bgcolor": "#F5F6F9",
        "template": {
         "data": {
          "bar": [
           {
            "error_x": {
             "color": "#2a3f5f"
            },
            "error_y": {
             "color": "#2a3f5f"
            },
            "marker": {
             "line": {
              "color": "#E5ECF6",
              "width": 0.5
             }
            },
            "type": "bar"
           }
          ],
          "barpolar": [
           {
            "marker": {
             "line": {
              "color": "#E5ECF6",
              "width": 0.5
             }
            },
            "type": "barpolar"
           }
          ],
          "carpet": [
           {
            "aaxis": {
             "endlinecolor": "#2a3f5f",
             "gridcolor": "white",
             "linecolor": "white",
             "minorgridcolor": "white",
             "startlinecolor": "#2a3f5f"
            },
            "baxis": {
             "endlinecolor": "#2a3f5f",
             "gridcolor": "white",
             "linecolor": "white",
             "minorgridcolor": "white",
             "startlinecolor": "#2a3f5f"
            },
            "type": "carpet"
           }
          ],
          "choropleth": [
           {
            "colorbar": {
             "outlinewidth": 0,
             "ticks": ""
            },
            "type": "choropleth"
           }
          ],
          "contour": [
           {
            "colorbar": {
             "outlinewidth": 0,
             "ticks": ""
            },
            "colorscale": [
             [
              0,
              "#0d0887"
             ],
             [
              0.1111111111111111,
              "#46039f"
             ],
             [
              0.2222222222222222,
              "#7201a8"
             ],
             [
              0.3333333333333333,
              "#9c179e"
             ],
             [
              0.4444444444444444,
              "#bd3786"
             ],
             [
              0.5555555555555556,
              "#d8576b"
             ],
             [
              0.6666666666666666,
              "#ed7953"
             ],
             [
              0.7777777777777778,
              "#fb9f3a"
             ],
             [
              0.8888888888888888,
              "#fdca26"
             ],
             [
              1,
              "#f0f921"
             ]
            ],
            "type": "contour"
           }
          ],
          "contourcarpet": [
           {
            "colorbar": {
             "outlinewidth": 0,
             "ticks": ""
            },
            "type": "contourcarpet"
           }
          ],
          "heatmap": [
           {
            "colorbar": {
             "outlinewidth": 0,
             "ticks": ""
            },
            "colorscale": [
             [
              0,
              "#0d0887"
             ],
             [
              0.1111111111111111,
              "#46039f"
             ],
             [
              0.2222222222222222,
              "#7201a8"
             ],
             [
              0.3333333333333333,
              "#9c179e"
             ],
             [
              0.4444444444444444,
              "#bd3786"
             ],
             [
              0.5555555555555556,
              "#d8576b"
             ],
             [
              0.6666666666666666,
              "#ed7953"
             ],
             [
              0.7777777777777778,
              "#fb9f3a"
             ],
             [
              0.8888888888888888,
              "#fdca26"
             ],
             [
              1,
              "#f0f921"
             ]
            ],
            "type": "heatmap"
           }
          ],
          "heatmapgl": [
           {
            "colorbar": {
             "outlinewidth": 0,
             "ticks": ""
            },
            "colorscale": [
             [
              0,
              "#0d0887"
             ],
             [
              0.1111111111111111,
              "#46039f"
             ],
             [
              0.2222222222222222,
              "#7201a8"
             ],
             [
              0.3333333333333333,
              "#9c179e"
             ],
             [
              0.4444444444444444,
              "#bd3786"
             ],
             [
              0.5555555555555556,
              "#d8576b"
             ],
             [
              0.6666666666666666,
              "#ed7953"
             ],
             [
              0.7777777777777778,
              "#fb9f3a"
             ],
             [
              0.8888888888888888,
              "#fdca26"
             ],
             [
              1,
              "#f0f921"
             ]
            ],
            "type": "heatmapgl"
           }
          ],
          "histogram": [
           {
            "marker": {
             "colorbar": {
              "outlinewidth": 0,
              "ticks": ""
             }
            },
            "type": "histogram"
           }
          ],
          "histogram2d": [
           {
            "colorbar": {
             "outlinewidth": 0,
             "ticks": ""
            },
            "colorscale": [
             [
              0,
              "#0d0887"
             ],
             [
              0.1111111111111111,
              "#46039f"
             ],
             [
              0.2222222222222222,
              "#7201a8"
             ],
             [
              0.3333333333333333,
              "#9c179e"
             ],
             [
              0.4444444444444444,
              "#bd3786"
             ],
             [
              0.5555555555555556,
              "#d8576b"
             ],
             [
              0.6666666666666666,
              "#ed7953"
             ],
             [
              0.7777777777777778,
              "#fb9f3a"
             ],
             [
              0.8888888888888888,
              "#fdca26"
             ],
             [
              1,
              "#f0f921"
             ]
            ],
            "type": "histogram2d"
           }
          ],
          "histogram2dcontour": [
           {
            "colorbar": {
             "outlinewidth": 0,
             "ticks": ""
            },
            "colorscale": [
             [
              0,
              "#0d0887"
             ],
             [
              0.1111111111111111,
              "#46039f"
             ],
             [
              0.2222222222222222,
              "#7201a8"
             ],
             [
              0.3333333333333333,
              "#9c179e"
             ],
             [
              0.4444444444444444,
              "#bd3786"
             ],
             [
              0.5555555555555556,
              "#d8576b"
             ],
             [
              0.6666666666666666,
              "#ed7953"
             ],
             [
              0.7777777777777778,
              "#fb9f3a"
             ],
             [
              0.8888888888888888,
              "#fdca26"
             ],
             [
              1,
              "#f0f921"
             ]
            ],
            "type": "histogram2dcontour"
           }
          ],
          "mesh3d": [
           {
            "colorbar": {
             "outlinewidth": 0,
             "ticks": ""
            },
            "type": "mesh3d"
           }
          ],
          "parcoords": [
           {
            "line": {
             "colorbar": {
              "outlinewidth": 0,
              "ticks": ""
             }
            },
            "type": "parcoords"
           }
          ],
          "pie": [
           {
            "automargin": true,
            "type": "pie"
           }
          ],
          "scatter": [
           {
            "marker": {
             "colorbar": {
              "outlinewidth": 0,
              "ticks": ""
             }
            },
            "type": "scatter"
           }
          ],
          "scatter3d": [
           {
            "line": {
             "colorbar": {
              "outlinewidth": 0,
              "ticks": ""
             }
            },
            "marker": {
             "colorbar": {
              "outlinewidth": 0,
              "ticks": ""
             }
            },
            "type": "scatter3d"
           }
          ],
          "scattercarpet": [
           {
            "marker": {
             "colorbar": {
              "outlinewidth": 0,
              "ticks": ""
             }
            },
            "type": "scattercarpet"
           }
          ],
          "scattergeo": [
           {
            "marker": {
             "colorbar": {
              "outlinewidth": 0,
              "ticks": ""
             }
            },
            "type": "scattergeo"
           }
          ],
          "scattergl": [
           {
            "marker": {
             "colorbar": {
              "outlinewidth": 0,
              "ticks": ""
             }
            },
            "type": "scattergl"
           }
          ],
          "scattermapbox": [
           {
            "marker": {
             "colorbar": {
              "outlinewidth": 0,
              "ticks": ""
             }
            },
            "type": "scattermapbox"
           }
          ],
          "scatterpolar": [
           {
            "marker": {
             "colorbar": {
              "outlinewidth": 0,
              "ticks": ""
             }
            },
            "type": "scatterpolar"
           }
          ],
          "scatterpolargl": [
           {
            "marker": {
             "colorbar": {
              "outlinewidth": 0,
              "ticks": ""
             }
            },
            "type": "scatterpolargl"
           }
          ],
          "scatterternary": [
           {
            "marker": {
             "colorbar": {
              "outlinewidth": 0,
              "ticks": ""
             }
            },
            "type": "scatterternary"
           }
          ],
          "surface": [
           {
            "colorbar": {
             "outlinewidth": 0,
             "ticks": ""
            },
            "colorscale": [
             [
              0,
              "#0d0887"
             ],
             [
              0.1111111111111111,
              "#46039f"
             ],
             [
              0.2222222222222222,
              "#7201a8"
             ],
             [
              0.3333333333333333,
              "#9c179e"
             ],
             [
              0.4444444444444444,
              "#bd3786"
             ],
             [
              0.5555555555555556,
              "#d8576b"
             ],
             [
              0.6666666666666666,
              "#ed7953"
             ],
             [
              0.7777777777777778,
              "#fb9f3a"
             ],
             [
              0.8888888888888888,
              "#fdca26"
             ],
             [
              1,
              "#f0f921"
             ]
            ],
            "type": "surface"
           }
          ],
          "table": [
           {
            "cells": {
             "fill": {
              "color": "#EBF0F8"
             },
             "line": {
              "color": "white"
             }
            },
            "header": {
             "fill": {
              "color": "#C8D4E3"
             },
             "line": {
              "color": "white"
             }
            },
            "type": "table"
           }
          ]
         },
         "layout": {
          "annotationdefaults": {
           "arrowcolor": "#2a3f5f",
           "arrowhead": 0,
           "arrowwidth": 1
          },
          "autotypenumbers": "strict",
          "coloraxis": {
           "colorbar": {
            "outlinewidth": 0,
            "ticks": ""
           }
          },
          "colorscale": {
           "diverging": [
            [
             0,
             "#8e0152"
            ],
            [
             0.1,
             "#c51b7d"
            ],
            [
             0.2,
             "#de77ae"
            ],
            [
             0.3,
             "#f1b6da"
            ],
            [
             0.4,
             "#fde0ef"
            ],
            [
             0.5,
             "#f7f7f7"
            ],
            [
             0.6,
             "#e6f5d0"
            ],
            [
             0.7,
             "#b8e186"
            ],
            [
             0.8,
             "#7fbc41"
            ],
            [
             0.9,
             "#4d9221"
            ],
            [
             1,
             "#276419"
            ]
           ],
           "sequential": [
            [
             0,
             "#0d0887"
            ],
            [
             0.1111111111111111,
             "#46039f"
            ],
            [
             0.2222222222222222,
             "#7201a8"
            ],
            [
             0.3333333333333333,
             "#9c179e"
            ],
            [
             0.4444444444444444,
             "#bd3786"
            ],
            [
             0.5555555555555556,
             "#d8576b"
            ],
            [
             0.6666666666666666,
             "#ed7953"
            ],
            [
             0.7777777777777778,
             "#fb9f3a"
            ],
            [
             0.8888888888888888,
             "#fdca26"
            ],
            [
             1,
             "#f0f921"
            ]
           ],
           "sequentialminus": [
            [
             0,
             "#0d0887"
            ],
            [
             0.1111111111111111,
             "#46039f"
            ],
            [
             0.2222222222222222,
             "#7201a8"
            ],
            [
             0.3333333333333333,
             "#9c179e"
            ],
            [
             0.4444444444444444,
             "#bd3786"
            ],
            [
             0.5555555555555556,
             "#d8576b"
            ],
            [
             0.6666666666666666,
             "#ed7953"
            ],
            [
             0.7777777777777778,
             "#fb9f3a"
            ],
            [
             0.8888888888888888,
             "#fdca26"
            ],
            [
             1,
             "#f0f921"
            ]
           ]
          },
          "colorway": [
           "#636efa",
           "#EF553B",
           "#00cc96",
           "#ab63fa",
           "#FFA15A",
           "#19d3f3",
           "#FF6692",
           "#B6E880",
           "#FF97FF",
           "#FECB52"
          ],
          "font": {
           "color": "#2a3f5f"
          },
          "geo": {
           "bgcolor": "white",
           "lakecolor": "white",
           "landcolor": "#E5ECF6",
           "showlakes": true,
           "showland": true,
           "subunitcolor": "white"
          },
          "hoverlabel": {
           "align": "left"
          },
          "hovermode": "closest",
          "mapbox": {
           "style": "light"
          },
          "paper_bgcolor": "white",
          "plot_bgcolor": "#E5ECF6",
          "polar": {
           "angularaxis": {
            "gridcolor": "white",
            "linecolor": "white",
            "ticks": ""
           },
           "bgcolor": "#E5ECF6",
           "radialaxis": {
            "gridcolor": "white",
            "linecolor": "white",
            "ticks": ""
           }
          },
          "scene": {
           "xaxis": {
            "backgroundcolor": "#E5ECF6",
            "gridcolor": "white",
            "gridwidth": 2,
            "linecolor": "white",
            "showbackground": true,
            "ticks": "",
            "zerolinecolor": "white"
           },
           "yaxis": {
            "backgroundcolor": "#E5ECF6",
            "gridcolor": "white",
            "gridwidth": 2,
            "linecolor": "white",
            "showbackground": true,
            "ticks": "",
            "zerolinecolor": "white"
           },
           "zaxis": {
            "backgroundcolor": "#E5ECF6",
            "gridcolor": "white",
            "gridwidth": 2,
            "linecolor": "white",
            "showbackground": true,
            "ticks": "",
            "zerolinecolor": "white"
           }
          },
          "shapedefaults": {
           "line": {
            "color": "#2a3f5f"
           }
          },
          "ternary": {
           "aaxis": {
            "gridcolor": "white",
            "linecolor": "white",
            "ticks": ""
           },
           "baxis": {
            "gridcolor": "white",
            "linecolor": "white",
            "ticks": ""
           },
           "bgcolor": "#E5ECF6",
           "caxis": {
            "gridcolor": "white",
            "linecolor": "white",
            "ticks": ""
           }
          },
          "title": {
           "x": 0.05
          },
          "xaxis": {
           "automargin": true,
           "gridcolor": "white",
           "linecolor": "white",
           "ticks": "",
           "title": {
            "standoff": 15
           },
           "zerolinecolor": "white",
           "zerolinewidth": 2
          },
          "yaxis": {
           "automargin": true,
           "gridcolor": "white",
           "linecolor": "white",
           "ticks": "",
           "title": {
            "standoff": 15
           },
           "zerolinecolor": "white",
           "zerolinewidth": 2
          }
         }
        },
        "title": {
         "font": {
          "color": "#4D5663"
         }
        },
        "xaxis": {
         "gridcolor": "#E1E5ED",
         "showgrid": true,
         "tickfont": {
          "color": "#4D5663"
         },
         "title": {
          "font": {
           "color": "#4D5663"
          },
          "text": ""
         },
         "zerolinecolor": "#E1E5ED"
        },
        "yaxis": {
         "gridcolor": "#E1E5ED",
         "showgrid": true,
         "tickfont": {
          "color": "#4D5663"
         },
         "title": {
          "font": {
           "color": "#4D5663"
          },
          "text": ""
         },
         "zerolinecolor": "#E1E5ED"
        }
       }
      },
      "text/html": [
       "<div>                            <div id=\"a3198b5a-ea35-417e-b112-2dff5e2c0aed\" class=\"plotly-graph-div\" style=\"height:525px; width:100%;\"></div>            <script type=\"text/javascript\">                require([\"plotly\"], function(Plotly) {                    window.PLOTLYENV=window.PLOTLYENV || {};\n",
       "                    window.PLOTLYENV.BASE_URL='https://plot.ly';                                    if (document.getElementById(\"a3198b5a-ea35-417e-b112-2dff5e2c0aed\")) {                    Plotly.newPlot(                        \"a3198b5a-ea35-417e-b112-2dff5e2c0aed\",                        [{\"colorscale\": [[0.0, \"rgb(165,0,38)\"], [0.1, \"rgb(215,48,39)\"], [0.2, \"rgb(244,109,67)\"], [0.3, \"rgb(253,174,97)\"], [0.4, \"rgb(254,224,144)\"], [0.5, \"rgb(255,255,191)\"], [0.6, \"rgb(224,243,248)\"], [0.7, \"rgb(171,217,233)\"], [0.8, \"rgb(116,173,209)\"], [0.9, \"rgb(69,117,180)\"], [1.0, \"rgb(49,54,149)\"]], \"type\": \"surface\", \"x\": [0, 1, 2, 3, 4], \"y\": [\"x\", \"y\", \"z\"], \"z\": [[1, 2, 3, 4, 5], [10, 20, 30, 20, 10], [5, 4, 3, 2, 1]]}],                        {\"legend\": {\"bgcolor\": \"#F5F6F9\", \"font\": {\"color\": \"#4D5663\"}}, \"paper_bgcolor\": \"#F5F6F9\", \"plot_bgcolor\": \"#F5F6F9\", \"template\": {\"data\": {\"bar\": [{\"error_x\": {\"color\": \"#2a3f5f\"}, \"error_y\": {\"color\": \"#2a3f5f\"}, \"marker\": {\"line\": {\"color\": \"#E5ECF6\", \"width\": 0.5}}, \"type\": \"bar\"}], \"barpolar\": [{\"marker\": {\"line\": {\"color\": \"#E5ECF6\", \"width\": 0.5}}, \"type\": \"barpolar\"}], \"carpet\": [{\"aaxis\": {\"endlinecolor\": \"#2a3f5f\", \"gridcolor\": \"white\", \"linecolor\": \"white\", \"minorgridcolor\": \"white\", \"startlinecolor\": \"#2a3f5f\"}, \"baxis\": {\"endlinecolor\": \"#2a3f5f\", \"gridcolor\": \"white\", \"linecolor\": \"white\", \"minorgridcolor\": \"white\", \"startlinecolor\": \"#2a3f5f\"}, \"type\": \"carpet\"}], \"choropleth\": [{\"colorbar\": {\"outlinewidth\": 0, \"ticks\": \"\"}, \"type\": \"choropleth\"}], \"contour\": [{\"colorbar\": {\"outlinewidth\": 0, \"ticks\": \"\"}, \"colorscale\": [[0.0, \"#0d0887\"], [0.1111111111111111, \"#46039f\"], [0.2222222222222222, \"#7201a8\"], [0.3333333333333333, \"#9c179e\"], [0.4444444444444444, \"#bd3786\"], [0.5555555555555556, \"#d8576b\"], [0.6666666666666666, \"#ed7953\"], [0.7777777777777778, \"#fb9f3a\"], [0.8888888888888888, \"#fdca26\"], [1.0, \"#f0f921\"]], \"type\": \"contour\"}], \"contourcarpet\": [{\"colorbar\": {\"outlinewidth\": 0, \"ticks\": \"\"}, \"type\": \"contourcarpet\"}], \"heatmap\": [{\"colorbar\": {\"outlinewidth\": 0, \"ticks\": \"\"}, \"colorscale\": [[0.0, \"#0d0887\"], [0.1111111111111111, \"#46039f\"], [0.2222222222222222, \"#7201a8\"], [0.3333333333333333, \"#9c179e\"], [0.4444444444444444, \"#bd3786\"], [0.5555555555555556, \"#d8576b\"], [0.6666666666666666, \"#ed7953\"], [0.7777777777777778, \"#fb9f3a\"], [0.8888888888888888, \"#fdca26\"], [1.0, \"#f0f921\"]], \"type\": \"heatmap\"}], \"heatmapgl\": [{\"colorbar\": {\"outlinewidth\": 0, \"ticks\": \"\"}, \"colorscale\": [[0.0, \"#0d0887\"], [0.1111111111111111, \"#46039f\"], [0.2222222222222222, \"#7201a8\"], [0.3333333333333333, \"#9c179e\"], [0.4444444444444444, \"#bd3786\"], [0.5555555555555556, \"#d8576b\"], [0.6666666666666666, \"#ed7953\"], [0.7777777777777778, \"#fb9f3a\"], [0.8888888888888888, \"#fdca26\"], [1.0, \"#f0f921\"]], \"type\": \"heatmapgl\"}], \"histogram\": [{\"marker\": {\"colorbar\": {\"outlinewidth\": 0, \"ticks\": \"\"}}, \"type\": \"histogram\"}], \"histogram2d\": [{\"colorbar\": {\"outlinewidth\": 0, \"ticks\": \"\"}, \"colorscale\": [[0.0, \"#0d0887\"], [0.1111111111111111, \"#46039f\"], [0.2222222222222222, \"#7201a8\"], [0.3333333333333333, \"#9c179e\"], [0.4444444444444444, \"#bd3786\"], [0.5555555555555556, \"#d8576b\"], [0.6666666666666666, \"#ed7953\"], [0.7777777777777778, \"#fb9f3a\"], [0.8888888888888888, \"#fdca26\"], [1.0, \"#f0f921\"]], \"type\": \"histogram2d\"}], \"histogram2dcontour\": [{\"colorbar\": {\"outlinewidth\": 0, \"ticks\": \"\"}, \"colorscale\": [[0.0, \"#0d0887\"], [0.1111111111111111, \"#46039f\"], [0.2222222222222222, \"#7201a8\"], [0.3333333333333333, \"#9c179e\"], [0.4444444444444444, \"#bd3786\"], [0.5555555555555556, \"#d8576b\"], [0.6666666666666666, \"#ed7953\"], [0.7777777777777778, \"#fb9f3a\"], [0.8888888888888888, \"#fdca26\"], [1.0, \"#f0f921\"]], \"type\": \"histogram2dcontour\"}], \"mesh3d\": [{\"colorbar\": {\"outlinewidth\": 0, \"ticks\": \"\"}, \"type\": \"mesh3d\"}], \"parcoords\": [{\"line\": {\"colorbar\": {\"outlinewidth\": 0, \"ticks\": \"\"}}, \"type\": \"parcoords\"}], \"pie\": [{\"automargin\": true, \"type\": \"pie\"}], \"scatter\": [{\"marker\": {\"colorbar\": {\"outlinewidth\": 0, \"ticks\": \"\"}}, \"type\": \"scatter\"}], \"scatter3d\": [{\"line\": {\"colorbar\": {\"outlinewidth\": 0, \"ticks\": \"\"}}, \"marker\": {\"colorbar\": {\"outlinewidth\": 0, \"ticks\": \"\"}}, \"type\": \"scatter3d\"}], \"scattercarpet\": [{\"marker\": {\"colorbar\": {\"outlinewidth\": 0, \"ticks\": \"\"}}, \"type\": \"scattercarpet\"}], \"scattergeo\": [{\"marker\": {\"colorbar\": {\"outlinewidth\": 0, \"ticks\": \"\"}}, \"type\": \"scattergeo\"}], \"scattergl\": [{\"marker\": {\"colorbar\": {\"outlinewidth\": 0, \"ticks\": \"\"}}, \"type\": \"scattergl\"}], \"scattermapbox\": [{\"marker\": {\"colorbar\": {\"outlinewidth\": 0, \"ticks\": \"\"}}, \"type\": \"scattermapbox\"}], \"scatterpolar\": [{\"marker\": {\"colorbar\": {\"outlinewidth\": 0, \"ticks\": \"\"}}, \"type\": \"scatterpolar\"}], \"scatterpolargl\": [{\"marker\": {\"colorbar\": {\"outlinewidth\": 0, \"ticks\": \"\"}}, \"type\": \"scatterpolargl\"}], \"scatterternary\": [{\"marker\": {\"colorbar\": {\"outlinewidth\": 0, \"ticks\": \"\"}}, \"type\": \"scatterternary\"}], \"surface\": [{\"colorbar\": {\"outlinewidth\": 0, \"ticks\": \"\"}, \"colorscale\": [[0.0, \"#0d0887\"], [0.1111111111111111, \"#46039f\"], [0.2222222222222222, \"#7201a8\"], [0.3333333333333333, \"#9c179e\"], [0.4444444444444444, \"#bd3786\"], [0.5555555555555556, \"#d8576b\"], [0.6666666666666666, \"#ed7953\"], [0.7777777777777778, \"#fb9f3a\"], [0.8888888888888888, \"#fdca26\"], [1.0, \"#f0f921\"]], \"type\": \"surface\"}], \"table\": [{\"cells\": {\"fill\": {\"color\": \"#EBF0F8\"}, \"line\": {\"color\": \"white\"}}, \"header\": {\"fill\": {\"color\": \"#C8D4E3\"}, \"line\": {\"color\": \"white\"}}, \"type\": \"table\"}]}, \"layout\": {\"annotationdefaults\": {\"arrowcolor\": \"#2a3f5f\", \"arrowhead\": 0, \"arrowwidth\": 1}, \"autotypenumbers\": \"strict\", \"coloraxis\": {\"colorbar\": {\"outlinewidth\": 0, \"ticks\": \"\"}}, \"colorscale\": {\"diverging\": [[0, \"#8e0152\"], [0.1, \"#c51b7d\"], [0.2, \"#de77ae\"], [0.3, \"#f1b6da\"], [0.4, \"#fde0ef\"], [0.5, \"#f7f7f7\"], [0.6, \"#e6f5d0\"], [0.7, \"#b8e186\"], [0.8, \"#7fbc41\"], [0.9, \"#4d9221\"], [1, \"#276419\"]], \"sequential\": [[0.0, \"#0d0887\"], [0.1111111111111111, \"#46039f\"], [0.2222222222222222, \"#7201a8\"], [0.3333333333333333, \"#9c179e\"], [0.4444444444444444, \"#bd3786\"], [0.5555555555555556, \"#d8576b\"], [0.6666666666666666, \"#ed7953\"], [0.7777777777777778, \"#fb9f3a\"], [0.8888888888888888, \"#fdca26\"], [1.0, \"#f0f921\"]], \"sequentialminus\": [[0.0, \"#0d0887\"], [0.1111111111111111, \"#46039f\"], [0.2222222222222222, \"#7201a8\"], [0.3333333333333333, \"#9c179e\"], [0.4444444444444444, \"#bd3786\"], [0.5555555555555556, \"#d8576b\"], [0.6666666666666666, \"#ed7953\"], [0.7777777777777778, \"#fb9f3a\"], [0.8888888888888888, \"#fdca26\"], [1.0, \"#f0f921\"]]}, \"colorway\": [\"#636efa\", \"#EF553B\", \"#00cc96\", \"#ab63fa\", \"#FFA15A\", \"#19d3f3\", \"#FF6692\", \"#B6E880\", \"#FF97FF\", \"#FECB52\"], \"font\": {\"color\": \"#2a3f5f\"}, \"geo\": {\"bgcolor\": \"white\", \"lakecolor\": \"white\", \"landcolor\": \"#E5ECF6\", \"showlakes\": true, \"showland\": true, \"subunitcolor\": \"white\"}, \"hoverlabel\": {\"align\": \"left\"}, \"hovermode\": \"closest\", \"mapbox\": {\"style\": \"light\"}, \"paper_bgcolor\": \"white\", \"plot_bgcolor\": \"#E5ECF6\", \"polar\": {\"angularaxis\": {\"gridcolor\": \"white\", \"linecolor\": \"white\", \"ticks\": \"\"}, \"bgcolor\": \"#E5ECF6\", \"radialaxis\": {\"gridcolor\": \"white\", \"linecolor\": \"white\", \"ticks\": \"\"}}, \"scene\": {\"xaxis\": {\"backgroundcolor\": \"#E5ECF6\", \"gridcolor\": \"white\", \"gridwidth\": 2, \"linecolor\": \"white\", \"showbackground\": true, \"ticks\": \"\", \"zerolinecolor\": \"white\"}, \"yaxis\": {\"backgroundcolor\": \"#E5ECF6\", \"gridcolor\": \"white\", \"gridwidth\": 2, \"linecolor\": \"white\", \"showbackground\": true, \"ticks\": \"\", \"zerolinecolor\": \"white\"}, \"zaxis\": {\"backgroundcolor\": \"#E5ECF6\", \"gridcolor\": \"white\", \"gridwidth\": 2, \"linecolor\": \"white\", \"showbackground\": true, \"ticks\": \"\", \"zerolinecolor\": \"white\"}}, \"shapedefaults\": {\"line\": {\"color\": \"#2a3f5f\"}}, \"ternary\": {\"aaxis\": {\"gridcolor\": \"white\", \"linecolor\": \"white\", \"ticks\": \"\"}, \"baxis\": {\"gridcolor\": \"white\", \"linecolor\": \"white\", \"ticks\": \"\"}, \"bgcolor\": \"#E5ECF6\", \"caxis\": {\"gridcolor\": \"white\", \"linecolor\": \"white\", \"ticks\": \"\"}}, \"title\": {\"x\": 0.05}, \"xaxis\": {\"automargin\": true, \"gridcolor\": \"white\", \"linecolor\": \"white\", \"ticks\": \"\", \"title\": {\"standoff\": 15}, \"zerolinecolor\": \"white\", \"zerolinewidth\": 2}, \"yaxis\": {\"automargin\": true, \"gridcolor\": \"white\", \"linecolor\": \"white\", \"ticks\": \"\", \"title\": {\"standoff\": 15}, \"zerolinecolor\": \"white\", \"zerolinewidth\": 2}}}, \"title\": {\"font\": {\"color\": \"#4D5663\"}}, \"xaxis\": {\"gridcolor\": \"#E1E5ED\", \"showgrid\": true, \"tickfont\": {\"color\": \"#4D5663\"}, \"title\": {\"font\": {\"color\": \"#4D5663\"}, \"text\": \"\"}, \"zerolinecolor\": \"#E1E5ED\"}, \"yaxis\": {\"gridcolor\": \"#E1E5ED\", \"showgrid\": true, \"tickfont\": {\"color\": \"#4D5663\"}, \"title\": {\"font\": {\"color\": \"#4D5663\"}, \"text\": \"\"}, \"zerolinecolor\": \"#E1E5ED\"}},                        {\"showLink\": true, \"linkText\": \"Export to plot.ly\", \"plotlyServerURL\": \"https://plot.ly\", \"responsive\": true}                    ).then(function(){\n",
       "                            \n",
       "var gd = document.getElementById('a3198b5a-ea35-417e-b112-2dff5e2c0aed');\n",
       "var x = new MutationObserver(function (mutations, observer) {{\n",
       "        var display = window.getComputedStyle(gd).display;\n",
       "        if (!display || display === 'none') {{\n",
       "            console.log([gd, 'removed!']);\n",
       "            Plotly.purge(gd);\n",
       "            observer.disconnect();\n",
       "        }}\n",
       "}});\n",
       "\n",
       "// Listen for the removal of the full notebook cells\n",
       "var notebookContainer = gd.closest('#notebook-container');\n",
       "if (notebookContainer) {{\n",
       "    x.observe(notebookContainer, {childList: true});\n",
       "}}\n",
       "\n",
       "// Listen for the clearing of the current output cell\n",
       "var outputEl = gd.closest('.output');\n",
       "if (outputEl) {{\n",
       "    x.observe(outputEl, {childList: true});\n",
       "}}\n",
       "\n",
       "                        })                };                });            </script>        </div>"
      ]
     },
     "metadata": {},
     "output_type": "display_data"
    }
   ],
   "source": [
    "df3 = pd.DataFrame({'x':[1,2,3,4,5],'y':[10,20,30,20,10],'z':[5,4,3,2,1]})\n",
    "df3.iplot(kind='surface',colorscale='rdylbu')"
   ]
  },
  {
   "cell_type": "markdown",
   "metadata": {},
   "source": [
    "## Spread"
   ]
  },
  {
   "cell_type": "code",
   "execution_count": 16,
   "metadata": {},
   "outputs": [
    {
     "name": "stderr",
     "output_type": "stream",
     "text": [
      "C:\\Users\\MinhDuc\\anaconda3\\lib\\site-packages\\cufflinks\\plotlytools.py:849: FutureWarning:\n",
      "\n",
      "The pandas.np module is deprecated and will be removed from pandas in a future version. Import numpy directly instead\n",
      "\n",
      "C:\\Users\\MinhDuc\\anaconda3\\lib\\site-packages\\cufflinks\\plotlytools.py:850: FutureWarning:\n",
      "\n",
      "The pandas.np module is deprecated and will be removed from pandas in a future version. Import numpy directly instead\n",
      "\n"
     ]
    },
    {
     "data": {
      "application/vnd.plotly.v1+json": {
       "config": {
        "linkText": "Export to plot.ly",
        "plotlyServerURL": "https://plot.ly",
        "showLink": true
       },
       "data": [
        {
         "line": {
          "color": "rgba(255, 153, 51, 1.0)",
          "dash": "solid",
          "shape": "linear",
          "width": 1.3
         },
         "mode": "lines",
         "name": "A",
         "text": "",
         "type": "scatter",
         "x": [
          0,
          1,
          2,
          3,
          4,
          5,
          6,
          7,
          8,
          9,
          10,
          11,
          12,
          13,
          14,
          15,
          16,
          17,
          18,
          19,
          20,
          21,
          22,
          23,
          24,
          25,
          26,
          27,
          28,
          29,
          30,
          31,
          32,
          33,
          34,
          35,
          36,
          37,
          38,
          39,
          40,
          41,
          42,
          43,
          44,
          45,
          46,
          47,
          48,
          49,
          50,
          51,
          52,
          53,
          54,
          55,
          56,
          57,
          58,
          59,
          60,
          61,
          62,
          63,
          64,
          65,
          66,
          67,
          68,
          69,
          70,
          71,
          72,
          73,
          74,
          75,
          76,
          77,
          78,
          79,
          80,
          81,
          82,
          83,
          84,
          85,
          86,
          87,
          88,
          89,
          90,
          91,
          92,
          93,
          94,
          95,
          96,
          97,
          98,
          99
         ],
         "y": [
          0.4445124197588715,
          0.36205035415301395,
          0.3969041084990429,
          0.2692407675647294,
          -0.5731606881463372,
          -0.6626695566494553,
          -1.1885826763594174,
          1.1797061124639112,
          -0.12435335510677673,
          0.02131024946466258,
          -0.841044462996525,
          -0.7164275059953222,
          0.17357181330712826,
          -0.8666452183680738,
          -0.3122159075440176,
          1.1051992640591732,
          1.950567433402343,
          -1.16047114413995,
          1.270472855864974,
          0.2662445207587512,
          1.3984741432546657,
          0.1574760328512065,
          0.767697269586301,
          1.420591922414267,
          -0.6907202729510498,
          -1.247031761337001,
          -0.38091327734497743,
          0.05116497342890384,
          0.9840904247169046,
          0.29858165515039153,
          -0.2727524510094896,
          -0.21048960143603254,
          0.7139673740857022,
          -0.16023385797409334,
          0.9116261929654899,
          1.4252147908541768,
          -0.8088052527987842,
          1.2167057276698943,
          0.036192051055108504,
          2.3766711632322077,
          -0.8142601028756642,
          1.32285717439343,
          0.7936294163094557,
          -0.5276244168656109,
          -1.347509840579922,
          -1.7445807289925739,
          0.8712960228407316,
          -0.06401887917664259,
          -1.5504797338463046,
          0.8540304950184063,
          -1.3421184144641287,
          0.10154010306848567,
          -0.6916852085852078,
          0.17189917595550383,
          -0.9701019835518537,
          -0.8945692078511854,
          0.5883075904339918,
          0.8506104769036922,
          1.127153818649054,
          -0.4998541777616691,
          -0.02584876008149694,
          -0.432161143303004,
          2.28206533433616,
          -0.5690629153889168,
          -0.4248077276824574,
          -0.3231749483169146,
          -1.1748112767116616,
          0.12788748462071864,
          2.278384498085381,
          -1.6168076480904043,
          1.3173421558532104,
          -1.0653696753546293,
          -0.1504040147443646,
          -1.5231003219007477,
          1.0731865248776302,
          0.3161981373329008,
          0.6179130628258113,
          -1.2322386008952155,
          0.1982437126589551,
          0.171516596799887,
          1.3244963151549742,
          0.6997770867168803,
          0.1578956838629729,
          -1.4556748030418778,
          0.14849228957824614,
          -0.25687658016777665,
          0.1990906077208847,
          -0.23739319765976388,
          1.6743456830520078,
          0.5740378449463213,
          -0.4880763235958073,
          0.4152351549788122,
          -1.4233924220357441,
          0.07106839796078257,
          -0.5458215202047584,
          -1.4029215223122031,
          -2.4160886328514204,
          -0.04674227495362861,
          -0.5797592925690125,
          -0.9780300391295116
         ]
        },
        {
         "line": {
          "color": "rgba(55, 128, 191, 1.0)",
          "dash": "solid",
          "shape": "linear",
          "width": 1.3
         },
         "mode": "lines",
         "name": "B",
         "text": "",
         "type": "scatter",
         "x": [
          0,
          1,
          2,
          3,
          4,
          5,
          6,
          7,
          8,
          9,
          10,
          11,
          12,
          13,
          14,
          15,
          16,
          17,
          18,
          19,
          20,
          21,
          22,
          23,
          24,
          25,
          26,
          27,
          28,
          29,
          30,
          31,
          32,
          33,
          34,
          35,
          36,
          37,
          38,
          39,
          40,
          41,
          42,
          43,
          44,
          45,
          46,
          47,
          48,
          49,
          50,
          51,
          52,
          53,
          54,
          55,
          56,
          57,
          58,
          59,
          60,
          61,
          62,
          63,
          64,
          65,
          66,
          67,
          68,
          69,
          70,
          71,
          72,
          73,
          74,
          75,
          76,
          77,
          78,
          79,
          80,
          81,
          82,
          83,
          84,
          85,
          86,
          87,
          88,
          89,
          90,
          91,
          92,
          93,
          94,
          95,
          96,
          97,
          98,
          99
         ],
         "y": [
          -0.6974834492785861,
          0.5265707753982296,
          -0.07776827797428544,
          -0.5339451906699878,
          -0.7790302886665752,
          -0.7351560296443709,
          0.8085339624996511,
          0.6361945592305132,
          -0.6748913130970792,
          -0.6066952483827125,
          -0.6754438189189058,
          -1.0340066774333512,
          -0.24645264271902192,
          -1.1560839085862804,
          -1.025524281547767,
          -0.9497546642265557,
          -0.21541367777889847,
          0.12195429227566948,
          -1.1704344014413213,
          0.012309507826049594,
          0.13356214797549099,
          0.20033088561699652,
          -0.5825604239393043,
          0.008094169057354685,
          2.30326975138563,
          0.3812004657650732,
          0.8621386798530359,
          -1.0317997889665491,
          -2.105577763733387,
          0.604368051637883,
          1.3785024498319072,
          -1.4906738998136213,
          -0.005277792437393877,
          0.9967361976326541,
          -1.3673910718301645,
          -0.10977136949279971,
          -0.5953982842754707,
          0.1860007397860299,
          1.1924455051673681,
          0.3676128077600115,
          -0.7766586207968474,
          0.1302866455942036,
          -0.2925619978758218,
          1.1126059122521699,
          -1.4217223065757478,
          -1.1241097246955072,
          -0.8164040494133138,
          -0.7540096772936119,
          0.3791695611574733,
          0.9490520805551402,
          -0.40971062506334494,
          0.9005435826101161,
          0.46392921363095735,
          0.23102212634003594,
          1.0865785939606485,
          1.4305345221229842,
          0.34084797401263633,
          -0.030888851300284265,
          0.17486758559954058,
          -0.6711197166289434,
          2.599187965375308,
          0.6263752513742433,
          0.6180370247657457,
          1.2680638021787283,
          2.3789965030675226,
          -1.0446268450076803,
          0.47632445881230345,
          0.9501238509412528,
          -0.8537991737916394,
          0.731521735345266,
          0.6084196715193544,
          1.5534834268955304,
          0.3749500243260987,
          -0.714605928485408,
          1.29945196980955,
          -0.4609787599219854,
          -0.5317687517854143,
          -0.43900882115612183,
          -0.06104875856549778,
          -1.1404600063013492,
          0.9170010691017919,
          -0.7362534089558578,
          -0.8455212449608114,
          0.05782469041110582,
          -0.11944713690184494,
          1.7355595492838432,
          -1.7970157731577507,
          -0.3730788606644096,
          0.023009405817685354,
          -0.2315156716542146,
          0.27912540287718846,
          -1.3705966662852875,
          0.7472522733767284,
          0.9005176103378513,
          0.716327290283002,
          1.314555991394918,
          0.7221539987053497,
          1.1394467201828706,
          -0.04431566287321239,
          0.7376141042686286
         ]
        },
        {
         "connectgaps": false,
         "fill": "tozeroy",
         "line": {
          "color": "green",
          "dash": "solid",
          "shape": "linear",
          "width": 0.5
         },
         "mode": "lines",
         "name": "Spread",
         "showlegend": false,
         "type": "scatter",
         "x": [
          0,
          1,
          2,
          3,
          4,
          5,
          6,
          7,
          8,
          9,
          10,
          11,
          12,
          13,
          14,
          15,
          16,
          17,
          18,
          19,
          20,
          21,
          22,
          23,
          24,
          25,
          26,
          27,
          28,
          29,
          30,
          31,
          32,
          33,
          34,
          35,
          36,
          37,
          38,
          39,
          40,
          41,
          42,
          43,
          44,
          45,
          46,
          47,
          48,
          49,
          50,
          51,
          52,
          53,
          54,
          55,
          56,
          57,
          58,
          59,
          60,
          61,
          62,
          63,
          64,
          65,
          66,
          67,
          68,
          69,
          70,
          71,
          72,
          73,
          74,
          75,
          76,
          77,
          78,
          79,
          80,
          81,
          82,
          83,
          84,
          85,
          86,
          87,
          88,
          89,
          90,
          91,
          92,
          93,
          94,
          95,
          96,
          97,
          98,
          99
         ],
         "xaxis": "x2",
         "y": [
          1.1419958690374576,
          "",
          0.4746723864733283,
          0.8031859582347172,
          0.20586960052023795,
          0.07248647299491562,
          "",
          0.5435115532333981,
          0.5505379579903025,
          0.628005497847375,
          "",
          0.31757917143802894,
          0.4200244560261502,
          0.28943869021820656,
          0.7133083740037494,
          2.054953928285729,
          2.1659811111812415,
          "",
          2.4409072573062955,
          0.2539350129327016,
          1.2649119952791748,
          "",
          1.3502576935256054,
          1.4124977533569123,
          "",
          "",
          "",
          1.082964762395453,
          3.0896681884502915,
          "",
          "",
          1.2801842983775888,
          0.7192451665230961,
          "",
          2.2790172647956544,
          1.5349861603469765,
          "",
          1.0307049878838643,
          "",
          2.009058355472196,
          "",
          1.1925705287992265,
          1.0861914141852775,
          "",
          0.07421246599582587,
          "",
          1.6877000722540454,
          0.6899907981169693,
          "",
          "",
          "",
          "",
          "",
          "",
          "",
          "",
          0.2474596164213555,
          0.8814993282039765,
          0.9522862330495134,
          0.1712655388672743,
          "",
          "",
          1.6640283095704143,
          "",
          "",
          0.7214518966907657,
          "",
          "",
          3.13218367187702,
          "",
          0.708922484333856,
          "",
          "",
          "",
          "",
          0.7771768972548863,
          1.1496818146112255,
          "",
          0.25929247122445287,
          1.3119766031012363,
          0.4074952460531823,
          1.436030495672738,
          1.0034169288237842,
          "",
          0.26793942648009106,
          "",
          1.9961063808786355,
          0.1356856630046457,
          1.6513362772343225,
          0.8055535166005359,
          "",
          1.7858318212640998,
          "",
          "",
          "",
          "",
          "",
          "",
          "",
          ""
         ],
         "yaxis": "y2"
        },
        {
         "connectgaps": false,
         "fill": "tozeroy",
         "line": {
          "color": "red",
          "dash": "solid",
          "shape": "linear",
          "width": 0.5
         },
         "mode": "lines",
         "name": "Spread",
         "showlegend": false,
         "type": "scatter",
         "x": [
          0,
          1,
          2,
          3,
          4,
          5,
          6,
          7,
          8,
          9,
          10,
          11,
          12,
          13,
          14,
          15,
          16,
          17,
          18,
          19,
          20,
          21,
          22,
          23,
          24,
          25,
          26,
          27,
          28,
          29,
          30,
          31,
          32,
          33,
          34,
          35,
          36,
          37,
          38,
          39,
          40,
          41,
          42,
          43,
          44,
          45,
          46,
          47,
          48,
          49,
          50,
          51,
          52,
          53,
          54,
          55,
          56,
          57,
          58,
          59,
          60,
          61,
          62,
          63,
          64,
          65,
          66,
          67,
          68,
          69,
          70,
          71,
          72,
          73,
          74,
          75,
          76,
          77,
          78,
          79,
          80,
          81,
          82,
          83,
          84,
          85,
          86,
          87,
          88,
          89,
          90,
          91,
          92,
          93,
          94,
          95,
          96,
          97,
          98,
          99
         ],
         "xaxis": "x2",
         "y": [
          "",
          -0.16452042124521565,
          "",
          "",
          "",
          "",
          -1.9971166388590684,
          "",
          "",
          "",
          -0.1656006440776192,
          "",
          "",
          "",
          "",
          "",
          "",
          -1.2824254364156196,
          "",
          "",
          "",
          -0.042854852765790014,
          "",
          "",
          -2.9939900243366795,
          -1.6282322271020742,
          -1.2430519571980134,
          "",
          "",
          -0.30578639648749145,
          -1.6512549008413968,
          "",
          "",
          -1.1569700556067475,
          "",
          "",
          -0.21340696852331353,
          "",
          -1.1562534541122595,
          "",
          -0.03760148207881675,
          "",
          "",
          -1.6402303291177809,
          "",
          -0.6204710042970667,
          "",
          "",
          -1.9296492950037778,
          -0.0950215855367339,
          -0.9324077894007838,
          -0.7990034795416304,
          -1.155614422216165,
          -0.05912295038453211,
          -2.0566805775125023,
          -2.3251037299741695,
          "",
          "",
          "",
          "",
          -2.6250367254568046,
          -1.0585363946772472,
          "",
          -1.8371267175676451,
          -2.80380423074998,
          "",
          -1.651135735523965,
          -0.8222363663205342,
          "",
          -2.3483293834356704,
          "",
          -2.61885310225016,
          -0.5253540390704633,
          -0.8084943934153397,
          -0.2262654449319197,
          "",
          "",
          -0.7932297797390937,
          "",
          "",
          "",
          "",
          "",
          -1.5134994934529835,
          "",
          -1.9924361294516197,
          "",
          "",
          "",
          "",
          -0.7672017264729958,
          "",
          -2.1706446954124727,
          -0.8294492123770687,
          -1.2621488104877603,
          -2.717477513707121,
          -3.13824263155677,
          -1.1861889951364992,
          -0.5354436296958001,
          -1.7156441433981402
         ],
         "yaxis": "y2"
        }
       ],
       "layout": {
        "hovermode": "x",
        "legend": {
         "bgcolor": "#F5F6F9",
         "font": {
          "color": "#4D5663"
         }
        },
        "paper_bgcolor": "#F5F6F9",
        "plot_bgcolor": "#F5F6F9",
        "template": {
         "data": {
          "bar": [
           {
            "error_x": {
             "color": "#2a3f5f"
            },
            "error_y": {
             "color": "#2a3f5f"
            },
            "marker": {
             "line": {
              "color": "#E5ECF6",
              "width": 0.5
             }
            },
            "type": "bar"
           }
          ],
          "barpolar": [
           {
            "marker": {
             "line": {
              "color": "#E5ECF6",
              "width": 0.5
             }
            },
            "type": "barpolar"
           }
          ],
          "carpet": [
           {
            "aaxis": {
             "endlinecolor": "#2a3f5f",
             "gridcolor": "white",
             "linecolor": "white",
             "minorgridcolor": "white",
             "startlinecolor": "#2a3f5f"
            },
            "baxis": {
             "endlinecolor": "#2a3f5f",
             "gridcolor": "white",
             "linecolor": "white",
             "minorgridcolor": "white",
             "startlinecolor": "#2a3f5f"
            },
            "type": "carpet"
           }
          ],
          "choropleth": [
           {
            "colorbar": {
             "outlinewidth": 0,
             "ticks": ""
            },
            "type": "choropleth"
           }
          ],
          "contour": [
           {
            "colorbar": {
             "outlinewidth": 0,
             "ticks": ""
            },
            "colorscale": [
             [
              0,
              "#0d0887"
             ],
             [
              0.1111111111111111,
              "#46039f"
             ],
             [
              0.2222222222222222,
              "#7201a8"
             ],
             [
              0.3333333333333333,
              "#9c179e"
             ],
             [
              0.4444444444444444,
              "#bd3786"
             ],
             [
              0.5555555555555556,
              "#d8576b"
             ],
             [
              0.6666666666666666,
              "#ed7953"
             ],
             [
              0.7777777777777778,
              "#fb9f3a"
             ],
             [
              0.8888888888888888,
              "#fdca26"
             ],
             [
              1,
              "#f0f921"
             ]
            ],
            "type": "contour"
           }
          ],
          "contourcarpet": [
           {
            "colorbar": {
             "outlinewidth": 0,
             "ticks": ""
            },
            "type": "contourcarpet"
           }
          ],
          "heatmap": [
           {
            "colorbar": {
             "outlinewidth": 0,
             "ticks": ""
            },
            "colorscale": [
             [
              0,
              "#0d0887"
             ],
             [
              0.1111111111111111,
              "#46039f"
             ],
             [
              0.2222222222222222,
              "#7201a8"
             ],
             [
              0.3333333333333333,
              "#9c179e"
             ],
             [
              0.4444444444444444,
              "#bd3786"
             ],
             [
              0.5555555555555556,
              "#d8576b"
             ],
             [
              0.6666666666666666,
              "#ed7953"
             ],
             [
              0.7777777777777778,
              "#fb9f3a"
             ],
             [
              0.8888888888888888,
              "#fdca26"
             ],
             [
              1,
              "#f0f921"
             ]
            ],
            "type": "heatmap"
           }
          ],
          "heatmapgl": [
           {
            "colorbar": {
             "outlinewidth": 0,
             "ticks": ""
            },
            "colorscale": [
             [
              0,
              "#0d0887"
             ],
             [
              0.1111111111111111,
              "#46039f"
             ],
             [
              0.2222222222222222,
              "#7201a8"
             ],
             [
              0.3333333333333333,
              "#9c179e"
             ],
             [
              0.4444444444444444,
              "#bd3786"
             ],
             [
              0.5555555555555556,
              "#d8576b"
             ],
             [
              0.6666666666666666,
              "#ed7953"
             ],
             [
              0.7777777777777778,
              "#fb9f3a"
             ],
             [
              0.8888888888888888,
              "#fdca26"
             ],
             [
              1,
              "#f0f921"
             ]
            ],
            "type": "heatmapgl"
           }
          ],
          "histogram": [
           {
            "marker": {
             "colorbar": {
              "outlinewidth": 0,
              "ticks": ""
             }
            },
            "type": "histogram"
           }
          ],
          "histogram2d": [
           {
            "colorbar": {
             "outlinewidth": 0,
             "ticks": ""
            },
            "colorscale": [
             [
              0,
              "#0d0887"
             ],
             [
              0.1111111111111111,
              "#46039f"
             ],
             [
              0.2222222222222222,
              "#7201a8"
             ],
             [
              0.3333333333333333,
              "#9c179e"
             ],
             [
              0.4444444444444444,
              "#bd3786"
             ],
             [
              0.5555555555555556,
              "#d8576b"
             ],
             [
              0.6666666666666666,
              "#ed7953"
             ],
             [
              0.7777777777777778,
              "#fb9f3a"
             ],
             [
              0.8888888888888888,
              "#fdca26"
             ],
             [
              1,
              "#f0f921"
             ]
            ],
            "type": "histogram2d"
           }
          ],
          "histogram2dcontour": [
           {
            "colorbar": {
             "outlinewidth": 0,
             "ticks": ""
            },
            "colorscale": [
             [
              0,
              "#0d0887"
             ],
             [
              0.1111111111111111,
              "#46039f"
             ],
             [
              0.2222222222222222,
              "#7201a8"
             ],
             [
              0.3333333333333333,
              "#9c179e"
             ],
             [
              0.4444444444444444,
              "#bd3786"
             ],
             [
              0.5555555555555556,
              "#d8576b"
             ],
             [
              0.6666666666666666,
              "#ed7953"
             ],
             [
              0.7777777777777778,
              "#fb9f3a"
             ],
             [
              0.8888888888888888,
              "#fdca26"
             ],
             [
              1,
              "#f0f921"
             ]
            ],
            "type": "histogram2dcontour"
           }
          ],
          "mesh3d": [
           {
            "colorbar": {
             "outlinewidth": 0,
             "ticks": ""
            },
            "type": "mesh3d"
           }
          ],
          "parcoords": [
           {
            "line": {
             "colorbar": {
              "outlinewidth": 0,
              "ticks": ""
             }
            },
            "type": "parcoords"
           }
          ],
          "pie": [
           {
            "automargin": true,
            "type": "pie"
           }
          ],
          "scatter": [
           {
            "marker": {
             "colorbar": {
              "outlinewidth": 0,
              "ticks": ""
             }
            },
            "type": "scatter"
           }
          ],
          "scatter3d": [
           {
            "line": {
             "colorbar": {
              "outlinewidth": 0,
              "ticks": ""
             }
            },
            "marker": {
             "colorbar": {
              "outlinewidth": 0,
              "ticks": ""
             }
            },
            "type": "scatter3d"
           }
          ],
          "scattercarpet": [
           {
            "marker": {
             "colorbar": {
              "outlinewidth": 0,
              "ticks": ""
             }
            },
            "type": "scattercarpet"
           }
          ],
          "scattergeo": [
           {
            "marker": {
             "colorbar": {
              "outlinewidth": 0,
              "ticks": ""
             }
            },
            "type": "scattergeo"
           }
          ],
          "scattergl": [
           {
            "marker": {
             "colorbar": {
              "outlinewidth": 0,
              "ticks": ""
             }
            },
            "type": "scattergl"
           }
          ],
          "scattermapbox": [
           {
            "marker": {
             "colorbar": {
              "outlinewidth": 0,
              "ticks": ""
             }
            },
            "type": "scattermapbox"
           }
          ],
          "scatterpolar": [
           {
            "marker": {
             "colorbar": {
              "outlinewidth": 0,
              "ticks": ""
             }
            },
            "type": "scatterpolar"
           }
          ],
          "scatterpolargl": [
           {
            "marker": {
             "colorbar": {
              "outlinewidth": 0,
              "ticks": ""
             }
            },
            "type": "scatterpolargl"
           }
          ],
          "scatterternary": [
           {
            "marker": {
             "colorbar": {
              "outlinewidth": 0,
              "ticks": ""
             }
            },
            "type": "scatterternary"
           }
          ],
          "surface": [
           {
            "colorbar": {
             "outlinewidth": 0,
             "ticks": ""
            },
            "colorscale": [
             [
              0,
              "#0d0887"
             ],
             [
              0.1111111111111111,
              "#46039f"
             ],
             [
              0.2222222222222222,
              "#7201a8"
             ],
             [
              0.3333333333333333,
              "#9c179e"
             ],
             [
              0.4444444444444444,
              "#bd3786"
             ],
             [
              0.5555555555555556,
              "#d8576b"
             ],
             [
              0.6666666666666666,
              "#ed7953"
             ],
             [
              0.7777777777777778,
              "#fb9f3a"
             ],
             [
              0.8888888888888888,
              "#fdca26"
             ],
             [
              1,
              "#f0f921"
             ]
            ],
            "type": "surface"
           }
          ],
          "table": [
           {
            "cells": {
             "fill": {
              "color": "#EBF0F8"
             },
             "line": {
              "color": "white"
             }
            },
            "header": {
             "fill": {
              "color": "#C8D4E3"
             },
             "line": {
              "color": "white"
             }
            },
            "type": "table"
           }
          ]
         },
         "layout": {
          "annotationdefaults": {
           "arrowcolor": "#2a3f5f",
           "arrowhead": 0,
           "arrowwidth": 1
          },
          "autotypenumbers": "strict",
          "coloraxis": {
           "colorbar": {
            "outlinewidth": 0,
            "ticks": ""
           }
          },
          "colorscale": {
           "diverging": [
            [
             0,
             "#8e0152"
            ],
            [
             0.1,
             "#c51b7d"
            ],
            [
             0.2,
             "#de77ae"
            ],
            [
             0.3,
             "#f1b6da"
            ],
            [
             0.4,
             "#fde0ef"
            ],
            [
             0.5,
             "#f7f7f7"
            ],
            [
             0.6,
             "#e6f5d0"
            ],
            [
             0.7,
             "#b8e186"
            ],
            [
             0.8,
             "#7fbc41"
            ],
            [
             0.9,
             "#4d9221"
            ],
            [
             1,
             "#276419"
            ]
           ],
           "sequential": [
            [
             0,
             "#0d0887"
            ],
            [
             0.1111111111111111,
             "#46039f"
            ],
            [
             0.2222222222222222,
             "#7201a8"
            ],
            [
             0.3333333333333333,
             "#9c179e"
            ],
            [
             0.4444444444444444,
             "#bd3786"
            ],
            [
             0.5555555555555556,
             "#d8576b"
            ],
            [
             0.6666666666666666,
             "#ed7953"
            ],
            [
             0.7777777777777778,
             "#fb9f3a"
            ],
            [
             0.8888888888888888,
             "#fdca26"
            ],
            [
             1,
             "#f0f921"
            ]
           ],
           "sequentialminus": [
            [
             0,
             "#0d0887"
            ],
            [
             0.1111111111111111,
             "#46039f"
            ],
            [
             0.2222222222222222,
             "#7201a8"
            ],
            [
             0.3333333333333333,
             "#9c179e"
            ],
            [
             0.4444444444444444,
             "#bd3786"
            ],
            [
             0.5555555555555556,
             "#d8576b"
            ],
            [
             0.6666666666666666,
             "#ed7953"
            ],
            [
             0.7777777777777778,
             "#fb9f3a"
            ],
            [
             0.8888888888888888,
             "#fdca26"
            ],
            [
             1,
             "#f0f921"
            ]
           ]
          },
          "colorway": [
           "#636efa",
           "#EF553B",
           "#00cc96",
           "#ab63fa",
           "#FFA15A",
           "#19d3f3",
           "#FF6692",
           "#B6E880",
           "#FF97FF",
           "#FECB52"
          ],
          "font": {
           "color": "#2a3f5f"
          },
          "geo": {
           "bgcolor": "white",
           "lakecolor": "white",
           "landcolor": "#E5ECF6",
           "showlakes": true,
           "showland": true,
           "subunitcolor": "white"
          },
          "hoverlabel": {
           "align": "left"
          },
          "hovermode": "closest",
          "mapbox": {
           "style": "light"
          },
          "paper_bgcolor": "white",
          "plot_bgcolor": "#E5ECF6",
          "polar": {
           "angularaxis": {
            "gridcolor": "white",
            "linecolor": "white",
            "ticks": ""
           },
           "bgcolor": "#E5ECF6",
           "radialaxis": {
            "gridcolor": "white",
            "linecolor": "white",
            "ticks": ""
           }
          },
          "scene": {
           "xaxis": {
            "backgroundcolor": "#E5ECF6",
            "gridcolor": "white",
            "gridwidth": 2,
            "linecolor": "white",
            "showbackground": true,
            "ticks": "",
            "zerolinecolor": "white"
           },
           "yaxis": {
            "backgroundcolor": "#E5ECF6",
            "gridcolor": "white",
            "gridwidth": 2,
            "linecolor": "white",
            "showbackground": true,
            "ticks": "",
            "zerolinecolor": "white"
           },
           "zaxis": {
            "backgroundcolor": "#E5ECF6",
            "gridcolor": "white",
            "gridwidth": 2,
            "linecolor": "white",
            "showbackground": true,
            "ticks": "",
            "zerolinecolor": "white"
           }
          },
          "shapedefaults": {
           "line": {
            "color": "#2a3f5f"
           }
          },
          "ternary": {
           "aaxis": {
            "gridcolor": "white",
            "linecolor": "white",
            "ticks": ""
           },
           "baxis": {
            "gridcolor": "white",
            "linecolor": "white",
            "ticks": ""
           },
           "bgcolor": "#E5ECF6",
           "caxis": {
            "gridcolor": "white",
            "linecolor": "white",
            "ticks": ""
           }
          },
          "title": {
           "x": 0.05
          },
          "xaxis": {
           "automargin": true,
           "gridcolor": "white",
           "linecolor": "white",
           "ticks": "",
           "title": {
            "standoff": 15
           },
           "zerolinecolor": "white",
           "zerolinewidth": 2
          },
          "yaxis": {
           "automargin": true,
           "gridcolor": "white",
           "linecolor": "white",
           "ticks": "",
           "title": {
            "standoff": 15
           },
           "zerolinecolor": "white",
           "zerolinewidth": 2
          }
         }
        },
        "title": {
         "font": {
          "color": "#4D5663"
         }
        },
        "xaxis": {
         "gridcolor": "#E1E5ED",
         "showgrid": true,
         "tickfont": {
          "color": "#4D5663"
         },
         "title": {
          "font": {
           "color": "#4D5663"
          },
          "text": ""
         },
         "zerolinecolor": "#E1E5ED"
        },
        "xaxis2": {
         "anchor": "y2",
         "gridcolor": "#E1E5ED",
         "showgrid": true,
         "showticklabels": false,
         "tickfont": {
          "color": "#4D5663"
         },
         "title": {
          "font": {
           "color": "#4D5663"
          },
          "text": ""
         },
         "zerolinecolor": "#E1E5ED"
        },
        "yaxis": {
         "domain": [
          0.3,
          1
         ],
         "gridcolor": "#E1E5ED",
         "showgrid": true,
         "tickfont": {
          "color": "#4D5663"
         },
         "title": {
          "font": {
           "color": "#4D5663"
          },
          "text": ""
         },
         "zerolinecolor": "#E1E5ED"
        },
        "yaxis2": {
         "domain": [
          0,
          0.25
         ],
         "gridcolor": "#E1E5ED",
         "showgrid": true,
         "tickfont": {
          "color": "#4D5663"
         },
         "title": {
          "font": {
           "color": "#4D5663"
          },
          "text": "Spread"
         },
         "zerolinecolor": "#E1E5ED"
        }
       }
      },
      "text/html": [
       "<div>                            <div id=\"522f9aed-92fc-4a6c-8ecd-2ba75022fef4\" class=\"plotly-graph-div\" style=\"height:525px; width:100%;\"></div>            <script type=\"text/javascript\">                require([\"plotly\"], function(Plotly) {                    window.PLOTLYENV=window.PLOTLYENV || {};\n",
       "                    window.PLOTLYENV.BASE_URL='https://plot.ly';                                    if (document.getElementById(\"522f9aed-92fc-4a6c-8ecd-2ba75022fef4\")) {                    Plotly.newPlot(                        \"522f9aed-92fc-4a6c-8ecd-2ba75022fef4\",                        [{\"line\": {\"color\": \"rgba(255, 153, 51, 1.0)\", \"dash\": \"solid\", \"shape\": \"linear\", \"width\": 1.3}, \"mode\": \"lines\", \"name\": \"A\", \"text\": \"\", \"type\": \"scatter\", \"x\": [0, 1, 2, 3, 4, 5, 6, 7, 8, 9, 10, 11, 12, 13, 14, 15, 16, 17, 18, 19, 20, 21, 22, 23, 24, 25, 26, 27, 28, 29, 30, 31, 32, 33, 34, 35, 36, 37, 38, 39, 40, 41, 42, 43, 44, 45, 46, 47, 48, 49, 50, 51, 52, 53, 54, 55, 56, 57, 58, 59, 60, 61, 62, 63, 64, 65, 66, 67, 68, 69, 70, 71, 72, 73, 74, 75, 76, 77, 78, 79, 80, 81, 82, 83, 84, 85, 86, 87, 88, 89, 90, 91, 92, 93, 94, 95, 96, 97, 98, 99], \"y\": [0.4445124197588715, 0.36205035415301395, 0.3969041084990429, 0.2692407675647294, -0.5731606881463372, -0.6626695566494553, -1.1885826763594174, 1.1797061124639112, -0.12435335510677673, 0.02131024946466258, -0.841044462996525, -0.7164275059953222, 0.17357181330712826, -0.8666452183680738, -0.3122159075440176, 1.1051992640591732, 1.950567433402343, -1.16047114413995, 1.270472855864974, 0.2662445207587512, 1.3984741432546657, 0.1574760328512065, 0.767697269586301, 1.420591922414267, -0.6907202729510498, -1.247031761337001, -0.38091327734497743, 0.05116497342890384, 0.9840904247169046, 0.29858165515039153, -0.2727524510094896, -0.21048960143603254, 0.7139673740857022, -0.16023385797409334, 0.9116261929654899, 1.4252147908541768, -0.8088052527987842, 1.2167057276698943, 0.036192051055108504, 2.3766711632322077, -0.8142601028756642, 1.32285717439343, 0.7936294163094557, -0.5276244168656109, -1.347509840579922, -1.7445807289925739, 0.8712960228407316, -0.06401887917664259, -1.5504797338463046, 0.8540304950184063, -1.3421184144641287, 0.10154010306848567, -0.6916852085852078, 0.17189917595550383, -0.9701019835518537, -0.8945692078511854, 0.5883075904339918, 0.8506104769036922, 1.127153818649054, -0.4998541777616691, -0.02584876008149694, -0.432161143303004, 2.28206533433616, -0.5690629153889168, -0.4248077276824574, -0.3231749483169146, -1.1748112767116616, 0.12788748462071864, 2.278384498085381, -1.6168076480904043, 1.3173421558532104, -1.0653696753546293, -0.1504040147443646, -1.5231003219007477, 1.0731865248776302, 0.3161981373329008, 0.6179130628258113, -1.2322386008952155, 0.1982437126589551, 0.171516596799887, 1.3244963151549742, 0.6997770867168803, 0.1578956838629729, -1.4556748030418778, 0.14849228957824614, -0.25687658016777665, 0.1990906077208847, -0.23739319765976388, 1.6743456830520078, 0.5740378449463213, -0.4880763235958073, 0.4152351549788122, -1.4233924220357441, 0.07106839796078257, -0.5458215202047584, -1.4029215223122031, -2.4160886328514204, -0.04674227495362861, -0.5797592925690125, -0.9780300391295116]}, {\"line\": {\"color\": \"rgba(55, 128, 191, 1.0)\", \"dash\": \"solid\", \"shape\": \"linear\", \"width\": 1.3}, \"mode\": \"lines\", \"name\": \"B\", \"text\": \"\", \"type\": \"scatter\", \"x\": [0, 1, 2, 3, 4, 5, 6, 7, 8, 9, 10, 11, 12, 13, 14, 15, 16, 17, 18, 19, 20, 21, 22, 23, 24, 25, 26, 27, 28, 29, 30, 31, 32, 33, 34, 35, 36, 37, 38, 39, 40, 41, 42, 43, 44, 45, 46, 47, 48, 49, 50, 51, 52, 53, 54, 55, 56, 57, 58, 59, 60, 61, 62, 63, 64, 65, 66, 67, 68, 69, 70, 71, 72, 73, 74, 75, 76, 77, 78, 79, 80, 81, 82, 83, 84, 85, 86, 87, 88, 89, 90, 91, 92, 93, 94, 95, 96, 97, 98, 99], \"y\": [-0.6974834492785861, 0.5265707753982296, -0.07776827797428544, -0.5339451906699878, -0.7790302886665752, -0.7351560296443709, 0.8085339624996511, 0.6361945592305132, -0.6748913130970792, -0.6066952483827125, -0.6754438189189058, -1.0340066774333512, -0.24645264271902192, -1.1560839085862804, -1.025524281547767, -0.9497546642265557, -0.21541367777889847, 0.12195429227566948, -1.1704344014413213, 0.012309507826049594, 0.13356214797549099, 0.20033088561699652, -0.5825604239393043, 0.008094169057354685, 2.30326975138563, 0.3812004657650732, 0.8621386798530359, -1.0317997889665491, -2.105577763733387, 0.604368051637883, 1.3785024498319072, -1.4906738998136213, -0.005277792437393877, 0.9967361976326541, -1.3673910718301645, -0.10977136949279971, -0.5953982842754707, 0.1860007397860299, 1.1924455051673681, 0.3676128077600115, -0.7766586207968474, 0.1302866455942036, -0.2925619978758218, 1.1126059122521699, -1.4217223065757478, -1.1241097246955072, -0.8164040494133138, -0.7540096772936119, 0.3791695611574733, 0.9490520805551402, -0.40971062506334494, 0.9005435826101161, 0.46392921363095735, 0.23102212634003594, 1.0865785939606485, 1.4305345221229842, 0.34084797401263633, -0.030888851300284265, 0.17486758559954058, -0.6711197166289434, 2.599187965375308, 0.6263752513742433, 0.6180370247657457, 1.2680638021787283, 2.3789965030675226, -1.0446268450076803, 0.47632445881230345, 0.9501238509412528, -0.8537991737916394, 0.731521735345266, 0.6084196715193544, 1.5534834268955304, 0.3749500243260987, -0.714605928485408, 1.29945196980955, -0.4609787599219854, -0.5317687517854143, -0.43900882115612183, -0.06104875856549778, -1.1404600063013492, 0.9170010691017919, -0.7362534089558578, -0.8455212449608114, 0.05782469041110582, -0.11944713690184494, 1.7355595492838432, -1.7970157731577507, -0.3730788606644096, 0.023009405817685354, -0.2315156716542146, 0.27912540287718846, -1.3705966662852875, 0.7472522733767284, 0.9005176103378513, 0.716327290283002, 1.314555991394918, 0.7221539987053497, 1.1394467201828706, -0.04431566287321239, 0.7376141042686286]}, {\"connectgaps\": false, \"fill\": \"tozeroy\", \"line\": {\"color\": \"green\", \"dash\": \"solid\", \"shape\": \"linear\", \"width\": 0.5}, \"mode\": \"lines\", \"name\": \"Spread\", \"showlegend\": false, \"type\": \"scatter\", \"x\": [0, 1, 2, 3, 4, 5, 6, 7, 8, 9, 10, 11, 12, 13, 14, 15, 16, 17, 18, 19, 20, 21, 22, 23, 24, 25, 26, 27, 28, 29, 30, 31, 32, 33, 34, 35, 36, 37, 38, 39, 40, 41, 42, 43, 44, 45, 46, 47, 48, 49, 50, 51, 52, 53, 54, 55, 56, 57, 58, 59, 60, 61, 62, 63, 64, 65, 66, 67, 68, 69, 70, 71, 72, 73, 74, 75, 76, 77, 78, 79, 80, 81, 82, 83, 84, 85, 86, 87, 88, 89, 90, 91, 92, 93, 94, 95, 96, 97, 98, 99], \"xaxis\": \"x2\", \"y\": [1.1419958690374576, \"\", 0.4746723864733283, 0.8031859582347172, 0.20586960052023795, 0.07248647299491562, \"\", 0.5435115532333981, 0.5505379579903025, 0.628005497847375, \"\", 0.31757917143802894, 0.4200244560261502, 0.28943869021820656, 0.7133083740037494, 2.054953928285729, 2.1659811111812415, \"\", 2.4409072573062955, 0.2539350129327016, 1.2649119952791748, \"\", 1.3502576935256054, 1.4124977533569123, \"\", \"\", \"\", 1.082964762395453, 3.0896681884502915, \"\", \"\", 1.2801842983775888, 0.7192451665230961, \"\", 2.2790172647956544, 1.5349861603469765, \"\", 1.0307049878838643, \"\", 2.009058355472196, \"\", 1.1925705287992265, 1.0861914141852775, \"\", 0.07421246599582587, \"\", 1.6877000722540454, 0.6899907981169693, \"\", \"\", \"\", \"\", \"\", \"\", \"\", \"\", 0.2474596164213555, 0.8814993282039765, 0.9522862330495134, 0.1712655388672743, \"\", \"\", 1.6640283095704143, \"\", \"\", 0.7214518966907657, \"\", \"\", 3.13218367187702, \"\", 0.708922484333856, \"\", \"\", \"\", \"\", 0.7771768972548863, 1.1496818146112255, \"\", 0.25929247122445287, 1.3119766031012363, 0.4074952460531823, 1.436030495672738, 1.0034169288237842, \"\", 0.26793942648009106, \"\", 1.9961063808786355, 0.1356856630046457, 1.6513362772343225, 0.8055535166005359, \"\", 1.7858318212640998, \"\", \"\", \"\", \"\", \"\", \"\", \"\", \"\"], \"yaxis\": \"y2\"}, {\"connectgaps\": false, \"fill\": \"tozeroy\", \"line\": {\"color\": \"red\", \"dash\": \"solid\", \"shape\": \"linear\", \"width\": 0.5}, \"mode\": \"lines\", \"name\": \"Spread\", \"showlegend\": false, \"type\": \"scatter\", \"x\": [0, 1, 2, 3, 4, 5, 6, 7, 8, 9, 10, 11, 12, 13, 14, 15, 16, 17, 18, 19, 20, 21, 22, 23, 24, 25, 26, 27, 28, 29, 30, 31, 32, 33, 34, 35, 36, 37, 38, 39, 40, 41, 42, 43, 44, 45, 46, 47, 48, 49, 50, 51, 52, 53, 54, 55, 56, 57, 58, 59, 60, 61, 62, 63, 64, 65, 66, 67, 68, 69, 70, 71, 72, 73, 74, 75, 76, 77, 78, 79, 80, 81, 82, 83, 84, 85, 86, 87, 88, 89, 90, 91, 92, 93, 94, 95, 96, 97, 98, 99], \"xaxis\": \"x2\", \"y\": [\"\", -0.16452042124521565, \"\", \"\", \"\", \"\", -1.9971166388590684, \"\", \"\", \"\", -0.1656006440776192, \"\", \"\", \"\", \"\", \"\", \"\", -1.2824254364156196, \"\", \"\", \"\", -0.042854852765790014, \"\", \"\", -2.9939900243366795, -1.6282322271020742, -1.2430519571980134, \"\", \"\", -0.30578639648749145, -1.6512549008413968, \"\", \"\", -1.1569700556067475, \"\", \"\", -0.21340696852331353, \"\", -1.1562534541122595, \"\", -0.03760148207881675, \"\", \"\", -1.6402303291177809, \"\", -0.6204710042970667, \"\", \"\", -1.9296492950037778, -0.0950215855367339, -0.9324077894007838, -0.7990034795416304, -1.155614422216165, -0.05912295038453211, -2.0566805775125023, -2.3251037299741695, \"\", \"\", \"\", \"\", -2.6250367254568046, -1.0585363946772472, \"\", -1.8371267175676451, -2.80380423074998, \"\", -1.651135735523965, -0.8222363663205342, \"\", -2.3483293834356704, \"\", -2.61885310225016, -0.5253540390704633, -0.8084943934153397, -0.2262654449319197, \"\", \"\", -0.7932297797390937, \"\", \"\", \"\", \"\", \"\", -1.5134994934529835, \"\", -1.9924361294516197, \"\", \"\", \"\", \"\", -0.7672017264729958, \"\", -2.1706446954124727, -0.8294492123770687, -1.2621488104877603, -2.717477513707121, -3.13824263155677, -1.1861889951364992, -0.5354436296958001, -1.7156441433981402], \"yaxis\": \"y2\"}],                        {\"hovermode\": \"x\", \"legend\": {\"bgcolor\": \"#F5F6F9\", \"font\": {\"color\": \"#4D5663\"}}, \"paper_bgcolor\": \"#F5F6F9\", \"plot_bgcolor\": \"#F5F6F9\", \"template\": {\"data\": {\"bar\": [{\"error_x\": {\"color\": \"#2a3f5f\"}, \"error_y\": {\"color\": \"#2a3f5f\"}, \"marker\": {\"line\": {\"color\": \"#E5ECF6\", \"width\": 0.5}}, \"type\": \"bar\"}], \"barpolar\": [{\"marker\": {\"line\": {\"color\": \"#E5ECF6\", \"width\": 0.5}}, \"type\": \"barpolar\"}], \"carpet\": [{\"aaxis\": {\"endlinecolor\": \"#2a3f5f\", \"gridcolor\": \"white\", \"linecolor\": \"white\", \"minorgridcolor\": \"white\", \"startlinecolor\": \"#2a3f5f\"}, \"baxis\": {\"endlinecolor\": \"#2a3f5f\", \"gridcolor\": \"white\", \"linecolor\": \"white\", \"minorgridcolor\": \"white\", \"startlinecolor\": \"#2a3f5f\"}, \"type\": \"carpet\"}], \"choropleth\": [{\"colorbar\": {\"outlinewidth\": 0, \"ticks\": \"\"}, \"type\": \"choropleth\"}], \"contour\": [{\"colorbar\": {\"outlinewidth\": 0, \"ticks\": \"\"}, \"colorscale\": [[0.0, \"#0d0887\"], [0.1111111111111111, \"#46039f\"], [0.2222222222222222, \"#7201a8\"], [0.3333333333333333, \"#9c179e\"], [0.4444444444444444, \"#bd3786\"], [0.5555555555555556, \"#d8576b\"], [0.6666666666666666, \"#ed7953\"], [0.7777777777777778, \"#fb9f3a\"], [0.8888888888888888, \"#fdca26\"], [1.0, \"#f0f921\"]], \"type\": \"contour\"}], \"contourcarpet\": [{\"colorbar\": {\"outlinewidth\": 0, \"ticks\": \"\"}, \"type\": \"contourcarpet\"}], \"heatmap\": [{\"colorbar\": {\"outlinewidth\": 0, \"ticks\": \"\"}, \"colorscale\": [[0.0, \"#0d0887\"], [0.1111111111111111, \"#46039f\"], [0.2222222222222222, \"#7201a8\"], [0.3333333333333333, \"#9c179e\"], [0.4444444444444444, \"#bd3786\"], [0.5555555555555556, \"#d8576b\"], [0.6666666666666666, \"#ed7953\"], [0.7777777777777778, \"#fb9f3a\"], [0.8888888888888888, \"#fdca26\"], [1.0, \"#f0f921\"]], \"type\": \"heatmap\"}], \"heatmapgl\": [{\"colorbar\": {\"outlinewidth\": 0, \"ticks\": \"\"}, \"colorscale\": [[0.0, \"#0d0887\"], [0.1111111111111111, \"#46039f\"], [0.2222222222222222, \"#7201a8\"], [0.3333333333333333, \"#9c179e\"], [0.4444444444444444, \"#bd3786\"], [0.5555555555555556, \"#d8576b\"], [0.6666666666666666, \"#ed7953\"], [0.7777777777777778, \"#fb9f3a\"], [0.8888888888888888, \"#fdca26\"], [1.0, \"#f0f921\"]], \"type\": \"heatmapgl\"}], \"histogram\": [{\"marker\": {\"colorbar\": {\"outlinewidth\": 0, \"ticks\": \"\"}}, \"type\": \"histogram\"}], \"histogram2d\": [{\"colorbar\": {\"outlinewidth\": 0, \"ticks\": \"\"}, \"colorscale\": [[0.0, \"#0d0887\"], [0.1111111111111111, \"#46039f\"], [0.2222222222222222, \"#7201a8\"], [0.3333333333333333, \"#9c179e\"], [0.4444444444444444, \"#bd3786\"], [0.5555555555555556, \"#d8576b\"], [0.6666666666666666, \"#ed7953\"], [0.7777777777777778, \"#fb9f3a\"], [0.8888888888888888, \"#fdca26\"], [1.0, \"#f0f921\"]], \"type\": \"histogram2d\"}], \"histogram2dcontour\": [{\"colorbar\": {\"outlinewidth\": 0, \"ticks\": \"\"}, \"colorscale\": [[0.0, \"#0d0887\"], [0.1111111111111111, \"#46039f\"], [0.2222222222222222, \"#7201a8\"], [0.3333333333333333, \"#9c179e\"], [0.4444444444444444, \"#bd3786\"], [0.5555555555555556, \"#d8576b\"], [0.6666666666666666, \"#ed7953\"], [0.7777777777777778, \"#fb9f3a\"], [0.8888888888888888, \"#fdca26\"], [1.0, \"#f0f921\"]], \"type\": \"histogram2dcontour\"}], \"mesh3d\": [{\"colorbar\": {\"outlinewidth\": 0, \"ticks\": \"\"}, \"type\": \"mesh3d\"}], \"parcoords\": [{\"line\": {\"colorbar\": {\"outlinewidth\": 0, \"ticks\": \"\"}}, \"type\": \"parcoords\"}], \"pie\": [{\"automargin\": true, \"type\": \"pie\"}], \"scatter\": [{\"marker\": {\"colorbar\": {\"outlinewidth\": 0, \"ticks\": \"\"}}, \"type\": \"scatter\"}], \"scatter3d\": [{\"line\": {\"colorbar\": {\"outlinewidth\": 0, \"ticks\": \"\"}}, \"marker\": {\"colorbar\": {\"outlinewidth\": 0, \"ticks\": \"\"}}, \"type\": \"scatter3d\"}], \"scattercarpet\": [{\"marker\": {\"colorbar\": {\"outlinewidth\": 0, \"ticks\": \"\"}}, \"type\": \"scattercarpet\"}], \"scattergeo\": [{\"marker\": {\"colorbar\": {\"outlinewidth\": 0, \"ticks\": \"\"}}, \"type\": \"scattergeo\"}], \"scattergl\": [{\"marker\": {\"colorbar\": {\"outlinewidth\": 0, \"ticks\": \"\"}}, \"type\": \"scattergl\"}], \"scattermapbox\": [{\"marker\": {\"colorbar\": {\"outlinewidth\": 0, \"ticks\": \"\"}}, \"type\": \"scattermapbox\"}], \"scatterpolar\": [{\"marker\": {\"colorbar\": {\"outlinewidth\": 0, \"ticks\": \"\"}}, \"type\": \"scatterpolar\"}], \"scatterpolargl\": [{\"marker\": {\"colorbar\": {\"outlinewidth\": 0, \"ticks\": \"\"}}, \"type\": \"scatterpolargl\"}], \"scatterternary\": [{\"marker\": {\"colorbar\": {\"outlinewidth\": 0, \"ticks\": \"\"}}, \"type\": \"scatterternary\"}], \"surface\": [{\"colorbar\": {\"outlinewidth\": 0, \"ticks\": \"\"}, \"colorscale\": [[0.0, \"#0d0887\"], [0.1111111111111111, \"#46039f\"], [0.2222222222222222, \"#7201a8\"], [0.3333333333333333, \"#9c179e\"], [0.4444444444444444, \"#bd3786\"], [0.5555555555555556, \"#d8576b\"], [0.6666666666666666, \"#ed7953\"], [0.7777777777777778, \"#fb9f3a\"], [0.8888888888888888, \"#fdca26\"], [1.0, \"#f0f921\"]], \"type\": \"surface\"}], \"table\": [{\"cells\": {\"fill\": {\"color\": \"#EBF0F8\"}, \"line\": {\"color\": \"white\"}}, \"header\": {\"fill\": {\"color\": \"#C8D4E3\"}, \"line\": {\"color\": \"white\"}}, \"type\": \"table\"}]}, \"layout\": {\"annotationdefaults\": {\"arrowcolor\": \"#2a3f5f\", \"arrowhead\": 0, \"arrowwidth\": 1}, \"autotypenumbers\": \"strict\", \"coloraxis\": {\"colorbar\": {\"outlinewidth\": 0, \"ticks\": \"\"}}, \"colorscale\": {\"diverging\": [[0, \"#8e0152\"], [0.1, \"#c51b7d\"], [0.2, \"#de77ae\"], [0.3, \"#f1b6da\"], [0.4, \"#fde0ef\"], [0.5, \"#f7f7f7\"], [0.6, \"#e6f5d0\"], [0.7, \"#b8e186\"], [0.8, \"#7fbc41\"], [0.9, \"#4d9221\"], [1, \"#276419\"]], \"sequential\": [[0.0, \"#0d0887\"], [0.1111111111111111, \"#46039f\"], [0.2222222222222222, \"#7201a8\"], [0.3333333333333333, \"#9c179e\"], [0.4444444444444444, \"#bd3786\"], [0.5555555555555556, \"#d8576b\"], [0.6666666666666666, \"#ed7953\"], [0.7777777777777778, \"#fb9f3a\"], [0.8888888888888888, \"#fdca26\"], [1.0, \"#f0f921\"]], \"sequentialminus\": [[0.0, \"#0d0887\"], [0.1111111111111111, \"#46039f\"], [0.2222222222222222, \"#7201a8\"], [0.3333333333333333, \"#9c179e\"], [0.4444444444444444, \"#bd3786\"], [0.5555555555555556, \"#d8576b\"], [0.6666666666666666, \"#ed7953\"], [0.7777777777777778, \"#fb9f3a\"], [0.8888888888888888, \"#fdca26\"], [1.0, \"#f0f921\"]]}, \"colorway\": [\"#636efa\", \"#EF553B\", \"#00cc96\", \"#ab63fa\", \"#FFA15A\", \"#19d3f3\", \"#FF6692\", \"#B6E880\", \"#FF97FF\", \"#FECB52\"], \"font\": {\"color\": \"#2a3f5f\"}, \"geo\": {\"bgcolor\": \"white\", \"lakecolor\": \"white\", \"landcolor\": \"#E5ECF6\", \"showlakes\": true, \"showland\": true, \"subunitcolor\": \"white\"}, \"hoverlabel\": {\"align\": \"left\"}, \"hovermode\": \"closest\", \"mapbox\": {\"style\": \"light\"}, \"paper_bgcolor\": \"white\", \"plot_bgcolor\": \"#E5ECF6\", \"polar\": {\"angularaxis\": {\"gridcolor\": \"white\", \"linecolor\": \"white\", \"ticks\": \"\"}, \"bgcolor\": \"#E5ECF6\", \"radialaxis\": {\"gridcolor\": \"white\", \"linecolor\": \"white\", \"ticks\": \"\"}}, \"scene\": {\"xaxis\": {\"backgroundcolor\": \"#E5ECF6\", \"gridcolor\": \"white\", \"gridwidth\": 2, \"linecolor\": \"white\", \"showbackground\": true, \"ticks\": \"\", \"zerolinecolor\": \"white\"}, \"yaxis\": {\"backgroundcolor\": \"#E5ECF6\", \"gridcolor\": \"white\", \"gridwidth\": 2, \"linecolor\": \"white\", \"showbackground\": true, \"ticks\": \"\", \"zerolinecolor\": \"white\"}, \"zaxis\": {\"backgroundcolor\": \"#E5ECF6\", \"gridcolor\": \"white\", \"gridwidth\": 2, \"linecolor\": \"white\", \"showbackground\": true, \"ticks\": \"\", \"zerolinecolor\": \"white\"}}, \"shapedefaults\": {\"line\": {\"color\": \"#2a3f5f\"}}, \"ternary\": {\"aaxis\": {\"gridcolor\": \"white\", \"linecolor\": \"white\", \"ticks\": \"\"}, \"baxis\": {\"gridcolor\": \"white\", \"linecolor\": \"white\", \"ticks\": \"\"}, \"bgcolor\": \"#E5ECF6\", \"caxis\": {\"gridcolor\": \"white\", \"linecolor\": \"white\", \"ticks\": \"\"}}, \"title\": {\"x\": 0.05}, \"xaxis\": {\"automargin\": true, \"gridcolor\": \"white\", \"linecolor\": \"white\", \"ticks\": \"\", \"title\": {\"standoff\": 15}, \"zerolinecolor\": \"white\", \"zerolinewidth\": 2}, \"yaxis\": {\"automargin\": true, \"gridcolor\": \"white\", \"linecolor\": \"white\", \"ticks\": \"\", \"title\": {\"standoff\": 15}, \"zerolinecolor\": \"white\", \"zerolinewidth\": 2}}}, \"title\": {\"font\": {\"color\": \"#4D5663\"}}, \"xaxis\": {\"gridcolor\": \"#E1E5ED\", \"showgrid\": true, \"tickfont\": {\"color\": \"#4D5663\"}, \"title\": {\"font\": {\"color\": \"#4D5663\"}, \"text\": \"\"}, \"zerolinecolor\": \"#E1E5ED\"}, \"xaxis2\": {\"anchor\": \"y2\", \"gridcolor\": \"#E1E5ED\", \"showgrid\": true, \"showticklabels\": false, \"tickfont\": {\"color\": \"#4D5663\"}, \"title\": {\"font\": {\"color\": \"#4D5663\"}, \"text\": \"\"}, \"zerolinecolor\": \"#E1E5ED\"}, \"yaxis\": {\"domain\": [0.3, 1], \"gridcolor\": \"#E1E5ED\", \"showgrid\": true, \"tickfont\": {\"color\": \"#4D5663\"}, \"title\": {\"font\": {\"color\": \"#4D5663\"}, \"text\": \"\"}, \"zerolinecolor\": \"#E1E5ED\"}, \"yaxis2\": {\"domain\": [0, 0.25], \"gridcolor\": \"#E1E5ED\", \"showgrid\": true, \"tickfont\": {\"color\": \"#4D5663\"}, \"title\": {\"font\": {\"color\": \"#4D5663\"}, \"text\": \"Spread\"}, \"zerolinecolor\": \"#E1E5ED\"}},                        {\"showLink\": true, \"linkText\": \"Export to plot.ly\", \"plotlyServerURL\": \"https://plot.ly\", \"responsive\": true}                    ).then(function(){\n",
       "                            \n",
       "var gd = document.getElementById('522f9aed-92fc-4a6c-8ecd-2ba75022fef4');\n",
       "var x = new MutationObserver(function (mutations, observer) {{\n",
       "        var display = window.getComputedStyle(gd).display;\n",
       "        if (!display || display === 'none') {{\n",
       "            console.log([gd, 'removed!']);\n",
       "            Plotly.purge(gd);\n",
       "            observer.disconnect();\n",
       "        }}\n",
       "}});\n",
       "\n",
       "// Listen for the removal of the full notebook cells\n",
       "var notebookContainer = gd.closest('#notebook-container');\n",
       "if (notebookContainer) {{\n",
       "    x.observe(notebookContainer, {childList: true});\n",
       "}}\n",
       "\n",
       "// Listen for the clearing of the current output cell\n",
       "var outputEl = gd.closest('.output');\n",
       "if (outputEl) {{\n",
       "    x.observe(outputEl, {childList: true});\n",
       "}}\n",
       "\n",
       "                        })                };                });            </script>        </div>"
      ]
     },
     "metadata": {},
     "output_type": "display_data"
    }
   ],
   "source": [
    "df[['A','B']].iplot(kind='spread')"
   ]
  },
  {
   "cell_type": "markdown",
   "metadata": {},
   "source": [
    "## histogram"
   ]
  },
  {
   "cell_type": "code",
   "execution_count": 15,
   "metadata": {},
   "outputs": [
    {
     "data": {
      "application/vnd.plotly.v1+json": {
       "config": {
        "linkText": "Export to plot.ly",
        "plotlyServerURL": "https://plot.ly",
        "showLink": true
       },
       "data": [
        {
         "histfunc": "count",
         "histnorm": "",
         "marker": {
          "color": "rgba(255, 153, 51, 1.0)",
          "line": {
           "color": "#4D5663",
           "width": 1.3
          }
         },
         "name": "A",
         "nbinsx": 25,
         "opacity": 0.8,
         "orientation": "v",
         "type": "histogram",
         "x": [
          0.02418255092478402,
          1.4124332686573349,
          -0.13525596911342286,
          0.001604930911478157,
          -0.9105956985942159,
          -1.4680016670962617,
          1.430476253728598,
          0.0025982330885907902,
          0.43513341996103283,
          0.2580753610917117,
          0.13993826661469347,
          1.7234572535358355,
          2.3204602879846727,
          1.2737204472952532,
          -0.08375671610624877,
          0.8367304082537872,
          0.8856500383374242,
          1.6203057277463047,
          0.974100562542249,
          2.1785110991502465,
          0.33322982293518144,
          1.0012374120729912,
          -0.22288148927199683,
          -0.24484110703315345,
          0.7631769279082232,
          -0.5116905222642862,
          1.2500553392229015,
          1.6734788123657236,
          0.027518947240214735,
          -0.7983358088554204,
          -0.49171758291318074,
          -0.27106967454582714,
          0.766183734686007,
          -1.3675070970846126,
          0.5939572485654466,
          0.8557880245841908,
          -0.8364234928119776,
          -0.6767362402087117,
          0.01396582009759249,
          0.915141586077435,
          -0.15623247886002578,
          -1.9335014479961519,
          1.4671043099545935,
          -0.6301124273367666,
          0.05860580022499844,
          -0.9133003541027503,
          0.43691841613140603,
          0.9963060371899947,
          0.6147413907410918,
          -1.365124781881899,
          -0.6027455916713371,
          3.0736744047017215,
          -1.6952632501918714,
          -0.22608522663974726,
          0.8700112458827138,
          -0.15621201928283715,
          -0.8247541113628685,
          -0.8655608065906176,
          -1.6120885416801292,
          0.0031504965402953077,
          -0.6448343775410306,
          1.0644949797114138,
          0.42552743644512264,
          0.6456236961322278,
          1.3638438624592204,
          0.09950609702610812,
          -0.7693502207479467,
          2.715560197484808,
          0.2247948496982734,
          0.28111821963032396,
          -0.18519220005543738,
          -0.5234473437246925,
          1.012101190998599,
          0.9884856272802723,
          -0.226675147824472,
          -0.9638329549131603,
          0.7088628883810655,
          -0.3263404292955781,
          -0.5125669490635824,
          0.9517259677399895,
          -0.6628998233274814,
          0.2187279737119685,
          1.1202185657938788,
          -0.14016672992536683,
          0.44082966349417685,
          -1.3245534875698688,
          -1.5823330739577055,
          0.8244531610855222,
          -1.9593031192504786,
          -1.1089292687189625,
          -1.1182447102003847,
          -0.45480982570416295,
          -0.296793564653928,
          1.5878046221167919,
          1.374332917992649,
          -0.24786230987615668,
          1.5673667662161475,
          -0.4394080578558695,
          -1.1824195861775926,
          0.03740498870195939
         ]
        }
       ],
       "layout": {
        "barmode": "overlay",
        "legend": {
         "bgcolor": "#F5F6F9",
         "font": {
          "color": "#4D5663"
         }
        },
        "paper_bgcolor": "#F5F6F9",
        "plot_bgcolor": "#F5F6F9",
        "template": {
         "data": {
          "bar": [
           {
            "error_x": {
             "color": "#2a3f5f"
            },
            "error_y": {
             "color": "#2a3f5f"
            },
            "marker": {
             "line": {
              "color": "#E5ECF6",
              "width": 0.5
             }
            },
            "type": "bar"
           }
          ],
          "barpolar": [
           {
            "marker": {
             "line": {
              "color": "#E5ECF6",
              "width": 0.5
             }
            },
            "type": "barpolar"
           }
          ],
          "carpet": [
           {
            "aaxis": {
             "endlinecolor": "#2a3f5f",
             "gridcolor": "white",
             "linecolor": "white",
             "minorgridcolor": "white",
             "startlinecolor": "#2a3f5f"
            },
            "baxis": {
             "endlinecolor": "#2a3f5f",
             "gridcolor": "white",
             "linecolor": "white",
             "minorgridcolor": "white",
             "startlinecolor": "#2a3f5f"
            },
            "type": "carpet"
           }
          ],
          "choropleth": [
           {
            "colorbar": {
             "outlinewidth": 0,
             "ticks": ""
            },
            "type": "choropleth"
           }
          ],
          "contour": [
           {
            "colorbar": {
             "outlinewidth": 0,
             "ticks": ""
            },
            "colorscale": [
             [
              0,
              "#0d0887"
             ],
             [
              0.1111111111111111,
              "#46039f"
             ],
             [
              0.2222222222222222,
              "#7201a8"
             ],
             [
              0.3333333333333333,
              "#9c179e"
             ],
             [
              0.4444444444444444,
              "#bd3786"
             ],
             [
              0.5555555555555556,
              "#d8576b"
             ],
             [
              0.6666666666666666,
              "#ed7953"
             ],
             [
              0.7777777777777778,
              "#fb9f3a"
             ],
             [
              0.8888888888888888,
              "#fdca26"
             ],
             [
              1,
              "#f0f921"
             ]
            ],
            "type": "contour"
           }
          ],
          "contourcarpet": [
           {
            "colorbar": {
             "outlinewidth": 0,
             "ticks": ""
            },
            "type": "contourcarpet"
           }
          ],
          "heatmap": [
           {
            "colorbar": {
             "outlinewidth": 0,
             "ticks": ""
            },
            "colorscale": [
             [
              0,
              "#0d0887"
             ],
             [
              0.1111111111111111,
              "#46039f"
             ],
             [
              0.2222222222222222,
              "#7201a8"
             ],
             [
              0.3333333333333333,
              "#9c179e"
             ],
             [
              0.4444444444444444,
              "#bd3786"
             ],
             [
              0.5555555555555556,
              "#d8576b"
             ],
             [
              0.6666666666666666,
              "#ed7953"
             ],
             [
              0.7777777777777778,
              "#fb9f3a"
             ],
             [
              0.8888888888888888,
              "#fdca26"
             ],
             [
              1,
              "#f0f921"
             ]
            ],
            "type": "heatmap"
           }
          ],
          "heatmapgl": [
           {
            "colorbar": {
             "outlinewidth": 0,
             "ticks": ""
            },
            "colorscale": [
             [
              0,
              "#0d0887"
             ],
             [
              0.1111111111111111,
              "#46039f"
             ],
             [
              0.2222222222222222,
              "#7201a8"
             ],
             [
              0.3333333333333333,
              "#9c179e"
             ],
             [
              0.4444444444444444,
              "#bd3786"
             ],
             [
              0.5555555555555556,
              "#d8576b"
             ],
             [
              0.6666666666666666,
              "#ed7953"
             ],
             [
              0.7777777777777778,
              "#fb9f3a"
             ],
             [
              0.8888888888888888,
              "#fdca26"
             ],
             [
              1,
              "#f0f921"
             ]
            ],
            "type": "heatmapgl"
           }
          ],
          "histogram": [
           {
            "marker": {
             "colorbar": {
              "outlinewidth": 0,
              "ticks": ""
             }
            },
            "type": "histogram"
           }
          ],
          "histogram2d": [
           {
            "colorbar": {
             "outlinewidth": 0,
             "ticks": ""
            },
            "colorscale": [
             [
              0,
              "#0d0887"
             ],
             [
              0.1111111111111111,
              "#46039f"
             ],
             [
              0.2222222222222222,
              "#7201a8"
             ],
             [
              0.3333333333333333,
              "#9c179e"
             ],
             [
              0.4444444444444444,
              "#bd3786"
             ],
             [
              0.5555555555555556,
              "#d8576b"
             ],
             [
              0.6666666666666666,
              "#ed7953"
             ],
             [
              0.7777777777777778,
              "#fb9f3a"
             ],
             [
              0.8888888888888888,
              "#fdca26"
             ],
             [
              1,
              "#f0f921"
             ]
            ],
            "type": "histogram2d"
           }
          ],
          "histogram2dcontour": [
           {
            "colorbar": {
             "outlinewidth": 0,
             "ticks": ""
            },
            "colorscale": [
             [
              0,
              "#0d0887"
             ],
             [
              0.1111111111111111,
              "#46039f"
             ],
             [
              0.2222222222222222,
              "#7201a8"
             ],
             [
              0.3333333333333333,
              "#9c179e"
             ],
             [
              0.4444444444444444,
              "#bd3786"
             ],
             [
              0.5555555555555556,
              "#d8576b"
             ],
             [
              0.6666666666666666,
              "#ed7953"
             ],
             [
              0.7777777777777778,
              "#fb9f3a"
             ],
             [
              0.8888888888888888,
              "#fdca26"
             ],
             [
              1,
              "#f0f921"
             ]
            ],
            "type": "histogram2dcontour"
           }
          ],
          "mesh3d": [
           {
            "colorbar": {
             "outlinewidth": 0,
             "ticks": ""
            },
            "type": "mesh3d"
           }
          ],
          "parcoords": [
           {
            "line": {
             "colorbar": {
              "outlinewidth": 0,
              "ticks": ""
             }
            },
            "type": "parcoords"
           }
          ],
          "pie": [
           {
            "automargin": true,
            "type": "pie"
           }
          ],
          "scatter": [
           {
            "marker": {
             "colorbar": {
              "outlinewidth": 0,
              "ticks": ""
             }
            },
            "type": "scatter"
           }
          ],
          "scatter3d": [
           {
            "line": {
             "colorbar": {
              "outlinewidth": 0,
              "ticks": ""
             }
            },
            "marker": {
             "colorbar": {
              "outlinewidth": 0,
              "ticks": ""
             }
            },
            "type": "scatter3d"
           }
          ],
          "scattercarpet": [
           {
            "marker": {
             "colorbar": {
              "outlinewidth": 0,
              "ticks": ""
             }
            },
            "type": "scattercarpet"
           }
          ],
          "scattergeo": [
           {
            "marker": {
             "colorbar": {
              "outlinewidth": 0,
              "ticks": ""
             }
            },
            "type": "scattergeo"
           }
          ],
          "scattergl": [
           {
            "marker": {
             "colorbar": {
              "outlinewidth": 0,
              "ticks": ""
             }
            },
            "type": "scattergl"
           }
          ],
          "scattermapbox": [
           {
            "marker": {
             "colorbar": {
              "outlinewidth": 0,
              "ticks": ""
             }
            },
            "type": "scattermapbox"
           }
          ],
          "scatterpolar": [
           {
            "marker": {
             "colorbar": {
              "outlinewidth": 0,
              "ticks": ""
             }
            },
            "type": "scatterpolar"
           }
          ],
          "scatterpolargl": [
           {
            "marker": {
             "colorbar": {
              "outlinewidth": 0,
              "ticks": ""
             }
            },
            "type": "scatterpolargl"
           }
          ],
          "scatterternary": [
           {
            "marker": {
             "colorbar": {
              "outlinewidth": 0,
              "ticks": ""
             }
            },
            "type": "scatterternary"
           }
          ],
          "surface": [
           {
            "colorbar": {
             "outlinewidth": 0,
             "ticks": ""
            },
            "colorscale": [
             [
              0,
              "#0d0887"
             ],
             [
              0.1111111111111111,
              "#46039f"
             ],
             [
              0.2222222222222222,
              "#7201a8"
             ],
             [
              0.3333333333333333,
              "#9c179e"
             ],
             [
              0.4444444444444444,
              "#bd3786"
             ],
             [
              0.5555555555555556,
              "#d8576b"
             ],
             [
              0.6666666666666666,
              "#ed7953"
             ],
             [
              0.7777777777777778,
              "#fb9f3a"
             ],
             [
              0.8888888888888888,
              "#fdca26"
             ],
             [
              1,
              "#f0f921"
             ]
            ],
            "type": "surface"
           }
          ],
          "table": [
           {
            "cells": {
             "fill": {
              "color": "#EBF0F8"
             },
             "line": {
              "color": "white"
             }
            },
            "header": {
             "fill": {
              "color": "#C8D4E3"
             },
             "line": {
              "color": "white"
             }
            },
            "type": "table"
           }
          ]
         },
         "layout": {
          "annotationdefaults": {
           "arrowcolor": "#2a3f5f",
           "arrowhead": 0,
           "arrowwidth": 1
          },
          "autotypenumbers": "strict",
          "coloraxis": {
           "colorbar": {
            "outlinewidth": 0,
            "ticks": ""
           }
          },
          "colorscale": {
           "diverging": [
            [
             0,
             "#8e0152"
            ],
            [
             0.1,
             "#c51b7d"
            ],
            [
             0.2,
             "#de77ae"
            ],
            [
             0.3,
             "#f1b6da"
            ],
            [
             0.4,
             "#fde0ef"
            ],
            [
             0.5,
             "#f7f7f7"
            ],
            [
             0.6,
             "#e6f5d0"
            ],
            [
             0.7,
             "#b8e186"
            ],
            [
             0.8,
             "#7fbc41"
            ],
            [
             0.9,
             "#4d9221"
            ],
            [
             1,
             "#276419"
            ]
           ],
           "sequential": [
            [
             0,
             "#0d0887"
            ],
            [
             0.1111111111111111,
             "#46039f"
            ],
            [
             0.2222222222222222,
             "#7201a8"
            ],
            [
             0.3333333333333333,
             "#9c179e"
            ],
            [
             0.4444444444444444,
             "#bd3786"
            ],
            [
             0.5555555555555556,
             "#d8576b"
            ],
            [
             0.6666666666666666,
             "#ed7953"
            ],
            [
             0.7777777777777778,
             "#fb9f3a"
            ],
            [
             0.8888888888888888,
             "#fdca26"
            ],
            [
             1,
             "#f0f921"
            ]
           ],
           "sequentialminus": [
            [
             0,
             "#0d0887"
            ],
            [
             0.1111111111111111,
             "#46039f"
            ],
            [
             0.2222222222222222,
             "#7201a8"
            ],
            [
             0.3333333333333333,
             "#9c179e"
            ],
            [
             0.4444444444444444,
             "#bd3786"
            ],
            [
             0.5555555555555556,
             "#d8576b"
            ],
            [
             0.6666666666666666,
             "#ed7953"
            ],
            [
             0.7777777777777778,
             "#fb9f3a"
            ],
            [
             0.8888888888888888,
             "#fdca26"
            ],
            [
             1,
             "#f0f921"
            ]
           ]
          },
          "colorway": [
           "#636efa",
           "#EF553B",
           "#00cc96",
           "#ab63fa",
           "#FFA15A",
           "#19d3f3",
           "#FF6692",
           "#B6E880",
           "#FF97FF",
           "#FECB52"
          ],
          "font": {
           "color": "#2a3f5f"
          },
          "geo": {
           "bgcolor": "white",
           "lakecolor": "white",
           "landcolor": "#E5ECF6",
           "showlakes": true,
           "showland": true,
           "subunitcolor": "white"
          },
          "hoverlabel": {
           "align": "left"
          },
          "hovermode": "closest",
          "mapbox": {
           "style": "light"
          },
          "paper_bgcolor": "white",
          "plot_bgcolor": "#E5ECF6",
          "polar": {
           "angularaxis": {
            "gridcolor": "white",
            "linecolor": "white",
            "ticks": ""
           },
           "bgcolor": "#E5ECF6",
           "radialaxis": {
            "gridcolor": "white",
            "linecolor": "white",
            "ticks": ""
           }
          },
          "scene": {
           "xaxis": {
            "backgroundcolor": "#E5ECF6",
            "gridcolor": "white",
            "gridwidth": 2,
            "linecolor": "white",
            "showbackground": true,
            "ticks": "",
            "zerolinecolor": "white"
           },
           "yaxis": {
            "backgroundcolor": "#E5ECF6",
            "gridcolor": "white",
            "gridwidth": 2,
            "linecolor": "white",
            "showbackground": true,
            "ticks": "",
            "zerolinecolor": "white"
           },
           "zaxis": {
            "backgroundcolor": "#E5ECF6",
            "gridcolor": "white",
            "gridwidth": 2,
            "linecolor": "white",
            "showbackground": true,
            "ticks": "",
            "zerolinecolor": "white"
           }
          },
          "shapedefaults": {
           "line": {
            "color": "#2a3f5f"
           }
          },
          "ternary": {
           "aaxis": {
            "gridcolor": "white",
            "linecolor": "white",
            "ticks": ""
           },
           "baxis": {
            "gridcolor": "white",
            "linecolor": "white",
            "ticks": ""
           },
           "bgcolor": "#E5ECF6",
           "caxis": {
            "gridcolor": "white",
            "linecolor": "white",
            "ticks": ""
           }
          },
          "title": {
           "x": 0.05
          },
          "xaxis": {
           "automargin": true,
           "gridcolor": "white",
           "linecolor": "white",
           "ticks": "",
           "title": {
            "standoff": 15
           },
           "zerolinecolor": "white",
           "zerolinewidth": 2
          },
          "yaxis": {
           "automargin": true,
           "gridcolor": "white",
           "linecolor": "white",
           "ticks": "",
           "title": {
            "standoff": 15
           },
           "zerolinecolor": "white",
           "zerolinewidth": 2
          }
         }
        },
        "title": {
         "font": {
          "color": "#4D5663"
         }
        },
        "xaxis": {
         "gridcolor": "#E1E5ED",
         "showgrid": true,
         "tickfont": {
          "color": "#4D5663"
         },
         "title": {
          "font": {
           "color": "#4D5663"
          },
          "text": ""
         },
         "zerolinecolor": "#E1E5ED"
        },
        "yaxis": {
         "gridcolor": "#E1E5ED",
         "showgrid": true,
         "tickfont": {
          "color": "#4D5663"
         },
         "title": {
          "font": {
           "color": "#4D5663"
          },
          "text": ""
         },
         "zerolinecolor": "#E1E5ED"
        }
       }
      },
      "text/html": [
       "<div>                            <div id=\"aca9db6e-abce-4f3b-9a06-628e1ebb69db\" class=\"plotly-graph-div\" style=\"height:525px; width:100%;\"></div>            <script type=\"text/javascript\">                require([\"plotly\"], function(Plotly) {                    window.PLOTLYENV=window.PLOTLYENV || {};\n",
       "                    window.PLOTLYENV.BASE_URL='https://plot.ly';                                    if (document.getElementById(\"aca9db6e-abce-4f3b-9a06-628e1ebb69db\")) {                    Plotly.newPlot(                        \"aca9db6e-abce-4f3b-9a06-628e1ebb69db\",                        [{\"histfunc\": \"count\", \"histnorm\": \"\", \"marker\": {\"color\": \"rgba(255, 153, 51, 1.0)\", \"line\": {\"color\": \"#4D5663\", \"width\": 1.3}}, \"name\": \"A\", \"nbinsx\": 25, \"opacity\": 0.8, \"orientation\": \"v\", \"type\": \"histogram\", \"x\": [0.02418255092478402, 1.4124332686573349, -0.13525596911342286, 0.001604930911478157, -0.9105956985942159, -1.4680016670962617, 1.430476253728598, 0.0025982330885907902, 0.43513341996103283, 0.2580753610917117, 0.13993826661469347, 1.7234572535358355, 2.3204602879846727, 1.2737204472952532, -0.08375671610624877, 0.8367304082537872, 0.8856500383374242, 1.6203057277463047, 0.974100562542249, 2.1785110991502465, 0.33322982293518144, 1.0012374120729912, -0.22288148927199683, -0.24484110703315345, 0.7631769279082232, -0.5116905222642862, 1.2500553392229015, 1.6734788123657236, 0.027518947240214735, -0.7983358088554204, -0.49171758291318074, -0.27106967454582714, 0.766183734686007, -1.3675070970846126, 0.5939572485654466, 0.8557880245841908, -0.8364234928119776, -0.6767362402087117, 0.01396582009759249, 0.915141586077435, -0.15623247886002578, -1.9335014479961519, 1.4671043099545935, -0.6301124273367666, 0.05860580022499844, -0.9133003541027503, 0.43691841613140603, 0.9963060371899947, 0.6147413907410918, -1.365124781881899, -0.6027455916713371, 3.0736744047017215, -1.6952632501918714, -0.22608522663974726, 0.8700112458827138, -0.15621201928283715, -0.8247541113628685, -0.8655608065906176, -1.6120885416801292, 0.0031504965402953077, -0.6448343775410306, 1.0644949797114138, 0.42552743644512264, 0.6456236961322278, 1.3638438624592204, 0.09950609702610812, -0.7693502207479467, 2.715560197484808, 0.2247948496982734, 0.28111821963032396, -0.18519220005543738, -0.5234473437246925, 1.012101190998599, 0.9884856272802723, -0.226675147824472, -0.9638329549131603, 0.7088628883810655, -0.3263404292955781, -0.5125669490635824, 0.9517259677399895, -0.6628998233274814, 0.2187279737119685, 1.1202185657938788, -0.14016672992536683, 0.44082966349417685, -1.3245534875698688, -1.5823330739577055, 0.8244531610855222, -1.9593031192504786, -1.1089292687189625, -1.1182447102003847, -0.45480982570416295, -0.296793564653928, 1.5878046221167919, 1.374332917992649, -0.24786230987615668, 1.5673667662161475, -0.4394080578558695, -1.1824195861775926, 0.03740498870195939]}],                        {\"barmode\": \"overlay\", \"legend\": {\"bgcolor\": \"#F5F6F9\", \"font\": {\"color\": \"#4D5663\"}}, \"paper_bgcolor\": \"#F5F6F9\", \"plot_bgcolor\": \"#F5F6F9\", \"template\": {\"data\": {\"bar\": [{\"error_x\": {\"color\": \"#2a3f5f\"}, \"error_y\": {\"color\": \"#2a3f5f\"}, \"marker\": {\"line\": {\"color\": \"#E5ECF6\", \"width\": 0.5}}, \"type\": \"bar\"}], \"barpolar\": [{\"marker\": {\"line\": {\"color\": \"#E5ECF6\", \"width\": 0.5}}, \"type\": \"barpolar\"}], \"carpet\": [{\"aaxis\": {\"endlinecolor\": \"#2a3f5f\", \"gridcolor\": \"white\", \"linecolor\": \"white\", \"minorgridcolor\": \"white\", \"startlinecolor\": \"#2a3f5f\"}, \"baxis\": {\"endlinecolor\": \"#2a3f5f\", \"gridcolor\": \"white\", \"linecolor\": \"white\", \"minorgridcolor\": \"white\", \"startlinecolor\": \"#2a3f5f\"}, \"type\": \"carpet\"}], \"choropleth\": [{\"colorbar\": {\"outlinewidth\": 0, \"ticks\": \"\"}, \"type\": \"choropleth\"}], \"contour\": [{\"colorbar\": {\"outlinewidth\": 0, \"ticks\": \"\"}, \"colorscale\": [[0.0, \"#0d0887\"], [0.1111111111111111, \"#46039f\"], [0.2222222222222222, \"#7201a8\"], [0.3333333333333333, \"#9c179e\"], [0.4444444444444444, \"#bd3786\"], [0.5555555555555556, \"#d8576b\"], [0.6666666666666666, \"#ed7953\"], [0.7777777777777778, \"#fb9f3a\"], [0.8888888888888888, \"#fdca26\"], [1.0, \"#f0f921\"]], \"type\": \"contour\"}], \"contourcarpet\": [{\"colorbar\": {\"outlinewidth\": 0, \"ticks\": \"\"}, \"type\": \"contourcarpet\"}], \"heatmap\": [{\"colorbar\": {\"outlinewidth\": 0, \"ticks\": \"\"}, \"colorscale\": [[0.0, \"#0d0887\"], [0.1111111111111111, \"#46039f\"], [0.2222222222222222, \"#7201a8\"], [0.3333333333333333, \"#9c179e\"], [0.4444444444444444, \"#bd3786\"], [0.5555555555555556, \"#d8576b\"], [0.6666666666666666, \"#ed7953\"], [0.7777777777777778, \"#fb9f3a\"], [0.8888888888888888, \"#fdca26\"], [1.0, \"#f0f921\"]], \"type\": \"heatmap\"}], \"heatmapgl\": [{\"colorbar\": {\"outlinewidth\": 0, \"ticks\": \"\"}, \"colorscale\": [[0.0, \"#0d0887\"], [0.1111111111111111, \"#46039f\"], [0.2222222222222222, \"#7201a8\"], [0.3333333333333333, \"#9c179e\"], [0.4444444444444444, \"#bd3786\"], [0.5555555555555556, \"#d8576b\"], [0.6666666666666666, \"#ed7953\"], [0.7777777777777778, \"#fb9f3a\"], [0.8888888888888888, \"#fdca26\"], [1.0, \"#f0f921\"]], \"type\": \"heatmapgl\"}], \"histogram\": [{\"marker\": {\"colorbar\": {\"outlinewidth\": 0, \"ticks\": \"\"}}, \"type\": \"histogram\"}], \"histogram2d\": [{\"colorbar\": {\"outlinewidth\": 0, \"ticks\": \"\"}, \"colorscale\": [[0.0, \"#0d0887\"], [0.1111111111111111, \"#46039f\"], [0.2222222222222222, \"#7201a8\"], [0.3333333333333333, \"#9c179e\"], [0.4444444444444444, \"#bd3786\"], [0.5555555555555556, \"#d8576b\"], [0.6666666666666666, \"#ed7953\"], [0.7777777777777778, \"#fb9f3a\"], [0.8888888888888888, \"#fdca26\"], [1.0, \"#f0f921\"]], \"type\": \"histogram2d\"}], \"histogram2dcontour\": [{\"colorbar\": {\"outlinewidth\": 0, \"ticks\": \"\"}, \"colorscale\": [[0.0, \"#0d0887\"], [0.1111111111111111, \"#46039f\"], [0.2222222222222222, \"#7201a8\"], [0.3333333333333333, \"#9c179e\"], [0.4444444444444444, \"#bd3786\"], [0.5555555555555556, \"#d8576b\"], [0.6666666666666666, \"#ed7953\"], [0.7777777777777778, \"#fb9f3a\"], [0.8888888888888888, \"#fdca26\"], [1.0, \"#f0f921\"]], \"type\": \"histogram2dcontour\"}], \"mesh3d\": [{\"colorbar\": {\"outlinewidth\": 0, \"ticks\": \"\"}, \"type\": \"mesh3d\"}], \"parcoords\": [{\"line\": {\"colorbar\": {\"outlinewidth\": 0, \"ticks\": \"\"}}, \"type\": \"parcoords\"}], \"pie\": [{\"automargin\": true, \"type\": \"pie\"}], \"scatter\": [{\"marker\": {\"colorbar\": {\"outlinewidth\": 0, \"ticks\": \"\"}}, \"type\": \"scatter\"}], \"scatter3d\": [{\"line\": {\"colorbar\": {\"outlinewidth\": 0, \"ticks\": \"\"}}, \"marker\": {\"colorbar\": {\"outlinewidth\": 0, \"ticks\": \"\"}}, \"type\": \"scatter3d\"}], \"scattercarpet\": [{\"marker\": {\"colorbar\": {\"outlinewidth\": 0, \"ticks\": \"\"}}, \"type\": \"scattercarpet\"}], \"scattergeo\": [{\"marker\": {\"colorbar\": {\"outlinewidth\": 0, \"ticks\": \"\"}}, \"type\": \"scattergeo\"}], \"scattergl\": [{\"marker\": {\"colorbar\": {\"outlinewidth\": 0, \"ticks\": \"\"}}, \"type\": \"scattergl\"}], \"scattermapbox\": [{\"marker\": {\"colorbar\": {\"outlinewidth\": 0, \"ticks\": \"\"}}, \"type\": \"scattermapbox\"}], \"scatterpolar\": [{\"marker\": {\"colorbar\": {\"outlinewidth\": 0, \"ticks\": \"\"}}, \"type\": \"scatterpolar\"}], \"scatterpolargl\": [{\"marker\": {\"colorbar\": {\"outlinewidth\": 0, \"ticks\": \"\"}}, \"type\": \"scatterpolargl\"}], \"scatterternary\": [{\"marker\": {\"colorbar\": {\"outlinewidth\": 0, \"ticks\": \"\"}}, \"type\": \"scatterternary\"}], \"surface\": [{\"colorbar\": {\"outlinewidth\": 0, \"ticks\": \"\"}, \"colorscale\": [[0.0, \"#0d0887\"], [0.1111111111111111, \"#46039f\"], [0.2222222222222222, \"#7201a8\"], [0.3333333333333333, \"#9c179e\"], [0.4444444444444444, \"#bd3786\"], [0.5555555555555556, \"#d8576b\"], [0.6666666666666666, \"#ed7953\"], [0.7777777777777778, \"#fb9f3a\"], [0.8888888888888888, \"#fdca26\"], [1.0, \"#f0f921\"]], \"type\": \"surface\"}], \"table\": [{\"cells\": {\"fill\": {\"color\": \"#EBF0F8\"}, \"line\": {\"color\": \"white\"}}, \"header\": {\"fill\": {\"color\": \"#C8D4E3\"}, \"line\": {\"color\": \"white\"}}, \"type\": \"table\"}]}, \"layout\": {\"annotationdefaults\": {\"arrowcolor\": \"#2a3f5f\", \"arrowhead\": 0, \"arrowwidth\": 1}, \"autotypenumbers\": \"strict\", \"coloraxis\": {\"colorbar\": {\"outlinewidth\": 0, \"ticks\": \"\"}}, \"colorscale\": {\"diverging\": [[0, \"#8e0152\"], [0.1, \"#c51b7d\"], [0.2, \"#de77ae\"], [0.3, \"#f1b6da\"], [0.4, \"#fde0ef\"], [0.5, \"#f7f7f7\"], [0.6, \"#e6f5d0\"], [0.7, \"#b8e186\"], [0.8, \"#7fbc41\"], [0.9, \"#4d9221\"], [1, \"#276419\"]], \"sequential\": [[0.0, \"#0d0887\"], [0.1111111111111111, \"#46039f\"], [0.2222222222222222, \"#7201a8\"], [0.3333333333333333, \"#9c179e\"], [0.4444444444444444, \"#bd3786\"], [0.5555555555555556, \"#d8576b\"], [0.6666666666666666, \"#ed7953\"], [0.7777777777777778, \"#fb9f3a\"], [0.8888888888888888, \"#fdca26\"], [1.0, \"#f0f921\"]], \"sequentialminus\": [[0.0, \"#0d0887\"], [0.1111111111111111, \"#46039f\"], [0.2222222222222222, \"#7201a8\"], [0.3333333333333333, \"#9c179e\"], [0.4444444444444444, \"#bd3786\"], [0.5555555555555556, \"#d8576b\"], [0.6666666666666666, \"#ed7953\"], [0.7777777777777778, \"#fb9f3a\"], [0.8888888888888888, \"#fdca26\"], [1.0, \"#f0f921\"]]}, \"colorway\": [\"#636efa\", \"#EF553B\", \"#00cc96\", \"#ab63fa\", \"#FFA15A\", \"#19d3f3\", \"#FF6692\", \"#B6E880\", \"#FF97FF\", \"#FECB52\"], \"font\": {\"color\": \"#2a3f5f\"}, \"geo\": {\"bgcolor\": \"white\", \"lakecolor\": \"white\", \"landcolor\": \"#E5ECF6\", \"showlakes\": true, \"showland\": true, \"subunitcolor\": \"white\"}, \"hoverlabel\": {\"align\": \"left\"}, \"hovermode\": \"closest\", \"mapbox\": {\"style\": \"light\"}, \"paper_bgcolor\": \"white\", \"plot_bgcolor\": \"#E5ECF6\", \"polar\": {\"angularaxis\": {\"gridcolor\": \"white\", \"linecolor\": \"white\", \"ticks\": \"\"}, \"bgcolor\": \"#E5ECF6\", \"radialaxis\": {\"gridcolor\": \"white\", \"linecolor\": \"white\", \"ticks\": \"\"}}, \"scene\": {\"xaxis\": {\"backgroundcolor\": \"#E5ECF6\", \"gridcolor\": \"white\", \"gridwidth\": 2, \"linecolor\": \"white\", \"showbackground\": true, \"ticks\": \"\", \"zerolinecolor\": \"white\"}, \"yaxis\": {\"backgroundcolor\": \"#E5ECF6\", \"gridcolor\": \"white\", \"gridwidth\": 2, \"linecolor\": \"white\", \"showbackground\": true, \"ticks\": \"\", \"zerolinecolor\": \"white\"}, \"zaxis\": {\"backgroundcolor\": \"#E5ECF6\", \"gridcolor\": \"white\", \"gridwidth\": 2, \"linecolor\": \"white\", \"showbackground\": true, \"ticks\": \"\", \"zerolinecolor\": \"white\"}}, \"shapedefaults\": {\"line\": {\"color\": \"#2a3f5f\"}}, \"ternary\": {\"aaxis\": {\"gridcolor\": \"white\", \"linecolor\": \"white\", \"ticks\": \"\"}, \"baxis\": {\"gridcolor\": \"white\", \"linecolor\": \"white\", \"ticks\": \"\"}, \"bgcolor\": \"#E5ECF6\", \"caxis\": {\"gridcolor\": \"white\", \"linecolor\": \"white\", \"ticks\": \"\"}}, \"title\": {\"x\": 0.05}, \"xaxis\": {\"automargin\": true, \"gridcolor\": \"white\", \"linecolor\": \"white\", \"ticks\": \"\", \"title\": {\"standoff\": 15}, \"zerolinecolor\": \"white\", \"zerolinewidth\": 2}, \"yaxis\": {\"automargin\": true, \"gridcolor\": \"white\", \"linecolor\": \"white\", \"ticks\": \"\", \"title\": {\"standoff\": 15}, \"zerolinecolor\": \"white\", \"zerolinewidth\": 2}}}, \"title\": {\"font\": {\"color\": \"#4D5663\"}}, \"xaxis\": {\"gridcolor\": \"#E1E5ED\", \"showgrid\": true, \"tickfont\": {\"color\": \"#4D5663\"}, \"title\": {\"font\": {\"color\": \"#4D5663\"}, \"text\": \"\"}, \"zerolinecolor\": \"#E1E5ED\"}, \"yaxis\": {\"gridcolor\": \"#E1E5ED\", \"showgrid\": true, \"tickfont\": {\"color\": \"#4D5663\"}, \"title\": {\"font\": {\"color\": \"#4D5663\"}, \"text\": \"\"}, \"zerolinecolor\": \"#E1E5ED\"}},                        {\"showLink\": true, \"linkText\": \"Export to plot.ly\", \"plotlyServerURL\": \"https://plot.ly\", \"responsive\": true}                    ).then(function(){\n",
       "                            \n",
       "var gd = document.getElementById('aca9db6e-abce-4f3b-9a06-628e1ebb69db');\n",
       "var x = new MutationObserver(function (mutations, observer) {{\n",
       "        var display = window.getComputedStyle(gd).display;\n",
       "        if (!display || display === 'none') {{\n",
       "            console.log([gd, 'removed!']);\n",
       "            Plotly.purge(gd);\n",
       "            observer.disconnect();\n",
       "        }}\n",
       "}});\n",
       "\n",
       "// Listen for the removal of the full notebook cells\n",
       "var notebookContainer = gd.closest('#notebook-container');\n",
       "if (notebookContainer) {{\n",
       "    x.observe(notebookContainer, {childList: true});\n",
       "}}\n",
       "\n",
       "// Listen for the clearing of the current output cell\n",
       "var outputEl = gd.closest('.output');\n",
       "if (outputEl) {{\n",
       "    x.observe(outputEl, {childList: true});\n",
       "}}\n",
       "\n",
       "                        })                };                });            </script>        </div>"
      ]
     },
     "metadata": {},
     "output_type": "display_data"
    }
   ],
   "source": [
    "df['A'].iplot(kind='hist',bins=25)"
   ]
  },
  {
   "cell_type": "code",
   "execution_count": 16,
   "metadata": {},
   "outputs": [
    {
     "data": {
      "application/vnd.plotly.v1+json": {
       "config": {
        "linkText": "Export to plot.ly",
        "plotlyServerURL": "https://plot.ly",
        "showLink": true
       },
       "data": [
        {
         "marker": {
          "color": [
           "rgb(255, 153, 51)",
           "rgb(55, 128, 191)",
           "rgb(50, 171, 96)",
           "rgb(128, 0, 128)",
           "rgb(219, 64, 82)",
           "rgb(0, 128, 128)",
           "rgb(255, 255, 51)",
           "rgb(128, 128, 0)",
           "rgb(251, 128, 114)",
           "rgb(128, 177, 211)"
          ],
          "line": {
           "width": 1.3
          },
          "size": [
           33,
           86,
           63,
           105,
           106,
           29,
           85,
           88,
           64,
           81,
           85,
           83,
           72,
           66,
           70,
           12,
           93,
           104,
           42,
           52,
           30,
           70,
           78,
           33,
           60,
           59,
           74,
           30,
           94,
           80,
           71,
           79,
           72,
           40,
           65,
           29,
           43,
           65,
           69,
           49,
           48,
           50,
           46,
           108,
           80,
           67,
           38,
           76,
           65,
           97,
           41,
           72,
           112,
           51,
           61,
           62,
           81,
           71,
           78,
           59,
           99,
           23,
           49,
           93,
           89,
           24,
           33,
           53,
           40,
           73,
           43,
           89,
           75,
           109,
           67,
           90,
           69,
           104,
           51,
           61,
           65,
           66,
           52,
           55,
           43,
           29,
           83,
           87,
           101,
           103,
           96,
           65,
           78,
           92,
           105,
           63,
           68,
           82,
           31,
           80
          ],
          "symbol": "circle"
         },
         "mode": "markers",
         "text": "",
         "type": "scatter",
         "x": [
          0.02418255092478402,
          1.4124332686573349,
          -0.13525596911342286,
          0.001604930911478157,
          -0.9105956985942159,
          -1.4680016670962617,
          1.430476253728598,
          0.0025982330885907902,
          0.43513341996103283,
          0.2580753610917117,
          0.13993826661469347,
          1.7234572535358355,
          2.3204602879846727,
          1.2737204472952532,
          -0.08375671610624877,
          0.8367304082537872,
          0.8856500383374242,
          1.6203057277463047,
          0.974100562542249,
          2.1785110991502465,
          0.33322982293518144,
          1.0012374120729912,
          -0.22288148927199683,
          -0.24484110703315345,
          0.7631769279082232,
          -0.5116905222642862,
          1.2500553392229015,
          1.6734788123657236,
          0.027518947240214735,
          -0.7983358088554204,
          -0.49171758291318074,
          -0.27106967454582714,
          0.766183734686007,
          -1.3675070970846126,
          0.5939572485654466,
          0.8557880245841908,
          -0.8364234928119776,
          -0.6767362402087117,
          0.01396582009759249,
          0.915141586077435,
          -0.15623247886002578,
          -1.9335014479961519,
          1.4671043099545935,
          -0.6301124273367666,
          0.05860580022499844,
          -0.9133003541027503,
          0.43691841613140603,
          0.9963060371899947,
          0.6147413907410918,
          -1.365124781881899,
          -0.6027455916713371,
          3.0736744047017215,
          -1.6952632501918714,
          -0.22608522663974726,
          0.8700112458827138,
          -0.15621201928283715,
          -0.8247541113628685,
          -0.8655608065906176,
          -1.6120885416801292,
          0.0031504965402953077,
          -0.6448343775410306,
          1.0644949797114138,
          0.42552743644512264,
          0.6456236961322278,
          1.3638438624592204,
          0.09950609702610812,
          -0.7693502207479467,
          2.715560197484808,
          0.2247948496982734,
          0.28111821963032396,
          -0.18519220005543738,
          -0.5234473437246925,
          1.012101190998599,
          0.9884856272802723,
          -0.226675147824472,
          -0.9638329549131603,
          0.7088628883810655,
          -0.3263404292955781,
          -0.5125669490635824,
          0.9517259677399895,
          -0.6628998233274814,
          0.2187279737119685,
          1.1202185657938788,
          -0.14016672992536683,
          0.44082966349417685,
          -1.3245534875698688,
          -1.5823330739577055,
          0.8244531610855222,
          -1.9593031192504786,
          -1.1089292687189625,
          -1.1182447102003847,
          -0.45480982570416295,
          -0.296793564653928,
          1.5878046221167919,
          1.374332917992649,
          -0.24786230987615668,
          1.5673667662161475,
          -0.4394080578558695,
          -1.1824195861775926,
          0.03740498870195939
         ],
         "y": [
          -0.6102335170839107,
          -0.9710369318417905,
          -0.9480739393075344,
          -1.676003017413596,
          -0.3820316846994015,
          1.248187457289369,
          -0.20313237117196004,
          -0.6847999038072383,
          -0.577822331333397,
          -0.47343898185552974,
          0.7735077432040708,
          -0.3890225647449885,
          -1.5839717695777258,
          -0.18396609141418538,
          0.8441685381337801,
          -0.32121071927259437,
          -0.8333458332959722,
          0.1526080081394603,
          0.04427005875258501,
          -0.9995460511137874,
          0.5185781317951451,
          -0.37525441900014744,
          -0.35391711563001743,
          0.2958100896713398,
          -1.554631964524844,
          0.9734982928696615,
          1.156456680176443,
          -3.446972365749674,
          -1.4369233480613757,
          -0.5131972065999714,
          -0.1533060974862162,
          -0.6420671230755272,
          1.9121528650164141,
          -1.732189561513945,
          -0.568829933223316,
          -0.8289198969436872,
          0.9857338423029945,
          -0.16875002254092844,
          0.520305449559314,
          0.9692951697945432,
          -0.4700153973051017,
          -0.7469452557471943,
          0.5728679263672458,
          -0.5254254939727879,
          0.6067041255921578,
          -1.1210992465699108,
          1.0748757803146947,
          -0.2693578519128005,
          0.22803034037492176,
          0.7145190858033147,
          -0.33344888387870936,
          0.2729215287196743,
          -0.5122632100357751,
          1.5184432981845304,
          0.5654976615899828,
          -1.3108541817564887,
          0.016015469456314695,
          -0.2941555859719508,
          2.2484149968966243,
          0.7828625366306573,
          -0.49030219522657026,
          -0.3251183307967059,
          1.2259381852354712,
          -2.2739120418948136,
          -0.6037445544162928,
          -0.797339076093402,
          -0.6567538098764124,
          0.7713495050284005,
          -0.5750952796382053,
          0.6010576969761167,
          1.7550659323733178,
          0.1708433308252719,
          -0.1865103778259708,
          -0.5273597245855,
          -1.1325712454478007,
          -2.8818658262186503,
          -1.017236508220063,
          -0.23623498214018093,
          -1.2645406948234912,
          -0.27414361693433636,
          0.8007626898677763,
          0.06024487297764325,
          -1.2032849841909061,
          0.8179600966226154,
          0.1159294722628362,
          0.5953100901779639,
          -1.509306521205705,
          -0.6071347048695965,
          -1.2745460556949773,
          2.413037451329037,
          -1.4111308006706955,
          0.12932195011759348,
          -0.27333782615868074,
          0.310401427435977,
          2.110947087034131,
          3.352388449587422,
          0.7219835346354952,
          0.0027189718510191667,
          0.4745274324425321,
          -0.4418863011588058
         ]
        }
       ],
       "layout": {
        "legend": {
         "bgcolor": "#F5F6F9",
         "font": {
          "color": "#4D5663"
         }
        },
        "paper_bgcolor": "#F5F6F9",
        "plot_bgcolor": "#F5F6F9",
        "template": {
         "data": {
          "bar": [
           {
            "error_x": {
             "color": "#2a3f5f"
            },
            "error_y": {
             "color": "#2a3f5f"
            },
            "marker": {
             "line": {
              "color": "#E5ECF6",
              "width": 0.5
             }
            },
            "type": "bar"
           }
          ],
          "barpolar": [
           {
            "marker": {
             "line": {
              "color": "#E5ECF6",
              "width": 0.5
             }
            },
            "type": "barpolar"
           }
          ],
          "carpet": [
           {
            "aaxis": {
             "endlinecolor": "#2a3f5f",
             "gridcolor": "white",
             "linecolor": "white",
             "minorgridcolor": "white",
             "startlinecolor": "#2a3f5f"
            },
            "baxis": {
             "endlinecolor": "#2a3f5f",
             "gridcolor": "white",
             "linecolor": "white",
             "minorgridcolor": "white",
             "startlinecolor": "#2a3f5f"
            },
            "type": "carpet"
           }
          ],
          "choropleth": [
           {
            "colorbar": {
             "outlinewidth": 0,
             "ticks": ""
            },
            "type": "choropleth"
           }
          ],
          "contour": [
           {
            "colorbar": {
             "outlinewidth": 0,
             "ticks": ""
            },
            "colorscale": [
             [
              0,
              "#0d0887"
             ],
             [
              0.1111111111111111,
              "#46039f"
             ],
             [
              0.2222222222222222,
              "#7201a8"
             ],
             [
              0.3333333333333333,
              "#9c179e"
             ],
             [
              0.4444444444444444,
              "#bd3786"
             ],
             [
              0.5555555555555556,
              "#d8576b"
             ],
             [
              0.6666666666666666,
              "#ed7953"
             ],
             [
              0.7777777777777778,
              "#fb9f3a"
             ],
             [
              0.8888888888888888,
              "#fdca26"
             ],
             [
              1,
              "#f0f921"
             ]
            ],
            "type": "contour"
           }
          ],
          "contourcarpet": [
           {
            "colorbar": {
             "outlinewidth": 0,
             "ticks": ""
            },
            "type": "contourcarpet"
           }
          ],
          "heatmap": [
           {
            "colorbar": {
             "outlinewidth": 0,
             "ticks": ""
            },
            "colorscale": [
             [
              0,
              "#0d0887"
             ],
             [
              0.1111111111111111,
              "#46039f"
             ],
             [
              0.2222222222222222,
              "#7201a8"
             ],
             [
              0.3333333333333333,
              "#9c179e"
             ],
             [
              0.4444444444444444,
              "#bd3786"
             ],
             [
              0.5555555555555556,
              "#d8576b"
             ],
             [
              0.6666666666666666,
              "#ed7953"
             ],
             [
              0.7777777777777778,
              "#fb9f3a"
             ],
             [
              0.8888888888888888,
              "#fdca26"
             ],
             [
              1,
              "#f0f921"
             ]
            ],
            "type": "heatmap"
           }
          ],
          "heatmapgl": [
           {
            "colorbar": {
             "outlinewidth": 0,
             "ticks": ""
            },
            "colorscale": [
             [
              0,
              "#0d0887"
             ],
             [
              0.1111111111111111,
              "#46039f"
             ],
             [
              0.2222222222222222,
              "#7201a8"
             ],
             [
              0.3333333333333333,
              "#9c179e"
             ],
             [
              0.4444444444444444,
              "#bd3786"
             ],
             [
              0.5555555555555556,
              "#d8576b"
             ],
             [
              0.6666666666666666,
              "#ed7953"
             ],
             [
              0.7777777777777778,
              "#fb9f3a"
             ],
             [
              0.8888888888888888,
              "#fdca26"
             ],
             [
              1,
              "#f0f921"
             ]
            ],
            "type": "heatmapgl"
           }
          ],
          "histogram": [
           {
            "marker": {
             "colorbar": {
              "outlinewidth": 0,
              "ticks": ""
             }
            },
            "type": "histogram"
           }
          ],
          "histogram2d": [
           {
            "colorbar": {
             "outlinewidth": 0,
             "ticks": ""
            },
            "colorscale": [
             [
              0,
              "#0d0887"
             ],
             [
              0.1111111111111111,
              "#46039f"
             ],
             [
              0.2222222222222222,
              "#7201a8"
             ],
             [
              0.3333333333333333,
              "#9c179e"
             ],
             [
              0.4444444444444444,
              "#bd3786"
             ],
             [
              0.5555555555555556,
              "#d8576b"
             ],
             [
              0.6666666666666666,
              "#ed7953"
             ],
             [
              0.7777777777777778,
              "#fb9f3a"
             ],
             [
              0.8888888888888888,
              "#fdca26"
             ],
             [
              1,
              "#f0f921"
             ]
            ],
            "type": "histogram2d"
           }
          ],
          "histogram2dcontour": [
           {
            "colorbar": {
             "outlinewidth": 0,
             "ticks": ""
            },
            "colorscale": [
             [
              0,
              "#0d0887"
             ],
             [
              0.1111111111111111,
              "#46039f"
             ],
             [
              0.2222222222222222,
              "#7201a8"
             ],
             [
              0.3333333333333333,
              "#9c179e"
             ],
             [
              0.4444444444444444,
              "#bd3786"
             ],
             [
              0.5555555555555556,
              "#d8576b"
             ],
             [
              0.6666666666666666,
              "#ed7953"
             ],
             [
              0.7777777777777778,
              "#fb9f3a"
             ],
             [
              0.8888888888888888,
              "#fdca26"
             ],
             [
              1,
              "#f0f921"
             ]
            ],
            "type": "histogram2dcontour"
           }
          ],
          "mesh3d": [
           {
            "colorbar": {
             "outlinewidth": 0,
             "ticks": ""
            },
            "type": "mesh3d"
           }
          ],
          "parcoords": [
           {
            "line": {
             "colorbar": {
              "outlinewidth": 0,
              "ticks": ""
             }
            },
            "type": "parcoords"
           }
          ],
          "pie": [
           {
            "automargin": true,
            "type": "pie"
           }
          ],
          "scatter": [
           {
            "marker": {
             "colorbar": {
              "outlinewidth": 0,
              "ticks": ""
             }
            },
            "type": "scatter"
           }
          ],
          "scatter3d": [
           {
            "line": {
             "colorbar": {
              "outlinewidth": 0,
              "ticks": ""
             }
            },
            "marker": {
             "colorbar": {
              "outlinewidth": 0,
              "ticks": ""
             }
            },
            "type": "scatter3d"
           }
          ],
          "scattercarpet": [
           {
            "marker": {
             "colorbar": {
              "outlinewidth": 0,
              "ticks": ""
             }
            },
            "type": "scattercarpet"
           }
          ],
          "scattergeo": [
           {
            "marker": {
             "colorbar": {
              "outlinewidth": 0,
              "ticks": ""
             }
            },
            "type": "scattergeo"
           }
          ],
          "scattergl": [
           {
            "marker": {
             "colorbar": {
              "outlinewidth": 0,
              "ticks": ""
             }
            },
            "type": "scattergl"
           }
          ],
          "scattermapbox": [
           {
            "marker": {
             "colorbar": {
              "outlinewidth": 0,
              "ticks": ""
             }
            },
            "type": "scattermapbox"
           }
          ],
          "scatterpolar": [
           {
            "marker": {
             "colorbar": {
              "outlinewidth": 0,
              "ticks": ""
             }
            },
            "type": "scatterpolar"
           }
          ],
          "scatterpolargl": [
           {
            "marker": {
             "colorbar": {
              "outlinewidth": 0,
              "ticks": ""
             }
            },
            "type": "scatterpolargl"
           }
          ],
          "scatterternary": [
           {
            "marker": {
             "colorbar": {
              "outlinewidth": 0,
              "ticks": ""
             }
            },
            "type": "scatterternary"
           }
          ],
          "surface": [
           {
            "colorbar": {
             "outlinewidth": 0,
             "ticks": ""
            },
            "colorscale": [
             [
              0,
              "#0d0887"
             ],
             [
              0.1111111111111111,
              "#46039f"
             ],
             [
              0.2222222222222222,
              "#7201a8"
             ],
             [
              0.3333333333333333,
              "#9c179e"
             ],
             [
              0.4444444444444444,
              "#bd3786"
             ],
             [
              0.5555555555555556,
              "#d8576b"
             ],
             [
              0.6666666666666666,
              "#ed7953"
             ],
             [
              0.7777777777777778,
              "#fb9f3a"
             ],
             [
              0.8888888888888888,
              "#fdca26"
             ],
             [
              1,
              "#f0f921"
             ]
            ],
            "type": "surface"
           }
          ],
          "table": [
           {
            "cells": {
             "fill": {
              "color": "#EBF0F8"
             },
             "line": {
              "color": "white"
             }
            },
            "header": {
             "fill": {
              "color": "#C8D4E3"
             },
             "line": {
              "color": "white"
             }
            },
            "type": "table"
           }
          ]
         },
         "layout": {
          "annotationdefaults": {
           "arrowcolor": "#2a3f5f",
           "arrowhead": 0,
           "arrowwidth": 1
          },
          "autotypenumbers": "strict",
          "coloraxis": {
           "colorbar": {
            "outlinewidth": 0,
            "ticks": ""
           }
          },
          "colorscale": {
           "diverging": [
            [
             0,
             "#8e0152"
            ],
            [
             0.1,
             "#c51b7d"
            ],
            [
             0.2,
             "#de77ae"
            ],
            [
             0.3,
             "#f1b6da"
            ],
            [
             0.4,
             "#fde0ef"
            ],
            [
             0.5,
             "#f7f7f7"
            ],
            [
             0.6,
             "#e6f5d0"
            ],
            [
             0.7,
             "#b8e186"
            ],
            [
             0.8,
             "#7fbc41"
            ],
            [
             0.9,
             "#4d9221"
            ],
            [
             1,
             "#276419"
            ]
           ],
           "sequential": [
            [
             0,
             "#0d0887"
            ],
            [
             0.1111111111111111,
             "#46039f"
            ],
            [
             0.2222222222222222,
             "#7201a8"
            ],
            [
             0.3333333333333333,
             "#9c179e"
            ],
            [
             0.4444444444444444,
             "#bd3786"
            ],
            [
             0.5555555555555556,
             "#d8576b"
            ],
            [
             0.6666666666666666,
             "#ed7953"
            ],
            [
             0.7777777777777778,
             "#fb9f3a"
            ],
            [
             0.8888888888888888,
             "#fdca26"
            ],
            [
             1,
             "#f0f921"
            ]
           ],
           "sequentialminus": [
            [
             0,
             "#0d0887"
            ],
            [
             0.1111111111111111,
             "#46039f"
            ],
            [
             0.2222222222222222,
             "#7201a8"
            ],
            [
             0.3333333333333333,
             "#9c179e"
            ],
            [
             0.4444444444444444,
             "#bd3786"
            ],
            [
             0.5555555555555556,
             "#d8576b"
            ],
            [
             0.6666666666666666,
             "#ed7953"
            ],
            [
             0.7777777777777778,
             "#fb9f3a"
            ],
            [
             0.8888888888888888,
             "#fdca26"
            ],
            [
             1,
             "#f0f921"
            ]
           ]
          },
          "colorway": [
           "#636efa",
           "#EF553B",
           "#00cc96",
           "#ab63fa",
           "#FFA15A",
           "#19d3f3",
           "#FF6692",
           "#B6E880",
           "#FF97FF",
           "#FECB52"
          ],
          "font": {
           "color": "#2a3f5f"
          },
          "geo": {
           "bgcolor": "white",
           "lakecolor": "white",
           "landcolor": "#E5ECF6",
           "showlakes": true,
           "showland": true,
           "subunitcolor": "white"
          },
          "hoverlabel": {
           "align": "left"
          },
          "hovermode": "closest",
          "mapbox": {
           "style": "light"
          },
          "paper_bgcolor": "white",
          "plot_bgcolor": "#E5ECF6",
          "polar": {
           "angularaxis": {
            "gridcolor": "white",
            "linecolor": "white",
            "ticks": ""
           },
           "bgcolor": "#E5ECF6",
           "radialaxis": {
            "gridcolor": "white",
            "linecolor": "white",
            "ticks": ""
           }
          },
          "scene": {
           "xaxis": {
            "backgroundcolor": "#E5ECF6",
            "gridcolor": "white",
            "gridwidth": 2,
            "linecolor": "white",
            "showbackground": true,
            "ticks": "",
            "zerolinecolor": "white"
           },
           "yaxis": {
            "backgroundcolor": "#E5ECF6",
            "gridcolor": "white",
            "gridwidth": 2,
            "linecolor": "white",
            "showbackground": true,
            "ticks": "",
            "zerolinecolor": "white"
           },
           "zaxis": {
            "backgroundcolor": "#E5ECF6",
            "gridcolor": "white",
            "gridwidth": 2,
            "linecolor": "white",
            "showbackground": true,
            "ticks": "",
            "zerolinecolor": "white"
           }
          },
          "shapedefaults": {
           "line": {
            "color": "#2a3f5f"
           }
          },
          "ternary": {
           "aaxis": {
            "gridcolor": "white",
            "linecolor": "white",
            "ticks": ""
           },
           "baxis": {
            "gridcolor": "white",
            "linecolor": "white",
            "ticks": ""
           },
           "bgcolor": "#E5ECF6",
           "caxis": {
            "gridcolor": "white",
            "linecolor": "white",
            "ticks": ""
           }
          },
          "title": {
           "x": 0.05
          },
          "xaxis": {
           "automargin": true,
           "gridcolor": "white",
           "linecolor": "white",
           "ticks": "",
           "title": {
            "standoff": 15
           },
           "zerolinecolor": "white",
           "zerolinewidth": 2
          },
          "yaxis": {
           "automargin": true,
           "gridcolor": "white",
           "linecolor": "white",
           "ticks": "",
           "title": {
            "standoff": 15
           },
           "zerolinecolor": "white",
           "zerolinewidth": 2
          }
         }
        },
        "title": {
         "font": {
          "color": "#4D5663"
         }
        },
        "xaxis": {
         "gridcolor": "#E1E5ED",
         "showgrid": true,
         "tickfont": {
          "color": "#4D5663"
         },
         "title": {
          "font": {
           "color": "#4D5663"
          },
          "text": ""
         },
         "zerolinecolor": "#E1E5ED"
        },
        "yaxis": {
         "gridcolor": "#E1E5ED",
         "showgrid": true,
         "tickfont": {
          "color": "#4D5663"
         },
         "title": {
          "font": {
           "color": "#4D5663"
          },
          "text": ""
         },
         "zerolinecolor": "#E1E5ED"
        }
       }
      },
      "text/html": [
       "<div>                            <div id=\"91ac0c5f-5c26-493b-a919-a3ed5a7d3a6a\" class=\"plotly-graph-div\" style=\"height:525px; width:100%;\"></div>            <script type=\"text/javascript\">                require([\"plotly\"], function(Plotly) {                    window.PLOTLYENV=window.PLOTLYENV || {};\n",
       "                    window.PLOTLYENV.BASE_URL='https://plot.ly';                                    if (document.getElementById(\"91ac0c5f-5c26-493b-a919-a3ed5a7d3a6a\")) {                    Plotly.newPlot(                        \"91ac0c5f-5c26-493b-a919-a3ed5a7d3a6a\",                        [{\"marker\": {\"color\": [\"rgb(255, 153, 51)\", \"rgb(55, 128, 191)\", \"rgb(50, 171, 96)\", \"rgb(128, 0, 128)\", \"rgb(219, 64, 82)\", \"rgb(0, 128, 128)\", \"rgb(255, 255, 51)\", \"rgb(128, 128, 0)\", \"rgb(251, 128, 114)\", \"rgb(128, 177, 211)\"], \"line\": {\"width\": 1.3}, \"size\": [33, 86, 63, 105, 106, 29, 85, 88, 64, 81, 85, 83, 72, 66, 70, 12, 93, 104, 42, 52, 30, 70, 78, 33, 60, 59, 74, 30, 94, 80, 71, 79, 72, 40, 65, 29, 43, 65, 69, 49, 48, 50, 46, 108, 80, 67, 38, 76, 65, 97, 41, 72, 112, 51, 61, 62, 81, 71, 78, 59, 99, 23, 49, 93, 89, 24, 33, 53, 40, 73, 43, 89, 75, 109, 67, 90, 69, 104, 51, 61, 65, 66, 52, 55, 43, 29, 83, 87, 101, 103, 96, 65, 78, 92, 105, 63, 68, 82, 31, 80], \"symbol\": \"circle\"}, \"mode\": \"markers\", \"text\": \"\", \"type\": \"scatter\", \"x\": [0.02418255092478402, 1.4124332686573349, -0.13525596911342286, 0.001604930911478157, -0.9105956985942159, -1.4680016670962617, 1.430476253728598, 0.0025982330885907902, 0.43513341996103283, 0.2580753610917117, 0.13993826661469347, 1.7234572535358355, 2.3204602879846727, 1.2737204472952532, -0.08375671610624877, 0.8367304082537872, 0.8856500383374242, 1.6203057277463047, 0.974100562542249, 2.1785110991502465, 0.33322982293518144, 1.0012374120729912, -0.22288148927199683, -0.24484110703315345, 0.7631769279082232, -0.5116905222642862, 1.2500553392229015, 1.6734788123657236, 0.027518947240214735, -0.7983358088554204, -0.49171758291318074, -0.27106967454582714, 0.766183734686007, -1.3675070970846126, 0.5939572485654466, 0.8557880245841908, -0.8364234928119776, -0.6767362402087117, 0.01396582009759249, 0.915141586077435, -0.15623247886002578, -1.9335014479961519, 1.4671043099545935, -0.6301124273367666, 0.05860580022499844, -0.9133003541027503, 0.43691841613140603, 0.9963060371899947, 0.6147413907410918, -1.365124781881899, -0.6027455916713371, 3.0736744047017215, -1.6952632501918714, -0.22608522663974726, 0.8700112458827138, -0.15621201928283715, -0.8247541113628685, -0.8655608065906176, -1.6120885416801292, 0.0031504965402953077, -0.6448343775410306, 1.0644949797114138, 0.42552743644512264, 0.6456236961322278, 1.3638438624592204, 0.09950609702610812, -0.7693502207479467, 2.715560197484808, 0.2247948496982734, 0.28111821963032396, -0.18519220005543738, -0.5234473437246925, 1.012101190998599, 0.9884856272802723, -0.226675147824472, -0.9638329549131603, 0.7088628883810655, -0.3263404292955781, -0.5125669490635824, 0.9517259677399895, -0.6628998233274814, 0.2187279737119685, 1.1202185657938788, -0.14016672992536683, 0.44082966349417685, -1.3245534875698688, -1.5823330739577055, 0.8244531610855222, -1.9593031192504786, -1.1089292687189625, -1.1182447102003847, -0.45480982570416295, -0.296793564653928, 1.5878046221167919, 1.374332917992649, -0.24786230987615668, 1.5673667662161475, -0.4394080578558695, -1.1824195861775926, 0.03740498870195939], \"y\": [-0.6102335170839107, -0.9710369318417905, -0.9480739393075344, -1.676003017413596, -0.3820316846994015, 1.248187457289369, -0.20313237117196004, -0.6847999038072383, -0.577822331333397, -0.47343898185552974, 0.7735077432040708, -0.3890225647449885, -1.5839717695777258, -0.18396609141418538, 0.8441685381337801, -0.32121071927259437, -0.8333458332959722, 0.1526080081394603, 0.04427005875258501, -0.9995460511137874, 0.5185781317951451, -0.37525441900014744, -0.35391711563001743, 0.2958100896713398, -1.554631964524844, 0.9734982928696615, 1.156456680176443, -3.446972365749674, -1.4369233480613757, -0.5131972065999714, -0.1533060974862162, -0.6420671230755272, 1.9121528650164141, -1.732189561513945, -0.568829933223316, -0.8289198969436872, 0.9857338423029945, -0.16875002254092844, 0.520305449559314, 0.9692951697945432, -0.4700153973051017, -0.7469452557471943, 0.5728679263672458, -0.5254254939727879, 0.6067041255921578, -1.1210992465699108, 1.0748757803146947, -0.2693578519128005, 0.22803034037492176, 0.7145190858033147, -0.33344888387870936, 0.2729215287196743, -0.5122632100357751, 1.5184432981845304, 0.5654976615899828, -1.3108541817564887, 0.016015469456314695, -0.2941555859719508, 2.2484149968966243, 0.7828625366306573, -0.49030219522657026, -0.3251183307967059, 1.2259381852354712, -2.2739120418948136, -0.6037445544162928, -0.797339076093402, -0.6567538098764124, 0.7713495050284005, -0.5750952796382053, 0.6010576969761167, 1.7550659323733178, 0.1708433308252719, -0.1865103778259708, -0.5273597245855, -1.1325712454478007, -2.8818658262186503, -1.017236508220063, -0.23623498214018093, -1.2645406948234912, -0.27414361693433636, 0.8007626898677763, 0.06024487297764325, -1.2032849841909061, 0.8179600966226154, 0.1159294722628362, 0.5953100901779639, -1.509306521205705, -0.6071347048695965, -1.2745460556949773, 2.413037451329037, -1.4111308006706955, 0.12932195011759348, -0.27333782615868074, 0.310401427435977, 2.110947087034131, 3.352388449587422, 0.7219835346354952, 0.0027189718510191667, 0.4745274324425321, -0.4418863011588058]}],                        {\"legend\": {\"bgcolor\": \"#F5F6F9\", \"font\": {\"color\": \"#4D5663\"}}, \"paper_bgcolor\": \"#F5F6F9\", \"plot_bgcolor\": \"#F5F6F9\", \"template\": {\"data\": {\"bar\": [{\"error_x\": {\"color\": \"#2a3f5f\"}, \"error_y\": {\"color\": \"#2a3f5f\"}, \"marker\": {\"line\": {\"color\": \"#E5ECF6\", \"width\": 0.5}}, \"type\": \"bar\"}], \"barpolar\": [{\"marker\": {\"line\": {\"color\": \"#E5ECF6\", \"width\": 0.5}}, \"type\": \"barpolar\"}], \"carpet\": [{\"aaxis\": {\"endlinecolor\": \"#2a3f5f\", \"gridcolor\": \"white\", \"linecolor\": \"white\", \"minorgridcolor\": \"white\", \"startlinecolor\": \"#2a3f5f\"}, \"baxis\": {\"endlinecolor\": \"#2a3f5f\", \"gridcolor\": \"white\", \"linecolor\": \"white\", \"minorgridcolor\": \"white\", \"startlinecolor\": \"#2a3f5f\"}, \"type\": \"carpet\"}], \"choropleth\": [{\"colorbar\": {\"outlinewidth\": 0, \"ticks\": \"\"}, \"type\": \"choropleth\"}], \"contour\": [{\"colorbar\": {\"outlinewidth\": 0, \"ticks\": \"\"}, \"colorscale\": [[0.0, \"#0d0887\"], [0.1111111111111111, \"#46039f\"], [0.2222222222222222, \"#7201a8\"], [0.3333333333333333, \"#9c179e\"], [0.4444444444444444, \"#bd3786\"], [0.5555555555555556, \"#d8576b\"], [0.6666666666666666, \"#ed7953\"], [0.7777777777777778, \"#fb9f3a\"], [0.8888888888888888, \"#fdca26\"], [1.0, \"#f0f921\"]], \"type\": \"contour\"}], \"contourcarpet\": [{\"colorbar\": {\"outlinewidth\": 0, \"ticks\": \"\"}, \"type\": \"contourcarpet\"}], \"heatmap\": [{\"colorbar\": {\"outlinewidth\": 0, \"ticks\": \"\"}, \"colorscale\": [[0.0, \"#0d0887\"], [0.1111111111111111, \"#46039f\"], [0.2222222222222222, \"#7201a8\"], [0.3333333333333333, \"#9c179e\"], [0.4444444444444444, \"#bd3786\"], [0.5555555555555556, \"#d8576b\"], [0.6666666666666666, \"#ed7953\"], [0.7777777777777778, \"#fb9f3a\"], [0.8888888888888888, \"#fdca26\"], [1.0, \"#f0f921\"]], \"type\": \"heatmap\"}], \"heatmapgl\": [{\"colorbar\": {\"outlinewidth\": 0, \"ticks\": \"\"}, \"colorscale\": [[0.0, \"#0d0887\"], [0.1111111111111111, \"#46039f\"], [0.2222222222222222, \"#7201a8\"], [0.3333333333333333, \"#9c179e\"], [0.4444444444444444, \"#bd3786\"], [0.5555555555555556, \"#d8576b\"], [0.6666666666666666, \"#ed7953\"], [0.7777777777777778, \"#fb9f3a\"], [0.8888888888888888, \"#fdca26\"], [1.0, \"#f0f921\"]], \"type\": \"heatmapgl\"}], \"histogram\": [{\"marker\": {\"colorbar\": {\"outlinewidth\": 0, \"ticks\": \"\"}}, \"type\": \"histogram\"}], \"histogram2d\": [{\"colorbar\": {\"outlinewidth\": 0, \"ticks\": \"\"}, \"colorscale\": [[0.0, \"#0d0887\"], [0.1111111111111111, \"#46039f\"], [0.2222222222222222, \"#7201a8\"], [0.3333333333333333, \"#9c179e\"], [0.4444444444444444, \"#bd3786\"], [0.5555555555555556, \"#d8576b\"], [0.6666666666666666, \"#ed7953\"], [0.7777777777777778, \"#fb9f3a\"], [0.8888888888888888, \"#fdca26\"], [1.0, \"#f0f921\"]], \"type\": \"histogram2d\"}], \"histogram2dcontour\": [{\"colorbar\": {\"outlinewidth\": 0, \"ticks\": \"\"}, \"colorscale\": [[0.0, \"#0d0887\"], [0.1111111111111111, \"#46039f\"], [0.2222222222222222, \"#7201a8\"], [0.3333333333333333, \"#9c179e\"], [0.4444444444444444, \"#bd3786\"], [0.5555555555555556, \"#d8576b\"], [0.6666666666666666, \"#ed7953\"], [0.7777777777777778, \"#fb9f3a\"], [0.8888888888888888, \"#fdca26\"], [1.0, \"#f0f921\"]], \"type\": \"histogram2dcontour\"}], \"mesh3d\": [{\"colorbar\": {\"outlinewidth\": 0, \"ticks\": \"\"}, \"type\": \"mesh3d\"}], \"parcoords\": [{\"line\": {\"colorbar\": {\"outlinewidth\": 0, \"ticks\": \"\"}}, \"type\": \"parcoords\"}], \"pie\": [{\"automargin\": true, \"type\": \"pie\"}], \"scatter\": [{\"marker\": {\"colorbar\": {\"outlinewidth\": 0, \"ticks\": \"\"}}, \"type\": \"scatter\"}], \"scatter3d\": [{\"line\": {\"colorbar\": {\"outlinewidth\": 0, \"ticks\": \"\"}}, \"marker\": {\"colorbar\": {\"outlinewidth\": 0, \"ticks\": \"\"}}, \"type\": \"scatter3d\"}], \"scattercarpet\": [{\"marker\": {\"colorbar\": {\"outlinewidth\": 0, \"ticks\": \"\"}}, \"type\": \"scattercarpet\"}], \"scattergeo\": [{\"marker\": {\"colorbar\": {\"outlinewidth\": 0, \"ticks\": \"\"}}, \"type\": \"scattergeo\"}], \"scattergl\": [{\"marker\": {\"colorbar\": {\"outlinewidth\": 0, \"ticks\": \"\"}}, \"type\": \"scattergl\"}], \"scattermapbox\": [{\"marker\": {\"colorbar\": {\"outlinewidth\": 0, \"ticks\": \"\"}}, \"type\": \"scattermapbox\"}], \"scatterpolar\": [{\"marker\": {\"colorbar\": {\"outlinewidth\": 0, \"ticks\": \"\"}}, \"type\": \"scatterpolar\"}], \"scatterpolargl\": [{\"marker\": {\"colorbar\": {\"outlinewidth\": 0, \"ticks\": \"\"}}, \"type\": \"scatterpolargl\"}], \"scatterternary\": [{\"marker\": {\"colorbar\": {\"outlinewidth\": 0, \"ticks\": \"\"}}, \"type\": \"scatterternary\"}], \"surface\": [{\"colorbar\": {\"outlinewidth\": 0, \"ticks\": \"\"}, \"colorscale\": [[0.0, \"#0d0887\"], [0.1111111111111111, \"#46039f\"], [0.2222222222222222, \"#7201a8\"], [0.3333333333333333, \"#9c179e\"], [0.4444444444444444, \"#bd3786\"], [0.5555555555555556, \"#d8576b\"], [0.6666666666666666, \"#ed7953\"], [0.7777777777777778, \"#fb9f3a\"], [0.8888888888888888, \"#fdca26\"], [1.0, \"#f0f921\"]], \"type\": \"surface\"}], \"table\": [{\"cells\": {\"fill\": {\"color\": \"#EBF0F8\"}, \"line\": {\"color\": \"white\"}}, \"header\": {\"fill\": {\"color\": \"#C8D4E3\"}, \"line\": {\"color\": \"white\"}}, \"type\": \"table\"}]}, \"layout\": {\"annotationdefaults\": {\"arrowcolor\": \"#2a3f5f\", \"arrowhead\": 0, \"arrowwidth\": 1}, \"autotypenumbers\": \"strict\", \"coloraxis\": {\"colorbar\": {\"outlinewidth\": 0, \"ticks\": \"\"}}, \"colorscale\": {\"diverging\": [[0, \"#8e0152\"], [0.1, \"#c51b7d\"], [0.2, \"#de77ae\"], [0.3, \"#f1b6da\"], [0.4, \"#fde0ef\"], [0.5, \"#f7f7f7\"], [0.6, \"#e6f5d0\"], [0.7, \"#b8e186\"], [0.8, \"#7fbc41\"], [0.9, \"#4d9221\"], [1, \"#276419\"]], \"sequential\": [[0.0, \"#0d0887\"], [0.1111111111111111, \"#46039f\"], [0.2222222222222222, \"#7201a8\"], [0.3333333333333333, \"#9c179e\"], [0.4444444444444444, \"#bd3786\"], [0.5555555555555556, \"#d8576b\"], [0.6666666666666666, \"#ed7953\"], [0.7777777777777778, \"#fb9f3a\"], [0.8888888888888888, \"#fdca26\"], [1.0, \"#f0f921\"]], \"sequentialminus\": [[0.0, \"#0d0887\"], [0.1111111111111111, \"#46039f\"], [0.2222222222222222, \"#7201a8\"], [0.3333333333333333, \"#9c179e\"], [0.4444444444444444, \"#bd3786\"], [0.5555555555555556, \"#d8576b\"], [0.6666666666666666, \"#ed7953\"], [0.7777777777777778, \"#fb9f3a\"], [0.8888888888888888, \"#fdca26\"], [1.0, \"#f0f921\"]]}, \"colorway\": [\"#636efa\", \"#EF553B\", \"#00cc96\", \"#ab63fa\", \"#FFA15A\", \"#19d3f3\", \"#FF6692\", \"#B6E880\", \"#FF97FF\", \"#FECB52\"], \"font\": {\"color\": \"#2a3f5f\"}, \"geo\": {\"bgcolor\": \"white\", \"lakecolor\": \"white\", \"landcolor\": \"#E5ECF6\", \"showlakes\": true, \"showland\": true, \"subunitcolor\": \"white\"}, \"hoverlabel\": {\"align\": \"left\"}, \"hovermode\": \"closest\", \"mapbox\": {\"style\": \"light\"}, \"paper_bgcolor\": \"white\", \"plot_bgcolor\": \"#E5ECF6\", \"polar\": {\"angularaxis\": {\"gridcolor\": \"white\", \"linecolor\": \"white\", \"ticks\": \"\"}, \"bgcolor\": \"#E5ECF6\", \"radialaxis\": {\"gridcolor\": \"white\", \"linecolor\": \"white\", \"ticks\": \"\"}}, \"scene\": {\"xaxis\": {\"backgroundcolor\": \"#E5ECF6\", \"gridcolor\": \"white\", \"gridwidth\": 2, \"linecolor\": \"white\", \"showbackground\": true, \"ticks\": \"\", \"zerolinecolor\": \"white\"}, \"yaxis\": {\"backgroundcolor\": \"#E5ECF6\", \"gridcolor\": \"white\", \"gridwidth\": 2, \"linecolor\": \"white\", \"showbackground\": true, \"ticks\": \"\", \"zerolinecolor\": \"white\"}, \"zaxis\": {\"backgroundcolor\": \"#E5ECF6\", \"gridcolor\": \"white\", \"gridwidth\": 2, \"linecolor\": \"white\", \"showbackground\": true, \"ticks\": \"\", \"zerolinecolor\": \"white\"}}, \"shapedefaults\": {\"line\": {\"color\": \"#2a3f5f\"}}, \"ternary\": {\"aaxis\": {\"gridcolor\": \"white\", \"linecolor\": \"white\", \"ticks\": \"\"}, \"baxis\": {\"gridcolor\": \"white\", \"linecolor\": \"white\", \"ticks\": \"\"}, \"bgcolor\": \"#E5ECF6\", \"caxis\": {\"gridcolor\": \"white\", \"linecolor\": \"white\", \"ticks\": \"\"}}, \"title\": {\"x\": 0.05}, \"xaxis\": {\"automargin\": true, \"gridcolor\": \"white\", \"linecolor\": \"white\", \"ticks\": \"\", \"title\": {\"standoff\": 15}, \"zerolinecolor\": \"white\", \"zerolinewidth\": 2}, \"yaxis\": {\"automargin\": true, \"gridcolor\": \"white\", \"linecolor\": \"white\", \"ticks\": \"\", \"title\": {\"standoff\": 15}, \"zerolinecolor\": \"white\", \"zerolinewidth\": 2}}}, \"title\": {\"font\": {\"color\": \"#4D5663\"}}, \"xaxis\": {\"gridcolor\": \"#E1E5ED\", \"showgrid\": true, \"tickfont\": {\"color\": \"#4D5663\"}, \"title\": {\"font\": {\"color\": \"#4D5663\"}, \"text\": \"\"}, \"zerolinecolor\": \"#E1E5ED\"}, \"yaxis\": {\"gridcolor\": \"#E1E5ED\", \"showgrid\": true, \"tickfont\": {\"color\": \"#4D5663\"}, \"title\": {\"font\": {\"color\": \"#4D5663\"}, \"text\": \"\"}, \"zerolinecolor\": \"#E1E5ED\"}},                        {\"showLink\": true, \"linkText\": \"Export to plot.ly\", \"plotlyServerURL\": \"https://plot.ly\", \"responsive\": true}                    ).then(function(){\n",
       "                            \n",
       "var gd = document.getElementById('91ac0c5f-5c26-493b-a919-a3ed5a7d3a6a');\n",
       "var x = new MutationObserver(function (mutations, observer) {{\n",
       "        var display = window.getComputedStyle(gd).display;\n",
       "        if (!display || display === 'none') {{\n",
       "            console.log([gd, 'removed!']);\n",
       "            Plotly.purge(gd);\n",
       "            observer.disconnect();\n",
       "        }}\n",
       "}});\n",
       "\n",
       "// Listen for the removal of the full notebook cells\n",
       "var notebookContainer = gd.closest('#notebook-container');\n",
       "if (notebookContainer) {{\n",
       "    x.observe(notebookContainer, {childList: true});\n",
       "}}\n",
       "\n",
       "// Listen for the clearing of the current output cell\n",
       "var outputEl = gd.closest('.output');\n",
       "if (outputEl) {{\n",
       "    x.observe(outputEl, {childList: true});\n",
       "}}\n",
       "\n",
       "                        })                };                });            </script>        </div>"
      ]
     },
     "metadata": {},
     "output_type": "display_data"
    }
   ],
   "source": [
    "df.iplot(kind='bubble',x='A',y='B',size='C')"
   ]
  },
  {
   "cell_type": "markdown",
   "metadata": {},
   "source": [
    "## scatter_matrix()\n",
    "\n",
    "Similar to sns.pairplot()"
   ]
  },
  {
   "cell_type": "code",
   "execution_count": 19,
   "metadata": {},
   "outputs": [
    {
     "data": {
      "application/vnd.plotly.v1+json": {
       "config": {
        "linkText": "Export to plot.ly",
        "plotlyServerURL": "https://plot.ly",
        "showLink": true
       },
       "data": [
        {
         "histfunc": "count",
         "histnorm": "",
         "marker": {
          "color": "rgba(255, 153, 51, 1.0)",
          "line": {
           "color": "#4D5663",
           "width": 1.3
          }
         },
         "name": "A",
         "nbinsx": 10,
         "opacity": 0.8,
         "orientation": "v",
         "type": "histogram",
         "x": [
          0.4445124197588715,
          0.36205035415301395,
          0.3969041084990429,
          0.2692407675647294,
          -0.5731606881463372,
          -0.6626695566494553,
          -1.1885826763594174,
          1.1797061124639112,
          -0.12435335510677673,
          0.02131024946466258,
          -0.841044462996525,
          -0.7164275059953222,
          0.17357181330712826,
          -0.8666452183680738,
          -0.3122159075440176,
          1.1051992640591732,
          1.950567433402343,
          -1.16047114413995,
          1.270472855864974,
          0.2662445207587512,
          1.3984741432546657,
          0.1574760328512065,
          0.767697269586301,
          1.420591922414267,
          -0.6907202729510498,
          -1.247031761337001,
          -0.38091327734497743,
          0.05116497342890384,
          0.9840904247169046,
          0.29858165515039153,
          -0.2727524510094896,
          -0.21048960143603254,
          0.7139673740857022,
          -0.16023385797409334,
          0.9116261929654899,
          1.4252147908541768,
          -0.8088052527987842,
          1.2167057276698943,
          0.036192051055108504,
          2.3766711632322077,
          -0.8142601028756642,
          1.32285717439343,
          0.7936294163094557,
          -0.5276244168656109,
          -1.347509840579922,
          -1.7445807289925739,
          0.8712960228407316,
          -0.06401887917664259,
          -1.5504797338463046,
          0.8540304950184063,
          -1.3421184144641287,
          0.10154010306848567,
          -0.6916852085852078,
          0.17189917595550383,
          -0.9701019835518537,
          -0.8945692078511854,
          0.5883075904339918,
          0.8506104769036922,
          1.127153818649054,
          -0.4998541777616691,
          -0.02584876008149694,
          -0.432161143303004,
          2.28206533433616,
          -0.5690629153889168,
          -0.4248077276824574,
          -0.3231749483169146,
          -1.1748112767116616,
          0.12788748462071864,
          2.278384498085381,
          -1.6168076480904043,
          1.3173421558532104,
          -1.0653696753546293,
          -0.1504040147443646,
          -1.5231003219007477,
          1.0731865248776302,
          0.3161981373329008,
          0.6179130628258113,
          -1.2322386008952155,
          0.1982437126589551,
          0.171516596799887,
          1.3244963151549742,
          0.6997770867168803,
          0.1578956838629729,
          -1.4556748030418778,
          0.14849228957824614,
          -0.25687658016777665,
          0.1990906077208847,
          -0.23739319765976388,
          1.6743456830520078,
          0.5740378449463213,
          -0.4880763235958073,
          0.4152351549788122,
          -1.4233924220357441,
          0.07106839796078257,
          -0.5458215202047584,
          -1.4029215223122031,
          -2.4160886328514204,
          -0.04674227495362861,
          -0.5797592925690125,
          -0.9780300391295116
         ],
         "xaxis": "x",
         "yaxis": "y"
        },
        {
         "line": {
          "color": "rgba(128, 128, 128, 1.0)",
          "dash": "solid",
          "shape": "linear",
          "width": 1.3
         },
         "marker": {
          "size": 2,
          "symbol": "circle"
         },
         "mode": "markers",
         "name": "A",
         "text": "",
         "type": "scatter",
         "x": [
          -0.6974834492785861,
          0.5265707753982296,
          -0.07776827797428544,
          -0.5339451906699878,
          -0.7790302886665752,
          -0.7351560296443709,
          0.8085339624996511,
          0.6361945592305132,
          -0.6748913130970792,
          -0.6066952483827125,
          -0.6754438189189058,
          -1.0340066774333512,
          -0.24645264271902192,
          -1.1560839085862804,
          -1.025524281547767,
          -0.9497546642265557,
          -0.21541367777889847,
          0.12195429227566948,
          -1.1704344014413213,
          0.012309507826049594,
          0.13356214797549099,
          0.20033088561699652,
          -0.5825604239393043,
          0.008094169057354685,
          2.30326975138563,
          0.3812004657650732,
          0.8621386798530359,
          -1.0317997889665491,
          -2.105577763733387,
          0.604368051637883,
          1.3785024498319072,
          -1.4906738998136213,
          -0.005277792437393877,
          0.9967361976326541,
          -1.3673910718301645,
          -0.10977136949279971,
          -0.5953982842754707,
          0.1860007397860299,
          1.1924455051673681,
          0.3676128077600115,
          -0.7766586207968474,
          0.1302866455942036,
          -0.2925619978758218,
          1.1126059122521699,
          -1.4217223065757478,
          -1.1241097246955072,
          -0.8164040494133138,
          -0.7540096772936119,
          0.3791695611574733,
          0.9490520805551402,
          -0.40971062506334494,
          0.9005435826101161,
          0.46392921363095735,
          0.23102212634003594,
          1.0865785939606485,
          1.4305345221229842,
          0.34084797401263633,
          -0.030888851300284265,
          0.17486758559954058,
          -0.6711197166289434,
          2.599187965375308,
          0.6263752513742433,
          0.6180370247657457,
          1.2680638021787283,
          2.3789965030675226,
          -1.0446268450076803,
          0.47632445881230345,
          0.9501238509412528,
          -0.8537991737916394,
          0.731521735345266,
          0.6084196715193544,
          1.5534834268955304,
          0.3749500243260987,
          -0.714605928485408,
          1.29945196980955,
          -0.4609787599219854,
          -0.5317687517854143,
          -0.43900882115612183,
          -0.06104875856549778,
          -1.1404600063013492,
          0.9170010691017919,
          -0.7362534089558578,
          -0.8455212449608114,
          0.05782469041110582,
          -0.11944713690184494,
          1.7355595492838432,
          -1.7970157731577507,
          -0.3730788606644096,
          0.023009405817685354,
          -0.2315156716542146,
          0.27912540287718846,
          -1.3705966662852875,
          0.7472522733767284,
          0.9005176103378513,
          0.716327290283002,
          1.314555991394918,
          0.7221539987053497,
          1.1394467201828706,
          -0.04431566287321239,
          0.7376141042686286
         ],
         "xaxis": "x2",
         "y": [
          0.4445124197588715,
          0.36205035415301395,
          0.3969041084990429,
          0.2692407675647294,
          -0.5731606881463372,
          -0.6626695566494553,
          -1.1885826763594174,
          1.1797061124639112,
          -0.12435335510677673,
          0.02131024946466258,
          -0.841044462996525,
          -0.7164275059953222,
          0.17357181330712826,
          -0.8666452183680738,
          -0.3122159075440176,
          1.1051992640591732,
          1.950567433402343,
          -1.16047114413995,
          1.270472855864974,
          0.2662445207587512,
          1.3984741432546657,
          0.1574760328512065,
          0.767697269586301,
          1.420591922414267,
          -0.6907202729510498,
          -1.247031761337001,
          -0.38091327734497743,
          0.05116497342890384,
          0.9840904247169046,
          0.29858165515039153,
          -0.2727524510094896,
          -0.21048960143603254,
          0.7139673740857022,
          -0.16023385797409334,
          0.9116261929654899,
          1.4252147908541768,
          -0.8088052527987842,
          1.2167057276698943,
          0.036192051055108504,
          2.3766711632322077,
          -0.8142601028756642,
          1.32285717439343,
          0.7936294163094557,
          -0.5276244168656109,
          -1.347509840579922,
          -1.7445807289925739,
          0.8712960228407316,
          -0.06401887917664259,
          -1.5504797338463046,
          0.8540304950184063,
          -1.3421184144641287,
          0.10154010306848567,
          -0.6916852085852078,
          0.17189917595550383,
          -0.9701019835518537,
          -0.8945692078511854,
          0.5883075904339918,
          0.8506104769036922,
          1.127153818649054,
          -0.4998541777616691,
          -0.02584876008149694,
          -0.432161143303004,
          2.28206533433616,
          -0.5690629153889168,
          -0.4248077276824574,
          -0.3231749483169146,
          -1.1748112767116616,
          0.12788748462071864,
          2.278384498085381,
          -1.6168076480904043,
          1.3173421558532104,
          -1.0653696753546293,
          -0.1504040147443646,
          -1.5231003219007477,
          1.0731865248776302,
          0.3161981373329008,
          0.6179130628258113,
          -1.2322386008952155,
          0.1982437126589551,
          0.171516596799887,
          1.3244963151549742,
          0.6997770867168803,
          0.1578956838629729,
          -1.4556748030418778,
          0.14849228957824614,
          -0.25687658016777665,
          0.1990906077208847,
          -0.23739319765976388,
          1.6743456830520078,
          0.5740378449463213,
          -0.4880763235958073,
          0.4152351549788122,
          -1.4233924220357441,
          0.07106839796078257,
          -0.5458215202047584,
          -1.4029215223122031,
          -2.4160886328514204,
          -0.04674227495362861,
          -0.5797592925690125,
          -0.9780300391295116
         ],
         "yaxis": "y2"
        },
        {
         "line": {
          "color": "rgba(128, 128, 128, 1.0)",
          "dash": "solid",
          "shape": "linear",
          "width": 1.3
         },
         "marker": {
          "size": 2,
          "symbol": "circle"
         },
         "mode": "markers",
         "name": "A",
         "text": "",
         "type": "scatter",
         "x": [
          0.9807202405967048,
          0.06495934404745805,
          -0.36682147770856943,
          -0.03597147010170788,
          2.1039528829009124,
          -1.5766739284455658,
          -1.1523546889529963,
          -1.1510872009401658,
          1.686930363727718,
          0.5265043771420701,
          -1.7187176185982018,
          -0.9877567758021711,
          -0.7327543358738599,
          0.332808644967014,
          -1.856617786700503,
          -0.45638126738036017,
          0.4460852412061715,
          -0.40996733914086586,
          0.042717201837724816,
          -0.12187741157722422,
          -0.22605524339259625,
          0.2176577099014336,
          -1.2837818839757584,
          -1.3770152656825976,
          -0.7235662131699643,
          -1.2090540160685892,
          0.39533234681095536,
          0.8228003993393653,
          0.7500775250178906,
          -1.0255554792691635,
          0.9399257491761793,
          1.079798576095632,
          0.839267967223954,
          -0.7868332199991667,
          0.21077910161394361,
          0.3743187524285486,
          -1.6546919410058585,
          0.6724483751510884,
          1.1756475225320373,
          0.41393043279159175,
          -0.0971822763322198,
          -0.7432920169061518,
          -0.18528439091173143,
          -0.39671892843418255,
          0.9750242323326788,
          -0.3156222581854717,
          1.302174739723842,
          0.4202131355178396,
          -0.18633489367649939,
          -0.12720880018978345,
          -0.8711809019783133,
          -1.4766128096061217,
          -2.9718066897234943,
          -0.3730078469092899,
          0.2571386101034309,
          -2.038430992628252,
          -0.8801763818152201,
          0.48766939523518743,
          0.6740086985274447,
          0.19698181022628747,
          0.4588520921724877,
          -0.05493837425086435,
          2.020688845273047,
          1.3837995491160617,
          1.3627531794926535,
          -0.2663999994879829,
          -0.31855408254638695,
          -0.3221482173404135,
          -1.0813733215424397,
          -0.07456682600096277,
          0.022270478528954966,
          -0.7687901778206974,
          0.20211356333211608,
          -0.3466042862672192,
          -0.29770401786177253,
          1.924068981184556,
          0.4166026305574222,
          0.7130618514834973,
          0.7549500289198516,
          0.7480435567616913,
          0.18099971650917926,
          0.055100961271098196,
          0.5338230256264612,
          -1.480283918840456,
          0.5406354071262564,
          -0.5865582807982657,
          -0.02765724334386302,
          -0.6877356155092275,
          -0.3299348292003524,
          0.5270083935750511,
          -1.4009279263124652,
          1.204185223817746,
          2.0002342727662876,
          0.8552937941245979,
          0.6689086788392139,
          -0.1780437572272499,
          1.4610352690906416,
          -0.7883153342248242,
          1.4101027377035793,
          -0.9173861802927062
         ],
         "xaxis": "x3",
         "y": [
          0.4445124197588715,
          0.36205035415301395,
          0.3969041084990429,
          0.2692407675647294,
          -0.5731606881463372,
          -0.6626695566494553,
          -1.1885826763594174,
          1.1797061124639112,
          -0.12435335510677673,
          0.02131024946466258,
          -0.841044462996525,
          -0.7164275059953222,
          0.17357181330712826,
          -0.8666452183680738,
          -0.3122159075440176,
          1.1051992640591732,
          1.950567433402343,
          -1.16047114413995,
          1.270472855864974,
          0.2662445207587512,
          1.3984741432546657,
          0.1574760328512065,
          0.767697269586301,
          1.420591922414267,
          -0.6907202729510498,
          -1.247031761337001,
          -0.38091327734497743,
          0.05116497342890384,
          0.9840904247169046,
          0.29858165515039153,
          -0.2727524510094896,
          -0.21048960143603254,
          0.7139673740857022,
          -0.16023385797409334,
          0.9116261929654899,
          1.4252147908541768,
          -0.8088052527987842,
          1.2167057276698943,
          0.036192051055108504,
          2.3766711632322077,
          -0.8142601028756642,
          1.32285717439343,
          0.7936294163094557,
          -0.5276244168656109,
          -1.347509840579922,
          -1.7445807289925739,
          0.8712960228407316,
          -0.06401887917664259,
          -1.5504797338463046,
          0.8540304950184063,
          -1.3421184144641287,
          0.10154010306848567,
          -0.6916852085852078,
          0.17189917595550383,
          -0.9701019835518537,
          -0.8945692078511854,
          0.5883075904339918,
          0.8506104769036922,
          1.127153818649054,
          -0.4998541777616691,
          -0.02584876008149694,
          -0.432161143303004,
          2.28206533433616,
          -0.5690629153889168,
          -0.4248077276824574,
          -0.3231749483169146,
          -1.1748112767116616,
          0.12788748462071864,
          2.278384498085381,
          -1.6168076480904043,
          1.3173421558532104,
          -1.0653696753546293,
          -0.1504040147443646,
          -1.5231003219007477,
          1.0731865248776302,
          0.3161981373329008,
          0.6179130628258113,
          -1.2322386008952155,
          0.1982437126589551,
          0.171516596799887,
          1.3244963151549742,
          0.6997770867168803,
          0.1578956838629729,
          -1.4556748030418778,
          0.14849228957824614,
          -0.25687658016777665,
          0.1990906077208847,
          -0.23739319765976388,
          1.6743456830520078,
          0.5740378449463213,
          -0.4880763235958073,
          0.4152351549788122,
          -1.4233924220357441,
          0.07106839796078257,
          -0.5458215202047584,
          -1.4029215223122031,
          -2.4160886328514204,
          -0.04674227495362861,
          -0.5797592925690125,
          -0.9780300391295116
         ],
         "yaxis": "y3"
        },
        {
         "line": {
          "color": "rgba(128, 128, 128, 1.0)",
          "dash": "solid",
          "shape": "linear",
          "width": 1.3
         },
         "marker": {
          "size": 2,
          "symbol": "circle"
         },
         "mode": "markers",
         "name": "A",
         "text": "",
         "type": "scatter",
         "x": [
          1.9123971090410545,
          0.20731978815254576,
          0.5480827947183378,
          -0.3125002179614214,
          -0.08695658497105009,
          -0.01143451325044511,
          -0.057680403919281496,
          -0.31953374555578895,
          0.12392089659460419,
          -1.8421489172772836,
          -1.1973955447982725,
          -2.0745532732852388,
          0.3088064937003683,
          -1.88873465987546,
          1.2066647717665306,
          -0.1512762433495319,
          -0.09342382578583544,
          -0.7107802075648229,
          0.98216585539338,
          0.1116443404998465,
          -0.5360503670606694,
          2.4069270699389325,
          -0.021835613821789564,
          -0.49051914720565176,
          2.52967452460814,
          -0.9614231704468748,
          -0.8636148280761206,
          2.0885718885887754,
          0.3567419175718976,
          2.2417162616504847,
          -0.3499805216568416,
          -0.06246377941350967,
          -0.9130307249543688,
          0.21672128232587234,
          0.3039601406357903,
          -0.3704024048918782,
          -0.4397341667328155,
          0.23626815942283505,
          -1.4165159388518738,
          0.24582637557137516,
          -2.895481841382021,
          -0.2673316098678332,
          -0.25801794151144847,
          1.3785710450412867,
          0.04305953878120779,
          -1.2029740616305302,
          -0.09369581345893953,
          0.9202911146342643,
          -1.2328477698406155,
          0.05888192109937479,
          0.33780081544485774,
          -0.9034069829121224,
          -0.4332288623391349,
          -1.2997925902979068,
          -0.9074637038793495,
          0.9532595230516671,
          -1.4513336342172545,
          -0.7221190490653255,
          0.860961107203073,
          -0.05283710819885914,
          1.7303941172129738,
          1.7386693550314218,
          0.7012970466600155,
          0.08776671116031264,
          1.3522260576402978,
          0.778900077142074,
          -1.1409396494552497,
          -2.5364866220234843,
          -0.9973799889857837,
          -2.3776600537860113,
          0.4322804782784286,
          0.20605848574637545,
          0.2084998309889521,
          0.4087986192576177,
          -1.0102839482906854,
          -1.3051723098783508,
          -0.4375940788817426,
          -0.21158832117656054,
          -1.4183347586119168,
          -0.12368052903158491,
          0.8201793634509791,
          -0.24906131242964358,
          -0.21803405254034677,
          1.6263939571133907,
          -2.284314049583247,
          0.503167524977811,
          -0.08712443998053249,
          1.7862760752496967,
          0.0006600808731873957,
          0.3160566148437891,
          0.0008923865318643821,
          -0.9948516732251163,
          0.6204463199668159,
          -2.1183081564092183,
          0.7936393425462959,
          -0.07123068766319275,
          0.1409696217829003,
          1.1005028839776765,
          -1.2672538010458028,
          -1.2372320331073614
         ],
         "xaxis": "x4",
         "y": [
          0.4445124197588715,
          0.36205035415301395,
          0.3969041084990429,
          0.2692407675647294,
          -0.5731606881463372,
          -0.6626695566494553,
          -1.1885826763594174,
          1.1797061124639112,
          -0.12435335510677673,
          0.02131024946466258,
          -0.841044462996525,
          -0.7164275059953222,
          0.17357181330712826,
          -0.8666452183680738,
          -0.3122159075440176,
          1.1051992640591732,
          1.950567433402343,
          -1.16047114413995,
          1.270472855864974,
          0.2662445207587512,
          1.3984741432546657,
          0.1574760328512065,
          0.767697269586301,
          1.420591922414267,
          -0.6907202729510498,
          -1.247031761337001,
          -0.38091327734497743,
          0.05116497342890384,
          0.9840904247169046,
          0.29858165515039153,
          -0.2727524510094896,
          -0.21048960143603254,
          0.7139673740857022,
          -0.16023385797409334,
          0.9116261929654899,
          1.4252147908541768,
          -0.8088052527987842,
          1.2167057276698943,
          0.036192051055108504,
          2.3766711632322077,
          -0.8142601028756642,
          1.32285717439343,
          0.7936294163094557,
          -0.5276244168656109,
          -1.347509840579922,
          -1.7445807289925739,
          0.8712960228407316,
          -0.06401887917664259,
          -1.5504797338463046,
          0.8540304950184063,
          -1.3421184144641287,
          0.10154010306848567,
          -0.6916852085852078,
          0.17189917595550383,
          -0.9701019835518537,
          -0.8945692078511854,
          0.5883075904339918,
          0.8506104769036922,
          1.127153818649054,
          -0.4998541777616691,
          -0.02584876008149694,
          -0.432161143303004,
          2.28206533433616,
          -0.5690629153889168,
          -0.4248077276824574,
          -0.3231749483169146,
          -1.1748112767116616,
          0.12788748462071864,
          2.278384498085381,
          -1.6168076480904043,
          1.3173421558532104,
          -1.0653696753546293,
          -0.1504040147443646,
          -1.5231003219007477,
          1.0731865248776302,
          0.3161981373329008,
          0.6179130628258113,
          -1.2322386008952155,
          0.1982437126589551,
          0.171516596799887,
          1.3244963151549742,
          0.6997770867168803,
          0.1578956838629729,
          -1.4556748030418778,
          0.14849228957824614,
          -0.25687658016777665,
          0.1990906077208847,
          -0.23739319765976388,
          1.6743456830520078,
          0.5740378449463213,
          -0.4880763235958073,
          0.4152351549788122,
          -1.4233924220357441,
          0.07106839796078257,
          -0.5458215202047584,
          -1.4029215223122031,
          -2.4160886328514204,
          -0.04674227495362861,
          -0.5797592925690125,
          -0.9780300391295116
         ],
         "yaxis": "y4"
        },
        {
         "line": {
          "color": "rgba(128, 128, 128, 1.0)",
          "dash": "solid",
          "shape": "linear",
          "width": 1.3
         },
         "marker": {
          "size": 2,
          "symbol": "circle"
         },
         "mode": "markers",
         "name": "B",
         "text": "",
         "type": "scatter",
         "x": [
          0.4445124197588715,
          0.36205035415301395,
          0.3969041084990429,
          0.2692407675647294,
          -0.5731606881463372,
          -0.6626695566494553,
          -1.1885826763594174,
          1.1797061124639112,
          -0.12435335510677673,
          0.02131024946466258,
          -0.841044462996525,
          -0.7164275059953222,
          0.17357181330712826,
          -0.8666452183680738,
          -0.3122159075440176,
          1.1051992640591732,
          1.950567433402343,
          -1.16047114413995,
          1.270472855864974,
          0.2662445207587512,
          1.3984741432546657,
          0.1574760328512065,
          0.767697269586301,
          1.420591922414267,
          -0.6907202729510498,
          -1.247031761337001,
          -0.38091327734497743,
          0.05116497342890384,
          0.9840904247169046,
          0.29858165515039153,
          -0.2727524510094896,
          -0.21048960143603254,
          0.7139673740857022,
          -0.16023385797409334,
          0.9116261929654899,
          1.4252147908541768,
          -0.8088052527987842,
          1.2167057276698943,
          0.036192051055108504,
          2.3766711632322077,
          -0.8142601028756642,
          1.32285717439343,
          0.7936294163094557,
          -0.5276244168656109,
          -1.347509840579922,
          -1.7445807289925739,
          0.8712960228407316,
          -0.06401887917664259,
          -1.5504797338463046,
          0.8540304950184063,
          -1.3421184144641287,
          0.10154010306848567,
          -0.6916852085852078,
          0.17189917595550383,
          -0.9701019835518537,
          -0.8945692078511854,
          0.5883075904339918,
          0.8506104769036922,
          1.127153818649054,
          -0.4998541777616691,
          -0.02584876008149694,
          -0.432161143303004,
          2.28206533433616,
          -0.5690629153889168,
          -0.4248077276824574,
          -0.3231749483169146,
          -1.1748112767116616,
          0.12788748462071864,
          2.278384498085381,
          -1.6168076480904043,
          1.3173421558532104,
          -1.0653696753546293,
          -0.1504040147443646,
          -1.5231003219007477,
          1.0731865248776302,
          0.3161981373329008,
          0.6179130628258113,
          -1.2322386008952155,
          0.1982437126589551,
          0.171516596799887,
          1.3244963151549742,
          0.6997770867168803,
          0.1578956838629729,
          -1.4556748030418778,
          0.14849228957824614,
          -0.25687658016777665,
          0.1990906077208847,
          -0.23739319765976388,
          1.6743456830520078,
          0.5740378449463213,
          -0.4880763235958073,
          0.4152351549788122,
          -1.4233924220357441,
          0.07106839796078257,
          -0.5458215202047584,
          -1.4029215223122031,
          -2.4160886328514204,
          -0.04674227495362861,
          -0.5797592925690125,
          -0.9780300391295116
         ],
         "xaxis": "x5",
         "y": [
          -0.6974834492785861,
          0.5265707753982296,
          -0.07776827797428544,
          -0.5339451906699878,
          -0.7790302886665752,
          -0.7351560296443709,
          0.8085339624996511,
          0.6361945592305132,
          -0.6748913130970792,
          -0.6066952483827125,
          -0.6754438189189058,
          -1.0340066774333512,
          -0.24645264271902192,
          -1.1560839085862804,
          -1.025524281547767,
          -0.9497546642265557,
          -0.21541367777889847,
          0.12195429227566948,
          -1.1704344014413213,
          0.012309507826049594,
          0.13356214797549099,
          0.20033088561699652,
          -0.5825604239393043,
          0.008094169057354685,
          2.30326975138563,
          0.3812004657650732,
          0.8621386798530359,
          -1.0317997889665491,
          -2.105577763733387,
          0.604368051637883,
          1.3785024498319072,
          -1.4906738998136213,
          -0.005277792437393877,
          0.9967361976326541,
          -1.3673910718301645,
          -0.10977136949279971,
          -0.5953982842754707,
          0.1860007397860299,
          1.1924455051673681,
          0.3676128077600115,
          -0.7766586207968474,
          0.1302866455942036,
          -0.2925619978758218,
          1.1126059122521699,
          -1.4217223065757478,
          -1.1241097246955072,
          -0.8164040494133138,
          -0.7540096772936119,
          0.3791695611574733,
          0.9490520805551402,
          -0.40971062506334494,
          0.9005435826101161,
          0.46392921363095735,
          0.23102212634003594,
          1.0865785939606485,
          1.4305345221229842,
          0.34084797401263633,
          -0.030888851300284265,
          0.17486758559954058,
          -0.6711197166289434,
          2.599187965375308,
          0.6263752513742433,
          0.6180370247657457,
          1.2680638021787283,
          2.3789965030675226,
          -1.0446268450076803,
          0.47632445881230345,
          0.9501238509412528,
          -0.8537991737916394,
          0.731521735345266,
          0.6084196715193544,
          1.5534834268955304,
          0.3749500243260987,
          -0.714605928485408,
          1.29945196980955,
          -0.4609787599219854,
          -0.5317687517854143,
          -0.43900882115612183,
          -0.06104875856549778,
          -1.1404600063013492,
          0.9170010691017919,
          -0.7362534089558578,
          -0.8455212449608114,
          0.05782469041110582,
          -0.11944713690184494,
          1.7355595492838432,
          -1.7970157731577507,
          -0.3730788606644096,
          0.023009405817685354,
          -0.2315156716542146,
          0.27912540287718846,
          -1.3705966662852875,
          0.7472522733767284,
          0.9005176103378513,
          0.716327290283002,
          1.314555991394918,
          0.7221539987053497,
          1.1394467201828706,
          -0.04431566287321239,
          0.7376141042686286
         ],
         "yaxis": "y5"
        },
        {
         "histfunc": "count",
         "histnorm": "",
         "marker": {
          "color": "rgba(55, 128, 191, 1.0)",
          "line": {
           "color": "#4D5663",
           "width": 1.3
          }
         },
         "name": "B",
         "nbinsx": 10,
         "opacity": 0.8,
         "orientation": "v",
         "type": "histogram",
         "x": [
          -0.6974834492785861,
          0.5265707753982296,
          -0.07776827797428544,
          -0.5339451906699878,
          -0.7790302886665752,
          -0.7351560296443709,
          0.8085339624996511,
          0.6361945592305132,
          -0.6748913130970792,
          -0.6066952483827125,
          -0.6754438189189058,
          -1.0340066774333512,
          -0.24645264271902192,
          -1.1560839085862804,
          -1.025524281547767,
          -0.9497546642265557,
          -0.21541367777889847,
          0.12195429227566948,
          -1.1704344014413213,
          0.012309507826049594,
          0.13356214797549099,
          0.20033088561699652,
          -0.5825604239393043,
          0.008094169057354685,
          2.30326975138563,
          0.3812004657650732,
          0.8621386798530359,
          -1.0317997889665491,
          -2.105577763733387,
          0.604368051637883,
          1.3785024498319072,
          -1.4906738998136213,
          -0.005277792437393877,
          0.9967361976326541,
          -1.3673910718301645,
          -0.10977136949279971,
          -0.5953982842754707,
          0.1860007397860299,
          1.1924455051673681,
          0.3676128077600115,
          -0.7766586207968474,
          0.1302866455942036,
          -0.2925619978758218,
          1.1126059122521699,
          -1.4217223065757478,
          -1.1241097246955072,
          -0.8164040494133138,
          -0.7540096772936119,
          0.3791695611574733,
          0.9490520805551402,
          -0.40971062506334494,
          0.9005435826101161,
          0.46392921363095735,
          0.23102212634003594,
          1.0865785939606485,
          1.4305345221229842,
          0.34084797401263633,
          -0.030888851300284265,
          0.17486758559954058,
          -0.6711197166289434,
          2.599187965375308,
          0.6263752513742433,
          0.6180370247657457,
          1.2680638021787283,
          2.3789965030675226,
          -1.0446268450076803,
          0.47632445881230345,
          0.9501238509412528,
          -0.8537991737916394,
          0.731521735345266,
          0.6084196715193544,
          1.5534834268955304,
          0.3749500243260987,
          -0.714605928485408,
          1.29945196980955,
          -0.4609787599219854,
          -0.5317687517854143,
          -0.43900882115612183,
          -0.06104875856549778,
          -1.1404600063013492,
          0.9170010691017919,
          -0.7362534089558578,
          -0.8455212449608114,
          0.05782469041110582,
          -0.11944713690184494,
          1.7355595492838432,
          -1.7970157731577507,
          -0.3730788606644096,
          0.023009405817685354,
          -0.2315156716542146,
          0.27912540287718846,
          -1.3705966662852875,
          0.7472522733767284,
          0.9005176103378513,
          0.716327290283002,
          1.314555991394918,
          0.7221539987053497,
          1.1394467201828706,
          -0.04431566287321239,
          0.7376141042686286
         ],
         "xaxis": "x6",
         "yaxis": "y6"
        },
        {
         "line": {
          "color": "rgba(128, 128, 128, 1.0)",
          "dash": "solid",
          "shape": "linear",
          "width": 1.3
         },
         "marker": {
          "size": 2,
          "symbol": "circle"
         },
         "mode": "markers",
         "name": "B",
         "text": "",
         "type": "scatter",
         "x": [
          0.9807202405967048,
          0.06495934404745805,
          -0.36682147770856943,
          -0.03597147010170788,
          2.1039528829009124,
          -1.5766739284455658,
          -1.1523546889529963,
          -1.1510872009401658,
          1.686930363727718,
          0.5265043771420701,
          -1.7187176185982018,
          -0.9877567758021711,
          -0.7327543358738599,
          0.332808644967014,
          -1.856617786700503,
          -0.45638126738036017,
          0.4460852412061715,
          -0.40996733914086586,
          0.042717201837724816,
          -0.12187741157722422,
          -0.22605524339259625,
          0.2176577099014336,
          -1.2837818839757584,
          -1.3770152656825976,
          -0.7235662131699643,
          -1.2090540160685892,
          0.39533234681095536,
          0.8228003993393653,
          0.7500775250178906,
          -1.0255554792691635,
          0.9399257491761793,
          1.079798576095632,
          0.839267967223954,
          -0.7868332199991667,
          0.21077910161394361,
          0.3743187524285486,
          -1.6546919410058585,
          0.6724483751510884,
          1.1756475225320373,
          0.41393043279159175,
          -0.0971822763322198,
          -0.7432920169061518,
          -0.18528439091173143,
          -0.39671892843418255,
          0.9750242323326788,
          -0.3156222581854717,
          1.302174739723842,
          0.4202131355178396,
          -0.18633489367649939,
          -0.12720880018978345,
          -0.8711809019783133,
          -1.4766128096061217,
          -2.9718066897234943,
          -0.3730078469092899,
          0.2571386101034309,
          -2.038430992628252,
          -0.8801763818152201,
          0.48766939523518743,
          0.6740086985274447,
          0.19698181022628747,
          0.4588520921724877,
          -0.05493837425086435,
          2.020688845273047,
          1.3837995491160617,
          1.3627531794926535,
          -0.2663999994879829,
          -0.31855408254638695,
          -0.3221482173404135,
          -1.0813733215424397,
          -0.07456682600096277,
          0.022270478528954966,
          -0.7687901778206974,
          0.20211356333211608,
          -0.3466042862672192,
          -0.29770401786177253,
          1.924068981184556,
          0.4166026305574222,
          0.7130618514834973,
          0.7549500289198516,
          0.7480435567616913,
          0.18099971650917926,
          0.055100961271098196,
          0.5338230256264612,
          -1.480283918840456,
          0.5406354071262564,
          -0.5865582807982657,
          -0.02765724334386302,
          -0.6877356155092275,
          -0.3299348292003524,
          0.5270083935750511,
          -1.4009279263124652,
          1.204185223817746,
          2.0002342727662876,
          0.8552937941245979,
          0.6689086788392139,
          -0.1780437572272499,
          1.4610352690906416,
          -0.7883153342248242,
          1.4101027377035793,
          -0.9173861802927062
         ],
         "xaxis": "x7",
         "y": [
          -0.6974834492785861,
          0.5265707753982296,
          -0.07776827797428544,
          -0.5339451906699878,
          -0.7790302886665752,
          -0.7351560296443709,
          0.8085339624996511,
          0.6361945592305132,
          -0.6748913130970792,
          -0.6066952483827125,
          -0.6754438189189058,
          -1.0340066774333512,
          -0.24645264271902192,
          -1.1560839085862804,
          -1.025524281547767,
          -0.9497546642265557,
          -0.21541367777889847,
          0.12195429227566948,
          -1.1704344014413213,
          0.012309507826049594,
          0.13356214797549099,
          0.20033088561699652,
          -0.5825604239393043,
          0.008094169057354685,
          2.30326975138563,
          0.3812004657650732,
          0.8621386798530359,
          -1.0317997889665491,
          -2.105577763733387,
          0.604368051637883,
          1.3785024498319072,
          -1.4906738998136213,
          -0.005277792437393877,
          0.9967361976326541,
          -1.3673910718301645,
          -0.10977136949279971,
          -0.5953982842754707,
          0.1860007397860299,
          1.1924455051673681,
          0.3676128077600115,
          -0.7766586207968474,
          0.1302866455942036,
          -0.2925619978758218,
          1.1126059122521699,
          -1.4217223065757478,
          -1.1241097246955072,
          -0.8164040494133138,
          -0.7540096772936119,
          0.3791695611574733,
          0.9490520805551402,
          -0.40971062506334494,
          0.9005435826101161,
          0.46392921363095735,
          0.23102212634003594,
          1.0865785939606485,
          1.4305345221229842,
          0.34084797401263633,
          -0.030888851300284265,
          0.17486758559954058,
          -0.6711197166289434,
          2.599187965375308,
          0.6263752513742433,
          0.6180370247657457,
          1.2680638021787283,
          2.3789965030675226,
          -1.0446268450076803,
          0.47632445881230345,
          0.9501238509412528,
          -0.8537991737916394,
          0.731521735345266,
          0.6084196715193544,
          1.5534834268955304,
          0.3749500243260987,
          -0.714605928485408,
          1.29945196980955,
          -0.4609787599219854,
          -0.5317687517854143,
          -0.43900882115612183,
          -0.06104875856549778,
          -1.1404600063013492,
          0.9170010691017919,
          -0.7362534089558578,
          -0.8455212449608114,
          0.05782469041110582,
          -0.11944713690184494,
          1.7355595492838432,
          -1.7970157731577507,
          -0.3730788606644096,
          0.023009405817685354,
          -0.2315156716542146,
          0.27912540287718846,
          -1.3705966662852875,
          0.7472522733767284,
          0.9005176103378513,
          0.716327290283002,
          1.314555991394918,
          0.7221539987053497,
          1.1394467201828706,
          -0.04431566287321239,
          0.7376141042686286
         ],
         "yaxis": "y7"
        },
        {
         "line": {
          "color": "rgba(128, 128, 128, 1.0)",
          "dash": "solid",
          "shape": "linear",
          "width": 1.3
         },
         "marker": {
          "size": 2,
          "symbol": "circle"
         },
         "mode": "markers",
         "name": "B",
         "text": "",
         "type": "scatter",
         "x": [
          1.9123971090410545,
          0.20731978815254576,
          0.5480827947183378,
          -0.3125002179614214,
          -0.08695658497105009,
          -0.01143451325044511,
          -0.057680403919281496,
          -0.31953374555578895,
          0.12392089659460419,
          -1.8421489172772836,
          -1.1973955447982725,
          -2.0745532732852388,
          0.3088064937003683,
          -1.88873465987546,
          1.2066647717665306,
          -0.1512762433495319,
          -0.09342382578583544,
          -0.7107802075648229,
          0.98216585539338,
          0.1116443404998465,
          -0.5360503670606694,
          2.4069270699389325,
          -0.021835613821789564,
          -0.49051914720565176,
          2.52967452460814,
          -0.9614231704468748,
          -0.8636148280761206,
          2.0885718885887754,
          0.3567419175718976,
          2.2417162616504847,
          -0.3499805216568416,
          -0.06246377941350967,
          -0.9130307249543688,
          0.21672128232587234,
          0.3039601406357903,
          -0.3704024048918782,
          -0.4397341667328155,
          0.23626815942283505,
          -1.4165159388518738,
          0.24582637557137516,
          -2.895481841382021,
          -0.2673316098678332,
          -0.25801794151144847,
          1.3785710450412867,
          0.04305953878120779,
          -1.2029740616305302,
          -0.09369581345893953,
          0.9202911146342643,
          -1.2328477698406155,
          0.05888192109937479,
          0.33780081544485774,
          -0.9034069829121224,
          -0.4332288623391349,
          -1.2997925902979068,
          -0.9074637038793495,
          0.9532595230516671,
          -1.4513336342172545,
          -0.7221190490653255,
          0.860961107203073,
          -0.05283710819885914,
          1.7303941172129738,
          1.7386693550314218,
          0.7012970466600155,
          0.08776671116031264,
          1.3522260576402978,
          0.778900077142074,
          -1.1409396494552497,
          -2.5364866220234843,
          -0.9973799889857837,
          -2.3776600537860113,
          0.4322804782784286,
          0.20605848574637545,
          0.2084998309889521,
          0.4087986192576177,
          -1.0102839482906854,
          -1.3051723098783508,
          -0.4375940788817426,
          -0.21158832117656054,
          -1.4183347586119168,
          -0.12368052903158491,
          0.8201793634509791,
          -0.24906131242964358,
          -0.21803405254034677,
          1.6263939571133907,
          -2.284314049583247,
          0.503167524977811,
          -0.08712443998053249,
          1.7862760752496967,
          0.0006600808731873957,
          0.3160566148437891,
          0.0008923865318643821,
          -0.9948516732251163,
          0.6204463199668159,
          -2.1183081564092183,
          0.7936393425462959,
          -0.07123068766319275,
          0.1409696217829003,
          1.1005028839776765,
          -1.2672538010458028,
          -1.2372320331073614
         ],
         "xaxis": "x8",
         "y": [
          -0.6974834492785861,
          0.5265707753982296,
          -0.07776827797428544,
          -0.5339451906699878,
          -0.7790302886665752,
          -0.7351560296443709,
          0.8085339624996511,
          0.6361945592305132,
          -0.6748913130970792,
          -0.6066952483827125,
          -0.6754438189189058,
          -1.0340066774333512,
          -0.24645264271902192,
          -1.1560839085862804,
          -1.025524281547767,
          -0.9497546642265557,
          -0.21541367777889847,
          0.12195429227566948,
          -1.1704344014413213,
          0.012309507826049594,
          0.13356214797549099,
          0.20033088561699652,
          -0.5825604239393043,
          0.008094169057354685,
          2.30326975138563,
          0.3812004657650732,
          0.8621386798530359,
          -1.0317997889665491,
          -2.105577763733387,
          0.604368051637883,
          1.3785024498319072,
          -1.4906738998136213,
          -0.005277792437393877,
          0.9967361976326541,
          -1.3673910718301645,
          -0.10977136949279971,
          -0.5953982842754707,
          0.1860007397860299,
          1.1924455051673681,
          0.3676128077600115,
          -0.7766586207968474,
          0.1302866455942036,
          -0.2925619978758218,
          1.1126059122521699,
          -1.4217223065757478,
          -1.1241097246955072,
          -0.8164040494133138,
          -0.7540096772936119,
          0.3791695611574733,
          0.9490520805551402,
          -0.40971062506334494,
          0.9005435826101161,
          0.46392921363095735,
          0.23102212634003594,
          1.0865785939606485,
          1.4305345221229842,
          0.34084797401263633,
          -0.030888851300284265,
          0.17486758559954058,
          -0.6711197166289434,
          2.599187965375308,
          0.6263752513742433,
          0.6180370247657457,
          1.2680638021787283,
          2.3789965030675226,
          -1.0446268450076803,
          0.47632445881230345,
          0.9501238509412528,
          -0.8537991737916394,
          0.731521735345266,
          0.6084196715193544,
          1.5534834268955304,
          0.3749500243260987,
          -0.714605928485408,
          1.29945196980955,
          -0.4609787599219854,
          -0.5317687517854143,
          -0.43900882115612183,
          -0.06104875856549778,
          -1.1404600063013492,
          0.9170010691017919,
          -0.7362534089558578,
          -0.8455212449608114,
          0.05782469041110582,
          -0.11944713690184494,
          1.7355595492838432,
          -1.7970157731577507,
          -0.3730788606644096,
          0.023009405817685354,
          -0.2315156716542146,
          0.27912540287718846,
          -1.3705966662852875,
          0.7472522733767284,
          0.9005176103378513,
          0.716327290283002,
          1.314555991394918,
          0.7221539987053497,
          1.1394467201828706,
          -0.04431566287321239,
          0.7376141042686286
         ],
         "yaxis": "y8"
        },
        {
         "line": {
          "color": "rgba(128, 128, 128, 1.0)",
          "dash": "solid",
          "shape": "linear",
          "width": 1.3
         },
         "marker": {
          "size": 2,
          "symbol": "circle"
         },
         "mode": "markers",
         "name": "C",
         "text": "",
         "type": "scatter",
         "x": [
          0.4445124197588715,
          0.36205035415301395,
          0.3969041084990429,
          0.2692407675647294,
          -0.5731606881463372,
          -0.6626695566494553,
          -1.1885826763594174,
          1.1797061124639112,
          -0.12435335510677673,
          0.02131024946466258,
          -0.841044462996525,
          -0.7164275059953222,
          0.17357181330712826,
          -0.8666452183680738,
          -0.3122159075440176,
          1.1051992640591732,
          1.950567433402343,
          -1.16047114413995,
          1.270472855864974,
          0.2662445207587512,
          1.3984741432546657,
          0.1574760328512065,
          0.767697269586301,
          1.420591922414267,
          -0.6907202729510498,
          -1.247031761337001,
          -0.38091327734497743,
          0.05116497342890384,
          0.9840904247169046,
          0.29858165515039153,
          -0.2727524510094896,
          -0.21048960143603254,
          0.7139673740857022,
          -0.16023385797409334,
          0.9116261929654899,
          1.4252147908541768,
          -0.8088052527987842,
          1.2167057276698943,
          0.036192051055108504,
          2.3766711632322077,
          -0.8142601028756642,
          1.32285717439343,
          0.7936294163094557,
          -0.5276244168656109,
          -1.347509840579922,
          -1.7445807289925739,
          0.8712960228407316,
          -0.06401887917664259,
          -1.5504797338463046,
          0.8540304950184063,
          -1.3421184144641287,
          0.10154010306848567,
          -0.6916852085852078,
          0.17189917595550383,
          -0.9701019835518537,
          -0.8945692078511854,
          0.5883075904339918,
          0.8506104769036922,
          1.127153818649054,
          -0.4998541777616691,
          -0.02584876008149694,
          -0.432161143303004,
          2.28206533433616,
          -0.5690629153889168,
          -0.4248077276824574,
          -0.3231749483169146,
          -1.1748112767116616,
          0.12788748462071864,
          2.278384498085381,
          -1.6168076480904043,
          1.3173421558532104,
          -1.0653696753546293,
          -0.1504040147443646,
          -1.5231003219007477,
          1.0731865248776302,
          0.3161981373329008,
          0.6179130628258113,
          -1.2322386008952155,
          0.1982437126589551,
          0.171516596799887,
          1.3244963151549742,
          0.6997770867168803,
          0.1578956838629729,
          -1.4556748030418778,
          0.14849228957824614,
          -0.25687658016777665,
          0.1990906077208847,
          -0.23739319765976388,
          1.6743456830520078,
          0.5740378449463213,
          -0.4880763235958073,
          0.4152351549788122,
          -1.4233924220357441,
          0.07106839796078257,
          -0.5458215202047584,
          -1.4029215223122031,
          -2.4160886328514204,
          -0.04674227495362861,
          -0.5797592925690125,
          -0.9780300391295116
         ],
         "xaxis": "x9",
         "y": [
          0.9807202405967048,
          0.06495934404745805,
          -0.36682147770856943,
          -0.03597147010170788,
          2.1039528829009124,
          -1.5766739284455658,
          -1.1523546889529963,
          -1.1510872009401658,
          1.686930363727718,
          0.5265043771420701,
          -1.7187176185982018,
          -0.9877567758021711,
          -0.7327543358738599,
          0.332808644967014,
          -1.856617786700503,
          -0.45638126738036017,
          0.4460852412061715,
          -0.40996733914086586,
          0.042717201837724816,
          -0.12187741157722422,
          -0.22605524339259625,
          0.2176577099014336,
          -1.2837818839757584,
          -1.3770152656825976,
          -0.7235662131699643,
          -1.2090540160685892,
          0.39533234681095536,
          0.8228003993393653,
          0.7500775250178906,
          -1.0255554792691635,
          0.9399257491761793,
          1.079798576095632,
          0.839267967223954,
          -0.7868332199991667,
          0.21077910161394361,
          0.3743187524285486,
          -1.6546919410058585,
          0.6724483751510884,
          1.1756475225320373,
          0.41393043279159175,
          -0.0971822763322198,
          -0.7432920169061518,
          -0.18528439091173143,
          -0.39671892843418255,
          0.9750242323326788,
          -0.3156222581854717,
          1.302174739723842,
          0.4202131355178396,
          -0.18633489367649939,
          -0.12720880018978345,
          -0.8711809019783133,
          -1.4766128096061217,
          -2.9718066897234943,
          -0.3730078469092899,
          0.2571386101034309,
          -2.038430992628252,
          -0.8801763818152201,
          0.48766939523518743,
          0.6740086985274447,
          0.19698181022628747,
          0.4588520921724877,
          -0.05493837425086435,
          2.020688845273047,
          1.3837995491160617,
          1.3627531794926535,
          -0.2663999994879829,
          -0.31855408254638695,
          -0.3221482173404135,
          -1.0813733215424397,
          -0.07456682600096277,
          0.022270478528954966,
          -0.7687901778206974,
          0.20211356333211608,
          -0.3466042862672192,
          -0.29770401786177253,
          1.924068981184556,
          0.4166026305574222,
          0.7130618514834973,
          0.7549500289198516,
          0.7480435567616913,
          0.18099971650917926,
          0.055100961271098196,
          0.5338230256264612,
          -1.480283918840456,
          0.5406354071262564,
          -0.5865582807982657,
          -0.02765724334386302,
          -0.6877356155092275,
          -0.3299348292003524,
          0.5270083935750511,
          -1.4009279263124652,
          1.204185223817746,
          2.0002342727662876,
          0.8552937941245979,
          0.6689086788392139,
          -0.1780437572272499,
          1.4610352690906416,
          -0.7883153342248242,
          1.4101027377035793,
          -0.9173861802927062
         ],
         "yaxis": "y9"
        },
        {
         "line": {
          "color": "rgba(128, 128, 128, 1.0)",
          "dash": "solid",
          "shape": "linear",
          "width": 1.3
         },
         "marker": {
          "size": 2,
          "symbol": "circle"
         },
         "mode": "markers",
         "name": "C",
         "text": "",
         "type": "scatter",
         "x": [
          -0.6974834492785861,
          0.5265707753982296,
          -0.07776827797428544,
          -0.5339451906699878,
          -0.7790302886665752,
          -0.7351560296443709,
          0.8085339624996511,
          0.6361945592305132,
          -0.6748913130970792,
          -0.6066952483827125,
          -0.6754438189189058,
          -1.0340066774333512,
          -0.24645264271902192,
          -1.1560839085862804,
          -1.025524281547767,
          -0.9497546642265557,
          -0.21541367777889847,
          0.12195429227566948,
          -1.1704344014413213,
          0.012309507826049594,
          0.13356214797549099,
          0.20033088561699652,
          -0.5825604239393043,
          0.008094169057354685,
          2.30326975138563,
          0.3812004657650732,
          0.8621386798530359,
          -1.0317997889665491,
          -2.105577763733387,
          0.604368051637883,
          1.3785024498319072,
          -1.4906738998136213,
          -0.005277792437393877,
          0.9967361976326541,
          -1.3673910718301645,
          -0.10977136949279971,
          -0.5953982842754707,
          0.1860007397860299,
          1.1924455051673681,
          0.3676128077600115,
          -0.7766586207968474,
          0.1302866455942036,
          -0.2925619978758218,
          1.1126059122521699,
          -1.4217223065757478,
          -1.1241097246955072,
          -0.8164040494133138,
          -0.7540096772936119,
          0.3791695611574733,
          0.9490520805551402,
          -0.40971062506334494,
          0.9005435826101161,
          0.46392921363095735,
          0.23102212634003594,
          1.0865785939606485,
          1.4305345221229842,
          0.34084797401263633,
          -0.030888851300284265,
          0.17486758559954058,
          -0.6711197166289434,
          2.599187965375308,
          0.6263752513742433,
          0.6180370247657457,
          1.2680638021787283,
          2.3789965030675226,
          -1.0446268450076803,
          0.47632445881230345,
          0.9501238509412528,
          -0.8537991737916394,
          0.731521735345266,
          0.6084196715193544,
          1.5534834268955304,
          0.3749500243260987,
          -0.714605928485408,
          1.29945196980955,
          -0.4609787599219854,
          -0.5317687517854143,
          -0.43900882115612183,
          -0.06104875856549778,
          -1.1404600063013492,
          0.9170010691017919,
          -0.7362534089558578,
          -0.8455212449608114,
          0.05782469041110582,
          -0.11944713690184494,
          1.7355595492838432,
          -1.7970157731577507,
          -0.3730788606644096,
          0.023009405817685354,
          -0.2315156716542146,
          0.27912540287718846,
          -1.3705966662852875,
          0.7472522733767284,
          0.9005176103378513,
          0.716327290283002,
          1.314555991394918,
          0.7221539987053497,
          1.1394467201828706,
          -0.04431566287321239,
          0.7376141042686286
         ],
         "xaxis": "x10",
         "y": [
          0.9807202405967048,
          0.06495934404745805,
          -0.36682147770856943,
          -0.03597147010170788,
          2.1039528829009124,
          -1.5766739284455658,
          -1.1523546889529963,
          -1.1510872009401658,
          1.686930363727718,
          0.5265043771420701,
          -1.7187176185982018,
          -0.9877567758021711,
          -0.7327543358738599,
          0.332808644967014,
          -1.856617786700503,
          -0.45638126738036017,
          0.4460852412061715,
          -0.40996733914086586,
          0.042717201837724816,
          -0.12187741157722422,
          -0.22605524339259625,
          0.2176577099014336,
          -1.2837818839757584,
          -1.3770152656825976,
          -0.7235662131699643,
          -1.2090540160685892,
          0.39533234681095536,
          0.8228003993393653,
          0.7500775250178906,
          -1.0255554792691635,
          0.9399257491761793,
          1.079798576095632,
          0.839267967223954,
          -0.7868332199991667,
          0.21077910161394361,
          0.3743187524285486,
          -1.6546919410058585,
          0.6724483751510884,
          1.1756475225320373,
          0.41393043279159175,
          -0.0971822763322198,
          -0.7432920169061518,
          -0.18528439091173143,
          -0.39671892843418255,
          0.9750242323326788,
          -0.3156222581854717,
          1.302174739723842,
          0.4202131355178396,
          -0.18633489367649939,
          -0.12720880018978345,
          -0.8711809019783133,
          -1.4766128096061217,
          -2.9718066897234943,
          -0.3730078469092899,
          0.2571386101034309,
          -2.038430992628252,
          -0.8801763818152201,
          0.48766939523518743,
          0.6740086985274447,
          0.19698181022628747,
          0.4588520921724877,
          -0.05493837425086435,
          2.020688845273047,
          1.3837995491160617,
          1.3627531794926535,
          -0.2663999994879829,
          -0.31855408254638695,
          -0.3221482173404135,
          -1.0813733215424397,
          -0.07456682600096277,
          0.022270478528954966,
          -0.7687901778206974,
          0.20211356333211608,
          -0.3466042862672192,
          -0.29770401786177253,
          1.924068981184556,
          0.4166026305574222,
          0.7130618514834973,
          0.7549500289198516,
          0.7480435567616913,
          0.18099971650917926,
          0.055100961271098196,
          0.5338230256264612,
          -1.480283918840456,
          0.5406354071262564,
          -0.5865582807982657,
          -0.02765724334386302,
          -0.6877356155092275,
          -0.3299348292003524,
          0.5270083935750511,
          -1.4009279263124652,
          1.204185223817746,
          2.0002342727662876,
          0.8552937941245979,
          0.6689086788392139,
          -0.1780437572272499,
          1.4610352690906416,
          -0.7883153342248242,
          1.4101027377035793,
          -0.9173861802927062
         ],
         "yaxis": "y10"
        },
        {
         "histfunc": "count",
         "histnorm": "",
         "marker": {
          "color": "rgba(50, 171, 96, 1.0)",
          "line": {
           "color": "#4D5663",
           "width": 1.3
          }
         },
         "name": "C",
         "nbinsx": 10,
         "opacity": 0.8,
         "orientation": "v",
         "type": "histogram",
         "x": [
          0.9807202405967048,
          0.06495934404745805,
          -0.36682147770856943,
          -0.03597147010170788,
          2.1039528829009124,
          -1.5766739284455658,
          -1.1523546889529963,
          -1.1510872009401658,
          1.686930363727718,
          0.5265043771420701,
          -1.7187176185982018,
          -0.9877567758021711,
          -0.7327543358738599,
          0.332808644967014,
          -1.856617786700503,
          -0.45638126738036017,
          0.4460852412061715,
          -0.40996733914086586,
          0.042717201837724816,
          -0.12187741157722422,
          -0.22605524339259625,
          0.2176577099014336,
          -1.2837818839757584,
          -1.3770152656825976,
          -0.7235662131699643,
          -1.2090540160685892,
          0.39533234681095536,
          0.8228003993393653,
          0.7500775250178906,
          -1.0255554792691635,
          0.9399257491761793,
          1.079798576095632,
          0.839267967223954,
          -0.7868332199991667,
          0.21077910161394361,
          0.3743187524285486,
          -1.6546919410058585,
          0.6724483751510884,
          1.1756475225320373,
          0.41393043279159175,
          -0.0971822763322198,
          -0.7432920169061518,
          -0.18528439091173143,
          -0.39671892843418255,
          0.9750242323326788,
          -0.3156222581854717,
          1.302174739723842,
          0.4202131355178396,
          -0.18633489367649939,
          -0.12720880018978345,
          -0.8711809019783133,
          -1.4766128096061217,
          -2.9718066897234943,
          -0.3730078469092899,
          0.2571386101034309,
          -2.038430992628252,
          -0.8801763818152201,
          0.48766939523518743,
          0.6740086985274447,
          0.19698181022628747,
          0.4588520921724877,
          -0.05493837425086435,
          2.020688845273047,
          1.3837995491160617,
          1.3627531794926535,
          -0.2663999994879829,
          -0.31855408254638695,
          -0.3221482173404135,
          -1.0813733215424397,
          -0.07456682600096277,
          0.022270478528954966,
          -0.7687901778206974,
          0.20211356333211608,
          -0.3466042862672192,
          -0.29770401786177253,
          1.924068981184556,
          0.4166026305574222,
          0.7130618514834973,
          0.7549500289198516,
          0.7480435567616913,
          0.18099971650917926,
          0.055100961271098196,
          0.5338230256264612,
          -1.480283918840456,
          0.5406354071262564,
          -0.5865582807982657,
          -0.02765724334386302,
          -0.6877356155092275,
          -0.3299348292003524,
          0.5270083935750511,
          -1.4009279263124652,
          1.204185223817746,
          2.0002342727662876,
          0.8552937941245979,
          0.6689086788392139,
          -0.1780437572272499,
          1.4610352690906416,
          -0.7883153342248242,
          1.4101027377035793,
          -0.9173861802927062
         ],
         "xaxis": "x11",
         "yaxis": "y11"
        },
        {
         "line": {
          "color": "rgba(128, 128, 128, 1.0)",
          "dash": "solid",
          "shape": "linear",
          "width": 1.3
         },
         "marker": {
          "size": 2,
          "symbol": "circle"
         },
         "mode": "markers",
         "name": "C",
         "text": "",
         "type": "scatter",
         "x": [
          1.9123971090410545,
          0.20731978815254576,
          0.5480827947183378,
          -0.3125002179614214,
          -0.08695658497105009,
          -0.01143451325044511,
          -0.057680403919281496,
          -0.31953374555578895,
          0.12392089659460419,
          -1.8421489172772836,
          -1.1973955447982725,
          -2.0745532732852388,
          0.3088064937003683,
          -1.88873465987546,
          1.2066647717665306,
          -0.1512762433495319,
          -0.09342382578583544,
          -0.7107802075648229,
          0.98216585539338,
          0.1116443404998465,
          -0.5360503670606694,
          2.4069270699389325,
          -0.021835613821789564,
          -0.49051914720565176,
          2.52967452460814,
          -0.9614231704468748,
          -0.8636148280761206,
          2.0885718885887754,
          0.3567419175718976,
          2.2417162616504847,
          -0.3499805216568416,
          -0.06246377941350967,
          -0.9130307249543688,
          0.21672128232587234,
          0.3039601406357903,
          -0.3704024048918782,
          -0.4397341667328155,
          0.23626815942283505,
          -1.4165159388518738,
          0.24582637557137516,
          -2.895481841382021,
          -0.2673316098678332,
          -0.25801794151144847,
          1.3785710450412867,
          0.04305953878120779,
          -1.2029740616305302,
          -0.09369581345893953,
          0.9202911146342643,
          -1.2328477698406155,
          0.05888192109937479,
          0.33780081544485774,
          -0.9034069829121224,
          -0.4332288623391349,
          -1.2997925902979068,
          -0.9074637038793495,
          0.9532595230516671,
          -1.4513336342172545,
          -0.7221190490653255,
          0.860961107203073,
          -0.05283710819885914,
          1.7303941172129738,
          1.7386693550314218,
          0.7012970466600155,
          0.08776671116031264,
          1.3522260576402978,
          0.778900077142074,
          -1.1409396494552497,
          -2.5364866220234843,
          -0.9973799889857837,
          -2.3776600537860113,
          0.4322804782784286,
          0.20605848574637545,
          0.2084998309889521,
          0.4087986192576177,
          -1.0102839482906854,
          -1.3051723098783508,
          -0.4375940788817426,
          -0.21158832117656054,
          -1.4183347586119168,
          -0.12368052903158491,
          0.8201793634509791,
          -0.24906131242964358,
          -0.21803405254034677,
          1.6263939571133907,
          -2.284314049583247,
          0.503167524977811,
          -0.08712443998053249,
          1.7862760752496967,
          0.0006600808731873957,
          0.3160566148437891,
          0.0008923865318643821,
          -0.9948516732251163,
          0.6204463199668159,
          -2.1183081564092183,
          0.7936393425462959,
          -0.07123068766319275,
          0.1409696217829003,
          1.1005028839776765,
          -1.2672538010458028,
          -1.2372320331073614
         ],
         "xaxis": "x12",
         "y": [
          0.9807202405967048,
          0.06495934404745805,
          -0.36682147770856943,
          -0.03597147010170788,
          2.1039528829009124,
          -1.5766739284455658,
          -1.1523546889529963,
          -1.1510872009401658,
          1.686930363727718,
          0.5265043771420701,
          -1.7187176185982018,
          -0.9877567758021711,
          -0.7327543358738599,
          0.332808644967014,
          -1.856617786700503,
          -0.45638126738036017,
          0.4460852412061715,
          -0.40996733914086586,
          0.042717201837724816,
          -0.12187741157722422,
          -0.22605524339259625,
          0.2176577099014336,
          -1.2837818839757584,
          -1.3770152656825976,
          -0.7235662131699643,
          -1.2090540160685892,
          0.39533234681095536,
          0.8228003993393653,
          0.7500775250178906,
          -1.0255554792691635,
          0.9399257491761793,
          1.079798576095632,
          0.839267967223954,
          -0.7868332199991667,
          0.21077910161394361,
          0.3743187524285486,
          -1.6546919410058585,
          0.6724483751510884,
          1.1756475225320373,
          0.41393043279159175,
          -0.0971822763322198,
          -0.7432920169061518,
          -0.18528439091173143,
          -0.39671892843418255,
          0.9750242323326788,
          -0.3156222581854717,
          1.302174739723842,
          0.4202131355178396,
          -0.18633489367649939,
          -0.12720880018978345,
          -0.8711809019783133,
          -1.4766128096061217,
          -2.9718066897234943,
          -0.3730078469092899,
          0.2571386101034309,
          -2.038430992628252,
          -0.8801763818152201,
          0.48766939523518743,
          0.6740086985274447,
          0.19698181022628747,
          0.4588520921724877,
          -0.05493837425086435,
          2.020688845273047,
          1.3837995491160617,
          1.3627531794926535,
          -0.2663999994879829,
          -0.31855408254638695,
          -0.3221482173404135,
          -1.0813733215424397,
          -0.07456682600096277,
          0.022270478528954966,
          -0.7687901778206974,
          0.20211356333211608,
          -0.3466042862672192,
          -0.29770401786177253,
          1.924068981184556,
          0.4166026305574222,
          0.7130618514834973,
          0.7549500289198516,
          0.7480435567616913,
          0.18099971650917926,
          0.055100961271098196,
          0.5338230256264612,
          -1.480283918840456,
          0.5406354071262564,
          -0.5865582807982657,
          -0.02765724334386302,
          -0.6877356155092275,
          -0.3299348292003524,
          0.5270083935750511,
          -1.4009279263124652,
          1.204185223817746,
          2.0002342727662876,
          0.8552937941245979,
          0.6689086788392139,
          -0.1780437572272499,
          1.4610352690906416,
          -0.7883153342248242,
          1.4101027377035793,
          -0.9173861802927062
         ],
         "yaxis": "y12"
        },
        {
         "line": {
          "color": "rgba(128, 128, 128, 1.0)",
          "dash": "solid",
          "shape": "linear",
          "width": 1.3
         },
         "marker": {
          "size": 2,
          "symbol": "circle"
         },
         "mode": "markers",
         "name": "D",
         "text": "",
         "type": "scatter",
         "x": [
          0.4445124197588715,
          0.36205035415301395,
          0.3969041084990429,
          0.2692407675647294,
          -0.5731606881463372,
          -0.6626695566494553,
          -1.1885826763594174,
          1.1797061124639112,
          -0.12435335510677673,
          0.02131024946466258,
          -0.841044462996525,
          -0.7164275059953222,
          0.17357181330712826,
          -0.8666452183680738,
          -0.3122159075440176,
          1.1051992640591732,
          1.950567433402343,
          -1.16047114413995,
          1.270472855864974,
          0.2662445207587512,
          1.3984741432546657,
          0.1574760328512065,
          0.767697269586301,
          1.420591922414267,
          -0.6907202729510498,
          -1.247031761337001,
          -0.38091327734497743,
          0.05116497342890384,
          0.9840904247169046,
          0.29858165515039153,
          -0.2727524510094896,
          -0.21048960143603254,
          0.7139673740857022,
          -0.16023385797409334,
          0.9116261929654899,
          1.4252147908541768,
          -0.8088052527987842,
          1.2167057276698943,
          0.036192051055108504,
          2.3766711632322077,
          -0.8142601028756642,
          1.32285717439343,
          0.7936294163094557,
          -0.5276244168656109,
          -1.347509840579922,
          -1.7445807289925739,
          0.8712960228407316,
          -0.06401887917664259,
          -1.5504797338463046,
          0.8540304950184063,
          -1.3421184144641287,
          0.10154010306848567,
          -0.6916852085852078,
          0.17189917595550383,
          -0.9701019835518537,
          -0.8945692078511854,
          0.5883075904339918,
          0.8506104769036922,
          1.127153818649054,
          -0.4998541777616691,
          -0.02584876008149694,
          -0.432161143303004,
          2.28206533433616,
          -0.5690629153889168,
          -0.4248077276824574,
          -0.3231749483169146,
          -1.1748112767116616,
          0.12788748462071864,
          2.278384498085381,
          -1.6168076480904043,
          1.3173421558532104,
          -1.0653696753546293,
          -0.1504040147443646,
          -1.5231003219007477,
          1.0731865248776302,
          0.3161981373329008,
          0.6179130628258113,
          -1.2322386008952155,
          0.1982437126589551,
          0.171516596799887,
          1.3244963151549742,
          0.6997770867168803,
          0.1578956838629729,
          -1.4556748030418778,
          0.14849228957824614,
          -0.25687658016777665,
          0.1990906077208847,
          -0.23739319765976388,
          1.6743456830520078,
          0.5740378449463213,
          -0.4880763235958073,
          0.4152351549788122,
          -1.4233924220357441,
          0.07106839796078257,
          -0.5458215202047584,
          -1.4029215223122031,
          -2.4160886328514204,
          -0.04674227495362861,
          -0.5797592925690125,
          -0.9780300391295116
         ],
         "xaxis": "x13",
         "y": [
          1.9123971090410545,
          0.20731978815254576,
          0.5480827947183378,
          -0.3125002179614214,
          -0.08695658497105009,
          -0.01143451325044511,
          -0.057680403919281496,
          -0.31953374555578895,
          0.12392089659460419,
          -1.8421489172772836,
          -1.1973955447982725,
          -2.0745532732852388,
          0.3088064937003683,
          -1.88873465987546,
          1.2066647717665306,
          -0.1512762433495319,
          -0.09342382578583544,
          -0.7107802075648229,
          0.98216585539338,
          0.1116443404998465,
          -0.5360503670606694,
          2.4069270699389325,
          -0.021835613821789564,
          -0.49051914720565176,
          2.52967452460814,
          -0.9614231704468748,
          -0.8636148280761206,
          2.0885718885887754,
          0.3567419175718976,
          2.2417162616504847,
          -0.3499805216568416,
          -0.06246377941350967,
          -0.9130307249543688,
          0.21672128232587234,
          0.3039601406357903,
          -0.3704024048918782,
          -0.4397341667328155,
          0.23626815942283505,
          -1.4165159388518738,
          0.24582637557137516,
          -2.895481841382021,
          -0.2673316098678332,
          -0.25801794151144847,
          1.3785710450412867,
          0.04305953878120779,
          -1.2029740616305302,
          -0.09369581345893953,
          0.9202911146342643,
          -1.2328477698406155,
          0.05888192109937479,
          0.33780081544485774,
          -0.9034069829121224,
          -0.4332288623391349,
          -1.2997925902979068,
          -0.9074637038793495,
          0.9532595230516671,
          -1.4513336342172545,
          -0.7221190490653255,
          0.860961107203073,
          -0.05283710819885914,
          1.7303941172129738,
          1.7386693550314218,
          0.7012970466600155,
          0.08776671116031264,
          1.3522260576402978,
          0.778900077142074,
          -1.1409396494552497,
          -2.5364866220234843,
          -0.9973799889857837,
          -2.3776600537860113,
          0.4322804782784286,
          0.20605848574637545,
          0.2084998309889521,
          0.4087986192576177,
          -1.0102839482906854,
          -1.3051723098783508,
          -0.4375940788817426,
          -0.21158832117656054,
          -1.4183347586119168,
          -0.12368052903158491,
          0.8201793634509791,
          -0.24906131242964358,
          -0.21803405254034677,
          1.6263939571133907,
          -2.284314049583247,
          0.503167524977811,
          -0.08712443998053249,
          1.7862760752496967,
          0.0006600808731873957,
          0.3160566148437891,
          0.0008923865318643821,
          -0.9948516732251163,
          0.6204463199668159,
          -2.1183081564092183,
          0.7936393425462959,
          -0.07123068766319275,
          0.1409696217829003,
          1.1005028839776765,
          -1.2672538010458028,
          -1.2372320331073614
         ],
         "yaxis": "y13"
        },
        {
         "line": {
          "color": "rgba(128, 128, 128, 1.0)",
          "dash": "solid",
          "shape": "linear",
          "width": 1.3
         },
         "marker": {
          "size": 2,
          "symbol": "circle"
         },
         "mode": "markers",
         "name": "D",
         "text": "",
         "type": "scatter",
         "x": [
          -0.6974834492785861,
          0.5265707753982296,
          -0.07776827797428544,
          -0.5339451906699878,
          -0.7790302886665752,
          -0.7351560296443709,
          0.8085339624996511,
          0.6361945592305132,
          -0.6748913130970792,
          -0.6066952483827125,
          -0.6754438189189058,
          -1.0340066774333512,
          -0.24645264271902192,
          -1.1560839085862804,
          -1.025524281547767,
          -0.9497546642265557,
          -0.21541367777889847,
          0.12195429227566948,
          -1.1704344014413213,
          0.012309507826049594,
          0.13356214797549099,
          0.20033088561699652,
          -0.5825604239393043,
          0.008094169057354685,
          2.30326975138563,
          0.3812004657650732,
          0.8621386798530359,
          -1.0317997889665491,
          -2.105577763733387,
          0.604368051637883,
          1.3785024498319072,
          -1.4906738998136213,
          -0.005277792437393877,
          0.9967361976326541,
          -1.3673910718301645,
          -0.10977136949279971,
          -0.5953982842754707,
          0.1860007397860299,
          1.1924455051673681,
          0.3676128077600115,
          -0.7766586207968474,
          0.1302866455942036,
          -0.2925619978758218,
          1.1126059122521699,
          -1.4217223065757478,
          -1.1241097246955072,
          -0.8164040494133138,
          -0.7540096772936119,
          0.3791695611574733,
          0.9490520805551402,
          -0.40971062506334494,
          0.9005435826101161,
          0.46392921363095735,
          0.23102212634003594,
          1.0865785939606485,
          1.4305345221229842,
          0.34084797401263633,
          -0.030888851300284265,
          0.17486758559954058,
          -0.6711197166289434,
          2.599187965375308,
          0.6263752513742433,
          0.6180370247657457,
          1.2680638021787283,
          2.3789965030675226,
          -1.0446268450076803,
          0.47632445881230345,
          0.9501238509412528,
          -0.8537991737916394,
          0.731521735345266,
          0.6084196715193544,
          1.5534834268955304,
          0.3749500243260987,
          -0.714605928485408,
          1.29945196980955,
          -0.4609787599219854,
          -0.5317687517854143,
          -0.43900882115612183,
          -0.06104875856549778,
          -1.1404600063013492,
          0.9170010691017919,
          -0.7362534089558578,
          -0.8455212449608114,
          0.05782469041110582,
          -0.11944713690184494,
          1.7355595492838432,
          -1.7970157731577507,
          -0.3730788606644096,
          0.023009405817685354,
          -0.2315156716542146,
          0.27912540287718846,
          -1.3705966662852875,
          0.7472522733767284,
          0.9005176103378513,
          0.716327290283002,
          1.314555991394918,
          0.7221539987053497,
          1.1394467201828706,
          -0.04431566287321239,
          0.7376141042686286
         ],
         "xaxis": "x14",
         "y": [
          1.9123971090410545,
          0.20731978815254576,
          0.5480827947183378,
          -0.3125002179614214,
          -0.08695658497105009,
          -0.01143451325044511,
          -0.057680403919281496,
          -0.31953374555578895,
          0.12392089659460419,
          -1.8421489172772836,
          -1.1973955447982725,
          -2.0745532732852388,
          0.3088064937003683,
          -1.88873465987546,
          1.2066647717665306,
          -0.1512762433495319,
          -0.09342382578583544,
          -0.7107802075648229,
          0.98216585539338,
          0.1116443404998465,
          -0.5360503670606694,
          2.4069270699389325,
          -0.021835613821789564,
          -0.49051914720565176,
          2.52967452460814,
          -0.9614231704468748,
          -0.8636148280761206,
          2.0885718885887754,
          0.3567419175718976,
          2.2417162616504847,
          -0.3499805216568416,
          -0.06246377941350967,
          -0.9130307249543688,
          0.21672128232587234,
          0.3039601406357903,
          -0.3704024048918782,
          -0.4397341667328155,
          0.23626815942283505,
          -1.4165159388518738,
          0.24582637557137516,
          -2.895481841382021,
          -0.2673316098678332,
          -0.25801794151144847,
          1.3785710450412867,
          0.04305953878120779,
          -1.2029740616305302,
          -0.09369581345893953,
          0.9202911146342643,
          -1.2328477698406155,
          0.05888192109937479,
          0.33780081544485774,
          -0.9034069829121224,
          -0.4332288623391349,
          -1.2997925902979068,
          -0.9074637038793495,
          0.9532595230516671,
          -1.4513336342172545,
          -0.7221190490653255,
          0.860961107203073,
          -0.05283710819885914,
          1.7303941172129738,
          1.7386693550314218,
          0.7012970466600155,
          0.08776671116031264,
          1.3522260576402978,
          0.778900077142074,
          -1.1409396494552497,
          -2.5364866220234843,
          -0.9973799889857837,
          -2.3776600537860113,
          0.4322804782784286,
          0.20605848574637545,
          0.2084998309889521,
          0.4087986192576177,
          -1.0102839482906854,
          -1.3051723098783508,
          -0.4375940788817426,
          -0.21158832117656054,
          -1.4183347586119168,
          -0.12368052903158491,
          0.8201793634509791,
          -0.24906131242964358,
          -0.21803405254034677,
          1.6263939571133907,
          -2.284314049583247,
          0.503167524977811,
          -0.08712443998053249,
          1.7862760752496967,
          0.0006600808731873957,
          0.3160566148437891,
          0.0008923865318643821,
          -0.9948516732251163,
          0.6204463199668159,
          -2.1183081564092183,
          0.7936393425462959,
          -0.07123068766319275,
          0.1409696217829003,
          1.1005028839776765,
          -1.2672538010458028,
          -1.2372320331073614
         ],
         "yaxis": "y14"
        },
        {
         "line": {
          "color": "rgba(128, 128, 128, 1.0)",
          "dash": "solid",
          "shape": "linear",
          "width": 1.3
         },
         "marker": {
          "size": 2,
          "symbol": "circle"
         },
         "mode": "markers",
         "name": "D",
         "text": "",
         "type": "scatter",
         "x": [
          0.9807202405967048,
          0.06495934404745805,
          -0.36682147770856943,
          -0.03597147010170788,
          2.1039528829009124,
          -1.5766739284455658,
          -1.1523546889529963,
          -1.1510872009401658,
          1.686930363727718,
          0.5265043771420701,
          -1.7187176185982018,
          -0.9877567758021711,
          -0.7327543358738599,
          0.332808644967014,
          -1.856617786700503,
          -0.45638126738036017,
          0.4460852412061715,
          -0.40996733914086586,
          0.042717201837724816,
          -0.12187741157722422,
          -0.22605524339259625,
          0.2176577099014336,
          -1.2837818839757584,
          -1.3770152656825976,
          -0.7235662131699643,
          -1.2090540160685892,
          0.39533234681095536,
          0.8228003993393653,
          0.7500775250178906,
          -1.0255554792691635,
          0.9399257491761793,
          1.079798576095632,
          0.839267967223954,
          -0.7868332199991667,
          0.21077910161394361,
          0.3743187524285486,
          -1.6546919410058585,
          0.6724483751510884,
          1.1756475225320373,
          0.41393043279159175,
          -0.0971822763322198,
          -0.7432920169061518,
          -0.18528439091173143,
          -0.39671892843418255,
          0.9750242323326788,
          -0.3156222581854717,
          1.302174739723842,
          0.4202131355178396,
          -0.18633489367649939,
          -0.12720880018978345,
          -0.8711809019783133,
          -1.4766128096061217,
          -2.9718066897234943,
          -0.3730078469092899,
          0.2571386101034309,
          -2.038430992628252,
          -0.8801763818152201,
          0.48766939523518743,
          0.6740086985274447,
          0.19698181022628747,
          0.4588520921724877,
          -0.05493837425086435,
          2.020688845273047,
          1.3837995491160617,
          1.3627531794926535,
          -0.2663999994879829,
          -0.31855408254638695,
          -0.3221482173404135,
          -1.0813733215424397,
          -0.07456682600096277,
          0.022270478528954966,
          -0.7687901778206974,
          0.20211356333211608,
          -0.3466042862672192,
          -0.29770401786177253,
          1.924068981184556,
          0.4166026305574222,
          0.7130618514834973,
          0.7549500289198516,
          0.7480435567616913,
          0.18099971650917926,
          0.055100961271098196,
          0.5338230256264612,
          -1.480283918840456,
          0.5406354071262564,
          -0.5865582807982657,
          -0.02765724334386302,
          -0.6877356155092275,
          -0.3299348292003524,
          0.5270083935750511,
          -1.4009279263124652,
          1.204185223817746,
          2.0002342727662876,
          0.8552937941245979,
          0.6689086788392139,
          -0.1780437572272499,
          1.4610352690906416,
          -0.7883153342248242,
          1.4101027377035793,
          -0.9173861802927062
         ],
         "xaxis": "x15",
         "y": [
          1.9123971090410545,
          0.20731978815254576,
          0.5480827947183378,
          -0.3125002179614214,
          -0.08695658497105009,
          -0.01143451325044511,
          -0.057680403919281496,
          -0.31953374555578895,
          0.12392089659460419,
          -1.8421489172772836,
          -1.1973955447982725,
          -2.0745532732852388,
          0.3088064937003683,
          -1.88873465987546,
          1.2066647717665306,
          -0.1512762433495319,
          -0.09342382578583544,
          -0.7107802075648229,
          0.98216585539338,
          0.1116443404998465,
          -0.5360503670606694,
          2.4069270699389325,
          -0.021835613821789564,
          -0.49051914720565176,
          2.52967452460814,
          -0.9614231704468748,
          -0.8636148280761206,
          2.0885718885887754,
          0.3567419175718976,
          2.2417162616504847,
          -0.3499805216568416,
          -0.06246377941350967,
          -0.9130307249543688,
          0.21672128232587234,
          0.3039601406357903,
          -0.3704024048918782,
          -0.4397341667328155,
          0.23626815942283505,
          -1.4165159388518738,
          0.24582637557137516,
          -2.895481841382021,
          -0.2673316098678332,
          -0.25801794151144847,
          1.3785710450412867,
          0.04305953878120779,
          -1.2029740616305302,
          -0.09369581345893953,
          0.9202911146342643,
          -1.2328477698406155,
          0.05888192109937479,
          0.33780081544485774,
          -0.9034069829121224,
          -0.4332288623391349,
          -1.2997925902979068,
          -0.9074637038793495,
          0.9532595230516671,
          -1.4513336342172545,
          -0.7221190490653255,
          0.860961107203073,
          -0.05283710819885914,
          1.7303941172129738,
          1.7386693550314218,
          0.7012970466600155,
          0.08776671116031264,
          1.3522260576402978,
          0.778900077142074,
          -1.1409396494552497,
          -2.5364866220234843,
          -0.9973799889857837,
          -2.3776600537860113,
          0.4322804782784286,
          0.20605848574637545,
          0.2084998309889521,
          0.4087986192576177,
          -1.0102839482906854,
          -1.3051723098783508,
          -0.4375940788817426,
          -0.21158832117656054,
          -1.4183347586119168,
          -0.12368052903158491,
          0.8201793634509791,
          -0.24906131242964358,
          -0.21803405254034677,
          1.6263939571133907,
          -2.284314049583247,
          0.503167524977811,
          -0.08712443998053249,
          1.7862760752496967,
          0.0006600808731873957,
          0.3160566148437891,
          0.0008923865318643821,
          -0.9948516732251163,
          0.6204463199668159,
          -2.1183081564092183,
          0.7936393425462959,
          -0.07123068766319275,
          0.1409696217829003,
          1.1005028839776765,
          -1.2672538010458028,
          -1.2372320331073614
         ],
         "yaxis": "y15"
        },
        {
         "histfunc": "count",
         "histnorm": "",
         "marker": {
          "color": "rgba(128, 0, 128, 1.0)",
          "line": {
           "color": "#4D5663",
           "width": 1.3
          }
         },
         "name": "D",
         "nbinsx": 10,
         "opacity": 0.8,
         "orientation": "v",
         "type": "histogram",
         "x": [
          1.9123971090410545,
          0.20731978815254576,
          0.5480827947183378,
          -0.3125002179614214,
          -0.08695658497105009,
          -0.01143451325044511,
          -0.057680403919281496,
          -0.31953374555578895,
          0.12392089659460419,
          -1.8421489172772836,
          -1.1973955447982725,
          -2.0745532732852388,
          0.3088064937003683,
          -1.88873465987546,
          1.2066647717665306,
          -0.1512762433495319,
          -0.09342382578583544,
          -0.7107802075648229,
          0.98216585539338,
          0.1116443404998465,
          -0.5360503670606694,
          2.4069270699389325,
          -0.021835613821789564,
          -0.49051914720565176,
          2.52967452460814,
          -0.9614231704468748,
          -0.8636148280761206,
          2.0885718885887754,
          0.3567419175718976,
          2.2417162616504847,
          -0.3499805216568416,
          -0.06246377941350967,
          -0.9130307249543688,
          0.21672128232587234,
          0.3039601406357903,
          -0.3704024048918782,
          -0.4397341667328155,
          0.23626815942283505,
          -1.4165159388518738,
          0.24582637557137516,
          -2.895481841382021,
          -0.2673316098678332,
          -0.25801794151144847,
          1.3785710450412867,
          0.04305953878120779,
          -1.2029740616305302,
          -0.09369581345893953,
          0.9202911146342643,
          -1.2328477698406155,
          0.05888192109937479,
          0.33780081544485774,
          -0.9034069829121224,
          -0.4332288623391349,
          -1.2997925902979068,
          -0.9074637038793495,
          0.9532595230516671,
          -1.4513336342172545,
          -0.7221190490653255,
          0.860961107203073,
          -0.05283710819885914,
          1.7303941172129738,
          1.7386693550314218,
          0.7012970466600155,
          0.08776671116031264,
          1.3522260576402978,
          0.778900077142074,
          -1.1409396494552497,
          -2.5364866220234843,
          -0.9973799889857837,
          -2.3776600537860113,
          0.4322804782784286,
          0.20605848574637545,
          0.2084998309889521,
          0.4087986192576177,
          -1.0102839482906854,
          -1.3051723098783508,
          -0.4375940788817426,
          -0.21158832117656054,
          -1.4183347586119168,
          -0.12368052903158491,
          0.8201793634509791,
          -0.24906131242964358,
          -0.21803405254034677,
          1.6263939571133907,
          -2.284314049583247,
          0.503167524977811,
          -0.08712443998053249,
          1.7862760752496967,
          0.0006600808731873957,
          0.3160566148437891,
          0.0008923865318643821,
          -0.9948516732251163,
          0.6204463199668159,
          -2.1183081564092183,
          0.7936393425462959,
          -0.07123068766319275,
          0.1409696217829003,
          1.1005028839776765,
          -1.2672538010458028,
          -1.2372320331073614
         ],
         "xaxis": "x16",
         "yaxis": "y16"
        }
       ],
       "layout": {
        "bargap": 0.02,
        "legend": {
         "bgcolor": "#F5F6F9",
         "font": {
          "color": "#4D5663"
         }
        },
        "paper_bgcolor": "#F5F6F9",
        "plot_bgcolor": "#F5F6F9",
        "showlegend": false,
        "template": {
         "data": {
          "bar": [
           {
            "error_x": {
             "color": "#2a3f5f"
            },
            "error_y": {
             "color": "#2a3f5f"
            },
            "marker": {
             "line": {
              "color": "#E5ECF6",
              "width": 0.5
             }
            },
            "type": "bar"
           }
          ],
          "barpolar": [
           {
            "marker": {
             "line": {
              "color": "#E5ECF6",
              "width": 0.5
             }
            },
            "type": "barpolar"
           }
          ],
          "carpet": [
           {
            "aaxis": {
             "endlinecolor": "#2a3f5f",
             "gridcolor": "white",
             "linecolor": "white",
             "minorgridcolor": "white",
             "startlinecolor": "#2a3f5f"
            },
            "baxis": {
             "endlinecolor": "#2a3f5f",
             "gridcolor": "white",
             "linecolor": "white",
             "minorgridcolor": "white",
             "startlinecolor": "#2a3f5f"
            },
            "type": "carpet"
           }
          ],
          "choropleth": [
           {
            "colorbar": {
             "outlinewidth": 0,
             "ticks": ""
            },
            "type": "choropleth"
           }
          ],
          "contour": [
           {
            "colorbar": {
             "outlinewidth": 0,
             "ticks": ""
            },
            "colorscale": [
             [
              0,
              "#0d0887"
             ],
             [
              0.1111111111111111,
              "#46039f"
             ],
             [
              0.2222222222222222,
              "#7201a8"
             ],
             [
              0.3333333333333333,
              "#9c179e"
             ],
             [
              0.4444444444444444,
              "#bd3786"
             ],
             [
              0.5555555555555556,
              "#d8576b"
             ],
             [
              0.6666666666666666,
              "#ed7953"
             ],
             [
              0.7777777777777778,
              "#fb9f3a"
             ],
             [
              0.8888888888888888,
              "#fdca26"
             ],
             [
              1,
              "#f0f921"
             ]
            ],
            "type": "contour"
           }
          ],
          "contourcarpet": [
           {
            "colorbar": {
             "outlinewidth": 0,
             "ticks": ""
            },
            "type": "contourcarpet"
           }
          ],
          "heatmap": [
           {
            "colorbar": {
             "outlinewidth": 0,
             "ticks": ""
            },
            "colorscale": [
             [
              0,
              "#0d0887"
             ],
             [
              0.1111111111111111,
              "#46039f"
             ],
             [
              0.2222222222222222,
              "#7201a8"
             ],
             [
              0.3333333333333333,
              "#9c179e"
             ],
             [
              0.4444444444444444,
              "#bd3786"
             ],
             [
              0.5555555555555556,
              "#d8576b"
             ],
             [
              0.6666666666666666,
              "#ed7953"
             ],
             [
              0.7777777777777778,
              "#fb9f3a"
             ],
             [
              0.8888888888888888,
              "#fdca26"
             ],
             [
              1,
              "#f0f921"
             ]
            ],
            "type": "heatmap"
           }
          ],
          "heatmapgl": [
           {
            "colorbar": {
             "outlinewidth": 0,
             "ticks": ""
            },
            "colorscale": [
             [
              0,
              "#0d0887"
             ],
             [
              0.1111111111111111,
              "#46039f"
             ],
             [
              0.2222222222222222,
              "#7201a8"
             ],
             [
              0.3333333333333333,
              "#9c179e"
             ],
             [
              0.4444444444444444,
              "#bd3786"
             ],
             [
              0.5555555555555556,
              "#d8576b"
             ],
             [
              0.6666666666666666,
              "#ed7953"
             ],
             [
              0.7777777777777778,
              "#fb9f3a"
             ],
             [
              0.8888888888888888,
              "#fdca26"
             ],
             [
              1,
              "#f0f921"
             ]
            ],
            "type": "heatmapgl"
           }
          ],
          "histogram": [
           {
            "marker": {
             "colorbar": {
              "outlinewidth": 0,
              "ticks": ""
             }
            },
            "type": "histogram"
           }
          ],
          "histogram2d": [
           {
            "colorbar": {
             "outlinewidth": 0,
             "ticks": ""
            },
            "colorscale": [
             [
              0,
              "#0d0887"
             ],
             [
              0.1111111111111111,
              "#46039f"
             ],
             [
              0.2222222222222222,
              "#7201a8"
             ],
             [
              0.3333333333333333,
              "#9c179e"
             ],
             [
              0.4444444444444444,
              "#bd3786"
             ],
             [
              0.5555555555555556,
              "#d8576b"
             ],
             [
              0.6666666666666666,
              "#ed7953"
             ],
             [
              0.7777777777777778,
              "#fb9f3a"
             ],
             [
              0.8888888888888888,
              "#fdca26"
             ],
             [
              1,
              "#f0f921"
             ]
            ],
            "type": "histogram2d"
           }
          ],
          "histogram2dcontour": [
           {
            "colorbar": {
             "outlinewidth": 0,
             "ticks": ""
            },
            "colorscale": [
             [
              0,
              "#0d0887"
             ],
             [
              0.1111111111111111,
              "#46039f"
             ],
             [
              0.2222222222222222,
              "#7201a8"
             ],
             [
              0.3333333333333333,
              "#9c179e"
             ],
             [
              0.4444444444444444,
              "#bd3786"
             ],
             [
              0.5555555555555556,
              "#d8576b"
             ],
             [
              0.6666666666666666,
              "#ed7953"
             ],
             [
              0.7777777777777778,
              "#fb9f3a"
             ],
             [
              0.8888888888888888,
              "#fdca26"
             ],
             [
              1,
              "#f0f921"
             ]
            ],
            "type": "histogram2dcontour"
           }
          ],
          "mesh3d": [
           {
            "colorbar": {
             "outlinewidth": 0,
             "ticks": ""
            },
            "type": "mesh3d"
           }
          ],
          "parcoords": [
           {
            "line": {
             "colorbar": {
              "outlinewidth": 0,
              "ticks": ""
             }
            },
            "type": "parcoords"
           }
          ],
          "pie": [
           {
            "automargin": true,
            "type": "pie"
           }
          ],
          "scatter": [
           {
            "marker": {
             "colorbar": {
              "outlinewidth": 0,
              "ticks": ""
             }
            },
            "type": "scatter"
           }
          ],
          "scatter3d": [
           {
            "line": {
             "colorbar": {
              "outlinewidth": 0,
              "ticks": ""
             }
            },
            "marker": {
             "colorbar": {
              "outlinewidth": 0,
              "ticks": ""
             }
            },
            "type": "scatter3d"
           }
          ],
          "scattercarpet": [
           {
            "marker": {
             "colorbar": {
              "outlinewidth": 0,
              "ticks": ""
             }
            },
            "type": "scattercarpet"
           }
          ],
          "scattergeo": [
           {
            "marker": {
             "colorbar": {
              "outlinewidth": 0,
              "ticks": ""
             }
            },
            "type": "scattergeo"
           }
          ],
          "scattergl": [
           {
            "marker": {
             "colorbar": {
              "outlinewidth": 0,
              "ticks": ""
             }
            },
            "type": "scattergl"
           }
          ],
          "scattermapbox": [
           {
            "marker": {
             "colorbar": {
              "outlinewidth": 0,
              "ticks": ""
             }
            },
            "type": "scattermapbox"
           }
          ],
          "scatterpolar": [
           {
            "marker": {
             "colorbar": {
              "outlinewidth": 0,
              "ticks": ""
             }
            },
            "type": "scatterpolar"
           }
          ],
          "scatterpolargl": [
           {
            "marker": {
             "colorbar": {
              "outlinewidth": 0,
              "ticks": ""
             }
            },
            "type": "scatterpolargl"
           }
          ],
          "scatterternary": [
           {
            "marker": {
             "colorbar": {
              "outlinewidth": 0,
              "ticks": ""
             }
            },
            "type": "scatterternary"
           }
          ],
          "surface": [
           {
            "colorbar": {
             "outlinewidth": 0,
             "ticks": ""
            },
            "colorscale": [
             [
              0,
              "#0d0887"
             ],
             [
              0.1111111111111111,
              "#46039f"
             ],
             [
              0.2222222222222222,
              "#7201a8"
             ],
             [
              0.3333333333333333,
              "#9c179e"
             ],
             [
              0.4444444444444444,
              "#bd3786"
             ],
             [
              0.5555555555555556,
              "#d8576b"
             ],
             [
              0.6666666666666666,
              "#ed7953"
             ],
             [
              0.7777777777777778,
              "#fb9f3a"
             ],
             [
              0.8888888888888888,
              "#fdca26"
             ],
             [
              1,
              "#f0f921"
             ]
            ],
            "type": "surface"
           }
          ],
          "table": [
           {
            "cells": {
             "fill": {
              "color": "#EBF0F8"
             },
             "line": {
              "color": "white"
             }
            },
            "header": {
             "fill": {
              "color": "#C8D4E3"
             },
             "line": {
              "color": "white"
             }
            },
            "type": "table"
           }
          ]
         },
         "layout": {
          "annotationdefaults": {
           "arrowcolor": "#2a3f5f",
           "arrowhead": 0,
           "arrowwidth": 1
          },
          "autotypenumbers": "strict",
          "coloraxis": {
           "colorbar": {
            "outlinewidth": 0,
            "ticks": ""
           }
          },
          "colorscale": {
           "diverging": [
            [
             0,
             "#8e0152"
            ],
            [
             0.1,
             "#c51b7d"
            ],
            [
             0.2,
             "#de77ae"
            ],
            [
             0.3,
             "#f1b6da"
            ],
            [
             0.4,
             "#fde0ef"
            ],
            [
             0.5,
             "#f7f7f7"
            ],
            [
             0.6,
             "#e6f5d0"
            ],
            [
             0.7,
             "#b8e186"
            ],
            [
             0.8,
             "#7fbc41"
            ],
            [
             0.9,
             "#4d9221"
            ],
            [
             1,
             "#276419"
            ]
           ],
           "sequential": [
            [
             0,
             "#0d0887"
            ],
            [
             0.1111111111111111,
             "#46039f"
            ],
            [
             0.2222222222222222,
             "#7201a8"
            ],
            [
             0.3333333333333333,
             "#9c179e"
            ],
            [
             0.4444444444444444,
             "#bd3786"
            ],
            [
             0.5555555555555556,
             "#d8576b"
            ],
            [
             0.6666666666666666,
             "#ed7953"
            ],
            [
             0.7777777777777778,
             "#fb9f3a"
            ],
            [
             0.8888888888888888,
             "#fdca26"
            ],
            [
             1,
             "#f0f921"
            ]
           ],
           "sequentialminus": [
            [
             0,
             "#0d0887"
            ],
            [
             0.1111111111111111,
             "#46039f"
            ],
            [
             0.2222222222222222,
             "#7201a8"
            ],
            [
             0.3333333333333333,
             "#9c179e"
            ],
            [
             0.4444444444444444,
             "#bd3786"
            ],
            [
             0.5555555555555556,
             "#d8576b"
            ],
            [
             0.6666666666666666,
             "#ed7953"
            ],
            [
             0.7777777777777778,
             "#fb9f3a"
            ],
            [
             0.8888888888888888,
             "#fdca26"
            ],
            [
             1,
             "#f0f921"
            ]
           ]
          },
          "colorway": [
           "#636efa",
           "#EF553B",
           "#00cc96",
           "#ab63fa",
           "#FFA15A",
           "#19d3f3",
           "#FF6692",
           "#B6E880",
           "#FF97FF",
           "#FECB52"
          ],
          "font": {
           "color": "#2a3f5f"
          },
          "geo": {
           "bgcolor": "white",
           "lakecolor": "white",
           "landcolor": "#E5ECF6",
           "showlakes": true,
           "showland": true,
           "subunitcolor": "white"
          },
          "hoverlabel": {
           "align": "left"
          },
          "hovermode": "closest",
          "mapbox": {
           "style": "light"
          },
          "paper_bgcolor": "white",
          "plot_bgcolor": "#E5ECF6",
          "polar": {
           "angularaxis": {
            "gridcolor": "white",
            "linecolor": "white",
            "ticks": ""
           },
           "bgcolor": "#E5ECF6",
           "radialaxis": {
            "gridcolor": "white",
            "linecolor": "white",
            "ticks": ""
           }
          },
          "scene": {
           "xaxis": {
            "backgroundcolor": "#E5ECF6",
            "gridcolor": "white",
            "gridwidth": 2,
            "linecolor": "white",
            "showbackground": true,
            "ticks": "",
            "zerolinecolor": "white"
           },
           "yaxis": {
            "backgroundcolor": "#E5ECF6",
            "gridcolor": "white",
            "gridwidth": 2,
            "linecolor": "white",
            "showbackground": true,
            "ticks": "",
            "zerolinecolor": "white"
           },
           "zaxis": {
            "backgroundcolor": "#E5ECF6",
            "gridcolor": "white",
            "gridwidth": 2,
            "linecolor": "white",
            "showbackground": true,
            "ticks": "",
            "zerolinecolor": "white"
           }
          },
          "shapedefaults": {
           "line": {
            "color": "#2a3f5f"
           }
          },
          "ternary": {
           "aaxis": {
            "gridcolor": "white",
            "linecolor": "white",
            "ticks": ""
           },
           "baxis": {
            "gridcolor": "white",
            "linecolor": "white",
            "ticks": ""
           },
           "bgcolor": "#E5ECF6",
           "caxis": {
            "gridcolor": "white",
            "linecolor": "white",
            "ticks": ""
           }
          },
          "title": {
           "x": 0.05
          },
          "xaxis": {
           "automargin": true,
           "gridcolor": "white",
           "linecolor": "white",
           "ticks": "",
           "title": {
            "standoff": 15
           },
           "zerolinecolor": "white",
           "zerolinewidth": 2
          },
          "yaxis": {
           "automargin": true,
           "gridcolor": "white",
           "linecolor": "white",
           "ticks": "",
           "title": {
            "standoff": 15
           },
           "zerolinecolor": "white",
           "zerolinewidth": 2
          }
         }
        },
        "title": {
         "font": {
          "color": "#4D5663"
         }
        },
        "xaxis": {
         "anchor": "y",
         "domain": [
          0,
          0.2125
         ],
         "gridcolor": "#E1E5ED",
         "showgrid": false,
         "tickfont": {
          "color": "#4D5663"
         },
         "title": {
          "font": {
           "color": "#4D5663"
          },
          "text": ""
         },
         "zerolinecolor": "#E1E5ED"
        },
        "xaxis10": {
         "anchor": "y10",
         "domain": [
          0.2625,
          0.475
         ],
         "gridcolor": "#E1E5ED",
         "showgrid": false,
         "tickfont": {
          "color": "#4D5663"
         },
         "title": {
          "font": {
           "color": "#4D5663"
          },
          "text": ""
         },
         "zerolinecolor": "#E1E5ED"
        },
        "xaxis11": {
         "anchor": "y11",
         "domain": [
          0.525,
          0.7375
         ],
         "gridcolor": "#E1E5ED",
         "showgrid": false,
         "tickfont": {
          "color": "#4D5663"
         },
         "title": {
          "font": {
           "color": "#4D5663"
          },
          "text": ""
         },
         "zerolinecolor": "#E1E5ED"
        },
        "xaxis12": {
         "anchor": "y12",
         "domain": [
          0.7875,
          1
         ],
         "gridcolor": "#E1E5ED",
         "showgrid": false,
         "tickfont": {
          "color": "#4D5663"
         },
         "title": {
          "font": {
           "color": "#4D5663"
          },
          "text": ""
         },
         "zerolinecolor": "#E1E5ED"
        },
        "xaxis13": {
         "anchor": "y13",
         "domain": [
          0,
          0.2125
         ],
         "gridcolor": "#E1E5ED",
         "showgrid": false,
         "tickfont": {
          "color": "#4D5663"
         },
         "title": {
          "font": {
           "color": "#4D5663"
          },
          "text": ""
         },
         "zerolinecolor": "#E1E5ED"
        },
        "xaxis14": {
         "anchor": "y14",
         "domain": [
          0.2625,
          0.475
         ],
         "gridcolor": "#E1E5ED",
         "showgrid": false,
         "tickfont": {
          "color": "#4D5663"
         },
         "title": {
          "font": {
           "color": "#4D5663"
          },
          "text": ""
         },
         "zerolinecolor": "#E1E5ED"
        },
        "xaxis15": {
         "anchor": "y15",
         "domain": [
          0.525,
          0.7375
         ],
         "gridcolor": "#E1E5ED",
         "showgrid": false,
         "tickfont": {
          "color": "#4D5663"
         },
         "title": {
          "font": {
           "color": "#4D5663"
          },
          "text": ""
         },
         "zerolinecolor": "#E1E5ED"
        },
        "xaxis16": {
         "anchor": "y16",
         "domain": [
          0.7875,
          1
         ],
         "gridcolor": "#E1E5ED",
         "showgrid": false,
         "tickfont": {
          "color": "#4D5663"
         },
         "title": {
          "font": {
           "color": "#4D5663"
          },
          "text": ""
         },
         "zerolinecolor": "#E1E5ED"
        },
        "xaxis2": {
         "anchor": "y2",
         "domain": [
          0.2625,
          0.475
         ],
         "gridcolor": "#E1E5ED",
         "showgrid": false,
         "tickfont": {
          "color": "#4D5663"
         },
         "title": {
          "font": {
           "color": "#4D5663"
          },
          "text": ""
         },
         "zerolinecolor": "#E1E5ED"
        },
        "xaxis3": {
         "anchor": "y3",
         "domain": [
          0.525,
          0.7375
         ],
         "gridcolor": "#E1E5ED",
         "showgrid": false,
         "tickfont": {
          "color": "#4D5663"
         },
         "title": {
          "font": {
           "color": "#4D5663"
          },
          "text": ""
         },
         "zerolinecolor": "#E1E5ED"
        },
        "xaxis4": {
         "anchor": "y4",
         "domain": [
          0.7875,
          1
         ],
         "gridcolor": "#E1E5ED",
         "showgrid": false,
         "tickfont": {
          "color": "#4D5663"
         },
         "title": {
          "font": {
           "color": "#4D5663"
          },
          "text": ""
         },
         "zerolinecolor": "#E1E5ED"
        },
        "xaxis5": {
         "anchor": "y5",
         "domain": [
          0,
          0.2125
         ],
         "gridcolor": "#E1E5ED",
         "showgrid": false,
         "tickfont": {
          "color": "#4D5663"
         },
         "title": {
          "font": {
           "color": "#4D5663"
          },
          "text": ""
         },
         "zerolinecolor": "#E1E5ED"
        },
        "xaxis6": {
         "anchor": "y6",
         "domain": [
          0.2625,
          0.475
         ],
         "gridcolor": "#E1E5ED",
         "showgrid": false,
         "tickfont": {
          "color": "#4D5663"
         },
         "title": {
          "font": {
           "color": "#4D5663"
          },
          "text": ""
         },
         "zerolinecolor": "#E1E5ED"
        },
        "xaxis7": {
         "anchor": "y7",
         "domain": [
          0.525,
          0.7375
         ],
         "gridcolor": "#E1E5ED",
         "showgrid": false,
         "tickfont": {
          "color": "#4D5663"
         },
         "title": {
          "font": {
           "color": "#4D5663"
          },
          "text": ""
         },
         "zerolinecolor": "#E1E5ED"
        },
        "xaxis8": {
         "anchor": "y8",
         "domain": [
          0.7875,
          1
         ],
         "gridcolor": "#E1E5ED",
         "showgrid": false,
         "tickfont": {
          "color": "#4D5663"
         },
         "title": {
          "font": {
           "color": "#4D5663"
          },
          "text": ""
         },
         "zerolinecolor": "#E1E5ED"
        },
        "xaxis9": {
         "anchor": "y9",
         "domain": [
          0,
          0.2125
         ],
         "gridcolor": "#E1E5ED",
         "showgrid": false,
         "tickfont": {
          "color": "#4D5663"
         },
         "title": {
          "font": {
           "color": "#4D5663"
          },
          "text": ""
         },
         "zerolinecolor": "#E1E5ED"
        },
        "yaxis": {
         "anchor": "x",
         "domain": [
          0.8025,
          1
         ],
         "gridcolor": "#E1E5ED",
         "showgrid": false,
         "tickfont": {
          "color": "#4D5663"
         },
         "title": {
          "font": {
           "color": "#4D5663"
          },
          "text": ""
         },
         "zerolinecolor": "#E1E5ED"
        },
        "yaxis10": {
         "anchor": "x10",
         "domain": [
          0.2675,
          0.465
         ],
         "gridcolor": "#E1E5ED",
         "showgrid": false,
         "tickfont": {
          "color": "#4D5663"
         },
         "title": {
          "font": {
           "color": "#4D5663"
          },
          "text": ""
         },
         "zerolinecolor": "#E1E5ED"
        },
        "yaxis11": {
         "anchor": "x11",
         "domain": [
          0.2675,
          0.465
         ],
         "gridcolor": "#E1E5ED",
         "showgrid": false,
         "tickfont": {
          "color": "#4D5663"
         },
         "title": {
          "font": {
           "color": "#4D5663"
          },
          "text": ""
         },
         "zerolinecolor": "#E1E5ED"
        },
        "yaxis12": {
         "anchor": "x12",
         "domain": [
          0.2675,
          0.465
         ],
         "gridcolor": "#E1E5ED",
         "showgrid": false,
         "tickfont": {
          "color": "#4D5663"
         },
         "title": {
          "font": {
           "color": "#4D5663"
          },
          "text": ""
         },
         "zerolinecolor": "#E1E5ED"
        },
        "yaxis13": {
         "anchor": "x13",
         "domain": [
          0,
          0.1975
         ],
         "gridcolor": "#E1E5ED",
         "showgrid": false,
         "tickfont": {
          "color": "#4D5663"
         },
         "title": {
          "font": {
           "color": "#4D5663"
          },
          "text": ""
         },
         "zerolinecolor": "#E1E5ED"
        },
        "yaxis14": {
         "anchor": "x14",
         "domain": [
          0,
          0.1975
         ],
         "gridcolor": "#E1E5ED",
         "showgrid": false,
         "tickfont": {
          "color": "#4D5663"
         },
         "title": {
          "font": {
           "color": "#4D5663"
          },
          "text": ""
         },
         "zerolinecolor": "#E1E5ED"
        },
        "yaxis15": {
         "anchor": "x15",
         "domain": [
          0,
          0.1975
         ],
         "gridcolor": "#E1E5ED",
         "showgrid": false,
         "tickfont": {
          "color": "#4D5663"
         },
         "title": {
          "font": {
           "color": "#4D5663"
          },
          "text": ""
         },
         "zerolinecolor": "#E1E5ED"
        },
        "yaxis16": {
         "anchor": "x16",
         "domain": [
          0,
          0.1975
         ],
         "gridcolor": "#E1E5ED",
         "showgrid": false,
         "tickfont": {
          "color": "#4D5663"
         },
         "title": {
          "font": {
           "color": "#4D5663"
          },
          "text": ""
         },
         "zerolinecolor": "#E1E5ED"
        },
        "yaxis2": {
         "anchor": "x2",
         "domain": [
          0.8025,
          1
         ],
         "gridcolor": "#E1E5ED",
         "showgrid": false,
         "tickfont": {
          "color": "#4D5663"
         },
         "title": {
          "font": {
           "color": "#4D5663"
          },
          "text": ""
         },
         "zerolinecolor": "#E1E5ED"
        },
        "yaxis3": {
         "anchor": "x3",
         "domain": [
          0.8025,
          1
         ],
         "gridcolor": "#E1E5ED",
         "showgrid": false,
         "tickfont": {
          "color": "#4D5663"
         },
         "title": {
          "font": {
           "color": "#4D5663"
          },
          "text": ""
         },
         "zerolinecolor": "#E1E5ED"
        },
        "yaxis4": {
         "anchor": "x4",
         "domain": [
          0.8025,
          1
         ],
         "gridcolor": "#E1E5ED",
         "showgrid": false,
         "tickfont": {
          "color": "#4D5663"
         },
         "title": {
          "font": {
           "color": "#4D5663"
          },
          "text": ""
         },
         "zerolinecolor": "#E1E5ED"
        },
        "yaxis5": {
         "anchor": "x5",
         "domain": [
          0.535,
          0.7325
         ],
         "gridcolor": "#E1E5ED",
         "showgrid": false,
         "tickfont": {
          "color": "#4D5663"
         },
         "title": {
          "font": {
           "color": "#4D5663"
          },
          "text": ""
         },
         "zerolinecolor": "#E1E5ED"
        },
        "yaxis6": {
         "anchor": "x6",
         "domain": [
          0.535,
          0.7325
         ],
         "gridcolor": "#E1E5ED",
         "showgrid": false,
         "tickfont": {
          "color": "#4D5663"
         },
         "title": {
          "font": {
           "color": "#4D5663"
          },
          "text": ""
         },
         "zerolinecolor": "#E1E5ED"
        },
        "yaxis7": {
         "anchor": "x7",
         "domain": [
          0.535,
          0.7325
         ],
         "gridcolor": "#E1E5ED",
         "showgrid": false,
         "tickfont": {
          "color": "#4D5663"
         },
         "title": {
          "font": {
           "color": "#4D5663"
          },
          "text": ""
         },
         "zerolinecolor": "#E1E5ED"
        },
        "yaxis8": {
         "anchor": "x8",
         "domain": [
          0.535,
          0.7325
         ],
         "gridcolor": "#E1E5ED",
         "showgrid": false,
         "tickfont": {
          "color": "#4D5663"
         },
         "title": {
          "font": {
           "color": "#4D5663"
          },
          "text": ""
         },
         "zerolinecolor": "#E1E5ED"
        },
        "yaxis9": {
         "anchor": "x9",
         "domain": [
          0.2675,
          0.465
         ],
         "gridcolor": "#E1E5ED",
         "showgrid": false,
         "tickfont": {
          "color": "#4D5663"
         },
         "title": {
          "font": {
           "color": "#4D5663"
          },
          "text": ""
         },
         "zerolinecolor": "#E1E5ED"
        }
       }
      },
      "text/html": [
       "<div>                            <div id=\"c495aedd-e75d-44c6-a0d9-8b7e0000f6e0\" class=\"plotly-graph-div\" style=\"height:525px; width:100%;\"></div>            <script type=\"text/javascript\">                require([\"plotly\"], function(Plotly) {                    window.PLOTLYENV=window.PLOTLYENV || {};\n",
       "                    window.PLOTLYENV.BASE_URL='https://plot.ly';                                    if (document.getElementById(\"c495aedd-e75d-44c6-a0d9-8b7e0000f6e0\")) {                    Plotly.newPlot(                        \"c495aedd-e75d-44c6-a0d9-8b7e0000f6e0\",                        [{\"histfunc\": \"count\", \"histnorm\": \"\", \"marker\": {\"color\": \"rgba(255, 153, 51, 1.0)\", \"line\": {\"color\": \"#4D5663\", \"width\": 1.3}}, \"name\": \"A\", \"nbinsx\": 10, \"opacity\": 0.8, \"orientation\": \"v\", \"type\": \"histogram\", \"x\": [0.4445124197588715, 0.36205035415301395, 0.3969041084990429, 0.2692407675647294, -0.5731606881463372, -0.6626695566494553, -1.1885826763594174, 1.1797061124639112, -0.12435335510677673, 0.02131024946466258, -0.841044462996525, -0.7164275059953222, 0.17357181330712826, -0.8666452183680738, -0.3122159075440176, 1.1051992640591732, 1.950567433402343, -1.16047114413995, 1.270472855864974, 0.2662445207587512, 1.3984741432546657, 0.1574760328512065, 0.767697269586301, 1.420591922414267, -0.6907202729510498, -1.247031761337001, -0.38091327734497743, 0.05116497342890384, 0.9840904247169046, 0.29858165515039153, -0.2727524510094896, -0.21048960143603254, 0.7139673740857022, -0.16023385797409334, 0.9116261929654899, 1.4252147908541768, -0.8088052527987842, 1.2167057276698943, 0.036192051055108504, 2.3766711632322077, -0.8142601028756642, 1.32285717439343, 0.7936294163094557, -0.5276244168656109, -1.347509840579922, -1.7445807289925739, 0.8712960228407316, -0.06401887917664259, -1.5504797338463046, 0.8540304950184063, -1.3421184144641287, 0.10154010306848567, -0.6916852085852078, 0.17189917595550383, -0.9701019835518537, -0.8945692078511854, 0.5883075904339918, 0.8506104769036922, 1.127153818649054, -0.4998541777616691, -0.02584876008149694, -0.432161143303004, 2.28206533433616, -0.5690629153889168, -0.4248077276824574, -0.3231749483169146, -1.1748112767116616, 0.12788748462071864, 2.278384498085381, -1.6168076480904043, 1.3173421558532104, -1.0653696753546293, -0.1504040147443646, -1.5231003219007477, 1.0731865248776302, 0.3161981373329008, 0.6179130628258113, -1.2322386008952155, 0.1982437126589551, 0.171516596799887, 1.3244963151549742, 0.6997770867168803, 0.1578956838629729, -1.4556748030418778, 0.14849228957824614, -0.25687658016777665, 0.1990906077208847, -0.23739319765976388, 1.6743456830520078, 0.5740378449463213, -0.4880763235958073, 0.4152351549788122, -1.4233924220357441, 0.07106839796078257, -0.5458215202047584, -1.4029215223122031, -2.4160886328514204, -0.04674227495362861, -0.5797592925690125, -0.9780300391295116], \"xaxis\": \"x\", \"yaxis\": \"y\"}, {\"line\": {\"color\": \"rgba(128, 128, 128, 1.0)\", \"dash\": \"solid\", \"shape\": \"linear\", \"width\": 1.3}, \"marker\": {\"size\": 2, \"symbol\": \"circle\"}, \"mode\": \"markers\", \"name\": \"A\", \"text\": \"\", \"type\": \"scatter\", \"x\": [-0.6974834492785861, 0.5265707753982296, -0.07776827797428544, -0.5339451906699878, -0.7790302886665752, -0.7351560296443709, 0.8085339624996511, 0.6361945592305132, -0.6748913130970792, -0.6066952483827125, -0.6754438189189058, -1.0340066774333512, -0.24645264271902192, -1.1560839085862804, -1.025524281547767, -0.9497546642265557, -0.21541367777889847, 0.12195429227566948, -1.1704344014413213, 0.012309507826049594, 0.13356214797549099, 0.20033088561699652, -0.5825604239393043, 0.008094169057354685, 2.30326975138563, 0.3812004657650732, 0.8621386798530359, -1.0317997889665491, -2.105577763733387, 0.604368051637883, 1.3785024498319072, -1.4906738998136213, -0.005277792437393877, 0.9967361976326541, -1.3673910718301645, -0.10977136949279971, -0.5953982842754707, 0.1860007397860299, 1.1924455051673681, 0.3676128077600115, -0.7766586207968474, 0.1302866455942036, -0.2925619978758218, 1.1126059122521699, -1.4217223065757478, -1.1241097246955072, -0.8164040494133138, -0.7540096772936119, 0.3791695611574733, 0.9490520805551402, -0.40971062506334494, 0.9005435826101161, 0.46392921363095735, 0.23102212634003594, 1.0865785939606485, 1.4305345221229842, 0.34084797401263633, -0.030888851300284265, 0.17486758559954058, -0.6711197166289434, 2.599187965375308, 0.6263752513742433, 0.6180370247657457, 1.2680638021787283, 2.3789965030675226, -1.0446268450076803, 0.47632445881230345, 0.9501238509412528, -0.8537991737916394, 0.731521735345266, 0.6084196715193544, 1.5534834268955304, 0.3749500243260987, -0.714605928485408, 1.29945196980955, -0.4609787599219854, -0.5317687517854143, -0.43900882115612183, -0.06104875856549778, -1.1404600063013492, 0.9170010691017919, -0.7362534089558578, -0.8455212449608114, 0.05782469041110582, -0.11944713690184494, 1.7355595492838432, -1.7970157731577507, -0.3730788606644096, 0.023009405817685354, -0.2315156716542146, 0.27912540287718846, -1.3705966662852875, 0.7472522733767284, 0.9005176103378513, 0.716327290283002, 1.314555991394918, 0.7221539987053497, 1.1394467201828706, -0.04431566287321239, 0.7376141042686286], \"xaxis\": \"x2\", \"y\": [0.4445124197588715, 0.36205035415301395, 0.3969041084990429, 0.2692407675647294, -0.5731606881463372, -0.6626695566494553, -1.1885826763594174, 1.1797061124639112, -0.12435335510677673, 0.02131024946466258, -0.841044462996525, -0.7164275059953222, 0.17357181330712826, -0.8666452183680738, -0.3122159075440176, 1.1051992640591732, 1.950567433402343, -1.16047114413995, 1.270472855864974, 0.2662445207587512, 1.3984741432546657, 0.1574760328512065, 0.767697269586301, 1.420591922414267, -0.6907202729510498, -1.247031761337001, -0.38091327734497743, 0.05116497342890384, 0.9840904247169046, 0.29858165515039153, -0.2727524510094896, -0.21048960143603254, 0.7139673740857022, -0.16023385797409334, 0.9116261929654899, 1.4252147908541768, -0.8088052527987842, 1.2167057276698943, 0.036192051055108504, 2.3766711632322077, -0.8142601028756642, 1.32285717439343, 0.7936294163094557, -0.5276244168656109, -1.347509840579922, -1.7445807289925739, 0.8712960228407316, -0.06401887917664259, -1.5504797338463046, 0.8540304950184063, -1.3421184144641287, 0.10154010306848567, -0.6916852085852078, 0.17189917595550383, -0.9701019835518537, -0.8945692078511854, 0.5883075904339918, 0.8506104769036922, 1.127153818649054, -0.4998541777616691, -0.02584876008149694, -0.432161143303004, 2.28206533433616, -0.5690629153889168, -0.4248077276824574, -0.3231749483169146, -1.1748112767116616, 0.12788748462071864, 2.278384498085381, -1.6168076480904043, 1.3173421558532104, -1.0653696753546293, -0.1504040147443646, -1.5231003219007477, 1.0731865248776302, 0.3161981373329008, 0.6179130628258113, -1.2322386008952155, 0.1982437126589551, 0.171516596799887, 1.3244963151549742, 0.6997770867168803, 0.1578956838629729, -1.4556748030418778, 0.14849228957824614, -0.25687658016777665, 0.1990906077208847, -0.23739319765976388, 1.6743456830520078, 0.5740378449463213, -0.4880763235958073, 0.4152351549788122, -1.4233924220357441, 0.07106839796078257, -0.5458215202047584, -1.4029215223122031, -2.4160886328514204, -0.04674227495362861, -0.5797592925690125, -0.9780300391295116], \"yaxis\": \"y2\"}, {\"line\": {\"color\": \"rgba(128, 128, 128, 1.0)\", \"dash\": \"solid\", \"shape\": \"linear\", \"width\": 1.3}, \"marker\": {\"size\": 2, \"symbol\": \"circle\"}, \"mode\": \"markers\", \"name\": \"A\", \"text\": \"\", \"type\": \"scatter\", \"x\": [0.9807202405967048, 0.06495934404745805, -0.36682147770856943, -0.03597147010170788, 2.1039528829009124, -1.5766739284455658, -1.1523546889529963, -1.1510872009401658, 1.686930363727718, 0.5265043771420701, -1.7187176185982018, -0.9877567758021711, -0.7327543358738599, 0.332808644967014, -1.856617786700503, -0.45638126738036017, 0.4460852412061715, -0.40996733914086586, 0.042717201837724816, -0.12187741157722422, -0.22605524339259625, 0.2176577099014336, -1.2837818839757584, -1.3770152656825976, -0.7235662131699643, -1.2090540160685892, 0.39533234681095536, 0.8228003993393653, 0.7500775250178906, -1.0255554792691635, 0.9399257491761793, 1.079798576095632, 0.839267967223954, -0.7868332199991667, 0.21077910161394361, 0.3743187524285486, -1.6546919410058585, 0.6724483751510884, 1.1756475225320373, 0.41393043279159175, -0.0971822763322198, -0.7432920169061518, -0.18528439091173143, -0.39671892843418255, 0.9750242323326788, -0.3156222581854717, 1.302174739723842, 0.4202131355178396, -0.18633489367649939, -0.12720880018978345, -0.8711809019783133, -1.4766128096061217, -2.9718066897234943, -0.3730078469092899, 0.2571386101034309, -2.038430992628252, -0.8801763818152201, 0.48766939523518743, 0.6740086985274447, 0.19698181022628747, 0.4588520921724877, -0.05493837425086435, 2.020688845273047, 1.3837995491160617, 1.3627531794926535, -0.2663999994879829, -0.31855408254638695, -0.3221482173404135, -1.0813733215424397, -0.07456682600096277, 0.022270478528954966, -0.7687901778206974, 0.20211356333211608, -0.3466042862672192, -0.29770401786177253, 1.924068981184556, 0.4166026305574222, 0.7130618514834973, 0.7549500289198516, 0.7480435567616913, 0.18099971650917926, 0.055100961271098196, 0.5338230256264612, -1.480283918840456, 0.5406354071262564, -0.5865582807982657, -0.02765724334386302, -0.6877356155092275, -0.3299348292003524, 0.5270083935750511, -1.4009279263124652, 1.204185223817746, 2.0002342727662876, 0.8552937941245979, 0.6689086788392139, -0.1780437572272499, 1.4610352690906416, -0.7883153342248242, 1.4101027377035793, -0.9173861802927062], \"xaxis\": \"x3\", \"y\": [0.4445124197588715, 0.36205035415301395, 0.3969041084990429, 0.2692407675647294, -0.5731606881463372, -0.6626695566494553, -1.1885826763594174, 1.1797061124639112, -0.12435335510677673, 0.02131024946466258, -0.841044462996525, -0.7164275059953222, 0.17357181330712826, -0.8666452183680738, -0.3122159075440176, 1.1051992640591732, 1.950567433402343, -1.16047114413995, 1.270472855864974, 0.2662445207587512, 1.3984741432546657, 0.1574760328512065, 0.767697269586301, 1.420591922414267, -0.6907202729510498, -1.247031761337001, -0.38091327734497743, 0.05116497342890384, 0.9840904247169046, 0.29858165515039153, -0.2727524510094896, -0.21048960143603254, 0.7139673740857022, -0.16023385797409334, 0.9116261929654899, 1.4252147908541768, -0.8088052527987842, 1.2167057276698943, 0.036192051055108504, 2.3766711632322077, -0.8142601028756642, 1.32285717439343, 0.7936294163094557, -0.5276244168656109, -1.347509840579922, -1.7445807289925739, 0.8712960228407316, -0.06401887917664259, -1.5504797338463046, 0.8540304950184063, -1.3421184144641287, 0.10154010306848567, -0.6916852085852078, 0.17189917595550383, -0.9701019835518537, -0.8945692078511854, 0.5883075904339918, 0.8506104769036922, 1.127153818649054, -0.4998541777616691, -0.02584876008149694, -0.432161143303004, 2.28206533433616, -0.5690629153889168, -0.4248077276824574, -0.3231749483169146, -1.1748112767116616, 0.12788748462071864, 2.278384498085381, -1.6168076480904043, 1.3173421558532104, -1.0653696753546293, -0.1504040147443646, -1.5231003219007477, 1.0731865248776302, 0.3161981373329008, 0.6179130628258113, -1.2322386008952155, 0.1982437126589551, 0.171516596799887, 1.3244963151549742, 0.6997770867168803, 0.1578956838629729, -1.4556748030418778, 0.14849228957824614, -0.25687658016777665, 0.1990906077208847, -0.23739319765976388, 1.6743456830520078, 0.5740378449463213, -0.4880763235958073, 0.4152351549788122, -1.4233924220357441, 0.07106839796078257, -0.5458215202047584, -1.4029215223122031, -2.4160886328514204, -0.04674227495362861, -0.5797592925690125, -0.9780300391295116], \"yaxis\": \"y3\"}, {\"line\": {\"color\": \"rgba(128, 128, 128, 1.0)\", \"dash\": \"solid\", \"shape\": \"linear\", \"width\": 1.3}, \"marker\": {\"size\": 2, \"symbol\": \"circle\"}, \"mode\": \"markers\", \"name\": \"A\", \"text\": \"\", \"type\": \"scatter\", \"x\": [1.9123971090410545, 0.20731978815254576, 0.5480827947183378, -0.3125002179614214, -0.08695658497105009, -0.01143451325044511, -0.057680403919281496, -0.31953374555578895, 0.12392089659460419, -1.8421489172772836, -1.1973955447982725, -2.0745532732852388, 0.3088064937003683, -1.88873465987546, 1.2066647717665306, -0.1512762433495319, -0.09342382578583544, -0.7107802075648229, 0.98216585539338, 0.1116443404998465, -0.5360503670606694, 2.4069270699389325, -0.021835613821789564, -0.49051914720565176, 2.52967452460814, -0.9614231704468748, -0.8636148280761206, 2.0885718885887754, 0.3567419175718976, 2.2417162616504847, -0.3499805216568416, -0.06246377941350967, -0.9130307249543688, 0.21672128232587234, 0.3039601406357903, -0.3704024048918782, -0.4397341667328155, 0.23626815942283505, -1.4165159388518738, 0.24582637557137516, -2.895481841382021, -0.2673316098678332, -0.25801794151144847, 1.3785710450412867, 0.04305953878120779, -1.2029740616305302, -0.09369581345893953, 0.9202911146342643, -1.2328477698406155, 0.05888192109937479, 0.33780081544485774, -0.9034069829121224, -0.4332288623391349, -1.2997925902979068, -0.9074637038793495, 0.9532595230516671, -1.4513336342172545, -0.7221190490653255, 0.860961107203073, -0.05283710819885914, 1.7303941172129738, 1.7386693550314218, 0.7012970466600155, 0.08776671116031264, 1.3522260576402978, 0.778900077142074, -1.1409396494552497, -2.5364866220234843, -0.9973799889857837, -2.3776600537860113, 0.4322804782784286, 0.20605848574637545, 0.2084998309889521, 0.4087986192576177, -1.0102839482906854, -1.3051723098783508, -0.4375940788817426, -0.21158832117656054, -1.4183347586119168, -0.12368052903158491, 0.8201793634509791, -0.24906131242964358, -0.21803405254034677, 1.6263939571133907, -2.284314049583247, 0.503167524977811, -0.08712443998053249, 1.7862760752496967, 0.0006600808731873957, 0.3160566148437891, 0.0008923865318643821, -0.9948516732251163, 0.6204463199668159, -2.1183081564092183, 0.7936393425462959, -0.07123068766319275, 0.1409696217829003, 1.1005028839776765, -1.2672538010458028, -1.2372320331073614], \"xaxis\": \"x4\", \"y\": [0.4445124197588715, 0.36205035415301395, 0.3969041084990429, 0.2692407675647294, -0.5731606881463372, -0.6626695566494553, -1.1885826763594174, 1.1797061124639112, -0.12435335510677673, 0.02131024946466258, -0.841044462996525, -0.7164275059953222, 0.17357181330712826, -0.8666452183680738, -0.3122159075440176, 1.1051992640591732, 1.950567433402343, -1.16047114413995, 1.270472855864974, 0.2662445207587512, 1.3984741432546657, 0.1574760328512065, 0.767697269586301, 1.420591922414267, -0.6907202729510498, -1.247031761337001, -0.38091327734497743, 0.05116497342890384, 0.9840904247169046, 0.29858165515039153, -0.2727524510094896, -0.21048960143603254, 0.7139673740857022, -0.16023385797409334, 0.9116261929654899, 1.4252147908541768, -0.8088052527987842, 1.2167057276698943, 0.036192051055108504, 2.3766711632322077, -0.8142601028756642, 1.32285717439343, 0.7936294163094557, -0.5276244168656109, -1.347509840579922, -1.7445807289925739, 0.8712960228407316, -0.06401887917664259, -1.5504797338463046, 0.8540304950184063, -1.3421184144641287, 0.10154010306848567, -0.6916852085852078, 0.17189917595550383, -0.9701019835518537, -0.8945692078511854, 0.5883075904339918, 0.8506104769036922, 1.127153818649054, -0.4998541777616691, -0.02584876008149694, -0.432161143303004, 2.28206533433616, -0.5690629153889168, -0.4248077276824574, -0.3231749483169146, -1.1748112767116616, 0.12788748462071864, 2.278384498085381, -1.6168076480904043, 1.3173421558532104, -1.0653696753546293, -0.1504040147443646, -1.5231003219007477, 1.0731865248776302, 0.3161981373329008, 0.6179130628258113, -1.2322386008952155, 0.1982437126589551, 0.171516596799887, 1.3244963151549742, 0.6997770867168803, 0.1578956838629729, -1.4556748030418778, 0.14849228957824614, -0.25687658016777665, 0.1990906077208847, -0.23739319765976388, 1.6743456830520078, 0.5740378449463213, -0.4880763235958073, 0.4152351549788122, -1.4233924220357441, 0.07106839796078257, -0.5458215202047584, -1.4029215223122031, -2.4160886328514204, -0.04674227495362861, -0.5797592925690125, -0.9780300391295116], \"yaxis\": \"y4\"}, {\"line\": {\"color\": \"rgba(128, 128, 128, 1.0)\", \"dash\": \"solid\", \"shape\": \"linear\", \"width\": 1.3}, \"marker\": {\"size\": 2, \"symbol\": \"circle\"}, \"mode\": \"markers\", \"name\": \"B\", \"text\": \"\", \"type\": \"scatter\", \"x\": [0.4445124197588715, 0.36205035415301395, 0.3969041084990429, 0.2692407675647294, -0.5731606881463372, -0.6626695566494553, -1.1885826763594174, 1.1797061124639112, -0.12435335510677673, 0.02131024946466258, -0.841044462996525, -0.7164275059953222, 0.17357181330712826, -0.8666452183680738, -0.3122159075440176, 1.1051992640591732, 1.950567433402343, -1.16047114413995, 1.270472855864974, 0.2662445207587512, 1.3984741432546657, 0.1574760328512065, 0.767697269586301, 1.420591922414267, -0.6907202729510498, -1.247031761337001, -0.38091327734497743, 0.05116497342890384, 0.9840904247169046, 0.29858165515039153, -0.2727524510094896, -0.21048960143603254, 0.7139673740857022, -0.16023385797409334, 0.9116261929654899, 1.4252147908541768, -0.8088052527987842, 1.2167057276698943, 0.036192051055108504, 2.3766711632322077, -0.8142601028756642, 1.32285717439343, 0.7936294163094557, -0.5276244168656109, -1.347509840579922, -1.7445807289925739, 0.8712960228407316, -0.06401887917664259, -1.5504797338463046, 0.8540304950184063, -1.3421184144641287, 0.10154010306848567, -0.6916852085852078, 0.17189917595550383, -0.9701019835518537, -0.8945692078511854, 0.5883075904339918, 0.8506104769036922, 1.127153818649054, -0.4998541777616691, -0.02584876008149694, -0.432161143303004, 2.28206533433616, -0.5690629153889168, -0.4248077276824574, -0.3231749483169146, -1.1748112767116616, 0.12788748462071864, 2.278384498085381, -1.6168076480904043, 1.3173421558532104, -1.0653696753546293, -0.1504040147443646, -1.5231003219007477, 1.0731865248776302, 0.3161981373329008, 0.6179130628258113, -1.2322386008952155, 0.1982437126589551, 0.171516596799887, 1.3244963151549742, 0.6997770867168803, 0.1578956838629729, -1.4556748030418778, 0.14849228957824614, -0.25687658016777665, 0.1990906077208847, -0.23739319765976388, 1.6743456830520078, 0.5740378449463213, -0.4880763235958073, 0.4152351549788122, -1.4233924220357441, 0.07106839796078257, -0.5458215202047584, -1.4029215223122031, -2.4160886328514204, -0.04674227495362861, -0.5797592925690125, -0.9780300391295116], \"xaxis\": \"x5\", \"y\": [-0.6974834492785861, 0.5265707753982296, -0.07776827797428544, -0.5339451906699878, -0.7790302886665752, -0.7351560296443709, 0.8085339624996511, 0.6361945592305132, -0.6748913130970792, -0.6066952483827125, -0.6754438189189058, -1.0340066774333512, -0.24645264271902192, -1.1560839085862804, -1.025524281547767, -0.9497546642265557, -0.21541367777889847, 0.12195429227566948, -1.1704344014413213, 0.012309507826049594, 0.13356214797549099, 0.20033088561699652, -0.5825604239393043, 0.008094169057354685, 2.30326975138563, 0.3812004657650732, 0.8621386798530359, -1.0317997889665491, -2.105577763733387, 0.604368051637883, 1.3785024498319072, -1.4906738998136213, -0.005277792437393877, 0.9967361976326541, -1.3673910718301645, -0.10977136949279971, -0.5953982842754707, 0.1860007397860299, 1.1924455051673681, 0.3676128077600115, -0.7766586207968474, 0.1302866455942036, -0.2925619978758218, 1.1126059122521699, -1.4217223065757478, -1.1241097246955072, -0.8164040494133138, -0.7540096772936119, 0.3791695611574733, 0.9490520805551402, -0.40971062506334494, 0.9005435826101161, 0.46392921363095735, 0.23102212634003594, 1.0865785939606485, 1.4305345221229842, 0.34084797401263633, -0.030888851300284265, 0.17486758559954058, -0.6711197166289434, 2.599187965375308, 0.6263752513742433, 0.6180370247657457, 1.2680638021787283, 2.3789965030675226, -1.0446268450076803, 0.47632445881230345, 0.9501238509412528, -0.8537991737916394, 0.731521735345266, 0.6084196715193544, 1.5534834268955304, 0.3749500243260987, -0.714605928485408, 1.29945196980955, -0.4609787599219854, -0.5317687517854143, -0.43900882115612183, -0.06104875856549778, -1.1404600063013492, 0.9170010691017919, -0.7362534089558578, -0.8455212449608114, 0.05782469041110582, -0.11944713690184494, 1.7355595492838432, -1.7970157731577507, -0.3730788606644096, 0.023009405817685354, -0.2315156716542146, 0.27912540287718846, -1.3705966662852875, 0.7472522733767284, 0.9005176103378513, 0.716327290283002, 1.314555991394918, 0.7221539987053497, 1.1394467201828706, -0.04431566287321239, 0.7376141042686286], \"yaxis\": \"y5\"}, {\"histfunc\": \"count\", \"histnorm\": \"\", \"marker\": {\"color\": \"rgba(55, 128, 191, 1.0)\", \"line\": {\"color\": \"#4D5663\", \"width\": 1.3}}, \"name\": \"B\", \"nbinsx\": 10, \"opacity\": 0.8, \"orientation\": \"v\", \"type\": \"histogram\", \"x\": [-0.6974834492785861, 0.5265707753982296, -0.07776827797428544, -0.5339451906699878, -0.7790302886665752, -0.7351560296443709, 0.8085339624996511, 0.6361945592305132, -0.6748913130970792, -0.6066952483827125, -0.6754438189189058, -1.0340066774333512, -0.24645264271902192, -1.1560839085862804, -1.025524281547767, -0.9497546642265557, -0.21541367777889847, 0.12195429227566948, -1.1704344014413213, 0.012309507826049594, 0.13356214797549099, 0.20033088561699652, -0.5825604239393043, 0.008094169057354685, 2.30326975138563, 0.3812004657650732, 0.8621386798530359, -1.0317997889665491, -2.105577763733387, 0.604368051637883, 1.3785024498319072, -1.4906738998136213, -0.005277792437393877, 0.9967361976326541, -1.3673910718301645, -0.10977136949279971, -0.5953982842754707, 0.1860007397860299, 1.1924455051673681, 0.3676128077600115, -0.7766586207968474, 0.1302866455942036, -0.2925619978758218, 1.1126059122521699, -1.4217223065757478, -1.1241097246955072, -0.8164040494133138, -0.7540096772936119, 0.3791695611574733, 0.9490520805551402, -0.40971062506334494, 0.9005435826101161, 0.46392921363095735, 0.23102212634003594, 1.0865785939606485, 1.4305345221229842, 0.34084797401263633, -0.030888851300284265, 0.17486758559954058, -0.6711197166289434, 2.599187965375308, 0.6263752513742433, 0.6180370247657457, 1.2680638021787283, 2.3789965030675226, -1.0446268450076803, 0.47632445881230345, 0.9501238509412528, -0.8537991737916394, 0.731521735345266, 0.6084196715193544, 1.5534834268955304, 0.3749500243260987, -0.714605928485408, 1.29945196980955, -0.4609787599219854, -0.5317687517854143, -0.43900882115612183, -0.06104875856549778, -1.1404600063013492, 0.9170010691017919, -0.7362534089558578, -0.8455212449608114, 0.05782469041110582, -0.11944713690184494, 1.7355595492838432, -1.7970157731577507, -0.3730788606644096, 0.023009405817685354, -0.2315156716542146, 0.27912540287718846, -1.3705966662852875, 0.7472522733767284, 0.9005176103378513, 0.716327290283002, 1.314555991394918, 0.7221539987053497, 1.1394467201828706, -0.04431566287321239, 0.7376141042686286], \"xaxis\": \"x6\", \"yaxis\": \"y6\"}, {\"line\": {\"color\": \"rgba(128, 128, 128, 1.0)\", \"dash\": \"solid\", \"shape\": \"linear\", \"width\": 1.3}, \"marker\": {\"size\": 2, \"symbol\": \"circle\"}, \"mode\": \"markers\", \"name\": \"B\", \"text\": \"\", \"type\": \"scatter\", \"x\": [0.9807202405967048, 0.06495934404745805, -0.36682147770856943, -0.03597147010170788, 2.1039528829009124, -1.5766739284455658, -1.1523546889529963, -1.1510872009401658, 1.686930363727718, 0.5265043771420701, -1.7187176185982018, -0.9877567758021711, -0.7327543358738599, 0.332808644967014, -1.856617786700503, -0.45638126738036017, 0.4460852412061715, -0.40996733914086586, 0.042717201837724816, -0.12187741157722422, -0.22605524339259625, 0.2176577099014336, -1.2837818839757584, -1.3770152656825976, -0.7235662131699643, -1.2090540160685892, 0.39533234681095536, 0.8228003993393653, 0.7500775250178906, -1.0255554792691635, 0.9399257491761793, 1.079798576095632, 0.839267967223954, -0.7868332199991667, 0.21077910161394361, 0.3743187524285486, -1.6546919410058585, 0.6724483751510884, 1.1756475225320373, 0.41393043279159175, -0.0971822763322198, -0.7432920169061518, -0.18528439091173143, -0.39671892843418255, 0.9750242323326788, -0.3156222581854717, 1.302174739723842, 0.4202131355178396, -0.18633489367649939, -0.12720880018978345, -0.8711809019783133, -1.4766128096061217, -2.9718066897234943, -0.3730078469092899, 0.2571386101034309, -2.038430992628252, -0.8801763818152201, 0.48766939523518743, 0.6740086985274447, 0.19698181022628747, 0.4588520921724877, -0.05493837425086435, 2.020688845273047, 1.3837995491160617, 1.3627531794926535, -0.2663999994879829, -0.31855408254638695, -0.3221482173404135, -1.0813733215424397, -0.07456682600096277, 0.022270478528954966, -0.7687901778206974, 0.20211356333211608, -0.3466042862672192, -0.29770401786177253, 1.924068981184556, 0.4166026305574222, 0.7130618514834973, 0.7549500289198516, 0.7480435567616913, 0.18099971650917926, 0.055100961271098196, 0.5338230256264612, -1.480283918840456, 0.5406354071262564, -0.5865582807982657, -0.02765724334386302, -0.6877356155092275, -0.3299348292003524, 0.5270083935750511, -1.4009279263124652, 1.204185223817746, 2.0002342727662876, 0.8552937941245979, 0.6689086788392139, -0.1780437572272499, 1.4610352690906416, -0.7883153342248242, 1.4101027377035793, -0.9173861802927062], \"xaxis\": \"x7\", \"y\": [-0.6974834492785861, 0.5265707753982296, -0.07776827797428544, -0.5339451906699878, -0.7790302886665752, -0.7351560296443709, 0.8085339624996511, 0.6361945592305132, -0.6748913130970792, -0.6066952483827125, -0.6754438189189058, -1.0340066774333512, -0.24645264271902192, -1.1560839085862804, -1.025524281547767, -0.9497546642265557, -0.21541367777889847, 0.12195429227566948, -1.1704344014413213, 0.012309507826049594, 0.13356214797549099, 0.20033088561699652, -0.5825604239393043, 0.008094169057354685, 2.30326975138563, 0.3812004657650732, 0.8621386798530359, -1.0317997889665491, -2.105577763733387, 0.604368051637883, 1.3785024498319072, -1.4906738998136213, -0.005277792437393877, 0.9967361976326541, -1.3673910718301645, -0.10977136949279971, -0.5953982842754707, 0.1860007397860299, 1.1924455051673681, 0.3676128077600115, -0.7766586207968474, 0.1302866455942036, -0.2925619978758218, 1.1126059122521699, -1.4217223065757478, -1.1241097246955072, -0.8164040494133138, -0.7540096772936119, 0.3791695611574733, 0.9490520805551402, -0.40971062506334494, 0.9005435826101161, 0.46392921363095735, 0.23102212634003594, 1.0865785939606485, 1.4305345221229842, 0.34084797401263633, -0.030888851300284265, 0.17486758559954058, -0.6711197166289434, 2.599187965375308, 0.6263752513742433, 0.6180370247657457, 1.2680638021787283, 2.3789965030675226, -1.0446268450076803, 0.47632445881230345, 0.9501238509412528, -0.8537991737916394, 0.731521735345266, 0.6084196715193544, 1.5534834268955304, 0.3749500243260987, -0.714605928485408, 1.29945196980955, -0.4609787599219854, -0.5317687517854143, -0.43900882115612183, -0.06104875856549778, -1.1404600063013492, 0.9170010691017919, -0.7362534089558578, -0.8455212449608114, 0.05782469041110582, -0.11944713690184494, 1.7355595492838432, -1.7970157731577507, -0.3730788606644096, 0.023009405817685354, -0.2315156716542146, 0.27912540287718846, -1.3705966662852875, 0.7472522733767284, 0.9005176103378513, 0.716327290283002, 1.314555991394918, 0.7221539987053497, 1.1394467201828706, -0.04431566287321239, 0.7376141042686286], \"yaxis\": \"y7\"}, {\"line\": {\"color\": \"rgba(128, 128, 128, 1.0)\", \"dash\": \"solid\", \"shape\": \"linear\", \"width\": 1.3}, \"marker\": {\"size\": 2, \"symbol\": \"circle\"}, \"mode\": \"markers\", \"name\": \"B\", \"text\": \"\", \"type\": \"scatter\", \"x\": [1.9123971090410545, 0.20731978815254576, 0.5480827947183378, -0.3125002179614214, -0.08695658497105009, -0.01143451325044511, -0.057680403919281496, -0.31953374555578895, 0.12392089659460419, -1.8421489172772836, -1.1973955447982725, -2.0745532732852388, 0.3088064937003683, -1.88873465987546, 1.2066647717665306, -0.1512762433495319, -0.09342382578583544, -0.7107802075648229, 0.98216585539338, 0.1116443404998465, -0.5360503670606694, 2.4069270699389325, -0.021835613821789564, -0.49051914720565176, 2.52967452460814, -0.9614231704468748, -0.8636148280761206, 2.0885718885887754, 0.3567419175718976, 2.2417162616504847, -0.3499805216568416, -0.06246377941350967, -0.9130307249543688, 0.21672128232587234, 0.3039601406357903, -0.3704024048918782, -0.4397341667328155, 0.23626815942283505, -1.4165159388518738, 0.24582637557137516, -2.895481841382021, -0.2673316098678332, -0.25801794151144847, 1.3785710450412867, 0.04305953878120779, -1.2029740616305302, -0.09369581345893953, 0.9202911146342643, -1.2328477698406155, 0.05888192109937479, 0.33780081544485774, -0.9034069829121224, -0.4332288623391349, -1.2997925902979068, -0.9074637038793495, 0.9532595230516671, -1.4513336342172545, -0.7221190490653255, 0.860961107203073, -0.05283710819885914, 1.7303941172129738, 1.7386693550314218, 0.7012970466600155, 0.08776671116031264, 1.3522260576402978, 0.778900077142074, -1.1409396494552497, -2.5364866220234843, -0.9973799889857837, -2.3776600537860113, 0.4322804782784286, 0.20605848574637545, 0.2084998309889521, 0.4087986192576177, -1.0102839482906854, -1.3051723098783508, -0.4375940788817426, -0.21158832117656054, -1.4183347586119168, -0.12368052903158491, 0.8201793634509791, -0.24906131242964358, -0.21803405254034677, 1.6263939571133907, -2.284314049583247, 0.503167524977811, -0.08712443998053249, 1.7862760752496967, 0.0006600808731873957, 0.3160566148437891, 0.0008923865318643821, -0.9948516732251163, 0.6204463199668159, -2.1183081564092183, 0.7936393425462959, -0.07123068766319275, 0.1409696217829003, 1.1005028839776765, -1.2672538010458028, -1.2372320331073614], \"xaxis\": \"x8\", \"y\": [-0.6974834492785861, 0.5265707753982296, -0.07776827797428544, -0.5339451906699878, -0.7790302886665752, -0.7351560296443709, 0.8085339624996511, 0.6361945592305132, -0.6748913130970792, -0.6066952483827125, -0.6754438189189058, -1.0340066774333512, -0.24645264271902192, -1.1560839085862804, -1.025524281547767, -0.9497546642265557, -0.21541367777889847, 0.12195429227566948, -1.1704344014413213, 0.012309507826049594, 0.13356214797549099, 0.20033088561699652, -0.5825604239393043, 0.008094169057354685, 2.30326975138563, 0.3812004657650732, 0.8621386798530359, -1.0317997889665491, -2.105577763733387, 0.604368051637883, 1.3785024498319072, -1.4906738998136213, -0.005277792437393877, 0.9967361976326541, -1.3673910718301645, -0.10977136949279971, -0.5953982842754707, 0.1860007397860299, 1.1924455051673681, 0.3676128077600115, -0.7766586207968474, 0.1302866455942036, -0.2925619978758218, 1.1126059122521699, -1.4217223065757478, -1.1241097246955072, -0.8164040494133138, -0.7540096772936119, 0.3791695611574733, 0.9490520805551402, -0.40971062506334494, 0.9005435826101161, 0.46392921363095735, 0.23102212634003594, 1.0865785939606485, 1.4305345221229842, 0.34084797401263633, -0.030888851300284265, 0.17486758559954058, -0.6711197166289434, 2.599187965375308, 0.6263752513742433, 0.6180370247657457, 1.2680638021787283, 2.3789965030675226, -1.0446268450076803, 0.47632445881230345, 0.9501238509412528, -0.8537991737916394, 0.731521735345266, 0.6084196715193544, 1.5534834268955304, 0.3749500243260987, -0.714605928485408, 1.29945196980955, -0.4609787599219854, -0.5317687517854143, -0.43900882115612183, -0.06104875856549778, -1.1404600063013492, 0.9170010691017919, -0.7362534089558578, -0.8455212449608114, 0.05782469041110582, -0.11944713690184494, 1.7355595492838432, -1.7970157731577507, -0.3730788606644096, 0.023009405817685354, -0.2315156716542146, 0.27912540287718846, -1.3705966662852875, 0.7472522733767284, 0.9005176103378513, 0.716327290283002, 1.314555991394918, 0.7221539987053497, 1.1394467201828706, -0.04431566287321239, 0.7376141042686286], \"yaxis\": \"y8\"}, {\"line\": {\"color\": \"rgba(128, 128, 128, 1.0)\", \"dash\": \"solid\", \"shape\": \"linear\", \"width\": 1.3}, \"marker\": {\"size\": 2, \"symbol\": \"circle\"}, \"mode\": \"markers\", \"name\": \"C\", \"text\": \"\", \"type\": \"scatter\", \"x\": [0.4445124197588715, 0.36205035415301395, 0.3969041084990429, 0.2692407675647294, -0.5731606881463372, -0.6626695566494553, -1.1885826763594174, 1.1797061124639112, -0.12435335510677673, 0.02131024946466258, -0.841044462996525, -0.7164275059953222, 0.17357181330712826, -0.8666452183680738, -0.3122159075440176, 1.1051992640591732, 1.950567433402343, -1.16047114413995, 1.270472855864974, 0.2662445207587512, 1.3984741432546657, 0.1574760328512065, 0.767697269586301, 1.420591922414267, -0.6907202729510498, -1.247031761337001, -0.38091327734497743, 0.05116497342890384, 0.9840904247169046, 0.29858165515039153, -0.2727524510094896, -0.21048960143603254, 0.7139673740857022, -0.16023385797409334, 0.9116261929654899, 1.4252147908541768, -0.8088052527987842, 1.2167057276698943, 0.036192051055108504, 2.3766711632322077, -0.8142601028756642, 1.32285717439343, 0.7936294163094557, -0.5276244168656109, -1.347509840579922, -1.7445807289925739, 0.8712960228407316, -0.06401887917664259, -1.5504797338463046, 0.8540304950184063, -1.3421184144641287, 0.10154010306848567, -0.6916852085852078, 0.17189917595550383, -0.9701019835518537, -0.8945692078511854, 0.5883075904339918, 0.8506104769036922, 1.127153818649054, -0.4998541777616691, -0.02584876008149694, -0.432161143303004, 2.28206533433616, -0.5690629153889168, -0.4248077276824574, -0.3231749483169146, -1.1748112767116616, 0.12788748462071864, 2.278384498085381, -1.6168076480904043, 1.3173421558532104, -1.0653696753546293, -0.1504040147443646, -1.5231003219007477, 1.0731865248776302, 0.3161981373329008, 0.6179130628258113, -1.2322386008952155, 0.1982437126589551, 0.171516596799887, 1.3244963151549742, 0.6997770867168803, 0.1578956838629729, -1.4556748030418778, 0.14849228957824614, -0.25687658016777665, 0.1990906077208847, -0.23739319765976388, 1.6743456830520078, 0.5740378449463213, -0.4880763235958073, 0.4152351549788122, -1.4233924220357441, 0.07106839796078257, -0.5458215202047584, -1.4029215223122031, -2.4160886328514204, -0.04674227495362861, -0.5797592925690125, -0.9780300391295116], \"xaxis\": \"x9\", \"y\": [0.9807202405967048, 0.06495934404745805, -0.36682147770856943, -0.03597147010170788, 2.1039528829009124, -1.5766739284455658, -1.1523546889529963, -1.1510872009401658, 1.686930363727718, 0.5265043771420701, -1.7187176185982018, -0.9877567758021711, -0.7327543358738599, 0.332808644967014, -1.856617786700503, -0.45638126738036017, 0.4460852412061715, -0.40996733914086586, 0.042717201837724816, -0.12187741157722422, -0.22605524339259625, 0.2176577099014336, -1.2837818839757584, -1.3770152656825976, -0.7235662131699643, -1.2090540160685892, 0.39533234681095536, 0.8228003993393653, 0.7500775250178906, -1.0255554792691635, 0.9399257491761793, 1.079798576095632, 0.839267967223954, -0.7868332199991667, 0.21077910161394361, 0.3743187524285486, -1.6546919410058585, 0.6724483751510884, 1.1756475225320373, 0.41393043279159175, -0.0971822763322198, -0.7432920169061518, -0.18528439091173143, -0.39671892843418255, 0.9750242323326788, -0.3156222581854717, 1.302174739723842, 0.4202131355178396, -0.18633489367649939, -0.12720880018978345, -0.8711809019783133, -1.4766128096061217, -2.9718066897234943, -0.3730078469092899, 0.2571386101034309, -2.038430992628252, -0.8801763818152201, 0.48766939523518743, 0.6740086985274447, 0.19698181022628747, 0.4588520921724877, -0.05493837425086435, 2.020688845273047, 1.3837995491160617, 1.3627531794926535, -0.2663999994879829, -0.31855408254638695, -0.3221482173404135, -1.0813733215424397, -0.07456682600096277, 0.022270478528954966, -0.7687901778206974, 0.20211356333211608, -0.3466042862672192, -0.29770401786177253, 1.924068981184556, 0.4166026305574222, 0.7130618514834973, 0.7549500289198516, 0.7480435567616913, 0.18099971650917926, 0.055100961271098196, 0.5338230256264612, -1.480283918840456, 0.5406354071262564, -0.5865582807982657, -0.02765724334386302, -0.6877356155092275, -0.3299348292003524, 0.5270083935750511, -1.4009279263124652, 1.204185223817746, 2.0002342727662876, 0.8552937941245979, 0.6689086788392139, -0.1780437572272499, 1.4610352690906416, -0.7883153342248242, 1.4101027377035793, -0.9173861802927062], \"yaxis\": \"y9\"}, {\"line\": {\"color\": \"rgba(128, 128, 128, 1.0)\", \"dash\": \"solid\", \"shape\": \"linear\", \"width\": 1.3}, \"marker\": {\"size\": 2, \"symbol\": \"circle\"}, \"mode\": \"markers\", \"name\": \"C\", \"text\": \"\", \"type\": \"scatter\", \"x\": [-0.6974834492785861, 0.5265707753982296, -0.07776827797428544, -0.5339451906699878, -0.7790302886665752, -0.7351560296443709, 0.8085339624996511, 0.6361945592305132, -0.6748913130970792, -0.6066952483827125, -0.6754438189189058, -1.0340066774333512, -0.24645264271902192, -1.1560839085862804, -1.025524281547767, -0.9497546642265557, -0.21541367777889847, 0.12195429227566948, -1.1704344014413213, 0.012309507826049594, 0.13356214797549099, 0.20033088561699652, -0.5825604239393043, 0.008094169057354685, 2.30326975138563, 0.3812004657650732, 0.8621386798530359, -1.0317997889665491, -2.105577763733387, 0.604368051637883, 1.3785024498319072, -1.4906738998136213, -0.005277792437393877, 0.9967361976326541, -1.3673910718301645, -0.10977136949279971, -0.5953982842754707, 0.1860007397860299, 1.1924455051673681, 0.3676128077600115, -0.7766586207968474, 0.1302866455942036, -0.2925619978758218, 1.1126059122521699, -1.4217223065757478, -1.1241097246955072, -0.8164040494133138, -0.7540096772936119, 0.3791695611574733, 0.9490520805551402, -0.40971062506334494, 0.9005435826101161, 0.46392921363095735, 0.23102212634003594, 1.0865785939606485, 1.4305345221229842, 0.34084797401263633, -0.030888851300284265, 0.17486758559954058, -0.6711197166289434, 2.599187965375308, 0.6263752513742433, 0.6180370247657457, 1.2680638021787283, 2.3789965030675226, -1.0446268450076803, 0.47632445881230345, 0.9501238509412528, -0.8537991737916394, 0.731521735345266, 0.6084196715193544, 1.5534834268955304, 0.3749500243260987, -0.714605928485408, 1.29945196980955, -0.4609787599219854, -0.5317687517854143, -0.43900882115612183, -0.06104875856549778, -1.1404600063013492, 0.9170010691017919, -0.7362534089558578, -0.8455212449608114, 0.05782469041110582, -0.11944713690184494, 1.7355595492838432, -1.7970157731577507, -0.3730788606644096, 0.023009405817685354, -0.2315156716542146, 0.27912540287718846, -1.3705966662852875, 0.7472522733767284, 0.9005176103378513, 0.716327290283002, 1.314555991394918, 0.7221539987053497, 1.1394467201828706, -0.04431566287321239, 0.7376141042686286], \"xaxis\": \"x10\", \"y\": [0.9807202405967048, 0.06495934404745805, -0.36682147770856943, -0.03597147010170788, 2.1039528829009124, -1.5766739284455658, -1.1523546889529963, -1.1510872009401658, 1.686930363727718, 0.5265043771420701, -1.7187176185982018, -0.9877567758021711, -0.7327543358738599, 0.332808644967014, -1.856617786700503, -0.45638126738036017, 0.4460852412061715, -0.40996733914086586, 0.042717201837724816, -0.12187741157722422, -0.22605524339259625, 0.2176577099014336, -1.2837818839757584, -1.3770152656825976, -0.7235662131699643, -1.2090540160685892, 0.39533234681095536, 0.8228003993393653, 0.7500775250178906, -1.0255554792691635, 0.9399257491761793, 1.079798576095632, 0.839267967223954, -0.7868332199991667, 0.21077910161394361, 0.3743187524285486, -1.6546919410058585, 0.6724483751510884, 1.1756475225320373, 0.41393043279159175, -0.0971822763322198, -0.7432920169061518, -0.18528439091173143, -0.39671892843418255, 0.9750242323326788, -0.3156222581854717, 1.302174739723842, 0.4202131355178396, -0.18633489367649939, -0.12720880018978345, -0.8711809019783133, -1.4766128096061217, -2.9718066897234943, -0.3730078469092899, 0.2571386101034309, -2.038430992628252, -0.8801763818152201, 0.48766939523518743, 0.6740086985274447, 0.19698181022628747, 0.4588520921724877, -0.05493837425086435, 2.020688845273047, 1.3837995491160617, 1.3627531794926535, -0.2663999994879829, -0.31855408254638695, -0.3221482173404135, -1.0813733215424397, -0.07456682600096277, 0.022270478528954966, -0.7687901778206974, 0.20211356333211608, -0.3466042862672192, -0.29770401786177253, 1.924068981184556, 0.4166026305574222, 0.7130618514834973, 0.7549500289198516, 0.7480435567616913, 0.18099971650917926, 0.055100961271098196, 0.5338230256264612, -1.480283918840456, 0.5406354071262564, -0.5865582807982657, -0.02765724334386302, -0.6877356155092275, -0.3299348292003524, 0.5270083935750511, -1.4009279263124652, 1.204185223817746, 2.0002342727662876, 0.8552937941245979, 0.6689086788392139, -0.1780437572272499, 1.4610352690906416, -0.7883153342248242, 1.4101027377035793, -0.9173861802927062], \"yaxis\": \"y10\"}, {\"histfunc\": \"count\", \"histnorm\": \"\", \"marker\": {\"color\": \"rgba(50, 171, 96, 1.0)\", \"line\": {\"color\": \"#4D5663\", \"width\": 1.3}}, \"name\": \"C\", \"nbinsx\": 10, \"opacity\": 0.8, \"orientation\": \"v\", \"type\": \"histogram\", \"x\": [0.9807202405967048, 0.06495934404745805, -0.36682147770856943, -0.03597147010170788, 2.1039528829009124, -1.5766739284455658, -1.1523546889529963, -1.1510872009401658, 1.686930363727718, 0.5265043771420701, -1.7187176185982018, -0.9877567758021711, -0.7327543358738599, 0.332808644967014, -1.856617786700503, -0.45638126738036017, 0.4460852412061715, -0.40996733914086586, 0.042717201837724816, -0.12187741157722422, -0.22605524339259625, 0.2176577099014336, -1.2837818839757584, -1.3770152656825976, -0.7235662131699643, -1.2090540160685892, 0.39533234681095536, 0.8228003993393653, 0.7500775250178906, -1.0255554792691635, 0.9399257491761793, 1.079798576095632, 0.839267967223954, -0.7868332199991667, 0.21077910161394361, 0.3743187524285486, -1.6546919410058585, 0.6724483751510884, 1.1756475225320373, 0.41393043279159175, -0.0971822763322198, -0.7432920169061518, -0.18528439091173143, -0.39671892843418255, 0.9750242323326788, -0.3156222581854717, 1.302174739723842, 0.4202131355178396, -0.18633489367649939, -0.12720880018978345, -0.8711809019783133, -1.4766128096061217, -2.9718066897234943, -0.3730078469092899, 0.2571386101034309, -2.038430992628252, -0.8801763818152201, 0.48766939523518743, 0.6740086985274447, 0.19698181022628747, 0.4588520921724877, -0.05493837425086435, 2.020688845273047, 1.3837995491160617, 1.3627531794926535, -0.2663999994879829, -0.31855408254638695, -0.3221482173404135, -1.0813733215424397, -0.07456682600096277, 0.022270478528954966, -0.7687901778206974, 0.20211356333211608, -0.3466042862672192, -0.29770401786177253, 1.924068981184556, 0.4166026305574222, 0.7130618514834973, 0.7549500289198516, 0.7480435567616913, 0.18099971650917926, 0.055100961271098196, 0.5338230256264612, -1.480283918840456, 0.5406354071262564, -0.5865582807982657, -0.02765724334386302, -0.6877356155092275, -0.3299348292003524, 0.5270083935750511, -1.4009279263124652, 1.204185223817746, 2.0002342727662876, 0.8552937941245979, 0.6689086788392139, -0.1780437572272499, 1.4610352690906416, -0.7883153342248242, 1.4101027377035793, -0.9173861802927062], \"xaxis\": \"x11\", \"yaxis\": \"y11\"}, {\"line\": {\"color\": \"rgba(128, 128, 128, 1.0)\", \"dash\": \"solid\", \"shape\": \"linear\", \"width\": 1.3}, \"marker\": {\"size\": 2, \"symbol\": \"circle\"}, \"mode\": \"markers\", \"name\": \"C\", \"text\": \"\", \"type\": \"scatter\", \"x\": [1.9123971090410545, 0.20731978815254576, 0.5480827947183378, -0.3125002179614214, -0.08695658497105009, -0.01143451325044511, -0.057680403919281496, -0.31953374555578895, 0.12392089659460419, -1.8421489172772836, -1.1973955447982725, -2.0745532732852388, 0.3088064937003683, -1.88873465987546, 1.2066647717665306, -0.1512762433495319, -0.09342382578583544, -0.7107802075648229, 0.98216585539338, 0.1116443404998465, -0.5360503670606694, 2.4069270699389325, -0.021835613821789564, -0.49051914720565176, 2.52967452460814, -0.9614231704468748, -0.8636148280761206, 2.0885718885887754, 0.3567419175718976, 2.2417162616504847, -0.3499805216568416, -0.06246377941350967, -0.9130307249543688, 0.21672128232587234, 0.3039601406357903, -0.3704024048918782, -0.4397341667328155, 0.23626815942283505, -1.4165159388518738, 0.24582637557137516, -2.895481841382021, -0.2673316098678332, -0.25801794151144847, 1.3785710450412867, 0.04305953878120779, -1.2029740616305302, -0.09369581345893953, 0.9202911146342643, -1.2328477698406155, 0.05888192109937479, 0.33780081544485774, -0.9034069829121224, -0.4332288623391349, -1.2997925902979068, -0.9074637038793495, 0.9532595230516671, -1.4513336342172545, -0.7221190490653255, 0.860961107203073, -0.05283710819885914, 1.7303941172129738, 1.7386693550314218, 0.7012970466600155, 0.08776671116031264, 1.3522260576402978, 0.778900077142074, -1.1409396494552497, -2.5364866220234843, -0.9973799889857837, -2.3776600537860113, 0.4322804782784286, 0.20605848574637545, 0.2084998309889521, 0.4087986192576177, -1.0102839482906854, -1.3051723098783508, -0.4375940788817426, -0.21158832117656054, -1.4183347586119168, -0.12368052903158491, 0.8201793634509791, -0.24906131242964358, -0.21803405254034677, 1.6263939571133907, -2.284314049583247, 0.503167524977811, -0.08712443998053249, 1.7862760752496967, 0.0006600808731873957, 0.3160566148437891, 0.0008923865318643821, -0.9948516732251163, 0.6204463199668159, -2.1183081564092183, 0.7936393425462959, -0.07123068766319275, 0.1409696217829003, 1.1005028839776765, -1.2672538010458028, -1.2372320331073614], \"xaxis\": \"x12\", \"y\": [0.9807202405967048, 0.06495934404745805, -0.36682147770856943, -0.03597147010170788, 2.1039528829009124, -1.5766739284455658, -1.1523546889529963, -1.1510872009401658, 1.686930363727718, 0.5265043771420701, -1.7187176185982018, -0.9877567758021711, -0.7327543358738599, 0.332808644967014, -1.856617786700503, -0.45638126738036017, 0.4460852412061715, -0.40996733914086586, 0.042717201837724816, -0.12187741157722422, -0.22605524339259625, 0.2176577099014336, -1.2837818839757584, -1.3770152656825976, -0.7235662131699643, -1.2090540160685892, 0.39533234681095536, 0.8228003993393653, 0.7500775250178906, -1.0255554792691635, 0.9399257491761793, 1.079798576095632, 0.839267967223954, -0.7868332199991667, 0.21077910161394361, 0.3743187524285486, -1.6546919410058585, 0.6724483751510884, 1.1756475225320373, 0.41393043279159175, -0.0971822763322198, -0.7432920169061518, -0.18528439091173143, -0.39671892843418255, 0.9750242323326788, -0.3156222581854717, 1.302174739723842, 0.4202131355178396, -0.18633489367649939, -0.12720880018978345, -0.8711809019783133, -1.4766128096061217, -2.9718066897234943, -0.3730078469092899, 0.2571386101034309, -2.038430992628252, -0.8801763818152201, 0.48766939523518743, 0.6740086985274447, 0.19698181022628747, 0.4588520921724877, -0.05493837425086435, 2.020688845273047, 1.3837995491160617, 1.3627531794926535, -0.2663999994879829, -0.31855408254638695, -0.3221482173404135, -1.0813733215424397, -0.07456682600096277, 0.022270478528954966, -0.7687901778206974, 0.20211356333211608, -0.3466042862672192, -0.29770401786177253, 1.924068981184556, 0.4166026305574222, 0.7130618514834973, 0.7549500289198516, 0.7480435567616913, 0.18099971650917926, 0.055100961271098196, 0.5338230256264612, -1.480283918840456, 0.5406354071262564, -0.5865582807982657, -0.02765724334386302, -0.6877356155092275, -0.3299348292003524, 0.5270083935750511, -1.4009279263124652, 1.204185223817746, 2.0002342727662876, 0.8552937941245979, 0.6689086788392139, -0.1780437572272499, 1.4610352690906416, -0.7883153342248242, 1.4101027377035793, -0.9173861802927062], \"yaxis\": \"y12\"}, {\"line\": {\"color\": \"rgba(128, 128, 128, 1.0)\", \"dash\": \"solid\", \"shape\": \"linear\", \"width\": 1.3}, \"marker\": {\"size\": 2, \"symbol\": \"circle\"}, \"mode\": \"markers\", \"name\": \"D\", \"text\": \"\", \"type\": \"scatter\", \"x\": [0.4445124197588715, 0.36205035415301395, 0.3969041084990429, 0.2692407675647294, -0.5731606881463372, -0.6626695566494553, -1.1885826763594174, 1.1797061124639112, -0.12435335510677673, 0.02131024946466258, -0.841044462996525, -0.7164275059953222, 0.17357181330712826, -0.8666452183680738, -0.3122159075440176, 1.1051992640591732, 1.950567433402343, -1.16047114413995, 1.270472855864974, 0.2662445207587512, 1.3984741432546657, 0.1574760328512065, 0.767697269586301, 1.420591922414267, -0.6907202729510498, -1.247031761337001, -0.38091327734497743, 0.05116497342890384, 0.9840904247169046, 0.29858165515039153, -0.2727524510094896, -0.21048960143603254, 0.7139673740857022, -0.16023385797409334, 0.9116261929654899, 1.4252147908541768, -0.8088052527987842, 1.2167057276698943, 0.036192051055108504, 2.3766711632322077, -0.8142601028756642, 1.32285717439343, 0.7936294163094557, -0.5276244168656109, -1.347509840579922, -1.7445807289925739, 0.8712960228407316, -0.06401887917664259, -1.5504797338463046, 0.8540304950184063, -1.3421184144641287, 0.10154010306848567, -0.6916852085852078, 0.17189917595550383, -0.9701019835518537, -0.8945692078511854, 0.5883075904339918, 0.8506104769036922, 1.127153818649054, -0.4998541777616691, -0.02584876008149694, -0.432161143303004, 2.28206533433616, -0.5690629153889168, -0.4248077276824574, -0.3231749483169146, -1.1748112767116616, 0.12788748462071864, 2.278384498085381, -1.6168076480904043, 1.3173421558532104, -1.0653696753546293, -0.1504040147443646, -1.5231003219007477, 1.0731865248776302, 0.3161981373329008, 0.6179130628258113, -1.2322386008952155, 0.1982437126589551, 0.171516596799887, 1.3244963151549742, 0.6997770867168803, 0.1578956838629729, -1.4556748030418778, 0.14849228957824614, -0.25687658016777665, 0.1990906077208847, -0.23739319765976388, 1.6743456830520078, 0.5740378449463213, -0.4880763235958073, 0.4152351549788122, -1.4233924220357441, 0.07106839796078257, -0.5458215202047584, -1.4029215223122031, -2.4160886328514204, -0.04674227495362861, -0.5797592925690125, -0.9780300391295116], \"xaxis\": \"x13\", \"y\": [1.9123971090410545, 0.20731978815254576, 0.5480827947183378, -0.3125002179614214, -0.08695658497105009, -0.01143451325044511, -0.057680403919281496, -0.31953374555578895, 0.12392089659460419, -1.8421489172772836, -1.1973955447982725, -2.0745532732852388, 0.3088064937003683, -1.88873465987546, 1.2066647717665306, -0.1512762433495319, -0.09342382578583544, -0.7107802075648229, 0.98216585539338, 0.1116443404998465, -0.5360503670606694, 2.4069270699389325, -0.021835613821789564, -0.49051914720565176, 2.52967452460814, -0.9614231704468748, -0.8636148280761206, 2.0885718885887754, 0.3567419175718976, 2.2417162616504847, -0.3499805216568416, -0.06246377941350967, -0.9130307249543688, 0.21672128232587234, 0.3039601406357903, -0.3704024048918782, -0.4397341667328155, 0.23626815942283505, -1.4165159388518738, 0.24582637557137516, -2.895481841382021, -0.2673316098678332, -0.25801794151144847, 1.3785710450412867, 0.04305953878120779, -1.2029740616305302, -0.09369581345893953, 0.9202911146342643, -1.2328477698406155, 0.05888192109937479, 0.33780081544485774, -0.9034069829121224, -0.4332288623391349, -1.2997925902979068, -0.9074637038793495, 0.9532595230516671, -1.4513336342172545, -0.7221190490653255, 0.860961107203073, -0.05283710819885914, 1.7303941172129738, 1.7386693550314218, 0.7012970466600155, 0.08776671116031264, 1.3522260576402978, 0.778900077142074, -1.1409396494552497, -2.5364866220234843, -0.9973799889857837, -2.3776600537860113, 0.4322804782784286, 0.20605848574637545, 0.2084998309889521, 0.4087986192576177, -1.0102839482906854, -1.3051723098783508, -0.4375940788817426, -0.21158832117656054, -1.4183347586119168, -0.12368052903158491, 0.8201793634509791, -0.24906131242964358, -0.21803405254034677, 1.6263939571133907, -2.284314049583247, 0.503167524977811, -0.08712443998053249, 1.7862760752496967, 0.0006600808731873957, 0.3160566148437891, 0.0008923865318643821, -0.9948516732251163, 0.6204463199668159, -2.1183081564092183, 0.7936393425462959, -0.07123068766319275, 0.1409696217829003, 1.1005028839776765, -1.2672538010458028, -1.2372320331073614], \"yaxis\": \"y13\"}, {\"line\": {\"color\": \"rgba(128, 128, 128, 1.0)\", \"dash\": \"solid\", \"shape\": \"linear\", \"width\": 1.3}, \"marker\": {\"size\": 2, \"symbol\": \"circle\"}, \"mode\": \"markers\", \"name\": \"D\", \"text\": \"\", \"type\": \"scatter\", \"x\": [-0.6974834492785861, 0.5265707753982296, -0.07776827797428544, -0.5339451906699878, -0.7790302886665752, -0.7351560296443709, 0.8085339624996511, 0.6361945592305132, -0.6748913130970792, -0.6066952483827125, -0.6754438189189058, -1.0340066774333512, -0.24645264271902192, -1.1560839085862804, -1.025524281547767, -0.9497546642265557, -0.21541367777889847, 0.12195429227566948, -1.1704344014413213, 0.012309507826049594, 0.13356214797549099, 0.20033088561699652, -0.5825604239393043, 0.008094169057354685, 2.30326975138563, 0.3812004657650732, 0.8621386798530359, -1.0317997889665491, -2.105577763733387, 0.604368051637883, 1.3785024498319072, -1.4906738998136213, -0.005277792437393877, 0.9967361976326541, -1.3673910718301645, -0.10977136949279971, -0.5953982842754707, 0.1860007397860299, 1.1924455051673681, 0.3676128077600115, -0.7766586207968474, 0.1302866455942036, -0.2925619978758218, 1.1126059122521699, -1.4217223065757478, -1.1241097246955072, -0.8164040494133138, -0.7540096772936119, 0.3791695611574733, 0.9490520805551402, -0.40971062506334494, 0.9005435826101161, 0.46392921363095735, 0.23102212634003594, 1.0865785939606485, 1.4305345221229842, 0.34084797401263633, -0.030888851300284265, 0.17486758559954058, -0.6711197166289434, 2.599187965375308, 0.6263752513742433, 0.6180370247657457, 1.2680638021787283, 2.3789965030675226, -1.0446268450076803, 0.47632445881230345, 0.9501238509412528, -0.8537991737916394, 0.731521735345266, 0.6084196715193544, 1.5534834268955304, 0.3749500243260987, -0.714605928485408, 1.29945196980955, -0.4609787599219854, -0.5317687517854143, -0.43900882115612183, -0.06104875856549778, -1.1404600063013492, 0.9170010691017919, -0.7362534089558578, -0.8455212449608114, 0.05782469041110582, -0.11944713690184494, 1.7355595492838432, -1.7970157731577507, -0.3730788606644096, 0.023009405817685354, -0.2315156716542146, 0.27912540287718846, -1.3705966662852875, 0.7472522733767284, 0.9005176103378513, 0.716327290283002, 1.314555991394918, 0.7221539987053497, 1.1394467201828706, -0.04431566287321239, 0.7376141042686286], \"xaxis\": \"x14\", \"y\": [1.9123971090410545, 0.20731978815254576, 0.5480827947183378, -0.3125002179614214, -0.08695658497105009, -0.01143451325044511, -0.057680403919281496, -0.31953374555578895, 0.12392089659460419, -1.8421489172772836, -1.1973955447982725, -2.0745532732852388, 0.3088064937003683, -1.88873465987546, 1.2066647717665306, -0.1512762433495319, -0.09342382578583544, -0.7107802075648229, 0.98216585539338, 0.1116443404998465, -0.5360503670606694, 2.4069270699389325, -0.021835613821789564, -0.49051914720565176, 2.52967452460814, -0.9614231704468748, -0.8636148280761206, 2.0885718885887754, 0.3567419175718976, 2.2417162616504847, -0.3499805216568416, -0.06246377941350967, -0.9130307249543688, 0.21672128232587234, 0.3039601406357903, -0.3704024048918782, -0.4397341667328155, 0.23626815942283505, -1.4165159388518738, 0.24582637557137516, -2.895481841382021, -0.2673316098678332, -0.25801794151144847, 1.3785710450412867, 0.04305953878120779, -1.2029740616305302, -0.09369581345893953, 0.9202911146342643, -1.2328477698406155, 0.05888192109937479, 0.33780081544485774, -0.9034069829121224, -0.4332288623391349, -1.2997925902979068, -0.9074637038793495, 0.9532595230516671, -1.4513336342172545, -0.7221190490653255, 0.860961107203073, -0.05283710819885914, 1.7303941172129738, 1.7386693550314218, 0.7012970466600155, 0.08776671116031264, 1.3522260576402978, 0.778900077142074, -1.1409396494552497, -2.5364866220234843, -0.9973799889857837, -2.3776600537860113, 0.4322804782784286, 0.20605848574637545, 0.2084998309889521, 0.4087986192576177, -1.0102839482906854, -1.3051723098783508, -0.4375940788817426, -0.21158832117656054, -1.4183347586119168, -0.12368052903158491, 0.8201793634509791, -0.24906131242964358, -0.21803405254034677, 1.6263939571133907, -2.284314049583247, 0.503167524977811, -0.08712443998053249, 1.7862760752496967, 0.0006600808731873957, 0.3160566148437891, 0.0008923865318643821, -0.9948516732251163, 0.6204463199668159, -2.1183081564092183, 0.7936393425462959, -0.07123068766319275, 0.1409696217829003, 1.1005028839776765, -1.2672538010458028, -1.2372320331073614], \"yaxis\": \"y14\"}, {\"line\": {\"color\": \"rgba(128, 128, 128, 1.0)\", \"dash\": \"solid\", \"shape\": \"linear\", \"width\": 1.3}, \"marker\": {\"size\": 2, \"symbol\": \"circle\"}, \"mode\": \"markers\", \"name\": \"D\", \"text\": \"\", \"type\": \"scatter\", \"x\": [0.9807202405967048, 0.06495934404745805, -0.36682147770856943, -0.03597147010170788, 2.1039528829009124, -1.5766739284455658, -1.1523546889529963, -1.1510872009401658, 1.686930363727718, 0.5265043771420701, -1.7187176185982018, -0.9877567758021711, -0.7327543358738599, 0.332808644967014, -1.856617786700503, -0.45638126738036017, 0.4460852412061715, -0.40996733914086586, 0.042717201837724816, -0.12187741157722422, -0.22605524339259625, 0.2176577099014336, -1.2837818839757584, -1.3770152656825976, -0.7235662131699643, -1.2090540160685892, 0.39533234681095536, 0.8228003993393653, 0.7500775250178906, -1.0255554792691635, 0.9399257491761793, 1.079798576095632, 0.839267967223954, -0.7868332199991667, 0.21077910161394361, 0.3743187524285486, -1.6546919410058585, 0.6724483751510884, 1.1756475225320373, 0.41393043279159175, -0.0971822763322198, -0.7432920169061518, -0.18528439091173143, -0.39671892843418255, 0.9750242323326788, -0.3156222581854717, 1.302174739723842, 0.4202131355178396, -0.18633489367649939, -0.12720880018978345, -0.8711809019783133, -1.4766128096061217, -2.9718066897234943, -0.3730078469092899, 0.2571386101034309, -2.038430992628252, -0.8801763818152201, 0.48766939523518743, 0.6740086985274447, 0.19698181022628747, 0.4588520921724877, -0.05493837425086435, 2.020688845273047, 1.3837995491160617, 1.3627531794926535, -0.2663999994879829, -0.31855408254638695, -0.3221482173404135, -1.0813733215424397, -0.07456682600096277, 0.022270478528954966, -0.7687901778206974, 0.20211356333211608, -0.3466042862672192, -0.29770401786177253, 1.924068981184556, 0.4166026305574222, 0.7130618514834973, 0.7549500289198516, 0.7480435567616913, 0.18099971650917926, 0.055100961271098196, 0.5338230256264612, -1.480283918840456, 0.5406354071262564, -0.5865582807982657, -0.02765724334386302, -0.6877356155092275, -0.3299348292003524, 0.5270083935750511, -1.4009279263124652, 1.204185223817746, 2.0002342727662876, 0.8552937941245979, 0.6689086788392139, -0.1780437572272499, 1.4610352690906416, -0.7883153342248242, 1.4101027377035793, -0.9173861802927062], \"xaxis\": \"x15\", \"y\": [1.9123971090410545, 0.20731978815254576, 0.5480827947183378, -0.3125002179614214, -0.08695658497105009, -0.01143451325044511, -0.057680403919281496, -0.31953374555578895, 0.12392089659460419, -1.8421489172772836, -1.1973955447982725, -2.0745532732852388, 0.3088064937003683, -1.88873465987546, 1.2066647717665306, -0.1512762433495319, -0.09342382578583544, -0.7107802075648229, 0.98216585539338, 0.1116443404998465, -0.5360503670606694, 2.4069270699389325, -0.021835613821789564, -0.49051914720565176, 2.52967452460814, -0.9614231704468748, -0.8636148280761206, 2.0885718885887754, 0.3567419175718976, 2.2417162616504847, -0.3499805216568416, -0.06246377941350967, -0.9130307249543688, 0.21672128232587234, 0.3039601406357903, -0.3704024048918782, -0.4397341667328155, 0.23626815942283505, -1.4165159388518738, 0.24582637557137516, -2.895481841382021, -0.2673316098678332, -0.25801794151144847, 1.3785710450412867, 0.04305953878120779, -1.2029740616305302, -0.09369581345893953, 0.9202911146342643, -1.2328477698406155, 0.05888192109937479, 0.33780081544485774, -0.9034069829121224, -0.4332288623391349, -1.2997925902979068, -0.9074637038793495, 0.9532595230516671, -1.4513336342172545, -0.7221190490653255, 0.860961107203073, -0.05283710819885914, 1.7303941172129738, 1.7386693550314218, 0.7012970466600155, 0.08776671116031264, 1.3522260576402978, 0.778900077142074, -1.1409396494552497, -2.5364866220234843, -0.9973799889857837, -2.3776600537860113, 0.4322804782784286, 0.20605848574637545, 0.2084998309889521, 0.4087986192576177, -1.0102839482906854, -1.3051723098783508, -0.4375940788817426, -0.21158832117656054, -1.4183347586119168, -0.12368052903158491, 0.8201793634509791, -0.24906131242964358, -0.21803405254034677, 1.6263939571133907, -2.284314049583247, 0.503167524977811, -0.08712443998053249, 1.7862760752496967, 0.0006600808731873957, 0.3160566148437891, 0.0008923865318643821, -0.9948516732251163, 0.6204463199668159, -2.1183081564092183, 0.7936393425462959, -0.07123068766319275, 0.1409696217829003, 1.1005028839776765, -1.2672538010458028, -1.2372320331073614], \"yaxis\": \"y15\"}, {\"histfunc\": \"count\", \"histnorm\": \"\", \"marker\": {\"color\": \"rgba(128, 0, 128, 1.0)\", \"line\": {\"color\": \"#4D5663\", \"width\": 1.3}}, \"name\": \"D\", \"nbinsx\": 10, \"opacity\": 0.8, \"orientation\": \"v\", \"type\": \"histogram\", \"x\": [1.9123971090410545, 0.20731978815254576, 0.5480827947183378, -0.3125002179614214, -0.08695658497105009, -0.01143451325044511, -0.057680403919281496, -0.31953374555578895, 0.12392089659460419, -1.8421489172772836, -1.1973955447982725, -2.0745532732852388, 0.3088064937003683, -1.88873465987546, 1.2066647717665306, -0.1512762433495319, -0.09342382578583544, -0.7107802075648229, 0.98216585539338, 0.1116443404998465, -0.5360503670606694, 2.4069270699389325, -0.021835613821789564, -0.49051914720565176, 2.52967452460814, -0.9614231704468748, -0.8636148280761206, 2.0885718885887754, 0.3567419175718976, 2.2417162616504847, -0.3499805216568416, -0.06246377941350967, -0.9130307249543688, 0.21672128232587234, 0.3039601406357903, -0.3704024048918782, -0.4397341667328155, 0.23626815942283505, -1.4165159388518738, 0.24582637557137516, -2.895481841382021, -0.2673316098678332, -0.25801794151144847, 1.3785710450412867, 0.04305953878120779, -1.2029740616305302, -0.09369581345893953, 0.9202911146342643, -1.2328477698406155, 0.05888192109937479, 0.33780081544485774, -0.9034069829121224, -0.4332288623391349, -1.2997925902979068, -0.9074637038793495, 0.9532595230516671, -1.4513336342172545, -0.7221190490653255, 0.860961107203073, -0.05283710819885914, 1.7303941172129738, 1.7386693550314218, 0.7012970466600155, 0.08776671116031264, 1.3522260576402978, 0.778900077142074, -1.1409396494552497, -2.5364866220234843, -0.9973799889857837, -2.3776600537860113, 0.4322804782784286, 0.20605848574637545, 0.2084998309889521, 0.4087986192576177, -1.0102839482906854, -1.3051723098783508, -0.4375940788817426, -0.21158832117656054, -1.4183347586119168, -0.12368052903158491, 0.8201793634509791, -0.24906131242964358, -0.21803405254034677, 1.6263939571133907, -2.284314049583247, 0.503167524977811, -0.08712443998053249, 1.7862760752496967, 0.0006600808731873957, 0.3160566148437891, 0.0008923865318643821, -0.9948516732251163, 0.6204463199668159, -2.1183081564092183, 0.7936393425462959, -0.07123068766319275, 0.1409696217829003, 1.1005028839776765, -1.2672538010458028, -1.2372320331073614], \"xaxis\": \"x16\", \"yaxis\": \"y16\"}],                        {\"bargap\": 0.02, \"legend\": {\"bgcolor\": \"#F5F6F9\", \"font\": {\"color\": \"#4D5663\"}}, \"paper_bgcolor\": \"#F5F6F9\", \"plot_bgcolor\": \"#F5F6F9\", \"showlegend\": false, \"template\": {\"data\": {\"bar\": [{\"error_x\": {\"color\": \"#2a3f5f\"}, \"error_y\": {\"color\": \"#2a3f5f\"}, \"marker\": {\"line\": {\"color\": \"#E5ECF6\", \"width\": 0.5}}, \"type\": \"bar\"}], \"barpolar\": [{\"marker\": {\"line\": {\"color\": \"#E5ECF6\", \"width\": 0.5}}, \"type\": \"barpolar\"}], \"carpet\": [{\"aaxis\": {\"endlinecolor\": \"#2a3f5f\", \"gridcolor\": \"white\", \"linecolor\": \"white\", \"minorgridcolor\": \"white\", \"startlinecolor\": \"#2a3f5f\"}, \"baxis\": {\"endlinecolor\": \"#2a3f5f\", \"gridcolor\": \"white\", \"linecolor\": \"white\", \"minorgridcolor\": \"white\", \"startlinecolor\": \"#2a3f5f\"}, \"type\": \"carpet\"}], \"choropleth\": [{\"colorbar\": {\"outlinewidth\": 0, \"ticks\": \"\"}, \"type\": \"choropleth\"}], \"contour\": [{\"colorbar\": {\"outlinewidth\": 0, \"ticks\": \"\"}, \"colorscale\": [[0.0, \"#0d0887\"], [0.1111111111111111, \"#46039f\"], [0.2222222222222222, \"#7201a8\"], [0.3333333333333333, \"#9c179e\"], [0.4444444444444444, \"#bd3786\"], [0.5555555555555556, \"#d8576b\"], [0.6666666666666666, \"#ed7953\"], [0.7777777777777778, \"#fb9f3a\"], [0.8888888888888888, \"#fdca26\"], [1.0, \"#f0f921\"]], \"type\": \"contour\"}], \"contourcarpet\": [{\"colorbar\": {\"outlinewidth\": 0, \"ticks\": \"\"}, \"type\": \"contourcarpet\"}], \"heatmap\": [{\"colorbar\": {\"outlinewidth\": 0, \"ticks\": \"\"}, \"colorscale\": [[0.0, \"#0d0887\"], [0.1111111111111111, \"#46039f\"], [0.2222222222222222, \"#7201a8\"], [0.3333333333333333, \"#9c179e\"], [0.4444444444444444, \"#bd3786\"], [0.5555555555555556, \"#d8576b\"], [0.6666666666666666, \"#ed7953\"], [0.7777777777777778, \"#fb9f3a\"], [0.8888888888888888, \"#fdca26\"], [1.0, \"#f0f921\"]], \"type\": \"heatmap\"}], \"heatmapgl\": [{\"colorbar\": {\"outlinewidth\": 0, \"ticks\": \"\"}, \"colorscale\": [[0.0, \"#0d0887\"], [0.1111111111111111, \"#46039f\"], [0.2222222222222222, \"#7201a8\"], [0.3333333333333333, \"#9c179e\"], [0.4444444444444444, \"#bd3786\"], [0.5555555555555556, \"#d8576b\"], [0.6666666666666666, \"#ed7953\"], [0.7777777777777778, \"#fb9f3a\"], [0.8888888888888888, \"#fdca26\"], [1.0, \"#f0f921\"]], \"type\": \"heatmapgl\"}], \"histogram\": [{\"marker\": {\"colorbar\": {\"outlinewidth\": 0, \"ticks\": \"\"}}, \"type\": \"histogram\"}], \"histogram2d\": [{\"colorbar\": {\"outlinewidth\": 0, \"ticks\": \"\"}, \"colorscale\": [[0.0, \"#0d0887\"], [0.1111111111111111, \"#46039f\"], [0.2222222222222222, \"#7201a8\"], [0.3333333333333333, \"#9c179e\"], [0.4444444444444444, \"#bd3786\"], [0.5555555555555556, \"#d8576b\"], [0.6666666666666666, \"#ed7953\"], [0.7777777777777778, \"#fb9f3a\"], [0.8888888888888888, \"#fdca26\"], [1.0, \"#f0f921\"]], \"type\": \"histogram2d\"}], \"histogram2dcontour\": [{\"colorbar\": {\"outlinewidth\": 0, \"ticks\": \"\"}, \"colorscale\": [[0.0, \"#0d0887\"], [0.1111111111111111, \"#46039f\"], [0.2222222222222222, \"#7201a8\"], [0.3333333333333333, \"#9c179e\"], [0.4444444444444444, \"#bd3786\"], [0.5555555555555556, \"#d8576b\"], [0.6666666666666666, \"#ed7953\"], [0.7777777777777778, \"#fb9f3a\"], [0.8888888888888888, \"#fdca26\"], [1.0, \"#f0f921\"]], \"type\": \"histogram2dcontour\"}], \"mesh3d\": [{\"colorbar\": {\"outlinewidth\": 0, \"ticks\": \"\"}, \"type\": \"mesh3d\"}], \"parcoords\": [{\"line\": {\"colorbar\": {\"outlinewidth\": 0, \"ticks\": \"\"}}, \"type\": \"parcoords\"}], \"pie\": [{\"automargin\": true, \"type\": \"pie\"}], \"scatter\": [{\"marker\": {\"colorbar\": {\"outlinewidth\": 0, \"ticks\": \"\"}}, \"type\": \"scatter\"}], \"scatter3d\": [{\"line\": {\"colorbar\": {\"outlinewidth\": 0, \"ticks\": \"\"}}, \"marker\": {\"colorbar\": {\"outlinewidth\": 0, \"ticks\": \"\"}}, \"type\": \"scatter3d\"}], \"scattercarpet\": [{\"marker\": {\"colorbar\": {\"outlinewidth\": 0, \"ticks\": \"\"}}, \"type\": \"scattercarpet\"}], \"scattergeo\": [{\"marker\": {\"colorbar\": {\"outlinewidth\": 0, \"ticks\": \"\"}}, \"type\": \"scattergeo\"}], \"scattergl\": [{\"marker\": {\"colorbar\": {\"outlinewidth\": 0, \"ticks\": \"\"}}, \"type\": \"scattergl\"}], \"scattermapbox\": [{\"marker\": {\"colorbar\": {\"outlinewidth\": 0, \"ticks\": \"\"}}, \"type\": \"scattermapbox\"}], \"scatterpolar\": [{\"marker\": {\"colorbar\": {\"outlinewidth\": 0, \"ticks\": \"\"}}, \"type\": \"scatterpolar\"}], \"scatterpolargl\": [{\"marker\": {\"colorbar\": {\"outlinewidth\": 0, \"ticks\": \"\"}}, \"type\": \"scatterpolargl\"}], \"scatterternary\": [{\"marker\": {\"colorbar\": {\"outlinewidth\": 0, \"ticks\": \"\"}}, \"type\": \"scatterternary\"}], \"surface\": [{\"colorbar\": {\"outlinewidth\": 0, \"ticks\": \"\"}, \"colorscale\": [[0.0, \"#0d0887\"], [0.1111111111111111, \"#46039f\"], [0.2222222222222222, \"#7201a8\"], [0.3333333333333333, \"#9c179e\"], [0.4444444444444444, \"#bd3786\"], [0.5555555555555556, \"#d8576b\"], [0.6666666666666666, \"#ed7953\"], [0.7777777777777778, \"#fb9f3a\"], [0.8888888888888888, \"#fdca26\"], [1.0, \"#f0f921\"]], \"type\": \"surface\"}], \"table\": [{\"cells\": {\"fill\": {\"color\": \"#EBF0F8\"}, \"line\": {\"color\": \"white\"}}, \"header\": {\"fill\": {\"color\": \"#C8D4E3\"}, \"line\": {\"color\": \"white\"}}, \"type\": \"table\"}]}, \"layout\": {\"annotationdefaults\": {\"arrowcolor\": \"#2a3f5f\", \"arrowhead\": 0, \"arrowwidth\": 1}, \"autotypenumbers\": \"strict\", \"coloraxis\": {\"colorbar\": {\"outlinewidth\": 0, \"ticks\": \"\"}}, \"colorscale\": {\"diverging\": [[0, \"#8e0152\"], [0.1, \"#c51b7d\"], [0.2, \"#de77ae\"], [0.3, \"#f1b6da\"], [0.4, \"#fde0ef\"], [0.5, \"#f7f7f7\"], [0.6, \"#e6f5d0\"], [0.7, \"#b8e186\"], [0.8, \"#7fbc41\"], [0.9, \"#4d9221\"], [1, \"#276419\"]], \"sequential\": [[0.0, \"#0d0887\"], [0.1111111111111111, \"#46039f\"], [0.2222222222222222, \"#7201a8\"], [0.3333333333333333, \"#9c179e\"], [0.4444444444444444, \"#bd3786\"], [0.5555555555555556, \"#d8576b\"], [0.6666666666666666, \"#ed7953\"], [0.7777777777777778, \"#fb9f3a\"], [0.8888888888888888, \"#fdca26\"], [1.0, \"#f0f921\"]], \"sequentialminus\": [[0.0, \"#0d0887\"], [0.1111111111111111, \"#46039f\"], [0.2222222222222222, \"#7201a8\"], [0.3333333333333333, \"#9c179e\"], [0.4444444444444444, \"#bd3786\"], [0.5555555555555556, \"#d8576b\"], [0.6666666666666666, \"#ed7953\"], [0.7777777777777778, \"#fb9f3a\"], [0.8888888888888888, \"#fdca26\"], [1.0, \"#f0f921\"]]}, \"colorway\": [\"#636efa\", \"#EF553B\", \"#00cc96\", \"#ab63fa\", \"#FFA15A\", \"#19d3f3\", \"#FF6692\", \"#B6E880\", \"#FF97FF\", \"#FECB52\"], \"font\": {\"color\": \"#2a3f5f\"}, \"geo\": {\"bgcolor\": \"white\", \"lakecolor\": \"white\", \"landcolor\": \"#E5ECF6\", \"showlakes\": true, \"showland\": true, \"subunitcolor\": \"white\"}, \"hoverlabel\": {\"align\": \"left\"}, \"hovermode\": \"closest\", \"mapbox\": {\"style\": \"light\"}, \"paper_bgcolor\": \"white\", \"plot_bgcolor\": \"#E5ECF6\", \"polar\": {\"angularaxis\": {\"gridcolor\": \"white\", \"linecolor\": \"white\", \"ticks\": \"\"}, \"bgcolor\": \"#E5ECF6\", \"radialaxis\": {\"gridcolor\": \"white\", \"linecolor\": \"white\", \"ticks\": \"\"}}, \"scene\": {\"xaxis\": {\"backgroundcolor\": \"#E5ECF6\", \"gridcolor\": \"white\", \"gridwidth\": 2, \"linecolor\": \"white\", \"showbackground\": true, \"ticks\": \"\", \"zerolinecolor\": \"white\"}, \"yaxis\": {\"backgroundcolor\": \"#E5ECF6\", \"gridcolor\": \"white\", \"gridwidth\": 2, \"linecolor\": \"white\", \"showbackground\": true, \"ticks\": \"\", \"zerolinecolor\": \"white\"}, \"zaxis\": {\"backgroundcolor\": \"#E5ECF6\", \"gridcolor\": \"white\", \"gridwidth\": 2, \"linecolor\": \"white\", \"showbackground\": true, \"ticks\": \"\", \"zerolinecolor\": \"white\"}}, \"shapedefaults\": {\"line\": {\"color\": \"#2a3f5f\"}}, \"ternary\": {\"aaxis\": {\"gridcolor\": \"white\", \"linecolor\": \"white\", \"ticks\": \"\"}, \"baxis\": {\"gridcolor\": \"white\", \"linecolor\": \"white\", \"ticks\": \"\"}, \"bgcolor\": \"#E5ECF6\", \"caxis\": {\"gridcolor\": \"white\", \"linecolor\": \"white\", \"ticks\": \"\"}}, \"title\": {\"x\": 0.05}, \"xaxis\": {\"automargin\": true, \"gridcolor\": \"white\", \"linecolor\": \"white\", \"ticks\": \"\", \"title\": {\"standoff\": 15}, \"zerolinecolor\": \"white\", \"zerolinewidth\": 2}, \"yaxis\": {\"automargin\": true, \"gridcolor\": \"white\", \"linecolor\": \"white\", \"ticks\": \"\", \"title\": {\"standoff\": 15}, \"zerolinecolor\": \"white\", \"zerolinewidth\": 2}}}, \"title\": {\"font\": {\"color\": \"#4D5663\"}}, \"xaxis\": {\"anchor\": \"y\", \"domain\": [0.0, 0.2125], \"gridcolor\": \"#E1E5ED\", \"showgrid\": false, \"tickfont\": {\"color\": \"#4D5663\"}, \"title\": {\"font\": {\"color\": \"#4D5663\"}, \"text\": \"\"}, \"zerolinecolor\": \"#E1E5ED\"}, \"xaxis10\": {\"anchor\": \"y10\", \"domain\": [0.2625, 0.475], \"gridcolor\": \"#E1E5ED\", \"showgrid\": false, \"tickfont\": {\"color\": \"#4D5663\"}, \"title\": {\"font\": {\"color\": \"#4D5663\"}, \"text\": \"\"}, \"zerolinecolor\": \"#E1E5ED\"}, \"xaxis11\": {\"anchor\": \"y11\", \"domain\": [0.525, 0.7375], \"gridcolor\": \"#E1E5ED\", \"showgrid\": false, \"tickfont\": {\"color\": \"#4D5663\"}, \"title\": {\"font\": {\"color\": \"#4D5663\"}, \"text\": \"\"}, \"zerolinecolor\": \"#E1E5ED\"}, \"xaxis12\": {\"anchor\": \"y12\", \"domain\": [0.7875, 1.0], \"gridcolor\": \"#E1E5ED\", \"showgrid\": false, \"tickfont\": {\"color\": \"#4D5663\"}, \"title\": {\"font\": {\"color\": \"#4D5663\"}, \"text\": \"\"}, \"zerolinecolor\": \"#E1E5ED\"}, \"xaxis13\": {\"anchor\": \"y13\", \"domain\": [0.0, 0.2125], \"gridcolor\": \"#E1E5ED\", \"showgrid\": false, \"tickfont\": {\"color\": \"#4D5663\"}, \"title\": {\"font\": {\"color\": \"#4D5663\"}, \"text\": \"\"}, \"zerolinecolor\": \"#E1E5ED\"}, \"xaxis14\": {\"anchor\": \"y14\", \"domain\": [0.2625, 0.475], \"gridcolor\": \"#E1E5ED\", \"showgrid\": false, \"tickfont\": {\"color\": \"#4D5663\"}, \"title\": {\"font\": {\"color\": \"#4D5663\"}, \"text\": \"\"}, \"zerolinecolor\": \"#E1E5ED\"}, \"xaxis15\": {\"anchor\": \"y15\", \"domain\": [0.525, 0.7375], \"gridcolor\": \"#E1E5ED\", \"showgrid\": false, \"tickfont\": {\"color\": \"#4D5663\"}, \"title\": {\"font\": {\"color\": \"#4D5663\"}, \"text\": \"\"}, \"zerolinecolor\": \"#E1E5ED\"}, \"xaxis16\": {\"anchor\": \"y16\", \"domain\": [0.7875, 1.0], \"gridcolor\": \"#E1E5ED\", \"showgrid\": false, \"tickfont\": {\"color\": \"#4D5663\"}, \"title\": {\"font\": {\"color\": \"#4D5663\"}, \"text\": \"\"}, \"zerolinecolor\": \"#E1E5ED\"}, \"xaxis2\": {\"anchor\": \"y2\", \"domain\": [0.2625, 0.475], \"gridcolor\": \"#E1E5ED\", \"showgrid\": false, \"tickfont\": {\"color\": \"#4D5663\"}, \"title\": {\"font\": {\"color\": \"#4D5663\"}, \"text\": \"\"}, \"zerolinecolor\": \"#E1E5ED\"}, \"xaxis3\": {\"anchor\": \"y3\", \"domain\": [0.525, 0.7375], \"gridcolor\": \"#E1E5ED\", \"showgrid\": false, \"tickfont\": {\"color\": \"#4D5663\"}, \"title\": {\"font\": {\"color\": \"#4D5663\"}, \"text\": \"\"}, \"zerolinecolor\": \"#E1E5ED\"}, \"xaxis4\": {\"anchor\": \"y4\", \"domain\": [0.7875, 1.0], \"gridcolor\": \"#E1E5ED\", \"showgrid\": false, \"tickfont\": {\"color\": \"#4D5663\"}, \"title\": {\"font\": {\"color\": \"#4D5663\"}, \"text\": \"\"}, \"zerolinecolor\": \"#E1E5ED\"}, \"xaxis5\": {\"anchor\": \"y5\", \"domain\": [0.0, 0.2125], \"gridcolor\": \"#E1E5ED\", \"showgrid\": false, \"tickfont\": {\"color\": \"#4D5663\"}, \"title\": {\"font\": {\"color\": \"#4D5663\"}, \"text\": \"\"}, \"zerolinecolor\": \"#E1E5ED\"}, \"xaxis6\": {\"anchor\": \"y6\", \"domain\": [0.2625, 0.475], \"gridcolor\": \"#E1E5ED\", \"showgrid\": false, \"tickfont\": {\"color\": \"#4D5663\"}, \"title\": {\"font\": {\"color\": \"#4D5663\"}, \"text\": \"\"}, \"zerolinecolor\": \"#E1E5ED\"}, \"xaxis7\": {\"anchor\": \"y7\", \"domain\": [0.525, 0.7375], \"gridcolor\": \"#E1E5ED\", \"showgrid\": false, \"tickfont\": {\"color\": \"#4D5663\"}, \"title\": {\"font\": {\"color\": \"#4D5663\"}, \"text\": \"\"}, \"zerolinecolor\": \"#E1E5ED\"}, \"xaxis8\": {\"anchor\": \"y8\", \"domain\": [0.7875, 1.0], \"gridcolor\": \"#E1E5ED\", \"showgrid\": false, \"tickfont\": {\"color\": \"#4D5663\"}, \"title\": {\"font\": {\"color\": \"#4D5663\"}, \"text\": \"\"}, \"zerolinecolor\": \"#E1E5ED\"}, \"xaxis9\": {\"anchor\": \"y9\", \"domain\": [0.0, 0.2125], \"gridcolor\": \"#E1E5ED\", \"showgrid\": false, \"tickfont\": {\"color\": \"#4D5663\"}, \"title\": {\"font\": {\"color\": \"#4D5663\"}, \"text\": \"\"}, \"zerolinecolor\": \"#E1E5ED\"}, \"yaxis\": {\"anchor\": \"x\", \"domain\": [0.8025, 1.0], \"gridcolor\": \"#E1E5ED\", \"showgrid\": false, \"tickfont\": {\"color\": \"#4D5663\"}, \"title\": {\"font\": {\"color\": \"#4D5663\"}, \"text\": \"\"}, \"zerolinecolor\": \"#E1E5ED\"}, \"yaxis10\": {\"anchor\": \"x10\", \"domain\": [0.2675, 0.465], \"gridcolor\": \"#E1E5ED\", \"showgrid\": false, \"tickfont\": {\"color\": \"#4D5663\"}, \"title\": {\"font\": {\"color\": \"#4D5663\"}, \"text\": \"\"}, \"zerolinecolor\": \"#E1E5ED\"}, \"yaxis11\": {\"anchor\": \"x11\", \"domain\": [0.2675, 0.465], \"gridcolor\": \"#E1E5ED\", \"showgrid\": false, \"tickfont\": {\"color\": \"#4D5663\"}, \"title\": {\"font\": {\"color\": \"#4D5663\"}, \"text\": \"\"}, \"zerolinecolor\": \"#E1E5ED\"}, \"yaxis12\": {\"anchor\": \"x12\", \"domain\": [0.2675, 0.465], \"gridcolor\": \"#E1E5ED\", \"showgrid\": false, \"tickfont\": {\"color\": \"#4D5663\"}, \"title\": {\"font\": {\"color\": \"#4D5663\"}, \"text\": \"\"}, \"zerolinecolor\": \"#E1E5ED\"}, \"yaxis13\": {\"anchor\": \"x13\", \"domain\": [0.0, 0.1975], \"gridcolor\": \"#E1E5ED\", \"showgrid\": false, \"tickfont\": {\"color\": \"#4D5663\"}, \"title\": {\"font\": {\"color\": \"#4D5663\"}, \"text\": \"\"}, \"zerolinecolor\": \"#E1E5ED\"}, \"yaxis14\": {\"anchor\": \"x14\", \"domain\": [0.0, 0.1975], \"gridcolor\": \"#E1E5ED\", \"showgrid\": false, \"tickfont\": {\"color\": \"#4D5663\"}, \"title\": {\"font\": {\"color\": \"#4D5663\"}, \"text\": \"\"}, \"zerolinecolor\": \"#E1E5ED\"}, \"yaxis15\": {\"anchor\": \"x15\", \"domain\": [0.0, 0.1975], \"gridcolor\": \"#E1E5ED\", \"showgrid\": false, \"tickfont\": {\"color\": \"#4D5663\"}, \"title\": {\"font\": {\"color\": \"#4D5663\"}, \"text\": \"\"}, \"zerolinecolor\": \"#E1E5ED\"}, \"yaxis16\": {\"anchor\": \"x16\", \"domain\": [0.0, 0.1975], \"gridcolor\": \"#E1E5ED\", \"showgrid\": false, \"tickfont\": {\"color\": \"#4D5663\"}, \"title\": {\"font\": {\"color\": \"#4D5663\"}, \"text\": \"\"}, \"zerolinecolor\": \"#E1E5ED\"}, \"yaxis2\": {\"anchor\": \"x2\", \"domain\": [0.8025, 1.0], \"gridcolor\": \"#E1E5ED\", \"showgrid\": false, \"tickfont\": {\"color\": \"#4D5663\"}, \"title\": {\"font\": {\"color\": \"#4D5663\"}, \"text\": \"\"}, \"zerolinecolor\": \"#E1E5ED\"}, \"yaxis3\": {\"anchor\": \"x3\", \"domain\": [0.8025, 1.0], \"gridcolor\": \"#E1E5ED\", \"showgrid\": false, \"tickfont\": {\"color\": \"#4D5663\"}, \"title\": {\"font\": {\"color\": \"#4D5663\"}, \"text\": \"\"}, \"zerolinecolor\": \"#E1E5ED\"}, \"yaxis4\": {\"anchor\": \"x4\", \"domain\": [0.8025, 1.0], \"gridcolor\": \"#E1E5ED\", \"showgrid\": false, \"tickfont\": {\"color\": \"#4D5663\"}, \"title\": {\"font\": {\"color\": \"#4D5663\"}, \"text\": \"\"}, \"zerolinecolor\": \"#E1E5ED\"}, \"yaxis5\": {\"anchor\": \"x5\", \"domain\": [0.535, 0.7325], \"gridcolor\": \"#E1E5ED\", \"showgrid\": false, \"tickfont\": {\"color\": \"#4D5663\"}, \"title\": {\"font\": {\"color\": \"#4D5663\"}, \"text\": \"\"}, \"zerolinecolor\": \"#E1E5ED\"}, \"yaxis6\": {\"anchor\": \"x6\", \"domain\": [0.535, 0.7325], \"gridcolor\": \"#E1E5ED\", \"showgrid\": false, \"tickfont\": {\"color\": \"#4D5663\"}, \"title\": {\"font\": {\"color\": \"#4D5663\"}, \"text\": \"\"}, \"zerolinecolor\": \"#E1E5ED\"}, \"yaxis7\": {\"anchor\": \"x7\", \"domain\": [0.535, 0.7325], \"gridcolor\": \"#E1E5ED\", \"showgrid\": false, \"tickfont\": {\"color\": \"#4D5663\"}, \"title\": {\"font\": {\"color\": \"#4D5663\"}, \"text\": \"\"}, \"zerolinecolor\": \"#E1E5ED\"}, \"yaxis8\": {\"anchor\": \"x8\", \"domain\": [0.535, 0.7325], \"gridcolor\": \"#E1E5ED\", \"showgrid\": false, \"tickfont\": {\"color\": \"#4D5663\"}, \"title\": {\"font\": {\"color\": \"#4D5663\"}, \"text\": \"\"}, \"zerolinecolor\": \"#E1E5ED\"}, \"yaxis9\": {\"anchor\": \"x9\", \"domain\": [0.2675, 0.465], \"gridcolor\": \"#E1E5ED\", \"showgrid\": false, \"tickfont\": {\"color\": \"#4D5663\"}, \"title\": {\"font\": {\"color\": \"#4D5663\"}, \"text\": \"\"}, \"zerolinecolor\": \"#E1E5ED\"}},                        {\"showLink\": true, \"linkText\": \"Export to plot.ly\", \"plotlyServerURL\": \"https://plot.ly\", \"responsive\": true}                    ).then(function(){\n",
       "                            \n",
       "var gd = document.getElementById('c495aedd-e75d-44c6-a0d9-8b7e0000f6e0');\n",
       "var x = new MutationObserver(function (mutations, observer) {{\n",
       "        var display = window.getComputedStyle(gd).display;\n",
       "        if (!display || display === 'none') {{\n",
       "            console.log([gd, 'removed!']);\n",
       "            Plotly.purge(gd);\n",
       "            observer.disconnect();\n",
       "        }}\n",
       "}});\n",
       "\n",
       "// Listen for the removal of the full notebook cells\n",
       "var notebookContainer = gd.closest('#notebook-container');\n",
       "if (notebookContainer) {{\n",
       "    x.observe(notebookContainer, {childList: true});\n",
       "}}\n",
       "\n",
       "// Listen for the clearing of the current output cell\n",
       "var outputEl = gd.closest('.output');\n",
       "if (outputEl) {{\n",
       "    x.observe(outputEl, {childList: true});\n",
       "}}\n",
       "\n",
       "                        })                };                });            </script>        </div>"
      ]
     },
     "metadata": {},
     "output_type": "display_data"
    }
   ],
   "source": [
    "df.scatter_matrix()"
   ]
  },
  {
   "cell_type": "markdown",
   "metadata": {
    "collapsed": true
   },
   "source": [
    "# Great Job!"
   ]
  }
 ],
 "metadata": {
  "kernelspec": {
   "display_name": "Python 3",
   "language": "python",
   "name": "python3"
  },
  "language_info": {
   "codemirror_mode": {
    "name": "ipython",
    "version": 3
   },
   "file_extension": ".py",
   "mimetype": "text/x-python",
   "name": "python",
   "nbconvert_exporter": "python",
   "pygments_lexer": "ipython3",
   "version": "3.8.3"
  }
 },
 "nbformat": 4,
 "nbformat_minor": 1
}
