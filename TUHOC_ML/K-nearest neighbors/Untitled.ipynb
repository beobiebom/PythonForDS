{
 "cells": [
  {
   "cell_type": "code",
   "execution_count": 1,
   "id": "dress-energy",
   "metadata": {},
   "outputs": [],
   "source": [
    "import numpy as np\n",
    "from time import time"
   ]
  },
  {
   "cell_type": "code",
   "execution_count": 3,
   "id": "numerous-karaoke",
   "metadata": {},
   "outputs": [],
   "source": [
    "d,N=1000,10000\n",
    "X=np.random.randn(N,d)\n",
    "z=np.random.randn(d)"
   ]
  },
  {
   "cell_type": "code",
   "execution_count": 5,
   "id": "according-athletics",
   "metadata": {},
   "outputs": [],
   "source": [
    "def dist_pp(z,x):\n",
    "    d=z-x\n",
    "    return sum(d*d)"
   ]
  },
  {
   "cell_type": "code",
   "execution_count": 8,
   "id": "tired-companion",
   "metadata": {},
   "outputs": [],
   "source": [
    "def dist_ps_naive(z,X):\n",
    "    res=np.zeros((1,N))\n",
    "    for i in range(N):\n",
    "        res[0][i]=dist_pp(z,X[i])\n",
    "    return res"
   ]
  },
  {
   "cell_type": "code",
   "execution_count": 14,
   "id": "reasonable-garden",
   "metadata": {},
   "outputs": [],
   "source": [
    "def dist_ps_fast(z,X):\n",
    "    X2=np.sum(X*X,1)\n",
    "    z2=np.sum(z*z)\n",
    "    return X2+z2-2*X.dot(z)"
   ]
  },
  {
   "cell_type": "code",
   "execution_count": 18,
   "id": "transparent-costs",
   "metadata": {},
   "outputs": [
    {
     "name": "stdout",
     "output_type": "stream",
     "text": [
      "naive point2set, running time: 1.5690827369689941 s\n",
      "fast point2set , running time: 0.09626364707946777 s\n",
      "Result difference: 1.5905792162766028e-10\n"
     ]
    }
   ],
   "source": [
    "t1 = time()\n",
    "D1 = dist_ps_naive(z, X)\n",
    "print(\"naive point2set, running time:\", time() - t1, \"s\")\n",
    "t1 = time()\n",
    "D2 = dist_ps_fast(z, X)\n",
    "print(\"fast point2set , running time:\", time() - t1, \"s\")\n",
    "print(\"Result difference:\", np.linalg.norm(D1 - D2))"
   ]
  },
  {
   "cell_type": "code",
   "execution_count": 24,
   "id": "textile-hartford",
   "metadata": {},
   "outputs": [
    {
     "data": {
      "text/plain": [
       "array([[-0.20923206],\n",
       "       [-2.2080198 ],\n",
       "       [ 1.57356354],\n",
       "       ...,\n",
       "       [-0.34226796],\n",
       "       [-0.37124851],\n",
       "       [ 1.98979158]])"
      ]
     },
     "execution_count": 24,
     "metadata": {},
     "output_type": "execute_result"
    }
   ],
   "source": [
    "X.reshape(-1,1)"
   ]
  },
  {
   "cell_type": "code",
   "execution_count": 34,
   "id": "concrete-toronto",
   "metadata": {},
   "outputs": [],
   "source": [
    "test1=np.random.randn(2,2)\n",
    "test2=np.random.randn(2)"
   ]
  },
  {
   "cell_type": "code",
   "execution_count": 35,
   "id": "small-equality",
   "metadata": {},
   "outputs": [
    {
     "data": {
      "text/plain": [
       "array([[-0.25661011, -0.05514656],\n",
       "       [-0.68286879,  0.34178106]])"
      ]
     },
     "execution_count": 35,
     "metadata": {},
     "output_type": "execute_result"
    }
   ],
   "source": [
    "test1"
   ]
  },
  {
   "cell_type": "code",
   "execution_count": 36,
   "id": "close-unemployment",
   "metadata": {},
   "outputs": [
    {
     "data": {
      "text/plain": [
       "array([ 0.8208423 , -0.45055796])"
      ]
     },
     "execution_count": 36,
     "metadata": {},
     "output_type": "execute_result"
    }
   ],
   "source": [
    "test2"
   ]
  },
  {
   "cell_type": "code",
   "execution_count": 39,
   "id": "generic-routine",
   "metadata": {},
   "outputs": [
    {
     "data": {
      "text/plain": [
       "array([-0.18578972, -0.71451977])"
      ]
     },
     "execution_count": 39,
     "metadata": {},
     "output_type": "execute_result"
    }
   ],
   "source": [
    "test1.dot(test2)"
   ]
  },
  {
   "cell_type": "markdown",
   "id": "legitimate-hormone",
   "metadata": {},
   "source": [
    "# sklearn"
   ]
  },
  {
   "cell_type": "code",
   "execution_count": 41,
   "id": "configured-isaac",
   "metadata": {},
   "outputs": [],
   "source": [
    "from sklearn.model_selection import train_test_split\n",
    "from sklearn import neighbors,datasets\n",
    "from sklearn.metrics import accuracy_score"
   ]
  },
  {
   "cell_type": "code",
   "execution_count": 42,
   "id": "cross-arizona",
   "metadata": {},
   "outputs": [],
   "source": [
    "np.random.seed(7)\n",
    "iris=datasets.load_iris()\n",
    "iris_X=iris.data\n",
    "iris_y=iris.target"
   ]
  },
  {
   "cell_type": "code",
   "execution_count": 43,
   "id": "radio-revolution",
   "metadata": {},
   "outputs": [
    {
     "name": "stdout",
     "output_type": "stream",
     "text": [
      "Labels:  [0 1 2]\n"
     ]
    }
   ],
   "source": [
    "print(\"Labels: \",np.unique(iris_y))"
   ]
  },
  {
   "cell_type": "code",
   "execution_count": 44,
   "id": "atomic-dinner",
   "metadata": {},
   "outputs": [
    {
     "name": "stdout",
     "output_type": "stream",
     "text": [
      "Train size:  20 , test size:  130\n"
     ]
    }
   ],
   "source": [
    "X_train,X_test,y_train,y_test=train_test_split(iris_X,iris_y,test_size=130)\n",
    "print(\"Train size: \",X_train.shape[0],\", test size: \",X_test.shape[0])"
   ]
  },
  {
   "cell_type": "code",
   "execution_count": 45,
   "id": "noticed-father",
   "metadata": {},
   "outputs": [],
   "source": [
    "model=neighbors.KNeighborsClassifier(n_neighbors=1,p=2)\n",
    "model.fit(X_train,y_train)\n",
    "y_pred=model.predict(X_test)"
   ]
  },
  {
   "cell_type": "code",
   "execution_count": 54,
   "id": "broke-stocks",
   "metadata": {},
   "outputs": [
    {
     "name": "stdout",
     "output_type": "stream",
     "text": [
      "Accuracy of 1NN: 92.31 %\n"
     ]
    }
   ],
   "source": [
    "print(f\"Accuracy of 1NN: {(100*accuracy_score(y_test,y_pred)):.2f} %\")"
   ]
  },
  {
   "cell_type": "code",
   "execution_count": 56,
   "id": "talented-english",
   "metadata": {},
   "outputs": [],
   "source": [
    "model=neighbors.KNeighborsClassifier(n_neighbors=7,p=2)\n",
    "model.fit(X_train,y_train)\n",
    "y_pred=model.predict(X_test)"
   ]
  },
  {
   "cell_type": "code",
   "execution_count": 57,
   "id": "focused-child",
   "metadata": {},
   "outputs": [
    {
     "name": "stdout",
     "output_type": "stream",
     "text": [
      "Accuracy of 7NN: 93.85 %\n"
     ]
    }
   ],
   "source": [
    "print(f\"Accuracy of 7NN: {(100*accuracy_score(y_test,y_pred)):.2f} %\")"
   ]
  },
  {
   "cell_type": "code",
   "execution_count": null,
   "id": "architectural-youth",
   "metadata": {},
   "outputs": [],
   "source": []
  }
 ],
 "metadata": {
  "kernelspec": {
   "display_name": "Python 3",
   "language": "python",
   "name": "python3"
  },
  "language_info": {
   "codemirror_mode": {
    "name": "ipython",
    "version": 3
   },
   "file_extension": ".py",
   "mimetype": "text/x-python",
   "name": "python",
   "nbconvert_exporter": "python",
   "pygments_lexer": "ipython3",
   "version": "3.8.3"
  }
 },
 "nbformat": 4,
 "nbformat_minor": 5
}
