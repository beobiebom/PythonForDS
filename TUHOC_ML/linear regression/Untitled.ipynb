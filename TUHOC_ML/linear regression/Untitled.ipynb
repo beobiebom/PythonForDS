{
 "cells": [
  {
   "cell_type": "code",
   "execution_count": 1,
   "id": "informal-mileage",
   "metadata": {},
   "outputs": [],
   "source": [
    "import numpy as np\n",
    "import matplotlib.pyplot as plt"
   ]
  },
  {
   "cell_type": "code",
   "execution_count": 2,
   "id": "becoming-wesley",
   "metadata": {},
   "outputs": [],
   "source": [
    "X = np.array([[147, 150, 153, 158, 163, 165, 168, 170, 173, 175, 178, 180, 183]]).T\n",
    "y = np.array([ 49, 50, 51, 54, 58, 59, 60, 62, 63, 64, 66, 67, 68])"
   ]
  },
  {
   "cell_type": "code",
   "execution_count": 4,
   "id": "improved-wilderness",
   "metadata": {},
   "outputs": [],
   "source": [
    "one=np.ones((X.shape[0],1))"
   ]
  },
  {
   "cell_type": "code",
   "execution_count": 6,
   "id": "major-google",
   "metadata": {},
   "outputs": [],
   "source": [
    "Xbar=np.concatenate((one,X),axis=1)"
   ]
  },
  {
   "cell_type": "code",
   "execution_count": 10,
   "id": "handed-mountain",
   "metadata": {},
   "outputs": [],
   "source": [
    "A=np.dot(Xbar.T,Xbar)\n",
    "B=np.dot(Xbar.T,y)\n",
    "w=np.dot(np.linalg.pinv(A),B)"
   ]
  },
  {
   "cell_type": "code",
   "execution_count": 11,
   "id": "eight-possible",
   "metadata": {},
   "outputs": [],
   "source": [
    "w_0,w_1=w[0],w[1]"
   ]
  },
  {
   "cell_type": "code",
   "execution_count": 13,
   "id": "played-shoot",
   "metadata": {},
   "outputs": [
    {
     "name": "stdout",
     "output_type": "stream",
     "text": [
      "Input 155cm, true output 52kg, predicted output 52.941358894844626 \n",
      "Input 160cm, true output 56kg, predicted output 55.73738370454248\n"
     ]
    }
   ],
   "source": [
    "y1 = w_1*155 + w_0\n",
    "y2 = w_1*160 + w_0\n",
    "print(f\"Input 155cm, true output 52kg, predicted output {y1} \")\n",
    "print(f\"Input 160cm, true output 56kg, predicted output {y2}\" )"
   ]
  },
  {
   "cell_type": "code",
   "execution_count": 16,
   "id": "swedish-europe",
   "metadata": {},
   "outputs": [
    {
     "data": {
      "text/plain": [
       "LinearRegression()"
      ]
     },
     "execution_count": 16,
     "metadata": {},
     "output_type": "execute_result"
    }
   ],
   "source": [
    "from sklearn.linear_model import LinearRegression\n",
    "lm=LinearRegression()\n",
    "lm.fit(X,y)"
   ]
  },
  {
   "cell_type": "code",
   "execution_count": 17,
   "id": "coastal-drove",
   "metadata": {},
   "outputs": [
    {
     "data": {
      "text/plain": [
       "array([0.55920496])"
      ]
     },
     "execution_count": 17,
     "metadata": {},
     "output_type": "execute_result"
    }
   ],
   "source": [
    "lm.coef_"
   ]
  },
  {
   "cell_type": "code",
   "execution_count": 18,
   "id": "qualified-server",
   "metadata": {},
   "outputs": [
    {
     "data": {
      "text/plain": [
       "-33.73541020580774"
      ]
     },
     "execution_count": 18,
     "metadata": {},
     "output_type": "execute_result"
    }
   ],
   "source": [
    "lm.intercept_"
   ]
  },
  {
   "cell_type": "code",
   "execution_count": null,
   "id": "arctic-father",
   "metadata": {},
   "outputs": [],
   "source": []
  }
 ],
 "metadata": {
  "kernelspec": {
   "display_name": "Python 3",
   "language": "python",
   "name": "python3"
  },
  "language_info": {
   "codemirror_mode": {
    "name": "ipython",
    "version": 3
   },
   "file_extension": ".py",
   "mimetype": "text/x-python",
   "name": "python",
   "nbconvert_exporter": "python",
   "pygments_lexer": "ipython3",
   "version": "3.8.3"
  }
 },
 "nbformat": 4,
 "nbformat_minor": 5
}
