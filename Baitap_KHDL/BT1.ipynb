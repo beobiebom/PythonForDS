{
 "cells": [
  {
   "cell_type": "code",
   "execution_count": 125,
   "id": "painted-subscription",
   "metadata": {},
   "outputs": [],
   "source": [
    "import pandas as pd \n",
    "import matplotlib.pyplot as plt\n",
    "import seaborn as sns"
   ]
  },
  {
   "cell_type": "code",
   "execution_count": 333,
   "id": "lyric-attachment",
   "metadata": {},
   "outputs": [
    {
     "name": "stderr",
     "output_type": "stream",
     "text": [
      "C:\\Users\\MinhDuc\\anaconda3\\lib\\site-packages\\openpyxl\\worksheet\\_reader.py:308: UserWarning:\n",
      "\n",
      "Data Validation extension is not supported and will be removed\n",
      "\n"
     ]
    }
   ],
   "source": [
    "forbes2020=pd.read_excel(\"Forbes Global 2000  - 2020.xlsx\")"
   ]
  },
  {
   "cell_type": "code",
   "execution_count": 203,
   "id": "young-wheat",
   "metadata": {},
   "outputs": [],
   "source": [
    "forbes2019=pd.read_csv(\"Forbes Global 2000 - 2019.csv\")\n",
    "forbes2018=pd.read_csv(\"Forbes Global 2000 - 2018.csv\")\n",
    "forbes2017=pd.read_csv(\"Forbes Global 2000 - 2017.csv\")\n",
    "forbes2016=pd.read_csv(\"Forbes Global 2000 - 2016.csv\")\n",
    "forbes2015=pd.read_csv(\"Forbes Global 2000 - 2015.csv\")\n",
    "forbes2014=pd.read_csv(\"Forbes Global 2000 - 2014.csv\")\n",
    "forbes2013=pd.read_csv(\"Forbes Global 2000 - 2013.csv\")\n",
    "forbes2012=pd.read_csv(\"Forbes Global 2000 - 2012.csv\")\n",
    "forbes2011=pd.read_csv(\"Forbes Global 2000 - 2011.csv\")\n",
    "forbes2010=pd.read_csv(\"Forbes Global 2000 - 2010.csv\")\n",
    "forbes2009=pd.read_csv(\"Forbes Global 2000 - 2009.csv\")\n",
    "forbes2008=pd.read_csv(\"Forbes Global 2000 - 2008.csv\")"
   ]
  },
  {
   "cell_type": "code",
   "execution_count": 335,
   "id": "occupied-serial",
   "metadata": {},
   "outputs": [],
   "source": [
    "forbes2020[\"Year\"]=int(2020)\n",
    "forbes2019[\"Year\"]=int(2019)\n",
    "forbes2018[\"Year\"]=int(2018)\n",
    "forbes2017[\"Year\"]=int(2017)\n",
    "forbes2016[\"Year\"]=int(2016)\n",
    "forbes2015[\"Year\"]=int(2015)\n",
    "forbes2014[\"Year\"]=int(2014)\n",
    "forbes2013[\"Year\"]=int(2013)\n",
    "forbes2012[\"Year\"]=int(2012)\n",
    "forbes2011[\"Year\"]=int(2011)\n",
    "forbes2010[\"Year\"]=int(2010)\n",
    "forbes2009[\"Year\"]=int(2009)\n",
    "forbes2008[\"Year\"]=int(2008)"
   ]
  },
  {
   "cell_type": "code",
   "execution_count": 336,
   "id": "uniform-packing",
   "metadata": {},
   "outputs": [
    {
     "name": "stdout",
     "output_type": "stream",
     "text": [
      "<class 'pandas.core.frame.DataFrame'>\n",
      "RangeIndex: 2000 entries, 0 to 1999\n",
      "Data columns (total 10 columns):\n",
      " #   Column             Non-Null Count  Dtype \n",
      "---  ------             --------------  ----- \n",
      " 0   Rank               2000 non-null   int64 \n",
      " 1   Company            2000 non-null   object\n",
      " 2   Country/Territory  2000 non-null   object\n",
      " 3   Sales              2000 non-null   object\n",
      " 4   Profits            2000 non-null   object\n",
      " 5   Assets             2000 non-null   object\n",
      " 6   Market Value       2000 non-null   object\n",
      " 7   Sector             1766 non-null   object\n",
      " 8   Industry           1767 non-null   object\n",
      " 9   Year               2000 non-null   int64 \n",
      "dtypes: int64(2), object(8)\n",
      "memory usage: 156.4+ KB\n"
     ]
    }
   ],
   "source": [
    "forbes2020.info()"
   ]
  },
  {
   "cell_type": "code",
   "execution_count": 41,
   "id": "functional-lodge",
   "metadata": {},
   "outputs": [
    {
     "data": {
      "text/html": [
       "<div>\n",
       "<style scoped>\n",
       "    .dataframe tbody tr th:only-of-type {\n",
       "        vertical-align: middle;\n",
       "    }\n",
       "\n",
       "    .dataframe tbody tr th {\n",
       "        vertical-align: top;\n",
       "    }\n",
       "\n",
       "    .dataframe thead th {\n",
       "        text-align: right;\n",
       "    }\n",
       "</style>\n",
       "<table border=\"1\" class=\"dataframe\">\n",
       "  <thead>\n",
       "    <tr style=\"text-align: right;\">\n",
       "      <th></th>\n",
       "      <th>Rank</th>\n",
       "      <th>Company</th>\n",
       "      <th>Country/Territory</th>\n",
       "      <th>Sales</th>\n",
       "      <th>Profits</th>\n",
       "      <th>Assets</th>\n",
       "      <th>Market Value</th>\n",
       "      <th>Sector</th>\n",
       "      <th>Industry</th>\n",
       "    </tr>\n",
       "  </thead>\n",
       "  <tbody>\n",
       "    <tr>\n",
       "      <th>0</th>\n",
       "      <td>1</td>\n",
       "      <td>ICBC</td>\n",
       "      <td>China</td>\n",
       "      <td>$177.2 B</td>\n",
       "      <td>$45.3 B</td>\n",
       "      <td>$4,322.5 B</td>\n",
       "      <td>$242.3 B</td>\n",
       "      <td>Financials</td>\n",
       "      <td>Major Banks</td>\n",
       "    </tr>\n",
       "    <tr>\n",
       "      <th>1</th>\n",
       "      <td>2</td>\n",
       "      <td>China Construction Bank</td>\n",
       "      <td>China</td>\n",
       "      <td>$162.1 B</td>\n",
       "      <td>$38.9 B</td>\n",
       "      <td>$3,822 B</td>\n",
       "      <td>$203.8 B</td>\n",
       "      <td>Financials</td>\n",
       "      <td>Major Banks</td>\n",
       "    </tr>\n",
       "    <tr>\n",
       "      <th>2</th>\n",
       "      <td>3</td>\n",
       "      <td>JPMorgan Chase</td>\n",
       "      <td>United States</td>\n",
       "      <td>$142.9 B</td>\n",
       "      <td>$30 B</td>\n",
       "      <td>$3,139.4 B</td>\n",
       "      <td>$291.7 B</td>\n",
       "      <td>Financials</td>\n",
       "      <td>Major Banks</td>\n",
       "    </tr>\n",
       "    <tr>\n",
       "      <th>3</th>\n",
       "      <td>4</td>\n",
       "      <td>Berkshire Hathaway</td>\n",
       "      <td>United States</td>\n",
       "      <td>$254.6 B</td>\n",
       "      <td>$81.4 B</td>\n",
       "      <td>$817.7 B</td>\n",
       "      <td>$455.4 B</td>\n",
       "      <td>Financials</td>\n",
       "      <td>Investment Services</td>\n",
       "    </tr>\n",
       "    <tr>\n",
       "      <th>4</th>\n",
       "      <td>5</td>\n",
       "      <td>Agricultural Bank of China</td>\n",
       "      <td>China</td>\n",
       "      <td>$148.7 B</td>\n",
       "      <td>$30.9 B</td>\n",
       "      <td>$3,697.5 B</td>\n",
       "      <td>$147.2 B</td>\n",
       "      <td>Financials</td>\n",
       "      <td>Regional Banks</td>\n",
       "    </tr>\n",
       "  </tbody>\n",
       "</table>\n",
       "</div>"
      ],
      "text/plain": [
       "   Rank                     Company Country/Territory     Sales  Profits  \\\n",
       "0     1                        ICBC             China  $177.2 B  $45.3 B   \n",
       "1     2     China Construction Bank             China  $162.1 B  $38.9 B   \n",
       "2     3              JPMorgan Chase     United States  $142.9 B    $30 B   \n",
       "3     4          Berkshire Hathaway     United States  $254.6 B  $81.4 B   \n",
       "4     5  Agricultural Bank of China             China  $148.7 B  $30.9 B   \n",
       "\n",
       "       Assets Market Value      Sector             Industry  \n",
       "0  $4,322.5 B     $242.3 B  Financials          Major Banks  \n",
       "1    $3,822 B     $203.8 B  Financials          Major Banks  \n",
       "2  $3,139.4 B     $291.7 B  Financials          Major Banks  \n",
       "3    $817.7 B     $455.4 B  Financials  Investment Services  \n",
       "4  $3,697.5 B     $147.2 B  Financials       Regional Banks  "
      ]
     },
     "execution_count": 41,
     "metadata": {},
     "output_type": "execute_result"
    }
   ],
   "source": [
    "forbes2020.head()"
   ]
  },
  {
   "cell_type": "code",
   "execution_count": 326,
   "id": "lonely-hepatitis",
   "metadata": {},
   "outputs": [],
   "source": [
    "forbes2020.rename({\"Country/Territory\":\"Country\"},axis=1,inplace=True)"
   ]
  },
  {
   "cell_type": "code",
   "execution_count": 45,
   "id": "recreational-processor",
   "metadata": {},
   "outputs": [],
   "source": [
    "forbes2019.drop([\"Sector\",\"Continent\",\"Headquarters\",\"State\",\"CEO\",\"Forbes Webpage\",\"Profits as % of Assets\",\"Profits as % of Revenue\"],axis=1,inplace=True)"
   ]
  },
  {
   "cell_type": "code",
   "execution_count": 46,
   "id": "stock-advertising",
   "metadata": {},
   "outputs": [
    {
     "data": {
      "text/html": [
       "<div>\n",
       "<style scoped>\n",
       "    .dataframe tbody tr th:only-of-type {\n",
       "        vertical-align: middle;\n",
       "    }\n",
       "\n",
       "    .dataframe tbody tr th {\n",
       "        vertical-align: top;\n",
       "    }\n",
       "\n",
       "    .dataframe thead th {\n",
       "        text-align: right;\n",
       "    }\n",
       "</style>\n",
       "<table border=\"1\" class=\"dataframe\">\n",
       "  <thead>\n",
       "    <tr style=\"text-align: right;\">\n",
       "      <th></th>\n",
       "      <th>Company</th>\n",
       "      <th>Market Value</th>\n",
       "      <th>Revenue</th>\n",
       "      <th>Profits</th>\n",
       "      <th>Assets</th>\n",
       "      <th>Rank</th>\n",
       "      <th>Industry</th>\n",
       "      <th>Country</th>\n",
       "    </tr>\n",
       "  </thead>\n",
       "  <tbody>\n",
       "    <tr>\n",
       "      <th>0</th>\n",
       "      <td>ICBC</td>\n",
       "      <td>305.057</td>\n",
       "      <td>175.874</td>\n",
       "      <td>45.223</td>\n",
       "      <td>4034.482</td>\n",
       "      <td>1</td>\n",
       "      <td>Major Banks</td>\n",
       "      <td>China</td>\n",
       "    </tr>\n",
       "    <tr>\n",
       "      <th>1</th>\n",
       "      <td>JPMorgan Chase</td>\n",
       "      <td>368.502</td>\n",
       "      <td>132.912</td>\n",
       "      <td>32.738</td>\n",
       "      <td>2737.188</td>\n",
       "      <td>2</td>\n",
       "      <td>Major Banks</td>\n",
       "      <td>United States</td>\n",
       "    </tr>\n",
       "    <tr>\n",
       "      <th>2</th>\n",
       "      <td>China Construction Bank</td>\n",
       "      <td>224.988</td>\n",
       "      <td>150.313</td>\n",
       "      <td>38.841</td>\n",
       "      <td>3382.422</td>\n",
       "      <td>3</td>\n",
       "      <td>Major Banks</td>\n",
       "      <td>China</td>\n",
       "    </tr>\n",
       "    <tr>\n",
       "      <th>3</th>\n",
       "      <td>Agricultural Bank of China</td>\n",
       "      <td>197.045</td>\n",
       "      <td>137.456</td>\n",
       "      <td>30.894</td>\n",
       "      <td>3293.105</td>\n",
       "      <td>4</td>\n",
       "      <td>Regional Banks</td>\n",
       "      <td>China</td>\n",
       "    </tr>\n",
       "    <tr>\n",
       "      <th>4</th>\n",
       "      <td>Bank of America</td>\n",
       "      <td>287.339</td>\n",
       "      <td>111.904</td>\n",
       "      <td>28.540</td>\n",
       "      <td>2377.164</td>\n",
       "      <td>5</td>\n",
       "      <td>Major Banks</td>\n",
       "      <td>United States</td>\n",
       "    </tr>\n",
       "  </tbody>\n",
       "</table>\n",
       "</div>"
      ],
      "text/plain": [
       "                      Company  Market Value  Revenue  Profits    Assets  Rank  \\\n",
       "0                        ICBC       305.057  175.874   45.223  4034.482     1   \n",
       "1              JPMorgan Chase       368.502  132.912   32.738  2737.188     2   \n",
       "2     China Construction Bank       224.988  150.313   38.841  3382.422     3   \n",
       "3  Agricultural Bank of China       197.045  137.456   30.894  3293.105     4   \n",
       "4             Bank of America       287.339  111.904   28.540  2377.164     5   \n",
       "\n",
       "         Industry        Country  \n",
       "0     Major Banks          China  \n",
       "1     Major Banks  United States  \n",
       "2     Major Banks          China  \n",
       "3  Regional Banks          China  \n",
       "4     Major Banks  United States  "
      ]
     },
     "execution_count": 46,
     "metadata": {},
     "output_type": "execute_result"
    }
   ],
   "source": [
    "forbes2019.head()"
   ]
  },
  {
   "cell_type": "code",
   "execution_count": 48,
   "id": "purple-springfield",
   "metadata": {},
   "outputs": [
    {
     "data": {
      "text/html": [
       "<div>\n",
       "<style scoped>\n",
       "    .dataframe tbody tr th:only-of-type {\n",
       "        vertical-align: middle;\n",
       "    }\n",
       "\n",
       "    .dataframe tbody tr th {\n",
       "        vertical-align: top;\n",
       "    }\n",
       "\n",
       "    .dataframe thead th {\n",
       "        text-align: right;\n",
       "    }\n",
       "</style>\n",
       "<table border=\"1\" class=\"dataframe\">\n",
       "  <thead>\n",
       "    <tr style=\"text-align: right;\">\n",
       "      <th></th>\n",
       "      <th>Company</th>\n",
       "      <th>Market Value</th>\n",
       "      <th>Revenue</th>\n",
       "      <th>Profits</th>\n",
       "      <th>Assets</th>\n",
       "      <th>Rank</th>\n",
       "      <th>Sector</th>\n",
       "      <th>Industry</th>\n",
       "      <th>Continent</th>\n",
       "      <th>Country</th>\n",
       "      <th>Headquarters</th>\n",
       "      <th>State</th>\n",
       "      <th>CEO</th>\n",
       "      <th>Forbes Webpage</th>\n",
       "      <th>Profits as % of Assets</th>\n",
       "      <th>Profits as % of Revenue</th>\n",
       "    </tr>\n",
       "  </thead>\n",
       "  <tbody>\n",
       "    <tr>\n",
       "      <th>0</th>\n",
       "      <td>ICBC</td>\n",
       "      <td>311.014</td>\n",
       "      <td>165.338</td>\n",
       "      <td>43.6694</td>\n",
       "      <td>4210.927</td>\n",
       "      <td>1.0</td>\n",
       "      <td>Financials</td>\n",
       "      <td>Major Banks</td>\n",
       "      <td>Asia</td>\n",
       "      <td>China</td>\n",
       "      <td>China</td>\n",
       "      <td>NaN</td>\n",
       "      <td>Hui Yi</td>\n",
       "      <td>http://www.forbes.com/companies/icbc/</td>\n",
       "      <td>0.010370</td>\n",
       "      <td>0.264122</td>\n",
       "    </tr>\n",
       "    <tr>\n",
       "      <th>1</th>\n",
       "      <td>China Construction Bank</td>\n",
       "      <td>261.166</td>\n",
       "      <td>143.202</td>\n",
       "      <td>37.2031</td>\n",
       "      <td>3631.583</td>\n",
       "      <td>2.0</td>\n",
       "      <td>Financials</td>\n",
       "      <td>Major Banks</td>\n",
       "      <td>Asia</td>\n",
       "      <td>China</td>\n",
       "      <td>China</td>\n",
       "      <td>NaN</td>\n",
       "      <td>Guo Tian</td>\n",
       "      <td>http://www.forbes.com/companies/china-construc...</td>\n",
       "      <td>0.010244</td>\n",
       "      <td>0.259795</td>\n",
       "    </tr>\n",
       "    <tr>\n",
       "      <th>2</th>\n",
       "      <td>JPMorgan Chase</td>\n",
       "      <td>387.668</td>\n",
       "      <td>118.180</td>\n",
       "      <td>26.4960</td>\n",
       "      <td>2609.785</td>\n",
       "      <td>3.0</td>\n",
       "      <td>Financials</td>\n",
       "      <td>Major Banks</td>\n",
       "      <td>North America</td>\n",
       "      <td>United States</td>\n",
       "      <td>New York</td>\n",
       "      <td>New York</td>\n",
       "      <td>Jamie Dimon</td>\n",
       "      <td>http://www.forbes.com/companies/jpmorgan-chase/</td>\n",
       "      <td>0.010153</td>\n",
       "      <td>0.224200</td>\n",
       "    </tr>\n",
       "    <tr>\n",
       "      <th>3</th>\n",
       "      <td>Berkshire Hathaway</td>\n",
       "      <td>491.888</td>\n",
       "      <td>235.165</td>\n",
       "      <td>39.7420</td>\n",
       "      <td>702.651</td>\n",
       "      <td>4.0</td>\n",
       "      <td>Financials</td>\n",
       "      <td>Investment Services</td>\n",
       "      <td>North America</td>\n",
       "      <td>United States</td>\n",
       "      <td>Nebraska</td>\n",
       "      <td>Nebraska</td>\n",
       "      <td>Warren Buffett</td>\n",
       "      <td>http://www.forbes.com/companies/berkshire-hath...</td>\n",
       "      <td>0.056560</td>\n",
       "      <td>0.168996</td>\n",
       "    </tr>\n",
       "    <tr>\n",
       "      <th>4</th>\n",
       "      <td>Agricultural Bank of China</td>\n",
       "      <td>184.125</td>\n",
       "      <td>129.345</td>\n",
       "      <td>29.6387</td>\n",
       "      <td>3439.314</td>\n",
       "      <td>5.0</td>\n",
       "      <td>Financials</td>\n",
       "      <td>Regional Banks</td>\n",
       "      <td>Asia</td>\n",
       "      <td>China</td>\n",
       "      <td>China</td>\n",
       "      <td>NaN</td>\n",
       "      <td>Mu Zhou</td>\n",
       "      <td>http://www.forbes.com/companies/agricultural-b...</td>\n",
       "      <td>0.008618</td>\n",
       "      <td>0.229145</td>\n",
       "    </tr>\n",
       "  </tbody>\n",
       "</table>\n",
       "</div>"
      ],
      "text/plain": [
       "                      Company  Market Value  Revenue  Profits    Assets  Rank  \\\n",
       "0                        ICBC       311.014  165.338  43.6694  4210.927   1.0   \n",
       "1     China Construction Bank       261.166  143.202  37.2031  3631.583   2.0   \n",
       "2              JPMorgan Chase       387.668  118.180  26.4960  2609.785   3.0   \n",
       "3          Berkshire Hathaway       491.888  235.165  39.7420   702.651   4.0   \n",
       "4  Agricultural Bank of China       184.125  129.345  29.6387  3439.314   5.0   \n",
       "\n",
       "       Sector             Industry      Continent        Country Headquarters  \\\n",
       "0  Financials          Major Banks           Asia          China        China   \n",
       "1  Financials          Major Banks           Asia          China        China   \n",
       "2  Financials          Major Banks  North America  United States     New York   \n",
       "3  Financials  Investment Services  North America  United States     Nebraska   \n",
       "4  Financials       Regional Banks           Asia          China        China   \n",
       "\n",
       "      State             CEO  \\\n",
       "0       NaN          Hui Yi   \n",
       "1       NaN        Guo Tian   \n",
       "2  New York     Jamie Dimon   \n",
       "3  Nebraska  Warren Buffett   \n",
       "4       NaN         Mu Zhou   \n",
       "\n",
       "                                      Forbes Webpage  Profits as % of Assets  \\\n",
       "0              http://www.forbes.com/companies/icbc/                0.010370   \n",
       "1  http://www.forbes.com/companies/china-construc...                0.010244   \n",
       "2    http://www.forbes.com/companies/jpmorgan-chase/                0.010153   \n",
       "3  http://www.forbes.com/companies/berkshire-hath...                0.056560   \n",
       "4  http://www.forbes.com/companies/agricultural-b...                0.008618   \n",
       "\n",
       "   Profits as % of Revenue  \n",
       "0                 0.264122  \n",
       "1                 0.259795  \n",
       "2                 0.224200  \n",
       "3                 0.168996  \n",
       "4                 0.229145  "
      ]
     },
     "execution_count": 48,
     "metadata": {},
     "output_type": "execute_result"
    }
   ],
   "source": [
    "forbes2018.head()"
   ]
  },
  {
   "cell_type": "code",
   "execution_count": 49,
   "id": "modified-massage",
   "metadata": {},
   "outputs": [],
   "source": [
    "forbes2018.drop([\"Sector\",\"Continent\",\"Headquarters\",\"State\",\"CEO\",\"Forbes Webpage\",\"Profits as % of Assets\",\"Profits as % of Revenue\"],axis=1,inplace=True)"
   ]
  },
  {
   "cell_type": "code",
   "execution_count": 51,
   "id": "blond-vitamin",
   "metadata": {},
   "outputs": [
    {
     "data": {
      "text/html": [
       "<div>\n",
       "<style scoped>\n",
       "    .dataframe tbody tr th:only-of-type {\n",
       "        vertical-align: middle;\n",
       "    }\n",
       "\n",
       "    .dataframe tbody tr th {\n",
       "        vertical-align: top;\n",
       "    }\n",
       "\n",
       "    .dataframe thead th {\n",
       "        text-align: right;\n",
       "    }\n",
       "</style>\n",
       "<table border=\"1\" class=\"dataframe\">\n",
       "  <thead>\n",
       "    <tr style=\"text-align: right;\">\n",
       "      <th></th>\n",
       "      <th>Company</th>\n",
       "      <th>Market Value</th>\n",
       "      <th>Revenue</th>\n",
       "      <th>Profits</th>\n",
       "      <th>Assets</th>\n",
       "      <th>Rank</th>\n",
       "      <th>Industry</th>\n",
       "      <th>Country</th>\n",
       "    </tr>\n",
       "  </thead>\n",
       "  <tbody>\n",
       "    <tr>\n",
       "      <th>0</th>\n",
       "      <td>ICBC</td>\n",
       "      <td>311.014</td>\n",
       "      <td>165.338</td>\n",
       "      <td>43.6694</td>\n",
       "      <td>4210.927</td>\n",
       "      <td>1.0</td>\n",
       "      <td>Major Banks</td>\n",
       "      <td>China</td>\n",
       "    </tr>\n",
       "    <tr>\n",
       "      <th>1</th>\n",
       "      <td>China Construction Bank</td>\n",
       "      <td>261.166</td>\n",
       "      <td>143.202</td>\n",
       "      <td>37.2031</td>\n",
       "      <td>3631.583</td>\n",
       "      <td>2.0</td>\n",
       "      <td>Major Banks</td>\n",
       "      <td>China</td>\n",
       "    </tr>\n",
       "    <tr>\n",
       "      <th>2</th>\n",
       "      <td>JPMorgan Chase</td>\n",
       "      <td>387.668</td>\n",
       "      <td>118.180</td>\n",
       "      <td>26.4960</td>\n",
       "      <td>2609.785</td>\n",
       "      <td>3.0</td>\n",
       "      <td>Major Banks</td>\n",
       "      <td>United States</td>\n",
       "    </tr>\n",
       "    <tr>\n",
       "      <th>3</th>\n",
       "      <td>Berkshire Hathaway</td>\n",
       "      <td>491.888</td>\n",
       "      <td>235.165</td>\n",
       "      <td>39.7420</td>\n",
       "      <td>702.651</td>\n",
       "      <td>4.0</td>\n",
       "      <td>Investment Services</td>\n",
       "      <td>United States</td>\n",
       "    </tr>\n",
       "    <tr>\n",
       "      <th>4</th>\n",
       "      <td>Agricultural Bank of China</td>\n",
       "      <td>184.125</td>\n",
       "      <td>129.345</td>\n",
       "      <td>29.6387</td>\n",
       "      <td>3439.314</td>\n",
       "      <td>5.0</td>\n",
       "      <td>Regional Banks</td>\n",
       "      <td>China</td>\n",
       "    </tr>\n",
       "  </tbody>\n",
       "</table>\n",
       "</div>"
      ],
      "text/plain": [
       "                      Company  Market Value  Revenue  Profits    Assets  Rank  \\\n",
       "0                        ICBC       311.014  165.338  43.6694  4210.927   1.0   \n",
       "1     China Construction Bank       261.166  143.202  37.2031  3631.583   2.0   \n",
       "2              JPMorgan Chase       387.668  118.180  26.4960  2609.785   3.0   \n",
       "3          Berkshire Hathaway       491.888  235.165  39.7420   702.651   4.0   \n",
       "4  Agricultural Bank of China       184.125  129.345  29.6387  3439.314   5.0   \n",
       "\n",
       "              Industry        Country  \n",
       "0          Major Banks          China  \n",
       "1          Major Banks          China  \n",
       "2          Major Banks  United States  \n",
       "3  Investment Services  United States  \n",
       "4       Regional Banks          China  "
      ]
     },
     "execution_count": 51,
     "metadata": {},
     "output_type": "execute_result"
    }
   ],
   "source": [
    "forbes2018.head()"
   ]
  },
  {
   "cell_type": "code",
   "execution_count": 52,
   "id": "choice-attention",
   "metadata": {},
   "outputs": [
    {
     "data": {
      "text/html": [
       "<div>\n",
       "<style scoped>\n",
       "    .dataframe tbody tr th:only-of-type {\n",
       "        vertical-align: middle;\n",
       "    }\n",
       "\n",
       "    .dataframe tbody tr th {\n",
       "        vertical-align: top;\n",
       "    }\n",
       "\n",
       "    .dataframe thead th {\n",
       "        text-align: right;\n",
       "    }\n",
       "</style>\n",
       "<table border=\"1\" class=\"dataframe\">\n",
       "  <thead>\n",
       "    <tr style=\"text-align: right;\">\n",
       "      <th></th>\n",
       "      <th>Company</th>\n",
       "      <th>Market Value</th>\n",
       "      <th>Revenue</th>\n",
       "      <th>Profits</th>\n",
       "      <th>Assets</th>\n",
       "      <th>Rank</th>\n",
       "      <th>Sector</th>\n",
       "      <th>Industry</th>\n",
       "      <th>Continent</th>\n",
       "      <th>Country</th>\n",
       "      <th>Headquarters</th>\n",
       "      <th>State</th>\n",
       "      <th>CEO</th>\n",
       "      <th>Forbes Webpage</th>\n",
       "      <th>Profits as % of Assets</th>\n",
       "      <th>Profits as % of Revenue</th>\n",
       "    </tr>\n",
       "  </thead>\n",
       "  <tbody>\n",
       "    <tr>\n",
       "      <th>0</th>\n",
       "      <td>ICBC</td>\n",
       "      <td>229.805</td>\n",
       "      <td>151.381</td>\n",
       "      <td>41.9837</td>\n",
       "      <td>3473.238</td>\n",
       "      <td>1</td>\n",
       "      <td>Financials</td>\n",
       "      <td>Major Banks</td>\n",
       "      <td>Asia</td>\n",
       "      <td>China</td>\n",
       "      <td>China</td>\n",
       "      <td>NaN</td>\n",
       "      <td>Jian Jiang</td>\n",
       "      <td>http://www.forbes.com/companies/icbc/</td>\n",
       "      <td>0.012088</td>\n",
       "      <td>0.277338</td>\n",
       "    </tr>\n",
       "    <tr>\n",
       "      <th>1</th>\n",
       "      <td>China Construction Bank</td>\n",
       "      <td>200.458</td>\n",
       "      <td>134.242</td>\n",
       "      <td>34.9814</td>\n",
       "      <td>3016.578</td>\n",
       "      <td>2</td>\n",
       "      <td>Financials</td>\n",
       "      <td>Major Banks</td>\n",
       "      <td>Asia</td>\n",
       "      <td>China</td>\n",
       "      <td>China</td>\n",
       "      <td>NaN</td>\n",
       "      <td>You Guo</td>\n",
       "      <td>http://www.forbes.com/companies/china-construc...</td>\n",
       "      <td>0.011596</td>\n",
       "      <td>0.260585</td>\n",
       "    </tr>\n",
       "    <tr>\n",
       "      <th>2</th>\n",
       "      <td>Berkshire Hathaway</td>\n",
       "      <td>409.908</td>\n",
       "      <td>222.935</td>\n",
       "      <td>24.0740</td>\n",
       "      <td>620.854</td>\n",
       "      <td>3</td>\n",
       "      <td>Financials</td>\n",
       "      <td>Investment Services</td>\n",
       "      <td>North America</td>\n",
       "      <td>United States</td>\n",
       "      <td>Nebraska</td>\n",
       "      <td>Nebraska</td>\n",
       "      <td>Warren Edward Buffett</td>\n",
       "      <td>http://www.forbes.com/companies/berkshire-hath...</td>\n",
       "      <td>0.038776</td>\n",
       "      <td>0.107987</td>\n",
       "    </tr>\n",
       "    <tr>\n",
       "      <th>3</th>\n",
       "      <td>JPMorgan Chase</td>\n",
       "      <td>306.616</td>\n",
       "      <td>102.494</td>\n",
       "      <td>24.2310</td>\n",
       "      <td>2512.986</td>\n",
       "      <td>4</td>\n",
       "      <td>Financials</td>\n",
       "      <td>Major Banks</td>\n",
       "      <td>North America</td>\n",
       "      <td>United States</td>\n",
       "      <td>New York</td>\n",
       "      <td>New York</td>\n",
       "      <td>Jamie Dimon</td>\n",
       "      <td>http://www.forbes.com/companies/jpmorgan-chase/</td>\n",
       "      <td>0.009642</td>\n",
       "      <td>0.236414</td>\n",
       "    </tr>\n",
       "    <tr>\n",
       "      <th>4</th>\n",
       "      <td>Wells Fargo</td>\n",
       "      <td>274.385</td>\n",
       "      <td>97.573</td>\n",
       "      <td>21.9380</td>\n",
       "      <td>1943.443</td>\n",
       "      <td>5</td>\n",
       "      <td>Financials</td>\n",
       "      <td>Major Banks</td>\n",
       "      <td>North America</td>\n",
       "      <td>United States</td>\n",
       "      <td>California</td>\n",
       "      <td>California</td>\n",
       "      <td>Timothy J. Sloan</td>\n",
       "      <td>http://www.forbes.com/companies/wells-fargo/</td>\n",
       "      <td>0.011288</td>\n",
       "      <td>0.224837</td>\n",
       "    </tr>\n",
       "  </tbody>\n",
       "</table>\n",
       "</div>"
      ],
      "text/plain": [
       "                   Company  Market Value  Revenue  Profits    Assets  Rank  \\\n",
       "0                     ICBC       229.805  151.381  41.9837  3473.238     1   \n",
       "1  China Construction Bank       200.458  134.242  34.9814  3016.578     2   \n",
       "2       Berkshire Hathaway       409.908  222.935  24.0740   620.854     3   \n",
       "3           JPMorgan Chase       306.616  102.494  24.2310  2512.986     4   \n",
       "4              Wells Fargo       274.385   97.573  21.9380  1943.443     5   \n",
       "\n",
       "       Sector             Industry      Continent        Country Headquarters  \\\n",
       "0  Financials          Major Banks           Asia          China        China   \n",
       "1  Financials          Major Banks           Asia          China        China   \n",
       "2  Financials  Investment Services  North America  United States     Nebraska   \n",
       "3  Financials          Major Banks  North America  United States     New York   \n",
       "4  Financials          Major Banks  North America  United States   California   \n",
       "\n",
       "        State                    CEO  \\\n",
       "0         NaN             Jian Jiang   \n",
       "1         NaN                You Guo   \n",
       "2    Nebraska  Warren Edward Buffett   \n",
       "3    New York            Jamie Dimon   \n",
       "4  California       Timothy J. Sloan   \n",
       "\n",
       "                                      Forbes Webpage  Profits as % of Assets  \\\n",
       "0              http://www.forbes.com/companies/icbc/                0.012088   \n",
       "1  http://www.forbes.com/companies/china-construc...                0.011596   \n",
       "2  http://www.forbes.com/companies/berkshire-hath...                0.038776   \n",
       "3    http://www.forbes.com/companies/jpmorgan-chase/                0.009642   \n",
       "4       http://www.forbes.com/companies/wells-fargo/                0.011288   \n",
       "\n",
       "   Profits as % of Revenue  \n",
       "0                 0.277338  \n",
       "1                 0.260585  \n",
       "2                 0.107987  \n",
       "3                 0.236414  \n",
       "4                 0.224837  "
      ]
     },
     "execution_count": 52,
     "metadata": {},
     "output_type": "execute_result"
    }
   ],
   "source": [
    "forbes2017.head()"
   ]
  },
  {
   "cell_type": "code",
   "execution_count": 53,
   "id": "cellular-toronto",
   "metadata": {},
   "outputs": [],
   "source": [
    "forbes2017.drop([\"Sector\",\"Continent\",\"Headquarters\",\"State\",\"CEO\",\"Forbes Webpage\",\"Profits as % of Assets\",\"Profits as % of Revenue\"],axis=1,inplace=True)"
   ]
  },
  {
   "cell_type": "code",
   "execution_count": 54,
   "id": "sapphire-fiber",
   "metadata": {},
   "outputs": [
    {
     "data": {
      "text/html": [
       "<div>\n",
       "<style scoped>\n",
       "    .dataframe tbody tr th:only-of-type {\n",
       "        vertical-align: middle;\n",
       "    }\n",
       "\n",
       "    .dataframe tbody tr th {\n",
       "        vertical-align: top;\n",
       "    }\n",
       "\n",
       "    .dataframe thead th {\n",
       "        text-align: right;\n",
       "    }\n",
       "</style>\n",
       "<table border=\"1\" class=\"dataframe\">\n",
       "  <thead>\n",
       "    <tr style=\"text-align: right;\">\n",
       "      <th></th>\n",
       "      <th>Company</th>\n",
       "      <th>Market Value</th>\n",
       "      <th>Revenue</th>\n",
       "      <th>Profits</th>\n",
       "      <th>Assets</th>\n",
       "      <th>Rank</th>\n",
       "      <th>Industry</th>\n",
       "      <th>Country</th>\n",
       "    </tr>\n",
       "  </thead>\n",
       "  <tbody>\n",
       "    <tr>\n",
       "      <th>0</th>\n",
       "      <td>ICBC</td>\n",
       "      <td>229.805</td>\n",
       "      <td>151.381</td>\n",
       "      <td>41.9837</td>\n",
       "      <td>3473.238</td>\n",
       "      <td>1</td>\n",
       "      <td>Major Banks</td>\n",
       "      <td>China</td>\n",
       "    </tr>\n",
       "    <tr>\n",
       "      <th>1</th>\n",
       "      <td>China Construction Bank</td>\n",
       "      <td>200.458</td>\n",
       "      <td>134.242</td>\n",
       "      <td>34.9814</td>\n",
       "      <td>3016.578</td>\n",
       "      <td>2</td>\n",
       "      <td>Major Banks</td>\n",
       "      <td>China</td>\n",
       "    </tr>\n",
       "    <tr>\n",
       "      <th>2</th>\n",
       "      <td>Berkshire Hathaway</td>\n",
       "      <td>409.908</td>\n",
       "      <td>222.935</td>\n",
       "      <td>24.0740</td>\n",
       "      <td>620.854</td>\n",
       "      <td>3</td>\n",
       "      <td>Investment Services</td>\n",
       "      <td>United States</td>\n",
       "    </tr>\n",
       "    <tr>\n",
       "      <th>3</th>\n",
       "      <td>JPMorgan Chase</td>\n",
       "      <td>306.616</td>\n",
       "      <td>102.494</td>\n",
       "      <td>24.2310</td>\n",
       "      <td>2512.986</td>\n",
       "      <td>4</td>\n",
       "      <td>Major Banks</td>\n",
       "      <td>United States</td>\n",
       "    </tr>\n",
       "    <tr>\n",
       "      <th>4</th>\n",
       "      <td>Wells Fargo</td>\n",
       "      <td>274.385</td>\n",
       "      <td>97.573</td>\n",
       "      <td>21.9380</td>\n",
       "      <td>1943.443</td>\n",
       "      <td>5</td>\n",
       "      <td>Major Banks</td>\n",
       "      <td>United States</td>\n",
       "    </tr>\n",
       "  </tbody>\n",
       "</table>\n",
       "</div>"
      ],
      "text/plain": [
       "                   Company  Market Value  Revenue  Profits    Assets  Rank  \\\n",
       "0                     ICBC       229.805  151.381  41.9837  3473.238     1   \n",
       "1  China Construction Bank       200.458  134.242  34.9814  3016.578     2   \n",
       "2       Berkshire Hathaway       409.908  222.935  24.0740   620.854     3   \n",
       "3           JPMorgan Chase       306.616  102.494  24.2310  2512.986     4   \n",
       "4              Wells Fargo       274.385   97.573  21.9380  1943.443     5   \n",
       "\n",
       "              Industry        Country  \n",
       "0          Major Banks          China  \n",
       "1          Major Banks          China  \n",
       "2  Investment Services  United States  \n",
       "3          Major Banks  United States  \n",
       "4          Major Banks  United States  "
      ]
     },
     "execution_count": 54,
     "metadata": {},
     "output_type": "execute_result"
    }
   ],
   "source": [
    "forbes2017.head()"
   ]
  },
  {
   "cell_type": "code",
   "execution_count": 55,
   "id": "trained-waste",
   "metadata": {},
   "outputs": [
    {
     "data": {
      "text/html": [
       "<div>\n",
       "<style scoped>\n",
       "    .dataframe tbody tr th:only-of-type {\n",
       "        vertical-align: middle;\n",
       "    }\n",
       "\n",
       "    .dataframe tbody tr th {\n",
       "        vertical-align: top;\n",
       "    }\n",
       "\n",
       "    .dataframe thead th {\n",
       "        text-align: right;\n",
       "    }\n",
       "</style>\n",
       "<table border=\"1\" class=\"dataframe\">\n",
       "  <thead>\n",
       "    <tr style=\"text-align: right;\">\n",
       "      <th></th>\n",
       "      <th>Company</th>\n",
       "      <th>Market Value</th>\n",
       "      <th>Revenue</th>\n",
       "      <th>Profits</th>\n",
       "      <th>Assets</th>\n",
       "      <th>Rank</th>\n",
       "      <th>Sector</th>\n",
       "      <th>Industry</th>\n",
       "      <th>Continent</th>\n",
       "      <th>Country</th>\n",
       "      <th>Headquarters</th>\n",
       "      <th>State</th>\n",
       "      <th>CEO</th>\n",
       "      <th>Forbes Webpage</th>\n",
       "      <th>Profits as % of Assets</th>\n",
       "      <th>Profits as % of Revenue</th>\n",
       "    </tr>\n",
       "  </thead>\n",
       "  <tbody>\n",
       "    <tr>\n",
       "      <th>0</th>\n",
       "      <td>ICBC</td>\n",
       "      <td>198.042</td>\n",
       "      <td>171.077</td>\n",
       "      <td>44.1603</td>\n",
       "      <td>3420.257</td>\n",
       "      <td>1</td>\n",
       "      <td>Financials</td>\n",
       "      <td>Major Banks</td>\n",
       "      <td>Asia</td>\n",
       "      <td>China</td>\n",
       "      <td>China</td>\n",
       "      <td>NaN</td>\n",
       "      <td>Jian Jiang</td>\n",
       "      <td>http://www.forbes.com/companies/icbc/</td>\n",
       "      <td>0.012911</td>\n",
       "      <td>0.258131</td>\n",
       "    </tr>\n",
       "    <tr>\n",
       "      <th>1</th>\n",
       "      <td>China Construction Bank</td>\n",
       "      <td>162.774</td>\n",
       "      <td>146.816</td>\n",
       "      <td>36.3934</td>\n",
       "      <td>2825.983</td>\n",
       "      <td>2</td>\n",
       "      <td>Financials</td>\n",
       "      <td>Regional Banks</td>\n",
       "      <td>Asia</td>\n",
       "      <td>China</td>\n",
       "      <td>China</td>\n",
       "      <td>NaN</td>\n",
       "      <td>You Guo</td>\n",
       "      <td>http://www.forbes.com/companies/china-construc...</td>\n",
       "      <td>0.012878</td>\n",
       "      <td>0.247884</td>\n",
       "    </tr>\n",
       "    <tr>\n",
       "      <th>2</th>\n",
       "      <td>Agricultural Bank of China</td>\n",
       "      <td>152.736</td>\n",
       "      <td>131.888</td>\n",
       "      <td>28.8087</td>\n",
       "      <td>2739.835</td>\n",
       "      <td>3</td>\n",
       "      <td>Financials</td>\n",
       "      <td>Regional Banks</td>\n",
       "      <td>Asia</td>\n",
       "      <td>China</td>\n",
       "      <td>China</td>\n",
       "      <td>NaN</td>\n",
       "      <td>Ying Che</td>\n",
       "      <td>http://www.forbes.com/companies/agricultural-b...</td>\n",
       "      <td>0.010515</td>\n",
       "      <td>0.218433</td>\n",
       "    </tr>\n",
       "    <tr>\n",
       "      <th>3</th>\n",
       "      <td>Berkshire Hathaway</td>\n",
       "      <td>360.145</td>\n",
       "      <td>210.821</td>\n",
       "      <td>24.0830</td>\n",
       "      <td>561.068</td>\n",
       "      <td>4</td>\n",
       "      <td>Financials</td>\n",
       "      <td>Investment Services</td>\n",
       "      <td>North America</td>\n",
       "      <td>United States</td>\n",
       "      <td>Nebraska</td>\n",
       "      <td>Nebraska</td>\n",
       "      <td>Warren Buffett</td>\n",
       "      <td>http://www.forbes.com/companies/berkshire-hath...</td>\n",
       "      <td>0.042923</td>\n",
       "      <td>0.114234</td>\n",
       "    </tr>\n",
       "    <tr>\n",
       "      <th>4</th>\n",
       "      <td>JPMorgan Chase</td>\n",
       "      <td>234.247</td>\n",
       "      <td>99.881</td>\n",
       "      <td>23.5480</td>\n",
       "      <td>2423.808</td>\n",
       "      <td>5</td>\n",
       "      <td>Financials</td>\n",
       "      <td>Major Banks</td>\n",
       "      <td>North America</td>\n",
       "      <td>United States</td>\n",
       "      <td>New York</td>\n",
       "      <td>New York</td>\n",
       "      <td>Jamie Dimon</td>\n",
       "      <td>http://www.forbes.com/companies/jpmorgan-chase/</td>\n",
       "      <td>0.009715</td>\n",
       "      <td>0.235761</td>\n",
       "    </tr>\n",
       "  </tbody>\n",
       "</table>\n",
       "</div>"
      ],
      "text/plain": [
       "                      Company  Market Value  Revenue  Profits    Assets  Rank  \\\n",
       "0                        ICBC       198.042  171.077  44.1603  3420.257     1   \n",
       "1     China Construction Bank       162.774  146.816  36.3934  2825.983     2   \n",
       "2  Agricultural Bank of China       152.736  131.888  28.8087  2739.835     3   \n",
       "3          Berkshire Hathaway       360.145  210.821  24.0830   561.068     4   \n",
       "4              JPMorgan Chase       234.247   99.881  23.5480  2423.808     5   \n",
       "\n",
       "       Sector             Industry      Continent        Country Headquarters  \\\n",
       "0  Financials          Major Banks           Asia          China        China   \n",
       "1  Financials       Regional Banks           Asia          China        China   \n",
       "2  Financials       Regional Banks           Asia          China        China   \n",
       "3  Financials  Investment Services  North America  United States     Nebraska   \n",
       "4  Financials          Major Banks  North America  United States     New York   \n",
       "\n",
       "      State             CEO  \\\n",
       "0       NaN      Jian Jiang   \n",
       "1       NaN         You Guo   \n",
       "2       NaN        Ying Che   \n",
       "3  Nebraska  Warren Buffett   \n",
       "4  New York     Jamie Dimon   \n",
       "\n",
       "                                      Forbes Webpage  Profits as % of Assets  \\\n",
       "0              http://www.forbes.com/companies/icbc/                0.012911   \n",
       "1  http://www.forbes.com/companies/china-construc...                0.012878   \n",
       "2  http://www.forbes.com/companies/agricultural-b...                0.010515   \n",
       "3  http://www.forbes.com/companies/berkshire-hath...                0.042923   \n",
       "4    http://www.forbes.com/companies/jpmorgan-chase/                0.009715   \n",
       "\n",
       "   Profits as % of Revenue  \n",
       "0                 0.258131  \n",
       "1                 0.247884  \n",
       "2                 0.218433  \n",
       "3                 0.114234  \n",
       "4                 0.235761  "
      ]
     },
     "execution_count": 55,
     "metadata": {},
     "output_type": "execute_result"
    }
   ],
   "source": [
    "forbes2016.head()"
   ]
  },
  {
   "cell_type": "code",
   "execution_count": 56,
   "id": "blocked-morocco",
   "metadata": {},
   "outputs": [],
   "source": [
    "forbes2016.drop([\"Sector\",\"Continent\",\"Headquarters\",\"State\",\"CEO\",\"Forbes Webpage\",\"Profits as % of Assets\",\"Profits as % of Revenue\"],axis=1,inplace=True)"
   ]
  },
  {
   "cell_type": "code",
   "execution_count": 57,
   "id": "referenced-timer",
   "metadata": {},
   "outputs": [
    {
     "data": {
      "text/html": [
       "<div>\n",
       "<style scoped>\n",
       "    .dataframe tbody tr th:only-of-type {\n",
       "        vertical-align: middle;\n",
       "    }\n",
       "\n",
       "    .dataframe tbody tr th {\n",
       "        vertical-align: top;\n",
       "    }\n",
       "\n",
       "    .dataframe thead th {\n",
       "        text-align: right;\n",
       "    }\n",
       "</style>\n",
       "<table border=\"1\" class=\"dataframe\">\n",
       "  <thead>\n",
       "    <tr style=\"text-align: right;\">\n",
       "      <th></th>\n",
       "      <th>Company</th>\n",
       "      <th>Market Value</th>\n",
       "      <th>Revenue</th>\n",
       "      <th>Profits</th>\n",
       "      <th>Assets</th>\n",
       "      <th>Rank</th>\n",
       "      <th>Industry</th>\n",
       "      <th>Country</th>\n",
       "    </tr>\n",
       "  </thead>\n",
       "  <tbody>\n",
       "    <tr>\n",
       "      <th>0</th>\n",
       "      <td>ICBC</td>\n",
       "      <td>198.042</td>\n",
       "      <td>171.077</td>\n",
       "      <td>44.1603</td>\n",
       "      <td>3420.257</td>\n",
       "      <td>1</td>\n",
       "      <td>Major Banks</td>\n",
       "      <td>China</td>\n",
       "    </tr>\n",
       "    <tr>\n",
       "      <th>1</th>\n",
       "      <td>China Construction Bank</td>\n",
       "      <td>162.774</td>\n",
       "      <td>146.816</td>\n",
       "      <td>36.3934</td>\n",
       "      <td>2825.983</td>\n",
       "      <td>2</td>\n",
       "      <td>Regional Banks</td>\n",
       "      <td>China</td>\n",
       "    </tr>\n",
       "    <tr>\n",
       "      <th>2</th>\n",
       "      <td>Agricultural Bank of China</td>\n",
       "      <td>152.736</td>\n",
       "      <td>131.888</td>\n",
       "      <td>28.8087</td>\n",
       "      <td>2739.835</td>\n",
       "      <td>3</td>\n",
       "      <td>Regional Banks</td>\n",
       "      <td>China</td>\n",
       "    </tr>\n",
       "    <tr>\n",
       "      <th>3</th>\n",
       "      <td>Berkshire Hathaway</td>\n",
       "      <td>360.145</td>\n",
       "      <td>210.821</td>\n",
       "      <td>24.0830</td>\n",
       "      <td>561.068</td>\n",
       "      <td>4</td>\n",
       "      <td>Investment Services</td>\n",
       "      <td>United States</td>\n",
       "    </tr>\n",
       "    <tr>\n",
       "      <th>4</th>\n",
       "      <td>JPMorgan Chase</td>\n",
       "      <td>234.247</td>\n",
       "      <td>99.881</td>\n",
       "      <td>23.5480</td>\n",
       "      <td>2423.808</td>\n",
       "      <td>5</td>\n",
       "      <td>Major Banks</td>\n",
       "      <td>United States</td>\n",
       "    </tr>\n",
       "  </tbody>\n",
       "</table>\n",
       "</div>"
      ],
      "text/plain": [
       "                      Company  Market Value  Revenue  Profits    Assets  Rank  \\\n",
       "0                        ICBC       198.042  171.077  44.1603  3420.257     1   \n",
       "1     China Construction Bank       162.774  146.816  36.3934  2825.983     2   \n",
       "2  Agricultural Bank of China       152.736  131.888  28.8087  2739.835     3   \n",
       "3          Berkshire Hathaway       360.145  210.821  24.0830   561.068     4   \n",
       "4              JPMorgan Chase       234.247   99.881  23.5480  2423.808     5   \n",
       "\n",
       "              Industry        Country  \n",
       "0          Major Banks          China  \n",
       "1       Regional Banks          China  \n",
       "2       Regional Banks          China  \n",
       "3  Investment Services  United States  \n",
       "4          Major Banks  United States  "
      ]
     },
     "execution_count": 57,
     "metadata": {},
     "output_type": "execute_result"
    }
   ],
   "source": [
    "forbes2016.head()"
   ]
  },
  {
   "cell_type": "code",
   "execution_count": 58,
   "id": "micro-completion",
   "metadata": {},
   "outputs": [
    {
     "data": {
      "text/html": [
       "<div>\n",
       "<style scoped>\n",
       "    .dataframe tbody tr th:only-of-type {\n",
       "        vertical-align: middle;\n",
       "    }\n",
       "\n",
       "    .dataframe tbody tr th {\n",
       "        vertical-align: top;\n",
       "    }\n",
       "\n",
       "    .dataframe thead th {\n",
       "        text-align: right;\n",
       "    }\n",
       "</style>\n",
       "<table border=\"1\" class=\"dataframe\">\n",
       "  <thead>\n",
       "    <tr style=\"text-align: right;\">\n",
       "      <th></th>\n",
       "      <th>Company</th>\n",
       "      <th>Market Value</th>\n",
       "      <th>Revenue</th>\n",
       "      <th>Profits</th>\n",
       "      <th>Assets</th>\n",
       "      <th>Rank</th>\n",
       "      <th>Sector</th>\n",
       "      <th>Industry</th>\n",
       "      <th>Continent</th>\n",
       "      <th>Country</th>\n",
       "      <th>Headquarters</th>\n",
       "      <th>State</th>\n",
       "      <th>CEO</th>\n",
       "      <th>Forbes Webpage</th>\n",
       "      <th>Profits as % of Assets</th>\n",
       "      <th>Profits as % of Revenue</th>\n",
       "    </tr>\n",
       "  </thead>\n",
       "  <tbody>\n",
       "    <tr>\n",
       "      <th>0</th>\n",
       "      <td>ICBC</td>\n",
       "      <td>278.327</td>\n",
       "      <td>166.796</td>\n",
       "      <td>44.7572</td>\n",
       "      <td>3322.043</td>\n",
       "      <td>1</td>\n",
       "      <td>Financials</td>\n",
       "      <td>Major Banks</td>\n",
       "      <td>Asia</td>\n",
       "      <td>China</td>\n",
       "      <td>China</td>\n",
       "      <td>NaN</td>\n",
       "      <td>Jiang Jianqing</td>\n",
       "      <td>http://www.forbes.com/companies/icbc/</td>\n",
       "      <td>0.013473</td>\n",
       "      <td>0.268335</td>\n",
       "    </tr>\n",
       "    <tr>\n",
       "      <th>1</th>\n",
       "      <td>China Construction Bank</td>\n",
       "      <td>212.945</td>\n",
       "      <td>130.473</td>\n",
       "      <td>37.0389</td>\n",
       "      <td>2698.925</td>\n",
       "      <td>2</td>\n",
       "      <td>Financials</td>\n",
       "      <td>Regional Banks</td>\n",
       "      <td>Asia</td>\n",
       "      <td>China</td>\n",
       "      <td>China</td>\n",
       "      <td>NaN</td>\n",
       "      <td>Zhang Jianguo</td>\n",
       "      <td>http://www.forbes.com/companies/china-construc...</td>\n",
       "      <td>0.013724</td>\n",
       "      <td>0.283882</td>\n",
       "    </tr>\n",
       "    <tr>\n",
       "      <th>2</th>\n",
       "      <td>Agricultural Bank of China</td>\n",
       "      <td>189.879</td>\n",
       "      <td>129.221</td>\n",
       "      <td>29.1245</td>\n",
       "      <td>2574.815</td>\n",
       "      <td>3</td>\n",
       "      <td>Financials</td>\n",
       "      <td>Regional Banks</td>\n",
       "      <td>Asia</td>\n",
       "      <td>China</td>\n",
       "      <td>China</td>\n",
       "      <td>NaN</td>\n",
       "      <td>Zhang Yun</td>\n",
       "      <td>http://www.forbes.com/companies/agricultural-b...</td>\n",
       "      <td>0.011311</td>\n",
       "      <td>0.225385</td>\n",
       "    </tr>\n",
       "    <tr>\n",
       "      <th>3</th>\n",
       "      <td>Bank of China</td>\n",
       "      <td>199.130</td>\n",
       "      <td>120.297</td>\n",
       "      <td>27.5268</td>\n",
       "      <td>2458.336</td>\n",
       "      <td>4</td>\n",
       "      <td>Financials</td>\n",
       "      <td>Major Banks</td>\n",
       "      <td>Asia</td>\n",
       "      <td>China</td>\n",
       "      <td>China</td>\n",
       "      <td>NaN</td>\n",
       "      <td>Chen Siqing</td>\n",
       "      <td>http://www.forbes.com/companies/bank-of-china/</td>\n",
       "      <td>0.011197</td>\n",
       "      <td>0.228824</td>\n",
       "    </tr>\n",
       "    <tr>\n",
       "      <th>4</th>\n",
       "      <td>Berkshire Hathaway</td>\n",
       "      <td>354.813</td>\n",
       "      <td>194.673</td>\n",
       "      <td>19.8720</td>\n",
       "      <td>534.618</td>\n",
       "      <td>5</td>\n",
       "      <td>Financials</td>\n",
       "      <td>Investment Services</td>\n",
       "      <td>North America</td>\n",
       "      <td>United States</td>\n",
       "      <td>Nebraska</td>\n",
       "      <td>Nebraska</td>\n",
       "      <td>Warren Buffett</td>\n",
       "      <td>http://www.forbes.com/companies/berkshire-hath...</td>\n",
       "      <td>0.037170</td>\n",
       "      <td>0.102079</td>\n",
       "    </tr>\n",
       "  </tbody>\n",
       "</table>\n",
       "</div>"
      ],
      "text/plain": [
       "                      Company  Market Value  Revenue  Profits    Assets  Rank  \\\n",
       "0                        ICBC       278.327  166.796  44.7572  3322.043     1   \n",
       "1     China Construction Bank       212.945  130.473  37.0389  2698.925     2   \n",
       "2  Agricultural Bank of China       189.879  129.221  29.1245  2574.815     3   \n",
       "3               Bank of China       199.130  120.297  27.5268  2458.336     4   \n",
       "4          Berkshire Hathaway       354.813  194.673  19.8720   534.618     5   \n",
       "\n",
       "       Sector             Industry      Continent        Country Headquarters  \\\n",
       "0  Financials          Major Banks           Asia          China        China   \n",
       "1  Financials       Regional Banks           Asia          China        China   \n",
       "2  Financials       Regional Banks           Asia          China        China   \n",
       "3  Financials          Major Banks           Asia          China        China   \n",
       "4  Financials  Investment Services  North America  United States     Nebraska   \n",
       "\n",
       "      State             CEO  \\\n",
       "0       NaN  Jiang Jianqing   \n",
       "1       NaN   Zhang Jianguo   \n",
       "2       NaN       Zhang Yun   \n",
       "3       NaN     Chen Siqing   \n",
       "4  Nebraska  Warren Buffett   \n",
       "\n",
       "                                      Forbes Webpage  Profits as % of Assets  \\\n",
       "0              http://www.forbes.com/companies/icbc/                0.013473   \n",
       "1  http://www.forbes.com/companies/china-construc...                0.013724   \n",
       "2  http://www.forbes.com/companies/agricultural-b...                0.011311   \n",
       "3     http://www.forbes.com/companies/bank-of-china/                0.011197   \n",
       "4  http://www.forbes.com/companies/berkshire-hath...                0.037170   \n",
       "\n",
       "   Profits as % of Revenue  \n",
       "0                 0.268335  \n",
       "1                 0.283882  \n",
       "2                 0.225385  \n",
       "3                 0.228824  \n",
       "4                 0.102079  "
      ]
     },
     "execution_count": 58,
     "metadata": {},
     "output_type": "execute_result"
    }
   ],
   "source": [
    "forbes2015.head()"
   ]
  },
  {
   "cell_type": "code",
   "execution_count": 59,
   "id": "auburn-appendix",
   "metadata": {},
   "outputs": [],
   "source": [
    "forbes2015.drop([\"Sector\",\"Continent\",\"Headquarters\",\"State\",\"CEO\",\"Forbes Webpage\",\"Profits as % of Assets\",\"Profits as % of Revenue\"],axis=1,inplace=True)"
   ]
  },
  {
   "cell_type": "code",
   "execution_count": 61,
   "id": "activated-sherman",
   "metadata": {},
   "outputs": [
    {
     "data": {
      "text/html": [
       "<div>\n",
       "<style scoped>\n",
       "    .dataframe tbody tr th:only-of-type {\n",
       "        vertical-align: middle;\n",
       "    }\n",
       "\n",
       "    .dataframe tbody tr th {\n",
       "        vertical-align: top;\n",
       "    }\n",
       "\n",
       "    .dataframe thead th {\n",
       "        text-align: right;\n",
       "    }\n",
       "</style>\n",
       "<table border=\"1\" class=\"dataframe\">\n",
       "  <thead>\n",
       "    <tr style=\"text-align: right;\">\n",
       "      <th></th>\n",
       "      <th>Company</th>\n",
       "      <th>Market Value</th>\n",
       "      <th>Revenue</th>\n",
       "      <th>Profits</th>\n",
       "      <th>Assets</th>\n",
       "      <th>Rank</th>\n",
       "      <th>Industry</th>\n",
       "      <th>Country</th>\n",
       "    </tr>\n",
       "  </thead>\n",
       "  <tbody>\n",
       "    <tr>\n",
       "      <th>0</th>\n",
       "      <td>ICBC</td>\n",
       "      <td>278.327</td>\n",
       "      <td>166.796</td>\n",
       "      <td>44.7572</td>\n",
       "      <td>3322.043</td>\n",
       "      <td>1</td>\n",
       "      <td>Major Banks</td>\n",
       "      <td>China</td>\n",
       "    </tr>\n",
       "    <tr>\n",
       "      <th>1</th>\n",
       "      <td>China Construction Bank</td>\n",
       "      <td>212.945</td>\n",
       "      <td>130.473</td>\n",
       "      <td>37.0389</td>\n",
       "      <td>2698.925</td>\n",
       "      <td>2</td>\n",
       "      <td>Regional Banks</td>\n",
       "      <td>China</td>\n",
       "    </tr>\n",
       "    <tr>\n",
       "      <th>2</th>\n",
       "      <td>Agricultural Bank of China</td>\n",
       "      <td>189.879</td>\n",
       "      <td>129.221</td>\n",
       "      <td>29.1245</td>\n",
       "      <td>2574.815</td>\n",
       "      <td>3</td>\n",
       "      <td>Regional Banks</td>\n",
       "      <td>China</td>\n",
       "    </tr>\n",
       "    <tr>\n",
       "      <th>3</th>\n",
       "      <td>Bank of China</td>\n",
       "      <td>199.130</td>\n",
       "      <td>120.297</td>\n",
       "      <td>27.5268</td>\n",
       "      <td>2458.336</td>\n",
       "      <td>4</td>\n",
       "      <td>Major Banks</td>\n",
       "      <td>China</td>\n",
       "    </tr>\n",
       "    <tr>\n",
       "      <th>4</th>\n",
       "      <td>Berkshire Hathaway</td>\n",
       "      <td>354.813</td>\n",
       "      <td>194.673</td>\n",
       "      <td>19.8720</td>\n",
       "      <td>534.618</td>\n",
       "      <td>5</td>\n",
       "      <td>Investment Services</td>\n",
       "      <td>United States</td>\n",
       "    </tr>\n",
       "  </tbody>\n",
       "</table>\n",
       "</div>"
      ],
      "text/plain": [
       "                      Company  Market Value  Revenue  Profits    Assets  Rank  \\\n",
       "0                        ICBC       278.327  166.796  44.7572  3322.043     1   \n",
       "1     China Construction Bank       212.945  130.473  37.0389  2698.925     2   \n",
       "2  Agricultural Bank of China       189.879  129.221  29.1245  2574.815     3   \n",
       "3               Bank of China       199.130  120.297  27.5268  2458.336     4   \n",
       "4          Berkshire Hathaway       354.813  194.673  19.8720   534.618     5   \n",
       "\n",
       "              Industry        Country  \n",
       "0          Major Banks          China  \n",
       "1       Regional Banks          China  \n",
       "2       Regional Banks          China  \n",
       "3          Major Banks          China  \n",
       "4  Investment Services  United States  "
      ]
     },
     "execution_count": 61,
     "metadata": {},
     "output_type": "execute_result"
    }
   ],
   "source": [
    "forbes2015.head()"
   ]
  },
  {
   "cell_type": "code",
   "execution_count": 62,
   "id": "english-motor",
   "metadata": {},
   "outputs": [
    {
     "data": {
      "text/html": [
       "<div>\n",
       "<style scoped>\n",
       "    .dataframe tbody tr th:only-of-type {\n",
       "        vertical-align: middle;\n",
       "    }\n",
       "\n",
       "    .dataframe tbody tr th {\n",
       "        vertical-align: top;\n",
       "    }\n",
       "\n",
       "    .dataframe thead th {\n",
       "        text-align: right;\n",
       "    }\n",
       "</style>\n",
       "<table border=\"1\" class=\"dataframe\">\n",
       "  <thead>\n",
       "    <tr style=\"text-align: right;\">\n",
       "      <th></th>\n",
       "      <th>Company</th>\n",
       "      <th>Sector</th>\n",
       "      <th>Industry</th>\n",
       "      <th>Continent</th>\n",
       "      <th>Country</th>\n",
       "      <th>Market Value</th>\n",
       "      <th>Sales</th>\n",
       "      <th>Profits</th>\n",
       "      <th>Assets</th>\n",
       "      <th>Rank</th>\n",
       "      <th>Forbes Webpage</th>\n",
       "      <th>Profits as % of Assets</th>\n",
       "      <th>Profits as % of Sales</th>\n",
       "    </tr>\n",
       "  </thead>\n",
       "  <tbody>\n",
       "    <tr>\n",
       "      <th>0</th>\n",
       "      <td>ICBC</td>\n",
       "      <td>Financials</td>\n",
       "      <td>Major Banks</td>\n",
       "      <td>Asia</td>\n",
       "      <td>China</td>\n",
       "      <td>215.6</td>\n",
       "      <td>148.7</td>\n",
       "      <td>42.7</td>\n",
       "      <td>3124.9</td>\n",
       "      <td>1</td>\n",
       "      <td>http://www.forbes.com/companies/icbc/</td>\n",
       "      <td>0.013664</td>\n",
       "      <td>0.287155346334903</td>\n",
       "    </tr>\n",
       "    <tr>\n",
       "      <th>1</th>\n",
       "      <td>China Construction Bank</td>\n",
       "      <td>Financials</td>\n",
       "      <td>Regional Banks</td>\n",
       "      <td>Asia</td>\n",
       "      <td>China</td>\n",
       "      <td>174.4</td>\n",
       "      <td>121.3</td>\n",
       "      <td>34.2</td>\n",
       "      <td>2449.5</td>\n",
       "      <td>2</td>\n",
       "      <td>http://www.forbes.com/companies/china-construc...</td>\n",
       "      <td>0.013962</td>\n",
       "      <td>0.28194558944765</td>\n",
       "    </tr>\n",
       "    <tr>\n",
       "      <th>2</th>\n",
       "      <td>Agricultural Bank of China</td>\n",
       "      <td>Financials</td>\n",
       "      <td>Regional Banks</td>\n",
       "      <td>Asia</td>\n",
       "      <td>China</td>\n",
       "      <td>141.1</td>\n",
       "      <td>136.4</td>\n",
       "      <td>27.0</td>\n",
       "      <td>2405.4</td>\n",
       "      <td>3</td>\n",
       "      <td>http://www.forbes.com/companies/agricultural-b...</td>\n",
       "      <td>0.011225</td>\n",
       "      <td>0.197947214076246</td>\n",
       "    </tr>\n",
       "    <tr>\n",
       "      <th>3</th>\n",
       "      <td>JPMorgan Chase</td>\n",
       "      <td>Financials</td>\n",
       "      <td>Major Banks</td>\n",
       "      <td>North America</td>\n",
       "      <td>United States</td>\n",
       "      <td>229.7</td>\n",
       "      <td>105.7</td>\n",
       "      <td>17.3</td>\n",
       "      <td>2435.3</td>\n",
       "      <td>4</td>\n",
       "      <td>http://www.forbes.com/companies/jpmorgan-chase/</td>\n",
       "      <td>0.007104</td>\n",
       "      <td>0.163670766319773</td>\n",
       "    </tr>\n",
       "    <tr>\n",
       "      <th>4</th>\n",
       "      <td>Berkshire Hathaway</td>\n",
       "      <td>Financials</td>\n",
       "      <td>Investment Services</td>\n",
       "      <td>North America</td>\n",
       "      <td>United States</td>\n",
       "      <td>309.1</td>\n",
       "      <td>178.8</td>\n",
       "      <td>19.5</td>\n",
       "      <td>493.4</td>\n",
       "      <td>5</td>\n",
       "      <td>http://www.forbes.com/companies/berkshire-hath...</td>\n",
       "      <td>0.039522</td>\n",
       "      <td>0.109060402684564</td>\n",
       "    </tr>\n",
       "  </tbody>\n",
       "</table>\n",
       "</div>"
      ],
      "text/plain": [
       "                      Company      Sector             Industry      Continent  \\\n",
       "0                        ICBC  Financials          Major Banks           Asia   \n",
       "1     China Construction Bank  Financials       Regional Banks           Asia   \n",
       "2  Agricultural Bank of China  Financials       Regional Banks           Asia   \n",
       "3              JPMorgan Chase  Financials          Major Banks  North America   \n",
       "4          Berkshire Hathaway  Financials  Investment Services  North America   \n",
       "\n",
       "         Country  Market Value  Sales  Profits  Assets  Rank  \\\n",
       "0          China         215.6  148.7     42.7  3124.9     1   \n",
       "1          China         174.4  121.3     34.2  2449.5     2   \n",
       "2          China         141.1  136.4     27.0  2405.4     3   \n",
       "3  United States         229.7  105.7     17.3  2435.3     4   \n",
       "4  United States         309.1  178.8     19.5   493.4     5   \n",
       "\n",
       "                                      Forbes Webpage  Profits as % of Assets  \\\n",
       "0              http://www.forbes.com/companies/icbc/                0.013664   \n",
       "1  http://www.forbes.com/companies/china-construc...                0.013962   \n",
       "2  http://www.forbes.com/companies/agricultural-b...                0.011225   \n",
       "3    http://www.forbes.com/companies/jpmorgan-chase/                0.007104   \n",
       "4  http://www.forbes.com/companies/berkshire-hath...                0.039522   \n",
       "\n",
       "  Profits as % of Sales  \n",
       "0     0.287155346334903  \n",
       "1      0.28194558944765  \n",
       "2     0.197947214076246  \n",
       "3     0.163670766319773  \n",
       "4     0.109060402684564  "
      ]
     },
     "execution_count": 62,
     "metadata": {},
     "output_type": "execute_result"
    }
   ],
   "source": [
    "forbes2014.head()"
   ]
  },
  {
   "cell_type": "code",
   "execution_count": 67,
   "id": "bridal-camcorder",
   "metadata": {},
   "outputs": [
    {
     "ename": "KeyError",
     "evalue": "\"['Sector' 'Continent' 'Forbes Webpage' 'Profits as % of Assets'\\n 'Profits as % of Sales'] not found in axis\"",
     "output_type": "error",
     "traceback": [
      "\u001b[1;31m---------------------------------------------------------------------------\u001b[0m",
      "\u001b[1;31mKeyError\u001b[0m                                  Traceback (most recent call last)",
      "\u001b[1;32m<ipython-input-67-5a0486164b9b>\u001b[0m in \u001b[0;36m<module>\u001b[1;34m\u001b[0m\n\u001b[1;32m----> 1\u001b[1;33m \u001b[0mforbes2014\u001b[0m\u001b[1;33m.\u001b[0m\u001b[0mdrop\u001b[0m\u001b[1;33m(\u001b[0m\u001b[1;33m[\u001b[0m\u001b[1;34m\"Sector\"\u001b[0m\u001b[1;33m,\u001b[0m\u001b[1;34m\"Continent\"\u001b[0m\u001b[1;33m,\u001b[0m\u001b[1;34m\"Forbes Webpage\"\u001b[0m\u001b[1;33m,\u001b[0m\u001b[1;34m\"Profits as % of Assets\"\u001b[0m\u001b[1;33m,\u001b[0m\u001b[1;34m\"Profits as % of Sales\"\u001b[0m\u001b[1;33m]\u001b[0m\u001b[1;33m,\u001b[0m\u001b[0maxis\u001b[0m\u001b[1;33m=\u001b[0m\u001b[1;36m1\u001b[0m\u001b[1;33m,\u001b[0m\u001b[0minplace\u001b[0m\u001b[1;33m=\u001b[0m\u001b[1;32mTrue\u001b[0m\u001b[1;33m)\u001b[0m\u001b[1;33m\u001b[0m\u001b[1;33m\u001b[0m\u001b[0m\n\u001b[0m\u001b[0;32m      2\u001b[0m \u001b[0mforbes2014\u001b[0m\u001b[1;33m.\u001b[0m\u001b[0mrename\u001b[0m\u001b[1;33m(\u001b[0m\u001b[1;33m{\u001b[0m\u001b[1;34m\"Sales\"\u001b[0m\u001b[1;33m:\u001b[0m\u001b[1;34m\"Revenue\"\u001b[0m\u001b[1;33m}\u001b[0m\u001b[1;33m,\u001b[0m\u001b[0maxis\u001b[0m\u001b[1;33m=\u001b[0m\u001b[1;36m1\u001b[0m\u001b[1;33m,\u001b[0m\u001b[0minplace\u001b[0m\u001b[1;33m=\u001b[0m\u001b[1;32mTrue\u001b[0m\u001b[1;33m)\u001b[0m\u001b[1;33m\u001b[0m\u001b[1;33m\u001b[0m\u001b[0m\n",
      "\u001b[1;32m~\\anaconda3\\lib\\site-packages\\pandas\\core\\frame.py\u001b[0m in \u001b[0;36mdrop\u001b[1;34m(self, labels, axis, index, columns, level, inplace, errors)\u001b[0m\n\u001b[0;32m   4303\u001b[0m                 \u001b[0mweight\u001b[0m  \u001b[1;36m1.0\u001b[0m     \u001b[1;36m0.8\u001b[0m\u001b[1;33m\u001b[0m\u001b[1;33m\u001b[0m\u001b[0m\n\u001b[0;32m   4304\u001b[0m         \"\"\"\n\u001b[1;32m-> 4305\u001b[1;33m         return super().drop(\n\u001b[0m\u001b[0;32m   4306\u001b[0m             \u001b[0mlabels\u001b[0m\u001b[1;33m=\u001b[0m\u001b[0mlabels\u001b[0m\u001b[1;33m,\u001b[0m\u001b[1;33m\u001b[0m\u001b[1;33m\u001b[0m\u001b[0m\n\u001b[0;32m   4307\u001b[0m             \u001b[0maxis\u001b[0m\u001b[1;33m=\u001b[0m\u001b[0maxis\u001b[0m\u001b[1;33m,\u001b[0m\u001b[1;33m\u001b[0m\u001b[1;33m\u001b[0m\u001b[0m\n",
      "\u001b[1;32m~\\anaconda3\\lib\\site-packages\\pandas\\core\\generic.py\u001b[0m in \u001b[0;36mdrop\u001b[1;34m(self, labels, axis, index, columns, level, inplace, errors)\u001b[0m\n\u001b[0;32m   4150\u001b[0m         \u001b[1;32mfor\u001b[0m \u001b[0maxis\u001b[0m\u001b[1;33m,\u001b[0m \u001b[0mlabels\u001b[0m \u001b[1;32min\u001b[0m \u001b[0maxes\u001b[0m\u001b[1;33m.\u001b[0m\u001b[0mitems\u001b[0m\u001b[1;33m(\u001b[0m\u001b[1;33m)\u001b[0m\u001b[1;33m:\u001b[0m\u001b[1;33m\u001b[0m\u001b[1;33m\u001b[0m\u001b[0m\n\u001b[0;32m   4151\u001b[0m             \u001b[1;32mif\u001b[0m \u001b[0mlabels\u001b[0m \u001b[1;32mis\u001b[0m \u001b[1;32mnot\u001b[0m \u001b[1;32mNone\u001b[0m\u001b[1;33m:\u001b[0m\u001b[1;33m\u001b[0m\u001b[1;33m\u001b[0m\u001b[0m\n\u001b[1;32m-> 4152\u001b[1;33m                 \u001b[0mobj\u001b[0m \u001b[1;33m=\u001b[0m \u001b[0mobj\u001b[0m\u001b[1;33m.\u001b[0m\u001b[0m_drop_axis\u001b[0m\u001b[1;33m(\u001b[0m\u001b[0mlabels\u001b[0m\u001b[1;33m,\u001b[0m \u001b[0maxis\u001b[0m\u001b[1;33m,\u001b[0m \u001b[0mlevel\u001b[0m\u001b[1;33m=\u001b[0m\u001b[0mlevel\u001b[0m\u001b[1;33m,\u001b[0m \u001b[0merrors\u001b[0m\u001b[1;33m=\u001b[0m\u001b[0merrors\u001b[0m\u001b[1;33m)\u001b[0m\u001b[1;33m\u001b[0m\u001b[1;33m\u001b[0m\u001b[0m\n\u001b[0m\u001b[0;32m   4153\u001b[0m \u001b[1;33m\u001b[0m\u001b[0m\n\u001b[0;32m   4154\u001b[0m         \u001b[1;32mif\u001b[0m \u001b[0minplace\u001b[0m\u001b[1;33m:\u001b[0m\u001b[1;33m\u001b[0m\u001b[1;33m\u001b[0m\u001b[0m\n",
      "\u001b[1;32m~\\anaconda3\\lib\\site-packages\\pandas\\core\\generic.py\u001b[0m in \u001b[0;36m_drop_axis\u001b[1;34m(self, labels, axis, level, errors)\u001b[0m\n\u001b[0;32m   4185\u001b[0m                 \u001b[0mnew_axis\u001b[0m \u001b[1;33m=\u001b[0m \u001b[0maxis\u001b[0m\u001b[1;33m.\u001b[0m\u001b[0mdrop\u001b[0m\u001b[1;33m(\u001b[0m\u001b[0mlabels\u001b[0m\u001b[1;33m,\u001b[0m \u001b[0mlevel\u001b[0m\u001b[1;33m=\u001b[0m\u001b[0mlevel\u001b[0m\u001b[1;33m,\u001b[0m \u001b[0merrors\u001b[0m\u001b[1;33m=\u001b[0m\u001b[0merrors\u001b[0m\u001b[1;33m)\u001b[0m\u001b[1;33m\u001b[0m\u001b[1;33m\u001b[0m\u001b[0m\n\u001b[0;32m   4186\u001b[0m             \u001b[1;32melse\u001b[0m\u001b[1;33m:\u001b[0m\u001b[1;33m\u001b[0m\u001b[1;33m\u001b[0m\u001b[0m\n\u001b[1;32m-> 4187\u001b[1;33m                 \u001b[0mnew_axis\u001b[0m \u001b[1;33m=\u001b[0m \u001b[0maxis\u001b[0m\u001b[1;33m.\u001b[0m\u001b[0mdrop\u001b[0m\u001b[1;33m(\u001b[0m\u001b[0mlabels\u001b[0m\u001b[1;33m,\u001b[0m \u001b[0merrors\u001b[0m\u001b[1;33m=\u001b[0m\u001b[0merrors\u001b[0m\u001b[1;33m)\u001b[0m\u001b[1;33m\u001b[0m\u001b[1;33m\u001b[0m\u001b[0m\n\u001b[0m\u001b[0;32m   4188\u001b[0m             \u001b[0mresult\u001b[0m \u001b[1;33m=\u001b[0m \u001b[0mself\u001b[0m\u001b[1;33m.\u001b[0m\u001b[0mreindex\u001b[0m\u001b[1;33m(\u001b[0m\u001b[1;33m**\u001b[0m\u001b[1;33m{\u001b[0m\u001b[0maxis_name\u001b[0m\u001b[1;33m:\u001b[0m \u001b[0mnew_axis\u001b[0m\u001b[1;33m}\u001b[0m\u001b[1;33m)\u001b[0m\u001b[1;33m\u001b[0m\u001b[1;33m\u001b[0m\u001b[0m\n\u001b[0;32m   4189\u001b[0m \u001b[1;33m\u001b[0m\u001b[0m\n",
      "\u001b[1;32m~\\anaconda3\\lib\\site-packages\\pandas\\core\\indexes\\base.py\u001b[0m in \u001b[0;36mdrop\u001b[1;34m(self, labels, errors)\u001b[0m\n\u001b[0;32m   5589\u001b[0m         \u001b[1;32mif\u001b[0m \u001b[0mmask\u001b[0m\u001b[1;33m.\u001b[0m\u001b[0many\u001b[0m\u001b[1;33m(\u001b[0m\u001b[1;33m)\u001b[0m\u001b[1;33m:\u001b[0m\u001b[1;33m\u001b[0m\u001b[1;33m\u001b[0m\u001b[0m\n\u001b[0;32m   5590\u001b[0m             \u001b[1;32mif\u001b[0m \u001b[0merrors\u001b[0m \u001b[1;33m!=\u001b[0m \u001b[1;34m\"ignore\"\u001b[0m\u001b[1;33m:\u001b[0m\u001b[1;33m\u001b[0m\u001b[1;33m\u001b[0m\u001b[0m\n\u001b[1;32m-> 5591\u001b[1;33m                 \u001b[1;32mraise\u001b[0m \u001b[0mKeyError\u001b[0m\u001b[1;33m(\u001b[0m\u001b[1;34mf\"{labels[mask]} not found in axis\"\u001b[0m\u001b[1;33m)\u001b[0m\u001b[1;33m\u001b[0m\u001b[1;33m\u001b[0m\u001b[0m\n\u001b[0m\u001b[0;32m   5592\u001b[0m             \u001b[0mindexer\u001b[0m \u001b[1;33m=\u001b[0m \u001b[0mindexer\u001b[0m\u001b[1;33m[\u001b[0m\u001b[1;33m~\u001b[0m\u001b[0mmask\u001b[0m\u001b[1;33m]\u001b[0m\u001b[1;33m\u001b[0m\u001b[1;33m\u001b[0m\u001b[0m\n\u001b[0;32m   5593\u001b[0m         \u001b[1;32mreturn\u001b[0m \u001b[0mself\u001b[0m\u001b[1;33m.\u001b[0m\u001b[0mdelete\u001b[0m\u001b[1;33m(\u001b[0m\u001b[0mindexer\u001b[0m\u001b[1;33m)\u001b[0m\u001b[1;33m\u001b[0m\u001b[1;33m\u001b[0m\u001b[0m\n",
      "\u001b[1;31mKeyError\u001b[0m: \"['Sector' 'Continent' 'Forbes Webpage' 'Profits as % of Assets'\\n 'Profits as % of Sales'] not found in axis\""
     ]
    }
   ],
   "source": [
    "forbes2014.drop([\"Sector\",\"Continent\",\"Forbes Webpage\",\"Profits as % of Assets\",\"Profits as % of Sales\"],axis=1,inplace=True)"
   ]
  },
  {
   "cell_type": "code",
   "execution_count": 106,
   "id": "patent-rolling",
   "metadata": {},
   "outputs": [
    {
     "data": {
      "text/html": [
       "<div>\n",
       "<style scoped>\n",
       "    .dataframe tbody tr th:only-of-type {\n",
       "        vertical-align: middle;\n",
       "    }\n",
       "\n",
       "    .dataframe tbody tr th {\n",
       "        vertical-align: top;\n",
       "    }\n",
       "\n",
       "    .dataframe thead th {\n",
       "        text-align: right;\n",
       "    }\n",
       "</style>\n",
       "<table border=\"1\" class=\"dataframe\">\n",
       "  <thead>\n",
       "    <tr style=\"text-align: right;\">\n",
       "      <th></th>\n",
       "      <th>Company</th>\n",
       "      <th>Sector</th>\n",
       "      <th>Industry</th>\n",
       "      <th>Continent</th>\n",
       "      <th>Country</th>\n",
       "      <th>Market Value</th>\n",
       "      <th>Revenue</th>\n",
       "      <th>Profits</th>\n",
       "      <th>Assets</th>\n",
       "      <th>Rank</th>\n",
       "      <th>Forbes Webpage</th>\n",
       "      <th>Profits as % of Assets</th>\n",
       "      <th>Profits as % of Sales</th>\n",
       "      <th>Year</th>\n",
       "    </tr>\n",
       "  </thead>\n",
       "  <tbody>\n",
       "    <tr>\n",
       "      <th>0</th>\n",
       "      <td>ICBC</td>\n",
       "      <td>Financials</td>\n",
       "      <td>Major Banks</td>\n",
       "      <td>Asia</td>\n",
       "      <td>China</td>\n",
       "      <td>215.6</td>\n",
       "      <td>148.7</td>\n",
       "      <td>42.7</td>\n",
       "      <td>3124.9</td>\n",
       "      <td>1</td>\n",
       "      <td>http://www.forbes.com/companies/icbc/</td>\n",
       "      <td>0.013664</td>\n",
       "      <td>0.287155346334903</td>\n",
       "      <td>2014</td>\n",
       "    </tr>\n",
       "    <tr>\n",
       "      <th>1</th>\n",
       "      <td>China Construction Bank</td>\n",
       "      <td>Financials</td>\n",
       "      <td>Regional Banks</td>\n",
       "      <td>Asia</td>\n",
       "      <td>China</td>\n",
       "      <td>174.4</td>\n",
       "      <td>121.3</td>\n",
       "      <td>34.2</td>\n",
       "      <td>2449.5</td>\n",
       "      <td>2</td>\n",
       "      <td>http://www.forbes.com/companies/china-construc...</td>\n",
       "      <td>0.013962</td>\n",
       "      <td>0.28194558944765</td>\n",
       "      <td>2014</td>\n",
       "    </tr>\n",
       "    <tr>\n",
       "      <th>2</th>\n",
       "      <td>Agricultural Bank of China</td>\n",
       "      <td>Financials</td>\n",
       "      <td>Regional Banks</td>\n",
       "      <td>Asia</td>\n",
       "      <td>China</td>\n",
       "      <td>141.1</td>\n",
       "      <td>136.4</td>\n",
       "      <td>27.0</td>\n",
       "      <td>2405.4</td>\n",
       "      <td>3</td>\n",
       "      <td>http://www.forbes.com/companies/agricultural-b...</td>\n",
       "      <td>0.011225</td>\n",
       "      <td>0.197947214076246</td>\n",
       "      <td>2014</td>\n",
       "    </tr>\n",
       "    <tr>\n",
       "      <th>3</th>\n",
       "      <td>JPMorgan Chase</td>\n",
       "      <td>Financials</td>\n",
       "      <td>Major Banks</td>\n",
       "      <td>North America</td>\n",
       "      <td>United States</td>\n",
       "      <td>229.7</td>\n",
       "      <td>105.7</td>\n",
       "      <td>17.3</td>\n",
       "      <td>2435.3</td>\n",
       "      <td>4</td>\n",
       "      <td>http://www.forbes.com/companies/jpmorgan-chase/</td>\n",
       "      <td>0.007104</td>\n",
       "      <td>0.163670766319773</td>\n",
       "      <td>2014</td>\n",
       "    </tr>\n",
       "    <tr>\n",
       "      <th>4</th>\n",
       "      <td>Berkshire Hathaway</td>\n",
       "      <td>Financials</td>\n",
       "      <td>Investment Services</td>\n",
       "      <td>North America</td>\n",
       "      <td>United States</td>\n",
       "      <td>309.1</td>\n",
       "      <td>178.8</td>\n",
       "      <td>19.5</td>\n",
       "      <td>493.4</td>\n",
       "      <td>5</td>\n",
       "      <td>http://www.forbes.com/companies/berkshire-hath...</td>\n",
       "      <td>0.039522</td>\n",
       "      <td>0.109060402684564</td>\n",
       "      <td>2014</td>\n",
       "    </tr>\n",
       "  </tbody>\n",
       "</table>\n",
       "</div>"
      ],
      "text/plain": [
       "                      Company      Sector             Industry      Continent  \\\n",
       "0                        ICBC  Financials          Major Banks           Asia   \n",
       "1     China Construction Bank  Financials       Regional Banks           Asia   \n",
       "2  Agricultural Bank of China  Financials       Regional Banks           Asia   \n",
       "3              JPMorgan Chase  Financials          Major Banks  North America   \n",
       "4          Berkshire Hathaway  Financials  Investment Services  North America   \n",
       "\n",
       "         Country  Market Value  Revenue  Profits  Assets  Rank  \\\n",
       "0          China         215.6    148.7     42.7  3124.9     1   \n",
       "1          China         174.4    121.3     34.2  2449.5     2   \n",
       "2          China         141.1    136.4     27.0  2405.4     3   \n",
       "3  United States         229.7    105.7     17.3  2435.3     4   \n",
       "4  United States         309.1    178.8     19.5   493.4     5   \n",
       "\n",
       "                                      Forbes Webpage  Profits as % of Assets  \\\n",
       "0              http://www.forbes.com/companies/icbc/                0.013664   \n",
       "1  http://www.forbes.com/companies/china-construc...                0.013962   \n",
       "2  http://www.forbes.com/companies/agricultural-b...                0.011225   \n",
       "3    http://www.forbes.com/companies/jpmorgan-chase/                0.007104   \n",
       "4  http://www.forbes.com/companies/berkshire-hath...                0.039522   \n",
       "\n",
       "  Profits as % of Sales  Year  \n",
       "0     0.287155346334903  2014  \n",
       "1      0.28194558944765  2014  \n",
       "2     0.197947214076246  2014  \n",
       "3     0.163670766319773  2014  \n",
       "4     0.109060402684564  2014  "
      ]
     },
     "execution_count": 106,
     "metadata": {},
     "output_type": "execute_result"
    }
   ],
   "source": [
    "forbes2014.rename({\"Sales\":\"Revenue\"},axis=1,inplace=True)\n",
    "forbes2014.head()"
   ]
  },
  {
   "cell_type": "code",
   "execution_count": 70,
   "id": "serial-debut",
   "metadata": {},
   "outputs": [
    {
     "data": {
      "text/html": [
       "<div>\n",
       "<style scoped>\n",
       "    .dataframe tbody tr th:only-of-type {\n",
       "        vertical-align: middle;\n",
       "    }\n",
       "\n",
       "    .dataframe tbody tr th {\n",
       "        vertical-align: top;\n",
       "    }\n",
       "\n",
       "    .dataframe thead th {\n",
       "        text-align: right;\n",
       "    }\n",
       "</style>\n",
       "<table border=\"1\" class=\"dataframe\">\n",
       "  <thead>\n",
       "    <tr style=\"text-align: right;\">\n",
       "      <th></th>\n",
       "      <th>Company</th>\n",
       "      <th>Industry</th>\n",
       "      <th>Country</th>\n",
       "      <th>Market Value</th>\n",
       "      <th>Sales</th>\n",
       "      <th>Profits</th>\n",
       "      <th>Assets</th>\n",
       "      <th>Rank</th>\n",
       "      <th>Forbes Webpage</th>\n",
       "      <th>Profits as % of Assets</th>\n",
       "      <th>Profits as % of Sales</th>\n",
       "    </tr>\n",
       "  </thead>\n",
       "  <tbody>\n",
       "    <tr>\n",
       "      <th>0</th>\n",
       "      <td>ICBC</td>\n",
       "      <td>Major Banks</td>\n",
       "      <td>China</td>\n",
       "      <td>237.3</td>\n",
       "      <td>134.8</td>\n",
       "      <td>37.8</td>\n",
       "      <td>2813.5</td>\n",
       "      <td>1</td>\n",
       "      <td>http://www.forbes.com/companies/icbc/</td>\n",
       "      <td>0.013435</td>\n",
       "      <td>0.280415430267062</td>\n",
       "    </tr>\n",
       "    <tr>\n",
       "      <th>1</th>\n",
       "      <td>China Construction Bank</td>\n",
       "      <td>Regional Banks</td>\n",
       "      <td>China</td>\n",
       "      <td>202.0</td>\n",
       "      <td>113.1</td>\n",
       "      <td>30.6</td>\n",
       "      <td>2241.0</td>\n",
       "      <td>2</td>\n",
       "      <td>http://www.forbes.com/companies/china-construc...</td>\n",
       "      <td>0.013655</td>\n",
       "      <td>0.270557029177719</td>\n",
       "    </tr>\n",
       "    <tr>\n",
       "      <th>2</th>\n",
       "      <td>JPMorgan Chase</td>\n",
       "      <td>Major Banks</td>\n",
       "      <td>United States</td>\n",
       "      <td>191.4</td>\n",
       "      <td>108.2</td>\n",
       "      <td>21.3</td>\n",
       "      <td>2359.1</td>\n",
       "      <td>3</td>\n",
       "      <td>http://www.forbes.com/companies/jpmorgan-chase/</td>\n",
       "      <td>0.009029</td>\n",
       "      <td>0.196857670979667</td>\n",
       "    </tr>\n",
       "    <tr>\n",
       "      <th>3</th>\n",
       "      <td>General Electric</td>\n",
       "      <td>Conglomerates</td>\n",
       "      <td>United States</td>\n",
       "      <td>243.7</td>\n",
       "      <td>147.4</td>\n",
       "      <td>13.6</td>\n",
       "      <td>685.3</td>\n",
       "      <td>4</td>\n",
       "      <td>http://www.forbes.com/companies/general-electric/</td>\n",
       "      <td>0.019845</td>\n",
       "      <td>0.0922659430122117</td>\n",
       "    </tr>\n",
       "    <tr>\n",
       "      <th>4</th>\n",
       "      <td>Exxon Mobil</td>\n",
       "      <td>Oil &amp; Gas Operations</td>\n",
       "      <td>United States</td>\n",
       "      <td>400.4</td>\n",
       "      <td>420.7</td>\n",
       "      <td>44.9</td>\n",
       "      <td>333.8</td>\n",
       "      <td>5</td>\n",
       "      <td>http://www.forbes.com/companies/exxon-mobil/</td>\n",
       "      <td>0.134512</td>\n",
       "      <td>0.106726883765153</td>\n",
       "    </tr>\n",
       "  </tbody>\n",
       "</table>\n",
       "</div>"
      ],
      "text/plain": [
       "                   Company              Industry        Country  Market Value  \\\n",
       "0                     ICBC           Major Banks          China         237.3   \n",
       "1  China Construction Bank        Regional Banks          China         202.0   \n",
       "2           JPMorgan Chase           Major Banks  United States         191.4   \n",
       "3         General Electric         Conglomerates  United States         243.7   \n",
       "4              Exxon Mobil  Oil & Gas Operations  United States         400.4   \n",
       "\n",
       "   Sales  Profits  Assets  Rank  \\\n",
       "0  134.8     37.8  2813.5     1   \n",
       "1  113.1     30.6  2241.0     2   \n",
       "2  108.2     21.3  2359.1     3   \n",
       "3  147.4     13.6   685.3     4   \n",
       "4  420.7     44.9   333.8     5   \n",
       "\n",
       "                                      Forbes Webpage  Profits as % of Assets  \\\n",
       "0              http://www.forbes.com/companies/icbc/                0.013435   \n",
       "1  http://www.forbes.com/companies/china-construc...                0.013655   \n",
       "2    http://www.forbes.com/companies/jpmorgan-chase/                0.009029   \n",
       "3  http://www.forbes.com/companies/general-electric/                0.019845   \n",
       "4       http://www.forbes.com/companies/exxon-mobil/                0.134512   \n",
       "\n",
       "  Profits as % of Sales  \n",
       "0     0.280415430267062  \n",
       "1     0.270557029177719  \n",
       "2     0.196857670979667  \n",
       "3    0.0922659430122117  \n",
       "4     0.106726883765153  "
      ]
     },
     "execution_count": 70,
     "metadata": {},
     "output_type": "execute_result"
    }
   ],
   "source": [
    "forbes2013.head()"
   ]
  },
  {
   "cell_type": "code",
   "execution_count": 107,
   "id": "enabling-stretch",
   "metadata": {},
   "outputs": [],
   "source": [
    "forbes2013.drop([\"Forbes Webpage\",\"Profits as % of Assets\",\"Profits as % of Sales\"],axis=1,inplace=True)\n",
    "forbes2013.rename({\"Sales\":\"Revenue\"},axis=1,inplace=True)"
   ]
  },
  {
   "cell_type": "code",
   "execution_count": 73,
   "id": "upset-creation",
   "metadata": {},
   "outputs": [
    {
     "data": {
      "text/html": [
       "<div>\n",
       "<style scoped>\n",
       "    .dataframe tbody tr th:only-of-type {\n",
       "        vertical-align: middle;\n",
       "    }\n",
       "\n",
       "    .dataframe tbody tr th {\n",
       "        vertical-align: top;\n",
       "    }\n",
       "\n",
       "    .dataframe thead th {\n",
       "        text-align: right;\n",
       "    }\n",
       "</style>\n",
       "<table border=\"1\" class=\"dataframe\">\n",
       "  <thead>\n",
       "    <tr style=\"text-align: right;\">\n",
       "      <th></th>\n",
       "      <th>Company</th>\n",
       "      <th>Industry</th>\n",
       "      <th>Country</th>\n",
       "      <th>Market Value</th>\n",
       "      <th>Revenue</th>\n",
       "      <th>Profits</th>\n",
       "      <th>Assets</th>\n",
       "      <th>Rank</th>\n",
       "    </tr>\n",
       "  </thead>\n",
       "  <tbody>\n",
       "    <tr>\n",
       "      <th>0</th>\n",
       "      <td>ICBC</td>\n",
       "      <td>Major Banks</td>\n",
       "      <td>China</td>\n",
       "      <td>237.3</td>\n",
       "      <td>134.8</td>\n",
       "      <td>37.8</td>\n",
       "      <td>2813.5</td>\n",
       "      <td>1</td>\n",
       "    </tr>\n",
       "    <tr>\n",
       "      <th>1</th>\n",
       "      <td>China Construction Bank</td>\n",
       "      <td>Regional Banks</td>\n",
       "      <td>China</td>\n",
       "      <td>202.0</td>\n",
       "      <td>113.1</td>\n",
       "      <td>30.6</td>\n",
       "      <td>2241.0</td>\n",
       "      <td>2</td>\n",
       "    </tr>\n",
       "    <tr>\n",
       "      <th>2</th>\n",
       "      <td>JPMorgan Chase</td>\n",
       "      <td>Major Banks</td>\n",
       "      <td>United States</td>\n",
       "      <td>191.4</td>\n",
       "      <td>108.2</td>\n",
       "      <td>21.3</td>\n",
       "      <td>2359.1</td>\n",
       "      <td>3</td>\n",
       "    </tr>\n",
       "    <tr>\n",
       "      <th>3</th>\n",
       "      <td>General Electric</td>\n",
       "      <td>Conglomerates</td>\n",
       "      <td>United States</td>\n",
       "      <td>243.7</td>\n",
       "      <td>147.4</td>\n",
       "      <td>13.6</td>\n",
       "      <td>685.3</td>\n",
       "      <td>4</td>\n",
       "    </tr>\n",
       "    <tr>\n",
       "      <th>4</th>\n",
       "      <td>Exxon Mobil</td>\n",
       "      <td>Oil &amp; Gas Operations</td>\n",
       "      <td>United States</td>\n",
       "      <td>400.4</td>\n",
       "      <td>420.7</td>\n",
       "      <td>44.9</td>\n",
       "      <td>333.8</td>\n",
       "      <td>5</td>\n",
       "    </tr>\n",
       "  </tbody>\n",
       "</table>\n",
       "</div>"
      ],
      "text/plain": [
       "                   Company              Industry        Country  Market Value  \\\n",
       "0                     ICBC           Major Banks          China         237.3   \n",
       "1  China Construction Bank        Regional Banks          China         202.0   \n",
       "2           JPMorgan Chase           Major Banks  United States         191.4   \n",
       "3         General Electric         Conglomerates  United States         243.7   \n",
       "4              Exxon Mobil  Oil & Gas Operations  United States         400.4   \n",
       "\n",
       "   Revenue  Profits  Assets  Rank  \n",
       "0    134.8     37.8  2813.5     1  \n",
       "1    113.1     30.6  2241.0     2  \n",
       "2    108.2     21.3  2359.1     3  \n",
       "3    147.4     13.6   685.3     4  \n",
       "4    420.7     44.9   333.8     5  "
      ]
     },
     "execution_count": 73,
     "metadata": {},
     "output_type": "execute_result"
    }
   ],
   "source": [
    "forbes2013.head()"
   ]
  },
  {
   "cell_type": "code",
   "execution_count": 74,
   "id": "equipped-stopping",
   "metadata": {},
   "outputs": [
    {
     "data": {
      "text/html": [
       "<div>\n",
       "<style scoped>\n",
       "    .dataframe tbody tr th:only-of-type {\n",
       "        vertical-align: middle;\n",
       "    }\n",
       "\n",
       "    .dataframe tbody tr th {\n",
       "        vertical-align: top;\n",
       "    }\n",
       "\n",
       "    .dataframe thead th {\n",
       "        text-align: right;\n",
       "    }\n",
       "</style>\n",
       "<table border=\"1\" class=\"dataframe\">\n",
       "  <thead>\n",
       "    <tr style=\"text-align: right;\">\n",
       "      <th></th>\n",
       "      <th>Company</th>\n",
       "      <th>Industry</th>\n",
       "      <th>Country</th>\n",
       "      <th>Market Value</th>\n",
       "      <th>Sales</th>\n",
       "      <th>Profits</th>\n",
       "      <th>Assets</th>\n",
       "      <th>Rank</th>\n",
       "      <th>Forbes Webpage</th>\n",
       "      <th>Profits as % of Assets</th>\n",
       "      <th>Profits as % of Sales</th>\n",
       "    </tr>\n",
       "  </thead>\n",
       "  <tbody>\n",
       "    <tr>\n",
       "      <th>0</th>\n",
       "      <td>Exxon Mobil</td>\n",
       "      <td>Oil &amp; Gas Operations</td>\n",
       "      <td>United States</td>\n",
       "      <td>407.4</td>\n",
       "      <td>433.5</td>\n",
       "      <td>41.1</td>\n",
       "      <td>331.1</td>\n",
       "      <td>1</td>\n",
       "      <td>http://www.forbes.com/companies/exxon-mobil/</td>\n",
       "      <td>0.124132</td>\n",
       "      <td>0.0948096885813149</td>\n",
       "    </tr>\n",
       "    <tr>\n",
       "      <th>1</th>\n",
       "      <td>JPMorgan Chase</td>\n",
       "      <td>Major Banks</td>\n",
       "      <td>United States</td>\n",
       "      <td>170.1</td>\n",
       "      <td>110.8</td>\n",
       "      <td>19.0</td>\n",
       "      <td>2265.8</td>\n",
       "      <td>2</td>\n",
       "      <td>http://www.forbes.com/companies/jpmorgan-chase/</td>\n",
       "      <td>0.008386</td>\n",
       "      <td>0.171480144404332</td>\n",
       "    </tr>\n",
       "    <tr>\n",
       "      <th>2</th>\n",
       "      <td>General Electric</td>\n",
       "      <td>Conglomerates</td>\n",
       "      <td>United States</td>\n",
       "      <td>213.7</td>\n",
       "      <td>147.3</td>\n",
       "      <td>14.2</td>\n",
       "      <td>717.2</td>\n",
       "      <td>3</td>\n",
       "      <td>http://www.forbes.com/companies/general-electric/</td>\n",
       "      <td>0.019799</td>\n",
       "      <td>0.0964019008825526</td>\n",
       "    </tr>\n",
       "    <tr>\n",
       "      <th>3</th>\n",
       "      <td>Royal Dutch Shell</td>\n",
       "      <td>Oil &amp; Gas Operations</td>\n",
       "      <td>Netherlands</td>\n",
       "      <td>227.6</td>\n",
       "      <td>470.2</td>\n",
       "      <td>30.9</td>\n",
       "      <td>340.5</td>\n",
       "      <td>4</td>\n",
       "      <td>http://www.forbes.com/companies/royal-dutch-sh...</td>\n",
       "      <td>0.090749</td>\n",
       "      <td>0.06571671629094</td>\n",
       "    </tr>\n",
       "    <tr>\n",
       "      <th>4</th>\n",
       "      <td>ICBC</td>\n",
       "      <td>Major Banks</td>\n",
       "      <td>China</td>\n",
       "      <td>237.4</td>\n",
       "      <td>82.6</td>\n",
       "      <td>25.1</td>\n",
       "      <td>2039.1</td>\n",
       "      <td>5</td>\n",
       "      <td>http://www.forbes.com/companies/icbc/</td>\n",
       "      <td>0.012309</td>\n",
       "      <td>0.303874092009685</td>\n",
       "    </tr>\n",
       "  </tbody>\n",
       "</table>\n",
       "</div>"
      ],
      "text/plain": [
       "             Company              Industry        Country  Market Value  \\\n",
       "0        Exxon Mobil  Oil & Gas Operations  United States         407.4   \n",
       "1     JPMorgan Chase           Major Banks  United States         170.1   \n",
       "2   General Electric         Conglomerates  United States         213.7   \n",
       "3  Royal Dutch Shell  Oil & Gas Operations    Netherlands         227.6   \n",
       "4               ICBC           Major Banks          China         237.4   \n",
       "\n",
       "   Sales  Profits  Assets  Rank  \\\n",
       "0  433.5     41.1   331.1     1   \n",
       "1  110.8     19.0  2265.8     2   \n",
       "2  147.3     14.2   717.2     3   \n",
       "3  470.2     30.9   340.5     4   \n",
       "4   82.6     25.1  2039.1     5   \n",
       "\n",
       "                                      Forbes Webpage  Profits as % of Assets  \\\n",
       "0       http://www.forbes.com/companies/exxon-mobil/                0.124132   \n",
       "1    http://www.forbes.com/companies/jpmorgan-chase/                0.008386   \n",
       "2  http://www.forbes.com/companies/general-electric/                0.019799   \n",
       "3  http://www.forbes.com/companies/royal-dutch-sh...                0.090749   \n",
       "4              http://www.forbes.com/companies/icbc/                0.012309   \n",
       "\n",
       "  Profits as % of Sales  \n",
       "0    0.0948096885813149  \n",
       "1     0.171480144404332  \n",
       "2    0.0964019008825526  \n",
       "3      0.06571671629094  \n",
       "4     0.303874092009685  "
      ]
     },
     "execution_count": 74,
     "metadata": {},
     "output_type": "execute_result"
    }
   ],
   "source": [
    "forbes2012.head()"
   ]
  },
  {
   "cell_type": "code",
   "execution_count": 108,
   "id": "reasonable-drinking",
   "metadata": {},
   "outputs": [],
   "source": [
    "forbes2012.drop([\"Forbes Webpage\",\"Profits as % of Assets\",\"Profits as % of Sales\"],axis=1,inplace=True)\n",
    "forbes2012.rename({\"Sales\":\"Revenue\"},axis=1,inplace=True)"
   ]
  },
  {
   "cell_type": "code",
   "execution_count": 76,
   "id": "western-impression",
   "metadata": {},
   "outputs": [
    {
     "data": {
      "text/html": [
       "<div>\n",
       "<style scoped>\n",
       "    .dataframe tbody tr th:only-of-type {\n",
       "        vertical-align: middle;\n",
       "    }\n",
       "\n",
       "    .dataframe tbody tr th {\n",
       "        vertical-align: top;\n",
       "    }\n",
       "\n",
       "    .dataframe thead th {\n",
       "        text-align: right;\n",
       "    }\n",
       "</style>\n",
       "<table border=\"1\" class=\"dataframe\">\n",
       "  <thead>\n",
       "    <tr style=\"text-align: right;\">\n",
       "      <th></th>\n",
       "      <th>Company</th>\n",
       "      <th>Industry</th>\n",
       "      <th>Country</th>\n",
       "      <th>Market Value</th>\n",
       "      <th>Revenue</th>\n",
       "      <th>Profits</th>\n",
       "      <th>Assets</th>\n",
       "      <th>Rank</th>\n",
       "    </tr>\n",
       "  </thead>\n",
       "  <tbody>\n",
       "    <tr>\n",
       "      <th>0</th>\n",
       "      <td>Exxon Mobil</td>\n",
       "      <td>Oil &amp; Gas Operations</td>\n",
       "      <td>United States</td>\n",
       "      <td>407.4</td>\n",
       "      <td>433.5</td>\n",
       "      <td>41.1</td>\n",
       "      <td>331.1</td>\n",
       "      <td>1</td>\n",
       "    </tr>\n",
       "    <tr>\n",
       "      <th>1</th>\n",
       "      <td>JPMorgan Chase</td>\n",
       "      <td>Major Banks</td>\n",
       "      <td>United States</td>\n",
       "      <td>170.1</td>\n",
       "      <td>110.8</td>\n",
       "      <td>19.0</td>\n",
       "      <td>2265.8</td>\n",
       "      <td>2</td>\n",
       "    </tr>\n",
       "    <tr>\n",
       "      <th>2</th>\n",
       "      <td>General Electric</td>\n",
       "      <td>Conglomerates</td>\n",
       "      <td>United States</td>\n",
       "      <td>213.7</td>\n",
       "      <td>147.3</td>\n",
       "      <td>14.2</td>\n",
       "      <td>717.2</td>\n",
       "      <td>3</td>\n",
       "    </tr>\n",
       "    <tr>\n",
       "      <th>3</th>\n",
       "      <td>Royal Dutch Shell</td>\n",
       "      <td>Oil &amp; Gas Operations</td>\n",
       "      <td>Netherlands</td>\n",
       "      <td>227.6</td>\n",
       "      <td>470.2</td>\n",
       "      <td>30.9</td>\n",
       "      <td>340.5</td>\n",
       "      <td>4</td>\n",
       "    </tr>\n",
       "    <tr>\n",
       "      <th>4</th>\n",
       "      <td>ICBC</td>\n",
       "      <td>Major Banks</td>\n",
       "      <td>China</td>\n",
       "      <td>237.4</td>\n",
       "      <td>82.6</td>\n",
       "      <td>25.1</td>\n",
       "      <td>2039.1</td>\n",
       "      <td>5</td>\n",
       "    </tr>\n",
       "  </tbody>\n",
       "</table>\n",
       "</div>"
      ],
      "text/plain": [
       "             Company              Industry        Country  Market Value  \\\n",
       "0        Exxon Mobil  Oil & Gas Operations  United States         407.4   \n",
       "1     JPMorgan Chase           Major Banks  United States         170.1   \n",
       "2   General Electric         Conglomerates  United States         213.7   \n",
       "3  Royal Dutch Shell  Oil & Gas Operations    Netherlands         227.6   \n",
       "4               ICBC           Major Banks          China         237.4   \n",
       "\n",
       "   Revenue  Profits  Assets  Rank  \n",
       "0    433.5     41.1   331.1     1  \n",
       "1    110.8     19.0  2265.8     2  \n",
       "2    147.3     14.2   717.2     3  \n",
       "3    470.2     30.9   340.5     4  \n",
       "4     82.6     25.1  2039.1     5  "
      ]
     },
     "execution_count": 76,
     "metadata": {},
     "output_type": "execute_result"
    }
   ],
   "source": [
    "forbes2012.head()"
   ]
  },
  {
   "cell_type": "code",
   "execution_count": 77,
   "id": "eastern-hostel",
   "metadata": {},
   "outputs": [
    {
     "data": {
      "text/html": [
       "<div>\n",
       "<style scoped>\n",
       "    .dataframe tbody tr th:only-of-type {\n",
       "        vertical-align: middle;\n",
       "    }\n",
       "\n",
       "    .dataframe tbody tr th {\n",
       "        vertical-align: top;\n",
       "    }\n",
       "\n",
       "    .dataframe thead th {\n",
       "        text-align: right;\n",
       "    }\n",
       "</style>\n",
       "<table border=\"1\" class=\"dataframe\">\n",
       "  <thead>\n",
       "    <tr style=\"text-align: right;\">\n",
       "      <th></th>\n",
       "      <th>Company</th>\n",
       "      <th>Industry</th>\n",
       "      <th>Country</th>\n",
       "      <th>Market Value</th>\n",
       "      <th>Sales</th>\n",
       "      <th>Profits</th>\n",
       "      <th>Assets</th>\n",
       "      <th>Rank</th>\n",
       "      <th>Forbes Webpage</th>\n",
       "      <th>Profits as % of Assets</th>\n",
       "      <th>Profits as % of Sales</th>\n",
       "    </tr>\n",
       "  </thead>\n",
       "  <tbody>\n",
       "    <tr>\n",
       "      <th>0</th>\n",
       "      <td>JPMorgan Chase</td>\n",
       "      <td>Major Banks</td>\n",
       "      <td>United States</td>\n",
       "      <td>182.2</td>\n",
       "      <td>115.5</td>\n",
       "      <td>17.4</td>\n",
       "      <td>2117.6</td>\n",
       "      <td>1</td>\n",
       "      <td>http://www.forbes.com/companies/jpmorgan-chase</td>\n",
       "      <td>0.008217</td>\n",
       "      <td>0.150649350649351</td>\n",
       "    </tr>\n",
       "    <tr>\n",
       "      <th>1</th>\n",
       "      <td>HSBC Holdings</td>\n",
       "      <td>Major Banks</td>\n",
       "      <td>United Kingdom</td>\n",
       "      <td>186.5</td>\n",
       "      <td>103.3</td>\n",
       "      <td>13.3</td>\n",
       "      <td>2467.9</td>\n",
       "      <td>2</td>\n",
       "      <td>http://www.forbes.com/companies/hsbc-holdings</td>\n",
       "      <td>0.005389</td>\n",
       "      <td>0.128751210067764</td>\n",
       "    </tr>\n",
       "    <tr>\n",
       "      <th>2</th>\n",
       "      <td>General Electric</td>\n",
       "      <td>Conglomerates</td>\n",
       "      <td>United States</td>\n",
       "      <td>216.2</td>\n",
       "      <td>150.2</td>\n",
       "      <td>11.6</td>\n",
       "      <td>751.2</td>\n",
       "      <td>3</td>\n",
       "      <td>http://www.forbes.com/companies/general-electric</td>\n",
       "      <td>0.015442</td>\n",
       "      <td>0.0772303595206392</td>\n",
       "    </tr>\n",
       "    <tr>\n",
       "      <th>3</th>\n",
       "      <td>ExxonMobil</td>\n",
       "      <td>Oil &amp; Gas Operations</td>\n",
       "      <td>United States</td>\n",
       "      <td>407.2</td>\n",
       "      <td>341.6</td>\n",
       "      <td>30.5</td>\n",
       "      <td>302.5</td>\n",
       "      <td>4</td>\n",
       "      <td>http://www.forbes.com/companies/exxonmobil</td>\n",
       "      <td>0.100826</td>\n",
       "      <td>0.0892857142857143</td>\n",
       "    </tr>\n",
       "    <tr>\n",
       "      <th>4</th>\n",
       "      <td>Royal Dutch Shell</td>\n",
       "      <td>Oil &amp; Gas Operations</td>\n",
       "      <td>Netherlands</td>\n",
       "      <td>212.9</td>\n",
       "      <td>369.1</td>\n",
       "      <td>20.1</td>\n",
       "      <td>317.2</td>\n",
       "      <td>5</td>\n",
       "      <td>http://www.forbes.com/companies/royal-dutch-shell</td>\n",
       "      <td>0.063367</td>\n",
       "      <td>0.0544567867786508</td>\n",
       "    </tr>\n",
       "  </tbody>\n",
       "</table>\n",
       "</div>"
      ],
      "text/plain": [
       "             Company              Industry         Country  Market Value  \\\n",
       "0     JPMorgan Chase           Major Banks   United States         182.2   \n",
       "1      HSBC Holdings           Major Banks  United Kingdom         186.5   \n",
       "2   General Electric         Conglomerates   United States         216.2   \n",
       "3         ExxonMobil  Oil & Gas Operations   United States         407.2   \n",
       "4  Royal Dutch Shell  Oil & Gas Operations     Netherlands         212.9   \n",
       "\n",
       "   Sales  Profits  Assets  Rank  \\\n",
       "0  115.5     17.4  2117.6     1   \n",
       "1  103.3     13.3  2467.9     2   \n",
       "2  150.2     11.6   751.2     3   \n",
       "3  341.6     30.5   302.5     4   \n",
       "4  369.1     20.1   317.2     5   \n",
       "\n",
       "                                      Forbes Webpage  Profits as % of Assets  \\\n",
       "0     http://www.forbes.com/companies/jpmorgan-chase                0.008217   \n",
       "1      http://www.forbes.com/companies/hsbc-holdings                0.005389   \n",
       "2   http://www.forbes.com/companies/general-electric                0.015442   \n",
       "3         http://www.forbes.com/companies/exxonmobil                0.100826   \n",
       "4  http://www.forbes.com/companies/royal-dutch-shell                0.063367   \n",
       "\n",
       "  Profits as % of Sales  \n",
       "0     0.150649350649351  \n",
       "1     0.128751210067764  \n",
       "2    0.0772303595206392  \n",
       "3    0.0892857142857143  \n",
       "4    0.0544567867786508  "
      ]
     },
     "execution_count": 77,
     "metadata": {},
     "output_type": "execute_result"
    }
   ],
   "source": [
    "forbes2011.head()"
   ]
  },
  {
   "cell_type": "code",
   "execution_count": 109,
   "id": "strong-album",
   "metadata": {},
   "outputs": [],
   "source": [
    "forbes2011.drop([\"Forbes Webpage\",\"Profits as % of Assets\",\"Profits as % of Sales\"],axis=1,inplace=True)\n",
    "forbes2011.rename({\"Sales\":\"Revenue\"},axis=1,inplace=True)"
   ]
  },
  {
   "cell_type": "code",
   "execution_count": 79,
   "id": "addressed-vision",
   "metadata": {},
   "outputs": [
    {
     "data": {
      "text/html": [
       "<div>\n",
       "<style scoped>\n",
       "    .dataframe tbody tr th:only-of-type {\n",
       "        vertical-align: middle;\n",
       "    }\n",
       "\n",
       "    .dataframe tbody tr th {\n",
       "        vertical-align: top;\n",
       "    }\n",
       "\n",
       "    .dataframe thead th {\n",
       "        text-align: right;\n",
       "    }\n",
       "</style>\n",
       "<table border=\"1\" class=\"dataframe\">\n",
       "  <thead>\n",
       "    <tr style=\"text-align: right;\">\n",
       "      <th></th>\n",
       "      <th>Company</th>\n",
       "      <th>Industry</th>\n",
       "      <th>Country</th>\n",
       "      <th>Market Value</th>\n",
       "      <th>Revenue</th>\n",
       "      <th>Profits</th>\n",
       "      <th>Assets</th>\n",
       "      <th>Rank</th>\n",
       "    </tr>\n",
       "  </thead>\n",
       "  <tbody>\n",
       "    <tr>\n",
       "      <th>0</th>\n",
       "      <td>JPMorgan Chase</td>\n",
       "      <td>Major Banks</td>\n",
       "      <td>United States</td>\n",
       "      <td>182.2</td>\n",
       "      <td>115.5</td>\n",
       "      <td>17.4</td>\n",
       "      <td>2117.6</td>\n",
       "      <td>1</td>\n",
       "    </tr>\n",
       "    <tr>\n",
       "      <th>1</th>\n",
       "      <td>HSBC Holdings</td>\n",
       "      <td>Major Banks</td>\n",
       "      <td>United Kingdom</td>\n",
       "      <td>186.5</td>\n",
       "      <td>103.3</td>\n",
       "      <td>13.3</td>\n",
       "      <td>2467.9</td>\n",
       "      <td>2</td>\n",
       "    </tr>\n",
       "    <tr>\n",
       "      <th>2</th>\n",
       "      <td>General Electric</td>\n",
       "      <td>Conglomerates</td>\n",
       "      <td>United States</td>\n",
       "      <td>216.2</td>\n",
       "      <td>150.2</td>\n",
       "      <td>11.6</td>\n",
       "      <td>751.2</td>\n",
       "      <td>3</td>\n",
       "    </tr>\n",
       "    <tr>\n",
       "      <th>3</th>\n",
       "      <td>ExxonMobil</td>\n",
       "      <td>Oil &amp; Gas Operations</td>\n",
       "      <td>United States</td>\n",
       "      <td>407.2</td>\n",
       "      <td>341.6</td>\n",
       "      <td>30.5</td>\n",
       "      <td>302.5</td>\n",
       "      <td>4</td>\n",
       "    </tr>\n",
       "    <tr>\n",
       "      <th>4</th>\n",
       "      <td>Royal Dutch Shell</td>\n",
       "      <td>Oil &amp; Gas Operations</td>\n",
       "      <td>Netherlands</td>\n",
       "      <td>212.9</td>\n",
       "      <td>369.1</td>\n",
       "      <td>20.1</td>\n",
       "      <td>317.2</td>\n",
       "      <td>5</td>\n",
       "    </tr>\n",
       "  </tbody>\n",
       "</table>\n",
       "</div>"
      ],
      "text/plain": [
       "             Company              Industry         Country  Market Value  \\\n",
       "0     JPMorgan Chase           Major Banks   United States         182.2   \n",
       "1      HSBC Holdings           Major Banks  United Kingdom         186.5   \n",
       "2   General Electric         Conglomerates   United States         216.2   \n",
       "3         ExxonMobil  Oil & Gas Operations   United States         407.2   \n",
       "4  Royal Dutch Shell  Oil & Gas Operations     Netherlands         212.9   \n",
       "\n",
       "   Revenue  Profits  Assets  Rank  \n",
       "0    115.5     17.4  2117.6     1  \n",
       "1    103.3     13.3  2467.9     2  \n",
       "2    150.2     11.6   751.2     3  \n",
       "3    341.6     30.5   302.5     4  \n",
       "4    369.1     20.1   317.2     5  "
      ]
     },
     "execution_count": 79,
     "metadata": {},
     "output_type": "execute_result"
    }
   ],
   "source": [
    "forbes2011.head()"
   ]
  },
  {
   "cell_type": "code",
   "execution_count": 80,
   "id": "scientific-forestry",
   "metadata": {},
   "outputs": [
    {
     "data": {
      "text/html": [
       "<div>\n",
       "<style scoped>\n",
       "    .dataframe tbody tr th:only-of-type {\n",
       "        vertical-align: middle;\n",
       "    }\n",
       "\n",
       "    .dataframe tbody tr th {\n",
       "        vertical-align: top;\n",
       "    }\n",
       "\n",
       "    .dataframe thead th {\n",
       "        text-align: right;\n",
       "    }\n",
       "</style>\n",
       "<table border=\"1\" class=\"dataframe\">\n",
       "  <thead>\n",
       "    <tr style=\"text-align: right;\">\n",
       "      <th></th>\n",
       "      <th>Company</th>\n",
       "      <th>Industry</th>\n",
       "      <th>Country</th>\n",
       "      <th>Market Value</th>\n",
       "      <th>Sales</th>\n",
       "      <th>Profits</th>\n",
       "      <th>Assets</th>\n",
       "      <th>Rank</th>\n",
       "      <th>Profits as % of Assets</th>\n",
       "      <th>Profits as % of Sales</th>\n",
       "    </tr>\n",
       "  </thead>\n",
       "  <tbody>\n",
       "    <tr>\n",
       "      <th>0</th>\n",
       "      <td>JPMorgan Chase</td>\n",
       "      <td>Banking</td>\n",
       "      <td>United States</td>\n",
       "      <td>166.19</td>\n",
       "      <td>115.63</td>\n",
       "      <td>11.65</td>\n",
       "      <td>2031.99</td>\n",
       "      <td>1</td>\n",
       "      <td>0.005733</td>\n",
       "      <td>0.100752399896221</td>\n",
       "    </tr>\n",
       "    <tr>\n",
       "      <th>1</th>\n",
       "      <td>General Electric</td>\n",
       "      <td>Conglomerates</td>\n",
       "      <td>United States</td>\n",
       "      <td>169.65</td>\n",
       "      <td>156.78</td>\n",
       "      <td>11.03</td>\n",
       "      <td>781.82</td>\n",
       "      <td>2</td>\n",
       "      <td>0.014108</td>\n",
       "      <td>0.0703533613981375</td>\n",
       "    </tr>\n",
       "    <tr>\n",
       "      <th>2</th>\n",
       "      <td>Bank of America</td>\n",
       "      <td>Banking</td>\n",
       "      <td>United States</td>\n",
       "      <td>167.63</td>\n",
       "      <td>150.45</td>\n",
       "      <td>6.28</td>\n",
       "      <td>2223.30</td>\n",
       "      <td>3</td>\n",
       "      <td>0.002825</td>\n",
       "      <td>0.0417414423396477</td>\n",
       "    </tr>\n",
       "    <tr>\n",
       "      <th>3</th>\n",
       "      <td>ExxonMobil</td>\n",
       "      <td>Oil &amp; Gas Operations</td>\n",
       "      <td>United States</td>\n",
       "      <td>308.77</td>\n",
       "      <td>275.56</td>\n",
       "      <td>19.28</td>\n",
       "      <td>233.32</td>\n",
       "      <td>4</td>\n",
       "      <td>0.082633</td>\n",
       "      <td>0.0699666134417187</td>\n",
       "    </tr>\n",
       "    <tr>\n",
       "      <th>4</th>\n",
       "      <td>ICBC</td>\n",
       "      <td>Banking</td>\n",
       "      <td>China</td>\n",
       "      <td>242.23</td>\n",
       "      <td>71.86</td>\n",
       "      <td>16.27</td>\n",
       "      <td>1428.46</td>\n",
       "      <td>5</td>\n",
       "      <td>0.011390</td>\n",
       "      <td>0.226412468689118</td>\n",
       "    </tr>\n",
       "  </tbody>\n",
       "</table>\n",
       "</div>"
      ],
      "text/plain": [
       "            Company              Industry        Country  Market Value  \\\n",
       "0    JPMorgan Chase               Banking  United States        166.19   \n",
       "1  General Electric         Conglomerates  United States        169.65   \n",
       "2   Bank of America               Banking  United States        167.63   \n",
       "3        ExxonMobil  Oil & Gas Operations  United States        308.77   \n",
       "4              ICBC               Banking          China        242.23   \n",
       "\n",
       "    Sales  Profits   Assets  Rank  Profits as % of Assets  \\\n",
       "0  115.63    11.65  2031.99     1                0.005733   \n",
       "1  156.78    11.03   781.82     2                0.014108   \n",
       "2  150.45     6.28  2223.30     3                0.002825   \n",
       "3  275.56    19.28   233.32     4                0.082633   \n",
       "4   71.86    16.27  1428.46     5                0.011390   \n",
       "\n",
       "  Profits as % of Sales  \n",
       "0     0.100752399896221  \n",
       "1    0.0703533613981375  \n",
       "2    0.0417414423396477  \n",
       "3    0.0699666134417187  \n",
       "4     0.226412468689118  "
      ]
     },
     "execution_count": 80,
     "metadata": {},
     "output_type": "execute_result"
    }
   ],
   "source": [
    "forbes2010.head()"
   ]
  },
  {
   "cell_type": "code",
   "execution_count": 110,
   "id": "silent-nightmare",
   "metadata": {},
   "outputs": [],
   "source": [
    "forbes2010.drop([\"Profits as % of Assets\",\"Profits as % of Sales\"],axis=1,inplace=True)\n",
    "forbes2010.rename({\"Sales\":\"Revenue\"},axis=1,inplace=True)"
   ]
  },
  {
   "cell_type": "code",
   "execution_count": 83,
   "id": "illegal-ladder",
   "metadata": {},
   "outputs": [
    {
     "data": {
      "text/html": [
       "<div>\n",
       "<style scoped>\n",
       "    .dataframe tbody tr th:only-of-type {\n",
       "        vertical-align: middle;\n",
       "    }\n",
       "\n",
       "    .dataframe tbody tr th {\n",
       "        vertical-align: top;\n",
       "    }\n",
       "\n",
       "    .dataframe thead th {\n",
       "        text-align: right;\n",
       "    }\n",
       "</style>\n",
       "<table border=\"1\" class=\"dataframe\">\n",
       "  <thead>\n",
       "    <tr style=\"text-align: right;\">\n",
       "      <th></th>\n",
       "      <th>Company</th>\n",
       "      <th>Industry</th>\n",
       "      <th>Country</th>\n",
       "      <th>Market Value</th>\n",
       "      <th>Revenue</th>\n",
       "      <th>Profits</th>\n",
       "      <th>Assets</th>\n",
       "      <th>Rank</th>\n",
       "    </tr>\n",
       "  </thead>\n",
       "  <tbody>\n",
       "    <tr>\n",
       "      <th>0</th>\n",
       "      <td>JPMorgan Chase</td>\n",
       "      <td>Banking</td>\n",
       "      <td>United States</td>\n",
       "      <td>166.19</td>\n",
       "      <td>115.63</td>\n",
       "      <td>11.65</td>\n",
       "      <td>2031.99</td>\n",
       "      <td>1</td>\n",
       "    </tr>\n",
       "    <tr>\n",
       "      <th>1</th>\n",
       "      <td>General Electric</td>\n",
       "      <td>Conglomerates</td>\n",
       "      <td>United States</td>\n",
       "      <td>169.65</td>\n",
       "      <td>156.78</td>\n",
       "      <td>11.03</td>\n",
       "      <td>781.82</td>\n",
       "      <td>2</td>\n",
       "    </tr>\n",
       "    <tr>\n",
       "      <th>2</th>\n",
       "      <td>Bank of America</td>\n",
       "      <td>Banking</td>\n",
       "      <td>United States</td>\n",
       "      <td>167.63</td>\n",
       "      <td>150.45</td>\n",
       "      <td>6.28</td>\n",
       "      <td>2223.30</td>\n",
       "      <td>3</td>\n",
       "    </tr>\n",
       "    <tr>\n",
       "      <th>3</th>\n",
       "      <td>ExxonMobil</td>\n",
       "      <td>Oil &amp; Gas Operations</td>\n",
       "      <td>United States</td>\n",
       "      <td>308.77</td>\n",
       "      <td>275.56</td>\n",
       "      <td>19.28</td>\n",
       "      <td>233.32</td>\n",
       "      <td>4</td>\n",
       "    </tr>\n",
       "    <tr>\n",
       "      <th>4</th>\n",
       "      <td>ICBC</td>\n",
       "      <td>Banking</td>\n",
       "      <td>China</td>\n",
       "      <td>242.23</td>\n",
       "      <td>71.86</td>\n",
       "      <td>16.27</td>\n",
       "      <td>1428.46</td>\n",
       "      <td>5</td>\n",
       "    </tr>\n",
       "  </tbody>\n",
       "</table>\n",
       "</div>"
      ],
      "text/plain": [
       "            Company              Industry        Country  Market Value  \\\n",
       "0    JPMorgan Chase               Banking  United States        166.19   \n",
       "1  General Electric         Conglomerates  United States        169.65   \n",
       "2   Bank of America               Banking  United States        167.63   \n",
       "3        ExxonMobil  Oil & Gas Operations  United States        308.77   \n",
       "4              ICBC               Banking          China        242.23   \n",
       "\n",
       "   Revenue  Profits   Assets  Rank  \n",
       "0   115.63    11.65  2031.99     1  \n",
       "1   156.78    11.03   781.82     2  \n",
       "2   150.45     6.28  2223.30     3  \n",
       "3   275.56    19.28   233.32     4  \n",
       "4    71.86    16.27  1428.46     5  "
      ]
     },
     "execution_count": 83,
     "metadata": {},
     "output_type": "execute_result"
    }
   ],
   "source": [
    "forbes2010.head()"
   ]
  },
  {
   "cell_type": "code",
   "execution_count": 84,
   "id": "illegal-defensive",
   "metadata": {},
   "outputs": [
    {
     "data": {
      "text/html": [
       "<div>\n",
       "<style scoped>\n",
       "    .dataframe tbody tr th:only-of-type {\n",
       "        vertical-align: middle;\n",
       "    }\n",
       "\n",
       "    .dataframe tbody tr th {\n",
       "        vertical-align: top;\n",
       "    }\n",
       "\n",
       "    .dataframe thead th {\n",
       "        text-align: right;\n",
       "    }\n",
       "</style>\n",
       "<table border=\"1\" class=\"dataframe\">\n",
       "  <thead>\n",
       "    <tr style=\"text-align: right;\">\n",
       "      <th></th>\n",
       "      <th>Company</th>\n",
       "      <th>Industry</th>\n",
       "      <th>Country</th>\n",
       "      <th>Market Value</th>\n",
       "      <th>Profits</th>\n",
       "      <th>Assets</th>\n",
       "      <th>Sales</th>\n",
       "      <th>Rank</th>\n",
       "      <th>Profits as % of Assets</th>\n",
       "      <th>Profits as % of Sales</th>\n",
       "    </tr>\n",
       "  </thead>\n",
       "  <tbody>\n",
       "    <tr>\n",
       "      <th>0</th>\n",
       "      <td>General Electric</td>\n",
       "      <td>Conglomerates</td>\n",
       "      <td>United States</td>\n",
       "      <td>89.87</td>\n",
       "      <td>17.41</td>\n",
       "      <td>797.77</td>\n",
       "      <td>182.52</td>\n",
       "      <td>1</td>\n",
       "      <td>0.021823</td>\n",
       "      <td>0.095387</td>\n",
       "    </tr>\n",
       "    <tr>\n",
       "      <th>1</th>\n",
       "      <td>Royal Dutch Shell</td>\n",
       "      <td>Oil &amp; Gas Operations</td>\n",
       "      <td>Netherlands</td>\n",
       "      <td>135.10</td>\n",
       "      <td>26.28</td>\n",
       "      <td>278.44</td>\n",
       "      <td>458.36</td>\n",
       "      <td>2</td>\n",
       "      <td>0.094383</td>\n",
       "      <td>0.057335</td>\n",
       "    </tr>\n",
       "    <tr>\n",
       "      <th>2</th>\n",
       "      <td>Toyota Motor</td>\n",
       "      <td>Consumer Durables</td>\n",
       "      <td>Japan</td>\n",
       "      <td>102.35</td>\n",
       "      <td>17.21</td>\n",
       "      <td>324.98</td>\n",
       "      <td>263.42</td>\n",
       "      <td>3</td>\n",
       "      <td>0.052957</td>\n",
       "      <td>0.065333</td>\n",
       "    </tr>\n",
       "    <tr>\n",
       "      <th>3</th>\n",
       "      <td>ExxonMobil</td>\n",
       "      <td>Oil &amp; Gas Operations</td>\n",
       "      <td>United States</td>\n",
       "      <td>335.54</td>\n",
       "      <td>45.22</td>\n",
       "      <td>228.05</td>\n",
       "      <td>425.70</td>\n",
       "      <td>4</td>\n",
       "      <td>0.198290</td>\n",
       "      <td>0.106225</td>\n",
       "    </tr>\n",
       "    <tr>\n",
       "      <th>4</th>\n",
       "      <td>BP</td>\n",
       "      <td>Oil &amp; Gas Operations</td>\n",
       "      <td>United Kingdom</td>\n",
       "      <td>119.70</td>\n",
       "      <td>21.16</td>\n",
       "      <td>228.24</td>\n",
       "      <td>361.14</td>\n",
       "      <td>5</td>\n",
       "      <td>0.092709</td>\n",
       "      <td>0.058592</td>\n",
       "    </tr>\n",
       "  </tbody>\n",
       "</table>\n",
       "</div>"
      ],
      "text/plain": [
       "             Company              Industry         Country  Market Value  \\\n",
       "0   General Electric         Conglomerates   United States         89.87   \n",
       "1  Royal Dutch Shell  Oil & Gas Operations     Netherlands        135.10   \n",
       "2       Toyota Motor     Consumer Durables           Japan        102.35   \n",
       "3         ExxonMobil  Oil & Gas Operations   United States        335.54   \n",
       "4                 BP  Oil & Gas Operations  United Kingdom        119.70   \n",
       "\n",
       "   Profits  Assets   Sales  Rank  Profits as % of Assets  \\\n",
       "0    17.41  797.77  182.52     1                0.021823   \n",
       "1    26.28  278.44  458.36     2                0.094383   \n",
       "2    17.21  324.98  263.42     3                0.052957   \n",
       "3    45.22  228.05  425.70     4                0.198290   \n",
       "4    21.16  228.24  361.14     5                0.092709   \n",
       "\n",
       "   Profits as % of Sales  \n",
       "0               0.095387  \n",
       "1               0.057335  \n",
       "2               0.065333  \n",
       "3               0.106225  \n",
       "4               0.058592  "
      ]
     },
     "execution_count": 84,
     "metadata": {},
     "output_type": "execute_result"
    }
   ],
   "source": [
    "forbes2009.head()"
   ]
  },
  {
   "cell_type": "code",
   "execution_count": 111,
   "id": "backed-harris",
   "metadata": {},
   "outputs": [],
   "source": [
    "forbes2009.drop([\"Profits as % of Assets\",\"Profits as % of Sales\"],axis=1,inplace=True)\n",
    "forbes2009.rename({\"Sales\":\"Revenue\"},axis=1,inplace=True)"
   ]
  },
  {
   "cell_type": "code",
   "execution_count": 86,
   "id": "given-speaking",
   "metadata": {},
   "outputs": [
    {
     "data": {
      "text/html": [
       "<div>\n",
       "<style scoped>\n",
       "    .dataframe tbody tr th:only-of-type {\n",
       "        vertical-align: middle;\n",
       "    }\n",
       "\n",
       "    .dataframe tbody tr th {\n",
       "        vertical-align: top;\n",
       "    }\n",
       "\n",
       "    .dataframe thead th {\n",
       "        text-align: right;\n",
       "    }\n",
       "</style>\n",
       "<table border=\"1\" class=\"dataframe\">\n",
       "  <thead>\n",
       "    <tr style=\"text-align: right;\">\n",
       "      <th></th>\n",
       "      <th>Company</th>\n",
       "      <th>Industry</th>\n",
       "      <th>Country</th>\n",
       "      <th>Market Value</th>\n",
       "      <th>Profits</th>\n",
       "      <th>Assets</th>\n",
       "      <th>Revenue</th>\n",
       "      <th>Rank</th>\n",
       "    </tr>\n",
       "  </thead>\n",
       "  <tbody>\n",
       "    <tr>\n",
       "      <th>0</th>\n",
       "      <td>General Electric</td>\n",
       "      <td>Conglomerates</td>\n",
       "      <td>United States</td>\n",
       "      <td>89.87</td>\n",
       "      <td>17.41</td>\n",
       "      <td>797.77</td>\n",
       "      <td>182.52</td>\n",
       "      <td>1</td>\n",
       "    </tr>\n",
       "    <tr>\n",
       "      <th>1</th>\n",
       "      <td>Royal Dutch Shell</td>\n",
       "      <td>Oil &amp; Gas Operations</td>\n",
       "      <td>Netherlands</td>\n",
       "      <td>135.10</td>\n",
       "      <td>26.28</td>\n",
       "      <td>278.44</td>\n",
       "      <td>458.36</td>\n",
       "      <td>2</td>\n",
       "    </tr>\n",
       "    <tr>\n",
       "      <th>2</th>\n",
       "      <td>Toyota Motor</td>\n",
       "      <td>Consumer Durables</td>\n",
       "      <td>Japan</td>\n",
       "      <td>102.35</td>\n",
       "      <td>17.21</td>\n",
       "      <td>324.98</td>\n",
       "      <td>263.42</td>\n",
       "      <td>3</td>\n",
       "    </tr>\n",
       "    <tr>\n",
       "      <th>3</th>\n",
       "      <td>ExxonMobil</td>\n",
       "      <td>Oil &amp; Gas Operations</td>\n",
       "      <td>United States</td>\n",
       "      <td>335.54</td>\n",
       "      <td>45.22</td>\n",
       "      <td>228.05</td>\n",
       "      <td>425.70</td>\n",
       "      <td>4</td>\n",
       "    </tr>\n",
       "    <tr>\n",
       "      <th>4</th>\n",
       "      <td>BP</td>\n",
       "      <td>Oil &amp; Gas Operations</td>\n",
       "      <td>United Kingdom</td>\n",
       "      <td>119.70</td>\n",
       "      <td>21.16</td>\n",
       "      <td>228.24</td>\n",
       "      <td>361.14</td>\n",
       "      <td>5</td>\n",
       "    </tr>\n",
       "  </tbody>\n",
       "</table>\n",
       "</div>"
      ],
      "text/plain": [
       "             Company              Industry         Country  Market Value  \\\n",
       "0   General Electric         Conglomerates   United States         89.87   \n",
       "1  Royal Dutch Shell  Oil & Gas Operations     Netherlands        135.10   \n",
       "2       Toyota Motor     Consumer Durables           Japan        102.35   \n",
       "3         ExxonMobil  Oil & Gas Operations   United States        335.54   \n",
       "4                 BP  Oil & Gas Operations  United Kingdom        119.70   \n",
       "\n",
       "   Profits  Assets  Revenue  Rank  \n",
       "0    17.41  797.77   182.52     1  \n",
       "1    26.28  278.44   458.36     2  \n",
       "2    17.21  324.98   263.42     3  \n",
       "3    45.22  228.05   425.70     4  \n",
       "4    21.16  228.24   361.14     5  "
      ]
     },
     "execution_count": 86,
     "metadata": {},
     "output_type": "execute_result"
    }
   ],
   "source": [
    "forbes2009.head()"
   ]
  },
  {
   "cell_type": "code",
   "execution_count": 87,
   "id": "magnetic-apache",
   "metadata": {},
   "outputs": [
    {
     "data": {
      "text/html": [
       "<div>\n",
       "<style scoped>\n",
       "    .dataframe tbody tr th:only-of-type {\n",
       "        vertical-align: middle;\n",
       "    }\n",
       "\n",
       "    .dataframe tbody tr th {\n",
       "        vertical-align: top;\n",
       "    }\n",
       "\n",
       "    .dataframe thead th {\n",
       "        text-align: right;\n",
       "    }\n",
       "</style>\n",
       "<table border=\"1\" class=\"dataframe\">\n",
       "  <thead>\n",
       "    <tr style=\"text-align: right;\">\n",
       "      <th></th>\n",
       "      <th>Company</th>\n",
       "      <th>Industry</th>\n",
       "      <th>Country</th>\n",
       "      <th>Market Value ($bil)</th>\n",
       "      <th>Profits ($bil)</th>\n",
       "      <th>Assets ($bil)</th>\n",
       "      <th>Sales ($bil)</th>\n",
       "      <th>Rank</th>\n",
       "    </tr>\n",
       "  </thead>\n",
       "  <tbody>\n",
       "    <tr>\n",
       "      <th>0</th>\n",
       "      <td>HSBC Holdings</td>\n",
       "      <td>Banking</td>\n",
       "      <td>United Kingdom</td>\n",
       "      <td>180.81</td>\n",
       "      <td>19.13</td>\n",
       "      <td>2348.98</td>\n",
       "      <td>146.50</td>\n",
       "      <td>1</td>\n",
       "    </tr>\n",
       "    <tr>\n",
       "      <th>1</th>\n",
       "      <td>General Electric</td>\n",
       "      <td>Conglomerates</td>\n",
       "      <td>United States</td>\n",
       "      <td>330.93</td>\n",
       "      <td>22.21</td>\n",
       "      <td>795.34</td>\n",
       "      <td>172.74</td>\n",
       "      <td>2</td>\n",
       "    </tr>\n",
       "    <tr>\n",
       "      <th>2</th>\n",
       "      <td>Bank of America</td>\n",
       "      <td>Banking</td>\n",
       "      <td>United States</td>\n",
       "      <td>176.53</td>\n",
       "      <td>14.98</td>\n",
       "      <td>1715.75</td>\n",
       "      <td>119.19</td>\n",
       "      <td>3</td>\n",
       "    </tr>\n",
       "    <tr>\n",
       "      <th>3</th>\n",
       "      <td>JPMorgan Chase</td>\n",
       "      <td>Banking</td>\n",
       "      <td>United States</td>\n",
       "      <td>136.88</td>\n",
       "      <td>15.37</td>\n",
       "      <td>1562.15</td>\n",
       "      <td>116.35</td>\n",
       "      <td>4</td>\n",
       "    </tr>\n",
       "    <tr>\n",
       "      <th>4</th>\n",
       "      <td>ExxonMobil</td>\n",
       "      <td>Oil &amp; Gas Operations</td>\n",
       "      <td>United States</td>\n",
       "      <td>465.51</td>\n",
       "      <td>40.61</td>\n",
       "      <td>242.08</td>\n",
       "      <td>358.60</td>\n",
       "      <td>5</td>\n",
       "    </tr>\n",
       "  </tbody>\n",
       "</table>\n",
       "</div>"
      ],
      "text/plain": [
       "            Company              Industry         Country  \\\n",
       "0     HSBC Holdings               Banking  United Kingdom   \n",
       "1  General Electric         Conglomerates   United States   \n",
       "2   Bank of America               Banking   United States   \n",
       "3    JPMorgan Chase               Banking   United States   \n",
       "4        ExxonMobil  Oil & Gas Operations   United States   \n",
       "\n",
       "   Market Value ($bil)  Profits ($bil)  Assets ($bil)  Sales ($bil)  Rank  \n",
       "0               180.81           19.13        2348.98        146.50     1  \n",
       "1               330.93           22.21         795.34        172.74     2  \n",
       "2               176.53           14.98        1715.75        119.19     3  \n",
       "3               136.88           15.37        1562.15        116.35     4  \n",
       "4               465.51           40.61         242.08        358.60     5  "
      ]
     },
     "execution_count": 87,
     "metadata": {},
     "output_type": "execute_result"
    }
   ],
   "source": [
    "forbes2008.head()"
   ]
  },
  {
   "cell_type": "code",
   "execution_count": 112,
   "id": "under-restriction",
   "metadata": {},
   "outputs": [],
   "source": [
    "forbes2008.rename({\"Sales ($bil)\":\"Revenue\",\"Market Value ($bil)\":\"Market Value\",\"Assets ($bil)\":\"Assets\",\"Profits ($bil)\":\"Profits\"},axis=1,inplace=True)"
   ]
  },
  {
   "cell_type": "code",
   "execution_count": 89,
   "id": "beneficial-boundary",
   "metadata": {},
   "outputs": [
    {
     "data": {
      "text/html": [
       "<div>\n",
       "<style scoped>\n",
       "    .dataframe tbody tr th:only-of-type {\n",
       "        vertical-align: middle;\n",
       "    }\n",
       "\n",
       "    .dataframe tbody tr th {\n",
       "        vertical-align: top;\n",
       "    }\n",
       "\n",
       "    .dataframe thead th {\n",
       "        text-align: right;\n",
       "    }\n",
       "</style>\n",
       "<table border=\"1\" class=\"dataframe\">\n",
       "  <thead>\n",
       "    <tr style=\"text-align: right;\">\n",
       "      <th></th>\n",
       "      <th>Company</th>\n",
       "      <th>Industry</th>\n",
       "      <th>Country</th>\n",
       "      <th>Market Value</th>\n",
       "      <th>Profits</th>\n",
       "      <th>Assets</th>\n",
       "      <th>Revenue</th>\n",
       "      <th>Rank</th>\n",
       "    </tr>\n",
       "  </thead>\n",
       "  <tbody>\n",
       "    <tr>\n",
       "      <th>0</th>\n",
       "      <td>HSBC Holdings</td>\n",
       "      <td>Banking</td>\n",
       "      <td>United Kingdom</td>\n",
       "      <td>180.81</td>\n",
       "      <td>19.13</td>\n",
       "      <td>2348.98</td>\n",
       "      <td>146.50</td>\n",
       "      <td>1</td>\n",
       "    </tr>\n",
       "    <tr>\n",
       "      <th>1</th>\n",
       "      <td>General Electric</td>\n",
       "      <td>Conglomerates</td>\n",
       "      <td>United States</td>\n",
       "      <td>330.93</td>\n",
       "      <td>22.21</td>\n",
       "      <td>795.34</td>\n",
       "      <td>172.74</td>\n",
       "      <td>2</td>\n",
       "    </tr>\n",
       "    <tr>\n",
       "      <th>2</th>\n",
       "      <td>Bank of America</td>\n",
       "      <td>Banking</td>\n",
       "      <td>United States</td>\n",
       "      <td>176.53</td>\n",
       "      <td>14.98</td>\n",
       "      <td>1715.75</td>\n",
       "      <td>119.19</td>\n",
       "      <td>3</td>\n",
       "    </tr>\n",
       "    <tr>\n",
       "      <th>3</th>\n",
       "      <td>JPMorgan Chase</td>\n",
       "      <td>Banking</td>\n",
       "      <td>United States</td>\n",
       "      <td>136.88</td>\n",
       "      <td>15.37</td>\n",
       "      <td>1562.15</td>\n",
       "      <td>116.35</td>\n",
       "      <td>4</td>\n",
       "    </tr>\n",
       "    <tr>\n",
       "      <th>4</th>\n",
       "      <td>ExxonMobil</td>\n",
       "      <td>Oil &amp; Gas Operations</td>\n",
       "      <td>United States</td>\n",
       "      <td>465.51</td>\n",
       "      <td>40.61</td>\n",
       "      <td>242.08</td>\n",
       "      <td>358.60</td>\n",
       "      <td>5</td>\n",
       "    </tr>\n",
       "  </tbody>\n",
       "</table>\n",
       "</div>"
      ],
      "text/plain": [
       "            Company              Industry         Country  Market Value  \\\n",
       "0     HSBC Holdings               Banking  United Kingdom        180.81   \n",
       "1  General Electric         Conglomerates   United States        330.93   \n",
       "2   Bank of America               Banking   United States        176.53   \n",
       "3    JPMorgan Chase               Banking   United States        136.88   \n",
       "4        ExxonMobil  Oil & Gas Operations   United States        465.51   \n",
       "\n",
       "   Profits   Assets  Revenue  Rank  \n",
       "0    19.13  2348.98   146.50     1  \n",
       "1    22.21   795.34   172.74     2  \n",
       "2    14.98  1715.75   119.19     3  \n",
       "3    15.37  1562.15   116.35     4  \n",
       "4    40.61   242.08   358.60     5  "
      ]
     },
     "execution_count": 89,
     "metadata": {},
     "output_type": "execute_result"
    }
   ],
   "source": [
    "forbes2008.head()"
   ]
  },
  {
   "cell_type": "markdown",
   "id": "federal-operation",
   "metadata": {},
   "source": [
    "# Mark2"
   ]
  },
  {
   "cell_type": "code",
   "execution_count": 93,
   "id": "cosmetic-vampire",
   "metadata": {},
   "outputs": [
    {
     "name": "stdout",
     "output_type": "stream",
     "text": [
      "<class 'pandas.core.frame.DataFrame'>\n",
      "RangeIndex: 2000 entries, 0 to 1999\n",
      "Data columns (total 9 columns):\n",
      " #   Column             Non-Null Count  Dtype \n",
      "---  ------             --------------  ----- \n",
      " 0   Rank               2000 non-null   int64 \n",
      " 1   Company            2000 non-null   object\n",
      " 2   Country/Territory  2000 non-null   object\n",
      " 3   Sales              2000 non-null   object\n",
      " 4   Profits            2000 non-null   object\n",
      " 5   Assets             2000 non-null   object\n",
      " 6   Market Value       2000 non-null   object\n",
      " 7   Sector             1766 non-null   object\n",
      " 8   Industry           1767 non-null   object\n",
      "dtypes: int64(1), object(8)\n",
      "memory usage: 140.8+ KB\n"
     ]
    }
   ],
   "source": [
    "forbes2020.info()"
   ]
  },
  {
   "cell_type": "code",
   "execution_count": 95,
   "id": "indie-collective",
   "metadata": {},
   "outputs": [
    {
     "name": "stdout",
     "output_type": "stream",
     "text": [
      "<class 'pandas.core.frame.DataFrame'>\n",
      "RangeIndex: 2000 entries, 0 to 1999\n",
      "Data columns (total 16 columns):\n",
      " #   Column                   Non-Null Count  Dtype  \n",
      "---  ------                   --------------  -----  \n",
      " 0   Company                  2000 non-null   object \n",
      " 1   Market Value             2000 non-null   float64\n",
      " 2   Revenue                  1998 non-null   float64\n",
      " 3   Profits                  1999 non-null   float64\n",
      " 4   Assets                   1995 non-null   float64\n",
      " 5   Rank                     2000 non-null   int64  \n",
      " 6   Sector                   1951 non-null   object \n",
      " 7   Industry                 1954 non-null   object \n",
      " 8   Continent                1998 non-null   object \n",
      " 9   Country                  2000 non-null   object \n",
      " 10  Headquarters             2000 non-null   object \n",
      " 11  State                    575 non-null    object \n",
      " 12  CEO                      1994 non-null   object \n",
      " 13  Forbes Webpage           2000 non-null   object \n",
      " 14  Profits as % of Assets   1994 non-null   float64\n",
      " 15  Profits as % of Revenue  1997 non-null   float64\n",
      "dtypes: float64(6), int64(1), object(9)\n",
      "memory usage: 250.1+ KB\n"
     ]
    }
   ],
   "source": [
    "forbes2019.info()"
   ]
  },
  {
   "cell_type": "code",
   "execution_count": 97,
   "id": "processed-jordan",
   "metadata": {},
   "outputs": [
    {
     "name": "stdout",
     "output_type": "stream",
     "text": [
      "<class 'pandas.core.frame.DataFrame'>\n",
      "RangeIndex: 2000 entries, 0 to 1999\n",
      "Data columns (total 16 columns):\n",
      " #   Column                   Non-Null Count  Dtype  \n",
      "---  ------                   --------------  -----  \n",
      " 0   Company                  2000 non-null   object \n",
      " 1   Market Value             1993 non-null   float64\n",
      " 2   Revenue                  1997 non-null   float64\n",
      " 3   Profits                  1998 non-null   float64\n",
      " 4   Assets                   1994 non-null   float64\n",
      " 5   Rank                     1998 non-null   float64\n",
      " 6   Sector                   1966 non-null   object \n",
      " 7   Industry                 1969 non-null   object \n",
      " 8   Continent                1996 non-null   object \n",
      " 9   Country                  1998 non-null   object \n",
      " 10  Headquarters             1998 non-null   object \n",
      " 11  State                    558 non-null    object \n",
      " 12  CEO                      1992 non-null   object \n",
      " 13  Forbes Webpage           1998 non-null   object \n",
      " 14  Profits as % of Assets   1994 non-null   float64\n",
      " 15  Profits as % of Revenue  1997 non-null   float64\n",
      "dtypes: float64(7), object(9)\n",
      "memory usage: 250.1+ KB\n"
     ]
    }
   ],
   "source": [
    "forbes2018.info()"
   ]
  },
  {
   "cell_type": "code",
   "execution_count": 99,
   "id": "internal-healthcare",
   "metadata": {},
   "outputs": [
    {
     "name": "stdout",
     "output_type": "stream",
     "text": [
      "<class 'pandas.core.frame.DataFrame'>\n",
      "RangeIndex: 2000 entries, 0 to 1999\n",
      "Data columns (total 16 columns):\n",
      " #   Column                   Non-Null Count  Dtype  \n",
      "---  ------                   --------------  -----  \n",
      " 0   Company                  2000 non-null   object \n",
      " 1   Market Value             1999 non-null   float64\n",
      " 2   Revenue                  1998 non-null   float64\n",
      " 3   Profits                  2000 non-null   float64\n",
      " 4   Assets                   1999 non-null   float64\n",
      " 5   Rank                     2000 non-null   int64  \n",
      " 6   Sector                   1992 non-null   object \n",
      " 7   Industry                 1998 non-null   object \n",
      " 8   Continent                1999 non-null   object \n",
      " 9   Country                  2000 non-null   object \n",
      " 10  Headquarters             2000 non-null   object \n",
      " 11  State                    564 non-null    object \n",
      " 12  CEO                      1985 non-null   object \n",
      " 13  Forbes Webpage           2000 non-null   object \n",
      " 14  Profits as % of Assets   1999 non-null   float64\n",
      " 15  Profits as % of Revenue  1998 non-null   float64\n",
      "dtypes: float64(6), int64(1), object(9)\n",
      "memory usage: 250.1+ KB\n"
     ]
    }
   ],
   "source": [
    "forbes2017.info()"
   ]
  },
  {
   "cell_type": "code",
   "execution_count": 100,
   "id": "adolescent-knock",
   "metadata": {},
   "outputs": [
    {
     "name": "stdout",
     "output_type": "stream",
     "text": [
      "<class 'pandas.core.frame.DataFrame'>\n",
      "RangeIndex: 2001 entries, 0 to 2000\n",
      "Data columns (total 16 columns):\n",
      " #   Column                   Non-Null Count  Dtype  \n",
      "---  ------                   --------------  -----  \n",
      " 0   Company                  2001 non-null   object \n",
      " 1   Market Value             2000 non-null   float64\n",
      " 2   Revenue                  1997 non-null   float64\n",
      " 3   Profits                  2001 non-null   float64\n",
      " 4   Assets                   2000 non-null   float64\n",
      " 5   Rank                     2001 non-null   int64  \n",
      " 6   Sector                   1927 non-null   object \n",
      " 7   Industry                 1929 non-null   object \n",
      " 8   Continent                1999 non-null   object \n",
      " 9   Country                  2001 non-null   object \n",
      " 10  Headquarters             1985 non-null   object \n",
      " 11  State                    570 non-null    object \n",
      " 12  CEO                      1998 non-null   object \n",
      " 13  Forbes Webpage           2001 non-null   object \n",
      " 14  Profits as % of Assets   2000 non-null   float64\n",
      " 15  Profits as % of Revenue  1997 non-null   float64\n",
      "dtypes: float64(6), int64(1), object(9)\n",
      "memory usage: 250.2+ KB\n"
     ]
    }
   ],
   "source": [
    "forbes2016.info()"
   ]
  },
  {
   "cell_type": "code",
   "execution_count": 118,
   "id": "identical-count",
   "metadata": {},
   "outputs": [],
   "source": [
    "data_Total=pd.concat([forbes2008,forbes2009,forbes2010,forbes2011,forbes2012,forbes2013,forbes2014,forbes2015,forbes2016,forbes2017,forbes2018,forbes2019,forbes2020])"
   ]
  },
  {
   "cell_type": "code",
   "execution_count": 119,
   "id": "lucky-passage",
   "metadata": {},
   "outputs": [],
   "source": [
    "data_Total=data_Total[[\"Company\",\"Market Value\",\"Revenue\",\"Profits\",\"Assets\",\"Rank\",\"Industry\",\"Country\",\"Year\"]]"
   ]
  },
  {
   "cell_type": "code",
   "execution_count": 153,
   "id": "elementary-satin",
   "metadata": {},
   "outputs": [
    {
     "name": "stdout",
     "output_type": "stream",
     "text": [
      "<class 'pandas.core.frame.DataFrame'>\n",
      "Int64Index: 26002 entries, 0 to 1999\n",
      "Data columns (total 9 columns):\n",
      " #   Column        Non-Null Count  Dtype  \n",
      "---  ------        --------------  -----  \n",
      " 0   Company       26002 non-null  object \n",
      " 1   Market Value  25993 non-null  object \n",
      " 2   Revenue       23985 non-null  float64\n",
      " 3   Profits       25992 non-null  object \n",
      " 4   Assets        25988 non-null  object \n",
      " 5   Rank          26000 non-null  float64\n",
      " 6   Industry      25514 non-null  object \n",
      " 7   Country       26000 non-null  object \n",
      " 8   Year          26002 non-null  object \n",
      "dtypes: float64(2), object(7)\n",
      "memory usage: 2.0+ MB\n"
     ]
    }
   ],
   "source": [
    "data_Total.info()"
   ]
  },
  {
   "cell_type": "code",
   "execution_count": 176,
   "id": "rough-empty",
   "metadata": {},
   "outputs": [
    {
     "data": {
      "text/html": [
       "<div>\n",
       "<style scoped>\n",
       "    .dataframe tbody tr th:only-of-type {\n",
       "        vertical-align: middle;\n",
       "    }\n",
       "\n",
       "    .dataframe tbody tr th {\n",
       "        vertical-align: top;\n",
       "    }\n",
       "\n",
       "    .dataframe thead th {\n",
       "        text-align: right;\n",
       "    }\n",
       "</style>\n",
       "<table border=\"1\" class=\"dataframe\">\n",
       "  <thead>\n",
       "    <tr style=\"text-align: right;\">\n",
       "      <th></th>\n",
       "      <th>Company</th>\n",
       "      <th>Market Value</th>\n",
       "      <th>Revenue</th>\n",
       "      <th>Profits</th>\n",
       "      <th>Assets</th>\n",
       "      <th>Rank</th>\n",
       "      <th>Industry</th>\n",
       "      <th>Country</th>\n",
       "      <th>Year</th>\n",
       "    </tr>\n",
       "  </thead>\n",
       "  <tbody>\n",
       "    <tr>\n",
       "      <th>0</th>\n",
       "      <td>HSBC Holdings</td>\n",
       "      <td>180.81</td>\n",
       "      <td>146.50</td>\n",
       "      <td>19.13</td>\n",
       "      <td>2348.98</td>\n",
       "      <td>1.0</td>\n",
       "      <td>Banking</td>\n",
       "      <td>United Kingdom</td>\n",
       "      <td>2008</td>\n",
       "    </tr>\n",
       "    <tr>\n",
       "      <th>1</th>\n",
       "      <td>General Electric</td>\n",
       "      <td>330.93</td>\n",
       "      <td>172.74</td>\n",
       "      <td>22.21</td>\n",
       "      <td>795.34</td>\n",
       "      <td>2.0</td>\n",
       "      <td>Conglomerates</td>\n",
       "      <td>United States</td>\n",
       "      <td>2008</td>\n",
       "    </tr>\n",
       "    <tr>\n",
       "      <th>2</th>\n",
       "      <td>Bank of America</td>\n",
       "      <td>176.53</td>\n",
       "      <td>119.19</td>\n",
       "      <td>14.98</td>\n",
       "      <td>1715.75</td>\n",
       "      <td>3.0</td>\n",
       "      <td>Banking</td>\n",
       "      <td>United States</td>\n",
       "      <td>2008</td>\n",
       "    </tr>\n",
       "    <tr>\n",
       "      <th>3</th>\n",
       "      <td>JPMorgan Chase</td>\n",
       "      <td>136.88</td>\n",
       "      <td>116.35</td>\n",
       "      <td>15.37</td>\n",
       "      <td>1562.15</td>\n",
       "      <td>4.0</td>\n",
       "      <td>Banking</td>\n",
       "      <td>United States</td>\n",
       "      <td>2008</td>\n",
       "    </tr>\n",
       "    <tr>\n",
       "      <th>4</th>\n",
       "      <td>ExxonMobil</td>\n",
       "      <td>465.51</td>\n",
       "      <td>358.60</td>\n",
       "      <td>40.61</td>\n",
       "      <td>242.08</td>\n",
       "      <td>5.0</td>\n",
       "      <td>Oil &amp; Gas Operations</td>\n",
       "      <td>United States</td>\n",
       "      <td>2008</td>\n",
       "    </tr>\n",
       "  </tbody>\n",
       "</table>\n",
       "</div>"
      ],
      "text/plain": [
       "            Company Market Value  Revenue Profits   Assets  Rank  \\\n",
       "0     HSBC Holdings       180.81   146.50   19.13  2348.98   1.0   \n",
       "1  General Electric       330.93   172.74   22.21   795.34   2.0   \n",
       "2   Bank of America       176.53   119.19   14.98  1715.75   3.0   \n",
       "3    JPMorgan Chase       136.88   116.35   15.37  1562.15   4.0   \n",
       "4        ExxonMobil       465.51   358.60   40.61   242.08   5.0   \n",
       "\n",
       "               Industry         Country  Year  \n",
       "0               Banking  United Kingdom  2008  \n",
       "1         Conglomerates   United States  2008  \n",
       "2               Banking   United States  2008  \n",
       "3               Banking   United States  2008  \n",
       "4  Oil & Gas Operations   United States  2008  "
      ]
     },
     "execution_count": 176,
     "metadata": {},
     "output_type": "execute_result"
    }
   ],
   "source": [
    "data_Total.head()"
   ]
  },
  {
   "cell_type": "markdown",
   "id": "agricultural-swaziland",
   "metadata": {},
   "source": [
    "# USA VS CHINA"
   ]
  },
  {
   "cell_type": "code",
   "execution_count": 163,
   "id": "tribal-jewelry",
   "metadata": {},
   "outputs": [],
   "source": [
    "label=[2008,2009,2010,2011,2012,2013,2014,2015,2016,2017,2018,2019,2020]"
   ]
  },
  {
   "cell_type": "code",
   "execution_count": 164,
   "id": "eligible-arabic",
   "metadata": {},
   "outputs": [],
   "source": [
    "companyUSA_Count=list()"
   ]
  },
  {
   "cell_type": "code",
   "execution_count": 165,
   "id": "crude-senator",
   "metadata": {},
   "outputs": [],
   "source": [
    "for i in label:\n",
    "    companyUSA_Count.append(len(data_Total[(data_Total[\"Country\"]==\"United States\") & (data_Total[\"Year\"]==str(i))]))"
   ]
  },
  {
   "cell_type": "code",
   "execution_count": 166,
   "id": "arranged-rhythm",
   "metadata": {},
   "outputs": [
    {
     "data": {
      "text/plain": [
       "[598, 551, 536, 536, 524, 543, 563, 576, 586, 564, 556, 575, 587]"
      ]
     },
     "execution_count": 166,
     "metadata": {},
     "output_type": "execute_result"
    }
   ],
   "source": [
    "companyUSA_Count"
   ]
  },
  {
   "cell_type": "code",
   "execution_count": 167,
   "id": "placed-ranking",
   "metadata": {},
   "outputs": [],
   "source": [
    "companyChina_Count=list()"
   ]
  },
  {
   "cell_type": "code",
   "execution_count": 168,
   "id": "dependent-shooting",
   "metadata": {},
   "outputs": [],
   "source": [
    "for i in label:\n",
    "    companyChina_Count.append(len(data_Total[(data_Total[\"Country\"]==\"China\") & (data_Total[\"Year\"]==str(i))]))"
   ]
  },
  {
   "cell_type": "code",
   "execution_count": 169,
   "id": "martial-phenomenon",
   "metadata": {},
   "outputs": [
    {
     "data": {
      "text/plain": [
       "[70, 91, 113, 121, 136, 136, 149, 180, 200, 200, 233, 251, 266]"
      ]
     },
     "execution_count": 169,
     "metadata": {},
     "output_type": "execute_result"
    }
   ],
   "source": [
    "companyChina_Count"
   ]
  },
  {
   "cell_type": "code",
   "execution_count": 175,
   "id": "confidential-luxembourg",
   "metadata": {},
   "outputs": [
    {
     "data": {
      "text/plain": [
       "[<matplotlib.lines.Line2D at 0x21a002a74f0>]"
      ]
     },
     "execution_count": 175,
     "metadata": {},
     "output_type": "execute_result"
    },
    {
     "data": {
      "image/png": "[encoded data removed]",
      "text/plain": [
       "<Figure size 864x432 with 1 Axes>"
      ]
     },
     "metadata": {
      "needs_background": "light"
     },
     "output_type": "display_data"
    }
   ],
   "source": [
    "fig=plt.figure(figsize=(12,6))\n",
    "ax=fig.add_axes([0,0,1,1])\n",
    "ax.plot(label,companyChina_Count)\n",
    "ax.plot(label,companyUSA_Count)"
   ]
  },
  {
   "cell_type": "markdown",
   "id": "central-staff",
   "metadata": {},
   "source": [
    "Mỹ có sự sụt giảm trong forbes 2000 từ năm 2008-2012 là do ảnh hưởng của cuộc khủng hoảng kinh tế toàn cầu mà bắt nguồn từ việc khủng hoảng tài chính ở Mỹ. Các nhà nghiên cứu cho rằng có 2 nguyên nhân chính:\n",
    "    - Việc cho vay ở Mỹ vào thời điểm đó đã tạo ra nợ xấu vì cơ chế cho vay quá dễ dãi, khi những người vay không trả được nợ thì ngân hàng bị cạn vốn và hệ thống tín dụng rơi vào tình trạng đổ vỡ\n",
    "    - Nguyên nhân sâu xa nữa cần phải kể đến là sự dư thừa các dòng vốn không tìm được địa chỉ đầu tư có hiệu quả"
   ]
  },
  {
   "cell_type": "markdown",
   "id": "pharmaceutical-cradle",
   "metadata": {},
   "source": [
    "# TOP INDUSTRIES"
   ]
  },
  {
   "cell_type": "code",
   "execution_count": 1,
   "id": "national-vinyl",
   "metadata": {},
   "outputs": [
    {
     "ename": "NameError",
     "evalue": "name 'forbes2020' is not defined",
     "output_type": "error",
     "traceback": [
      "\u001b[1;31m---------------------------------------------------------------------------\u001b[0m",
      "\u001b[1;31mNameError\u001b[0m                                 Traceback (most recent call last)",
      "\u001b[1;32m<ipython-input-1-29a2478ba53c>\u001b[0m in \u001b[0;36m<module>\u001b[1;34m\u001b[0m\n\u001b[1;32m----> 1\u001b[1;33m \u001b[0mforbes2020\u001b[0m\u001b[1;33m[\u001b[0m\u001b[1;34m\"Sector\"\u001b[0m\u001b[1;33m]\u001b[0m\u001b[1;33m.\u001b[0m\u001b[0mfillna\u001b[0m\u001b[1;33m(\u001b[0m\u001b[1;34m\"Others\"\u001b[0m\u001b[1;33m,\u001b[0m\u001b[0minplace\u001b[0m\u001b[1;33m=\u001b[0m\u001b[1;32mTrue\u001b[0m\u001b[1;33m)\u001b[0m\u001b[1;33m\u001b[0m\u001b[1;33m\u001b[0m\u001b[0m\n\u001b[0m",
      "\u001b[1;31mNameError\u001b[0m: name 'forbes2020' is not defined"
     ]
    }
   ],
   "source": [
    "forbes2020[\"Sector\"].fillna(\"Others\",inplace=True)"
   ]
  },
  {
   "cell_type": "code",
   "execution_count": 2,
   "id": "junior-baghdad",
   "metadata": {},
   "outputs": [
    {
     "ename": "NameError",
     "evalue": "name 'forbes2020' is not defined",
     "output_type": "error",
     "traceback": [
      "\u001b[1;31m---------------------------------------------------------------------------\u001b[0m",
      "\u001b[1;31mNameError\u001b[0m                                 Traceback (most recent call last)",
      "\u001b[1;32m<ipython-input-2-30a04a6bb308>\u001b[0m in \u001b[0;36m<module>\u001b[1;34m\u001b[0m\n\u001b[1;32m----> 1\u001b[1;33m \u001b[0mforbes2020\u001b[0m\u001b[1;33m.\u001b[0m\u001b[0miloc\u001b[0m\u001b[1;33m[\u001b[0m\u001b[1;36m183\u001b[0m\u001b[1;33m]\u001b[0m\u001b[1;33m[\u001b[0m\u001b[1;34m\"Sector\"\u001b[0m\u001b[1;33m]\u001b[0m\u001b[1;33m=\u001b[0m\u001b[1;34m\"Others\"\u001b[0m\u001b[1;33m\u001b[0m\u001b[1;33m\u001b[0m\u001b[0m\n\u001b[0m\u001b[0;32m      2\u001b[0m \u001b[0mforbes2020\u001b[0m\u001b[1;33m.\u001b[0m\u001b[0miloc\u001b[0m\u001b[1;33m[\u001b[0m\u001b[1;36m1394\u001b[0m\u001b[1;33m]\u001b[0m\u001b[1;33m[\u001b[0m\u001b[1;34m\"Sector\"\u001b[0m\u001b[1;33m]\u001b[0m\u001b[1;33m=\u001b[0m\u001b[1;34m\"Others\"\u001b[0m\u001b[1;33m\u001b[0m\u001b[1;33m\u001b[0m\u001b[0m\n\u001b[0;32m      3\u001b[0m \u001b[0mforbes2020\u001b[0m\u001b[1;33m.\u001b[0m\u001b[0miloc\u001b[0m\u001b[1;33m[\u001b[0m\u001b[1;36m1522\u001b[0m\u001b[1;33m]\u001b[0m\u001b[1;33m[\u001b[0m\u001b[1;34m\"Sector\"\u001b[0m\u001b[1;33m]\u001b[0m\u001b[1;33m=\u001b[0m\u001b[1;34m\"Others\"\u001b[0m\u001b[1;33m\u001b[0m\u001b[1;33m\u001b[0m\u001b[0m\n\u001b[0;32m      4\u001b[0m \u001b[0mforbes2020\u001b[0m\u001b[1;33m.\u001b[0m\u001b[0miloc\u001b[0m\u001b[1;33m[\u001b[0m\u001b[1;36m1631\u001b[0m\u001b[1;33m]\u001b[0m\u001b[1;33m[\u001b[0m\u001b[1;34m\"Sector\"\u001b[0m\u001b[1;33m]\u001b[0m\u001b[1;33m=\u001b[0m\u001b[1;34m\"Others\"\u001b[0m\u001b[1;33m\u001b[0m\u001b[1;33m\u001b[0m\u001b[0m\n",
      "\u001b[1;31mNameError\u001b[0m: name 'forbes2020' is not defined"
     ]
    }
   ],
   "source": [
    "forbes2020.iloc[183][\"Sector\"]=\"Others\"\n",
    "forbes2020.iloc[1394][\"Sector\"]=\"Others\"\n",
    "forbes2020.iloc[1522][\"Sector\"]=\"Others\"\n",
    "forbes2020.iloc[1631][\"Sector\"]=\"Others\""
   ]
  },
  {
   "cell_type": "code",
   "execution_count": 297,
   "id": "joined-steering",
   "metadata": {},
   "outputs": [],
   "source": [
    "forbes2020[\"Sector\"].iloc[183]=\"Others\"\n",
    "forbes2020[\"Sector\"].iloc[1394]=\"Others\"\n",
    "forbes2020[\"Sector\"].iloc[1522]=\"Others\"\n",
    "forbes2020[\"Sector\"].iloc[1631]=\"Others\""
   ]
  },
  {
   "cell_type": "code",
   "execution_count": 306,
   "id": "billion-valuable",
   "metadata": {},
   "outputs": [],
   "source": [
    "bySector2020=forbes2020.groupby(by=\"Sector\").count()"
   ]
  },
  {
   "cell_type": "code",
   "execution_count": 307,
   "id": "differential-living",
   "metadata": {},
   "outputs": [
    {
     "data": {
      "text/html": [
       "<div>\n",
       "<style scoped>\n",
       "    .dataframe tbody tr th:only-of-type {\n",
       "        vertical-align: middle;\n",
       "    }\n",
       "\n",
       "    .dataframe tbody tr th {\n",
       "        vertical-align: top;\n",
       "    }\n",
       "\n",
       "    .dataframe thead th {\n",
       "        text-align: right;\n",
       "    }\n",
       "</style>\n",
       "<table border=\"1\" class=\"dataframe\">\n",
       "  <thead>\n",
       "    <tr style=\"text-align: right;\">\n",
       "      <th></th>\n",
       "      <th>Rank</th>\n",
       "      <th>Company</th>\n",
       "      <th>Country/Territory</th>\n",
       "      <th>Sales</th>\n",
       "      <th>Profits</th>\n",
       "      <th>Assets</th>\n",
       "      <th>Market Value</th>\n",
       "      <th>Industry</th>\n",
       "    </tr>\n",
       "    <tr>\n",
       "      <th>Sector</th>\n",
       "      <th></th>\n",
       "      <th></th>\n",
       "      <th></th>\n",
       "      <th></th>\n",
       "      <th></th>\n",
       "      <th></th>\n",
       "      <th></th>\n",
       "      <th></th>\n",
       "    </tr>\n",
       "  </thead>\n",
       "  <tbody>\n",
       "    <tr>\n",
       "      <th>Consumer Discretionary</th>\n",
       "      <td>240</td>\n",
       "      <td>240</td>\n",
       "      <td>240</td>\n",
       "      <td>240</td>\n",
       "      <td>240</td>\n",
       "      <td>240</td>\n",
       "      <td>240</td>\n",
       "      <td>240</td>\n",
       "    </tr>\n",
       "    <tr>\n",
       "      <th>Consumer Staples</th>\n",
       "      <td>132</td>\n",
       "      <td>132</td>\n",
       "      <td>132</td>\n",
       "      <td>132</td>\n",
       "      <td>132</td>\n",
       "      <td>132</td>\n",
       "      <td>132</td>\n",
       "      <td>132</td>\n",
       "    </tr>\n",
       "    <tr>\n",
       "      <th>Energy</th>\n",
       "      <td>80</td>\n",
       "      <td>80</td>\n",
       "      <td>80</td>\n",
       "      <td>80</td>\n",
       "      <td>80</td>\n",
       "      <td>80</td>\n",
       "      <td>80</td>\n",
       "      <td>80</td>\n",
       "    </tr>\n",
       "    <tr>\n",
       "      <th>Financials</th>\n",
       "      <td>564</td>\n",
       "      <td>564</td>\n",
       "      <td>564</td>\n",
       "      <td>564</td>\n",
       "      <td>564</td>\n",
       "      <td>564</td>\n",
       "      <td>564</td>\n",
       "      <td>564</td>\n",
       "    </tr>\n",
       "    <tr>\n",
       "      <th>Health Care</th>\n",
       "      <td>90</td>\n",
       "      <td>90</td>\n",
       "      <td>90</td>\n",
       "      <td>90</td>\n",
       "      <td>90</td>\n",
       "      <td>90</td>\n",
       "      <td>90</td>\n",
       "      <td>90</td>\n",
       "    </tr>\n",
       "    <tr>\n",
       "      <th>Industrials</th>\n",
       "      <td>231</td>\n",
       "      <td>231</td>\n",
       "      <td>231</td>\n",
       "      <td>231</td>\n",
       "      <td>231</td>\n",
       "      <td>231</td>\n",
       "      <td>231</td>\n",
       "      <td>231</td>\n",
       "    </tr>\n",
       "    <tr>\n",
       "      <th>Information Technology</th>\n",
       "      <td>138</td>\n",
       "      <td>138</td>\n",
       "      <td>138</td>\n",
       "      <td>138</td>\n",
       "      <td>138</td>\n",
       "      <td>138</td>\n",
       "      <td>138</td>\n",
       "      <td>138</td>\n",
       "    </tr>\n",
       "    <tr>\n",
       "      <th>Materials</th>\n",
       "      <td>146</td>\n",
       "      <td>146</td>\n",
       "      <td>146</td>\n",
       "      <td>146</td>\n",
       "      <td>146</td>\n",
       "      <td>146</td>\n",
       "      <td>146</td>\n",
       "      <td>146</td>\n",
       "    </tr>\n",
       "    <tr>\n",
       "      <th>Others</th>\n",
       "      <td>238</td>\n",
       "      <td>238</td>\n",
       "      <td>238</td>\n",
       "      <td>238</td>\n",
       "      <td>238</td>\n",
       "      <td>238</td>\n",
       "      <td>238</td>\n",
       "      <td>5</td>\n",
       "    </tr>\n",
       "    <tr>\n",
       "      <th>Telecommunication Services</th>\n",
       "      <td>46</td>\n",
       "      <td>46</td>\n",
       "      <td>46</td>\n",
       "      <td>46</td>\n",
       "      <td>46</td>\n",
       "      <td>46</td>\n",
       "      <td>46</td>\n",
       "      <td>46</td>\n",
       "    </tr>\n",
       "    <tr>\n",
       "      <th>Utilities</th>\n",
       "      <td>95</td>\n",
       "      <td>95</td>\n",
       "      <td>95</td>\n",
       "      <td>95</td>\n",
       "      <td>95</td>\n",
       "      <td>95</td>\n",
       "      <td>95</td>\n",
       "      <td>95</td>\n",
       "    </tr>\n",
       "  </tbody>\n",
       "</table>\n",
       "</div>"
      ],
      "text/plain": [
       "                            Rank  Company  Country/Territory  Sales  Profits  \\\n",
       "Sector                                                                         \n",
       "Consumer Discretionary       240      240                240    240      240   \n",
       "Consumer Staples             132      132                132    132      132   \n",
       "Energy                        80       80                 80     80       80   \n",
       "Financials                   564      564                564    564      564   \n",
       "Health Care                   90       90                 90     90       90   \n",
       "Industrials                  231      231                231    231      231   \n",
       "Information Technology       138      138                138    138      138   \n",
       "Materials                    146      146                146    146      146   \n",
       "Others                       238      238                238    238      238   \n",
       "Telecommunication Services    46       46                 46     46       46   \n",
       "Utilities                     95       95                 95     95       95   \n",
       "\n",
       "                            Assets  Market Value  Industry  \n",
       "Sector                                                      \n",
       "Consumer Discretionary         240           240       240  \n",
       "Consumer Staples               132           132       132  \n",
       "Energy                          80            80        80  \n",
       "Financials                     564           564       564  \n",
       "Health Care                     90            90        90  \n",
       "Industrials                    231           231       231  \n",
       "Information Technology         138           138       138  \n",
       "Materials                      146           146       146  \n",
       "Others                         238           238         5  \n",
       "Telecommunication Services      46            46        46  \n",
       "Utilities                       95            95        95  "
      ]
     },
     "execution_count": 307,
     "metadata": {},
     "output_type": "execute_result"
    }
   ],
   "source": [
    "bySector2020"
   ]
  },
  {
   "cell_type": "code",
   "execution_count": 316,
   "id": "empty-spotlight",
   "metadata": {},
   "outputs": [],
   "source": [
    "pie_List=list()"
   ]
  },
  {
   "cell_type": "code",
   "execution_count": 317,
   "id": "automotive-purple",
   "metadata": {},
   "outputs": [],
   "source": [
    "for value in bySector2020.index:\n",
    "    pie_List.append(round((bySector2020.loc[value,\"Company\"]/2000)*100,2))"
   ]
  },
  {
   "cell_type": "code",
   "execution_count": 321,
   "id": "military-relative",
   "metadata": {},
   "outputs": [
    {
     "data": {
      "text/plain": [
       "[12.0, 6.6, 4.0, 28.2, 4.5, 11.55, 6.9, 7.3, 11.9, 2.3, 4.75]"
      ]
     },
     "execution_count": 321,
     "metadata": {},
     "output_type": "execute_result"
    }
   ],
   "source": [
    "pie_List"
   ]
  },
  {
   "cell_type": "code",
   "execution_count": 323,
   "id": "ultimate-newport",
   "metadata": {},
   "outputs": [],
   "source": [
    "import plotly.express as px"
   ]
  },
  {
   "cell_type": "code",
   "execution_count": 324,
   "id": "defined-theory",
   "metadata": {},
   "outputs": [
    {
     "data": {
      "application/vnd.plotly.v1+json": {
       "config": {
        "plotlyServerURL": "https://plot.ly"
       },
       "data": [
        {
         "domain": {
          "x": [
           0,
           1
          ],
          "y": [
           0,
           1
          ]
         },
         "hovertemplate": "label=%{label}<br>value=%{value}<extra></extra>",
         "labels": [
          "Consumer Discretionary",
          "Consumer Staples",
          "Energy",
          "Financials",
          "Health Care",
          "Industrials",
          "Information Technology",
          "Materials",
          "Others",
          "Telecommunication Services",
          "Utilities"
         ],
         "legendgroup": "",
         "name": "",
         "showlegend": true,
         "type": "pie",
         "values": [
          12,
          6.6,
          4,
          28.2,
          4.5,
          11.55,
          6.9,
          7.3,
          11.9,
          2.3,
          4.75
         ]
        }
       ],
       "layout": {
        "legend": {
         "tracegroupgap": 0
        },
        "template": {
         "data": {
          "bar": [
           {
            "error_x": {
             "color": "#2a3f5f"
            },
            "error_y": {
             "color": "#2a3f5f"
            },
            "marker": {
             "line": {
              "color": "#E5ECF6",
              "width": 0.5
             }
            },
            "type": "bar"
           }
          ],
          "barpolar": [
           {
            "marker": {
             "line": {
              "color": "#E5ECF6",
              "width": 0.5
             }
            },
            "type": "barpolar"
           }
          ],
          "carpet": [
           {
            "aaxis": {
             "endlinecolor": "#2a3f5f",
             "gridcolor": "white",
             "linecolor": "white",
             "minorgridcolor": "white",
             "startlinecolor": "#2a3f5f"
            },
            "baxis": {
             "endlinecolor": "#2a3f5f",
             "gridcolor": "white",
             "linecolor": "white",
             "minorgridcolor": "white",
             "startlinecolor": "#2a3f5f"
            },
            "type": "carpet"
           }
          ],
          "choropleth": [
           {
            "colorbar": {
             "outlinewidth": 0,
             "ticks": ""
            },
            "type": "choropleth"
           }
          ],
          "contour": [
           {
            "colorbar": {
             "outlinewidth": 0,
             "ticks": ""
            },
            "colorscale": [
             [
              0,
              "#0d0887"
             ],
             [
              0.1111111111111111,
              "#46039f"
             ],
             [
              0.2222222222222222,
              "#7201a8"
             ],
             [
              0.3333333333333333,
              "#9c179e"
             ],
             [
              0.4444444444444444,
              "#bd3786"
             ],
             [
              0.5555555555555556,
              "#d8576b"
             ],
             [
              0.6666666666666666,
              "#ed7953"
             ],
             [
              0.7777777777777778,
              "#fb9f3a"
             ],
             [
              0.8888888888888888,
              "#fdca26"
             ],
             [
              1,
              "#f0f921"
             ]
            ],
            "type": "contour"
           }
          ],
          "contourcarpet": [
           {
            "colorbar": {
             "outlinewidth": 0,
             "ticks": ""
            },
            "type": "contourcarpet"
           }
          ],
          "heatmap": [
           {
            "colorbar": {
             "outlinewidth": 0,
             "ticks": ""
            },
            "colorscale": [
             [
              0,
              "#0d0887"
             ],
             [
              0.1111111111111111,
              "#46039f"
             ],
             [
              0.2222222222222222,
              "#7201a8"
             ],
             [
              0.3333333333333333,
              "#9c179e"
             ],
             [
              0.4444444444444444,
              "#bd3786"
             ],
             [
              0.5555555555555556,
              "#d8576b"
             ],
             [
              0.6666666666666666,
              "#ed7953"
             ],
             [
              0.7777777777777778,
              "#fb9f3a"
             ],
             [
              0.8888888888888888,
              "#fdca26"
             ],
             [
              1,
              "#f0f921"
             ]
            ],
            "type": "heatmap"
           }
          ],
          "heatmapgl": [
           {
            "colorbar": {
             "outlinewidth": 0,
             "ticks": ""
            },
            "colorscale": [
             [
              0,
              "#0d0887"
             ],
             [
              0.1111111111111111,
              "#46039f"
             ],
             [
              0.2222222222222222,
              "#7201a8"
             ],
             [
              0.3333333333333333,
              "#9c179e"
             ],
             [
              0.4444444444444444,
              "#bd3786"
             ],
             [
              0.5555555555555556,
              "#d8576b"
             ],
             [
              0.6666666666666666,
              "#ed7953"
             ],
             [
              0.7777777777777778,
              "#fb9f3a"
             ],
             [
              0.8888888888888888,
              "#fdca26"
             ],
             [
              1,
              "#f0f921"
             ]
            ],
            "type": "heatmapgl"
           }
          ],
          "histogram": [
           {
            "marker": {
             "colorbar": {
              "outlinewidth": 0,
              "ticks": ""
             }
            },
            "type": "histogram"
           }
          ],
          "histogram2d": [
           {
            "colorbar": {
             "outlinewidth": 0,
             "ticks": ""
            },
            "colorscale": [
             [
              0,
              "#0d0887"
             ],
             [
              0.1111111111111111,
              "#46039f"
             ],
             [
              0.2222222222222222,
              "#7201a8"
             ],
             [
              0.3333333333333333,
              "#9c179e"
             ],
             [
              0.4444444444444444,
              "#bd3786"
             ],
             [
              0.5555555555555556,
              "#d8576b"
             ],
             [
              0.6666666666666666,
              "#ed7953"
             ],
             [
              0.7777777777777778,
              "#fb9f3a"
             ],
             [
              0.8888888888888888,
              "#fdca26"
             ],
             [
              1,
              "#f0f921"
             ]
            ],
            "type": "histogram2d"
           }
          ],
          "histogram2dcontour": [
           {
            "colorbar": {
             "outlinewidth": 0,
             "ticks": ""
            },
            "colorscale": [
             [
              0,
              "#0d0887"
             ],
             [
              0.1111111111111111,
              "#46039f"
             ],
             [
              0.2222222222222222,
              "#7201a8"
             ],
             [
              0.3333333333333333,
              "#9c179e"
             ],
             [
              0.4444444444444444,
              "#bd3786"
             ],
             [
              0.5555555555555556,
              "#d8576b"
             ],
             [
              0.6666666666666666,
              "#ed7953"
             ],
             [
              0.7777777777777778,
              "#fb9f3a"
             ],
             [
              0.8888888888888888,
              "#fdca26"
             ],
             [
              1,
              "#f0f921"
             ]
            ],
            "type": "histogram2dcontour"
           }
          ],
          "mesh3d": [
           {
            "colorbar": {
             "outlinewidth": 0,
             "ticks": ""
            },
            "type": "mesh3d"
           }
          ],
          "parcoords": [
           {
            "line": {
             "colorbar": {
              "outlinewidth": 0,
              "ticks": ""
             }
            },
            "type": "parcoords"
           }
          ],
          "pie": [
           {
            "automargin": true,
            "type": "pie"
           }
          ],
          "scatter": [
           {
            "marker": {
             "colorbar": {
              "outlinewidth": 0,
              "ticks": ""
             }
            },
            "type": "scatter"
           }
          ],
          "scatter3d": [
           {
            "line": {
             "colorbar": {
              "outlinewidth": 0,
              "ticks": ""
             }
            },
            "marker": {
             "colorbar": {
              "outlinewidth": 0,
              "ticks": ""
             }
            },
            "type": "scatter3d"
           }
          ],
          "scattercarpet": [
           {
            "marker": {
             "colorbar": {
              "outlinewidth": 0,
              "ticks": ""
             }
            },
            "type": "scattercarpet"
           }
          ],
          "scattergeo": [
           {
            "marker": {
             "colorbar": {
              "outlinewidth": 0,
              "ticks": ""
             }
            },
            "type": "scattergeo"
           }
          ],
          "scattergl": [
           {
            "marker": {
             "colorbar": {
              "outlinewidth": 0,
              "ticks": ""
             }
            },
            "type": "scattergl"
           }
          ],
          "scattermapbox": [
           {
            "marker": {
             "colorbar": {
              "outlinewidth": 0,
              "ticks": ""
             }
            },
            "type": "scattermapbox"
           }
          ],
          "scatterpolar": [
           {
            "marker": {
             "colorbar": {
              "outlinewidth": 0,
              "ticks": ""
             }
            },
            "type": "scatterpolar"
           }
          ],
          "scatterpolargl": [
           {
            "marker": {
             "colorbar": {
              "outlinewidth": 0,
              "ticks": ""
             }
            },
            "type": "scatterpolargl"
           }
          ],
          "scatterternary": [
           {
            "marker": {
             "colorbar": {
              "outlinewidth": 0,
              "ticks": ""
             }
            },
            "type": "scatterternary"
           }
          ],
          "surface": [
           {
            "colorbar": {
             "outlinewidth": 0,
             "ticks": ""
            },
            "colorscale": [
             [
              0,
              "#0d0887"
             ],
             [
              0.1111111111111111,
              "#46039f"
             ],
             [
              0.2222222222222222,
              "#7201a8"
             ],
             [
              0.3333333333333333,
              "#9c179e"
             ],
             [
              0.4444444444444444,
              "#bd3786"
             ],
             [
              0.5555555555555556,
              "#d8576b"
             ],
             [
              0.6666666666666666,
              "#ed7953"
             ],
             [
              0.7777777777777778,
              "#fb9f3a"
             ],
             [
              0.8888888888888888,
              "#fdca26"
             ],
             [
              1,
              "#f0f921"
             ]
            ],
            "type": "surface"
           }
          ],
          "table": [
           {
            "cells": {
             "fill": {
              "color": "#EBF0F8"
             },
             "line": {
              "color": "white"
             }
            },
            "header": {
             "fill": {
              "color": "#C8D4E3"
             },
             "line": {
              "color": "white"
             }
            },
            "type": "table"
           }
          ]
         },
         "layout": {
          "annotationdefaults": {
           "arrowcolor": "#2a3f5f",
           "arrowhead": 0,
           "arrowwidth": 1
          },
          "autotypenumbers": "strict",
          "coloraxis": {
           "colorbar": {
            "outlinewidth": 0,
            "ticks": ""
           }
          },
          "colorscale": {
           "diverging": [
            [
             0,
             "#8e0152"
            ],
            [
             0.1,
             "#c51b7d"
            ],
            [
             0.2,
             "#de77ae"
            ],
            [
             0.3,
             "#f1b6da"
            ],
            [
             0.4,
             "#fde0ef"
            ],
            [
             0.5,
             "#f7f7f7"
            ],
            [
             0.6,
             "#e6f5d0"
            ],
            [
             0.7,
             "#b8e186"
            ],
            [
             0.8,
             "#7fbc41"
            ],
            [
             0.9,
             "#4d9221"
            ],
            [
             1,
             "#276419"
            ]
           ],
           "sequential": [
            [
             0,
             "#0d0887"
            ],
            [
             0.1111111111111111,
             "#46039f"
            ],
            [
             0.2222222222222222,
             "#7201a8"
            ],
            [
             0.3333333333333333,
             "#9c179e"
            ],
            [
             0.4444444444444444,
             "#bd3786"
            ],
            [
             0.5555555555555556,
             "#d8576b"
            ],
            [
             0.6666666666666666,
             "#ed7953"
            ],
            [
             0.7777777777777778,
             "#fb9f3a"
            ],
            [
             0.8888888888888888,
             "#fdca26"
            ],
            [
             1,
             "#f0f921"
            ]
           ],
           "sequentialminus": [
            [
             0,
             "#0d0887"
            ],
            [
             0.1111111111111111,
             "#46039f"
            ],
            [
             0.2222222222222222,
             "#7201a8"
            ],
            [
             0.3333333333333333,
             "#9c179e"
            ],
            [
             0.4444444444444444,
             "#bd3786"
            ],
            [
             0.5555555555555556,
             "#d8576b"
            ],
            [
             0.6666666666666666,
             "#ed7953"
            ],
            [
             0.7777777777777778,
             "#fb9f3a"
            ],
            [
             0.8888888888888888,
             "#fdca26"
            ],
            [
             1,
             "#f0f921"
            ]
           ]
          },
          "colorway": [
           "#636efa",
           "#EF553B",
           "#00cc96",
           "#ab63fa",
           "#FFA15A",
           "#19d3f3",
           "#FF6692",
           "#B6E880",
           "#FF97FF",
           "#FECB52"
          ],
          "font": {
           "color": "#2a3f5f"
          },
          "geo": {
           "bgcolor": "white",
           "lakecolor": "white",
           "landcolor": "#E5ECF6",
           "showlakes": true,
           "showland": true,
           "subunitcolor": "white"
          },
          "hoverlabel": {
           "align": "left"
          },
          "hovermode": "closest",
          "mapbox": {
           "style": "light"
          },
          "paper_bgcolor": "white",
          "plot_bgcolor": "#E5ECF6",
          "polar": {
           "angularaxis": {
            "gridcolor": "white",
            "linecolor": "white",
            "ticks": ""
           },
           "bgcolor": "#E5ECF6",
           "radialaxis": {
            "gridcolor": "white",
            "linecolor": "white",
            "ticks": ""
           }
          },
          "scene": {
           "xaxis": {
            "backgroundcolor": "#E5ECF6",
            "gridcolor": "white",
            "gridwidth": 2,
            "linecolor": "white",
            "showbackground": true,
            "ticks": "",
            "zerolinecolor": "white"
           },
           "yaxis": {
            "backgroundcolor": "#E5ECF6",
            "gridcolor": "white",
            "gridwidth": 2,
            "linecolor": "white",
            "showbackground": true,
            "ticks": "",
            "zerolinecolor": "white"
           },
           "zaxis": {
            "backgroundcolor": "#E5ECF6",
            "gridcolor": "white",
            "gridwidth": 2,
            "linecolor": "white",
            "showbackground": true,
            "ticks": "",
            "zerolinecolor": "white"
           }
          },
          "shapedefaults": {
           "line": {
            "color": "#2a3f5f"
           }
          },
          "ternary": {
           "aaxis": {
            "gridcolor": "white",
            "linecolor": "white",
            "ticks": ""
           },
           "baxis": {
            "gridcolor": "white",
            "linecolor": "white",
            "ticks": ""
           },
           "bgcolor": "#E5ECF6",
           "caxis": {
            "gridcolor": "white",
            "linecolor": "white",
            "ticks": ""
           }
          },
          "title": {
           "x": 0.05
          },
          "xaxis": {
           "automargin": true,
           "gridcolor": "white",
           "linecolor": "white",
           "ticks": "",
           "title": {
            "standoff": 15
           },
           "zerolinecolor": "white",
           "zerolinewidth": 2
          },
          "yaxis": {
           "automargin": true,
           "gridcolor": "white",
           "linecolor": "white",
           "ticks": "",
           "title": {
            "standoff": 15
           },
           "zerolinecolor": "white",
           "zerolinewidth": 2
          }
         }
        },
        "title": {
         "text": "Top industries in forbes 2000 2020"
        }
       }
      },
      "text/html": [
       "<div>                            <div id=\"cc869eba-fd2e-4107-a130-bc174efae705\" class=\"plotly-graph-div\" style=\"height:525px; width:100%;\"></div>            <script type=\"text/javascript\">                require([\"plotly\"], function(Plotly) {                    window.PLOTLYENV=window.PLOTLYENV || {};                                    if (document.getElementById(\"cc869eba-fd2e-4107-a130-bc174efae705\")) {                    Plotly.newPlot(                        \"cc869eba-fd2e-4107-a130-bc174efae705\",                        [{\"domain\": {\"x\": [0.0, 1.0], \"y\": [0.0, 1.0]}, \"hovertemplate\": \"label=%{label}<br>value=%{value}<extra></extra>\", \"labels\": [\"Consumer Discretionary\", \"Consumer Staples\", \"Energy\", \"Financials\", \"Health Care\", \"Industrials\", \"Information Technology\", \"Materials\", \"Others\", \"Telecommunication Services\", \"Utilities\"], \"legendgroup\": \"\", \"name\": \"\", \"showlegend\": true, \"type\": \"pie\", \"values\": [12.0, 6.6, 4.0, 28.2, 4.5, 11.55, 6.9, 7.3, 11.9, 2.3, 4.75]}],                        {\"legend\": {\"tracegroupgap\": 0}, \"template\": {\"data\": {\"bar\": [{\"error_x\": {\"color\": \"#2a3f5f\"}, \"error_y\": {\"color\": \"#2a3f5f\"}, \"marker\": {\"line\": {\"color\": \"#E5ECF6\", \"width\": 0.5}}, \"type\": \"bar\"}], \"barpolar\": [{\"marker\": {\"line\": {\"color\": \"#E5ECF6\", \"width\": 0.5}}, \"type\": \"barpolar\"}], \"carpet\": [{\"aaxis\": {\"endlinecolor\": \"#2a3f5f\", \"gridcolor\": \"white\", \"linecolor\": \"white\", \"minorgridcolor\": \"white\", \"startlinecolor\": \"#2a3f5f\"}, \"baxis\": {\"endlinecolor\": \"#2a3f5f\", \"gridcolor\": \"white\", \"linecolor\": \"white\", \"minorgridcolor\": \"white\", \"startlinecolor\": \"#2a3f5f\"}, \"type\": \"carpet\"}], \"choropleth\": [{\"colorbar\": {\"outlinewidth\": 0, \"ticks\": \"\"}, \"type\": \"choropleth\"}], \"contour\": [{\"colorbar\": {\"outlinewidth\": 0, \"ticks\": \"\"}, \"colorscale\": [[0.0, \"#0d0887\"], [0.1111111111111111, \"#46039f\"], [0.2222222222222222, \"#7201a8\"], [0.3333333333333333, \"#9c179e\"], [0.4444444444444444, \"#bd3786\"], [0.5555555555555556, \"#d8576b\"], [0.6666666666666666, \"#ed7953\"], [0.7777777777777778, \"#fb9f3a\"], [0.8888888888888888, \"#fdca26\"], [1.0, \"#f0f921\"]], \"type\": \"contour\"}], \"contourcarpet\": [{\"colorbar\": {\"outlinewidth\": 0, \"ticks\": \"\"}, \"type\": \"contourcarpet\"}], \"heatmap\": [{\"colorbar\": {\"outlinewidth\": 0, \"ticks\": \"\"}, \"colorscale\": [[0.0, \"#0d0887\"], [0.1111111111111111, \"#46039f\"], [0.2222222222222222, \"#7201a8\"], [0.3333333333333333, \"#9c179e\"], [0.4444444444444444, \"#bd3786\"], [0.5555555555555556, \"#d8576b\"], [0.6666666666666666, \"#ed7953\"], [0.7777777777777778, \"#fb9f3a\"], [0.8888888888888888, \"#fdca26\"], [1.0, \"#f0f921\"]], \"type\": \"heatmap\"}], \"heatmapgl\": [{\"colorbar\": {\"outlinewidth\": 0, \"ticks\": \"\"}, \"colorscale\": [[0.0, \"#0d0887\"], [0.1111111111111111, \"#46039f\"], [0.2222222222222222, \"#7201a8\"], [0.3333333333333333, \"#9c179e\"], [0.4444444444444444, \"#bd3786\"], [0.5555555555555556, \"#d8576b\"], [0.6666666666666666, \"#ed7953\"], [0.7777777777777778, \"#fb9f3a\"], [0.8888888888888888, \"#fdca26\"], [1.0, \"#f0f921\"]], \"type\": \"heatmapgl\"}], \"histogram\": [{\"marker\": {\"colorbar\": {\"outlinewidth\": 0, \"ticks\": \"\"}}, \"type\": \"histogram\"}], \"histogram2d\": [{\"colorbar\": {\"outlinewidth\": 0, \"ticks\": \"\"}, \"colorscale\": [[0.0, \"#0d0887\"], [0.1111111111111111, \"#46039f\"], [0.2222222222222222, \"#7201a8\"], [0.3333333333333333, \"#9c179e\"], [0.4444444444444444, \"#bd3786\"], [0.5555555555555556, \"#d8576b\"], [0.6666666666666666, \"#ed7953\"], [0.7777777777777778, \"#fb9f3a\"], [0.8888888888888888, \"#fdca26\"], [1.0, \"#f0f921\"]], \"type\": \"histogram2d\"}], \"histogram2dcontour\": [{\"colorbar\": {\"outlinewidth\": 0, \"ticks\": \"\"}, \"colorscale\": [[0.0, \"#0d0887\"], [0.1111111111111111, \"#46039f\"], [0.2222222222222222, \"#7201a8\"], [0.3333333333333333, \"#9c179e\"], [0.4444444444444444, \"#bd3786\"], [0.5555555555555556, \"#d8576b\"], [0.6666666666666666, \"#ed7953\"], [0.7777777777777778, \"#fb9f3a\"], [0.8888888888888888, \"#fdca26\"], [1.0, \"#f0f921\"]], \"type\": \"histogram2dcontour\"}], \"mesh3d\": [{\"colorbar\": {\"outlinewidth\": 0, \"ticks\": \"\"}, \"type\": \"mesh3d\"}], \"parcoords\": [{\"line\": {\"colorbar\": {\"outlinewidth\": 0, \"ticks\": \"\"}}, \"type\": \"parcoords\"}], \"pie\": [{\"automargin\": true, \"type\": \"pie\"}], \"scatter\": [{\"marker\": {\"colorbar\": {\"outlinewidth\": 0, \"ticks\": \"\"}}, \"type\": \"scatter\"}], \"scatter3d\": [{\"line\": {\"colorbar\": {\"outlinewidth\": 0, \"ticks\": \"\"}}, \"marker\": {\"colorbar\": {\"outlinewidth\": 0, \"ticks\": \"\"}}, \"type\": \"scatter3d\"}], \"scattercarpet\": [{\"marker\": {\"colorbar\": {\"outlinewidth\": 0, \"ticks\": \"\"}}, \"type\": \"scattercarpet\"}], \"scattergeo\": [{\"marker\": {\"colorbar\": {\"outlinewidth\": 0, \"ticks\": \"\"}}, \"type\": \"scattergeo\"}], \"scattergl\": [{\"marker\": {\"colorbar\": {\"outlinewidth\": 0, \"ticks\": \"\"}}, \"type\": \"scattergl\"}], \"scattermapbox\": [{\"marker\": {\"colorbar\": {\"outlinewidth\": 0, \"ticks\": \"\"}}, \"type\": \"scattermapbox\"}], \"scatterpolar\": [{\"marker\": {\"colorbar\": {\"outlinewidth\": 0, \"ticks\": \"\"}}, \"type\": \"scatterpolar\"}], \"scatterpolargl\": [{\"marker\": {\"colorbar\": {\"outlinewidth\": 0, \"ticks\": \"\"}}, \"type\": \"scatterpolargl\"}], \"scatterternary\": [{\"marker\": {\"colorbar\": {\"outlinewidth\": 0, \"ticks\": \"\"}}, \"type\": \"scatterternary\"}], \"surface\": [{\"colorbar\": {\"outlinewidth\": 0, \"ticks\": \"\"}, \"colorscale\": [[0.0, \"#0d0887\"], [0.1111111111111111, \"#46039f\"], [0.2222222222222222, \"#7201a8\"], [0.3333333333333333, \"#9c179e\"], [0.4444444444444444, \"#bd3786\"], [0.5555555555555556, \"#d8576b\"], [0.6666666666666666, \"#ed7953\"], [0.7777777777777778, \"#fb9f3a\"], [0.8888888888888888, \"#fdca26\"], [1.0, \"#f0f921\"]], \"type\": \"surface\"}], \"table\": [{\"cells\": {\"fill\": {\"color\": \"#EBF0F8\"}, \"line\": {\"color\": \"white\"}}, \"header\": {\"fill\": {\"color\": \"#C8D4E3\"}, \"line\": {\"color\": \"white\"}}, \"type\": \"table\"}]}, \"layout\": {\"annotationdefaults\": {\"arrowcolor\": \"#2a3f5f\", \"arrowhead\": 0, \"arrowwidth\": 1}, \"autotypenumbers\": \"strict\", \"coloraxis\": {\"colorbar\": {\"outlinewidth\": 0, \"ticks\": \"\"}}, \"colorscale\": {\"diverging\": [[0, \"#8e0152\"], [0.1, \"#c51b7d\"], [0.2, \"#de77ae\"], [0.3, \"#f1b6da\"], [0.4, \"#fde0ef\"], [0.5, \"#f7f7f7\"], [0.6, \"#e6f5d0\"], [0.7, \"#b8e186\"], [0.8, \"#7fbc41\"], [0.9, \"#4d9221\"], [1, \"#276419\"]], \"sequential\": [[0.0, \"#0d0887\"], [0.1111111111111111, \"#46039f\"], [0.2222222222222222, \"#7201a8\"], [0.3333333333333333, \"#9c179e\"], [0.4444444444444444, \"#bd3786\"], [0.5555555555555556, \"#d8576b\"], [0.6666666666666666, \"#ed7953\"], [0.7777777777777778, \"#fb9f3a\"], [0.8888888888888888, \"#fdca26\"], [1.0, \"#f0f921\"]], \"sequentialminus\": [[0.0, \"#0d0887\"], [0.1111111111111111, \"#46039f\"], [0.2222222222222222, \"#7201a8\"], [0.3333333333333333, \"#9c179e\"], [0.4444444444444444, \"#bd3786\"], [0.5555555555555556, \"#d8576b\"], [0.6666666666666666, \"#ed7953\"], [0.7777777777777778, \"#fb9f3a\"], [0.8888888888888888, \"#fdca26\"], [1.0, \"#f0f921\"]]}, \"colorway\": [\"#636efa\", \"#EF553B\", \"#00cc96\", \"#ab63fa\", \"#FFA15A\", \"#19d3f3\", \"#FF6692\", \"#B6E880\", \"#FF97FF\", \"#FECB52\"], \"font\": {\"color\": \"#2a3f5f\"}, \"geo\": {\"bgcolor\": \"white\", \"lakecolor\": \"white\", \"landcolor\": \"#E5ECF6\", \"showlakes\": true, \"showland\": true, \"subunitcolor\": \"white\"}, \"hoverlabel\": {\"align\": \"left\"}, \"hovermode\": \"closest\", \"mapbox\": {\"style\": \"light\"}, \"paper_bgcolor\": \"white\", \"plot_bgcolor\": \"#E5ECF6\", \"polar\": {\"angularaxis\": {\"gridcolor\": \"white\", \"linecolor\": \"white\", \"ticks\": \"\"}, \"bgcolor\": \"#E5ECF6\", \"radialaxis\": {\"gridcolor\": \"white\", \"linecolor\": \"white\", \"ticks\": \"\"}}, \"scene\": {\"xaxis\": {\"backgroundcolor\": \"#E5ECF6\", \"gridcolor\": \"white\", \"gridwidth\": 2, \"linecolor\": \"white\", \"showbackground\": true, \"ticks\": \"\", \"zerolinecolor\": \"white\"}, \"yaxis\": {\"backgroundcolor\": \"#E5ECF6\", \"gridcolor\": \"white\", \"gridwidth\": 2, \"linecolor\": \"white\", \"showbackground\": true, \"ticks\": \"\", \"zerolinecolor\": \"white\"}, \"zaxis\": {\"backgroundcolor\": \"#E5ECF6\", \"gridcolor\": \"white\", \"gridwidth\": 2, \"linecolor\": \"white\", \"showbackground\": true, \"ticks\": \"\", \"zerolinecolor\": \"white\"}}, \"shapedefaults\": {\"line\": {\"color\": \"#2a3f5f\"}}, \"ternary\": {\"aaxis\": {\"gridcolor\": \"white\", \"linecolor\": \"white\", \"ticks\": \"\"}, \"baxis\": {\"gridcolor\": \"white\", \"linecolor\": \"white\", \"ticks\": \"\"}, \"bgcolor\": \"#E5ECF6\", \"caxis\": {\"gridcolor\": \"white\", \"linecolor\": \"white\", \"ticks\": \"\"}}, \"title\": {\"x\": 0.05}, \"xaxis\": {\"automargin\": true, \"gridcolor\": \"white\", \"linecolor\": \"white\", \"ticks\": \"\", \"title\": {\"standoff\": 15}, \"zerolinecolor\": \"white\", \"zerolinewidth\": 2}, \"yaxis\": {\"automargin\": true, \"gridcolor\": \"white\", \"linecolor\": \"white\", \"ticks\": \"\", \"title\": {\"standoff\": 15}, \"zerolinecolor\": \"white\", \"zerolinewidth\": 2}}}, \"title\": {\"text\": \"Top industries in forbes 2000 2020\"}},                        {\"responsive\": true}                    ).then(function(){\n",
       "                            \n",
       "var gd = document.getElementById('cc869eba-fd2e-4107-a130-bc174efae705');\n",
       "var x = new MutationObserver(function (mutations, observer) {{\n",
       "        var display = window.getComputedStyle(gd).display;\n",
       "        if (!display || display === 'none') {{\n",
       "            console.log([gd, 'removed!']);\n",
       "            Plotly.purge(gd);\n",
       "            observer.disconnect();\n",
       "        }}\n",
       "}});\n",
       "\n",
       "// Listen for the removal of the full notebook cells\n",
       "var notebookContainer = gd.closest('#notebook-container');\n",
       "if (notebookContainer) {{\n",
       "    x.observe(notebookContainer, {childList: true});\n",
       "}}\n",
       "\n",
       "// Listen for the clearing of the current output cell\n",
       "var outputEl = gd.closest('.output');\n",
       "if (outputEl) {{\n",
       "    x.observe(outputEl, {childList: true});\n",
       "}}\n",
       "\n",
       "                        })                };                });            </script>        </div>"
      ]
     },
     "metadata": {},
     "output_type": "display_data"
    }
   ],
   "source": [
    "fig=px.pie(values=pie_List,names=list(bySector2020.index),title=\"Top industries in forbes 2000 2020\")\n",
    "fig.show()"
   ]
  },
  {
   "cell_type": "markdown",
   "id": "classical-sheep",
   "metadata": {},
   "source": [
    "# Việt Nam"
   ]
  },
  {
   "cell_type": "code",
   "execution_count": 327,
   "id": "optical-image",
   "metadata": {},
   "outputs": [
    {
     "data": {
      "text/html": [
       "<div>\n",
       "<style scoped>\n",
       "    .dataframe tbody tr th:only-of-type {\n",
       "        vertical-align: middle;\n",
       "    }\n",
       "\n",
       "    .dataframe tbody tr th {\n",
       "        vertical-align: top;\n",
       "    }\n",
       "\n",
       "    .dataframe thead th {\n",
       "        text-align: right;\n",
       "    }\n",
       "</style>\n",
       "<table border=\"1\" class=\"dataframe\">\n",
       "  <thead>\n",
       "    <tr style=\"text-align: right;\">\n",
       "      <th></th>\n",
       "      <th>Rank</th>\n",
       "      <th>Company</th>\n",
       "      <th>Country</th>\n",
       "      <th>Sales</th>\n",
       "      <th>Profits</th>\n",
       "      <th>Assets</th>\n",
       "      <th>Market Value</th>\n",
       "      <th>Sector</th>\n",
       "      <th>Industry</th>\n",
       "    </tr>\n",
       "  </thead>\n",
       "  <tbody>\n",
       "    <tr>\n",
       "      <th>937</th>\n",
       "      <td>937</td>\n",
       "      <td>Joint Stock Commercial Bank for Foreign Trade ...</td>\n",
       "      <td>Vietnam</td>\n",
       "      <td>$3.7 B</td>\n",
       "      <td>$773.8 M</td>\n",
       "      <td>$48.5 B</td>\n",
       "      <td>$10.8 B</td>\n",
       "      <td>Financials</td>\n",
       "      <td>Regional Banks</td>\n",
       "    </tr>\n",
       "    <tr>\n",
       "      <th>1447</th>\n",
       "      <td>1448</td>\n",
       "      <td>Commercial Bank For Investment &amp; Development O...</td>\n",
       "      <td>Vietnam</td>\n",
       "      <td>$5.1 B</td>\n",
       "      <td>$367.7 M</td>\n",
       "      <td>$64.3 B</td>\n",
       "      <td>$6.1 B</td>\n",
       "      <td>Financials</td>\n",
       "      <td>Regional Banks</td>\n",
       "    </tr>\n",
       "    <tr>\n",
       "      <th>1533</th>\n",
       "      <td>1534</td>\n",
       "      <td>Vingroup</td>\n",
       "      <td>Vietnam</td>\n",
       "      <td>$5.6 B</td>\n",
       "      <td>$323.2 M</td>\n",
       "      <td>$17.4 B</td>\n",
       "      <td>$13.3 B</td>\n",
       "      <td>Others</td>\n",
       "      <td>NaN</td>\n",
       "    </tr>\n",
       "    <tr>\n",
       "      <th>1594</th>\n",
       "      <td>1595</td>\n",
       "      <td>Vietin Bank</td>\n",
       "      <td>Vietnam</td>\n",
       "      <td>$4.1 B</td>\n",
       "      <td>$407.3 M</td>\n",
       "      <td>$53.5 B</td>\n",
       "      <td>$3.2 B</td>\n",
       "      <td>Financials</td>\n",
       "      <td>Regional Banks</td>\n",
       "    </tr>\n",
       "  </tbody>\n",
       "</table>\n",
       "</div>"
      ],
      "text/plain": [
       "      Rank                                            Company  Country  \\\n",
       "937    937  Joint Stock Commercial Bank for Foreign Trade ...  Vietnam   \n",
       "1447  1448  Commercial Bank For Investment & Development O...  Vietnam   \n",
       "1533  1534                                           Vingroup  Vietnam   \n",
       "1594  1595                                        Vietin Bank  Vietnam   \n",
       "\n",
       "       Sales   Profits   Assets Market Value      Sector        Industry  \n",
       "937   $3.7 B  $773.8 M  $48.5 B      $10.8 B  Financials  Regional Banks  \n",
       "1447  $5.1 B  $367.7 M  $64.3 B       $6.1 B  Financials  Regional Banks  \n",
       "1533  $5.6 B  $323.2 M  $17.4 B      $13.3 B      Others             NaN  \n",
       "1594  $4.1 B  $407.3 M  $53.5 B       $3.2 B  Financials  Regional Banks  "
      ]
     },
     "execution_count": 327,
     "metadata": {},
     "output_type": "execute_result"
    }
   ],
   "source": [
    "forbes2020[forbes2020[\"Country\"]==\"Vietnam\"]"
   ]
  },
  {
   "cell_type": "code",
   "execution_count": 328,
   "id": "interested-leave",
   "metadata": {},
   "outputs": [
    {
     "data": {
      "text/html": [
       "<div>\n",
       "<style scoped>\n",
       "    .dataframe tbody tr th:only-of-type {\n",
       "        vertical-align: middle;\n",
       "    }\n",
       "\n",
       "    .dataframe tbody tr th {\n",
       "        vertical-align: top;\n",
       "    }\n",
       "\n",
       "    .dataframe thead th {\n",
       "        text-align: right;\n",
       "    }\n",
       "</style>\n",
       "<table border=\"1\" class=\"dataframe\">\n",
       "  <thead>\n",
       "    <tr style=\"text-align: right;\">\n",
       "      <th></th>\n",
       "      <th>Company</th>\n",
       "      <th>Market Value</th>\n",
       "      <th>Revenue</th>\n",
       "      <th>Profits</th>\n",
       "      <th>Assets</th>\n",
       "      <th>Rank</th>\n",
       "      <th>Sector</th>\n",
       "      <th>Industry</th>\n",
       "      <th>Continent</th>\n",
       "      <th>Country</th>\n",
       "      <th>Headquarters</th>\n",
       "      <th>State</th>\n",
       "      <th>CEO</th>\n",
       "      <th>Forbes Webpage</th>\n",
       "      <th>Profits as % of Assets</th>\n",
       "      <th>Profits as % of Revenue</th>\n",
       "    </tr>\n",
       "  </thead>\n",
       "  <tbody>\n",
       "    <tr>\n",
       "      <th>1095</th>\n",
       "      <td>Joint Stock Commercial Bank for Foreign Trade ...</td>\n",
       "      <td>10.853</td>\n",
       "      <td>3.066</td>\n",
       "      <td>0.562</td>\n",
       "      <td>46.304</td>\n",
       "      <td>1096</td>\n",
       "      <td>Financials</td>\n",
       "      <td>Regional Banks</td>\n",
       "      <td>Asia</td>\n",
       "      <td>Vietnam</td>\n",
       "      <td>Vietnam</td>\n",
       "      <td>NaN</td>\n",
       "      <td>Dung Pham</td>\n",
       "      <td>http://www.forbes.com/companies/joint-stock-co...</td>\n",
       "      <td>0.012137</td>\n",
       "      <td>0.183301</td>\n",
       "    </tr>\n",
       "    <tr>\n",
       "      <th>1715</th>\n",
       "      <td>Commercial Bank For Investment &amp; Development O...</td>\n",
       "      <td>5.127</td>\n",
       "      <td>4.528</td>\n",
       "      <td>0.322</td>\n",
       "      <td>56.609</td>\n",
       "      <td>1716</td>\n",
       "      <td>Financials</td>\n",
       "      <td>Regional Banks</td>\n",
       "      <td>Asia</td>\n",
       "      <td>Vietnam</td>\n",
       "      <td>Vietnam</td>\n",
       "      <td>NaN</td>\n",
       "      <td>Tu Phan</td>\n",
       "      <td>http://www.forbes.com/companies/commercial-ban...</td>\n",
       "      <td>0.005688</td>\n",
       "      <td>0.071113</td>\n",
       "    </tr>\n",
       "    <tr>\n",
       "      <th>1747</th>\n",
       "      <td>Vingroup</td>\n",
       "      <td>14.143</td>\n",
       "      <td>5.345</td>\n",
       "      <td>0.140</td>\n",
       "      <td>12.415</td>\n",
       "      <td>1747</td>\n",
       "      <td>NaN</td>\n",
       "      <td>NaN</td>\n",
       "      <td>Asia</td>\n",
       "      <td>Vietnam</td>\n",
       "      <td>Vietnam</td>\n",
       "      <td>NaN</td>\n",
       "      <td>Quang Nguyen</td>\n",
       "      <td>http://www.forbes.com/companies/vingroup/</td>\n",
       "      <td>0.011277</td>\n",
       "      <td>0.026193</td>\n",
       "    </tr>\n",
       "    <tr>\n",
       "      <th>1769</th>\n",
       "      <td>Vietin Bank</td>\n",
       "      <td>3.370</td>\n",
       "      <td>3.655</td>\n",
       "      <td>0.235</td>\n",
       "      <td>50.202</td>\n",
       "      <td>1769</td>\n",
       "      <td>Financials</td>\n",
       "      <td>Regional Banks</td>\n",
       "      <td>Asia</td>\n",
       "      <td>Vietnam</td>\n",
       "      <td>Vietnam</td>\n",
       "      <td>NaN</td>\n",
       "      <td>Binh Tran</td>\n",
       "      <td>http://www.forbes.com/companies/vietin-bank/</td>\n",
       "      <td>0.004681</td>\n",
       "      <td>0.064295</td>\n",
       "    </tr>\n",
       "  </tbody>\n",
       "</table>\n",
       "</div>"
      ],
      "text/plain": [
       "                                                Company  Market Value  \\\n",
       "1095  Joint Stock Commercial Bank for Foreign Trade ...        10.853   \n",
       "1715  Commercial Bank For Investment & Development O...         5.127   \n",
       "1747                                           Vingroup        14.143   \n",
       "1769                                        Vietin Bank         3.370   \n",
       "\n",
       "      Revenue  Profits  Assets  Rank      Sector        Industry Continent  \\\n",
       "1095    3.066    0.562  46.304  1096  Financials  Regional Banks      Asia   \n",
       "1715    4.528    0.322  56.609  1716  Financials  Regional Banks      Asia   \n",
       "1747    5.345    0.140  12.415  1747         NaN             NaN      Asia   \n",
       "1769    3.655    0.235  50.202  1769  Financials  Regional Banks      Asia   \n",
       "\n",
       "      Country Headquarters State           CEO  \\\n",
       "1095  Vietnam      Vietnam   NaN     Dung Pham   \n",
       "1715  Vietnam      Vietnam   NaN       Tu Phan   \n",
       "1747  Vietnam      Vietnam   NaN  Quang Nguyen   \n",
       "1769  Vietnam      Vietnam   NaN     Binh Tran   \n",
       "\n",
       "                                         Forbes Webpage  \\\n",
       "1095  http://www.forbes.com/companies/joint-stock-co...   \n",
       "1715  http://www.forbes.com/companies/commercial-ban...   \n",
       "1747          http://www.forbes.com/companies/vingroup/   \n",
       "1769       http://www.forbes.com/companies/vietin-bank/   \n",
       "\n",
       "      Profits as % of Assets  Profits as % of Revenue  \n",
       "1095                0.012137                 0.183301  \n",
       "1715                0.005688                 0.071113  \n",
       "1747                0.011277                 0.026193  \n",
       "1769                0.004681                 0.064295  "
      ]
     },
     "execution_count": 328,
     "metadata": {},
     "output_type": "execute_result"
    }
   ],
   "source": [
    "forbes2019[forbes2019[\"Country\"]==\"Vietnam\"]"
   ]
  },
  {
   "cell_type": "code",
   "execution_count": 340,
   "id": "blessed-contents",
   "metadata": {},
   "outputs": [
    {
     "data": {
      "text/html": [
       "<div>\n",
       "<style scoped>\n",
       "    .dataframe tbody tr th:only-of-type {\n",
       "        vertical-align: middle;\n",
       "    }\n",
       "\n",
       "    .dataframe tbody tr th {\n",
       "        vertical-align: top;\n",
       "    }\n",
       "\n",
       "    .dataframe thead th {\n",
       "        text-align: right;\n",
       "    }\n",
       "</style>\n",
       "<table border=\"1\" class=\"dataframe\">\n",
       "  <thead>\n",
       "    <tr style=\"text-align: right;\">\n",
       "      <th></th>\n",
       "      <th>Company</th>\n",
       "      <th>Market Value</th>\n",
       "      <th>Revenue</th>\n",
       "      <th>Profits</th>\n",
       "      <th>Assets</th>\n",
       "      <th>Rank</th>\n",
       "      <th>Sector</th>\n",
       "      <th>Industry</th>\n",
       "      <th>Continent</th>\n",
       "      <th>Country</th>\n",
       "      <th>Headquarters</th>\n",
       "      <th>State</th>\n",
       "      <th>CEO</th>\n",
       "      <th>Forbes Webpage</th>\n",
       "      <th>Profits as % of Assets</th>\n",
       "      <th>Profits as % of Revenue</th>\n",
       "      <th>Year</th>\n",
       "    </tr>\n",
       "  </thead>\n",
       "  <tbody>\n",
       "    <tr>\n",
       "      <th>1293</th>\n",
       "      <td>Joint Stock Commercial Bank for Foreign Trade ...</td>\n",
       "      <td>9.148</td>\n",
       "      <td>2.663</td>\n",
       "      <td>0.4570</td>\n",
       "      <td>44.013</td>\n",
       "      <td>1294.0</td>\n",
       "      <td>Financials</td>\n",
       "      <td>Regional Banks</td>\n",
       "      <td>Asia</td>\n",
       "      <td>Vietnam</td>\n",
       "      <td>Vietnam</td>\n",
       "      <td>NaN</td>\n",
       "      <td>Dung Pham</td>\n",
       "      <td>http://www.forbes.com/companies/joint-stock-co...</td>\n",
       "      <td>0.010383</td>\n",
       "      <td>0.171611</td>\n",
       "      <td>2018</td>\n",
       "    </tr>\n",
       "    <tr>\n",
       "      <th>1713</th>\n",
       "      <td>Commercial Bank For Investment &amp; Development O...</td>\n",
       "      <td>5.105</td>\n",
       "      <td>4.243</td>\n",
       "      <td>0.3105</td>\n",
       "      <td>53.791</td>\n",
       "      <td>1714.0</td>\n",
       "      <td>Financials</td>\n",
       "      <td>Regional Banks</td>\n",
       "      <td>Asia</td>\n",
       "      <td>Vietnam</td>\n",
       "      <td>Vietnam</td>\n",
       "      <td>NaN</td>\n",
       "      <td>Tu Phan</td>\n",
       "      <td>http://www.forbes.com/companies/commercial-ban...</td>\n",
       "      <td>0.005772</td>\n",
       "      <td>0.073179</td>\n",
       "      <td>2018</td>\n",
       "    </tr>\n",
       "    <tr>\n",
       "      <th>1718</th>\n",
       "      <td>Vietin Bank</td>\n",
       "      <td>4.808</td>\n",
       "      <td>3.411</td>\n",
       "      <td>0.3445</td>\n",
       "      <td>48.843</td>\n",
       "      <td>1719.0</td>\n",
       "      <td>Financials</td>\n",
       "      <td>Regional Banks</td>\n",
       "      <td>Asia</td>\n",
       "      <td>Vietnam</td>\n",
       "      <td>Vietnam</td>\n",
       "      <td>NaN</td>\n",
       "      <td>Tho Le</td>\n",
       "      <td>http://www.forbes.com/companies/vietin-bank/</td>\n",
       "      <td>0.007053</td>\n",
       "      <td>0.100997</td>\n",
       "      <td>2018</td>\n",
       "    </tr>\n",
       "    <tr>\n",
       "      <th>1991</th>\n",
       "      <td>Vingroup</td>\n",
       "      <td>14.364</td>\n",
       "      <td>4.634</td>\n",
       "      <td>0.2030</td>\n",
       "      <td>9.814</td>\n",
       "      <td>1992.0</td>\n",
       "      <td>NaN</td>\n",
       "      <td>NaN</td>\n",
       "      <td>Asia</td>\n",
       "      <td>Vietnam</td>\n",
       "      <td>Vietnam</td>\n",
       "      <td>NaN</td>\n",
       "      <td>Quang Nguyen</td>\n",
       "      <td>http://www.forbes.com/companies/vingroup/</td>\n",
       "      <td>0.020685</td>\n",
       "      <td>0.043807</td>\n",
       "      <td>2018</td>\n",
       "    </tr>\n",
       "  </tbody>\n",
       "</table>\n",
       "</div>"
      ],
      "text/plain": [
       "                                                Company  Market Value  \\\n",
       "1293  Joint Stock Commercial Bank for Foreign Trade ...         9.148   \n",
       "1713  Commercial Bank For Investment & Development O...         5.105   \n",
       "1718                                        Vietin Bank         4.808   \n",
       "1991                                           Vingroup        14.364   \n",
       "\n",
       "      Revenue  Profits  Assets    Rank      Sector        Industry Continent  \\\n",
       "1293    2.663   0.4570  44.013  1294.0  Financials  Regional Banks      Asia   \n",
       "1713    4.243   0.3105  53.791  1714.0  Financials  Regional Banks      Asia   \n",
       "1718    3.411   0.3445  48.843  1719.0  Financials  Regional Banks      Asia   \n",
       "1991    4.634   0.2030   9.814  1992.0         NaN             NaN      Asia   \n",
       "\n",
       "      Country Headquarters State           CEO  \\\n",
       "1293  Vietnam      Vietnam   NaN     Dung Pham   \n",
       "1713  Vietnam      Vietnam   NaN       Tu Phan   \n",
       "1718  Vietnam      Vietnam   NaN        Tho Le   \n",
       "1991  Vietnam      Vietnam   NaN  Quang Nguyen   \n",
       "\n",
       "                                         Forbes Webpage  \\\n",
       "1293  http://www.forbes.com/companies/joint-stock-co...   \n",
       "1713  http://www.forbes.com/companies/commercial-ban...   \n",
       "1718       http://www.forbes.com/companies/vietin-bank/   \n",
       "1991          http://www.forbes.com/companies/vingroup/   \n",
       "\n",
       "      Profits as % of Assets  Profits as % of Revenue  Year  \n",
       "1293                0.010383                 0.171611  2018  \n",
       "1713                0.005772                 0.073179  2018  \n",
       "1718                0.007053                 0.100997  2018  \n",
       "1991                0.020685                 0.043807  2018  "
      ]
     },
     "execution_count": 340,
     "metadata": {},
     "output_type": "execute_result"
    }
   ],
   "source": [
    "forbes2018[forbes2018[\"Country\"]==\"Vietnam\"]"
   ]
  },
  {
   "cell_type": "code",
   "execution_count": 345,
   "id": "portable-charter",
   "metadata": {},
   "outputs": [],
   "source": [
    "data_Total=data_Total.astype({\"Year\":\"int64\"})"
   ]
  },
  {
   "cell_type": "code",
   "execution_count": 356,
   "id": "standard-publisher",
   "metadata": {},
   "outputs": [
    {
     "data": {
      "text/plain": [
       "<matplotlib.legend.Legend at 0x21a0819e5b0>"
      ]
     },
     "execution_count": 356,
     "metadata": {},
     "output_type": "execute_result"
    },
    {
     "data": {
      "image/png": "[encoded data removed]",
      "text/plain": [
       "<Figure size 432x288 with 1 Axes>"
      ]
     },
     "metadata": {
      "needs_background": "light"
     },
     "output_type": "display_data"
    }
   ],
   "source": [
    "sns.barplot(x=\"Year\",hue=\"Company\",y=\"Revenue\",data=data_Total[(data_Total[\"Year\"]>2013) & (data_Total[\"Year\"]<2020) & (data_Total[\"Country\"]==\"Vietnam\")])\n",
    "plt.legend(loc=2,bbox_to_anchor=(1.,1.05))"
   ]
  },
  {
   "cell_type": "code",
   "execution_count": null,
   "id": "organized-mother",
   "metadata": {},
   "outputs": [],
   "source": []
  },
  {
   "cell_type": "code",
   "execution_count": null,
   "id": "sunset-hypothetical",
   "metadata": {},
   "outputs": [],
   "source": []
  }
 ],
 "metadata": {
  "kernelspec": {
   "display_name": "Python 3",
   "language": "python",
   "name": "python3"
  },
  "language_info": {
   "codemirror_mode": {
    "name": "ipython",
    "version": 3
   },
   "file_extension": ".py",
   "mimetype": "text/x-python",
   "name": "python",
   "nbconvert_exporter": "python",
   "pygments_lexer": "ipython3",
   "version": "3.8.3"
  }
 },
 "nbformat": 4,
 "nbformat_minor": 5
}
