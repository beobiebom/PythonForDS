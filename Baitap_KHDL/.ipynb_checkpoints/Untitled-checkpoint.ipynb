{
 "cells": [
  {
   "cell_type": "code",
   "execution_count": 1,
   "id": "cross-delight",
   "metadata": {},
   "outputs": [],
   "source": [
    "import numpy as np\n",
    "import pandas as pd\n",
    "import seaborn as sns"
   ]
  },
  {
   "cell_type": "code",
   "execution_count": 2,
   "id": "random-planet",
   "metadata": {},
   "outputs": [],
   "source": [
    "originalSample=np.array([\n",
    "[81,32,49,54,44,74,98,42,54,51],\n",
    "[69,49,43,5,1,5,35,55,4,20],\n",
    "[25,34,31,65,46,92,2,4,41,38]\n",
    "])"
   ]
  },
  {
   "cell_type": "code",
   "execution_count": 11,
   "id": "headed-encyclopedia",
   "metadata": {},
   "outputs": [],
   "source": [
    "def boostrap(originalSample,n,m):\n",
    "    mean=[]\n",
    "    median=[]\n",
    "    IQR=[]\n",
    "    std_deviation=[]\n",
    "    boostrapSamples=[]\n",
    "    for i in range(n):     \n",
    "        tempList=[originalSample[int(originalSample.shape[0]*np.random.rand())][int(originalSample.shape[1]*np.random.rand())] for i in range(m)]\n",
    "        arr=tempList\n",
    "        arr.sort()\n",
    "        mean.append(sum(arr)/m)\n",
    "        if m%2==0:\n",
    "            md=(arr[int(m/2)]+arr[int(m/2)-1])/2\n",
    "            IQR.append(np.median(arr[int(m/2):])-np.median(arr[:int(m/2)]))\n",
    "        else:\n",
    "            md=arr[int(m/2)]\n",
    "            IQR.append(np.median(arr[int(m/2):])-np.median(arr[:int(m/2)+1]))\n",
    "        median.append(md)     \n",
    "        std_deviation.append(np.std(arr)) \n",
    "        boostrapSamples.append(tempList)\n",
    "    Bin=[10,20,30,40,50,60,70,80,90,100]\n",
    "    Frequency=[]\n",
    "    Probability=[]\n",
    "    for value in Bin:\n",
    "        Frequency.append(len([i for i in mean if (i>=value-10) and (i<value)]))\n",
    "        Probability.append(round(Frequency[Bin.index(value)]/200,2))\n",
    "    meanDistribution=pd.DataFrame({\"Bin\":Bin,\"Frequency\":Frequency,\"Probability\":Probability})\n",
    "    bootstrapStatistic=pd.DataFrame({\"Mean\":mean,\"Median\":median,\"IQR\":IQR,\"std deviation\":std_deviation}) \n",
    "    return meanDistribution,bootstrapStatistic"
   ]
  },
  {
   "cell_type": "code",
   "execution_count": 12,
   "id": "printable-hindu",
   "metadata": {},
   "outputs": [],
   "source": [
    "meanDistribution,bootstrapStatistic=boostrap(originalSample,200,10)"
   ]
  },
  {
   "cell_type": "code",
   "execution_count": 14,
   "id": "imported-subsection",
   "metadata": {},
   "outputs": [
    {
     "data": {
      "text/html": [
       "<div>\n",
       "<style scoped>\n",
       "    .dataframe tbody tr th:only-of-type {\n",
       "        vertical-align: middle;\n",
       "    }\n",
       "\n",
       "    .dataframe tbody tr th {\n",
       "        vertical-align: top;\n",
       "    }\n",
       "\n",
       "    .dataframe thead th {\n",
       "        text-align: right;\n",
       "    }\n",
       "</style>\n",
       "<table border=\"1\" class=\"dataframe\">\n",
       "  <thead>\n",
       "    <tr style=\"text-align: right;\">\n",
       "      <th></th>\n",
       "      <th>Bin</th>\n",
       "      <th>Frequency</th>\n",
       "      <th>Probability</th>\n",
       "    </tr>\n",
       "  </thead>\n",
       "  <tbody>\n",
       "    <tr>\n",
       "      <th>0</th>\n",
       "      <td>10</td>\n",
       "      <td>0</td>\n",
       "      <td>0.00</td>\n",
       "    </tr>\n",
       "    <tr>\n",
       "      <th>1</th>\n",
       "      <td>20</td>\n",
       "      <td>0</td>\n",
       "      <td>0.00</td>\n",
       "    </tr>\n",
       "    <tr>\n",
       "      <th>2</th>\n",
       "      <td>30</td>\n",
       "      <td>18</td>\n",
       "      <td>0.09</td>\n",
       "    </tr>\n",
       "    <tr>\n",
       "      <th>3</th>\n",
       "      <td>40</td>\n",
       "      <td>64</td>\n",
       "      <td>0.32</td>\n",
       "    </tr>\n",
       "    <tr>\n",
       "      <th>4</th>\n",
       "      <td>50</td>\n",
       "      <td>92</td>\n",
       "      <td>0.46</td>\n",
       "    </tr>\n",
       "    <tr>\n",
       "      <th>5</th>\n",
       "      <td>60</td>\n",
       "      <td>23</td>\n",
       "      <td>0.12</td>\n",
       "    </tr>\n",
       "    <tr>\n",
       "      <th>6</th>\n",
       "      <td>70</td>\n",
       "      <td>3</td>\n",
       "      <td>0.01</td>\n",
       "    </tr>\n",
       "    <tr>\n",
       "      <th>7</th>\n",
       "      <td>80</td>\n",
       "      <td>0</td>\n",
       "      <td>0.00</td>\n",
       "    </tr>\n",
       "    <tr>\n",
       "      <th>8</th>\n",
       "      <td>90</td>\n",
       "      <td>0</td>\n",
       "      <td>0.00</td>\n",
       "    </tr>\n",
       "    <tr>\n",
       "      <th>9</th>\n",
       "      <td>100</td>\n",
       "      <td>0</td>\n",
       "      <td>0.00</td>\n",
       "    </tr>\n",
       "  </tbody>\n",
       "</table>\n",
       "</div>"
      ],
      "text/plain": [
       "   Bin  Frequency  Probability\n",
       "0   10          0         0.00\n",
       "1   20          0         0.00\n",
       "2   30         18         0.09\n",
       "3   40         64         0.32\n",
       "4   50         92         0.46\n",
       "5   60         23         0.12\n",
       "6   70          3         0.01\n",
       "7   80          0         0.00\n",
       "8   90          0         0.00\n",
       "9  100          0         0.00"
      ]
     },
     "execution_count": 14,
     "metadata": {},
     "output_type": "execute_result"
    }
   ],
   "source": [
    "meanDistribution"
   ]
  },
  {
   "cell_type": "code",
   "execution_count": 15,
   "id": "vocal-conservative",
   "metadata": {},
   "outputs": [
    {
     "data": {
      "text/html": [
       "<div>\n",
       "<style scoped>\n",
       "    .dataframe tbody tr th:only-of-type {\n",
       "        vertical-align: middle;\n",
       "    }\n",
       "\n",
       "    .dataframe tbody tr th {\n",
       "        vertical-align: top;\n",
       "    }\n",
       "\n",
       "    .dataframe thead th {\n",
       "        text-align: right;\n",
       "    }\n",
       "</style>\n",
       "<table border=\"1\" class=\"dataframe\">\n",
       "  <thead>\n",
       "    <tr style=\"text-align: right;\">\n",
       "      <th></th>\n",
       "      <th>Mean</th>\n",
       "      <th>Median</th>\n",
       "      <th>IQR</th>\n",
       "      <th>std deviation</th>\n",
       "    </tr>\n",
       "  </thead>\n",
       "  <tbody>\n",
       "    <tr>\n",
       "      <th>0</th>\n",
       "      <td>40.9</td>\n",
       "      <td>40.5</td>\n",
       "      <td>50.0</td>\n",
       "      <td>34.139274</td>\n",
       "    </tr>\n",
       "    <tr>\n",
       "      <th>1</th>\n",
       "      <td>37.9</td>\n",
       "      <td>43.5</td>\n",
       "      <td>20.0</td>\n",
       "      <td>20.314773</td>\n",
       "    </tr>\n",
       "    <tr>\n",
       "      <th>2</th>\n",
       "      <td>33.4</td>\n",
       "      <td>38.5</td>\n",
       "      <td>39.0</td>\n",
       "      <td>22.676860</td>\n",
       "    </tr>\n",
       "    <tr>\n",
       "      <th>3</th>\n",
       "      <td>38.8</td>\n",
       "      <td>36.5</td>\n",
       "      <td>18.0</td>\n",
       "      <td>26.183201</td>\n",
       "    </tr>\n",
       "    <tr>\n",
       "      <th>4</th>\n",
       "      <td>42.1</td>\n",
       "      <td>48.5</td>\n",
       "      <td>35.0</td>\n",
       "      <td>26.968315</td>\n",
       "    </tr>\n",
       "    <tr>\n",
       "      <th>...</th>\n",
       "      <td>...</td>\n",
       "      <td>...</td>\n",
       "      <td>...</td>\n",
       "      <td>...</td>\n",
       "    </tr>\n",
       "    <tr>\n",
       "      <th>195</th>\n",
       "      <td>35.0</td>\n",
       "      <td>33.0</td>\n",
       "      <td>24.0</td>\n",
       "      <td>21.410278</td>\n",
       "    </tr>\n",
       "    <tr>\n",
       "      <th>196</th>\n",
       "      <td>47.8</td>\n",
       "      <td>45.0</td>\n",
       "      <td>23.0</td>\n",
       "      <td>26.509621</td>\n",
       "    </tr>\n",
       "    <tr>\n",
       "      <th>197</th>\n",
       "      <td>41.8</td>\n",
       "      <td>46.0</td>\n",
       "      <td>17.0</td>\n",
       "      <td>24.469573</td>\n",
       "    </tr>\n",
       "    <tr>\n",
       "      <th>198</th>\n",
       "      <td>44.2</td>\n",
       "      <td>44.5</td>\n",
       "      <td>16.0</td>\n",
       "      <td>19.030502</td>\n",
       "    </tr>\n",
       "    <tr>\n",
       "      <th>199</th>\n",
       "      <td>44.0</td>\n",
       "      <td>46.0</td>\n",
       "      <td>40.0</td>\n",
       "      <td>26.951809</td>\n",
       "    </tr>\n",
       "  </tbody>\n",
       "</table>\n",
       "<p>200 rows × 4 columns</p>\n",
       "</div>"
      ],
      "text/plain": [
       "     Mean  Median   IQR  std deviation\n",
       "0    40.9    40.5  50.0      34.139274\n",
       "1    37.9    43.5  20.0      20.314773\n",
       "2    33.4    38.5  39.0      22.676860\n",
       "3    38.8    36.5  18.0      26.183201\n",
       "4    42.1    48.5  35.0      26.968315\n",
       "..    ...     ...   ...            ...\n",
       "195  35.0    33.0  24.0      21.410278\n",
       "196  47.8    45.0  23.0      26.509621\n",
       "197  41.8    46.0  17.0      24.469573\n",
       "198  44.2    44.5  16.0      19.030502\n",
       "199  44.0    46.0  40.0      26.951809\n",
       "\n",
       "[200 rows x 4 columns]"
      ]
     },
     "execution_count": 15,
     "metadata": {},
     "output_type": "execute_result"
    }
   ],
   "source": [
    "bootstrapStatistic"
   ]
  },
  {
   "cell_type": "code",
   "execution_count": 16,
   "id": "united-protocol",
   "metadata": {},
   "outputs": [
    {
     "name": "stderr",
     "output_type": "stream",
     "text": [
      "C:\\Users\\MinhDuc\\anaconda3\\lib\\site-packages\\seaborn\\distributions.py:2557: FutureWarning: `distplot` is a deprecated function and will be removed in a future version. Please adapt your code to use either `displot` (a figure-level function with similar flexibility) or `histplot` (an axes-level function for histograms).\n",
      "  warnings.warn(msg, FutureWarning)\n"
     ]
    },
    {
     "data": {
      "text/plain": [
       "<AxesSubplot:xlabel='Mean', ylabel='Density'>"
      ]
     },
     "execution_count": 16,
     "metadata": {},
     "output_type": "execute_result"
    },
    {
     "data": {
      "image/png": "[encoded data removed]",
      "text/plain": [
       "<Figure size 432x288 with 1 Axes>"
      ]
     },
     "metadata": {
      "needs_background": "light"
     },
     "output_type": "display_data"
    }
   ],
   "source": [
    "sns.distplot(bootstrapStatistic[\"Mean\"])"
   ]
  },
  {
   "cell_type": "code",
   "execution_count": 18,
   "id": "dental-kruger",
   "metadata": {},
   "outputs": [
    {
     "data": {
      "text/plain": [
       "<AxesSubplot:xlabel='Bin', ylabel='Frequency'>"
      ]
     },
     "execution_count": 18,
     "metadata": {},
     "output_type": "execute_result"
    },
    {
     "data": {
      "image/png": "[encoded data removed]",
      "text/plain": [
       "<Figure size 432x288 with 1 Axes>"
      ]
     },
     "metadata": {
      "needs_background": "light"
     },
     "output_type": "display_data"
    }
   ],
   "source": [
    "sns.barplot(x=\"Bin\",y=\"Frequency\",data=meanDistribution)"
   ]
  },
  {
   "cell_type": "code",
   "execution_count": 20,
   "id": "handy-loading",
   "metadata": {},
   "outputs": [
    {
     "data": {
      "text/plain": [
       "<AxesSubplot:xlabel='Bin', ylabel='Probability'>"
      ]
     },
     "execution_count": 20,
     "metadata": {},
     "output_type": "execute_result"
    },
    {
     "data": {
      "image/png": "[encoded data removed]",
      "text/plain": [
       "<Figure size 432x288 with 1 Axes>"
      ]
     },
     "metadata": {
      "needs_background": "light"
     },
     "output_type": "display_data"
    }
   ],
   "source": [
    "sns.barplot(x=\"Bin\",y=\"Probability\",data=meanDistribution)"
   ]
  },
  {
   "cell_type": "code",
   "execution_count": null,
   "id": "incident-brooklyn",
   "metadata": {},
   "outputs": [],
   "source": []
  }
 ],
 "metadata": {
  "kernelspec": {
   "display_name": "Python 3",
   "language": "python",
   "name": "python3"
  },
  "language_info": {
   "codemirror_mode": {
    "name": "ipython",
    "version": 3
   },
   "file_extension": ".py",
   "mimetype": "text/x-python",
   "name": "python",
   "nbconvert_exporter": "python",
   "pygments_lexer": "ipython3",
   "version": "3.8.3"
  }
 },
 "nbformat": 4,
 "nbformat_minor": 5
}
