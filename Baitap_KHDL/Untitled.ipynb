{
 "cells": [
  {
   "cell_type": "code",
   "execution_count": 41,
   "id": "cross-delight",
   "metadata": {},
   "outputs": [],
   "source": [
    "import numpy as np\n",
    "import pandas as pd\n",
    "import seaborn as sns\n",
    "import matplotlib.pyplot as plt"
   ]
  },
  {
   "cell_type": "code",
   "execution_count": 15,
   "id": "random-planet",
   "metadata": {},
   "outputs": [],
   "source": [
    "originalSample=np.array([\n",
    "[81,32,49,54,44,74,98,42,54,51],\n",
    "[69,49,43,5,1,5,35,55,4,20],\n",
    "[25,34,31,65,46,92,2,4,41,38]\n",
    "])\n",
    "originalSample.sort()"
   ]
  },
  {
   "cell_type": "code",
   "execution_count": 3,
   "id": "headed-encyclopedia",
   "metadata": {},
   "outputs": [],
   "source": [
    "def boostrap(originalSample,n,m):\n",
    "    mean=[]\n",
    "    median=[]\n",
    "    IQR=[]\n",
    "    std_deviation=[]\n",
    "    boostrapSamples=[]\n",
    "    for i in range(n):     \n",
    "        tempList=list(originalSample[int(originalSample.shape[0]*np.random.rand())][int(originalSample.shape[1]*np.random.rand())] for i in range(m))\n",
    "        boostrapSamples.append(tempList)\n",
    "        arr=tempList.copy()\n",
    "        arr.sort()\n",
    "        mean.append(sum(arr)/m)\n",
    "        if m%2==0:\n",
    "            md=(arr[int(m/2)]+arr[int(m/2)-1])/2\n",
    "            IQR.append(np.median(arr[int(m/2):])-np.median(arr[:int(m/2)]))\n",
    "        else:\n",
    "            md=arr[int(m/2)]\n",
    "            IQR.append(np.median(arr[int(m/2)+1:])-np.median(arr[:int(m/2)]))\n",
    "        median.append(md)     \n",
    "        std_deviation.append(np.std(arr)) \n",
    "    Bin=[10,20,30,40,50,60,70,80,90,100]\n",
    "    Frequency=[]\n",
    "    Probability=[]\n",
    "    for value in Bin:\n",
    "        Frequency.append(len([i for i in mean if (i>=value-10) and (i<value)]))\n",
    "        Probability.append(round(Frequency[Bin.index(value)]/200,2))\n",
    "    meanDistribution=pd.DataFrame({\"Bin\":Bin,\"Frequency\":Frequency,\"Probability\":Probability})\n",
    "    bootstrapStatistic=pd.DataFrame({\"Mean\":mean,\"Median\":median,\"IQR\":IQR,\"std deviation\":std_deviation}) \n",
    "    return boostrapSamples,meanDistribution,bootstrapStatistic"
   ]
  },
  {
   "cell_type": "code",
   "execution_count": 4,
   "id": "printable-hindu",
   "metadata": {},
   "outputs": [],
   "source": [
    "boostrapSamples,meanDistribution,bootstrapStatistic=boostrap(originalSample,200,10)"
   ]
  },
  {
   "cell_type": "code",
   "execution_count": 5,
   "id": "imported-subsection",
   "metadata": {},
   "outputs": [
    {
     "data": {
      "text/html": [
       "<div>\n",
       "<style scoped>\n",
       "    .dataframe tbody tr th:only-of-type {\n",
       "        vertical-align: middle;\n",
       "    }\n",
       "\n",
       "    .dataframe tbody tr th {\n",
       "        vertical-align: top;\n",
       "    }\n",
       "\n",
       "    .dataframe thead th {\n",
       "        text-align: right;\n",
       "    }\n",
       "</style>\n",
       "<table border=\"1\" class=\"dataframe\">\n",
       "  <thead>\n",
       "    <tr style=\"text-align: right;\">\n",
       "      <th></th>\n",
       "      <th>Bin</th>\n",
       "      <th>Frequency</th>\n",
       "      <th>Probability</th>\n",
       "    </tr>\n",
       "  </thead>\n",
       "  <tbody>\n",
       "    <tr>\n",
       "      <th>0</th>\n",
       "      <td>10</td>\n",
       "      <td>0</td>\n",
       "      <td>0.00</td>\n",
       "    </tr>\n",
       "    <tr>\n",
       "      <th>1</th>\n",
       "      <td>20</td>\n",
       "      <td>0</td>\n",
       "      <td>0.00</td>\n",
       "    </tr>\n",
       "    <tr>\n",
       "      <th>2</th>\n",
       "      <td>30</td>\n",
       "      <td>13</td>\n",
       "      <td>0.07</td>\n",
       "    </tr>\n",
       "    <tr>\n",
       "      <th>3</th>\n",
       "      <td>40</td>\n",
       "      <td>74</td>\n",
       "      <td>0.37</td>\n",
       "    </tr>\n",
       "    <tr>\n",
       "      <th>4</th>\n",
       "      <td>50</td>\n",
       "      <td>85</td>\n",
       "      <td>0.42</td>\n",
       "    </tr>\n",
       "    <tr>\n",
       "      <th>5</th>\n",
       "      <td>60</td>\n",
       "      <td>25</td>\n",
       "      <td>0.12</td>\n",
       "    </tr>\n",
       "    <tr>\n",
       "      <th>6</th>\n",
       "      <td>70</td>\n",
       "      <td>3</td>\n",
       "      <td>0.01</td>\n",
       "    </tr>\n",
       "    <tr>\n",
       "      <th>7</th>\n",
       "      <td>80</td>\n",
       "      <td>0</td>\n",
       "      <td>0.00</td>\n",
       "    </tr>\n",
       "    <tr>\n",
       "      <th>8</th>\n",
       "      <td>90</td>\n",
       "      <td>0</td>\n",
       "      <td>0.00</td>\n",
       "    </tr>\n",
       "    <tr>\n",
       "      <th>9</th>\n",
       "      <td>100</td>\n",
       "      <td>0</td>\n",
       "      <td>0.00</td>\n",
       "    </tr>\n",
       "  </tbody>\n",
       "</table>\n",
       "</div>"
      ],
      "text/plain": [
       "   Bin  Frequency  Probability\n",
       "0   10          0         0.00\n",
       "1   20          0         0.00\n",
       "2   30         13         0.07\n",
       "3   40         74         0.37\n",
       "4   50         85         0.42\n",
       "5   60         25         0.12\n",
       "6   70          3         0.01\n",
       "7   80          0         0.00\n",
       "8   90          0         0.00\n",
       "9  100          0         0.00"
      ]
     },
     "execution_count": 5,
     "metadata": {},
     "output_type": "execute_result"
    }
   ],
   "source": [
    "meanDistribution"
   ]
  },
  {
   "cell_type": "code",
   "execution_count": 6,
   "id": "vocal-conservative",
   "metadata": {},
   "outputs": [
    {
     "data": {
      "text/html": [
       "<div>\n",
       "<style scoped>\n",
       "    .dataframe tbody tr th:only-of-type {\n",
       "        vertical-align: middle;\n",
       "    }\n",
       "\n",
       "    .dataframe tbody tr th {\n",
       "        vertical-align: top;\n",
       "    }\n",
       "\n",
       "    .dataframe thead th {\n",
       "        text-align: right;\n",
       "    }\n",
       "</style>\n",
       "<table border=\"1\" class=\"dataframe\">\n",
       "  <thead>\n",
       "    <tr style=\"text-align: right;\">\n",
       "      <th></th>\n",
       "      <th>Mean</th>\n",
       "      <th>Median</th>\n",
       "      <th>IQR</th>\n",
       "      <th>std deviation</th>\n",
       "    </tr>\n",
       "  </thead>\n",
       "  <tbody>\n",
       "    <tr>\n",
       "      <th>0</th>\n",
       "      <td>39.2</td>\n",
       "      <td>45.0</td>\n",
       "      <td>16.0</td>\n",
       "      <td>19.363884</td>\n",
       "    </tr>\n",
       "    <tr>\n",
       "      <th>1</th>\n",
       "      <td>30.3</td>\n",
       "      <td>25.5</td>\n",
       "      <td>39.0</td>\n",
       "      <td>26.977954</td>\n",
       "    </tr>\n",
       "    <tr>\n",
       "      <th>2</th>\n",
       "      <td>47.5</td>\n",
       "      <td>54.5</td>\n",
       "      <td>17.0</td>\n",
       "      <td>26.837474</td>\n",
       "    </tr>\n",
       "    <tr>\n",
       "      <th>3</th>\n",
       "      <td>39.4</td>\n",
       "      <td>36.0</td>\n",
       "      <td>17.0</td>\n",
       "      <td>25.699027</td>\n",
       "    </tr>\n",
       "    <tr>\n",
       "      <th>4</th>\n",
       "      <td>34.5</td>\n",
       "      <td>38.5</td>\n",
       "      <td>45.0</td>\n",
       "      <td>29.506779</td>\n",
       "    </tr>\n",
       "    <tr>\n",
       "      <th>...</th>\n",
       "      <td>...</td>\n",
       "      <td>...</td>\n",
       "      <td>...</td>\n",
       "      <td>...</td>\n",
       "    </tr>\n",
       "    <tr>\n",
       "      <th>195</th>\n",
       "      <td>38.1</td>\n",
       "      <td>44.5</td>\n",
       "      <td>23.0</td>\n",
       "      <td>20.997381</td>\n",
       "    </tr>\n",
       "    <tr>\n",
       "      <th>196</th>\n",
       "      <td>44.7</td>\n",
       "      <td>41.0</td>\n",
       "      <td>70.0</td>\n",
       "      <td>36.417166</td>\n",
       "    </tr>\n",
       "    <tr>\n",
       "      <th>197</th>\n",
       "      <td>40.6</td>\n",
       "      <td>43.5</td>\n",
       "      <td>49.0</td>\n",
       "      <td>30.774015</td>\n",
       "    </tr>\n",
       "    <tr>\n",
       "      <th>198</th>\n",
       "      <td>45.1</td>\n",
       "      <td>48.5</td>\n",
       "      <td>44.0</td>\n",
       "      <td>25.489017</td>\n",
       "    </tr>\n",
       "    <tr>\n",
       "      <th>199</th>\n",
       "      <td>43.6</td>\n",
       "      <td>49.0</td>\n",
       "      <td>17.0</td>\n",
       "      <td>20.572798</td>\n",
       "    </tr>\n",
       "  </tbody>\n",
       "</table>\n",
       "<p>200 rows × 4 columns</p>\n",
       "</div>"
      ],
      "text/plain": [
       "     Mean  Median   IQR  std deviation\n",
       "0    39.2    45.0  16.0      19.363884\n",
       "1    30.3    25.5  39.0      26.977954\n",
       "2    47.5    54.5  17.0      26.837474\n",
       "3    39.4    36.0  17.0      25.699027\n",
       "4    34.5    38.5  45.0      29.506779\n",
       "..    ...     ...   ...            ...\n",
       "195  38.1    44.5  23.0      20.997381\n",
       "196  44.7    41.0  70.0      36.417166\n",
       "197  40.6    43.5  49.0      30.774015\n",
       "198  45.1    48.5  44.0      25.489017\n",
       "199  43.6    49.0  17.0      20.572798\n",
       "\n",
       "[200 rows x 4 columns]"
      ]
     },
     "execution_count": 6,
     "metadata": {},
     "output_type": "execute_result"
    }
   ],
   "source": [
    "bootstrapStatistic"
   ]
  },
  {
   "cell_type": "code",
   "execution_count": 7,
   "id": "corresponding-birmingham",
   "metadata": {},
   "outputs": [
    {
     "data": {
      "text/plain": [
       "[[51, 5, 51, 44, 35, 46, 51, 5, 69, 35],\n",
       " [44, 42, 81, 69, 5, 5, 31, 1, 5, 20],\n",
       " [2, 55, 44, 5, 98, 38, 69, 54, 55, 55],\n",
       " [32, 5, 34, 49, 1, 34, 38, 98, 54, 49],\n",
       " [92, 42, 49, 44, 4, 35, 1, 5, 69, 4],\n",
       " [31, 25, 51, 4, 5, 2, 34, 25, 98, 31],\n",
       " [44, 55, 35, 51, 42, 74, 46, 32, 74, 98],\n",
       " [41, 5, 5, 42, 51, 49, 35, 98, 1, 32],\n",
       " [65, 81, 4, 49, 98, 25, 51, 54, 38, 46],\n",
       " [34, 25, 42, 46, 38, 65, 42, 65, 49, 34],\n",
       " [35, 69, 5, 65, 65, 25, 25, 65, 69, 25],\n",
       " [74, 43, 69, 69, 74, 43, 32, 49, 92, 34],\n",
       " [81, 38, 1, 46, 4, 20, 51, 51, 34, 51],\n",
       " [65, 42, 54, 49, 41, 32, 69, 1, 25, 43],\n",
       " [38, 54, 51, 41, 4, 5, 54, 41, 5, 49],\n",
       " [42, 4, 54, 49, 43, 49, 31, 38, 31, 49],\n",
       " [49, 98, 38, 4, 32, 49, 20, 44, 1, 54],\n",
       " [69, 55, 49, 34, 1, 42, 35, 69, 46, 20],\n",
       " [4, 81, 69, 1, 51, 46, 41, 92, 5, 32],\n",
       " [65, 31, 54, 25, 34, 34, 98, 44, 5, 38],\n",
       " [38, 74, 54, 46, 34, 98, 51, 2, 42, 2],\n",
       " [5, 25, 4, 65, 43, 20, 65, 34, 2, 74],\n",
       " [43, 2, 54, 32, 41, 49, 20, 4, 69, 54],\n",
       " [41, 4, 55, 51, 35, 31, 46, 25, 98, 34],\n",
       " [46, 54, 65, 4, 55, 43, 4, 54, 2, 41],\n",
       " [35, 25, 98, 42, 34, 32, 51, 43, 2, 1],\n",
       " [69, 51, 5, 54, 65, 43, 65, 25, 42, 54],\n",
       " [41, 65, 43, 49, 54, 49, 69, 81, 5, 54],\n",
       " [4, 65, 49, 4, 5, 1, 31, 41, 20, 65],\n",
       " [55, 25, 2, 44, 35, 92, 43, 2, 44, 2],\n",
       " [43, 2, 98, 38, 98, 5, 44, 25, 81, 65],\n",
       " [54, 92, 65, 34, 46, 65, 51, 20, 54, 32],\n",
       " [43, 31, 65, 44, 4, 54, 20, 41, 43, 54],\n",
       " [55, 46, 69, 25, 55, 41, 5, 1, 49, 51],\n",
       " [42, 55, 43, 34, 38, 38, 49, 51, 2, 41],\n",
       " [41, 35, 49, 54, 46, 25, 81, 32, 4, 49],\n",
       " [41, 4, 5, 44, 41, 92, 98, 74, 51, 31],\n",
       " [43, 54, 81, 32, 49, 20, 92, 25, 38, 81],\n",
       " [49, 44, 49, 2, 41, 4, 65, 74, 74, 31],\n",
       " [92, 5, 55, 43, 4, 92, 41, 44, 4, 25],\n",
       " [54, 5, 54, 31, 54, 5, 2, 98, 2, 35],\n",
       " [35, 4, 69, 4, 65, 43, 43, 49, 4, 51],\n",
       " [5, 35, 5, 74, 49, 65, 44, 55, 46, 25],\n",
       " [74, 25, 44, 4, 38, 38, 46, 81, 5, 2],\n",
       " [4, 41, 81, 38, 98, 49, 5, 69, 4, 92],\n",
       " [38, 44, 54, 32, 5, 32, 4, 44, 44, 5],\n",
       " [38, 65, 35, 51, 20, 54, 42, 69, 69, 31],\n",
       " [69, 2, 31, 25, 49, 43, 25, 81, 74, 4],\n",
       " [32, 51, 51, 46, 5, 41, 20, 5, 74, 4],\n",
       " [25, 31, 2, 74, 46, 54, 49, 41, 69, 65],\n",
       " [69, 54, 41, 54, 25, 34, 35, 35, 65, 69],\n",
       " [98, 5, 32, 42, 2, 98, 43, 49, 5, 5],\n",
       " [81, 54, 43, 81, 44, 54, 2, 46, 31, 4],\n",
       " [5, 65, 1, 49, 5, 41, 65, 44, 55, 35],\n",
       " [35, 4, 98, 42, 49, 81, 35, 2, 38, 74],\n",
       " [4, 2, 41, 4, 4, 4, 49, 43, 31, 20],\n",
       " [2, 20, 41, 74, 20, 55, 25, 4, 2, 54],\n",
       " [98, 5, 98, 49, 55, 25, 43, 4, 55, 44],\n",
       " [54, 92, 31, 98, 51, 49, 20, 32, 31, 49],\n",
       " [55, 42, 51, 34, 25, 54, 42, 34, 65, 41],\n",
       " [92, 32, 46, 81, 49, 49, 32, 5, 34, 32],\n",
       " [25, 65, 31, 34, 98, 98, 20, 81, 44, 32],\n",
       " [44, 35, 55, 31, 43, 65, 49, 41, 54, 1],\n",
       " [46, 44, 65, 98, 32, 20, 43, 4, 81, 34],\n",
       " [92, 92, 51, 74, 34, 74, 81, 92, 1, 46],\n",
       " [46, 34, 20, 25, 44, 35, 92, 51, 44, 98],\n",
       " [98, 49, 92, 4, 41, 43, 44, 92, 20, 35],\n",
       " [1, 69, 20, 31, 55, 51, 51, 55, 25, 5],\n",
       " [46, 49, 4, 98, 4, 35, 4, 31, 54, 4],\n",
       " [38, 98, 43, 46, 54, 35, 92, 69, 65, 41],\n",
       " [20, 4, 5, 4, 1, 32, 42, 55, 5, 69],\n",
       " [5, 69, 49, 31, 5, 38, 34, 65, 20, 1],\n",
       " [5, 25, 65, 51, 5, 5, 46, 4, 54, 74],\n",
       " [65, 5, 46, 34, 49, 49, 51, 2, 43, 35],\n",
       " [38, 31, 51, 32, 5, 54, 49, 54, 55, 25],\n",
       " [25, 49, 31, 98, 98, 65, 46, 98, 74, 4],\n",
       " [43, 4, 44, 98, 55, 49, 42, 4, 5, 65],\n",
       " [1, 4, 54, 54, 92, 32, 4, 5, 65, 4],\n",
       " [46, 5, 1, 49, 92, 46, 44, 44, 55, 49],\n",
       " [5, 74, 4, 74, 92, 98, 20, 46, 43, 46],\n",
       " [49, 49, 1, 49, 35, 69, 65, 98, 2, 43],\n",
       " [44, 41, 98, 34, 4, 4, 4, 98, 54, 31],\n",
       " [51, 31, 4, 44, 4, 69, 1, 41, 74, 55],\n",
       " [51, 5, 69, 81, 5, 46, 74, 4, 92, 38],\n",
       " [74, 74, 34, 38, 42, 5, 2, 31, 1, 31],\n",
       " [34, 74, 49, 98, 41, 98, 65, 43, 54, 49],\n",
       " [34, 74, 32, 51, 25, 4, 43, 5, 34, 2],\n",
       " [55, 25, 43, 69, 74, 2, 5, 5, 55, 32],\n",
       " [92, 46, 49, 65, 54, 32, 4, 41, 31, 54],\n",
       " [74, 69, 44, 31, 5, 5, 38, 4, 4, 5],\n",
       " [46, 31, 98, 38, 1, 5, 51, 32, 51, 81],\n",
       " [2, 54, 55, 32, 54, 49, 42, 54, 44, 42],\n",
       " [81, 42, 98, 49, 42, 5, 44, 54, 31, 2],\n",
       " [46, 74, 4, 43, 65, 54, 4, 2, 32, 32],\n",
       " [32, 49, 54, 25, 69, 54, 25, 25, 49, 4],\n",
       " [4, 4, 4, 32, 25, 98, 4, 42, 32, 54],\n",
       " [54, 32, 69, 65, 54, 1, 55, 81, 92, 81],\n",
       " [35, 54, 55, 32, 41, 54, 4, 92, 51, 49],\n",
       " [25, 49, 74, 2, 20, 5, 4, 51, 1, 41],\n",
       " [38, 2, 74, 49, 49, 31, 5, 46, 51, 2],\n",
       " [54, 81, 69, 38, 35, 69, 98, 2, 42, 1],\n",
       " [31, 54, 1, 41, 20, 74, 1, 46, 42, 98],\n",
       " [74, 34, 32, 49, 98, 38, 35, 38, 98, 46],\n",
       " [35, 44, 42, 4, 42, 55, 92, 4, 5, 46],\n",
       " [25, 31, 55, 5, 98, 55, 54, 46, 31, 5],\n",
       " [74, 49, 44, 35, 44, 4, 92, 25, 54, 20],\n",
       " [98, 42, 49, 51, 31, 4, 51, 54, 65, 2],\n",
       " [5, 46, 5, 92, 92, 34, 31, 98, 5, 54],\n",
       " [69, 69, 49, 51, 5, 4, 41, 74, 20, 46],\n",
       " [54, 25, 4, 49, 65, 38, 4, 44, 41, 38],\n",
       " [38, 4, 65, 5, 5, 1, 49, 49, 42, 20],\n",
       " [2, 1, 51, 49, 25, 2, 46, 92, 65, 55],\n",
       " [74, 92, 54, 44, 4, 92, 49, 34, 74, 38],\n",
       " [4, 43, 4, 5, 20, 5, 41, 51, 92, 54],\n",
       " [5, 49, 54, 32, 34, 5, 46, 43, 25, 98],\n",
       " [44, 55, 49, 38, 35, 44, 54, 81, 35, 81],\n",
       " [69, 2, 54, 51, 44, 31, 51, 41, 38, 1],\n",
       " [54, 25, 25, 41, 25, 92, 4, 42, 43, 4],\n",
       " [98, 35, 92, 54, 5, 42, 54, 49, 31, 98],\n",
       " [55, 42, 81, 44, 98, 32, 74, 46, 1, 1],\n",
       " [81, 5, 35, 98, 98, 55, 42, 31, 5, 35],\n",
       " [49, 74, 31, 5, 20, 25, 54, 1, 4, 49],\n",
       " [51, 5, 54, 51, 49, 34, 92, 44, 5, 25],\n",
       " [81, 49, 4, 2, 38, 1, 5, 1, 65, 32],\n",
       " [46, 51, 31, 51, 43, 43, 4, 98, 49, 65],\n",
       " [42, 2, 49, 31, 54, 74, 74, 55, 1, 51],\n",
       " [65, 1, 51, 46, 32, 51, 46, 5, 55, 81],\n",
       " [25, 4, 55, 34, 49, 46, 4, 1, 92, 49],\n",
       " [98, 38, 1, 69, 81, 34, 1, 42, 69, 25],\n",
       " [2, 5, 49, 81, 46, 54, 51, 98, 32, 4],\n",
       " [69, 20, 55, 4, 2, 55, 74, 25, 2, 81],\n",
       " [98, 51, 54, 43, 69, 44, 92, 5, 46, 43],\n",
       " [32, 54, 65, 1, 35, 43, 41, 55, 92, 20],\n",
       " [41, 4, 69, 31, 5, 92, 44, 4, 92, 35],\n",
       " [51, 55, 38, 43, 4, 20, 98, 5, 41, 74],\n",
       " [34, 43, 41, 54, 32, 34, 35, 38, 74, 74],\n",
       " [5, 46, 2, 49, 32, 44, 5, 65, 41, 74],\n",
       " [49, 4, 1, 49, 65, 38, 49, 69, 41, 2],\n",
       " [1, 74, 32, 55, 2, 32, 35, 5, 1, 49],\n",
       " [51, 41, 20, 34, 1, 32, 41, 65, 5, 2],\n",
       " [42, 35, 5, 4, 34, 69, 51, 46, 44, 44],\n",
       " [38, 41, 32, 54, 54, 81, 81, 38, 54, 69],\n",
       " [41, 44, 5, 49, 74, 43, 81, 32, 51, 44],\n",
       " [49, 5, 31, 20, 65, 41, 2, 74, 44, 74],\n",
       " [81, 31, 20, 5, 31, 92, 31, 41, 44, 1],\n",
       " [51, 49, 34, 35, 4, 4, 35, 49, 41, 31],\n",
       " [74, 5, 5, 46, 43, 1, 5, 81, 25, 32],\n",
       " [49, 81, 35, 46, 42, 31, 55, 46, 65, 25],\n",
       " [41, 31, 51, 32, 4, 49, 5, 32, 5, 55],\n",
       " [44, 44, 1, 4, 49, 42, 54, 74, 1, 41],\n",
       " [42, 42, 4, 65, 38, 42, 55, 35, 34, 1],\n",
       " [51, 54, 4, 1, 2, 20, 81, 81, 46, 74],\n",
       " [49, 34, 34, 43, 74, 32, 1, 49, 5, 32],\n",
       " [74, 25, 92, 4, 54, 92, 2, 5, 44, 32],\n",
       " [5, 31, 51, 43, 2, 38, 31, 43, 65, 54],\n",
       " [5, 81, 4, 44, 69, 34, 25, 25, 81, 42],\n",
       " [69, 38, 34, 2, 54, 98, 49, 65, 35, 5],\n",
       " [25, 42, 4, 98, 25, 35, 41, 20, 98, 51],\n",
       " [38, 4, 92, 1, 92, 20, 55, 20, 41, 46],\n",
       " [31, 1, 49, 54, 41, 4, 49, 44, 5, 25],\n",
       " [42, 5, 42, 98, 1, 81, 32, 92, 25, 54],\n",
       " [5, 54, 41, 51, 46, 55, 2, 65, 4, 2],\n",
       " [98, 31, 31, 1, 4, 44, 31, 74, 49, 65],\n",
       " [25, 4, 43, 65, 49, 98, 31, 51, 34, 46],\n",
       " [98, 46, 92, 92, 65, 5, 81, 55, 54, 46],\n",
       " [5, 43, 46, 65, 92, 38, 92, 44, 92, 32],\n",
       " [31, 55, 44, 5, 43, 25, 44, 54, 74, 32],\n",
       " [42, 65, 43, 4, 43, 51, 38, 34, 54, 5],\n",
       " [2, 98, 54, 20, 69, 2, 51, 55, 54, 43],\n",
       " [46, 42, 54, 35, 81, 41, 74, 35, 5, 49],\n",
       " [98, 4, 81, 4, 65, 4, 2, 65, 2, 74],\n",
       " [2, 54, 2, 43, 42, 5, 92, 32, 1, 38],\n",
       " [25, 20, 74, 74, 42, 2, 34, 5, 5, 34],\n",
       " [20, 5, 38, 25, 5, 35, 54, 74, 25, 92],\n",
       " [1, 4, 74, 54, 4, 4, 49, 25, 4, 69],\n",
       " [92, 35, 49, 74, 98, 41, 25, 54, 54, 5],\n",
       " [51, 4, 43, 41, 42, 5, 46, 34, 49, 69],\n",
       " [55, 69, 5, 1, 54, 5, 69, 54, 41, 74],\n",
       " [4, 46, 41, 44, 31, 54, 38, 25, 31, 4],\n",
       " [49, 5, 25, 74, 20, 81, 42, 1, 54, 69],\n",
       " [51, 92, 4, 41, 5, 5, 49, 38, 4, 35],\n",
       " [20, 74, 41, 32, 49, 34, 34, 46, 65, 54],\n",
       " [1, 25, 43, 69, 32, 2, 55, 34, 54, 5],\n",
       " [41, 98, 4, 65, 49, 44, 54, 32, 41, 54],\n",
       " [42, 20, 38, 1, 5, 81, 43, 38, 5, 55],\n",
       " [43, 5, 51, 35, 65, 74, 43, 38, 69, 65],\n",
       " [92, 65, 31, 55, 2, 34, 69, 43, 35, 51],\n",
       " [69, 92, 32, 49, 49, 55, 5, 38, 42, 25],\n",
       " [44, 55, 5, 69, 54, 5, 5, 49, 54, 54],\n",
       " [98, 5, 4, 41, 65, 54, 65, 92, 35, 38],\n",
       " [46, 92, 54, 55, 38, 42, 31, 54, 51, 44],\n",
       " [43, 25, 46, 49, 44, 51, 81, 92, 41, 44],\n",
       " [5, 81, 34, 46, 69, 92, 74, 54, 54, 34],\n",
       " [42, 1, 20, 4, 1, 54, 32, 5, 98, 1],\n",
       " [46, 49, 81, 81, 65, 81, 5, 41, 1, 55],\n",
       " [54, 1, 43, 54, 1, 46, 54, 65, 31, 32],\n",
       " [98, 1, 1, 38, 20, 44, 74, 98, 69, 4],\n",
       " [5, 51, 20, 54, 81, 98, 5, 41, 5, 46],\n",
       " [55, 38, 74, 74, 42, 65, 5, 69, 25, 4],\n",
       " [20, 49, 38, 51, 69, 1, 34, 49, 51, 74]]"
      ]
     },
     "execution_count": 7,
     "metadata": {},
     "output_type": "execute_result"
    }
   ],
   "source": [
    "boostrapSamples"
   ]
  },
  {
   "cell_type": "code",
   "execution_count": 54,
   "id": "united-protocol",
   "metadata": {},
   "outputs": [
    {
     "data": {
      "text/plain": [
       "<AxesSubplot:xlabel='Bin', ylabel='Probability'>"
      ]
     },
     "execution_count": 54,
     "metadata": {},
     "output_type": "execute_result"
    },
    {
     "data": {
      "image/png": "[encoded data removed]",
      "text/plain": [
       "<Figure size 432x288 with 1 Axes>"
      ]
     },
     "metadata": {
      "needs_background": "light"
     },
     "output_type": "display_data"
    }
   ],
   "source": [
    "sns.histplot(data = meanDistribution, x = \"Bin\",y=\"Probability\")"
   ]
  },
  {
   "cell_type": "code",
   "execution_count": 59,
   "id": "dental-kruger",
   "metadata": {},
   "outputs": [
    {
     "data": {
      "text/plain": [
       "<AxesSubplot:xlabel='Bin', ylabel='Frequency'>"
      ]
     },
     "execution_count": 59,
     "metadata": {},
     "output_type": "execute_result"
    },
    {
     "data": {
      "image/png": "[encoded data removed]",
      "text/plain": [
       "<Figure size 432x288 with 1 Axes>"
      ]
     },
     "metadata": {
      "needs_background": "light"
     },
     "output_type": "display_data"
    }
   ],
   "source": [
    "sns.barplot(x=\"Bin\",y=\"Frequency\",data=meanDistribution)"
   ]
  },
  {
   "cell_type": "code",
   "execution_count": 60,
   "id": "aggregate-sugar",
   "metadata": {},
   "outputs": [
    {
     "data": {
      "text/plain": [
       "[<matplotlib.lines.Line2D at 0x26d66d39d00>]"
      ]
     },
     "execution_count": 60,
     "metadata": {},
     "output_type": "execute_result"
    },
    {
     "data": {
      "image/png": "[encoded data removed]",
      "text/plain": [
       "<Figure size 432x288 with 1 Axes>"
      ]
     },
     "metadata": {
      "needs_background": "light"
     },
     "output_type": "display_data"
    }
   ],
   "source": [
    "\n",
    "plt.plot(meanDistribution[\"Bin\"],meanDistribution[\"Probability\"])"
   ]
  },
  {
   "cell_type": "code",
   "execution_count": 58,
   "id": "handy-loading",
   "metadata": {},
   "outputs": [
    {
     "data": {
      "text/plain": [
       "<AxesSubplot:xlabel='Bin', ylabel='Probability'>"
      ]
     },
     "execution_count": 58,
     "metadata": {},
     "output_type": "execute_result"
    },
    {
     "data": {
      "image/png": "[encoded data removed]",
      "text/plain": [
       "<Figure size 432x288 with 1 Axes>"
      ]
     },
     "metadata": {
      "needs_background": "light"
     },
     "output_type": "display_data"
    }
   ],
   "source": [
    "sns.barplot(x=\"Bin\",y=\"Probability\",data=meanDistribution)"
   ]
  },
  {
   "cell_type": "code",
   "execution_count": 99,
   "id": "capital-saskatchewan",
   "metadata": {},
   "outputs": [
    {
     "data": {
      "image/png": "[encoded data removed]",
      "text/plain": [
       "<Figure size 864x576 with 1 Axes>"
      ]
     },
     "metadata": {
      "needs_background": "light"
     },
     "output_type": "display_data"
    }
   ],
   "source": [
    "fig = plt.figure(figsize=(12,8))\n",
    "ax = fig.add_axes([0,0,1,1])\n",
    "ax.plot(meanDistribution[\"Bin\"],meanDistribution[\"Probability\"],\"black\",lw=3)\n",
    "ax.bar(meanDistribution[\"Bin\"],meanDistribution[\"Probability\"],width=8)\n",
    "plt.show()"
   ]
  },
  {
   "cell_type": "code",
   "execution_count": null,
   "id": "thorough-inspiration",
   "metadata": {},
   "outputs": [],
   "source": []
  }
 ],
 "metadata": {
  "kernelspec": {
   "display_name": "Python 3",
   "language": "python",
   "name": "python3"
  },
  "language_info": {
   "codemirror_mode": {
    "name": "ipython",
    "version": 3
   },
   "file_extension": ".py",
   "mimetype": "text/x-python",
   "name": "python",
   "nbconvert_exporter": "python",
   "pygments_lexer": "ipython3",
   "version": "3.8.3"
  }
 },
 "nbformat": 4,
 "nbformat_minor": 5
}
