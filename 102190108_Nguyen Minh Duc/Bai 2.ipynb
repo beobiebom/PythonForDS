{
 "cells": [
  {
   "cell_type": "code",
   "execution_count": 36,
   "id": "abandoned-remove",
   "metadata": {},
   "outputs": [],
   "source": [
    "from random import random\n",
    "import pandas as pd"
   ]
  },
  {
   "cell_type": "code",
   "execution_count": 3,
   "id": "editorial-mainland",
   "metadata": {},
   "outputs": [],
   "source": [
    "realList=list(random() for i in range(1000))"
   ]
  },
  {
   "cell_type": "markdown",
   "id": "rapid-announcement",
   "metadata": {},
   "source": [
    "# a"
   ]
  },
  {
   "cell_type": "code",
   "execution_count": 27,
   "id": "separated-patent",
   "metadata": {},
   "outputs": [
    {
     "name": "stdout",
     "output_type": "stream",
     "text": [
      "0.6062565835267697\n",
      "0.6286140731260982\n",
      "0.08571826829479123\n",
      "0.42352631209399716\n",
      "0.09459715966022053\n",
      "0.7416660322076707\n",
      "0.4067343711520237\n",
      "0.26467221279454456\n",
      "0.43938190651058473\n",
      "0.8559165659387384\n"
     ]
    }
   ],
   "source": [
    "for i in range(10):\n",
    "    print(realList[i])"
   ]
  },
  {
   "cell_type": "markdown",
   "id": "fundamental-caution",
   "metadata": {},
   "source": [
    "# b"
   ]
  },
  {
   "cell_type": "code",
   "execution_count": 13,
   "id": "renewable-camcorder",
   "metadata": {},
   "outputs": [],
   "source": [
    "realList2=realList.copy()"
   ]
  },
  {
   "cell_type": "code",
   "execution_count": 16,
   "id": "aggregate-passage",
   "metadata": {},
   "outputs": [],
   "source": [
    "realList2.sort()"
   ]
  },
  {
   "cell_type": "code",
   "execution_count": 19,
   "id": "expired-interest",
   "metadata": {},
   "outputs": [],
   "source": [
    "median=(realList2[int(1000/2)-1]+realList2[int(1000/2)])/2"
   ]
  },
  {
   "cell_type": "code",
   "execution_count": 28,
   "id": "acting-diagnosis",
   "metadata": {},
   "outputs": [
    {
     "name": "stdout",
     "output_type": "stream",
     "text": [
      "So nho nhat cua du lieu tren la: 4.36543516659782e-05\n"
     ]
    }
   ],
   "source": [
    "print(f\"So nho nhat cua du lieu tren la: {min(realList)}\")"
   ]
  },
  {
   "cell_type": "code",
   "execution_count": 61,
   "id": "taken-needle",
   "metadata": {},
   "outputs": [
    {
     "name": "stdout",
     "output_type": "stream",
     "text": [
      "So lon nhat cua du lieu tren la: 0.9991623608999133\n"
     ]
    }
   ],
   "source": [
    "print(f\"So lon nhat cua du lieu tren la: {max(realList)}\")"
   ]
  },
  {
   "cell_type": "code",
   "execution_count": 62,
   "id": "understanding-functionality",
   "metadata": {},
   "outputs": [
    {
     "name": "stdout",
     "output_type": "stream",
     "text": [
      "0.6062565835267697\n",
      "0.6286140731260982\n",
      "0.08571826829479123\n",
      "0.42352631209399716\n",
      "0.09459715966022053\n",
      "0.7416660322076707\n",
      "0.4067343711520237\n",
      "0.26467221279454456\n",
      "0.43938190651058473\n",
      "0.8559165659387384\n"
     ]
    }
   ],
   "source": [
    "for i in range(10):\n",
    "    print(realList[i])"
   ]
  },
  {
   "cell_type": "code",
   "execution_count": 30,
   "id": "centered-overview",
   "metadata": {},
   "outputs": [
    {
     "name": "stdout",
     "output_type": "stream",
     "text": [
      "Mean cua du lieu tren la: 0.5033022148146525\n"
     ]
    }
   ],
   "source": [
    "print(f\"Mean cua du lieu tren la: {sum(realList)/1000}\")"
   ]
  },
  {
   "cell_type": "code",
   "execution_count": 31,
   "id": "monetary-petite",
   "metadata": {},
   "outputs": [
    {
     "name": "stdout",
     "output_type": "stream",
     "text": [
      "Median cua du lieu tren la: 0.5047205242631134 \n"
     ]
    }
   ],
   "source": [
    "print(f\"Median cua du lieu tren la: {median} \")"
   ]
  },
  {
   "cell_type": "markdown",
   "id": "attended-carpet",
   "metadata": {},
   "source": [
    "# c"
   ]
  },
  {
   "cell_type": "code",
   "execution_count": 67,
   "id": "incident-movement",
   "metadata": {},
   "outputs": [],
   "source": [
    "def frequencyTable():\n",
    "    BinNumber=list(range(1,21))\n",
    "    m=(realList2[999]-realList2[0])/20\n",
    "    BinRange=[str(realList2[0]+m*(i-1))+\" - \"+str(realList2[0]+m*i) for i in range(1,20)]\n",
    "    BinRange.append(str(realList2[0]+m*(20-1))+\" - \"+str(realList2[999]))\n",
    "    Count=[]\n",
    "    for x in BinRange:\n",
    "        MIN=float(x.split(\" - \")[0])\n",
    "        MAX=float(x.split(\" - \")[1])\n",
    "        Count.append(len([i for i in realList2 if (i>=MIN) & (i<MAX)]))\n",
    "    data={\"BinNumber\":BinNumber,\"BinRange\":BinRange,\"Count\":Count}\n",
    "    df=pd.DataFrame(data)\n",
    "    return df"
   ]
  },
  {
   "cell_type": "code",
   "execution_count": 68,
   "id": "first-tomorrow",
   "metadata": {},
   "outputs": [],
   "source": [
    "df=frequencyTable()"
   ]
  },
  {
   "cell_type": "code",
   "execution_count": 69,
   "id": "prime-gamma",
   "metadata": {},
   "outputs": [
    {
     "data": {
      "text/html": [
       "<div>\n",
       "<style scoped>\n",
       "    .dataframe tbody tr th:only-of-type {\n",
       "        vertical-align: middle;\n",
       "    }\n",
       "\n",
       "    .dataframe tbody tr th {\n",
       "        vertical-align: top;\n",
       "    }\n",
       "\n",
       "    .dataframe thead th {\n",
       "        text-align: right;\n",
       "    }\n",
       "</style>\n",
       "<table border=\"1\" class=\"dataframe\">\n",
       "  <thead>\n",
       "    <tr style=\"text-align: right;\">\n",
       "      <th></th>\n",
       "      <th>BinNumber</th>\n",
       "      <th>BinRange</th>\n",
       "      <th>Count</th>\n",
       "    </tr>\n",
       "  </thead>\n",
       "  <tbody>\n",
       "    <tr>\n",
       "      <th>0</th>\n",
       "      <td>1</td>\n",
       "      <td>4.36543516659782e-05 - 0.049999589679078346</td>\n",
       "      <td>50</td>\n",
       "    </tr>\n",
       "    <tr>\n",
       "      <th>1</th>\n",
       "      <td>2</td>\n",
       "      <td>0.049999589679078346 - 0.09995552500649071</td>\n",
       "      <td>47</td>\n",
       "    </tr>\n",
       "    <tr>\n",
       "      <th>2</th>\n",
       "      <td>3</td>\n",
       "      <td>0.09995552500649071 - 0.14991146033390307</td>\n",
       "      <td>51</td>\n",
       "    </tr>\n",
       "    <tr>\n",
       "      <th>3</th>\n",
       "      <td>4</td>\n",
       "      <td>0.14991146033390307 - 0.19986739566131545</td>\n",
       "      <td>42</td>\n",
       "    </tr>\n",
       "    <tr>\n",
       "      <th>4</th>\n",
       "      <td>5</td>\n",
       "      <td>0.19986739566131545 - 0.24982333098872783</td>\n",
       "      <td>49</td>\n",
       "    </tr>\n",
       "    <tr>\n",
       "      <th>5</th>\n",
       "      <td>6</td>\n",
       "      <td>0.24982333098872783 - 0.29977926631614016</td>\n",
       "      <td>53</td>\n",
       "    </tr>\n",
       "    <tr>\n",
       "      <th>6</th>\n",
       "      <td>7</td>\n",
       "      <td>0.29977926631614016 - 0.34973520164355254</td>\n",
       "      <td>52</td>\n",
       "    </tr>\n",
       "    <tr>\n",
       "      <th>7</th>\n",
       "      <td>8</td>\n",
       "      <td>0.34973520164355254 - 0.3996911369709649</td>\n",
       "      <td>42</td>\n",
       "    </tr>\n",
       "    <tr>\n",
       "      <th>8</th>\n",
       "      <td>9</td>\n",
       "      <td>0.3996911369709649 - 0.4496470722983773</td>\n",
       "      <td>54</td>\n",
       "    </tr>\n",
       "    <tr>\n",
       "      <th>9</th>\n",
       "      <td>10</td>\n",
       "      <td>0.4496470722983773 - 0.4996030076257897</td>\n",
       "      <td>54</td>\n",
       "    </tr>\n",
       "    <tr>\n",
       "      <th>10</th>\n",
       "      <td>11</td>\n",
       "      <td>0.4996030076257897 - 0.5495589429532021</td>\n",
       "      <td>54</td>\n",
       "    </tr>\n",
       "    <tr>\n",
       "      <th>11</th>\n",
       "      <td>12</td>\n",
       "      <td>0.5495589429532021 - 0.5995148782806143</td>\n",
       "      <td>53</td>\n",
       "    </tr>\n",
       "    <tr>\n",
       "      <th>12</th>\n",
       "      <td>13</td>\n",
       "      <td>0.5995148782806143 - 0.6494708136080267</td>\n",
       "      <td>55</td>\n",
       "    </tr>\n",
       "    <tr>\n",
       "      <th>13</th>\n",
       "      <td>14</td>\n",
       "      <td>0.6494708136080267 - 0.6994267489354391</td>\n",
       "      <td>42</td>\n",
       "    </tr>\n",
       "    <tr>\n",
       "      <th>14</th>\n",
       "      <td>15</td>\n",
       "      <td>0.6994267489354391 - 0.7493826842628515</td>\n",
       "      <td>54</td>\n",
       "    </tr>\n",
       "    <tr>\n",
       "      <th>15</th>\n",
       "      <td>16</td>\n",
       "      <td>0.7493826842628515 - 0.7993386195902639</td>\n",
       "      <td>42</td>\n",
       "    </tr>\n",
       "    <tr>\n",
       "      <th>16</th>\n",
       "      <td>17</td>\n",
       "      <td>0.7993386195902639 - 0.8492945549176762</td>\n",
       "      <td>56</td>\n",
       "    </tr>\n",
       "    <tr>\n",
       "      <th>17</th>\n",
       "      <td>18</td>\n",
       "      <td>0.8492945549176762 - 0.8992504902450886</td>\n",
       "      <td>57</td>\n",
       "    </tr>\n",
       "    <tr>\n",
       "      <th>18</th>\n",
       "      <td>19</td>\n",
       "      <td>0.8992504902450886 - 0.949206425572501</td>\n",
       "      <td>46</td>\n",
       "    </tr>\n",
       "    <tr>\n",
       "      <th>19</th>\n",
       "      <td>20</td>\n",
       "      <td>0.949206425572501 - 0.9991623608999133</td>\n",
       "      <td>46</td>\n",
       "    </tr>\n",
       "  </tbody>\n",
       "</table>\n",
       "</div>"
      ],
      "text/plain": [
       "    BinNumber                                     BinRange  Count\n",
       "0           1  4.36543516659782e-05 - 0.049999589679078346     50\n",
       "1           2   0.049999589679078346 - 0.09995552500649071     47\n",
       "2           3    0.09995552500649071 - 0.14991146033390307     51\n",
       "3           4    0.14991146033390307 - 0.19986739566131545     42\n",
       "4           5    0.19986739566131545 - 0.24982333098872783     49\n",
       "5           6    0.24982333098872783 - 0.29977926631614016     53\n",
       "6           7    0.29977926631614016 - 0.34973520164355254     52\n",
       "7           8     0.34973520164355254 - 0.3996911369709649     42\n",
       "8           9      0.3996911369709649 - 0.4496470722983773     54\n",
       "9          10      0.4496470722983773 - 0.4996030076257897     54\n",
       "10         11      0.4996030076257897 - 0.5495589429532021     54\n",
       "11         12      0.5495589429532021 - 0.5995148782806143     53\n",
       "12         13      0.5995148782806143 - 0.6494708136080267     55\n",
       "13         14      0.6494708136080267 - 0.6994267489354391     42\n",
       "14         15      0.6994267489354391 - 0.7493826842628515     54\n",
       "15         16      0.7493826842628515 - 0.7993386195902639     42\n",
       "16         17      0.7993386195902639 - 0.8492945549176762     56\n",
       "17         18      0.8492945549176762 - 0.8992504902450886     57\n",
       "18         19       0.8992504902450886 - 0.949206425572501     46\n",
       "19         20       0.949206425572501 - 0.9991623608999133     46"
      ]
     },
     "execution_count": 69,
     "metadata": {},
     "output_type": "execute_result"
    }
   ],
   "source": [
    "df"
   ]
  },
  {
   "cell_type": "markdown",
   "id": "polish-nevada",
   "metadata": {},
   "source": [
    "# d"
   ]
  },
  {
   "cell_type": "code",
   "execution_count": 63,
   "id": "expressed-parallel",
   "metadata": {},
   "outputs": [
    {
     "name": "stdout",
     "output_type": "stream",
     "text": [
      "Tập dữ liệu phân bố tương đối đều\n"
     ]
    }
   ],
   "source": [
    "print(\"Tập dữ liệu phân bố tương đối đều\")"
   ]
  }
 ],
 "metadata": {
  "kernelspec": {
   "display_name": "Python 3",
   "language": "python",
   "name": "python3"
  },
  "language_info": {
   "codemirror_mode": {
    "name": "ipython",
    "version": 3
   },
   "file_extension": ".py",
   "mimetype": "text/x-python",
   "name": "python",
   "nbconvert_exporter": "python",
   "pygments_lexer": "ipython3",
   "version": "3.8.3"
  }
 },
 "nbformat": 4,
 "nbformat_minor": 5
}
